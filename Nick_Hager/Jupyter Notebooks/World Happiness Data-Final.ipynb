{
 "cells": [
  {
   "cell_type": "code",
   "execution_count": 312,
   "metadata": {},
   "outputs": [],
   "source": [
    "import datetime as dt\n",
    "import pandas as pd\n",
    "import numpy as np\n",
    "\n",
    "import plotly.io as pio\n",
    "import plotly.express as px\n",
    "import plotly.graph_objects as go\n",
    "\n",
    "#read your mapbox credentials from creds.py\n",
    "from creds import *\n",
    "\n",
    "px.set_mapbox_access_token(mapbox_access_token)"
   ]
  },
  {
   "cell_type": "code",
   "execution_count": 313,
   "metadata": {},
   "outputs": [],
   "source": [
    "df = pd.read_excel(\"DataPanelWHR2021C2.xls\")\n",
    "df.rename(columns={\"Healthy life expectancy at birth\": \"Healthy life expectancy (Age)\"}, inplace=True)"
   ]
  },
  {
   "cell_type": "markdown",
   "metadata": {},
   "source": [
    "## Figure 1: Countries per Year Visualization ##"
   ]
  },
  {
   "cell_type": "markdown",
   "metadata": {},
   "source": [
    "Start by organizing the data by year using sort_values."
   ]
  },
  {
   "cell_type": "code",
   "execution_count": 120,
   "metadata": {},
   "outputs": [],
   "source": [
    "df_by_year = df.sort_values(\"year\")"
   ]
  },
  {
   "cell_type": "markdown",
   "metadata": {},
   "source": [
    "Create a histogram using plotly express that displays the number of countries with data collected each year."
   ]
  },
  {
   "cell_type": "code",
   "execution_count": 31,
   "metadata": {
    "scrolled": false
   },
   "outputs": [
    {
     "data": {
      "application/vnd.plotly.v1+json": {
       "config": {
        "plotlyServerURL": "https://plot.ly"
       },
       "data": [
        {
         "alignmentgroup": "True",
         "customdata": [
          [
           "year"
          ],
          [
           "year"
          ],
          [
           "year"
          ],
          [
           "year"
          ],
          [
           "year"
          ],
          [
           "year"
          ],
          [
           "year"
          ],
          [
           "year"
          ],
          [
           "year"
          ],
          [
           "year"
          ],
          [
           "year"
          ],
          [
           "year"
          ],
          [
           "year"
          ],
          [
           "year"
          ],
          [
           "year"
          ],
          [
           "year"
          ]
         ],
         "hovertemplate": "year=%{x}<br># of Countries with Data=%{y}<extra></extra>",
         "legendgroup": "year",
         "marker": {
          "color": "#636efa"
         },
         "name": "year",
         "offsetgroup": "year",
         "orientation": "v",
         "showlegend": true,
         "textposition": "auto",
         "type": "bar",
         "x": [
          2017,
          2011,
          2014,
          2019,
          2015,
          2018,
          2016,
          2012,
          2013,
          2010,
          2009,
          2008,
          2007,
          2020,
          2006,
          2005
         ],
         "xaxis": "x",
         "y": [
          147,
          146,
          145,
          144,
          143,
          142,
          142,
          142,
          137,
          124,
          114,
          110,
          102,
          95,
          89,
          27
         ],
         "yaxis": "y"
        }
       ],
       "layout": {
        "barmode": "relative",
        "legend": {
         "title": {
          "text": "variable"
         },
         "tracegroupgap": 0
        },
        "template": {
         "data": {
          "bar": [
           {
            "error_x": {
             "color": "#2a3f5f"
            },
            "error_y": {
             "color": "#2a3f5f"
            },
            "marker": {
             "line": {
              "color": "#E5ECF6",
              "width": 0.5
             }
            },
            "type": "bar"
           }
          ],
          "barpolar": [
           {
            "marker": {
             "line": {
              "color": "#E5ECF6",
              "width": 0.5
             }
            },
            "type": "barpolar"
           }
          ],
          "carpet": [
           {
            "aaxis": {
             "endlinecolor": "#2a3f5f",
             "gridcolor": "white",
             "linecolor": "white",
             "minorgridcolor": "white",
             "startlinecolor": "#2a3f5f"
            },
            "baxis": {
             "endlinecolor": "#2a3f5f",
             "gridcolor": "white",
             "linecolor": "white",
             "minorgridcolor": "white",
             "startlinecolor": "#2a3f5f"
            },
            "type": "carpet"
           }
          ],
          "choropleth": [
           {
            "colorbar": {
             "outlinewidth": 0,
             "ticks": ""
            },
            "type": "choropleth"
           }
          ],
          "contour": [
           {
            "colorbar": {
             "outlinewidth": 0,
             "ticks": ""
            },
            "colorscale": [
             [
              0,
              "#0d0887"
             ],
             [
              0.1111111111111111,
              "#46039f"
             ],
             [
              0.2222222222222222,
              "#7201a8"
             ],
             [
              0.3333333333333333,
              "#9c179e"
             ],
             [
              0.4444444444444444,
              "#bd3786"
             ],
             [
              0.5555555555555556,
              "#d8576b"
             ],
             [
              0.6666666666666666,
              "#ed7953"
             ],
             [
              0.7777777777777778,
              "#fb9f3a"
             ],
             [
              0.8888888888888888,
              "#fdca26"
             ],
             [
              1,
              "#f0f921"
             ]
            ],
            "type": "contour"
           }
          ],
          "contourcarpet": [
           {
            "colorbar": {
             "outlinewidth": 0,
             "ticks": ""
            },
            "type": "contourcarpet"
           }
          ],
          "heatmap": [
           {
            "colorbar": {
             "outlinewidth": 0,
             "ticks": ""
            },
            "colorscale": [
             [
              0,
              "#0d0887"
             ],
             [
              0.1111111111111111,
              "#46039f"
             ],
             [
              0.2222222222222222,
              "#7201a8"
             ],
             [
              0.3333333333333333,
              "#9c179e"
             ],
             [
              0.4444444444444444,
              "#bd3786"
             ],
             [
              0.5555555555555556,
              "#d8576b"
             ],
             [
              0.6666666666666666,
              "#ed7953"
             ],
             [
              0.7777777777777778,
              "#fb9f3a"
             ],
             [
              0.8888888888888888,
              "#fdca26"
             ],
             [
              1,
              "#f0f921"
             ]
            ],
            "type": "heatmap"
           }
          ],
          "heatmapgl": [
           {
            "colorbar": {
             "outlinewidth": 0,
             "ticks": ""
            },
            "colorscale": [
             [
              0,
              "#0d0887"
             ],
             [
              0.1111111111111111,
              "#46039f"
             ],
             [
              0.2222222222222222,
              "#7201a8"
             ],
             [
              0.3333333333333333,
              "#9c179e"
             ],
             [
              0.4444444444444444,
              "#bd3786"
             ],
             [
              0.5555555555555556,
              "#d8576b"
             ],
             [
              0.6666666666666666,
              "#ed7953"
             ],
             [
              0.7777777777777778,
              "#fb9f3a"
             ],
             [
              0.8888888888888888,
              "#fdca26"
             ],
             [
              1,
              "#f0f921"
             ]
            ],
            "type": "heatmapgl"
           }
          ],
          "histogram": [
           {
            "marker": {
             "colorbar": {
              "outlinewidth": 0,
              "ticks": ""
             }
            },
            "type": "histogram"
           }
          ],
          "histogram2d": [
           {
            "colorbar": {
             "outlinewidth": 0,
             "ticks": ""
            },
            "colorscale": [
             [
              0,
              "#0d0887"
             ],
             [
              0.1111111111111111,
              "#46039f"
             ],
             [
              0.2222222222222222,
              "#7201a8"
             ],
             [
              0.3333333333333333,
              "#9c179e"
             ],
             [
              0.4444444444444444,
              "#bd3786"
             ],
             [
              0.5555555555555556,
              "#d8576b"
             ],
             [
              0.6666666666666666,
              "#ed7953"
             ],
             [
              0.7777777777777778,
              "#fb9f3a"
             ],
             [
              0.8888888888888888,
              "#fdca26"
             ],
             [
              1,
              "#f0f921"
             ]
            ],
            "type": "histogram2d"
           }
          ],
          "histogram2dcontour": [
           {
            "colorbar": {
             "outlinewidth": 0,
             "ticks": ""
            },
            "colorscale": [
             [
              0,
              "#0d0887"
             ],
             [
              0.1111111111111111,
              "#46039f"
             ],
             [
              0.2222222222222222,
              "#7201a8"
             ],
             [
              0.3333333333333333,
              "#9c179e"
             ],
             [
              0.4444444444444444,
              "#bd3786"
             ],
             [
              0.5555555555555556,
              "#d8576b"
             ],
             [
              0.6666666666666666,
              "#ed7953"
             ],
             [
              0.7777777777777778,
              "#fb9f3a"
             ],
             [
              0.8888888888888888,
              "#fdca26"
             ],
             [
              1,
              "#f0f921"
             ]
            ],
            "type": "histogram2dcontour"
           }
          ],
          "mesh3d": [
           {
            "colorbar": {
             "outlinewidth": 0,
             "ticks": ""
            },
            "type": "mesh3d"
           }
          ],
          "parcoords": [
           {
            "line": {
             "colorbar": {
              "outlinewidth": 0,
              "ticks": ""
             }
            },
            "type": "parcoords"
           }
          ],
          "pie": [
           {
            "automargin": true,
            "type": "pie"
           }
          ],
          "scatter": [
           {
            "marker": {
             "colorbar": {
              "outlinewidth": 0,
              "ticks": ""
             }
            },
            "type": "scatter"
           }
          ],
          "scatter3d": [
           {
            "line": {
             "colorbar": {
              "outlinewidth": 0,
              "ticks": ""
             }
            },
            "marker": {
             "colorbar": {
              "outlinewidth": 0,
              "ticks": ""
             }
            },
            "type": "scatter3d"
           }
          ],
          "scattercarpet": [
           {
            "marker": {
             "colorbar": {
              "outlinewidth": 0,
              "ticks": ""
             }
            },
            "type": "scattercarpet"
           }
          ],
          "scattergeo": [
           {
            "marker": {
             "colorbar": {
              "outlinewidth": 0,
              "ticks": ""
             }
            },
            "type": "scattergeo"
           }
          ],
          "scattergl": [
           {
            "marker": {
             "colorbar": {
              "outlinewidth": 0,
              "ticks": ""
             }
            },
            "type": "scattergl"
           }
          ],
          "scattermapbox": [
           {
            "marker": {
             "colorbar": {
              "outlinewidth": 0,
              "ticks": ""
             }
            },
            "type": "scattermapbox"
           }
          ],
          "scatterpolar": [
           {
            "marker": {
             "colorbar": {
              "outlinewidth": 0,
              "ticks": ""
             }
            },
            "type": "scatterpolar"
           }
          ],
          "scatterpolargl": [
           {
            "marker": {
             "colorbar": {
              "outlinewidth": 0,
              "ticks": ""
             }
            },
            "type": "scatterpolargl"
           }
          ],
          "scatterternary": [
           {
            "marker": {
             "colorbar": {
              "outlinewidth": 0,
              "ticks": ""
             }
            },
            "type": "scatterternary"
           }
          ],
          "surface": [
           {
            "colorbar": {
             "outlinewidth": 0,
             "ticks": ""
            },
            "colorscale": [
             [
              0,
              "#0d0887"
             ],
             [
              0.1111111111111111,
              "#46039f"
             ],
             [
              0.2222222222222222,
              "#7201a8"
             ],
             [
              0.3333333333333333,
              "#9c179e"
             ],
             [
              0.4444444444444444,
              "#bd3786"
             ],
             [
              0.5555555555555556,
              "#d8576b"
             ],
             [
              0.6666666666666666,
              "#ed7953"
             ],
             [
              0.7777777777777778,
              "#fb9f3a"
             ],
             [
              0.8888888888888888,
              "#fdca26"
             ],
             [
              1,
              "#f0f921"
             ]
            ],
            "type": "surface"
           }
          ],
          "table": [
           {
            "cells": {
             "fill": {
              "color": "#EBF0F8"
             },
             "line": {
              "color": "white"
             }
            },
            "header": {
             "fill": {
              "color": "#C8D4E3"
             },
             "line": {
              "color": "white"
             }
            },
            "type": "table"
           }
          ]
         },
         "layout": {
          "annotationdefaults": {
           "arrowcolor": "#2a3f5f",
           "arrowhead": 0,
           "arrowwidth": 1
          },
          "autotypenumbers": "strict",
          "coloraxis": {
           "colorbar": {
            "outlinewidth": 0,
            "ticks": ""
           }
          },
          "colorscale": {
           "diverging": [
            [
             0,
             "#8e0152"
            ],
            [
             0.1,
             "#c51b7d"
            ],
            [
             0.2,
             "#de77ae"
            ],
            [
             0.3,
             "#f1b6da"
            ],
            [
             0.4,
             "#fde0ef"
            ],
            [
             0.5,
             "#f7f7f7"
            ],
            [
             0.6,
             "#e6f5d0"
            ],
            [
             0.7,
             "#b8e186"
            ],
            [
             0.8,
             "#7fbc41"
            ],
            [
             0.9,
             "#4d9221"
            ],
            [
             1,
             "#276419"
            ]
           ],
           "sequential": [
            [
             0,
             "#0d0887"
            ],
            [
             0.1111111111111111,
             "#46039f"
            ],
            [
             0.2222222222222222,
             "#7201a8"
            ],
            [
             0.3333333333333333,
             "#9c179e"
            ],
            [
             0.4444444444444444,
             "#bd3786"
            ],
            [
             0.5555555555555556,
             "#d8576b"
            ],
            [
             0.6666666666666666,
             "#ed7953"
            ],
            [
             0.7777777777777778,
             "#fb9f3a"
            ],
            [
             0.8888888888888888,
             "#fdca26"
            ],
            [
             1,
             "#f0f921"
            ]
           ],
           "sequentialminus": [
            [
             0,
             "#0d0887"
            ],
            [
             0.1111111111111111,
             "#46039f"
            ],
            [
             0.2222222222222222,
             "#7201a8"
            ],
            [
             0.3333333333333333,
             "#9c179e"
            ],
            [
             0.4444444444444444,
             "#bd3786"
            ],
            [
             0.5555555555555556,
             "#d8576b"
            ],
            [
             0.6666666666666666,
             "#ed7953"
            ],
            [
             0.7777777777777778,
             "#fb9f3a"
            ],
            [
             0.8888888888888888,
             "#fdca26"
            ],
            [
             1,
             "#f0f921"
            ]
           ]
          },
          "colorway": [
           "#636efa",
           "#EF553B",
           "#00cc96",
           "#ab63fa",
           "#FFA15A",
           "#19d3f3",
           "#FF6692",
           "#B6E880",
           "#FF97FF",
           "#FECB52"
          ],
          "font": {
           "color": "#2a3f5f"
          },
          "geo": {
           "bgcolor": "white",
           "lakecolor": "white",
           "landcolor": "#E5ECF6",
           "showlakes": true,
           "showland": true,
           "subunitcolor": "white"
          },
          "hoverlabel": {
           "align": "left"
          },
          "hovermode": "closest",
          "mapbox": {
           "style": "light"
          },
          "paper_bgcolor": "white",
          "plot_bgcolor": "#E5ECF6",
          "polar": {
           "angularaxis": {
            "gridcolor": "white",
            "linecolor": "white",
            "ticks": ""
           },
           "bgcolor": "#E5ECF6",
           "radialaxis": {
            "gridcolor": "white",
            "linecolor": "white",
            "ticks": ""
           }
          },
          "scene": {
           "xaxis": {
            "backgroundcolor": "#E5ECF6",
            "gridcolor": "white",
            "gridwidth": 2,
            "linecolor": "white",
            "showbackground": true,
            "ticks": "",
            "zerolinecolor": "white"
           },
           "yaxis": {
            "backgroundcolor": "#E5ECF6",
            "gridcolor": "white",
            "gridwidth": 2,
            "linecolor": "white",
            "showbackground": true,
            "ticks": "",
            "zerolinecolor": "white"
           },
           "zaxis": {
            "backgroundcolor": "#E5ECF6",
            "gridcolor": "white",
            "gridwidth": 2,
            "linecolor": "white",
            "showbackground": true,
            "ticks": "",
            "zerolinecolor": "white"
           }
          },
          "shapedefaults": {
           "line": {
            "color": "#2a3f5f"
           }
          },
          "ternary": {
           "aaxis": {
            "gridcolor": "white",
            "linecolor": "white",
            "ticks": ""
           },
           "baxis": {
            "gridcolor": "white",
            "linecolor": "white",
            "ticks": ""
           },
           "bgcolor": "#E5ECF6",
           "caxis": {
            "gridcolor": "white",
            "linecolor": "white",
            "ticks": ""
           }
          },
          "title": {
           "x": 0.05
          },
          "xaxis": {
           "automargin": true,
           "gridcolor": "white",
           "linecolor": "white",
           "ticks": "",
           "title": {
            "standoff": 15
           },
           "zerolinecolor": "white",
           "zerolinewidth": 2
          },
          "yaxis": {
           "automargin": true,
           "gridcolor": "white",
           "linecolor": "white",
           "ticks": "",
           "title": {
            "standoff": 15
           },
           "zerolinecolor": "white",
           "zerolinewidth": 2
          }
         }
        },
        "title": {
         "text": "World Happiness Report: Countries with Data Collected per Year"
        },
        "xaxis": {
         "anchor": "y",
         "domain": [
          0,
          1
         ],
         "title": {
          "text": "year"
         }
        },
        "yaxis": {
         "anchor": "x",
         "domain": [
          0,
          1
         ],
         "title": {
          "text": "# of Countries with Data"
         }
        }
       }
      },
      "text/html": [
       "<div>                            <div id=\"88ad7edc-fabd-4c3e-a3e6-8102382b7f99\" class=\"plotly-graph-div\" style=\"height:525px; width:100%;\"></div>            <script type=\"text/javascript\">                require([\"plotly\"], function(Plotly) {                    window.PLOTLYENV=window.PLOTLYENV || {};                                    if (document.getElementById(\"88ad7edc-fabd-4c3e-a3e6-8102382b7f99\")) {                    Plotly.newPlot(                        \"88ad7edc-fabd-4c3e-a3e6-8102382b7f99\",                        [{\"alignmentgroup\": \"True\", \"customdata\": [[\"year\"], [\"year\"], [\"year\"], [\"year\"], [\"year\"], [\"year\"], [\"year\"], [\"year\"], [\"year\"], [\"year\"], [\"year\"], [\"year\"], [\"year\"], [\"year\"], [\"year\"], [\"year\"]], \"hovertemplate\": \"year=%{x}<br># of Countries with Data=%{y}<extra></extra>\", \"legendgroup\": \"year\", \"marker\": {\"color\": \"#636efa\"}, \"name\": \"year\", \"offsetgroup\": \"year\", \"orientation\": \"v\", \"showlegend\": true, \"textposition\": \"auto\", \"type\": \"bar\", \"x\": [2017, 2011, 2014, 2019, 2015, 2018, 2016, 2012, 2013, 2010, 2009, 2008, 2007, 2020, 2006, 2005], \"xaxis\": \"x\", \"y\": [147, 146, 145, 144, 143, 142, 142, 142, 137, 124, 114, 110, 102, 95, 89, 27], \"yaxis\": \"y\"}],                        {\"barmode\": \"relative\", \"legend\": {\"title\": {\"text\": \"variable\"}, \"tracegroupgap\": 0}, \"template\": {\"data\": {\"bar\": [{\"error_x\": {\"color\": \"#2a3f5f\"}, \"error_y\": {\"color\": \"#2a3f5f\"}, \"marker\": {\"line\": {\"color\": \"#E5ECF6\", \"width\": 0.5}}, \"type\": \"bar\"}], \"barpolar\": [{\"marker\": {\"line\": {\"color\": \"#E5ECF6\", \"width\": 0.5}}, \"type\": \"barpolar\"}], \"carpet\": [{\"aaxis\": {\"endlinecolor\": \"#2a3f5f\", \"gridcolor\": \"white\", \"linecolor\": \"white\", \"minorgridcolor\": \"white\", \"startlinecolor\": \"#2a3f5f\"}, \"baxis\": {\"endlinecolor\": \"#2a3f5f\", \"gridcolor\": \"white\", \"linecolor\": \"white\", \"minorgridcolor\": \"white\", \"startlinecolor\": \"#2a3f5f\"}, \"type\": \"carpet\"}], \"choropleth\": [{\"colorbar\": {\"outlinewidth\": 0, \"ticks\": \"\"}, \"type\": \"choropleth\"}], \"contour\": [{\"colorbar\": {\"outlinewidth\": 0, \"ticks\": \"\"}, \"colorscale\": [[0.0, \"#0d0887\"], [0.1111111111111111, \"#46039f\"], [0.2222222222222222, \"#7201a8\"], [0.3333333333333333, \"#9c179e\"], [0.4444444444444444, \"#bd3786\"], [0.5555555555555556, \"#d8576b\"], [0.6666666666666666, \"#ed7953\"], [0.7777777777777778, \"#fb9f3a\"], [0.8888888888888888, \"#fdca26\"], [1.0, \"#f0f921\"]], \"type\": \"contour\"}], \"contourcarpet\": [{\"colorbar\": {\"outlinewidth\": 0, \"ticks\": \"\"}, \"type\": \"contourcarpet\"}], \"heatmap\": [{\"colorbar\": {\"outlinewidth\": 0, \"ticks\": \"\"}, \"colorscale\": [[0.0, \"#0d0887\"], [0.1111111111111111, \"#46039f\"], [0.2222222222222222, \"#7201a8\"], [0.3333333333333333, \"#9c179e\"], [0.4444444444444444, \"#bd3786\"], [0.5555555555555556, \"#d8576b\"], [0.6666666666666666, \"#ed7953\"], [0.7777777777777778, \"#fb9f3a\"], [0.8888888888888888, \"#fdca26\"], [1.0, \"#f0f921\"]], \"type\": \"heatmap\"}], \"heatmapgl\": [{\"colorbar\": {\"outlinewidth\": 0, \"ticks\": \"\"}, \"colorscale\": [[0.0, \"#0d0887\"], [0.1111111111111111, \"#46039f\"], [0.2222222222222222, \"#7201a8\"], [0.3333333333333333, \"#9c179e\"], [0.4444444444444444, \"#bd3786\"], [0.5555555555555556, \"#d8576b\"], [0.6666666666666666, \"#ed7953\"], [0.7777777777777778, \"#fb9f3a\"], [0.8888888888888888, \"#fdca26\"], [1.0, \"#f0f921\"]], \"type\": \"heatmapgl\"}], \"histogram\": [{\"marker\": {\"colorbar\": {\"outlinewidth\": 0, \"ticks\": \"\"}}, \"type\": \"histogram\"}], \"histogram2d\": [{\"colorbar\": {\"outlinewidth\": 0, \"ticks\": \"\"}, \"colorscale\": [[0.0, \"#0d0887\"], [0.1111111111111111, \"#46039f\"], [0.2222222222222222, \"#7201a8\"], [0.3333333333333333, \"#9c179e\"], [0.4444444444444444, \"#bd3786\"], [0.5555555555555556, \"#d8576b\"], [0.6666666666666666, \"#ed7953\"], [0.7777777777777778, \"#fb9f3a\"], [0.8888888888888888, \"#fdca26\"], [1.0, \"#f0f921\"]], \"type\": \"histogram2d\"}], \"histogram2dcontour\": [{\"colorbar\": {\"outlinewidth\": 0, \"ticks\": \"\"}, \"colorscale\": [[0.0, \"#0d0887\"], [0.1111111111111111, \"#46039f\"], [0.2222222222222222, \"#7201a8\"], [0.3333333333333333, \"#9c179e\"], [0.4444444444444444, \"#bd3786\"], [0.5555555555555556, \"#d8576b\"], [0.6666666666666666, \"#ed7953\"], [0.7777777777777778, \"#fb9f3a\"], [0.8888888888888888, \"#fdca26\"], [1.0, \"#f0f921\"]], \"type\": \"histogram2dcontour\"}], \"mesh3d\": [{\"colorbar\": {\"outlinewidth\": 0, \"ticks\": \"\"}, \"type\": \"mesh3d\"}], \"parcoords\": [{\"line\": {\"colorbar\": {\"outlinewidth\": 0, \"ticks\": \"\"}}, \"type\": \"parcoords\"}], \"pie\": [{\"automargin\": true, \"type\": \"pie\"}], \"scatter\": [{\"marker\": {\"colorbar\": {\"outlinewidth\": 0, \"ticks\": \"\"}}, \"type\": \"scatter\"}], \"scatter3d\": [{\"line\": {\"colorbar\": {\"outlinewidth\": 0, \"ticks\": \"\"}}, \"marker\": {\"colorbar\": {\"outlinewidth\": 0, \"ticks\": \"\"}}, \"type\": \"scatter3d\"}], \"scattercarpet\": [{\"marker\": {\"colorbar\": {\"outlinewidth\": 0, \"ticks\": \"\"}}, \"type\": \"scattercarpet\"}], \"scattergeo\": [{\"marker\": {\"colorbar\": {\"outlinewidth\": 0, \"ticks\": \"\"}}, \"type\": \"scattergeo\"}], \"scattergl\": [{\"marker\": {\"colorbar\": {\"outlinewidth\": 0, \"ticks\": \"\"}}, \"type\": \"scattergl\"}], \"scattermapbox\": [{\"marker\": {\"colorbar\": {\"outlinewidth\": 0, \"ticks\": \"\"}}, \"type\": \"scattermapbox\"}], \"scatterpolar\": [{\"marker\": {\"colorbar\": {\"outlinewidth\": 0, \"ticks\": \"\"}}, \"type\": \"scatterpolar\"}], \"scatterpolargl\": [{\"marker\": {\"colorbar\": {\"outlinewidth\": 0, \"ticks\": \"\"}}, \"type\": \"scatterpolargl\"}], \"scatterternary\": [{\"marker\": {\"colorbar\": {\"outlinewidth\": 0, \"ticks\": \"\"}}, \"type\": \"scatterternary\"}], \"surface\": [{\"colorbar\": {\"outlinewidth\": 0, \"ticks\": \"\"}, \"colorscale\": [[0.0, \"#0d0887\"], [0.1111111111111111, \"#46039f\"], [0.2222222222222222, \"#7201a8\"], [0.3333333333333333, \"#9c179e\"], [0.4444444444444444, \"#bd3786\"], [0.5555555555555556, \"#d8576b\"], [0.6666666666666666, \"#ed7953\"], [0.7777777777777778, \"#fb9f3a\"], [0.8888888888888888, \"#fdca26\"], [1.0, \"#f0f921\"]], \"type\": \"surface\"}], \"table\": [{\"cells\": {\"fill\": {\"color\": \"#EBF0F8\"}, \"line\": {\"color\": \"white\"}}, \"header\": {\"fill\": {\"color\": \"#C8D4E3\"}, \"line\": {\"color\": \"white\"}}, \"type\": \"table\"}]}, \"layout\": {\"annotationdefaults\": {\"arrowcolor\": \"#2a3f5f\", \"arrowhead\": 0, \"arrowwidth\": 1}, \"autotypenumbers\": \"strict\", \"coloraxis\": {\"colorbar\": {\"outlinewidth\": 0, \"ticks\": \"\"}}, \"colorscale\": {\"diverging\": [[0, \"#8e0152\"], [0.1, \"#c51b7d\"], [0.2, \"#de77ae\"], [0.3, \"#f1b6da\"], [0.4, \"#fde0ef\"], [0.5, \"#f7f7f7\"], [0.6, \"#e6f5d0\"], [0.7, \"#b8e186\"], [0.8, \"#7fbc41\"], [0.9, \"#4d9221\"], [1, \"#276419\"]], \"sequential\": [[0.0, \"#0d0887\"], [0.1111111111111111, \"#46039f\"], [0.2222222222222222, \"#7201a8\"], [0.3333333333333333, \"#9c179e\"], [0.4444444444444444, \"#bd3786\"], [0.5555555555555556, \"#d8576b\"], [0.6666666666666666, \"#ed7953\"], [0.7777777777777778, \"#fb9f3a\"], [0.8888888888888888, \"#fdca26\"], [1.0, \"#f0f921\"]], \"sequentialminus\": [[0.0, \"#0d0887\"], [0.1111111111111111, \"#46039f\"], [0.2222222222222222, \"#7201a8\"], [0.3333333333333333, \"#9c179e\"], [0.4444444444444444, \"#bd3786\"], [0.5555555555555556, \"#d8576b\"], [0.6666666666666666, \"#ed7953\"], [0.7777777777777778, \"#fb9f3a\"], [0.8888888888888888, \"#fdca26\"], [1.0, \"#f0f921\"]]}, \"colorway\": [\"#636efa\", \"#EF553B\", \"#00cc96\", \"#ab63fa\", \"#FFA15A\", \"#19d3f3\", \"#FF6692\", \"#B6E880\", \"#FF97FF\", \"#FECB52\"], \"font\": {\"color\": \"#2a3f5f\"}, \"geo\": {\"bgcolor\": \"white\", \"lakecolor\": \"white\", \"landcolor\": \"#E5ECF6\", \"showlakes\": true, \"showland\": true, \"subunitcolor\": \"white\"}, \"hoverlabel\": {\"align\": \"left\"}, \"hovermode\": \"closest\", \"mapbox\": {\"style\": \"light\"}, \"paper_bgcolor\": \"white\", \"plot_bgcolor\": \"#E5ECF6\", \"polar\": {\"angularaxis\": {\"gridcolor\": \"white\", \"linecolor\": \"white\", \"ticks\": \"\"}, \"bgcolor\": \"#E5ECF6\", \"radialaxis\": {\"gridcolor\": \"white\", \"linecolor\": \"white\", \"ticks\": \"\"}}, \"scene\": {\"xaxis\": {\"backgroundcolor\": \"#E5ECF6\", \"gridcolor\": \"white\", \"gridwidth\": 2, \"linecolor\": \"white\", \"showbackground\": true, \"ticks\": \"\", \"zerolinecolor\": \"white\"}, \"yaxis\": {\"backgroundcolor\": \"#E5ECF6\", \"gridcolor\": \"white\", \"gridwidth\": 2, \"linecolor\": \"white\", \"showbackground\": true, \"ticks\": \"\", \"zerolinecolor\": \"white\"}, \"zaxis\": {\"backgroundcolor\": \"#E5ECF6\", \"gridcolor\": \"white\", \"gridwidth\": 2, \"linecolor\": \"white\", \"showbackground\": true, \"ticks\": \"\", \"zerolinecolor\": \"white\"}}, \"shapedefaults\": {\"line\": {\"color\": \"#2a3f5f\"}}, \"ternary\": {\"aaxis\": {\"gridcolor\": \"white\", \"linecolor\": \"white\", \"ticks\": \"\"}, \"baxis\": {\"gridcolor\": \"white\", \"linecolor\": \"white\", \"ticks\": \"\"}, \"bgcolor\": \"#E5ECF6\", \"caxis\": {\"gridcolor\": \"white\", \"linecolor\": \"white\", \"ticks\": \"\"}}, \"title\": {\"x\": 0.05}, \"xaxis\": {\"automargin\": true, \"gridcolor\": \"white\", \"linecolor\": \"white\", \"ticks\": \"\", \"title\": {\"standoff\": 15}, \"zerolinecolor\": \"white\", \"zerolinewidth\": 2}, \"yaxis\": {\"automargin\": true, \"gridcolor\": \"white\", \"linecolor\": \"white\", \"ticks\": \"\", \"title\": {\"standoff\": 15}, \"zerolinecolor\": \"white\", \"zerolinewidth\": 2}}}, \"title\": {\"text\": \"World Happiness Report: Countries with Data Collected per Year\"}, \"xaxis\": {\"anchor\": \"y\", \"domain\": [0.0, 1.0], \"title\": {\"text\": \"year\"}}, \"yaxis\": {\"anchor\": \"x\", \"domain\": [0.0, 1.0], \"title\": {\"text\": \"# of Countries with Data\"}}},                        {\"responsive\": true}                    ).then(function(){\n",
       "                            \n",
       "var gd = document.getElementById('88ad7edc-fabd-4c3e-a3e6-8102382b7f99');\n",
       "var x = new MutationObserver(function (mutations, observer) {{\n",
       "        var display = window.getComputedStyle(gd).display;\n",
       "        if (!display || display === 'none') {{\n",
       "            console.log([gd, 'removed!']);\n",
       "            Plotly.purge(gd);\n",
       "            observer.disconnect();\n",
       "        }}\n",
       "}});\n",
       "\n",
       "// Listen for the removal of the full notebook cells\n",
       "var notebookContainer = gd.closest('#notebook-container');\n",
       "if (notebookContainer) {{\n",
       "    x.observe(notebookContainer, {childList: true});\n",
       "}}\n",
       "\n",
       "// Listen for the clearing of the current output cell\n",
       "var outputEl = gd.closest('.output');\n",
       "if (outputEl) {{\n",
       "    x.observe(outputEl, {childList: true});\n",
       "}}\n",
       "\n",
       "                        })                };                });            </script>        </div>"
      ]
     },
     "metadata": {},
     "output_type": "display_data"
    }
   ],
   "source": [
    "fig = px.bar(df_by_year.year.value_counts(), title=\"World Happiness Report: Countries with Data Collected per Year\", \n",
    "             labels={'index':'year','value':'# of Countries with Data'}, hover_data={'variable':False})\n",
    "fig.show()"
   ]
  },
  {
   "cell_type": "markdown",
   "metadata": {},
   "source": [
    "This visualization tells us that certain years have less data, most notably 2005 and 2020. In order to ensure a relatively consistent sample size of countries, it makes sense to use the years 2011 to 2019 which is in accordance with the World Happiness Report's official publications starting in 2012 (for the year 2011)."
   ]
  },
  {
   "cell_type": "code",
   "execution_count": 32,
   "metadata": {},
   "outputs": [],
   "source": [
    "pio.write_html(fig, \"Countries_Per_Year.html\", full_html=False) #export this figure as an html file for the web page"
   ]
  },
  {
   "cell_type": "markdown",
   "metadata": {},
   "source": [
    "## Figure 2: Global Choropleths ##"
   ]
  },
  {
   "cell_type": "markdown",
   "metadata": {},
   "source": [
    "This will create in total 19 choropleths for all the countries included: one for each column with a slider for years (9 total), and one for each year with a dropdown to select a column (10 total). Ideally these 19 could be combined into a single choropleth with both a slider for years and a dropdown for columns, however, due to the nature of bool visibility for traces this does not seem possible. The slider and dropdown features use separate trackers for which trace should be visible and so moving the slider would change the trace based on the slider's visibility mask but would not take into account the visibility mask of the dropdown. This is unfortunate as one graph would be much nicer to look at and interact with than 19, but at the moment I am incapable of resolving this issue."
   ]
  },
  {
   "cell_type": "markdown",
   "metadata": {},
   "source": [
    "The first step to enable choropleth visualizations is adding the necessary geojson codes for each country to our data as the World Happiness Report does not include this data. The following csv does include the proper codes."
   ]
  },
  {
   "cell_type": "code",
   "execution_count": 47,
   "metadata": {},
   "outputs": [],
   "source": [
    "df_country_codes = pd.read_csv(\"2014_world_gdp_with_codes.csv\")"
   ]
  },
  {
   "cell_type": "markdown",
   "metadata": {},
   "source": [
    "We will merge our WHR data with the geojson codes and drop the other columns added in the merge."
   ]
  },
  {
   "cell_type": "code",
   "execution_count": 48,
   "metadata": {},
   "outputs": [],
   "source": [
    "df_with_codes = df.merge(df_country_codes, how=\"inner\", left_on=\"Country name\", right_on=\"COUNTRY\")\n",
    "df_with_codes.drop([\"GDP (BILLIONS)\",\"COUNTRY\"], axis=1, inplace=True)"
   ]
  },
  {
   "cell_type": "markdown",
   "metadata": {},
   "source": [
    "This function simplifies our code for the actual graph as both the sliders and dropdowns use essentially the same dictionary to determine the label, visible traces, and annotations that are displayed."
   ]
  },
  {
   "cell_type": "code",
   "execution_count": 49,
   "metadata": {},
   "outputs": [],
   "source": [
    "def slider_dict(label, visibles, annotation1, annotation2):\n",
    "    return {'method': 'update', 'label':label,'args':[{'visible': visibles}, {'annotations': [annotation1, annotation2]}]}"
   ]
  },
  {
   "cell_type": "markdown",
   "metadata": {},
   "source": [
    "This next segment initializes the lists to be used for both the slider and dropdown graphs.\n",
    "- FIELDS creates a 10x10 list of lists that serves as the visibility mask for both slider and dropdown (although the dropdown excludes the last row and column as there are only 9 columns to be selected by dropdown)\n",
    "- COLORSCALES is a list of different plotly colorscales that the choropleth accepts and changes its color. The ones in this list are my personal favorites and my reason for including multiple colors is to provide visual feedback to the viewer so that they can easily see when they are looking at graphs for different columns. The last two columns are the same to the show the connection between positive and negative affect.\n",
    "- GRAPH_COLUMNS selects the columns from the WHR data that have information worth graphing, i.e. dropping the country name, year, and geojson code and leaving all the rest."
   ]
  },
  {
   "cell_type": "code",
   "execution_count": 314,
   "metadata": {},
   "outputs": [],
   "source": [
    "fields = np.zeros(100, dtype=bool)\n",
    "fields = fields.reshape(10,10)\n",
    "n=0\n",
    "for i in range(10):\n",
    "    fields[i][n]=True\n",
    "    n+=1\n",
    "    \n",
    "colorscales = ['aggrnyl', 'agsunset', 'bluered', 'viridis', 'rdpu', 'pinkyl', 'plasma', 'plotly3', 'plotly3']\n",
    "\n",
    "graph_columns = list(df_with_codes.columns)\n",
    "graph_columns.remove(\"Country name\")\n",
    "graph_columns.remove(\"year\")\n",
    "graph_columns.remove(\"CODE\")"
   ]
  },
  {
   "cell_type": "markdown",
   "metadata": {},
   "source": [
    "This next segment uses a for-loop to create a distinct graph for each column with a slider for the years. The steps it goes through are as follows:\n",
    "1. Create a figure and make an empty list that will be filled with the dictionaries for sliders\n",
    "1. Set the starting year to 2011\n",
    "1. Begin a while loop that goes through each of the years from 2011 to 2020\n",
    "    * Make a new dataframe for the specific year (ex. 2011)\n",
    "    * Add a choropleth for the current year based on the column from the for-loop and set it to the corresponding color\n",
    "    * Make that choropleth no longer visible\n",
    "    * Find the highest and lowest scores for that year and the corresponding countres\n",
    "    * Create annotations that show which country had the highest score and which had the lowest score\n",
    "    * Use the earlier defined function \"slider_dict\" to add a dictionary to the list of sliders\n",
    "    * Increment the year\n",
    "1. Once a trace has been made for each year, properly format the sliders list to be plotly acceptable\n",
    "1. Update the layout of the figure to include all the sliders and a title based on the current column\n",
    "1. Set the first trace to be visible and change the title to make it easier for exporting to html\n",
    "1. Export the graph and repeat the entire process with the next column"
   ]
  },
  {
   "cell_type": "code",
   "execution_count": 79,
   "metadata": {
    "scrolled": false
   },
   "outputs": [],
   "source": [
    "for graph in graph_columns:\n",
    "\n",
    "    fig = go.Figure()\n",
    "    sliders = []\n",
    "\n",
    "    year = 2011\n",
    "\n",
    "    while (year < 2021):\n",
    "        df = df_with_codes[df_with_codes[\"year\"]==year]\n",
    "        \n",
    "        fig.add_trace(go.Choropleth(locations=df[\"CODE\"], z=df[graph], text = df[\"Country name\"], autocolorscale=False,\n",
    "             colorscale=colorscales[graph_columns.index(graph)], marker_line_color='white', marker_line_width=0.5, colorbar_title=f\"{graph}\"))\n",
    "\n",
    "        fig.data[year%2011].visible=False\n",
    "        \n",
    "        max_of_graph = df[df[graph]==df[graph].max()]\n",
    "        highest_score = (max_of_graph[\"Country name\"].values[0], round(max_of_graph[graph].values[0],3))\n",
    "        min_of_graph = df[df[graph]==df[graph].min()]\n",
    "        lowest_score = (min_of_graph[\"Country name\"].values[0], round(min_of_graph[graph].values[0],3))\n",
    "        max_annotation = {'x':1.1, 'y':1.2, 'xref':'paper', 'yref':'paper', 'text':\"{0} has the highest score of ~ {1}\".format(highest_score[0], highest_score[1]), \n",
    "                           'font':{'size':10, 'color':'white'}, 'showarrow':False, 'borderwidth':9, 'borderpad':4, 'bgcolor':'grey'}\n",
    "        min_annotation = {'x':1.1, 'y':1.1, 'xref':'paper', 'yref':'paper', 'text':\"{0} has the lowest score of ~ {1}\".format(lowest_score[0], lowest_score[1]), \n",
    "                           'font':{'size':10, 'color':'white'}, 'showarrow':False, 'borderwidth':9, 'borderpad':4, 'bgcolor':'grey'}\n",
    "        \n",
    "        sliders.append(slider_dict(year, fields[year%2011], max_annotation, min_annotation))\n",
    "        \n",
    "        year = year+1\n",
    "        \n",
    "    \n",
    "    sliders = [{'steps':sliders}]\n",
    "    \n",
    "    fig.update_layout({'sliders': sliders}, title_text=f'World Happiness Report: {graph}', geo=dict(showframe=False, showcoastlines=False, projection_type=\"equirectangular\"),\n",
    "                     autosize=False, height=600, width=950)\n",
    "\n",
    "    fig.data[0].visible=True\n",
    "    \n",
    "    title = graph.replace(\" \", \"_\")\n",
    "    #pio.write_html(fig, f\"WHR-{title}.html\", full_html=False)\n",
    "    #fig.show()\n",
    "    "
   ]
  },
  {
   "cell_type": "markdown",
   "metadata": {},
   "source": [
    "This next segment creates the graphs for each year with a dropdown to choose a column. It is very similar to the last segment except that now for every year it adds a trace for each column instead of vice versa. Additionally, \"buttons_list\" serves the same function as \"sliders\" and there is a minor difference in the way dropdown menus are formatted than the way sliders are.\n"
   ]
  },
  {
   "cell_type": "code",
   "execution_count": 274,
   "metadata": {
    "scrolled": false
   },
   "outputs": [],
   "source": [
    "year = 2011\n",
    "\n",
    "while (year<2021):\n",
    "    \n",
    "    df = df_with_codes[df_with_codes['year']==year]\n",
    "\n",
    "    fig = go.Figure()\n",
    "    n=0\n",
    "    buttons_list = []\n",
    "\n",
    "    for graph in graph_columns:\n",
    "            fig.add_trace(go.Choropleth(locations=df[\"CODE\"], z=df[graph], text = df[\"Country name\"], autocolorscale=False,\n",
    "                    colorscale=colorscales[n], marker_line_color='white', marker_line_width=0.5, colorbar_title=f\"{graph}\"))   \n",
    "            label = \"{0}: {1}\".format(year, graph_columns[n])\n",
    "            \n",
    "            max_of_graph = df[df[graph]==df[graph].max()]\n",
    "            highest_score = (max_of_graph[\"Country name\"].values[0], round(max_of_graph[graph].values[0],3))\n",
    "            min_of_graph = df[df[graph]==df[graph].min()]\n",
    "            lowest_score = (min_of_graph[\"Country name\"].values[0], round(min_of_graph[graph].values[0],3))\n",
    "            max_annotation = {'x':1.1, 'y':1.2, 'xref':'paper', 'yref':'paper', 'text':\"{0} has the highest score of ~ {1}\".format(highest_score[0], highest_score[1]), \n",
    "                           'font':{'size':10, 'color':'white'}, 'showarrow':False, 'borderwidth':9, 'borderpad':4, 'bgcolor':'grey'}\n",
    "            min_annotation = {'x':1.1, 'y':1.1, 'xref':'paper', 'yref':'paper', 'text':\"{0} has the lowest score of ~ {1}\".format(lowest_score[0], lowest_score[1]), \n",
    "                           'font':{'size':10, 'color':'white'}, 'showarrow':False, 'borderwidth':9, 'borderpad':4, 'bgcolor':'grey'}\n",
    "            \n",
    "            buttons_list.append(slider_dict(label, fields[n][:-1], max_annotation, min_annotation))\n",
    "            fig.data[n].visible=False\n",
    "            n+=1\n",
    "\n",
    "\n",
    "    fig.update_layout(updatemenus=[dict(active=0, buttons=buttons_list, x=0, xanchor=\"left\", y=1.05,yanchor=\"top\")],\n",
    "                    title=\"World Happiness Report: {0}\".format(year), geo=dict(showframe=False, showcoastlines=False, projection_type=\"equirectangular\"),\n",
    "                    autosize=False, height=600, width=950)\n",
    "\n",
    "    fig.data[0].visible=True\n",
    "    \n",
    "    #pio.write_html(fig, f\"WHR-{year}.html\", full_html=False)\n",
    "    #fig.show()\n",
    "    \n",
    "    year+=1\n"
   ]
  },
  {
   "cell_type": "markdown",
   "metadata": {},
   "source": [
    "## Figure 3: Improvement Choropleth"
   ]
  },
  {
   "cell_type": "markdown",
   "metadata": {},
   "source": [
    "To find the total improvement of each country, we will merge the 2011 and 2019 data so that all the information we need is in one place. The reason we are selecting the year 2019 instead of 2020 is because there are significantly less countries with data for the year 2020."
   ]
  },
  {
   "cell_type": "code",
   "execution_count": 340,
   "metadata": {},
   "outputs": [],
   "source": [
    "df_2011 = df_with_codes[df_with_codes[\"year\"] == 2011]\n",
    "df_2019 = df_with_codes[df_with_codes[\"year\"] == 2019]"
   ]
  },
  {
   "cell_type": "markdown",
   "metadata": {},
   "source": [
    "Here we merge the two years and drop both the NaN values and the columns we will no longer need. Dropping the NaN values ensures that each country has data for both 2011 and 2019. We go from ~136 countries with information to 112 countries as a result of this."
   ]
  },
  {
   "cell_type": "code",
   "execution_count": 341,
   "metadata": {},
   "outputs": [
    {
     "data": {
      "text/html": [
       "<div>\n",
       "<style scoped>\n",
       "    .dataframe tbody tr th:only-of-type {\n",
       "        vertical-align: middle;\n",
       "    }\n",
       "\n",
       "    .dataframe tbody tr th {\n",
       "        vertical-align: top;\n",
       "    }\n",
       "\n",
       "    .dataframe thead th {\n",
       "        text-align: right;\n",
       "    }\n",
       "</style>\n",
       "<table border=\"1\" class=\"dataframe\">\n",
       "  <thead>\n",
       "    <tr style=\"text-align: right;\">\n",
       "      <th></th>\n",
       "      <th>Country name</th>\n",
       "      <th>Life Ladder_x</th>\n",
       "      <th>Log GDP per capita_x</th>\n",
       "      <th>Social support_x</th>\n",
       "      <th>Healthy life expectancy (Age)_x</th>\n",
       "      <th>Freedom to make life choices_x</th>\n",
       "      <th>Generosity_x</th>\n",
       "      <th>Perceptions of corruption_x</th>\n",
       "      <th>Positive affect_x</th>\n",
       "      <th>Negative affect_x</th>\n",
       "      <th>Life Ladder_y</th>\n",
       "      <th>Log GDP per capita_y</th>\n",
       "      <th>Social support_y</th>\n",
       "      <th>Healthy life expectancy (Age)_y</th>\n",
       "      <th>Freedom to make life choices_y</th>\n",
       "      <th>Generosity_y</th>\n",
       "      <th>Perceptions of corruption_y</th>\n",
       "      <th>Positive affect_y</th>\n",
       "      <th>Negative affect_y</th>\n",
       "      <th>CODE_y</th>\n",
       "    </tr>\n",
       "  </thead>\n",
       "  <tbody>\n",
       "    <tr>\n",
       "      <th>0</th>\n",
       "      <td>Afghanistan</td>\n",
       "      <td>3.831719</td>\n",
       "      <td>7.619532</td>\n",
       "      <td>0.521104</td>\n",
       "      <td>51.919998</td>\n",
       "      <td>0.495901</td>\n",
       "      <td>0.162427</td>\n",
       "      <td>0.731109</td>\n",
       "      <td>0.611387</td>\n",
       "      <td>0.267175</td>\n",
       "      <td>2.375092</td>\n",
       "      <td>7.697248</td>\n",
       "      <td>0.419973</td>\n",
       "      <td>52.400002</td>\n",
       "      <td>0.393656</td>\n",
       "      <td>-0.108459</td>\n",
       "      <td>0.923849</td>\n",
       "      <td>0.351387</td>\n",
       "      <td>0.502474</td>\n",
       "      <td>AFG</td>\n",
       "    </tr>\n",
       "    <tr>\n",
       "      <th>1</th>\n",
       "      <td>Albania</td>\n",
       "      <td>5.867422</td>\n",
       "      <td>9.331056</td>\n",
       "      <td>0.759434</td>\n",
       "      <td>66.680000</td>\n",
       "      <td>0.487496</td>\n",
       "      <td>-0.204594</td>\n",
       "      <td>0.877003</td>\n",
       "      <td>0.627659</td>\n",
       "      <td>0.256577</td>\n",
       "      <td>4.995318</td>\n",
       "      <td>9.544080</td>\n",
       "      <td>0.686365</td>\n",
       "      <td>69.000000</td>\n",
       "      <td>0.777351</td>\n",
       "      <td>-0.099263</td>\n",
       "      <td>0.914284</td>\n",
       "      <td>0.681080</td>\n",
       "      <td>0.273827</td>\n",
       "      <td>ALB</td>\n",
       "    </tr>\n",
       "    <tr>\n",
       "      <th>2</th>\n",
       "      <td>Algeria</td>\n",
       "      <td>5.317194</td>\n",
       "      <td>9.296691</td>\n",
       "      <td>0.810234</td>\n",
       "      <td>64.660004</td>\n",
       "      <td>0.529561</td>\n",
       "      <td>-0.180654</td>\n",
       "      <td>0.637982</td>\n",
       "      <td>0.550203</td>\n",
       "      <td>0.254897</td>\n",
       "      <td>4.744627</td>\n",
       "      <td>9.336946</td>\n",
       "      <td>0.803259</td>\n",
       "      <td>66.099998</td>\n",
       "      <td>0.385083</td>\n",
       "      <td>0.005087</td>\n",
       "      <td>0.740609</td>\n",
       "      <td>0.584944</td>\n",
       "      <td>0.215198</td>\n",
       "      <td>DZA</td>\n",
       "    </tr>\n",
       "    <tr>\n",
       "      <th>4</th>\n",
       "      <td>Argentina</td>\n",
       "      <td>6.775805</td>\n",
       "      <td>10.112445</td>\n",
       "      <td>0.889073</td>\n",
       "      <td>67.480003</td>\n",
       "      <td>0.815802</td>\n",
       "      <td>-0.173993</td>\n",
       "      <td>0.754646</td>\n",
       "      <td>0.840048</td>\n",
       "      <td>0.231855</td>\n",
       "      <td>6.085561</td>\n",
       "      <td>10.000340</td>\n",
       "      <td>0.896371</td>\n",
       "      <td>69.000000</td>\n",
       "      <td>0.817053</td>\n",
       "      <td>-0.210719</td>\n",
       "      <td>0.830460</td>\n",
       "      <td>0.825965</td>\n",
       "      <td>0.319055</td>\n",
       "      <td>ARG</td>\n",
       "    </tr>\n",
       "    <tr>\n",
       "      <th>5</th>\n",
       "      <td>Armenia</td>\n",
       "      <td>4.260491</td>\n",
       "      <td>9.182483</td>\n",
       "      <td>0.705108</td>\n",
       "      <td>65.360001</td>\n",
       "      <td>0.464525</td>\n",
       "      <td>-0.225479</td>\n",
       "      <td>0.874601</td>\n",
       "      <td>0.474549</td>\n",
       "      <td>0.459074</td>\n",
       "      <td>5.488087</td>\n",
       "      <td>9.521770</td>\n",
       "      <td>0.781604</td>\n",
       "      <td>67.199997</td>\n",
       "      <td>0.844324</td>\n",
       "      <td>-0.172369</td>\n",
       "      <td>0.583473</td>\n",
       "      <td>0.598238</td>\n",
       "      <td>0.430463</td>\n",
       "      <td>ARM</td>\n",
       "    </tr>\n",
       "    <tr>\n",
       "      <th>...</th>\n",
       "      <td>...</td>\n",
       "      <td>...</td>\n",
       "      <td>...</td>\n",
       "      <td>...</td>\n",
       "      <td>...</td>\n",
       "      <td>...</td>\n",
       "      <td>...</td>\n",
       "      <td>...</td>\n",
       "      <td>...</td>\n",
       "      <td>...</td>\n",
       "      <td>...</td>\n",
       "      <td>...</td>\n",
       "      <td>...</td>\n",
       "      <td>...</td>\n",
       "      <td>...</td>\n",
       "      <td>...</td>\n",
       "      <td>...</td>\n",
       "      <td>...</td>\n",
       "      <td>...</td>\n",
       "      <td>...</td>\n",
       "    </tr>\n",
       "    <tr>\n",
       "      <th>131</th>\n",
       "      <td>Uruguay</td>\n",
       "      <td>6.554047</td>\n",
       "      <td>9.829510</td>\n",
       "      <td>0.891282</td>\n",
       "      <td>68.139999</td>\n",
       "      <td>0.851442</td>\n",
       "      <td>-0.080015</td>\n",
       "      <td>0.556286</td>\n",
       "      <td>0.805346</td>\n",
       "      <td>0.252250</td>\n",
       "      <td>6.600337</td>\n",
       "      <td>9.978644</td>\n",
       "      <td>0.933471</td>\n",
       "      <td>69.099998</td>\n",
       "      <td>0.902679</td>\n",
       "      <td>-0.095303</td>\n",
       "      <td>0.599400</td>\n",
       "      <td>0.888966</td>\n",
       "      <td>0.221730</td>\n",
       "      <td>URY</td>\n",
       "    </tr>\n",
       "    <tr>\n",
       "      <th>132</th>\n",
       "      <td>Uzbekistan</td>\n",
       "      <td>5.738744</td>\n",
       "      <td>8.493077</td>\n",
       "      <td>0.924071</td>\n",
       "      <td>63.400002</td>\n",
       "      <td>0.934133</td>\n",
       "      <td>0.042083</td>\n",
       "      <td>0.521862</td>\n",
       "      <td>0.787154</td>\n",
       "      <td>0.122773</td>\n",
       "      <td>6.154049</td>\n",
       "      <td>8.853480</td>\n",
       "      <td>0.915276</td>\n",
       "      <td>65.400002</td>\n",
       "      <td>0.970295</td>\n",
       "      <td>0.304298</td>\n",
       "      <td>0.511197</td>\n",
       "      <td>0.844809</td>\n",
       "      <td>0.219746</td>\n",
       "      <td>UZB</td>\n",
       "    </tr>\n",
       "    <tr>\n",
       "      <th>134</th>\n",
       "      <td>Vietnam</td>\n",
       "      <td>5.767344</td>\n",
       "      <td>8.585228</td>\n",
       "      <td>0.897655</td>\n",
       "      <td>66.660004</td>\n",
       "      <td>0.818404</td>\n",
       "      <td>0.104993</td>\n",
       "      <td>0.742162</td>\n",
       "      <td>0.531590</td>\n",
       "      <td>0.192669</td>\n",
       "      <td>5.467451</td>\n",
       "      <td>8.992331</td>\n",
       "      <td>0.847592</td>\n",
       "      <td>68.099998</td>\n",
       "      <td>0.952469</td>\n",
       "      <td>-0.125531</td>\n",
       "      <td>0.787889</td>\n",
       "      <td>0.751160</td>\n",
       "      <td>0.185610</td>\n",
       "      <td>VNM</td>\n",
       "    </tr>\n",
       "    <tr>\n",
       "      <th>136</th>\n",
       "      <td>Zambia</td>\n",
       "      <td>4.999114</td>\n",
       "      <td>8.071311</td>\n",
       "      <td>0.864023</td>\n",
       "      <td>50.840000</td>\n",
       "      <td>0.662850</td>\n",
       "      <td>0.002801</td>\n",
       "      <td>0.882150</td>\n",
       "      <td>0.833214</td>\n",
       "      <td>0.204070</td>\n",
       "      <td>3.306797</td>\n",
       "      <td>8.154642</td>\n",
       "      <td>0.637894</td>\n",
       "      <td>55.799999</td>\n",
       "      <td>0.811040</td>\n",
       "      <td>0.077462</td>\n",
       "      <td>0.831956</td>\n",
       "      <td>0.743407</td>\n",
       "      <td>0.394385</td>\n",
       "      <td>ZMB</td>\n",
       "    </tr>\n",
       "    <tr>\n",
       "      <th>137</th>\n",
       "      <td>Zimbabwe</td>\n",
       "      <td>4.845642</td>\n",
       "      <td>7.846308</td>\n",
       "      <td>0.864694</td>\n",
       "      <td>48.119999</td>\n",
       "      <td>0.632978</td>\n",
       "      <td>-0.087876</td>\n",
       "      <td>0.829800</td>\n",
       "      <td>0.781189</td>\n",
       "      <td>0.210544</td>\n",
       "      <td>2.693523</td>\n",
       "      <td>7.950132</td>\n",
       "      <td>0.759162</td>\n",
       "      <td>56.200001</td>\n",
       "      <td>0.631908</td>\n",
       "      <td>-0.063791</td>\n",
       "      <td>0.830652</td>\n",
       "      <td>0.716004</td>\n",
       "      <td>0.235354</td>\n",
       "      <td>ZWE</td>\n",
       "    </tr>\n",
       "  </tbody>\n",
       "</table>\n",
       "<p>112 rows × 20 columns</p>\n",
       "</div>"
      ],
      "text/plain": [
       "    Country name  Life Ladder_x  Log GDP per capita_x  Social support_x  \\\n",
       "0    Afghanistan       3.831719              7.619532          0.521104   \n",
       "1        Albania       5.867422              9.331056          0.759434   \n",
       "2        Algeria       5.317194              9.296691          0.810234   \n",
       "4      Argentina       6.775805             10.112445          0.889073   \n",
       "5        Armenia       4.260491              9.182483          0.705108   \n",
       "..           ...            ...                   ...               ...   \n",
       "131      Uruguay       6.554047              9.829510          0.891282   \n",
       "132   Uzbekistan       5.738744              8.493077          0.924071   \n",
       "134      Vietnam       5.767344              8.585228          0.897655   \n",
       "136       Zambia       4.999114              8.071311          0.864023   \n",
       "137     Zimbabwe       4.845642              7.846308          0.864694   \n",
       "\n",
       "     Healthy life expectancy (Age)_x  Freedom to make life choices_x  \\\n",
       "0                          51.919998                        0.495901   \n",
       "1                          66.680000                        0.487496   \n",
       "2                          64.660004                        0.529561   \n",
       "4                          67.480003                        0.815802   \n",
       "5                          65.360001                        0.464525   \n",
       "..                               ...                             ...   \n",
       "131                        68.139999                        0.851442   \n",
       "132                        63.400002                        0.934133   \n",
       "134                        66.660004                        0.818404   \n",
       "136                        50.840000                        0.662850   \n",
       "137                        48.119999                        0.632978   \n",
       "\n",
       "     Generosity_x  Perceptions of corruption_x  Positive affect_x  \\\n",
       "0        0.162427                     0.731109           0.611387   \n",
       "1       -0.204594                     0.877003           0.627659   \n",
       "2       -0.180654                     0.637982           0.550203   \n",
       "4       -0.173993                     0.754646           0.840048   \n",
       "5       -0.225479                     0.874601           0.474549   \n",
       "..            ...                          ...                ...   \n",
       "131     -0.080015                     0.556286           0.805346   \n",
       "132      0.042083                     0.521862           0.787154   \n",
       "134      0.104993                     0.742162           0.531590   \n",
       "136      0.002801                     0.882150           0.833214   \n",
       "137     -0.087876                     0.829800           0.781189   \n",
       "\n",
       "     Negative affect_x  Life Ladder_y  Log GDP per capita_y  Social support_y  \\\n",
       "0             0.267175       2.375092              7.697248          0.419973   \n",
       "1             0.256577       4.995318              9.544080          0.686365   \n",
       "2             0.254897       4.744627              9.336946          0.803259   \n",
       "4             0.231855       6.085561             10.000340          0.896371   \n",
       "5             0.459074       5.488087              9.521770          0.781604   \n",
       "..                 ...            ...                   ...               ...   \n",
       "131           0.252250       6.600337              9.978644          0.933471   \n",
       "132           0.122773       6.154049              8.853480          0.915276   \n",
       "134           0.192669       5.467451              8.992331          0.847592   \n",
       "136           0.204070       3.306797              8.154642          0.637894   \n",
       "137           0.210544       2.693523              7.950132          0.759162   \n",
       "\n",
       "     Healthy life expectancy (Age)_y  Freedom to make life choices_y  \\\n",
       "0                          52.400002                        0.393656   \n",
       "1                          69.000000                        0.777351   \n",
       "2                          66.099998                        0.385083   \n",
       "4                          69.000000                        0.817053   \n",
       "5                          67.199997                        0.844324   \n",
       "..                               ...                             ...   \n",
       "131                        69.099998                        0.902679   \n",
       "132                        65.400002                        0.970295   \n",
       "134                        68.099998                        0.952469   \n",
       "136                        55.799999                        0.811040   \n",
       "137                        56.200001                        0.631908   \n",
       "\n",
       "     Generosity_y  Perceptions of corruption_y  Positive affect_y  \\\n",
       "0       -0.108459                     0.923849           0.351387   \n",
       "1       -0.099263                     0.914284           0.681080   \n",
       "2        0.005087                     0.740609           0.584944   \n",
       "4       -0.210719                     0.830460           0.825965   \n",
       "5       -0.172369                     0.583473           0.598238   \n",
       "..            ...                          ...                ...   \n",
       "131     -0.095303                     0.599400           0.888966   \n",
       "132      0.304298                     0.511197           0.844809   \n",
       "134     -0.125531                     0.787889           0.751160   \n",
       "136      0.077462                     0.831956           0.743407   \n",
       "137     -0.063791                     0.830652           0.716004   \n",
       "\n",
       "     Negative affect_y CODE_y  \n",
       "0             0.502474    AFG  \n",
       "1             0.273827    ALB  \n",
       "2             0.215198    DZA  \n",
       "4             0.319055    ARG  \n",
       "5             0.430463    ARM  \n",
       "..                 ...    ...  \n",
       "131           0.221730    URY  \n",
       "132           0.219746    UZB  \n",
       "134           0.185610    VNM  \n",
       "136           0.394385    ZMB  \n",
       "137           0.235354    ZWE  \n",
       "\n",
       "[112 rows x 20 columns]"
      ]
     },
     "execution_count": 341,
     "metadata": {},
     "output_type": "execute_result"
    }
   ],
   "source": [
    "df_change = df_2011.merge(df_2019, how=\"outer\", left_on=\"Country name\", right_on=\"Country name\")\n",
    "df_change.dropna(inplace=True)\n",
    "df_change.drop(columns=['year_x', 'year_y', 'CODE_x'])"
   ]
  },
  {
   "cell_type": "markdown",
   "metadata": {},
   "source": [
    "This next segment adds new columns to the dataframe that calculate the total change by subtracting the number from the 2011 data from the corresponding number in the 2019 data, calculating the change for each individual country across all 9 factors.\n",
    "Sidenote: The commented line at the bottom removes the data used to make these calculations from the dataset, leaving just the changes. For the following graph to work, it must be called somewhere, however, if you also wish to view the percent change you should wait to call into until you have created those columns."
   ]
  },
  {
   "cell_type": "code",
   "execution_count": 342,
   "metadata": {},
   "outputs": [],
   "source": [
    "df_change[\"Life Ladder\"] = df_change[\"Life Ladder_y\"] - df_change[\"Life Ladder_x\"]\n",
    "df_change[\"Log GDP per capita\"] = df_change[\"Log GDP per capita_y\"] - df_change[\"Log GDP per capita_x\"]\n",
    "df_change[\"Social Support\"] = df_change[\"Social support_y\"] - df_change[\"Social support_x\"]\n",
    "df_change[\"Life Expectancy\"] = df_change[\"Healthy life expectancy (Age)_y\"] - df_change[\"Healthy life expectancy (Age)_x\"]\n",
    "df_change[\"Life Choices\"] = df_change[\"Freedom to make life choices_y\"] - df_change[\"Freedom to make life choices_x\"]\n",
    "df_change[\"Generosity\"] = df_change[\"Generosity_y\"] - df_change[\"Generosity_x\"]\n",
    "df_change[\"Perceptions of corruption\"] = df_change[\"Perceptions of corruption_y\"] - df_change[\"Perceptions of corruption_x\"]\n",
    "df_change[\"Positive Affect\"] = df_change[\"Positive affect_y\"] - df_change[\"Positive affect_x\"]\n",
    "df_change[\"Negative Affect\"] = df_change[\"Negative affect_y\"] - df_change[\"Negative affect_x\"]\n",
    "#df_change.drop(columns = df_change.columns[1:22], inplace=True)\n",
    "\n"
   ]
  },
  {
   "cell_type": "markdown",
   "metadata": {},
   "source": [
    "This next segment is the for-loop that creates a trace for each of the unique factors, essentially the same as for the second choropleth above except not making a new set for every year. Some minor changes are changing the color scale so it is easier to see which have increased and which have decreased, and also centering the colorbar at 0 using zmid."
   ]
  },
  {
   "cell_type": "code",
   "execution_count": 334,
   "metadata": {
    "scrolled": false
   },
   "outputs": [
    {
     "data": {
      "application/vnd.plotly.v1+json": {
       "config": {
        "plotlyServerURL": "https://plot.ly"
       },
       "data": [
        {
         "autocolorscale": false,
         "colorbar": {
          "title": {
           "text": "Life Ladder Change"
          }
         },
         "colorscale": [
          [
           0,
           "rgb(165,0,38)"
          ],
          [
           0.1,
           "rgb(215,48,39)"
          ],
          [
           0.2,
           "rgb(244,109,67)"
          ],
          [
           0.3,
           "rgb(253,174,97)"
          ],
          [
           0.4,
           "rgb(254,224,139)"
          ],
          [
           0.5,
           "rgb(255,255,191)"
          ],
          [
           0.6,
           "rgb(217,239,139)"
          ],
          [
           0.7,
           "rgb(166,217,106)"
          ],
          [
           0.8,
           "rgb(102,189,99)"
          ],
          [
           0.9,
           "rgb(26,152,80)"
          ],
          [
           1,
           "rgb(0,104,55)"
          ]
         ],
         "locations": [
          "AFG",
          "ALB",
          "DZA",
          "ARG",
          "ARM",
          "AUS",
          "AUT",
          "AZE",
          "BGD",
          "BLR",
          "BEL",
          "BEN",
          "BOL",
          "BIH",
          "BWA",
          "BRA",
          "BGR",
          "BFA",
          "KHM",
          "CMR",
          "CAN",
          "TCD",
          "CHL",
          "COL",
          "COM",
          "CRI",
          "HRV",
          "CYP",
          "DNK",
          "DOM",
          "ECU",
          "SLV",
          "EST",
          "FIN",
          "FRA",
          "GAB",
          "GEO",
          "DEU",
          "GHA",
          "GRC",
          "GTM",
          "GIN",
          "HND",
          "HUN",
          "IND",
          "IDN",
          "IRL",
          "ISR",
          "ITA",
          "JAM",
          "JPN",
          "KAZ",
          "KEN",
          "KGZ",
          "LAO",
          "LVA",
          "LBN",
          "LSO",
          "LTU",
          "LUX",
          "MDG",
          "MWI",
          "MYS",
          "MLI",
          "MRT",
          "MUS",
          "MEX",
          "MDA",
          "MNG",
          "MNE",
          "MAR",
          "MOZ",
          "NPL",
          "NLD",
          "NZL",
          "NIC",
          "NER",
          "PAK",
          "PAN",
          "PRY",
          "PER",
          "PHL",
          "POL",
          "PRT",
          "ROU",
          "RUS",
          "RWA",
          "SEN",
          "SRB",
          "SLE",
          "SGP",
          "SVK",
          "SVN",
          "ZAF",
          "ESP",
          "LKA",
          "SWZ",
          "SWE",
          "TZA",
          "THA",
          "TGO",
          "TUN",
          "TUR",
          "UGA",
          "UKR",
          "GBR",
          "USA",
          "URY",
          "UZB",
          "VNM",
          "ZMB",
          "ZWE"
         ],
         "marker": {
          "line": {
           "color": "white",
           "width": 1
          }
         },
         "text": [
          "Afghanistan",
          "Albania",
          "Algeria",
          "Argentina",
          "Armenia",
          "Australia",
          "Austria",
          "Azerbaijan",
          "Bangladesh",
          "Belarus",
          "Belgium",
          "Benin",
          "Bolivia",
          "Bosnia and Herzegovina",
          "Botswana",
          "Brazil",
          "Bulgaria",
          "Burkina Faso",
          "Cambodia",
          "Cameroon",
          "Canada",
          "Chad",
          "Chile",
          "Colombia",
          "Comoros",
          "Costa Rica",
          "Croatia",
          "Cyprus",
          "Denmark",
          "Dominican Republic",
          "Ecuador",
          "El Salvador",
          "Estonia",
          "Finland",
          "France",
          "Gabon",
          "Georgia",
          "Germany",
          "Ghana",
          "Greece",
          "Guatemala",
          "Guinea",
          "Honduras",
          "Hungary",
          "India",
          "Indonesia",
          "Ireland",
          "Israel",
          "Italy",
          "Jamaica",
          "Japan",
          "Kazakhstan",
          "Kenya",
          "Kyrgyzstan",
          "Laos",
          "Latvia",
          "Lebanon",
          "Lesotho",
          "Lithuania",
          "Luxembourg",
          "Madagascar",
          "Malawi",
          "Malaysia",
          "Mali",
          "Mauritania",
          "Mauritius",
          "Mexico",
          "Moldova",
          "Mongolia",
          "Montenegro",
          "Morocco",
          "Mozambique",
          "Nepal",
          "Netherlands",
          "New Zealand",
          "Nicaragua",
          "Niger",
          "Pakistan",
          "Panama",
          "Paraguay",
          "Peru",
          "Philippines",
          "Poland",
          "Portugal",
          "Romania",
          "Russia",
          "Rwanda",
          "Senegal",
          "Serbia",
          "Sierra Leone",
          "Singapore",
          "Slovakia",
          "Slovenia",
          "South Africa",
          "Spain",
          "Sri Lanka",
          "Swaziland",
          "Sweden",
          "Tanzania",
          "Thailand",
          "Togo",
          "Tunisia",
          "Turkey",
          "Uganda",
          "Ukraine",
          "United Kingdom",
          "United States",
          "Uruguay",
          "Uzbekistan",
          "Vietnam",
          "Zambia",
          "Zimbabwe"
         ],
         "type": "choropleth",
         "visible": true,
         "z": [
          -1.456627368927002,
          -0.8721036911010742,
          -0.5725669860839844,
          -0.6902446746826172,
          1.227595329284668,
          -0.17162132263183594,
          -0.27515172958374023,
          0.492919921875,
          0.12856769561767578,
          0.5961451530456543,
          -0.33922576904296875,
          1.106081247329712,
          -0.10460376739501953,
          1.0208516120910645,
          -0.04883623123168945,
          -0.586667537689209,
          1.233055591583252,
          -0.04447460174560547,
          0.837059497833252,
          0.5028524398803711,
          -0.31697702407836914,
          -0.1426830291748047,
          -0.5840845108032227,
          -0.11365461349487305,
          0.7701303958892822,
          -0.23126983642578125,
          0.2403712272644043,
          -0.5527758598327637,
          -0.09522867202758789,
          0.6077017784118652,
          0.014042854309082031,
          1.7135257720947266,
          0.5478215217590332,
          0.42612266540527344,
          -0.26954078674316406,
          0.6589927673339844,
          0.688805103302002,
          0.41416025161743164,
          -0.6413898468017578,
          0.5801177024841309,
          0.5188212394714355,
          0.7231149673461914,
          0.969019889831543,
          1.0826573371887207,
          -1.3861017227172852,
          0.1739044189453125,
          0.24793720245361328,
          -0.10136795043945312,
          0.38833045959472656,
          0.9347925186157227,
          -0.3547544479370117,
          0.5366053581237793,
          0.21354007720947266,
          0.7641716003417969,
          0.4931063652038574,
          1.0029420852661133,
          -1.1633520126342773,
          -1.3857343196868896,
          0.6316604614257812,
          0.3026151657104492,
          -0.042327880859375,
          -0.07693886756896973,
          -0.3584132194519043,
          0.32115888595581055,
          -0.6321849822998047,
          0.764091968536377,
          -0.4775700569152832,
          0.011188030242919922,
          0.5317316055297852,
          0.16290807723999023,
          -0.02822113037109375,
          -0.03897905349731445,
          1.639280080795288,
          -0.13852930068969727,
          0.014536380767822266,
          0.726839542388916,
          0.44771480560302734,
          -0.8244686126708984,
          -1.162125587463379,
          -0.02445507049560547,
          0.10692405700683594,
          1.2737884521484375,
          0.5958890914916992,
          0.8754754066467285,
          1.107184886932373,
          0.0517573356628418,
          -0.8292837142944336,
          1.6545350551605225,
          1.4262208938598633,
          -1.0542621612548828,
          -0.18268203735351562,
          0.29838037490844727,
          0.6293096542358398,
          0.10435199737548828,
          -0.060799598693847656,
          0.0327301025390625,
          -0.4709763526916504,
          0.015860557556152344,
          -0.4334073066711426,
          -0.6414575576782227,
          1.2432730197906494,
          -0.561002254486084,
          -0.3998703956604004,
          0.12205028533935547,
          -0.38137054443359375,
          0.2879023551940918,
          -0.17143726348876953,
          0.046289920806884766,
          0.41530513763427734,
          -0.2998933792114258,
          -1.692317008972168,
          -2.152118444442749
         ],
         "zmid": 0
        },
        {
         "autocolorscale": false,
         "colorbar": {
          "title": {
           "text": "Log GDP per capita Change"
          }
         },
         "colorscale": [
          [
           0,
           "rgb(165,0,38)"
          ],
          [
           0.1,
           "rgb(215,48,39)"
          ],
          [
           0.2,
           "rgb(244,109,67)"
          ],
          [
           0.3,
           "rgb(253,174,97)"
          ],
          [
           0.4,
           "rgb(254,224,139)"
          ],
          [
           0.5,
           "rgb(255,255,191)"
          ],
          [
           0.6,
           "rgb(217,239,139)"
          ],
          [
           0.7,
           "rgb(166,217,106)"
          ],
          [
           0.8,
           "rgb(102,189,99)"
          ],
          [
           0.9,
           "rgb(26,152,80)"
          ],
          [
           1,
           "rgb(0,104,55)"
          ]
         ],
         "locations": [
          "AFG",
          "ALB",
          "DZA",
          "ARG",
          "ARM",
          "AUS",
          "AUT",
          "AZE",
          "BGD",
          "BLR",
          "BEL",
          "BEN",
          "BOL",
          "BIH",
          "BWA",
          "BRA",
          "BGR",
          "BFA",
          "KHM",
          "CMR",
          "CAN",
          "TCD",
          "CHL",
          "COL",
          "COM",
          "CRI",
          "HRV",
          "CYP",
          "DNK",
          "DOM",
          "ECU",
          "SLV",
          "EST",
          "FIN",
          "FRA",
          "GAB",
          "GEO",
          "DEU",
          "GHA",
          "GRC",
          "GTM",
          "GIN",
          "HND",
          "HUN",
          "IND",
          "IDN",
          "IRL",
          "ISR",
          "ITA",
          "JAM",
          "JPN",
          "KAZ",
          "KEN",
          "KGZ",
          "LAO",
          "LVA",
          "LBN",
          "LSO",
          "LTU",
          "LUX",
          "MDG",
          "MWI",
          "MYS",
          "MLI",
          "MRT",
          "MUS",
          "MEX",
          "MDA",
          "MNG",
          "MNE",
          "MAR",
          "MOZ",
          "NPL",
          "NLD",
          "NZL",
          "NIC",
          "NER",
          "PAK",
          "PAN",
          "PRY",
          "PER",
          "PHL",
          "POL",
          "PRT",
          "ROU",
          "RUS",
          "RWA",
          "SEN",
          "SRB",
          "SLE",
          "SGP",
          "SVK",
          "SVN",
          "ZAF",
          "ESP",
          "LKA",
          "SWZ",
          "SWE",
          "TZA",
          "THA",
          "TGO",
          "TUN",
          "TUR",
          "UGA",
          "UKR",
          "GBR",
          "USA",
          "URY",
          "UZB",
          "VNM",
          "ZMB",
          "ZWE"
         ],
         "marker": {
          "line": {
           "color": "white",
           "width": 1
          }
         },
         "text": [
          "Afghanistan",
          "Albania",
          "Algeria",
          "Argentina",
          "Armenia",
          "Australia",
          "Austria",
          "Azerbaijan",
          "Bangladesh",
          "Belarus",
          "Belgium",
          "Benin",
          "Bolivia",
          "Bosnia and Herzegovina",
          "Botswana",
          "Brazil",
          "Bulgaria",
          "Burkina Faso",
          "Cambodia",
          "Cameroon",
          "Canada",
          "Chad",
          "Chile",
          "Colombia",
          "Comoros",
          "Costa Rica",
          "Croatia",
          "Cyprus",
          "Denmark",
          "Dominican Republic",
          "Ecuador",
          "El Salvador",
          "Estonia",
          "Finland",
          "France",
          "Gabon",
          "Georgia",
          "Germany",
          "Ghana",
          "Greece",
          "Guatemala",
          "Guinea",
          "Honduras",
          "Hungary",
          "India",
          "Indonesia",
          "Ireland",
          "Israel",
          "Italy",
          "Jamaica",
          "Japan",
          "Kazakhstan",
          "Kenya",
          "Kyrgyzstan",
          "Laos",
          "Latvia",
          "Lebanon",
          "Lesotho",
          "Lithuania",
          "Luxembourg",
          "Madagascar",
          "Malawi",
          "Malaysia",
          "Mali",
          "Mauritania",
          "Mauritius",
          "Mexico",
          "Moldova",
          "Mongolia",
          "Montenegro",
          "Morocco",
          "Mozambique",
          "Nepal",
          "Netherlands",
          "New Zealand",
          "Nicaragua",
          "Niger",
          "Pakistan",
          "Panama",
          "Paraguay",
          "Peru",
          "Philippines",
          "Poland",
          "Portugal",
          "Romania",
          "Russia",
          "Rwanda",
          "Senegal",
          "Serbia",
          "Sierra Leone",
          "Singapore",
          "Slovakia",
          "Slovenia",
          "South Africa",
          "Spain",
          "Sri Lanka",
          "Swaziland",
          "Sweden",
          "Tanzania",
          "Thailand",
          "Togo",
          "Tunisia",
          "Turkey",
          "Uganda",
          "Ukraine",
          "United Kingdom",
          "United States",
          "Uruguay",
          "Uzbekistan",
          "Vietnam",
          "Zambia",
          "Zimbabwe"
         ],
         "type": "choropleth",
         "visible": false,
         "z": [
          0.07771587371826172,
          0.21302413940429688,
          0.04025554656982422,
          -0.1121053695678711,
          0.33928680419921875,
          0.08219623565673828,
          0.052471160888671875,
          0.035228729248046875,
          0.44873809814453125,
          0.048020362854003906,
          0.0703897476196289,
          0.1939077377319336,
          0.2426166534423828,
          0.2755279541015625,
          0.18468761444091797,
          -0.04449748992919922,
          0.2521095275878906,
          0.2045278549194336,
          0.427217960357666,
          0.1554574966430664,
          0.06247234344482422,
          -0.05967998504638672,
          0.114715576171875,
          0.15577125549316406,
          0.05217933654785156,
          0.18017101287841797,
          0.16665935516357422,
          0.055397987365722656,
          0.10633468627929688,
          0.34656524658203125,
          0.03498077392578125,
          0.14707469940185547,
          0.26331520080566406,
          0.037616729736328125,
          0.06981182098388672,
          -0.00084686279296875,
          0.3536853790283203,
          0.07993030548095703,
          0.26449012756347656,
          -0.01943492889404297,
          0.14074230194091797,
          0.2819361686706543,
          0.1446819305419922,
          0.26575279235839844,
          0.4304389953613281,
          0.3080873489379883,
          0.4932537078857422,
          0.11139583587646484,
          -0.016127586364746094,
          0.022383689880371094,
          0.09928703308105469,
          0.1818408966064453,
          0.2302570343017578,
          0.19217491149902344,
          0.4167909622192383,
          0.30703067779541016,
          -0.24087810516357422,
          0.14844751358032227,
          0.3514060974121094,
          0.053612709045410156,
          0.06999063491821289,
          0.07097101211547852,
          0.2862567901611328,
          0.10956048965454102,
          0.07486343383789062,
          0.2754173278808594,
          0.08081340789794922,
          0.3644695281982422,
          0.357086181640625,
          0.21521854400634766,
          0.14120197296142578,
          0.17630720138549805,
          0.33901119232177734,
          0.07822608947753906,
          0.13019084930419922,
          0.11130714416503906,
          0.18071985244750977,
          0.1772756576538086,
          0.2979288101196289,
          0.17017078399658203,
          0.19073772430419922,
          0.3879690170288086,
          0.2736396789550781,
          0.1045370101928711,
          0.3656644821166992,
          0.07664203643798828,
          0.33876752853393555,
          0.22640275955200195,
          0.20119667053222656,
          0.15677213668823242,
          0.17886638641357422,
          0.20239830017089844,
          0.13755035400390625,
          -0.014697074890136719,
          0.10096359252929688,
          0.2857503890991211,
          0.1296062469482422,
          0.06829261779785156,
          0.2373638153076172,
          0.24405384063720703,
          0.22928953170776367,
          0.09090328216552734,
          0.25026416778564453,
          0.10154914855957031,
          0.02717876434326172,
          0.094940185546875,
          0.13036346435546875,
          0.14913463592529297,
          0.36040306091308594,
          0.4071025848388672,
          0.08333110809326172,
          0.10382413864135742
         ],
         "zmid": 0
        },
        {
         "autocolorscale": false,
         "colorbar": {
          "title": {
           "text": "Social Support Change"
          }
         },
         "colorscale": [
          [
           0,
           "rgb(165,0,38)"
          ],
          [
           0.1,
           "rgb(215,48,39)"
          ],
          [
           0.2,
           "rgb(244,109,67)"
          ],
          [
           0.3,
           "rgb(253,174,97)"
          ],
          [
           0.4,
           "rgb(254,224,139)"
          ],
          [
           0.5,
           "rgb(255,255,191)"
          ],
          [
           0.6,
           "rgb(217,239,139)"
          ],
          [
           0.7,
           "rgb(166,217,106)"
          ],
          [
           0.8,
           "rgb(102,189,99)"
          ],
          [
           0.9,
           "rgb(26,152,80)"
          ],
          [
           1,
           "rgb(0,104,55)"
          ]
         ],
         "locations": [
          "AFG",
          "ALB",
          "DZA",
          "ARG",
          "ARM",
          "AUS",
          "AUT",
          "AZE",
          "BGD",
          "BLR",
          "BEL",
          "BEN",
          "BOL",
          "BIH",
          "BWA",
          "BRA",
          "BGR",
          "BFA",
          "KHM",
          "CMR",
          "CAN",
          "TCD",
          "CHL",
          "COL",
          "COM",
          "CRI",
          "HRV",
          "CYP",
          "DNK",
          "DOM",
          "ECU",
          "SLV",
          "EST",
          "FIN",
          "FRA",
          "GAB",
          "GEO",
          "DEU",
          "GHA",
          "GRC",
          "GTM",
          "GIN",
          "HND",
          "HUN",
          "IND",
          "IDN",
          "IRL",
          "ISR",
          "ITA",
          "JAM",
          "JPN",
          "KAZ",
          "KEN",
          "KGZ",
          "LAO",
          "LVA",
          "LBN",
          "LSO",
          "LTU",
          "LUX",
          "MDG",
          "MWI",
          "MYS",
          "MLI",
          "MRT",
          "MUS",
          "MEX",
          "MDA",
          "MNG",
          "MNE",
          "MAR",
          "MOZ",
          "NPL",
          "NLD",
          "NZL",
          "NIC",
          "NER",
          "PAK",
          "PAN",
          "PRY",
          "PER",
          "PHL",
          "POL",
          "PRT",
          "ROU",
          "RUS",
          "RWA",
          "SEN",
          "SRB",
          "SLE",
          "SGP",
          "SVK",
          "SVN",
          "ZAF",
          "ESP",
          "LKA",
          "SWZ",
          "SWE",
          "TZA",
          "THA",
          "TGO",
          "TUN",
          "TUR",
          "UGA",
          "UKR",
          "GBR",
          "USA",
          "URY",
          "UZB",
          "VNM",
          "ZMB",
          "ZWE"
         ],
         "marker": {
          "line": {
           "color": "white",
           "width": 1
          }
         },
         "text": [
          "Afghanistan",
          "Albania",
          "Algeria",
          "Argentina",
          "Armenia",
          "Australia",
          "Austria",
          "Azerbaijan",
          "Bangladesh",
          "Belarus",
          "Belgium",
          "Benin",
          "Bolivia",
          "Bosnia and Herzegovina",
          "Botswana",
          "Brazil",
          "Bulgaria",
          "Burkina Faso",
          "Cambodia",
          "Cameroon",
          "Canada",
          "Chad",
          "Chile",
          "Colombia",
          "Comoros",
          "Costa Rica",
          "Croatia",
          "Cyprus",
          "Denmark",
          "Dominican Republic",
          "Ecuador",
          "El Salvador",
          "Estonia",
          "Finland",
          "France",
          "Gabon",
          "Georgia",
          "Germany",
          "Ghana",
          "Greece",
          "Guatemala",
          "Guinea",
          "Honduras",
          "Hungary",
          "India",
          "Indonesia",
          "Ireland",
          "Israel",
          "Italy",
          "Jamaica",
          "Japan",
          "Kazakhstan",
          "Kenya",
          "Kyrgyzstan",
          "Laos",
          "Latvia",
          "Lebanon",
          "Lesotho",
          "Lithuania",
          "Luxembourg",
          "Madagascar",
          "Malawi",
          "Malaysia",
          "Mali",
          "Mauritania",
          "Mauritius",
          "Mexico",
          "Moldova",
          "Mongolia",
          "Montenegro",
          "Morocco",
          "Mozambique",
          "Nepal",
          "Netherlands",
          "New Zealand",
          "Nicaragua",
          "Niger",
          "Pakistan",
          "Panama",
          "Paraguay",
          "Peru",
          "Philippines",
          "Poland",
          "Portugal",
          "Romania",
          "Russia",
          "Rwanda",
          "Senegal",
          "Serbia",
          "Sierra Leone",
          "Singapore",
          "Slovakia",
          "Slovenia",
          "South Africa",
          "Spain",
          "Sri Lanka",
          "Swaziland",
          "Sweden",
          "Tanzania",
          "Thailand",
          "Togo",
          "Tunisia",
          "Turkey",
          "Uganda",
          "Ukraine",
          "United Kingdom",
          "United States",
          "Uruguay",
          "Uzbekistan",
          "Vietnam",
          "Zambia",
          "Zimbabwe"
         ],
         "type": "choropleth",
         "visible": false,
         "z": [
          -0.10113069415092468,
          -0.07306891679763794,
          -0.006975829601287842,
          0.007297039031982422,
          0.07649540901184082,
          -0.02425485849380493,
          0.020331978797912598,
          0.1615625023841858,
          0.06671315431594849,
          0.006852686405181885,
          -0.05272495746612549,
          -0.035340458154678345,
          -0.03248143196105957,
          0.1478990912437439,
          -0.0863608717918396,
          -0.017077863216400146,
          0.08793210983276367,
          -0.02642577886581421,
          0.04365652799606323,
          -0.02702808380126953,
          0.0036347508430480957,
          -0.1783919334411621,
          0.05004304647445679,
          -0.03156840801239014,
          -0.08981978893280029,
          0.014029264450073242,
          0.14625000953674316,
          -0.06757646799087524,
          -0.004029750823974609,
          0.012003660202026367,
          -0.009565532207489014,
          0.03311264514923096,
          0.02535170316696167,
          -0.0004413127899169922,
          0.03706252574920654,
          0.11035013198852539,
          0.17203867435455322,
          -0.06156933307647705,
          0.021950602531433105,
          0.03925454616546631,
          0.005961954593658447,
          0.05665862560272217,
          0.03144651651382446,
          0.05285334587097168,
          0.008187651634216309,
          -0.02305901050567627,
          -0.03365123271942139,
          0.05331408977508545,
          -0.07490688562393188,
          0.023230254650115967,
          -0.03905278444290161,
          0.04607874155044556,
          -0.17037594318389893,
          -0.014376223087310791,
          0.03856611251831055,
          0.09945881366729736,
          0.13305389881134033,
          -0.03437995910644531,
          0.006166219711303711,
          -0.021986067295074463,
          -0.11779254674911499,
          -0.06378066539764404,
          0.07207584381103516,
          -0.04094696044921875,
          0.047825396060943604,
          0.11286109685897827,
          0.027621746063232422,
          -0.06024646759033203,
          -0.0021271705627441406,
          0.013993382453918457,
          -0.29858124256134033,
          -0.07532083988189697,
          0.03129369020462036,
          0.003081381320953369,
          -0.014828681945800781,
          0.07355880737304688,
          -0.14070194959640503,
          0.10741162300109863,
          0.009437203407287598,
          0.023337483406066895,
          0.05277138948440552,
          0.05633145570755005,
          -0.026310384273529053,
          0.02012193202972412,
          0.08929914236068726,
          0.026681959629058838,
          -0.08040127158164978,
          0.08520472049713135,
          0.1300836205482483,
          -0.17080122232437134,
          0.02044445276260376,
          0.015794873237609863,
          0.018236219882965088,
          -0.009983420372009277,
          0.0045697689056396484,
          -0.026999294757843018,
          -0.07805204391479492,
          0.013123810291290283,
          -0.195262610912323,
          0.01870018243789673,
          0.2357470989227295,
          -0.10530215501785278,
          0.09975451231002808,
          -0.07626396417617798,
          0.023267805576324463,
          -0.006029605865478516,
          -0.005013883113861084,
          0.04218852519989014,
          -0.008795320987701416,
          -0.05006301403045654,
          -0.22612816095352173,
          -0.10553121566772461
         ],
         "zmid": 0
        },
        {
         "autocolorscale": false,
         "colorbar": {
          "title": {
           "text": "Life Expectancy Change"
          }
         },
         "colorscale": [
          [
           0,
           "rgb(165,0,38)"
          ],
          [
           0.1,
           "rgb(215,48,39)"
          ],
          [
           0.2,
           "rgb(244,109,67)"
          ],
          [
           0.3,
           "rgb(253,174,97)"
          ],
          [
           0.4,
           "rgb(254,224,139)"
          ],
          [
           0.5,
           "rgb(255,255,191)"
          ],
          [
           0.6,
           "rgb(217,239,139)"
          ],
          [
           0.7,
           "rgb(166,217,106)"
          ],
          [
           0.8,
           "rgb(102,189,99)"
          ],
          [
           0.9,
           "rgb(26,152,80)"
          ],
          [
           1,
           "rgb(0,104,55)"
          ]
         ],
         "locations": [
          "AFG",
          "ALB",
          "DZA",
          "ARG",
          "ARM",
          "AUS",
          "AUT",
          "AZE",
          "BGD",
          "BLR",
          "BEL",
          "BEN",
          "BOL",
          "BIH",
          "BWA",
          "BRA",
          "BGR",
          "BFA",
          "KHM",
          "CMR",
          "CAN",
          "TCD",
          "CHL",
          "COL",
          "COM",
          "CRI",
          "HRV",
          "CYP",
          "DNK",
          "DOM",
          "ECU",
          "SLV",
          "EST",
          "FIN",
          "FRA",
          "GAB",
          "GEO",
          "DEU",
          "GHA",
          "GRC",
          "GTM",
          "GIN",
          "HND",
          "HUN",
          "IND",
          "IDN",
          "IRL",
          "ISR",
          "ITA",
          "JAM",
          "JPN",
          "KAZ",
          "KEN",
          "KGZ",
          "LAO",
          "LVA",
          "LBN",
          "LSO",
          "LTU",
          "LUX",
          "MDG",
          "MWI",
          "MYS",
          "MLI",
          "MRT",
          "MUS",
          "MEX",
          "MDA",
          "MNG",
          "MNE",
          "MAR",
          "MOZ",
          "NPL",
          "NLD",
          "NZL",
          "NIC",
          "NER",
          "PAK",
          "PAN",
          "PRY",
          "PER",
          "PHL",
          "POL",
          "PRT",
          "ROU",
          "RUS",
          "RWA",
          "SEN",
          "SRB",
          "SLE",
          "SGP",
          "SVK",
          "SVN",
          "ZAF",
          "ESP",
          "LKA",
          "SWZ",
          "SWE",
          "TZA",
          "THA",
          "TGO",
          "TUN",
          "TUR",
          "UGA",
          "UKR",
          "GBR",
          "USA",
          "URY",
          "UZB",
          "VNM",
          "ZMB",
          "ZWE"
         ],
         "marker": {
          "line": {
           "color": "white",
           "width": 1
          }
         },
         "text": [
          "Afghanistan",
          "Albania",
          "Algeria",
          "Argentina",
          "Armenia",
          "Australia",
          "Austria",
          "Azerbaijan",
          "Bangladesh",
          "Belarus",
          "Belgium",
          "Benin",
          "Bolivia",
          "Bosnia and Herzegovina",
          "Botswana",
          "Brazil",
          "Bulgaria",
          "Burkina Faso",
          "Cambodia",
          "Cameroon",
          "Canada",
          "Chad",
          "Chile",
          "Colombia",
          "Comoros",
          "Costa Rica",
          "Croatia",
          "Cyprus",
          "Denmark",
          "Dominican Republic",
          "Ecuador",
          "El Salvador",
          "Estonia",
          "Finland",
          "France",
          "Gabon",
          "Georgia",
          "Germany",
          "Ghana",
          "Greece",
          "Guatemala",
          "Guinea",
          "Honduras",
          "Hungary",
          "India",
          "Indonesia",
          "Ireland",
          "Israel",
          "Italy",
          "Jamaica",
          "Japan",
          "Kazakhstan",
          "Kenya",
          "Kyrgyzstan",
          "Laos",
          "Latvia",
          "Lebanon",
          "Lesotho",
          "Lithuania",
          "Luxembourg",
          "Madagascar",
          "Malawi",
          "Malaysia",
          "Mali",
          "Mauritania",
          "Mauritius",
          "Mexico",
          "Moldova",
          "Mongolia",
          "Montenegro",
          "Morocco",
          "Mozambique",
          "Nepal",
          "Netherlands",
          "New Zealand",
          "Nicaragua",
          "Niger",
          "Pakistan",
          "Panama",
          "Paraguay",
          "Peru",
          "Philippines",
          "Poland",
          "Portugal",
          "Romania",
          "Russia",
          "Rwanda",
          "Senegal",
          "Serbia",
          "Sierra Leone",
          "Singapore",
          "Slovakia",
          "Slovenia",
          "South Africa",
          "Spain",
          "Sri Lanka",
          "Swaziland",
          "Sweden",
          "Tanzania",
          "Thailand",
          "Togo",
          "Tunisia",
          "Turkey",
          "Uganda",
          "Ukraine",
          "United Kingdom",
          "United States",
          "Uruguay",
          "Uzbekistan",
          "Vietnam",
          "Zambia",
          "Zimbabwe"
         ],
         "type": "choropleth",
         "visible": false,
         "z": [
          0.48000335693359375,
          2.3199996948242188,
          1.4399948120117188,
          1.5199966430664062,
          1.839996337890625,
          1.5999984741210938,
          1.7600021362304688,
          2.160003662109375,
          3.680004119873047,
          3.520000457763672,
          1.279998779296875,
          2.720001220703125,
          2.5600013732910156,
          1.3600006103515625,
          5.9199981689453125,
          1.839996337890625,
          1.1999969482421875,
          4.159999847412109,
          3.1199989318847656,
          4.799999237060547,
          1.44000244140625,
          3.2800025939941406,
          0.9599990844726562,
          2.0800018310546875,
          2.479999542236328,
          1.5999984741210938,
          2.8000030517578125,
          1.3600006103515625,
          2.0799942016601562,
          2.0800018310546875,
          1.8400039672851562,
          2,
          1.8400039672851562,
          1.3600006103515625,
          1.5999984741210938,
          4.720001220703125,
          -0.55999755859375,
          1.5199966430664062,
          3.1199989318847656,
          1.0400009155273438,
          2.6399993896484375,
          5.279998779296875,
          1.6800003051757812,
          2.2399978637695312,
          2.799999237060547,
          1.6800003051757812,
          0.8000030517578125,
          1.0400009155273438,
          0.9600067138671875,
          1.279998779296875,
          1.1199951171875,
          4.4799957275390625,
          4.6399993896484375,
          2.8800010681152344,
          2.799999237060547,
          2.2399978637695312,
          2.3199996948242188,
          2.9599990844726562,
          3.2000045776367188,
          0.720001220703125,
          3.279998779296875,
          6.880001068115234,
          1.4399948120117188,
          3.44000244140625,
          2.479999542236328,
          2,
          1.9199981689453125,
          4.079998016357422,
          2,
          1.4399948120117188,
          2.3999977111816406,
          6.880001068115234,
          5.1999969482421875,
          0.8800048828125,
          1.279998779296875,
          2.0800018310546875,
          4.0800018310546875,
          2.4800033569335938,
          1.1999969482421875,
          1.279998779296875,
          1.9199981689453125,
          1.2000007629394531,
          2.2399978637695312,
          1.5999984741210938,
          2.0800018310546875,
          3.279998779296875,
          4.880001068115234,
          3.4399986267089844,
          2.2399978637695312,
          8.080001831054688,
          2.0800018310546875,
          2.1599960327148438,
          2,
          5.44000244140625,
          1.6800003051757812,
          1.2000045776367188,
          10.462100982666016,
          0.7199935913085938,
          4.959999084472656,
          1.6800003051757812,
          3.5199966430664062,
          1.9199981689453125,
          2.55999755859375,
          4.879997253417969,
          2.4000015258789062,
          1.1200027465820312,
          -0.48000335693359375,
          0.9599990844726562,
          2,
          1.4399948120117188,
          4.959999084472656,
          8.080001831054688
         ],
         "zmid": 0
        },
        {
         "autocolorscale": false,
         "colorbar": {
          "title": {
           "text": "Life Choices Change"
          }
         },
         "colorscale": [
          [
           0,
           "rgb(165,0,38)"
          ],
          [
           0.1,
           "rgb(215,48,39)"
          ],
          [
           0.2,
           "rgb(244,109,67)"
          ],
          [
           0.3,
           "rgb(253,174,97)"
          ],
          [
           0.4,
           "rgb(254,224,139)"
          ],
          [
           0.5,
           "rgb(255,255,191)"
          ],
          [
           0.6,
           "rgb(217,239,139)"
          ],
          [
           0.7,
           "rgb(166,217,106)"
          ],
          [
           0.8,
           "rgb(102,189,99)"
          ],
          [
           0.9,
           "rgb(26,152,80)"
          ],
          [
           1,
           "rgb(0,104,55)"
          ]
         ],
         "locations": [
          "AFG",
          "ALB",
          "DZA",
          "ARG",
          "ARM",
          "AUS",
          "AUT",
          "AZE",
          "BGD",
          "BLR",
          "BEL",
          "BEN",
          "BOL",
          "BIH",
          "BWA",
          "BRA",
          "BGR",
          "BFA",
          "KHM",
          "CMR",
          "CAN",
          "TCD",
          "CHL",
          "COL",
          "COM",
          "CRI",
          "HRV",
          "CYP",
          "DNK",
          "DOM",
          "ECU",
          "SLV",
          "EST",
          "FIN",
          "FRA",
          "GAB",
          "GEO",
          "DEU",
          "GHA",
          "GRC",
          "GTM",
          "GIN",
          "HND",
          "HUN",
          "IND",
          "IDN",
          "IRL",
          "ISR",
          "ITA",
          "JAM",
          "JPN",
          "KAZ",
          "KEN",
          "KGZ",
          "LAO",
          "LVA",
          "LBN",
          "LSO",
          "LTU",
          "LUX",
          "MDG",
          "MWI",
          "MYS",
          "MLI",
          "MRT",
          "MUS",
          "MEX",
          "MDA",
          "MNG",
          "MNE",
          "MAR",
          "MOZ",
          "NPL",
          "NLD",
          "NZL",
          "NIC",
          "NER",
          "PAK",
          "PAN",
          "PRY",
          "PER",
          "PHL",
          "POL",
          "PRT",
          "ROU",
          "RUS",
          "RWA",
          "SEN",
          "SRB",
          "SLE",
          "SGP",
          "SVK",
          "SVN",
          "ZAF",
          "ESP",
          "LKA",
          "SWZ",
          "SWE",
          "TZA",
          "THA",
          "TGO",
          "TUN",
          "TUR",
          "UGA",
          "UKR",
          "GBR",
          "USA",
          "URY",
          "UZB",
          "VNM",
          "ZMB",
          "ZWE"
         ],
         "marker": {
          "line": {
           "color": "white",
           "width": 1
          }
         },
         "text": [
          "Afghanistan",
          "Albania",
          "Algeria",
          "Argentina",
          "Armenia",
          "Australia",
          "Austria",
          "Azerbaijan",
          "Bangladesh",
          "Belarus",
          "Belgium",
          "Benin",
          "Bolivia",
          "Bosnia and Herzegovina",
          "Botswana",
          "Brazil",
          "Bulgaria",
          "Burkina Faso",
          "Cambodia",
          "Cameroon",
          "Canada",
          "Chad",
          "Chile",
          "Colombia",
          "Comoros",
          "Costa Rica",
          "Croatia",
          "Cyprus",
          "Denmark",
          "Dominican Republic",
          "Ecuador",
          "El Salvador",
          "Estonia",
          "Finland",
          "France",
          "Gabon",
          "Georgia",
          "Germany",
          "Ghana",
          "Greece",
          "Guatemala",
          "Guinea",
          "Honduras",
          "Hungary",
          "India",
          "Indonesia",
          "Ireland",
          "Israel",
          "Italy",
          "Jamaica",
          "Japan",
          "Kazakhstan",
          "Kenya",
          "Kyrgyzstan",
          "Laos",
          "Latvia",
          "Lebanon",
          "Lesotho",
          "Lithuania",
          "Luxembourg",
          "Madagascar",
          "Malawi",
          "Malaysia",
          "Mali",
          "Mauritania",
          "Mauritius",
          "Mexico",
          "Moldova",
          "Mongolia",
          "Montenegro",
          "Morocco",
          "Mozambique",
          "Nepal",
          "Netherlands",
          "New Zealand",
          "Nicaragua",
          "Niger",
          "Pakistan",
          "Panama",
          "Paraguay",
          "Peru",
          "Philippines",
          "Poland",
          "Portugal",
          "Romania",
          "Russia",
          "Rwanda",
          "Senegal",
          "Serbia",
          "Sierra Leone",
          "Singapore",
          "Slovakia",
          "Slovenia",
          "South Africa",
          "Spain",
          "Sri Lanka",
          "Swaziland",
          "Sweden",
          "Tanzania",
          "Thailand",
          "Togo",
          "Tunisia",
          "Turkey",
          "Uganda",
          "Ukraine",
          "United Kingdom",
          "United States",
          "Uruguay",
          "Uzbekistan",
          "Vietnam",
          "Zambia",
          "Zimbabwe"
         ],
         "type": "choropleth",
         "visible": false,
         "z": [
          -0.10224524140357971,
          0.2898551821708679,
          -0.14447784423828125,
          0.0012505650520324707,
          0.37979939579963684,
          -0.027049541473388672,
          -0.03592795133590698,
          0.316764235496521,
          0.06394129991531372,
          0.0009227395057678223,
          -0.10394996404647827,
          -0.002558767795562744,
          0.09963721036911011,
          0.3882511258125305,
          0.02002859115600586,
          -0.003449738025665283,
          0.1584019660949707,
          -0.04702162742614746,
          0.02933681011199951,
          -0.10519349575042725,
          -0.039399683475494385,
          -0.0030222535133361816,
          -0.041557371616363525,
          0.010593295097351074,
          0.03858765959739685,
          0.0007243156433105469,
          0.22236818075180054,
          -0.0054108500480651855,
          0.02855825424194336,
          0.029430925846099854,
          0.041267991065979004,
          0.13014429807662964,
          0.15127897262573242,
          0.011168301105499268,
          -0.07612580060958862,
          -0.03552204370498657,
          0.1780695915222168,
          -0.021541714668273926,
          -0.06444841623306274,
          0.08545815944671631,
          0.13771319389343262,
          -0.10543113946914673,
          0.06282097101211548,
          0.16694092750549316,
          0.03798866271972656,
          -0.012428045272827148,
          -0.059575676918029785,
          0.11222267150878906,
          0.14174044132232666,
          0.09505730867385864,
          -0.007924914360046387,
          -0.02550065517425537,
          0.10909831523895264,
          0.17262780666351318,
          0.024519622325897217,
          0.13347065448760986,
          -0.2101045548915863,
          0.09805381298065186,
          0.21446919441223145,
          -0.03150951862335205,
          0.003979623317718506,
          0.03140038251876831,
          0.0754196047782898,
          -0.15244251489639282,
          0.060584962368011475,
          0.04496413469314575,
          0.07201635837554932,
          0.15564179420471191,
          0.010329484939575195,
          0.14808112382888794,
          0.17781710624694824,
          0.2306033968925476,
          0.26555001735687256,
          -0.03983902931213379,
          -0.022726356983184814,
          0.10408741235733032,
          0.05184662342071533,
          0.3088529407978058,
          0.05394822359085083,
          0.21018832921981812,
          0.042046427726745605,
          0.026761114597320557,
          0.014736831188201904,
          0.0072585344314575195,
          0.19714099168777466,
          0.08891850709915161,
          0.0399630069732666,
          0.11795145273208618,
          0.3120462894439697,
          -0.05196857452392578,
          0.11622542142868042,
          0.043958425521850586,
          0.03798961639404297,
          -0.09710949659347534,
          -0.04068416357040405,
          0.0016400814056396484,
          -0.010474801063537598,
          0.0003997683525085449,
          0.11410218477249146,
          -0.028637230396270752,
          0.033331453800201416,
          0.05620807409286499,
          0.1854771375656128,
          -0.028597354888916016,
          0.1366424560546875,
          -0.04573488235473633,
          -0.027063369750976562,
          0.05123722553253174,
          0.036161839962005615,
          0.13406479358673096,
          0.1481897234916687,
          -0.0010703802108764648
         ],
         "zmid": 0
        },
        {
         "autocolorscale": false,
         "colorbar": {
          "title": {
           "text": "Generosity Change"
          }
         },
         "colorscale": [
          [
           0,
           "rgb(165,0,38)"
          ],
          [
           0.1,
           "rgb(215,48,39)"
          ],
          [
           0.2,
           "rgb(244,109,67)"
          ],
          [
           0.3,
           "rgb(253,174,97)"
          ],
          [
           0.4,
           "rgb(254,224,139)"
          ],
          [
           0.5,
           "rgb(255,255,191)"
          ],
          [
           0.6,
           "rgb(217,239,139)"
          ],
          [
           0.7,
           "rgb(166,217,106)"
          ],
          [
           0.8,
           "rgb(102,189,99)"
          ],
          [
           0.9,
           "rgb(26,152,80)"
          ],
          [
           1,
           "rgb(0,104,55)"
          ]
         ],
         "locations": [
          "AFG",
          "ALB",
          "DZA",
          "ARG",
          "ARM",
          "AUS",
          "AUT",
          "AZE",
          "BGD",
          "BLR",
          "BEL",
          "BEN",
          "BOL",
          "BIH",
          "BWA",
          "BRA",
          "BGR",
          "BFA",
          "KHM",
          "CMR",
          "CAN",
          "TCD",
          "CHL",
          "COL",
          "COM",
          "CRI",
          "HRV",
          "CYP",
          "DNK",
          "DOM",
          "ECU",
          "SLV",
          "EST",
          "FIN",
          "FRA",
          "GAB",
          "GEO",
          "DEU",
          "GHA",
          "GRC",
          "GTM",
          "GIN",
          "HND",
          "HUN",
          "IND",
          "IDN",
          "IRL",
          "ISR",
          "ITA",
          "JAM",
          "JPN",
          "KAZ",
          "KEN",
          "KGZ",
          "LAO",
          "LVA",
          "LBN",
          "LSO",
          "LTU",
          "LUX",
          "MDG",
          "MWI",
          "MYS",
          "MLI",
          "MRT",
          "MUS",
          "MEX",
          "MDA",
          "MNG",
          "MNE",
          "MAR",
          "MOZ",
          "NPL",
          "NLD",
          "NZL",
          "NIC",
          "NER",
          "PAK",
          "PAN",
          "PRY",
          "PER",
          "PHL",
          "POL",
          "PRT",
          "ROU",
          "RUS",
          "RWA",
          "SEN",
          "SRB",
          "SLE",
          "SGP",
          "SVK",
          "SVN",
          "ZAF",
          "ESP",
          "LKA",
          "SWZ",
          "SWE",
          "TZA",
          "THA",
          "TGO",
          "TUN",
          "TUR",
          "UGA",
          "UKR",
          "GBR",
          "USA",
          "URY",
          "UZB",
          "VNM",
          "ZMB",
          "ZWE"
         ],
         "marker": {
          "line": {
           "color": "white",
           "width": 1
          }
         },
         "text": [
          "Afghanistan",
          "Albania",
          "Algeria",
          "Argentina",
          "Armenia",
          "Australia",
          "Austria",
          "Azerbaijan",
          "Bangladesh",
          "Belarus",
          "Belgium",
          "Benin",
          "Bolivia",
          "Bosnia and Herzegovina",
          "Botswana",
          "Brazil",
          "Bulgaria",
          "Burkina Faso",
          "Cambodia",
          "Cameroon",
          "Canada",
          "Chad",
          "Chile",
          "Colombia",
          "Comoros",
          "Costa Rica",
          "Croatia",
          "Cyprus",
          "Denmark",
          "Dominican Republic",
          "Ecuador",
          "El Salvador",
          "Estonia",
          "Finland",
          "France",
          "Gabon",
          "Georgia",
          "Germany",
          "Ghana",
          "Greece",
          "Guatemala",
          "Guinea",
          "Honduras",
          "Hungary",
          "India",
          "Indonesia",
          "Ireland",
          "Israel",
          "Italy",
          "Jamaica",
          "Japan",
          "Kazakhstan",
          "Kenya",
          "Kyrgyzstan",
          "Laos",
          "Latvia",
          "Lebanon",
          "Lesotho",
          "Lithuania",
          "Luxembourg",
          "Madagascar",
          "Malawi",
          "Malaysia",
          "Mali",
          "Mauritania",
          "Mauritius",
          "Mexico",
          "Moldova",
          "Mongolia",
          "Montenegro",
          "Morocco",
          "Mozambique",
          "Nepal",
          "Netherlands",
          "New Zealand",
          "Nicaragua",
          "Niger",
          "Pakistan",
          "Panama",
          "Paraguay",
          "Peru",
          "Philippines",
          "Poland",
          "Portugal",
          "Romania",
          "Russia",
          "Rwanda",
          "Senegal",
          "Serbia",
          "Sierra Leone",
          "Singapore",
          "Slovakia",
          "Slovenia",
          "South Africa",
          "Spain",
          "Sri Lanka",
          "Swaziland",
          "Sweden",
          "Tanzania",
          "Thailand",
          "Togo",
          "Tunisia",
          "Turkey",
          "Uganda",
          "Ukraine",
          "United Kingdom",
          "United States",
          "Uruguay",
          "Uzbekistan",
          "Vietnam",
          "Zambia",
          "Zimbabwe"
         ],
         "type": "choropleth",
         "visible": false,
         "z": [
          -0.2708863541483879,
          0.10533130168914795,
          0.18574050953611732,
          -0.0367252379655838,
          0.05311030149459839,
          -0.24865861982107162,
          -0.07189132273197174,
          -0.10963395237922668,
          0.01786866784095764,
          -0.018000170588493347,
          -0.15736790839582682,
          0.12610644660890102,
          -0.046470362693071365,
          0.11392885819077492,
          0.011002406477928162,
          0.010364055633544922,
          0.11924272775650024,
          0.10047796135768294,
          -0.4052761010825634,
          0.021028287708759308,
          -0.141560360789299,
          0.0244009867310524,
          -0.21442590653896332,
          -0.09864502400159836,
          0.15210072696208954,
          -0.11298800259828568,
          0.06023700535297394,
          -0.18729723617434502,
          -0.277207400649786,
          -0.13664887007325888,
          0.04022005945444107,
          0.017509885132312775,
          0.07241372019052505,
          -0.15301340073347092,
          -0.030720926821231842,
          0.008860409259796143,
          -0.004862278699874878,
          0.024165216833353043,
          0.10541329719126225,
          0.027760863304138184,
          -0.07118544541299343,
          0.056159451603889465,
          -0.032770343124866486,
          -0.10586678236722946,
          0.14954596012830734,
          0.11740690469741821,
          -0.3098364546895027,
          -0.055429816246032715,
          -0.06374996714293957,
          -0.07315093278884888,
          -0.20283052697777748,
          0.1803792379796505,
          0.28826521895825863,
          0.15220940089784563,
          -0.39751162752509117,
          -0.1915842667222023,
          -0.08689737692475319,
          -0.04361783713102341,
          -0.1035628616809845,
          -0.15092848613858223,
          0.04953109472990036,
          -0.09509862260892987,
          0.13957242853939533,
          0.06295385956764221,
          -0.1537795104086399,
          -0.24419542402029037,
          -0.04148641228675842,
          -0.010723613202571869,
          -0.0020559579133987427,
          0.12114840000867844,
          -0.02619628608226776,
          0.09694627113640308,
          0.17666530515998602,
          -0.12313403189182281,
          -0.12757615745067596,
          0.04882597550749779,
          0.08131752535700798,
          0.0940536018460989,
          -0.20794992055743933,
          -0.16256698034703732,
          -0.006395250558853149,
          -0.15512415766716003,
          -0.1638401374220848,
          -0.06079253554344177,
          -0.08162955939769745,
          0.16325896978378296,
          0.10273727029561996,
          0.14165217615664005,
          0.14491317048668861,
          0.06953359255567193,
          0.1759033165872097,
          -0.1390843028202653,
          -0.07658740133047104,
          0.020276427268981934,
          0.07311496883630753,
          -0.09366893023252487,
          -0.12400536984205246,
          -0.07043801993131638,
          0.14654558524489403,
          -0.09132865071296692,
          0.1345980316400528,
          -0.010140568017959595,
          0.10629089176654816,
          0.10731680318713188,
          0.14659547805786133,
          -0.06548485159873962,
          -0.016385510563850403,
          -0.015288077294826508,
          0.2622150331735611,
          -0.23052332550287247,
          0.07466046558693051,
          0.024085164070129395
         ],
         "zmid": 0
        },
        {
         "autocolorscale": false,
         "colorbar": {
          "title": {
           "text": "Perceptions of corruption Change"
          }
         },
         "colorscale": [
          [
           0,
           "rgb(165,0,38)"
          ],
          [
           0.1,
           "rgb(215,48,39)"
          ],
          [
           0.2,
           "rgb(244,109,67)"
          ],
          [
           0.3,
           "rgb(253,174,97)"
          ],
          [
           0.4,
           "rgb(254,224,139)"
          ],
          [
           0.5,
           "rgb(255,255,191)"
          ],
          [
           0.6,
           "rgb(217,239,139)"
          ],
          [
           0.7,
           "rgb(166,217,106)"
          ],
          [
           0.8,
           "rgb(102,189,99)"
          ],
          [
           0.9,
           "rgb(26,152,80)"
          ],
          [
           1,
           "rgb(0,104,55)"
          ]
         ],
         "locations": [
          "AFG",
          "ALB",
          "DZA",
          "ARG",
          "ARM",
          "AUS",
          "AUT",
          "AZE",
          "BGD",
          "BLR",
          "BEL",
          "BEN",
          "BOL",
          "BIH",
          "BWA",
          "BRA",
          "BGR",
          "BFA",
          "KHM",
          "CMR",
          "CAN",
          "TCD",
          "CHL",
          "COL",
          "COM",
          "CRI",
          "HRV",
          "CYP",
          "DNK",
          "DOM",
          "ECU",
          "SLV",
          "EST",
          "FIN",
          "FRA",
          "GAB",
          "GEO",
          "DEU",
          "GHA",
          "GRC",
          "GTM",
          "GIN",
          "HND",
          "HUN",
          "IND",
          "IDN",
          "IRL",
          "ISR",
          "ITA",
          "JAM",
          "JPN",
          "KAZ",
          "KEN",
          "KGZ",
          "LAO",
          "LVA",
          "LBN",
          "LSO",
          "LTU",
          "LUX",
          "MDG",
          "MWI",
          "MYS",
          "MLI",
          "MRT",
          "MUS",
          "MEX",
          "MDA",
          "MNG",
          "MNE",
          "MAR",
          "MOZ",
          "NPL",
          "NLD",
          "NZL",
          "NIC",
          "NER",
          "PAK",
          "PAN",
          "PRY",
          "PER",
          "PHL",
          "POL",
          "PRT",
          "ROU",
          "RUS",
          "RWA",
          "SEN",
          "SRB",
          "SLE",
          "SGP",
          "SVK",
          "SVN",
          "ZAF",
          "ESP",
          "LKA",
          "SWZ",
          "SWE",
          "TZA",
          "THA",
          "TGO",
          "TUN",
          "TUR",
          "UGA",
          "UKR",
          "GBR",
          "USA",
          "URY",
          "UZB",
          "VNM",
          "ZMB",
          "ZWE"
         ],
         "marker": {
          "line": {
           "color": "white",
           "width": 1
          }
         },
         "text": [
          "Afghanistan",
          "Albania",
          "Algeria",
          "Argentina",
          "Armenia",
          "Australia",
          "Austria",
          "Azerbaijan",
          "Bangladesh",
          "Belarus",
          "Belgium",
          "Benin",
          "Bolivia",
          "Bosnia and Herzegovina",
          "Botswana",
          "Brazil",
          "Bulgaria",
          "Burkina Faso",
          "Cambodia",
          "Cameroon",
          "Canada",
          "Chad",
          "Chile",
          "Colombia",
          "Comoros",
          "Costa Rica",
          "Croatia",
          "Cyprus",
          "Denmark",
          "Dominican Republic",
          "Ecuador",
          "El Salvador",
          "Estonia",
          "Finland",
          "France",
          "Gabon",
          "Georgia",
          "Germany",
          "Ghana",
          "Greece",
          "Guatemala",
          "Guinea",
          "Honduras",
          "Hungary",
          "India",
          "Indonesia",
          "Ireland",
          "Israel",
          "Italy",
          "Jamaica",
          "Japan",
          "Kazakhstan",
          "Kenya",
          "Kyrgyzstan",
          "Laos",
          "Latvia",
          "Lebanon",
          "Lesotho",
          "Lithuania",
          "Luxembourg",
          "Madagascar",
          "Malawi",
          "Malaysia",
          "Mali",
          "Mauritania",
          "Mauritius",
          "Mexico",
          "Moldova",
          "Mongolia",
          "Montenegro",
          "Morocco",
          "Mozambique",
          "Nepal",
          "Netherlands",
          "New Zealand",
          "Nicaragua",
          "Niger",
          "Pakistan",
          "Panama",
          "Paraguay",
          "Peru",
          "Philippines",
          "Poland",
          "Portugal",
          "Romania",
          "Russia",
          "Rwanda",
          "Senegal",
          "Serbia",
          "Sierra Leone",
          "Singapore",
          "Slovakia",
          "Slovenia",
          "South Africa",
          "Spain",
          "Sri Lanka",
          "Swaziland",
          "Sweden",
          "Tanzania",
          "Thailand",
          "Togo",
          "Tunisia",
          "Turkey",
          "Uganda",
          "Ukraine",
          "United Kingdom",
          "United States",
          "Uruguay",
          "Uzbekistan",
          "Vietnam",
          "Zambia",
          "Zimbabwe"
         ],
         "type": "choropleth",
         "visible": false,
         "z": [
          0.1927405595779419,
          0.037281692028045654,
          0.102627694606781,
          0.07581406831741333,
          -0.2911282777786255,
          0.048436909914016724,
          -0.2456321120262146,
          -0.3378583788871765,
          -0.10099804401397705,
          -0.12603390216827393,
          -0.03854638338088989,
          -0.1511252522468567,
          0.03236609697341919,
          0.03812366724014282,
          -0.024078965187072754,
          0.09967386722564697,
          -0.0051721930503845215,
          0.022598206996917725,
          0.05308884382247925,
          -0.052445411682128906,
          0.0034428834915161133,
          -0.044100165367126465,
          0.10773605108261108,
          0.0063776373863220215,
          0.030723989009857178,
          -0.0009549260139465332,
          -0.045162856578826904,
          0.02461773157119751,
          -0.045892491936683655,
          -0.04263937473297119,
          0.13789933919906616,
          -0.02497631311416626,
          -0.1110297441482544,
          -0.12425476312637329,
          -0.05835223197937012,
          -0.004576683044433594,
          0.2938767671585083,
          -0.21491697430610657,
          0.06622153520584106,
          -0.09314870834350586,
          -0.09046143293380737,
          0.01232922077178955,
          -0.069000244140625,
          -0.05633658170700073,
          -0.15581411123275757,
          -0.10151010751724243,
          -0.2171090841293335,
          -0.14842760562896729,
          -0.06793290376663208,
          -0.02378612756729126,
          -0.11661112308502197,
          -0.09344500303268433,
          -0.12829387187957764,
          -0.04795706272125244,
          0.03291177749633789,
          -0.14502811431884766,
          -0.0201452374458313,
          0.14727580547332764,
          -0.1810104250907898,
          0.0014278292655944824,
          -0.1771174669265747,
          -0.17274624109268188,
          -0.05956065654754639,
          0.1202775239944458,
          -0.004047572612762451,
          -0.03656059503555298,
          0.11095738410949707,
          -0.07282185554504395,
          -0.05799192190170288,
          0.05761384963989258,
          -0.11835741996765137,
          -0.03685849905014038,
          -0.22272127866744995,
          0.0006722211837768555,
          -0.035498976707458496,
          -0.13826078176498413,
          0.17976176738739014,
          -0.08117955923080444,
          0.029143035411834717,
          0.1257891058921814,
          0.04993695020675659,
          -0.03450435400009155,
          -0.21189576387405396,
          -0.04681152105331421,
          -0.009911894798278809,
          -0.0874253511428833,
          0.006496235728263855,
          -0.07422053813934326,
          -0.16377556324005127,
          0.01921480894088745,
          -0.02930484712123871,
          0.01871436834335327,
          -0.10769200325012207,
          0.0006417036056518555,
          -0.11520582437515259,
          0.10304158926010132,
          -0.19374233484268188,
          -0.0184251070022583,
          -0.22708255052566528,
          -0.04615581035614014,
          -0.09532862901687622,
          -0.023752152919769287,
          0.1118459701538086,
          -0.00451129674911499,
          -0.04753035306930542,
          0.0474969744682312,
          0.009789764881134033,
          0.0431135892868042,
          -0.01066523790359497,
          0.04572761058807373,
          -0.05019378662109375,
          0.0008514523506164551
         ],
         "zmid": 0
        },
        {
         "autocolorscale": false,
         "colorbar": {
          "title": {
           "text": "Positive Affect Change"
          }
         },
         "colorscale": [
          [
           0,
           "rgb(165,0,38)"
          ],
          [
           0.1,
           "rgb(215,48,39)"
          ],
          [
           0.2,
           "rgb(244,109,67)"
          ],
          [
           0.3,
           "rgb(253,174,97)"
          ],
          [
           0.4,
           "rgb(254,224,139)"
          ],
          [
           0.5,
           "rgb(255,255,191)"
          ],
          [
           0.6,
           "rgb(217,239,139)"
          ],
          [
           0.7,
           "rgb(166,217,106)"
          ],
          [
           0.8,
           "rgb(102,189,99)"
          ],
          [
           0.9,
           "rgb(26,152,80)"
          ],
          [
           1,
           "rgb(0,104,55)"
          ]
         ],
         "locations": [
          "AFG",
          "ALB",
          "DZA",
          "ARG",
          "ARM",
          "AUS",
          "AUT",
          "AZE",
          "BGD",
          "BLR",
          "BEL",
          "BEN",
          "BOL",
          "BIH",
          "BWA",
          "BRA",
          "BGR",
          "BFA",
          "KHM",
          "CMR",
          "CAN",
          "TCD",
          "CHL",
          "COL",
          "COM",
          "CRI",
          "HRV",
          "CYP",
          "DNK",
          "DOM",
          "ECU",
          "SLV",
          "EST",
          "FIN",
          "FRA",
          "GAB",
          "GEO",
          "DEU",
          "GHA",
          "GRC",
          "GTM",
          "GIN",
          "HND",
          "HUN",
          "IND",
          "IDN",
          "IRL",
          "ISR",
          "ITA",
          "JAM",
          "JPN",
          "KAZ",
          "KEN",
          "KGZ",
          "LAO",
          "LVA",
          "LBN",
          "LSO",
          "LTU",
          "LUX",
          "MDG",
          "MWI",
          "MYS",
          "MLI",
          "MRT",
          "MUS",
          "MEX",
          "MDA",
          "MNG",
          "MNE",
          "MAR",
          "MOZ",
          "NPL",
          "NLD",
          "NZL",
          "NIC",
          "NER",
          "PAK",
          "PAN",
          "PRY",
          "PER",
          "PHL",
          "POL",
          "PRT",
          "ROU",
          "RUS",
          "RWA",
          "SEN",
          "SRB",
          "SLE",
          "SGP",
          "SVK",
          "SVN",
          "ZAF",
          "ESP",
          "LKA",
          "SWZ",
          "SWE",
          "TZA",
          "THA",
          "TGO",
          "TUN",
          "TUR",
          "UGA",
          "UKR",
          "GBR",
          "USA",
          "URY",
          "UZB",
          "VNM",
          "ZMB",
          "ZWE"
         ],
         "marker": {
          "line": {
           "color": "white",
           "width": 1
          }
         },
         "text": [
          "Afghanistan",
          "Albania",
          "Algeria",
          "Argentina",
          "Armenia",
          "Australia",
          "Austria",
          "Azerbaijan",
          "Bangladesh",
          "Belarus",
          "Belgium",
          "Benin",
          "Bolivia",
          "Bosnia and Herzegovina",
          "Botswana",
          "Brazil",
          "Bulgaria",
          "Burkina Faso",
          "Cambodia",
          "Cameroon",
          "Canada",
          "Chad",
          "Chile",
          "Colombia",
          "Comoros",
          "Costa Rica",
          "Croatia",
          "Cyprus",
          "Denmark",
          "Dominican Republic",
          "Ecuador",
          "El Salvador",
          "Estonia",
          "Finland",
          "France",
          "Gabon",
          "Georgia",
          "Germany",
          "Ghana",
          "Greece",
          "Guatemala",
          "Guinea",
          "Honduras",
          "Hungary",
          "India",
          "Indonesia",
          "Ireland",
          "Israel",
          "Italy",
          "Jamaica",
          "Japan",
          "Kazakhstan",
          "Kenya",
          "Kyrgyzstan",
          "Laos",
          "Latvia",
          "Lebanon",
          "Lesotho",
          "Lithuania",
          "Luxembourg",
          "Madagascar",
          "Malawi",
          "Malaysia",
          "Mali",
          "Mauritania",
          "Mauritius",
          "Mexico",
          "Moldova",
          "Mongolia",
          "Montenegro",
          "Morocco",
          "Mozambique",
          "Nepal",
          "Netherlands",
          "New Zealand",
          "Nicaragua",
          "Niger",
          "Pakistan",
          "Panama",
          "Paraguay",
          "Peru",
          "Philippines",
          "Poland",
          "Portugal",
          "Romania",
          "Russia",
          "Rwanda",
          "Senegal",
          "Serbia",
          "Sierra Leone",
          "Singapore",
          "Slovakia",
          "Slovenia",
          "South Africa",
          "Spain",
          "Sri Lanka",
          "Swaziland",
          "Sweden",
          "Tanzania",
          "Thailand",
          "Togo",
          "Tunisia",
          "Turkey",
          "Uganda",
          "Ukraine",
          "United Kingdom",
          "United States",
          "Uruguay",
          "Uzbekistan",
          "Vietnam",
          "Zambia",
          "Zimbabwe"
         ],
         "type": "choropleth",
         "visible": false,
         "z": [
          -0.2600002586841583,
          0.053421080112457275,
          0.03474092483520508,
          -0.014083266258239746,
          0.1236884593963623,
          -0.04581671953201294,
          -0.015011608600616455,
          0.10674232244491577,
          -0.14775872230529785,
          0.06996089220046997,
          -0.10108894109725952,
          0.03295338153839111,
          -0.009378135204315186,
          0.03691720962524414,
          -0.027518272399902344,
          -0.04662144184112549,
          0.12908732891082764,
          0.11230087280273438,
          0.045122504234313965,
          0.031624674797058105,
          -0.058941781520843506,
          -0.00421142578125,
          0.004873037338256836,
          -0.009124934673309326,
          0.06960165500640869,
          -0.02729743719100952,
          -0.04682046175003052,
          -0.0003972053527832031,
          0.0924990177154541,
          -0.024622738361358643,
          -0.050649940967559814,
          -0.004751026630401611,
          0.15289372205734253,
          -0.01773381233215332,
          -0.045654475688934326,
          0.10132157802581787,
          0.08957040309906006,
          -0.043057024478912354,
          -0.06179475784301758,
          0.07614189386367798,
          0.014918982982635498,
          -0.015902400016784668,
          0.0342634916305542,
          0.10090005397796631,
          -0.00041496753692626953,
          0.012899219989776611,
          -0.05820965766906738,
          -0.10331463813781738,
          -0.027314484119415283,
          -0.08383089303970337,
          -0.03287303447723389,
          0.0919913649559021,
          -0.00893312692642212,
          0.08431220054626465,
          -0.021632671356201172,
          0.01195669174194336,
          -0.256320983171463,
          -0.0585932731628418,
          -0.003509342670440674,
          -0.0472722053527832,
          0.213323712348938,
          -0.17606180906295776,
          -0.053149521350860596,
          -0.04674774408340454,
          -0.07017683982849121,
          0.06980353593826294,
          0.07437586784362793,
          0.06306052207946777,
          0.015276432037353516,
          -0.011666476726531982,
          -0.14677375555038452,
          -0.004731416702270508,
          -0.16365504264831543,
          -0.02442270517349243,
          -0.0478900671005249,
          0.04399120807647705,
          0.11542153358459473,
          -0.0467066764831543,
          -0.007731616497039795,
          0.047882795333862305,
          0.040278851985931396,
          -0.0705750584602356,
          -0.00019985437393188477,
          -0.015286862850189209,
          0.15471422672271729,
          0.09000372886657715,
          0.07059407234191895,
          0.03708982467651367,
          -0.03637874126434326,
          0.06757128238677979,
          0.23984378576278687,
          0.11379629373550415,
          0.027173936367034912,
          0.037512362003326416,
          -0.07395654916763306,
          -0.00859057903289795,
          -0.04298597574234009,
          0.011722028255462646,
          -0.03831225633621216,
          -0.09150058031082153,
          0.10994869470596313,
          -0.048745036125183105,
          -0.19906583428382874,
          0.014869749546051025,
          0.043797850608825684,
          -0.06929486989974976,
          -0.02137535810470581,
          0.08362042903900146,
          0.057654738426208496,
          0.21956968307495117,
          -0.08980685472488403,
          -0.06518518924713135
         ],
         "zmid": 0
        },
        {
         "autocolorscale": false,
         "colorbar": {
          "title": {
           "text": "Negative Affect Change"
          }
         },
         "colorscale": [
          [
           0,
           "rgb(165,0,38)"
          ],
          [
           0.1,
           "rgb(215,48,39)"
          ],
          [
           0.2,
           "rgb(244,109,67)"
          ],
          [
           0.3,
           "rgb(253,174,97)"
          ],
          [
           0.4,
           "rgb(254,224,139)"
          ],
          [
           0.5,
           "rgb(255,255,191)"
          ],
          [
           0.6,
           "rgb(217,239,139)"
          ],
          [
           0.7,
           "rgb(166,217,106)"
          ],
          [
           0.8,
           "rgb(102,189,99)"
          ],
          [
           0.9,
           "rgb(26,152,80)"
          ],
          [
           1,
           "rgb(0,104,55)"
          ]
         ],
         "locations": [
          "AFG",
          "ALB",
          "DZA",
          "ARG",
          "ARM",
          "AUS",
          "AUT",
          "AZE",
          "BGD",
          "BLR",
          "BEL",
          "BEN",
          "BOL",
          "BIH",
          "BWA",
          "BRA",
          "BGR",
          "BFA",
          "KHM",
          "CMR",
          "CAN",
          "TCD",
          "CHL",
          "COL",
          "COM",
          "CRI",
          "HRV",
          "CYP",
          "DNK",
          "DOM",
          "ECU",
          "SLV",
          "EST",
          "FIN",
          "FRA",
          "GAB",
          "GEO",
          "DEU",
          "GHA",
          "GRC",
          "GTM",
          "GIN",
          "HND",
          "HUN",
          "IND",
          "IDN",
          "IRL",
          "ISR",
          "ITA",
          "JAM",
          "JPN",
          "KAZ",
          "KEN",
          "KGZ",
          "LAO",
          "LVA",
          "LBN",
          "LSO",
          "LTU",
          "LUX",
          "MDG",
          "MWI",
          "MYS",
          "MLI",
          "MRT",
          "MUS",
          "MEX",
          "MDA",
          "MNG",
          "MNE",
          "MAR",
          "MOZ",
          "NPL",
          "NLD",
          "NZL",
          "NIC",
          "NER",
          "PAK",
          "PAN",
          "PRY",
          "PER",
          "PHL",
          "POL",
          "PRT",
          "ROU",
          "RUS",
          "RWA",
          "SEN",
          "SRB",
          "SLE",
          "SGP",
          "SVK",
          "SVN",
          "ZAF",
          "ESP",
          "LKA",
          "SWZ",
          "SWE",
          "TZA",
          "THA",
          "TGO",
          "TUN",
          "TUR",
          "UGA",
          "UKR",
          "GBR",
          "USA",
          "URY",
          "UZB",
          "VNM",
          "ZMB",
          "ZWE"
         ],
         "marker": {
          "line": {
           "color": "white",
           "width": 1
          }
         },
         "text": [
          "Afghanistan",
          "Albania",
          "Algeria",
          "Argentina",
          "Armenia",
          "Australia",
          "Austria",
          "Azerbaijan",
          "Bangladesh",
          "Belarus",
          "Belgium",
          "Benin",
          "Bolivia",
          "Bosnia and Herzegovina",
          "Botswana",
          "Brazil",
          "Bulgaria",
          "Burkina Faso",
          "Cambodia",
          "Cameroon",
          "Canada",
          "Chad",
          "Chile",
          "Colombia",
          "Comoros",
          "Costa Rica",
          "Croatia",
          "Cyprus",
          "Denmark",
          "Dominican Republic",
          "Ecuador",
          "El Salvador",
          "Estonia",
          "Finland",
          "France",
          "Gabon",
          "Georgia",
          "Germany",
          "Ghana",
          "Greece",
          "Guatemala",
          "Guinea",
          "Honduras",
          "Hungary",
          "India",
          "Indonesia",
          "Ireland",
          "Israel",
          "Italy",
          "Jamaica",
          "Japan",
          "Kazakhstan",
          "Kenya",
          "Kyrgyzstan",
          "Laos",
          "Latvia",
          "Lebanon",
          "Lesotho",
          "Lithuania",
          "Luxembourg",
          "Madagascar",
          "Malawi",
          "Malaysia",
          "Mali",
          "Mauritania",
          "Mauritius",
          "Mexico",
          "Moldova",
          "Mongolia",
          "Montenegro",
          "Morocco",
          "Mozambique",
          "Nepal",
          "Netherlands",
          "New Zealand",
          "Nicaragua",
          "Niger",
          "Pakistan",
          "Panama",
          "Paraguay",
          "Peru",
          "Philippines",
          "Poland",
          "Portugal",
          "Romania",
          "Russia",
          "Rwanda",
          "Senegal",
          "Serbia",
          "Sierra Leone",
          "Singapore",
          "Slovakia",
          "Slovenia",
          "South Africa",
          "Spain",
          "Sri Lanka",
          "Swaziland",
          "Sweden",
          "Tanzania",
          "Thailand",
          "Togo",
          "Tunisia",
          "Turkey",
          "Uganda",
          "Ukraine",
          "United Kingdom",
          "United States",
          "Uruguay",
          "Uzbekistan",
          "Vietnam",
          "Zambia",
          "Zimbabwe"
         ],
         "type": "choropleth",
         "visible": false,
         "z": [
          0.2352990210056305,
          0.017250865697860718,
          -0.03969888389110565,
          0.08719968795776367,
          -0.028610676527023315,
          0.006866395473480225,
          0.05993218719959259,
          -0.09419706463813782,
          0.1344900131225586,
          -0.05963398516178131,
          0.01857447624206543,
          0.22272031009197235,
          0.0578426718711853,
          -0.08766615390777588,
          0.11293897032737732,
          0.06952711939811707,
          -0.07104271650314331,
          0.16003954410552979,
          0.0817176103591919,
          0.05471867322921753,
          0.037105098366737366,
          0.17091479897499084,
          0.02036762237548828,
          0.03584742546081543,
          0.1628398895263672,
          0.034102022647857666,
          -0.0038251876831054688,
          0.017925620079040527,
          0.00618724524974823,
          -0.035785168409347534,
          0.10287052392959595,
          -0.06484648585319519,
          -0.048879414796829224,
          -0.02450576424598694,
          -0.03057923913002014,
          0.14900586009025574,
          -0.0030604004859924316,
          0.06097167730331421,
          0.060727477073669434,
          -0.08684433996677399,
          0.02143135666847229,
          0.21325525641441345,
          -0.02858889102935791,
          -0.1241714358329773,
          0.23474113643169403,
          0.028286755084991455,
          0.032990410923957825,
          -0.11858335137367249,
          0.06239214539527893,
          -0.04187467694282532,
          0.013354912400245667,
          -0.015301048755645752,
          0.022714629769325256,
          0.05591316521167755,
          0.0808657705783844,
          -0.010082527995109558,
          0.17433199286460876,
          0.1034155935049057,
          0.0014176666736602783,
          0.0115031898021698,
          0.0691336840391159,
          0.07968765497207642,
          0.021196722984313965,
          0.22594328224658966,
          0.0848759263753891,
          -0.10314209759235382,
          0.024427130818367004,
          -0.023208558559417725,
          0.013688802719116211,
          -0.012161880731582642,
          0.2227628231048584,
          0.14070670306682587,
          0.14974135160446167,
          0.049116089940071106,
          -0.018973276019096375,
          0.027994155883789062,
          0.13828381896018982,
          0.06643927097320557,
          0.06392528116703033,
          0.0849238932132721,
          0.044064223766326904,
          -0.017756879329681396,
          -0.05572053790092468,
          0.02067387104034424,
          -0.0508023202419281,
          0.03518660366535187,
          0.2634257525205612,
          0.1518988460302353,
          -0.1681247353553772,
          0.13860687613487244,
          -0.005559772253036499,
          -0.03560325503349304,
          -0.05748248100280762,
          0.03824269771575928,
          -0.04058322310447693,
          0.1396159827709198,
          0.028541773557662964,
          0.022847726941108704,
          0.09795679152011871,
          0.0915076732635498,
          0.04850727319717407,
          0.1852165013551712,
          -0.011695653200149536,
          0.13073858618736267,
          -0.018516018986701965,
          0.07710602879524231,
          -0.029544860124588013,
          -0.03051985800266266,
          0.0969722792506218,
          -0.007058918476104736,
          0.19031530618667603,
          0.02481035888195038
         ],
         "zmid": 0
        }
       ],
       "layout": {
        "autosize": false,
        "geo": {
         "projection": {
          "type": "equirectangular"
         },
         "showcoastlines": false,
         "showframe": false
        },
        "height": 600,
        "template": {
         "data": {
          "bar": [
           {
            "error_x": {
             "color": "#2a3f5f"
            },
            "error_y": {
             "color": "#2a3f5f"
            },
            "marker": {
             "line": {
              "color": "#E5ECF6",
              "width": 0.5
             }
            },
            "type": "bar"
           }
          ],
          "barpolar": [
           {
            "marker": {
             "line": {
              "color": "#E5ECF6",
              "width": 0.5
             }
            },
            "type": "barpolar"
           }
          ],
          "carpet": [
           {
            "aaxis": {
             "endlinecolor": "#2a3f5f",
             "gridcolor": "white",
             "linecolor": "white",
             "minorgridcolor": "white",
             "startlinecolor": "#2a3f5f"
            },
            "baxis": {
             "endlinecolor": "#2a3f5f",
             "gridcolor": "white",
             "linecolor": "white",
             "minorgridcolor": "white",
             "startlinecolor": "#2a3f5f"
            },
            "type": "carpet"
           }
          ],
          "choropleth": [
           {
            "colorbar": {
             "outlinewidth": 0,
             "ticks": ""
            },
            "type": "choropleth"
           }
          ],
          "contour": [
           {
            "colorbar": {
             "outlinewidth": 0,
             "ticks": ""
            },
            "colorscale": [
             [
              0,
              "#0d0887"
             ],
             [
              0.1111111111111111,
              "#46039f"
             ],
             [
              0.2222222222222222,
              "#7201a8"
             ],
             [
              0.3333333333333333,
              "#9c179e"
             ],
             [
              0.4444444444444444,
              "#bd3786"
             ],
             [
              0.5555555555555556,
              "#d8576b"
             ],
             [
              0.6666666666666666,
              "#ed7953"
             ],
             [
              0.7777777777777778,
              "#fb9f3a"
             ],
             [
              0.8888888888888888,
              "#fdca26"
             ],
             [
              1,
              "#f0f921"
             ]
            ],
            "type": "contour"
           }
          ],
          "contourcarpet": [
           {
            "colorbar": {
             "outlinewidth": 0,
             "ticks": ""
            },
            "type": "contourcarpet"
           }
          ],
          "heatmap": [
           {
            "colorbar": {
             "outlinewidth": 0,
             "ticks": ""
            },
            "colorscale": [
             [
              0,
              "#0d0887"
             ],
             [
              0.1111111111111111,
              "#46039f"
             ],
             [
              0.2222222222222222,
              "#7201a8"
             ],
             [
              0.3333333333333333,
              "#9c179e"
             ],
             [
              0.4444444444444444,
              "#bd3786"
             ],
             [
              0.5555555555555556,
              "#d8576b"
             ],
             [
              0.6666666666666666,
              "#ed7953"
             ],
             [
              0.7777777777777778,
              "#fb9f3a"
             ],
             [
              0.8888888888888888,
              "#fdca26"
             ],
             [
              1,
              "#f0f921"
             ]
            ],
            "type": "heatmap"
           }
          ],
          "heatmapgl": [
           {
            "colorbar": {
             "outlinewidth": 0,
             "ticks": ""
            },
            "colorscale": [
             [
              0,
              "#0d0887"
             ],
             [
              0.1111111111111111,
              "#46039f"
             ],
             [
              0.2222222222222222,
              "#7201a8"
             ],
             [
              0.3333333333333333,
              "#9c179e"
             ],
             [
              0.4444444444444444,
              "#bd3786"
             ],
             [
              0.5555555555555556,
              "#d8576b"
             ],
             [
              0.6666666666666666,
              "#ed7953"
             ],
             [
              0.7777777777777778,
              "#fb9f3a"
             ],
             [
              0.8888888888888888,
              "#fdca26"
             ],
             [
              1,
              "#f0f921"
             ]
            ],
            "type": "heatmapgl"
           }
          ],
          "histogram": [
           {
            "marker": {
             "colorbar": {
              "outlinewidth": 0,
              "ticks": ""
             }
            },
            "type": "histogram"
           }
          ],
          "histogram2d": [
           {
            "colorbar": {
             "outlinewidth": 0,
             "ticks": ""
            },
            "colorscale": [
             [
              0,
              "#0d0887"
             ],
             [
              0.1111111111111111,
              "#46039f"
             ],
             [
              0.2222222222222222,
              "#7201a8"
             ],
             [
              0.3333333333333333,
              "#9c179e"
             ],
             [
              0.4444444444444444,
              "#bd3786"
             ],
             [
              0.5555555555555556,
              "#d8576b"
             ],
             [
              0.6666666666666666,
              "#ed7953"
             ],
             [
              0.7777777777777778,
              "#fb9f3a"
             ],
             [
              0.8888888888888888,
              "#fdca26"
             ],
             [
              1,
              "#f0f921"
             ]
            ],
            "type": "histogram2d"
           }
          ],
          "histogram2dcontour": [
           {
            "colorbar": {
             "outlinewidth": 0,
             "ticks": ""
            },
            "colorscale": [
             [
              0,
              "#0d0887"
             ],
             [
              0.1111111111111111,
              "#46039f"
             ],
             [
              0.2222222222222222,
              "#7201a8"
             ],
             [
              0.3333333333333333,
              "#9c179e"
             ],
             [
              0.4444444444444444,
              "#bd3786"
             ],
             [
              0.5555555555555556,
              "#d8576b"
             ],
             [
              0.6666666666666666,
              "#ed7953"
             ],
             [
              0.7777777777777778,
              "#fb9f3a"
             ],
             [
              0.8888888888888888,
              "#fdca26"
             ],
             [
              1,
              "#f0f921"
             ]
            ],
            "type": "histogram2dcontour"
           }
          ],
          "mesh3d": [
           {
            "colorbar": {
             "outlinewidth": 0,
             "ticks": ""
            },
            "type": "mesh3d"
           }
          ],
          "parcoords": [
           {
            "line": {
             "colorbar": {
              "outlinewidth": 0,
              "ticks": ""
             }
            },
            "type": "parcoords"
           }
          ],
          "pie": [
           {
            "automargin": true,
            "type": "pie"
           }
          ],
          "scatter": [
           {
            "marker": {
             "colorbar": {
              "outlinewidth": 0,
              "ticks": ""
             }
            },
            "type": "scatter"
           }
          ],
          "scatter3d": [
           {
            "line": {
             "colorbar": {
              "outlinewidth": 0,
              "ticks": ""
             }
            },
            "marker": {
             "colorbar": {
              "outlinewidth": 0,
              "ticks": ""
             }
            },
            "type": "scatter3d"
           }
          ],
          "scattercarpet": [
           {
            "marker": {
             "colorbar": {
              "outlinewidth": 0,
              "ticks": ""
             }
            },
            "type": "scattercarpet"
           }
          ],
          "scattergeo": [
           {
            "marker": {
             "colorbar": {
              "outlinewidth": 0,
              "ticks": ""
             }
            },
            "type": "scattergeo"
           }
          ],
          "scattergl": [
           {
            "marker": {
             "colorbar": {
              "outlinewidth": 0,
              "ticks": ""
             }
            },
            "type": "scattergl"
           }
          ],
          "scattermapbox": [
           {
            "marker": {
             "colorbar": {
              "outlinewidth": 0,
              "ticks": ""
             }
            },
            "type": "scattermapbox"
           }
          ],
          "scatterpolar": [
           {
            "marker": {
             "colorbar": {
              "outlinewidth": 0,
              "ticks": ""
             }
            },
            "type": "scatterpolar"
           }
          ],
          "scatterpolargl": [
           {
            "marker": {
             "colorbar": {
              "outlinewidth": 0,
              "ticks": ""
             }
            },
            "type": "scatterpolargl"
           }
          ],
          "scatterternary": [
           {
            "marker": {
             "colorbar": {
              "outlinewidth": 0,
              "ticks": ""
             }
            },
            "type": "scatterternary"
           }
          ],
          "surface": [
           {
            "colorbar": {
             "outlinewidth": 0,
             "ticks": ""
            },
            "colorscale": [
             [
              0,
              "#0d0887"
             ],
             [
              0.1111111111111111,
              "#46039f"
             ],
             [
              0.2222222222222222,
              "#7201a8"
             ],
             [
              0.3333333333333333,
              "#9c179e"
             ],
             [
              0.4444444444444444,
              "#bd3786"
             ],
             [
              0.5555555555555556,
              "#d8576b"
             ],
             [
              0.6666666666666666,
              "#ed7953"
             ],
             [
              0.7777777777777778,
              "#fb9f3a"
             ],
             [
              0.8888888888888888,
              "#fdca26"
             ],
             [
              1,
              "#f0f921"
             ]
            ],
            "type": "surface"
           }
          ],
          "table": [
           {
            "cells": {
             "fill": {
              "color": "#EBF0F8"
             },
             "line": {
              "color": "white"
             }
            },
            "header": {
             "fill": {
              "color": "#C8D4E3"
             },
             "line": {
              "color": "white"
             }
            },
            "type": "table"
           }
          ]
         },
         "layout": {
          "annotationdefaults": {
           "arrowcolor": "#2a3f5f",
           "arrowhead": 0,
           "arrowwidth": 1
          },
          "autotypenumbers": "strict",
          "coloraxis": {
           "colorbar": {
            "outlinewidth": 0,
            "ticks": ""
           }
          },
          "colorscale": {
           "diverging": [
            [
             0,
             "#8e0152"
            ],
            [
             0.1,
             "#c51b7d"
            ],
            [
             0.2,
             "#de77ae"
            ],
            [
             0.3,
             "#f1b6da"
            ],
            [
             0.4,
             "#fde0ef"
            ],
            [
             0.5,
             "#f7f7f7"
            ],
            [
             0.6,
             "#e6f5d0"
            ],
            [
             0.7,
             "#b8e186"
            ],
            [
             0.8,
             "#7fbc41"
            ],
            [
             0.9,
             "#4d9221"
            ],
            [
             1,
             "#276419"
            ]
           ],
           "sequential": [
            [
             0,
             "#0d0887"
            ],
            [
             0.1111111111111111,
             "#46039f"
            ],
            [
             0.2222222222222222,
             "#7201a8"
            ],
            [
             0.3333333333333333,
             "#9c179e"
            ],
            [
             0.4444444444444444,
             "#bd3786"
            ],
            [
             0.5555555555555556,
             "#d8576b"
            ],
            [
             0.6666666666666666,
             "#ed7953"
            ],
            [
             0.7777777777777778,
             "#fb9f3a"
            ],
            [
             0.8888888888888888,
             "#fdca26"
            ],
            [
             1,
             "#f0f921"
            ]
           ],
           "sequentialminus": [
            [
             0,
             "#0d0887"
            ],
            [
             0.1111111111111111,
             "#46039f"
            ],
            [
             0.2222222222222222,
             "#7201a8"
            ],
            [
             0.3333333333333333,
             "#9c179e"
            ],
            [
             0.4444444444444444,
             "#bd3786"
            ],
            [
             0.5555555555555556,
             "#d8576b"
            ],
            [
             0.6666666666666666,
             "#ed7953"
            ],
            [
             0.7777777777777778,
             "#fb9f3a"
            ],
            [
             0.8888888888888888,
             "#fdca26"
            ],
            [
             1,
             "#f0f921"
            ]
           ]
          },
          "colorway": [
           "#636efa",
           "#EF553B",
           "#00cc96",
           "#ab63fa",
           "#FFA15A",
           "#19d3f3",
           "#FF6692",
           "#B6E880",
           "#FF97FF",
           "#FECB52"
          ],
          "font": {
           "color": "#2a3f5f"
          },
          "geo": {
           "bgcolor": "white",
           "lakecolor": "white",
           "landcolor": "#E5ECF6",
           "showlakes": true,
           "showland": true,
           "subunitcolor": "white"
          },
          "hoverlabel": {
           "align": "left"
          },
          "hovermode": "closest",
          "mapbox": {
           "style": "light"
          },
          "paper_bgcolor": "white",
          "plot_bgcolor": "#E5ECF6",
          "polar": {
           "angularaxis": {
            "gridcolor": "white",
            "linecolor": "white",
            "ticks": ""
           },
           "bgcolor": "#E5ECF6",
           "radialaxis": {
            "gridcolor": "white",
            "linecolor": "white",
            "ticks": ""
           }
          },
          "scene": {
           "xaxis": {
            "backgroundcolor": "#E5ECF6",
            "gridcolor": "white",
            "gridwidth": 2,
            "linecolor": "white",
            "showbackground": true,
            "ticks": "",
            "zerolinecolor": "white"
           },
           "yaxis": {
            "backgroundcolor": "#E5ECF6",
            "gridcolor": "white",
            "gridwidth": 2,
            "linecolor": "white",
            "showbackground": true,
            "ticks": "",
            "zerolinecolor": "white"
           },
           "zaxis": {
            "backgroundcolor": "#E5ECF6",
            "gridcolor": "white",
            "gridwidth": 2,
            "linecolor": "white",
            "showbackground": true,
            "ticks": "",
            "zerolinecolor": "white"
           }
          },
          "shapedefaults": {
           "line": {
            "color": "#2a3f5f"
           }
          },
          "ternary": {
           "aaxis": {
            "gridcolor": "white",
            "linecolor": "white",
            "ticks": ""
           },
           "baxis": {
            "gridcolor": "white",
            "linecolor": "white",
            "ticks": ""
           },
           "bgcolor": "#E5ECF6",
           "caxis": {
            "gridcolor": "white",
            "linecolor": "white",
            "ticks": ""
           }
          },
          "title": {
           "x": 0.05
          },
          "xaxis": {
           "automargin": true,
           "gridcolor": "white",
           "linecolor": "white",
           "ticks": "",
           "title": {
            "standoff": 15
           },
           "zerolinecolor": "white",
           "zerolinewidth": 2
          },
          "yaxis": {
           "automargin": true,
           "gridcolor": "white",
           "linecolor": "white",
           "ticks": "",
           "title": {
            "standoff": 15
           },
           "zerolinecolor": "white",
           "zerolinewidth": 2
          }
         }
        },
        "title": {
         "text": "World Happiness Report: 2011-2019 Total Change"
        },
        "updatemenus": [
         {
          "active": 0,
          "buttons": [
           {
            "args": [
             {
              "visible": [
               true,
               false,
               false,
               false,
               false,
               false,
               false,
               false,
               false
              ]
             },
             {
              "annotations": [
               {
                "bgcolor": "grey",
                "borderpad": 4,
                "borderwidth": 9,
                "font": {
                 "color": "white",
                 "size": 10
                },
                "showarrow": false,
                "text": "El Salvador has the highest improvement of ~ 1.714",
                "x": 1.1,
                "xref": "paper",
                "y": 1.2,
                "yref": "paper"
               },
               {
                "bgcolor": "grey",
                "borderpad": 4,
                "borderwidth": 9,
                "font": {
                 "color": "white",
                 "size": 10
                },
                "showarrow": false,
                "text": "Zimbabwe has the lowest improvement of ~ -2.152",
                "x": 1.1,
                "xref": "paper",
                "y": 1.1,
                "yref": "paper"
               }
              ]
             }
            ],
            "label": "Life Ladder",
            "method": "update"
           },
           {
            "args": [
             {
              "visible": [
               false,
               true,
               false,
               false,
               false,
               false,
               false,
               false,
               false
              ]
             },
             {
              "annotations": [
               {
                "bgcolor": "grey",
                "borderpad": 4,
                "borderwidth": 9,
                "font": {
                 "color": "white",
                 "size": 10
                },
                "showarrow": false,
                "text": "Ireland has the highest improvement of ~ 0.493",
                "x": 1.1,
                "xref": "paper",
                "y": 1.2,
                "yref": "paper"
               },
               {
                "bgcolor": "grey",
                "borderpad": 4,
                "borderwidth": 9,
                "font": {
                 "color": "white",
                 "size": 10
                },
                "showarrow": false,
                "text": "Lebanon has the lowest improvement of ~ -0.241",
                "x": 1.1,
                "xref": "paper",
                "y": 1.1,
                "yref": "paper"
               }
              ]
             }
            ],
            "label": "Log GDP per capita",
            "method": "update"
           },
           {
            "args": [
             {
              "visible": [
               false,
               false,
               true,
               false,
               false,
               false,
               false,
               false,
               false
              ]
             },
             {
              "annotations": [
               {
                "bgcolor": "grey",
                "borderpad": 4,
                "borderwidth": 9,
                "font": {
                 "color": "white",
                 "size": 10
                },
                "showarrow": false,
                "text": "Togo has the highest improvement of ~ 0.236",
                "x": 1.1,
                "xref": "paper",
                "y": 1.2,
                "yref": "paper"
               },
               {
                "bgcolor": "grey",
                "borderpad": 4,
                "borderwidth": 9,
                "font": {
                 "color": "white",
                 "size": 10
                },
                "showarrow": false,
                "text": "Morocco has the lowest improvement of ~ -0.299",
                "x": 1.1,
                "xref": "paper",
                "y": 1.1,
                "yref": "paper"
               }
              ]
             }
            ],
            "label": "Social Support",
            "method": "update"
           },
           {
            "args": [
             {
              "visible": [
               false,
               false,
               false,
               true,
               false,
               false,
               false,
               false,
               false
              ]
             },
             {
              "annotations": [
               {
                "bgcolor": "grey",
                "borderpad": 4,
                "borderwidth": 9,
                "font": {
                 "color": "white",
                 "size": 10
                },
                "showarrow": false,
                "text": "Swaziland has the highest improvement of ~ 10.462",
                "x": 1.1,
                "xref": "paper",
                "y": 1.2,
                "yref": "paper"
               },
               {
                "bgcolor": "grey",
                "borderpad": 4,
                "borderwidth": 9,
                "font": {
                 "color": "white",
                 "size": 10
                },
                "showarrow": false,
                "text": "Georgia has the lowest improvement of ~ -0.56",
                "x": 1.1,
                "xref": "paper",
                "y": 1.1,
                "yref": "paper"
               }
              ]
             }
            ],
            "label": "Life Expectancy",
            "method": "update"
           },
           {
            "args": [
             {
              "visible": [
               false,
               false,
               false,
               false,
               true,
               false,
               false,
               false,
               false
              ]
             },
             {
              "annotations": [
               {
                "bgcolor": "grey",
                "borderpad": 4,
                "borderwidth": 9,
                "font": {
                 "color": "white",
                 "size": 10
                },
                "showarrow": false,
                "text": "Bosnia and Herzegovina has the highest improvement of ~ 0.388",
                "x": 1.1,
                "xref": "paper",
                "y": 1.2,
                "yref": "paper"
               },
               {
                "bgcolor": "grey",
                "borderpad": 4,
                "borderwidth": 9,
                "font": {
                 "color": "white",
                 "size": 10
                },
                "showarrow": false,
                "text": "Lebanon has the lowest improvement of ~ -0.21",
                "x": 1.1,
                "xref": "paper",
                "y": 1.1,
                "yref": "paper"
               }
              ]
             }
            ],
            "label": "Life Choices",
            "method": "update"
           },
           {
            "args": [
             {
              "visible": [
               false,
               false,
               false,
               false,
               false,
               true,
               false,
               false,
               false
              ]
             },
             {
              "annotations": [
               {
                "bgcolor": "grey",
                "borderpad": 4,
                "borderwidth": 9,
                "font": {
                 "color": "white",
                 "size": 10
                },
                "showarrow": false,
                "text": "Kenya has the highest improvement of ~ 0.288",
                "x": 1.1,
                "xref": "paper",
                "y": 1.2,
                "yref": "paper"
               },
               {
                "bgcolor": "grey",
                "borderpad": 4,
                "borderwidth": 9,
                "font": {
                 "color": "white",
                 "size": 10
                },
                "showarrow": false,
                "text": "Cambodia has the lowest improvement of ~ -0.405",
                "x": 1.1,
                "xref": "paper",
                "y": 1.1,
                "yref": "paper"
               }
              ]
             }
            ],
            "label": "Generosity",
            "method": "update"
           },
           {
            "args": [
             {
              "visible": [
               false,
               false,
               false,
               false,
               false,
               false,
               true,
               false,
               false
              ]
             },
             {
              "annotations": [
               {
                "bgcolor": "grey",
                "borderpad": 4,
                "borderwidth": 9,
                "font": {
                 "color": "white",
                 "size": 10
                },
                "showarrow": false,
                "text": "Georgia has the highest improvement of ~ 0.294",
                "x": 1.1,
                "xref": "paper",
                "y": 1.2,
                "yref": "paper"
               },
               {
                "bgcolor": "grey",
                "borderpad": 4,
                "borderwidth": 9,
                "font": {
                 "color": "white",
                 "size": 10
                },
                "showarrow": false,
                "text": "Azerbaijan has the lowest improvement of ~ -0.338",
                "x": 1.1,
                "xref": "paper",
                "y": 1.1,
                "yref": "paper"
               }
              ]
             }
            ],
            "label": "Perceptions of corruption",
            "method": "update"
           },
           {
            "args": [
             {
              "visible": [
               false,
               false,
               false,
               false,
               false,
               false,
               false,
               true,
               false
              ]
             },
             {
              "annotations": [
               {
                "bgcolor": "grey",
                "borderpad": 4,
                "borderwidth": 9,
                "font": {
                 "color": "white",
                 "size": 10
                },
                "showarrow": false,
                "text": "Singapore has the highest improvement of ~ 0.24",
                "x": 1.1,
                "xref": "paper",
                "y": 1.2,
                "yref": "paper"
               },
               {
                "bgcolor": "grey",
                "borderpad": 4,
                "borderwidth": 9,
                "font": {
                 "color": "white",
                 "size": 10
                },
                "showarrow": false,
                "text": "Afghanistan has the lowest improvement of ~ -0.26",
                "x": 1.1,
                "xref": "paper",
                "y": 1.1,
                "yref": "paper"
               }
              ]
             }
            ],
            "label": "Positive Affect",
            "method": "update"
           },
           {
            "args": [
             {
              "visible": [
               false,
               false,
               false,
               false,
               false,
               false,
               false,
               false,
               true
              ]
             },
             {
              "annotations": [
               {
                "bgcolor": "grey",
                "borderpad": 4,
                "borderwidth": 9,
                "font": {
                 "color": "white",
                 "size": 10
                },
                "showarrow": false,
                "text": "Rwanda has the highest improvement of ~ 0.263",
                "x": 1.1,
                "xref": "paper",
                "y": 1.2,
                "yref": "paper"
               },
               {
                "bgcolor": "grey",
                "borderpad": 4,
                "borderwidth": 9,
                "font": {
                 "color": "white",
                 "size": 10
                },
                "showarrow": false,
                "text": "Serbia has the lowest improvement of ~ -0.168",
                "x": 1.1,
                "xref": "paper",
                "y": 1.1,
                "yref": "paper"
               }
              ]
             }
            ],
            "label": "Negative Affect",
            "method": "update"
           }
          ],
          "x": 0,
          "xanchor": "left",
          "y": 1.05,
          "yanchor": "top"
         }
        ],
        "width": 950
       }
      },
      "text/html": [
       "<div>                            <div id=\"4a719d2d-8cc0-4070-be83-98e344078186\" class=\"plotly-graph-div\" style=\"height:600px; width:950px;\"></div>            <script type=\"text/javascript\">                require([\"plotly\"], function(Plotly) {                    window.PLOTLYENV=window.PLOTLYENV || {};                                    if (document.getElementById(\"4a719d2d-8cc0-4070-be83-98e344078186\")) {                    Plotly.newPlot(                        \"4a719d2d-8cc0-4070-be83-98e344078186\",                        [{\"autocolorscale\": false, \"colorbar\": {\"title\": {\"text\": \"Life Ladder Change\"}}, \"colorscale\": [[0.0, \"rgb(165,0,38)\"], [0.1, \"rgb(215,48,39)\"], [0.2, \"rgb(244,109,67)\"], [0.3, \"rgb(253,174,97)\"], [0.4, \"rgb(254,224,139)\"], [0.5, \"rgb(255,255,191)\"], [0.6, \"rgb(217,239,139)\"], [0.7, \"rgb(166,217,106)\"], [0.8, \"rgb(102,189,99)\"], [0.9, \"rgb(26,152,80)\"], [1.0, \"rgb(0,104,55)\"]], \"locations\": [\"AFG\", \"ALB\", \"DZA\", \"ARG\", \"ARM\", \"AUS\", \"AUT\", \"AZE\", \"BGD\", \"BLR\", \"BEL\", \"BEN\", \"BOL\", \"BIH\", \"BWA\", \"BRA\", \"BGR\", \"BFA\", \"KHM\", \"CMR\", \"CAN\", \"TCD\", \"CHL\", \"COL\", \"COM\", \"CRI\", \"HRV\", \"CYP\", \"DNK\", \"DOM\", \"ECU\", \"SLV\", \"EST\", \"FIN\", \"FRA\", \"GAB\", \"GEO\", \"DEU\", \"GHA\", \"GRC\", \"GTM\", \"GIN\", \"HND\", \"HUN\", \"IND\", \"IDN\", \"IRL\", \"ISR\", \"ITA\", \"JAM\", \"JPN\", \"KAZ\", \"KEN\", \"KGZ\", \"LAO\", \"LVA\", \"LBN\", \"LSO\", \"LTU\", \"LUX\", \"MDG\", \"MWI\", \"MYS\", \"MLI\", \"MRT\", \"MUS\", \"MEX\", \"MDA\", \"MNG\", \"MNE\", \"MAR\", \"MOZ\", \"NPL\", \"NLD\", \"NZL\", \"NIC\", \"NER\", \"PAK\", \"PAN\", \"PRY\", \"PER\", \"PHL\", \"POL\", \"PRT\", \"ROU\", \"RUS\", \"RWA\", \"SEN\", \"SRB\", \"SLE\", \"SGP\", \"SVK\", \"SVN\", \"ZAF\", \"ESP\", \"LKA\", \"SWZ\", \"SWE\", \"TZA\", \"THA\", \"TGO\", \"TUN\", \"TUR\", \"UGA\", \"UKR\", \"GBR\", \"USA\", \"URY\", \"UZB\", \"VNM\", \"ZMB\", \"ZWE\"], \"marker\": {\"line\": {\"color\": \"white\", \"width\": 1}}, \"text\": [\"Afghanistan\", \"Albania\", \"Algeria\", \"Argentina\", \"Armenia\", \"Australia\", \"Austria\", \"Azerbaijan\", \"Bangladesh\", \"Belarus\", \"Belgium\", \"Benin\", \"Bolivia\", \"Bosnia and Herzegovina\", \"Botswana\", \"Brazil\", \"Bulgaria\", \"Burkina Faso\", \"Cambodia\", \"Cameroon\", \"Canada\", \"Chad\", \"Chile\", \"Colombia\", \"Comoros\", \"Costa Rica\", \"Croatia\", \"Cyprus\", \"Denmark\", \"Dominican Republic\", \"Ecuador\", \"El Salvador\", \"Estonia\", \"Finland\", \"France\", \"Gabon\", \"Georgia\", \"Germany\", \"Ghana\", \"Greece\", \"Guatemala\", \"Guinea\", \"Honduras\", \"Hungary\", \"India\", \"Indonesia\", \"Ireland\", \"Israel\", \"Italy\", \"Jamaica\", \"Japan\", \"Kazakhstan\", \"Kenya\", \"Kyrgyzstan\", \"Laos\", \"Latvia\", \"Lebanon\", \"Lesotho\", \"Lithuania\", \"Luxembourg\", \"Madagascar\", \"Malawi\", \"Malaysia\", \"Mali\", \"Mauritania\", \"Mauritius\", \"Mexico\", \"Moldova\", \"Mongolia\", \"Montenegro\", \"Morocco\", \"Mozambique\", \"Nepal\", \"Netherlands\", \"New Zealand\", \"Nicaragua\", \"Niger\", \"Pakistan\", \"Panama\", \"Paraguay\", \"Peru\", \"Philippines\", \"Poland\", \"Portugal\", \"Romania\", \"Russia\", \"Rwanda\", \"Senegal\", \"Serbia\", \"Sierra Leone\", \"Singapore\", \"Slovakia\", \"Slovenia\", \"South Africa\", \"Spain\", \"Sri Lanka\", \"Swaziland\", \"Sweden\", \"Tanzania\", \"Thailand\", \"Togo\", \"Tunisia\", \"Turkey\", \"Uganda\", \"Ukraine\", \"United Kingdom\", \"United States\", \"Uruguay\", \"Uzbekistan\", \"Vietnam\", \"Zambia\", \"Zimbabwe\"], \"type\": \"choropleth\", \"visible\": true, \"z\": [-1.456627368927002, -0.8721036911010742, -0.5725669860839844, -0.6902446746826172, 1.227595329284668, -0.17162132263183594, -0.27515172958374023, 0.492919921875, 0.12856769561767578, 0.5961451530456543, -0.33922576904296875, 1.106081247329712, -0.10460376739501953, 1.0208516120910645, -0.04883623123168945, -0.586667537689209, 1.233055591583252, -0.04447460174560547, 0.837059497833252, 0.5028524398803711, -0.31697702407836914, -0.1426830291748047, -0.5840845108032227, -0.11365461349487305, 0.7701303958892822, -0.23126983642578125, 0.2403712272644043, -0.5527758598327637, -0.09522867202758789, 0.6077017784118652, 0.014042854309082031, 1.7135257720947266, 0.5478215217590332, 0.42612266540527344, -0.26954078674316406, 0.6589927673339844, 0.688805103302002, 0.41416025161743164, -0.6413898468017578, 0.5801177024841309, 0.5188212394714355, 0.7231149673461914, 0.969019889831543, 1.0826573371887207, -1.3861017227172852, 0.1739044189453125, 0.24793720245361328, -0.10136795043945312, 0.38833045959472656, 0.9347925186157227, -0.3547544479370117, 0.5366053581237793, 0.21354007720947266, 0.7641716003417969, 0.4931063652038574, 1.0029420852661133, -1.1633520126342773, -1.3857343196868896, 0.6316604614257812, 0.3026151657104492, -0.042327880859375, -0.07693886756896973, -0.3584132194519043, 0.32115888595581055, -0.6321849822998047, 0.764091968536377, -0.4775700569152832, 0.011188030242919922, 0.5317316055297852, 0.16290807723999023, -0.02822113037109375, -0.03897905349731445, 1.639280080795288, -0.13852930068969727, 0.014536380767822266, 0.726839542388916, 0.44771480560302734, -0.8244686126708984, -1.162125587463379, -0.02445507049560547, 0.10692405700683594, 1.2737884521484375, 0.5958890914916992, 0.8754754066467285, 1.107184886932373, 0.0517573356628418, -0.8292837142944336, 1.6545350551605225, 1.4262208938598633, -1.0542621612548828, -0.18268203735351562, 0.29838037490844727, 0.6293096542358398, 0.10435199737548828, -0.060799598693847656, 0.0327301025390625, -0.4709763526916504, 0.015860557556152344, -0.4334073066711426, -0.6414575576782227, 1.2432730197906494, -0.561002254486084, -0.3998703956604004, 0.12205028533935547, -0.38137054443359375, 0.2879023551940918, -0.17143726348876953, 0.046289920806884766, 0.41530513763427734, -0.2998933792114258, -1.692317008972168, -2.152118444442749], \"zmid\": 0}, {\"autocolorscale\": false, \"colorbar\": {\"title\": {\"text\": \"Log GDP per capita Change\"}}, \"colorscale\": [[0.0, \"rgb(165,0,38)\"], [0.1, \"rgb(215,48,39)\"], [0.2, \"rgb(244,109,67)\"], [0.3, \"rgb(253,174,97)\"], [0.4, \"rgb(254,224,139)\"], [0.5, \"rgb(255,255,191)\"], [0.6, \"rgb(217,239,139)\"], [0.7, \"rgb(166,217,106)\"], [0.8, \"rgb(102,189,99)\"], [0.9, \"rgb(26,152,80)\"], [1.0, \"rgb(0,104,55)\"]], \"locations\": [\"AFG\", \"ALB\", \"DZA\", \"ARG\", \"ARM\", \"AUS\", \"AUT\", \"AZE\", \"BGD\", \"BLR\", \"BEL\", \"BEN\", \"BOL\", \"BIH\", \"BWA\", \"BRA\", \"BGR\", \"BFA\", \"KHM\", \"CMR\", \"CAN\", \"TCD\", \"CHL\", \"COL\", \"COM\", \"CRI\", \"HRV\", \"CYP\", \"DNK\", \"DOM\", \"ECU\", \"SLV\", \"EST\", \"FIN\", \"FRA\", \"GAB\", \"GEO\", \"DEU\", \"GHA\", \"GRC\", \"GTM\", \"GIN\", \"HND\", \"HUN\", \"IND\", \"IDN\", \"IRL\", \"ISR\", \"ITA\", \"JAM\", \"JPN\", \"KAZ\", \"KEN\", \"KGZ\", \"LAO\", \"LVA\", \"LBN\", \"LSO\", \"LTU\", \"LUX\", \"MDG\", \"MWI\", \"MYS\", \"MLI\", \"MRT\", \"MUS\", \"MEX\", \"MDA\", \"MNG\", \"MNE\", \"MAR\", \"MOZ\", \"NPL\", \"NLD\", \"NZL\", \"NIC\", \"NER\", \"PAK\", \"PAN\", \"PRY\", \"PER\", \"PHL\", \"POL\", \"PRT\", \"ROU\", \"RUS\", \"RWA\", \"SEN\", \"SRB\", \"SLE\", \"SGP\", \"SVK\", \"SVN\", \"ZAF\", \"ESP\", \"LKA\", \"SWZ\", \"SWE\", \"TZA\", \"THA\", \"TGO\", \"TUN\", \"TUR\", \"UGA\", \"UKR\", \"GBR\", \"USA\", \"URY\", \"UZB\", \"VNM\", \"ZMB\", \"ZWE\"], \"marker\": {\"line\": {\"color\": \"white\", \"width\": 1}}, \"text\": [\"Afghanistan\", \"Albania\", \"Algeria\", \"Argentina\", \"Armenia\", \"Australia\", \"Austria\", \"Azerbaijan\", \"Bangladesh\", \"Belarus\", \"Belgium\", \"Benin\", \"Bolivia\", \"Bosnia and Herzegovina\", \"Botswana\", \"Brazil\", \"Bulgaria\", \"Burkina Faso\", \"Cambodia\", \"Cameroon\", \"Canada\", \"Chad\", \"Chile\", \"Colombia\", \"Comoros\", \"Costa Rica\", \"Croatia\", \"Cyprus\", \"Denmark\", \"Dominican Republic\", \"Ecuador\", \"El Salvador\", \"Estonia\", \"Finland\", \"France\", \"Gabon\", \"Georgia\", \"Germany\", \"Ghana\", \"Greece\", \"Guatemala\", \"Guinea\", \"Honduras\", \"Hungary\", \"India\", \"Indonesia\", \"Ireland\", \"Israel\", \"Italy\", \"Jamaica\", \"Japan\", \"Kazakhstan\", \"Kenya\", \"Kyrgyzstan\", \"Laos\", \"Latvia\", \"Lebanon\", \"Lesotho\", \"Lithuania\", \"Luxembourg\", \"Madagascar\", \"Malawi\", \"Malaysia\", \"Mali\", \"Mauritania\", \"Mauritius\", \"Mexico\", \"Moldova\", \"Mongolia\", \"Montenegro\", \"Morocco\", \"Mozambique\", \"Nepal\", \"Netherlands\", \"New Zealand\", \"Nicaragua\", \"Niger\", \"Pakistan\", \"Panama\", \"Paraguay\", \"Peru\", \"Philippines\", \"Poland\", \"Portugal\", \"Romania\", \"Russia\", \"Rwanda\", \"Senegal\", \"Serbia\", \"Sierra Leone\", \"Singapore\", \"Slovakia\", \"Slovenia\", \"South Africa\", \"Spain\", \"Sri Lanka\", \"Swaziland\", \"Sweden\", \"Tanzania\", \"Thailand\", \"Togo\", \"Tunisia\", \"Turkey\", \"Uganda\", \"Ukraine\", \"United Kingdom\", \"United States\", \"Uruguay\", \"Uzbekistan\", \"Vietnam\", \"Zambia\", \"Zimbabwe\"], \"type\": \"choropleth\", \"visible\": false, \"z\": [0.07771587371826172, 0.21302413940429688, 0.04025554656982422, -0.1121053695678711, 0.33928680419921875, 0.08219623565673828, 0.052471160888671875, 0.035228729248046875, 0.44873809814453125, 0.048020362854003906, 0.0703897476196289, 0.1939077377319336, 0.2426166534423828, 0.2755279541015625, 0.18468761444091797, -0.04449748992919922, 0.2521095275878906, 0.2045278549194336, 0.427217960357666, 0.1554574966430664, 0.06247234344482422, -0.05967998504638672, 0.114715576171875, 0.15577125549316406, 0.05217933654785156, 0.18017101287841797, 0.16665935516357422, 0.055397987365722656, 0.10633468627929688, 0.34656524658203125, 0.03498077392578125, 0.14707469940185547, 0.26331520080566406, 0.037616729736328125, 0.06981182098388672, -0.00084686279296875, 0.3536853790283203, 0.07993030548095703, 0.26449012756347656, -0.01943492889404297, 0.14074230194091797, 0.2819361686706543, 0.1446819305419922, 0.26575279235839844, 0.4304389953613281, 0.3080873489379883, 0.4932537078857422, 0.11139583587646484, -0.016127586364746094, 0.022383689880371094, 0.09928703308105469, 0.1818408966064453, 0.2302570343017578, 0.19217491149902344, 0.4167909622192383, 0.30703067779541016, -0.24087810516357422, 0.14844751358032227, 0.3514060974121094, 0.053612709045410156, 0.06999063491821289, 0.07097101211547852, 0.2862567901611328, 0.10956048965454102, 0.07486343383789062, 0.2754173278808594, 0.08081340789794922, 0.3644695281982422, 0.357086181640625, 0.21521854400634766, 0.14120197296142578, 0.17630720138549805, 0.33901119232177734, 0.07822608947753906, 0.13019084930419922, 0.11130714416503906, 0.18071985244750977, 0.1772756576538086, 0.2979288101196289, 0.17017078399658203, 0.19073772430419922, 0.3879690170288086, 0.2736396789550781, 0.1045370101928711, 0.3656644821166992, 0.07664203643798828, 0.33876752853393555, 0.22640275955200195, 0.20119667053222656, 0.15677213668823242, 0.17886638641357422, 0.20239830017089844, 0.13755035400390625, -0.014697074890136719, 0.10096359252929688, 0.2857503890991211, 0.1296062469482422, 0.06829261779785156, 0.2373638153076172, 0.24405384063720703, 0.22928953170776367, 0.09090328216552734, 0.25026416778564453, 0.10154914855957031, 0.02717876434326172, 0.094940185546875, 0.13036346435546875, 0.14913463592529297, 0.36040306091308594, 0.4071025848388672, 0.08333110809326172, 0.10382413864135742], \"zmid\": 0}, {\"autocolorscale\": false, \"colorbar\": {\"title\": {\"text\": \"Social Support Change\"}}, \"colorscale\": [[0.0, \"rgb(165,0,38)\"], [0.1, \"rgb(215,48,39)\"], [0.2, \"rgb(244,109,67)\"], [0.3, \"rgb(253,174,97)\"], [0.4, \"rgb(254,224,139)\"], [0.5, \"rgb(255,255,191)\"], [0.6, \"rgb(217,239,139)\"], [0.7, \"rgb(166,217,106)\"], [0.8, \"rgb(102,189,99)\"], [0.9, \"rgb(26,152,80)\"], [1.0, \"rgb(0,104,55)\"]], \"locations\": [\"AFG\", \"ALB\", \"DZA\", \"ARG\", \"ARM\", \"AUS\", \"AUT\", \"AZE\", \"BGD\", \"BLR\", \"BEL\", \"BEN\", \"BOL\", \"BIH\", \"BWA\", \"BRA\", \"BGR\", \"BFA\", \"KHM\", \"CMR\", \"CAN\", \"TCD\", \"CHL\", \"COL\", \"COM\", \"CRI\", \"HRV\", \"CYP\", \"DNK\", \"DOM\", \"ECU\", \"SLV\", \"EST\", \"FIN\", \"FRA\", \"GAB\", \"GEO\", \"DEU\", \"GHA\", \"GRC\", \"GTM\", \"GIN\", \"HND\", \"HUN\", \"IND\", \"IDN\", \"IRL\", \"ISR\", \"ITA\", \"JAM\", \"JPN\", \"KAZ\", \"KEN\", \"KGZ\", \"LAO\", \"LVA\", \"LBN\", \"LSO\", \"LTU\", \"LUX\", \"MDG\", \"MWI\", \"MYS\", \"MLI\", \"MRT\", \"MUS\", \"MEX\", \"MDA\", \"MNG\", \"MNE\", \"MAR\", \"MOZ\", \"NPL\", \"NLD\", \"NZL\", \"NIC\", \"NER\", \"PAK\", \"PAN\", \"PRY\", \"PER\", \"PHL\", \"POL\", \"PRT\", \"ROU\", \"RUS\", \"RWA\", \"SEN\", \"SRB\", \"SLE\", \"SGP\", \"SVK\", \"SVN\", \"ZAF\", \"ESP\", \"LKA\", \"SWZ\", \"SWE\", \"TZA\", \"THA\", \"TGO\", \"TUN\", \"TUR\", \"UGA\", \"UKR\", \"GBR\", \"USA\", \"URY\", \"UZB\", \"VNM\", \"ZMB\", \"ZWE\"], \"marker\": {\"line\": {\"color\": \"white\", \"width\": 1}}, \"text\": [\"Afghanistan\", \"Albania\", \"Algeria\", \"Argentina\", \"Armenia\", \"Australia\", \"Austria\", \"Azerbaijan\", \"Bangladesh\", \"Belarus\", \"Belgium\", \"Benin\", \"Bolivia\", \"Bosnia and Herzegovina\", \"Botswana\", \"Brazil\", \"Bulgaria\", \"Burkina Faso\", \"Cambodia\", \"Cameroon\", \"Canada\", \"Chad\", \"Chile\", \"Colombia\", \"Comoros\", \"Costa Rica\", \"Croatia\", \"Cyprus\", \"Denmark\", \"Dominican Republic\", \"Ecuador\", \"El Salvador\", \"Estonia\", \"Finland\", \"France\", \"Gabon\", \"Georgia\", \"Germany\", \"Ghana\", \"Greece\", \"Guatemala\", \"Guinea\", \"Honduras\", \"Hungary\", \"India\", \"Indonesia\", \"Ireland\", \"Israel\", \"Italy\", \"Jamaica\", \"Japan\", \"Kazakhstan\", \"Kenya\", \"Kyrgyzstan\", \"Laos\", \"Latvia\", \"Lebanon\", \"Lesotho\", \"Lithuania\", \"Luxembourg\", \"Madagascar\", \"Malawi\", \"Malaysia\", \"Mali\", \"Mauritania\", \"Mauritius\", \"Mexico\", \"Moldova\", \"Mongolia\", \"Montenegro\", \"Morocco\", \"Mozambique\", \"Nepal\", \"Netherlands\", \"New Zealand\", \"Nicaragua\", \"Niger\", \"Pakistan\", \"Panama\", \"Paraguay\", \"Peru\", \"Philippines\", \"Poland\", \"Portugal\", \"Romania\", \"Russia\", \"Rwanda\", \"Senegal\", \"Serbia\", \"Sierra Leone\", \"Singapore\", \"Slovakia\", \"Slovenia\", \"South Africa\", \"Spain\", \"Sri Lanka\", \"Swaziland\", \"Sweden\", \"Tanzania\", \"Thailand\", \"Togo\", \"Tunisia\", \"Turkey\", \"Uganda\", \"Ukraine\", \"United Kingdom\", \"United States\", \"Uruguay\", \"Uzbekistan\", \"Vietnam\", \"Zambia\", \"Zimbabwe\"], \"type\": \"choropleth\", \"visible\": false, \"z\": [-0.10113069415092468, -0.07306891679763794, -0.006975829601287842, 0.007297039031982422, 0.07649540901184082, -0.02425485849380493, 0.020331978797912598, 0.1615625023841858, 0.06671315431594849, 0.006852686405181885, -0.05272495746612549, -0.035340458154678345, -0.03248143196105957, 0.1478990912437439, -0.0863608717918396, -0.017077863216400146, 0.08793210983276367, -0.02642577886581421, 0.04365652799606323, -0.02702808380126953, 0.0036347508430480957, -0.1783919334411621, 0.05004304647445679, -0.03156840801239014, -0.08981978893280029, 0.014029264450073242, 0.14625000953674316, -0.06757646799087524, -0.004029750823974609, 0.012003660202026367, -0.009565532207489014, 0.03311264514923096, 0.02535170316696167, -0.0004413127899169922, 0.03706252574920654, 0.11035013198852539, 0.17203867435455322, -0.06156933307647705, 0.021950602531433105, 0.03925454616546631, 0.005961954593658447, 0.05665862560272217, 0.03144651651382446, 0.05285334587097168, 0.008187651634216309, -0.02305901050567627, -0.03365123271942139, 0.05331408977508545, -0.07490688562393188, 0.023230254650115967, -0.03905278444290161, 0.04607874155044556, -0.17037594318389893, -0.014376223087310791, 0.03856611251831055, 0.09945881366729736, 0.13305389881134033, -0.03437995910644531, 0.006166219711303711, -0.021986067295074463, -0.11779254674911499, -0.06378066539764404, 0.07207584381103516, -0.04094696044921875, 0.047825396060943604, 0.11286109685897827, 0.027621746063232422, -0.06024646759033203, -0.0021271705627441406, 0.013993382453918457, -0.29858124256134033, -0.07532083988189697, 0.03129369020462036, 0.003081381320953369, -0.014828681945800781, 0.07355880737304688, -0.14070194959640503, 0.10741162300109863, 0.009437203407287598, 0.023337483406066895, 0.05277138948440552, 0.05633145570755005, -0.026310384273529053, 0.02012193202972412, 0.08929914236068726, 0.026681959629058838, -0.08040127158164978, 0.08520472049713135, 0.1300836205482483, -0.17080122232437134, 0.02044445276260376, 0.015794873237609863, 0.018236219882965088, -0.009983420372009277, 0.0045697689056396484, -0.026999294757843018, -0.07805204391479492, 0.013123810291290283, -0.195262610912323, 0.01870018243789673, 0.2357470989227295, -0.10530215501785278, 0.09975451231002808, -0.07626396417617798, 0.023267805576324463, -0.006029605865478516, -0.005013883113861084, 0.04218852519989014, -0.008795320987701416, -0.05006301403045654, -0.22612816095352173, -0.10553121566772461], \"zmid\": 0}, {\"autocolorscale\": false, \"colorbar\": {\"title\": {\"text\": \"Life Expectancy Change\"}}, \"colorscale\": [[0.0, \"rgb(165,0,38)\"], [0.1, \"rgb(215,48,39)\"], [0.2, \"rgb(244,109,67)\"], [0.3, \"rgb(253,174,97)\"], [0.4, \"rgb(254,224,139)\"], [0.5, \"rgb(255,255,191)\"], [0.6, \"rgb(217,239,139)\"], [0.7, \"rgb(166,217,106)\"], [0.8, \"rgb(102,189,99)\"], [0.9, \"rgb(26,152,80)\"], [1.0, \"rgb(0,104,55)\"]], \"locations\": [\"AFG\", \"ALB\", \"DZA\", \"ARG\", \"ARM\", \"AUS\", \"AUT\", \"AZE\", \"BGD\", \"BLR\", \"BEL\", \"BEN\", \"BOL\", \"BIH\", \"BWA\", \"BRA\", \"BGR\", \"BFA\", \"KHM\", \"CMR\", \"CAN\", \"TCD\", \"CHL\", \"COL\", \"COM\", \"CRI\", \"HRV\", \"CYP\", \"DNK\", \"DOM\", \"ECU\", \"SLV\", \"EST\", \"FIN\", \"FRA\", \"GAB\", \"GEO\", \"DEU\", \"GHA\", \"GRC\", \"GTM\", \"GIN\", \"HND\", \"HUN\", \"IND\", \"IDN\", \"IRL\", \"ISR\", \"ITA\", \"JAM\", \"JPN\", \"KAZ\", \"KEN\", \"KGZ\", \"LAO\", \"LVA\", \"LBN\", \"LSO\", \"LTU\", \"LUX\", \"MDG\", \"MWI\", \"MYS\", \"MLI\", \"MRT\", \"MUS\", \"MEX\", \"MDA\", \"MNG\", \"MNE\", \"MAR\", \"MOZ\", \"NPL\", \"NLD\", \"NZL\", \"NIC\", \"NER\", \"PAK\", \"PAN\", \"PRY\", \"PER\", \"PHL\", \"POL\", \"PRT\", \"ROU\", \"RUS\", \"RWA\", \"SEN\", \"SRB\", \"SLE\", \"SGP\", \"SVK\", \"SVN\", \"ZAF\", \"ESP\", \"LKA\", \"SWZ\", \"SWE\", \"TZA\", \"THA\", \"TGO\", \"TUN\", \"TUR\", \"UGA\", \"UKR\", \"GBR\", \"USA\", \"URY\", \"UZB\", \"VNM\", \"ZMB\", \"ZWE\"], \"marker\": {\"line\": {\"color\": \"white\", \"width\": 1}}, \"text\": [\"Afghanistan\", \"Albania\", \"Algeria\", \"Argentina\", \"Armenia\", \"Australia\", \"Austria\", \"Azerbaijan\", \"Bangladesh\", \"Belarus\", \"Belgium\", \"Benin\", \"Bolivia\", \"Bosnia and Herzegovina\", \"Botswana\", \"Brazil\", \"Bulgaria\", \"Burkina Faso\", \"Cambodia\", \"Cameroon\", \"Canada\", \"Chad\", \"Chile\", \"Colombia\", \"Comoros\", \"Costa Rica\", \"Croatia\", \"Cyprus\", \"Denmark\", \"Dominican Republic\", \"Ecuador\", \"El Salvador\", \"Estonia\", \"Finland\", \"France\", \"Gabon\", \"Georgia\", \"Germany\", \"Ghana\", \"Greece\", \"Guatemala\", \"Guinea\", \"Honduras\", \"Hungary\", \"India\", \"Indonesia\", \"Ireland\", \"Israel\", \"Italy\", \"Jamaica\", \"Japan\", \"Kazakhstan\", \"Kenya\", \"Kyrgyzstan\", \"Laos\", \"Latvia\", \"Lebanon\", \"Lesotho\", \"Lithuania\", \"Luxembourg\", \"Madagascar\", \"Malawi\", \"Malaysia\", \"Mali\", \"Mauritania\", \"Mauritius\", \"Mexico\", \"Moldova\", \"Mongolia\", \"Montenegro\", \"Morocco\", \"Mozambique\", \"Nepal\", \"Netherlands\", \"New Zealand\", \"Nicaragua\", \"Niger\", \"Pakistan\", \"Panama\", \"Paraguay\", \"Peru\", \"Philippines\", \"Poland\", \"Portugal\", \"Romania\", \"Russia\", \"Rwanda\", \"Senegal\", \"Serbia\", \"Sierra Leone\", \"Singapore\", \"Slovakia\", \"Slovenia\", \"South Africa\", \"Spain\", \"Sri Lanka\", \"Swaziland\", \"Sweden\", \"Tanzania\", \"Thailand\", \"Togo\", \"Tunisia\", \"Turkey\", \"Uganda\", \"Ukraine\", \"United Kingdom\", \"United States\", \"Uruguay\", \"Uzbekistan\", \"Vietnam\", \"Zambia\", \"Zimbabwe\"], \"type\": \"choropleth\", \"visible\": false, \"z\": [0.48000335693359375, 2.3199996948242188, 1.4399948120117188, 1.5199966430664062, 1.839996337890625, 1.5999984741210938, 1.7600021362304688, 2.160003662109375, 3.680004119873047, 3.520000457763672, 1.279998779296875, 2.720001220703125, 2.5600013732910156, 1.3600006103515625, 5.9199981689453125, 1.839996337890625, 1.1999969482421875, 4.159999847412109, 3.1199989318847656, 4.799999237060547, 1.44000244140625, 3.2800025939941406, 0.9599990844726562, 2.0800018310546875, 2.479999542236328, 1.5999984741210938, 2.8000030517578125, 1.3600006103515625, 2.0799942016601562, 2.0800018310546875, 1.8400039672851562, 2.0, 1.8400039672851562, 1.3600006103515625, 1.5999984741210938, 4.720001220703125, -0.55999755859375, 1.5199966430664062, 3.1199989318847656, 1.0400009155273438, 2.6399993896484375, 5.279998779296875, 1.6800003051757812, 2.2399978637695312, 2.799999237060547, 1.6800003051757812, 0.8000030517578125, 1.0400009155273438, 0.9600067138671875, 1.279998779296875, 1.1199951171875, 4.4799957275390625, 4.6399993896484375, 2.8800010681152344, 2.799999237060547, 2.2399978637695312, 2.3199996948242188, 2.9599990844726562, 3.2000045776367188, 0.720001220703125, 3.279998779296875, 6.880001068115234, 1.4399948120117188, 3.44000244140625, 2.479999542236328, 2.0, 1.9199981689453125, 4.079998016357422, 2.0, 1.4399948120117188, 2.3999977111816406, 6.880001068115234, 5.1999969482421875, 0.8800048828125, 1.279998779296875, 2.0800018310546875, 4.0800018310546875, 2.4800033569335938, 1.1999969482421875, 1.279998779296875, 1.9199981689453125, 1.2000007629394531, 2.2399978637695312, 1.5999984741210938, 2.0800018310546875, 3.279998779296875, 4.880001068115234, 3.4399986267089844, 2.2399978637695312, 8.080001831054688, 2.0800018310546875, 2.1599960327148438, 2.0, 5.44000244140625, 1.6800003051757812, 1.2000045776367188, 10.462100982666016, 0.7199935913085938, 4.959999084472656, 1.6800003051757812, 3.5199966430664062, 1.9199981689453125, 2.55999755859375, 4.879997253417969, 2.4000015258789062, 1.1200027465820312, -0.48000335693359375, 0.9599990844726562, 2.0, 1.4399948120117188, 4.959999084472656, 8.080001831054688], \"zmid\": 0}, {\"autocolorscale\": false, \"colorbar\": {\"title\": {\"text\": \"Life Choices Change\"}}, \"colorscale\": [[0.0, \"rgb(165,0,38)\"], [0.1, \"rgb(215,48,39)\"], [0.2, \"rgb(244,109,67)\"], [0.3, \"rgb(253,174,97)\"], [0.4, \"rgb(254,224,139)\"], [0.5, \"rgb(255,255,191)\"], [0.6, \"rgb(217,239,139)\"], [0.7, \"rgb(166,217,106)\"], [0.8, \"rgb(102,189,99)\"], [0.9, \"rgb(26,152,80)\"], [1.0, \"rgb(0,104,55)\"]], \"locations\": [\"AFG\", \"ALB\", \"DZA\", \"ARG\", \"ARM\", \"AUS\", \"AUT\", \"AZE\", \"BGD\", \"BLR\", \"BEL\", \"BEN\", \"BOL\", \"BIH\", \"BWA\", \"BRA\", \"BGR\", \"BFA\", \"KHM\", \"CMR\", \"CAN\", \"TCD\", \"CHL\", \"COL\", \"COM\", \"CRI\", \"HRV\", \"CYP\", \"DNK\", \"DOM\", \"ECU\", \"SLV\", \"EST\", \"FIN\", \"FRA\", \"GAB\", \"GEO\", \"DEU\", \"GHA\", \"GRC\", \"GTM\", \"GIN\", \"HND\", \"HUN\", \"IND\", \"IDN\", \"IRL\", \"ISR\", \"ITA\", \"JAM\", \"JPN\", \"KAZ\", \"KEN\", \"KGZ\", \"LAO\", \"LVA\", \"LBN\", \"LSO\", \"LTU\", \"LUX\", \"MDG\", \"MWI\", \"MYS\", \"MLI\", \"MRT\", \"MUS\", \"MEX\", \"MDA\", \"MNG\", \"MNE\", \"MAR\", \"MOZ\", \"NPL\", \"NLD\", \"NZL\", \"NIC\", \"NER\", \"PAK\", \"PAN\", \"PRY\", \"PER\", \"PHL\", \"POL\", \"PRT\", \"ROU\", \"RUS\", \"RWA\", \"SEN\", \"SRB\", \"SLE\", \"SGP\", \"SVK\", \"SVN\", \"ZAF\", \"ESP\", \"LKA\", \"SWZ\", \"SWE\", \"TZA\", \"THA\", \"TGO\", \"TUN\", \"TUR\", \"UGA\", \"UKR\", \"GBR\", \"USA\", \"URY\", \"UZB\", \"VNM\", \"ZMB\", \"ZWE\"], \"marker\": {\"line\": {\"color\": \"white\", \"width\": 1}}, \"text\": [\"Afghanistan\", \"Albania\", \"Algeria\", \"Argentina\", \"Armenia\", \"Australia\", \"Austria\", \"Azerbaijan\", \"Bangladesh\", \"Belarus\", \"Belgium\", \"Benin\", \"Bolivia\", \"Bosnia and Herzegovina\", \"Botswana\", \"Brazil\", \"Bulgaria\", \"Burkina Faso\", \"Cambodia\", \"Cameroon\", \"Canada\", \"Chad\", \"Chile\", \"Colombia\", \"Comoros\", \"Costa Rica\", \"Croatia\", \"Cyprus\", \"Denmark\", \"Dominican Republic\", \"Ecuador\", \"El Salvador\", \"Estonia\", \"Finland\", \"France\", \"Gabon\", \"Georgia\", \"Germany\", \"Ghana\", \"Greece\", \"Guatemala\", \"Guinea\", \"Honduras\", \"Hungary\", \"India\", \"Indonesia\", \"Ireland\", \"Israel\", \"Italy\", \"Jamaica\", \"Japan\", \"Kazakhstan\", \"Kenya\", \"Kyrgyzstan\", \"Laos\", \"Latvia\", \"Lebanon\", \"Lesotho\", \"Lithuania\", \"Luxembourg\", \"Madagascar\", \"Malawi\", \"Malaysia\", \"Mali\", \"Mauritania\", \"Mauritius\", \"Mexico\", \"Moldova\", \"Mongolia\", \"Montenegro\", \"Morocco\", \"Mozambique\", \"Nepal\", \"Netherlands\", \"New Zealand\", \"Nicaragua\", \"Niger\", \"Pakistan\", \"Panama\", \"Paraguay\", \"Peru\", \"Philippines\", \"Poland\", \"Portugal\", \"Romania\", \"Russia\", \"Rwanda\", \"Senegal\", \"Serbia\", \"Sierra Leone\", \"Singapore\", \"Slovakia\", \"Slovenia\", \"South Africa\", \"Spain\", \"Sri Lanka\", \"Swaziland\", \"Sweden\", \"Tanzania\", \"Thailand\", \"Togo\", \"Tunisia\", \"Turkey\", \"Uganda\", \"Ukraine\", \"United Kingdom\", \"United States\", \"Uruguay\", \"Uzbekistan\", \"Vietnam\", \"Zambia\", \"Zimbabwe\"], \"type\": \"choropleth\", \"visible\": false, \"z\": [-0.10224524140357971, 0.2898551821708679, -0.14447784423828125, 0.0012505650520324707, 0.37979939579963684, -0.027049541473388672, -0.03592795133590698, 0.316764235496521, 0.06394129991531372, 0.0009227395057678223, -0.10394996404647827, -0.002558767795562744, 0.09963721036911011, 0.3882511258125305, 0.02002859115600586, -0.003449738025665283, 0.1584019660949707, -0.04702162742614746, 0.02933681011199951, -0.10519349575042725, -0.039399683475494385, -0.0030222535133361816, -0.041557371616363525, 0.010593295097351074, 0.03858765959739685, 0.0007243156433105469, 0.22236818075180054, -0.0054108500480651855, 0.02855825424194336, 0.029430925846099854, 0.041267991065979004, 0.13014429807662964, 0.15127897262573242, 0.011168301105499268, -0.07612580060958862, -0.03552204370498657, 0.1780695915222168, -0.021541714668273926, -0.06444841623306274, 0.08545815944671631, 0.13771319389343262, -0.10543113946914673, 0.06282097101211548, 0.16694092750549316, 0.03798866271972656, -0.012428045272827148, -0.059575676918029785, 0.11222267150878906, 0.14174044132232666, 0.09505730867385864, -0.007924914360046387, -0.02550065517425537, 0.10909831523895264, 0.17262780666351318, 0.024519622325897217, 0.13347065448760986, -0.2101045548915863, 0.09805381298065186, 0.21446919441223145, -0.03150951862335205, 0.003979623317718506, 0.03140038251876831, 0.0754196047782898, -0.15244251489639282, 0.060584962368011475, 0.04496413469314575, 0.07201635837554932, 0.15564179420471191, 0.010329484939575195, 0.14808112382888794, 0.17781710624694824, 0.2306033968925476, 0.26555001735687256, -0.03983902931213379, -0.022726356983184814, 0.10408741235733032, 0.05184662342071533, 0.3088529407978058, 0.05394822359085083, 0.21018832921981812, 0.042046427726745605, 0.026761114597320557, 0.014736831188201904, 0.0072585344314575195, 0.19714099168777466, 0.08891850709915161, 0.0399630069732666, 0.11795145273208618, 0.3120462894439697, -0.05196857452392578, 0.11622542142868042, 0.043958425521850586, 0.03798961639404297, -0.09710949659347534, -0.04068416357040405, 0.0016400814056396484, -0.010474801063537598, 0.0003997683525085449, 0.11410218477249146, -0.028637230396270752, 0.033331453800201416, 0.05620807409286499, 0.1854771375656128, -0.028597354888916016, 0.1366424560546875, -0.04573488235473633, -0.027063369750976562, 0.05123722553253174, 0.036161839962005615, 0.13406479358673096, 0.1481897234916687, -0.0010703802108764648], \"zmid\": 0}, {\"autocolorscale\": false, \"colorbar\": {\"title\": {\"text\": \"Generosity Change\"}}, \"colorscale\": [[0.0, \"rgb(165,0,38)\"], [0.1, \"rgb(215,48,39)\"], [0.2, \"rgb(244,109,67)\"], [0.3, \"rgb(253,174,97)\"], [0.4, \"rgb(254,224,139)\"], [0.5, \"rgb(255,255,191)\"], [0.6, \"rgb(217,239,139)\"], [0.7, \"rgb(166,217,106)\"], [0.8, \"rgb(102,189,99)\"], [0.9, \"rgb(26,152,80)\"], [1.0, \"rgb(0,104,55)\"]], \"locations\": [\"AFG\", \"ALB\", \"DZA\", \"ARG\", \"ARM\", \"AUS\", \"AUT\", \"AZE\", \"BGD\", \"BLR\", \"BEL\", \"BEN\", \"BOL\", \"BIH\", \"BWA\", \"BRA\", \"BGR\", \"BFA\", \"KHM\", \"CMR\", \"CAN\", \"TCD\", \"CHL\", \"COL\", \"COM\", \"CRI\", \"HRV\", \"CYP\", \"DNK\", \"DOM\", \"ECU\", \"SLV\", \"EST\", \"FIN\", \"FRA\", \"GAB\", \"GEO\", \"DEU\", \"GHA\", \"GRC\", \"GTM\", \"GIN\", \"HND\", \"HUN\", \"IND\", \"IDN\", \"IRL\", \"ISR\", \"ITA\", \"JAM\", \"JPN\", \"KAZ\", \"KEN\", \"KGZ\", \"LAO\", \"LVA\", \"LBN\", \"LSO\", \"LTU\", \"LUX\", \"MDG\", \"MWI\", \"MYS\", \"MLI\", \"MRT\", \"MUS\", \"MEX\", \"MDA\", \"MNG\", \"MNE\", \"MAR\", \"MOZ\", \"NPL\", \"NLD\", \"NZL\", \"NIC\", \"NER\", \"PAK\", \"PAN\", \"PRY\", \"PER\", \"PHL\", \"POL\", \"PRT\", \"ROU\", \"RUS\", \"RWA\", \"SEN\", \"SRB\", \"SLE\", \"SGP\", \"SVK\", \"SVN\", \"ZAF\", \"ESP\", \"LKA\", \"SWZ\", \"SWE\", \"TZA\", \"THA\", \"TGO\", \"TUN\", \"TUR\", \"UGA\", \"UKR\", \"GBR\", \"USA\", \"URY\", \"UZB\", \"VNM\", \"ZMB\", \"ZWE\"], \"marker\": {\"line\": {\"color\": \"white\", \"width\": 1}}, \"text\": [\"Afghanistan\", \"Albania\", \"Algeria\", \"Argentina\", \"Armenia\", \"Australia\", \"Austria\", \"Azerbaijan\", \"Bangladesh\", \"Belarus\", \"Belgium\", \"Benin\", \"Bolivia\", \"Bosnia and Herzegovina\", \"Botswana\", \"Brazil\", \"Bulgaria\", \"Burkina Faso\", \"Cambodia\", \"Cameroon\", \"Canada\", \"Chad\", \"Chile\", \"Colombia\", \"Comoros\", \"Costa Rica\", \"Croatia\", \"Cyprus\", \"Denmark\", \"Dominican Republic\", \"Ecuador\", \"El Salvador\", \"Estonia\", \"Finland\", \"France\", \"Gabon\", \"Georgia\", \"Germany\", \"Ghana\", \"Greece\", \"Guatemala\", \"Guinea\", \"Honduras\", \"Hungary\", \"India\", \"Indonesia\", \"Ireland\", \"Israel\", \"Italy\", \"Jamaica\", \"Japan\", \"Kazakhstan\", \"Kenya\", \"Kyrgyzstan\", \"Laos\", \"Latvia\", \"Lebanon\", \"Lesotho\", \"Lithuania\", \"Luxembourg\", \"Madagascar\", \"Malawi\", \"Malaysia\", \"Mali\", \"Mauritania\", \"Mauritius\", \"Mexico\", \"Moldova\", \"Mongolia\", \"Montenegro\", \"Morocco\", \"Mozambique\", \"Nepal\", \"Netherlands\", \"New Zealand\", \"Nicaragua\", \"Niger\", \"Pakistan\", \"Panama\", \"Paraguay\", \"Peru\", \"Philippines\", \"Poland\", \"Portugal\", \"Romania\", \"Russia\", \"Rwanda\", \"Senegal\", \"Serbia\", \"Sierra Leone\", \"Singapore\", \"Slovakia\", \"Slovenia\", \"South Africa\", \"Spain\", \"Sri Lanka\", \"Swaziland\", \"Sweden\", \"Tanzania\", \"Thailand\", \"Togo\", \"Tunisia\", \"Turkey\", \"Uganda\", \"Ukraine\", \"United Kingdom\", \"United States\", \"Uruguay\", \"Uzbekistan\", \"Vietnam\", \"Zambia\", \"Zimbabwe\"], \"type\": \"choropleth\", \"visible\": false, \"z\": [-0.2708863541483879, 0.10533130168914795, 0.18574050953611732, -0.0367252379655838, 0.05311030149459839, -0.24865861982107162, -0.07189132273197174, -0.10963395237922668, 0.01786866784095764, -0.018000170588493347, -0.15736790839582682, 0.12610644660890102, -0.046470362693071365, 0.11392885819077492, 0.011002406477928162, 0.010364055633544922, 0.11924272775650024, 0.10047796135768294, -0.4052761010825634, 0.021028287708759308, -0.141560360789299, 0.0244009867310524, -0.21442590653896332, -0.09864502400159836, 0.15210072696208954, -0.11298800259828568, 0.06023700535297394, -0.18729723617434502, -0.277207400649786, -0.13664887007325888, 0.04022005945444107, 0.017509885132312775, 0.07241372019052505, -0.15301340073347092, -0.030720926821231842, 0.008860409259796143, -0.004862278699874878, 0.024165216833353043, 0.10541329719126225, 0.027760863304138184, -0.07118544541299343, 0.056159451603889465, -0.032770343124866486, -0.10586678236722946, 0.14954596012830734, 0.11740690469741821, -0.3098364546895027, -0.055429816246032715, -0.06374996714293957, -0.07315093278884888, -0.20283052697777748, 0.1803792379796505, 0.28826521895825863, 0.15220940089784563, -0.39751162752509117, -0.1915842667222023, -0.08689737692475319, -0.04361783713102341, -0.1035628616809845, -0.15092848613858223, 0.04953109472990036, -0.09509862260892987, 0.13957242853939533, 0.06295385956764221, -0.1537795104086399, -0.24419542402029037, -0.04148641228675842, -0.010723613202571869, -0.0020559579133987427, 0.12114840000867844, -0.02619628608226776, 0.09694627113640308, 0.17666530515998602, -0.12313403189182281, -0.12757615745067596, 0.04882597550749779, 0.08131752535700798, 0.0940536018460989, -0.20794992055743933, -0.16256698034703732, -0.006395250558853149, -0.15512415766716003, -0.1638401374220848, -0.06079253554344177, -0.08162955939769745, 0.16325896978378296, 0.10273727029561996, 0.14165217615664005, 0.14491317048668861, 0.06953359255567193, 0.1759033165872097, -0.1390843028202653, -0.07658740133047104, 0.020276427268981934, 0.07311496883630753, -0.09366893023252487, -0.12400536984205246, -0.07043801993131638, 0.14654558524489403, -0.09132865071296692, 0.1345980316400528, -0.010140568017959595, 0.10629089176654816, 0.10731680318713188, 0.14659547805786133, -0.06548485159873962, -0.016385510563850403, -0.015288077294826508, 0.2622150331735611, -0.23052332550287247, 0.07466046558693051, 0.024085164070129395], \"zmid\": 0}, {\"autocolorscale\": false, \"colorbar\": {\"title\": {\"text\": \"Perceptions of corruption Change\"}}, \"colorscale\": [[0.0, \"rgb(165,0,38)\"], [0.1, \"rgb(215,48,39)\"], [0.2, \"rgb(244,109,67)\"], [0.3, \"rgb(253,174,97)\"], [0.4, \"rgb(254,224,139)\"], [0.5, \"rgb(255,255,191)\"], [0.6, \"rgb(217,239,139)\"], [0.7, \"rgb(166,217,106)\"], [0.8, \"rgb(102,189,99)\"], [0.9, \"rgb(26,152,80)\"], [1.0, \"rgb(0,104,55)\"]], \"locations\": [\"AFG\", \"ALB\", \"DZA\", \"ARG\", \"ARM\", \"AUS\", \"AUT\", \"AZE\", \"BGD\", \"BLR\", \"BEL\", \"BEN\", \"BOL\", \"BIH\", \"BWA\", \"BRA\", \"BGR\", \"BFA\", \"KHM\", \"CMR\", \"CAN\", \"TCD\", \"CHL\", \"COL\", \"COM\", \"CRI\", \"HRV\", \"CYP\", \"DNK\", \"DOM\", \"ECU\", \"SLV\", \"EST\", \"FIN\", \"FRA\", \"GAB\", \"GEO\", \"DEU\", \"GHA\", \"GRC\", \"GTM\", \"GIN\", \"HND\", \"HUN\", \"IND\", \"IDN\", \"IRL\", \"ISR\", \"ITA\", \"JAM\", \"JPN\", \"KAZ\", \"KEN\", \"KGZ\", \"LAO\", \"LVA\", \"LBN\", \"LSO\", \"LTU\", \"LUX\", \"MDG\", \"MWI\", \"MYS\", \"MLI\", \"MRT\", \"MUS\", \"MEX\", \"MDA\", \"MNG\", \"MNE\", \"MAR\", \"MOZ\", \"NPL\", \"NLD\", \"NZL\", \"NIC\", \"NER\", \"PAK\", \"PAN\", \"PRY\", \"PER\", \"PHL\", \"POL\", \"PRT\", \"ROU\", \"RUS\", \"RWA\", \"SEN\", \"SRB\", \"SLE\", \"SGP\", \"SVK\", \"SVN\", \"ZAF\", \"ESP\", \"LKA\", \"SWZ\", \"SWE\", \"TZA\", \"THA\", \"TGO\", \"TUN\", \"TUR\", \"UGA\", \"UKR\", \"GBR\", \"USA\", \"URY\", \"UZB\", \"VNM\", \"ZMB\", \"ZWE\"], \"marker\": {\"line\": {\"color\": \"white\", \"width\": 1}}, \"text\": [\"Afghanistan\", \"Albania\", \"Algeria\", \"Argentina\", \"Armenia\", \"Australia\", \"Austria\", \"Azerbaijan\", \"Bangladesh\", \"Belarus\", \"Belgium\", \"Benin\", \"Bolivia\", \"Bosnia and Herzegovina\", \"Botswana\", \"Brazil\", \"Bulgaria\", \"Burkina Faso\", \"Cambodia\", \"Cameroon\", \"Canada\", \"Chad\", \"Chile\", \"Colombia\", \"Comoros\", \"Costa Rica\", \"Croatia\", \"Cyprus\", \"Denmark\", \"Dominican Republic\", \"Ecuador\", \"El Salvador\", \"Estonia\", \"Finland\", \"France\", \"Gabon\", \"Georgia\", \"Germany\", \"Ghana\", \"Greece\", \"Guatemala\", \"Guinea\", \"Honduras\", \"Hungary\", \"India\", \"Indonesia\", \"Ireland\", \"Israel\", \"Italy\", \"Jamaica\", \"Japan\", \"Kazakhstan\", \"Kenya\", \"Kyrgyzstan\", \"Laos\", \"Latvia\", \"Lebanon\", \"Lesotho\", \"Lithuania\", \"Luxembourg\", \"Madagascar\", \"Malawi\", \"Malaysia\", \"Mali\", \"Mauritania\", \"Mauritius\", \"Mexico\", \"Moldova\", \"Mongolia\", \"Montenegro\", \"Morocco\", \"Mozambique\", \"Nepal\", \"Netherlands\", \"New Zealand\", \"Nicaragua\", \"Niger\", \"Pakistan\", \"Panama\", \"Paraguay\", \"Peru\", \"Philippines\", \"Poland\", \"Portugal\", \"Romania\", \"Russia\", \"Rwanda\", \"Senegal\", \"Serbia\", \"Sierra Leone\", \"Singapore\", \"Slovakia\", \"Slovenia\", \"South Africa\", \"Spain\", \"Sri Lanka\", \"Swaziland\", \"Sweden\", \"Tanzania\", \"Thailand\", \"Togo\", \"Tunisia\", \"Turkey\", \"Uganda\", \"Ukraine\", \"United Kingdom\", \"United States\", \"Uruguay\", \"Uzbekistan\", \"Vietnam\", \"Zambia\", \"Zimbabwe\"], \"type\": \"choropleth\", \"visible\": false, \"z\": [0.1927405595779419, 0.037281692028045654, 0.102627694606781, 0.07581406831741333, -0.2911282777786255, 0.048436909914016724, -0.2456321120262146, -0.3378583788871765, -0.10099804401397705, -0.12603390216827393, -0.03854638338088989, -0.1511252522468567, 0.03236609697341919, 0.03812366724014282, -0.024078965187072754, 0.09967386722564697, -0.0051721930503845215, 0.022598206996917725, 0.05308884382247925, -0.052445411682128906, 0.0034428834915161133, -0.044100165367126465, 0.10773605108261108, 0.0063776373863220215, 0.030723989009857178, -0.0009549260139465332, -0.045162856578826904, 0.02461773157119751, -0.045892491936683655, -0.04263937473297119, 0.13789933919906616, -0.02497631311416626, -0.1110297441482544, -0.12425476312637329, -0.05835223197937012, -0.004576683044433594, 0.2938767671585083, -0.21491697430610657, 0.06622153520584106, -0.09314870834350586, -0.09046143293380737, 0.01232922077178955, -0.069000244140625, -0.05633658170700073, -0.15581411123275757, -0.10151010751724243, -0.2171090841293335, -0.14842760562896729, -0.06793290376663208, -0.02378612756729126, -0.11661112308502197, -0.09344500303268433, -0.12829387187957764, -0.04795706272125244, 0.03291177749633789, -0.14502811431884766, -0.0201452374458313, 0.14727580547332764, -0.1810104250907898, 0.0014278292655944824, -0.1771174669265747, -0.17274624109268188, -0.05956065654754639, 0.1202775239944458, -0.004047572612762451, -0.03656059503555298, 0.11095738410949707, -0.07282185554504395, -0.05799192190170288, 0.05761384963989258, -0.11835741996765137, -0.03685849905014038, -0.22272127866744995, 0.0006722211837768555, -0.035498976707458496, -0.13826078176498413, 0.17976176738739014, -0.08117955923080444, 0.029143035411834717, 0.1257891058921814, 0.04993695020675659, -0.03450435400009155, -0.21189576387405396, -0.04681152105331421, -0.009911894798278809, -0.0874253511428833, 0.006496235728263855, -0.07422053813934326, -0.16377556324005127, 0.01921480894088745, -0.02930484712123871, 0.01871436834335327, -0.10769200325012207, 0.0006417036056518555, -0.11520582437515259, 0.10304158926010132, -0.19374233484268188, -0.0184251070022583, -0.22708255052566528, -0.04615581035614014, -0.09532862901687622, -0.023752152919769287, 0.1118459701538086, -0.00451129674911499, -0.04753035306930542, 0.0474969744682312, 0.009789764881134033, 0.0431135892868042, -0.01066523790359497, 0.04572761058807373, -0.05019378662109375, 0.0008514523506164551], \"zmid\": 0}, {\"autocolorscale\": false, \"colorbar\": {\"title\": {\"text\": \"Positive Affect Change\"}}, \"colorscale\": [[0.0, \"rgb(165,0,38)\"], [0.1, \"rgb(215,48,39)\"], [0.2, \"rgb(244,109,67)\"], [0.3, \"rgb(253,174,97)\"], [0.4, \"rgb(254,224,139)\"], [0.5, \"rgb(255,255,191)\"], [0.6, \"rgb(217,239,139)\"], [0.7, \"rgb(166,217,106)\"], [0.8, \"rgb(102,189,99)\"], [0.9, \"rgb(26,152,80)\"], [1.0, \"rgb(0,104,55)\"]], \"locations\": [\"AFG\", \"ALB\", \"DZA\", \"ARG\", \"ARM\", \"AUS\", \"AUT\", \"AZE\", \"BGD\", \"BLR\", \"BEL\", \"BEN\", \"BOL\", \"BIH\", \"BWA\", \"BRA\", \"BGR\", \"BFA\", \"KHM\", \"CMR\", \"CAN\", \"TCD\", \"CHL\", \"COL\", \"COM\", \"CRI\", \"HRV\", \"CYP\", \"DNK\", \"DOM\", \"ECU\", \"SLV\", \"EST\", \"FIN\", \"FRA\", \"GAB\", \"GEO\", \"DEU\", \"GHA\", \"GRC\", \"GTM\", \"GIN\", \"HND\", \"HUN\", \"IND\", \"IDN\", \"IRL\", \"ISR\", \"ITA\", \"JAM\", \"JPN\", \"KAZ\", \"KEN\", \"KGZ\", \"LAO\", \"LVA\", \"LBN\", \"LSO\", \"LTU\", \"LUX\", \"MDG\", \"MWI\", \"MYS\", \"MLI\", \"MRT\", \"MUS\", \"MEX\", \"MDA\", \"MNG\", \"MNE\", \"MAR\", \"MOZ\", \"NPL\", \"NLD\", \"NZL\", \"NIC\", \"NER\", \"PAK\", \"PAN\", \"PRY\", \"PER\", \"PHL\", \"POL\", \"PRT\", \"ROU\", \"RUS\", \"RWA\", \"SEN\", \"SRB\", \"SLE\", \"SGP\", \"SVK\", \"SVN\", \"ZAF\", \"ESP\", \"LKA\", \"SWZ\", \"SWE\", \"TZA\", \"THA\", \"TGO\", \"TUN\", \"TUR\", \"UGA\", \"UKR\", \"GBR\", \"USA\", \"URY\", \"UZB\", \"VNM\", \"ZMB\", \"ZWE\"], \"marker\": {\"line\": {\"color\": \"white\", \"width\": 1}}, \"text\": [\"Afghanistan\", \"Albania\", \"Algeria\", \"Argentina\", \"Armenia\", \"Australia\", \"Austria\", \"Azerbaijan\", \"Bangladesh\", \"Belarus\", \"Belgium\", \"Benin\", \"Bolivia\", \"Bosnia and Herzegovina\", \"Botswana\", \"Brazil\", \"Bulgaria\", \"Burkina Faso\", \"Cambodia\", \"Cameroon\", \"Canada\", \"Chad\", \"Chile\", \"Colombia\", \"Comoros\", \"Costa Rica\", \"Croatia\", \"Cyprus\", \"Denmark\", \"Dominican Republic\", \"Ecuador\", \"El Salvador\", \"Estonia\", \"Finland\", \"France\", \"Gabon\", \"Georgia\", \"Germany\", \"Ghana\", \"Greece\", \"Guatemala\", \"Guinea\", \"Honduras\", \"Hungary\", \"India\", \"Indonesia\", \"Ireland\", \"Israel\", \"Italy\", \"Jamaica\", \"Japan\", \"Kazakhstan\", \"Kenya\", \"Kyrgyzstan\", \"Laos\", \"Latvia\", \"Lebanon\", \"Lesotho\", \"Lithuania\", \"Luxembourg\", \"Madagascar\", \"Malawi\", \"Malaysia\", \"Mali\", \"Mauritania\", \"Mauritius\", \"Mexico\", \"Moldova\", \"Mongolia\", \"Montenegro\", \"Morocco\", \"Mozambique\", \"Nepal\", \"Netherlands\", \"New Zealand\", \"Nicaragua\", \"Niger\", \"Pakistan\", \"Panama\", \"Paraguay\", \"Peru\", \"Philippines\", \"Poland\", \"Portugal\", \"Romania\", \"Russia\", \"Rwanda\", \"Senegal\", \"Serbia\", \"Sierra Leone\", \"Singapore\", \"Slovakia\", \"Slovenia\", \"South Africa\", \"Spain\", \"Sri Lanka\", \"Swaziland\", \"Sweden\", \"Tanzania\", \"Thailand\", \"Togo\", \"Tunisia\", \"Turkey\", \"Uganda\", \"Ukraine\", \"United Kingdom\", \"United States\", \"Uruguay\", \"Uzbekistan\", \"Vietnam\", \"Zambia\", \"Zimbabwe\"], \"type\": \"choropleth\", \"visible\": false, \"z\": [-0.2600002586841583, 0.053421080112457275, 0.03474092483520508, -0.014083266258239746, 0.1236884593963623, -0.04581671953201294, -0.015011608600616455, 0.10674232244491577, -0.14775872230529785, 0.06996089220046997, -0.10108894109725952, 0.03295338153839111, -0.009378135204315186, 0.03691720962524414, -0.027518272399902344, -0.04662144184112549, 0.12908732891082764, 0.11230087280273438, 0.045122504234313965, 0.031624674797058105, -0.058941781520843506, -0.00421142578125, 0.004873037338256836, -0.009124934673309326, 0.06960165500640869, -0.02729743719100952, -0.04682046175003052, -0.0003972053527832031, 0.0924990177154541, -0.024622738361358643, -0.050649940967559814, -0.004751026630401611, 0.15289372205734253, -0.01773381233215332, -0.045654475688934326, 0.10132157802581787, 0.08957040309906006, -0.043057024478912354, -0.06179475784301758, 0.07614189386367798, 0.014918982982635498, -0.015902400016784668, 0.0342634916305542, 0.10090005397796631, -0.00041496753692626953, 0.012899219989776611, -0.05820965766906738, -0.10331463813781738, -0.027314484119415283, -0.08383089303970337, -0.03287303447723389, 0.0919913649559021, -0.00893312692642212, 0.08431220054626465, -0.021632671356201172, 0.01195669174194336, -0.256320983171463, -0.0585932731628418, -0.003509342670440674, -0.0472722053527832, 0.213323712348938, -0.17606180906295776, -0.053149521350860596, -0.04674774408340454, -0.07017683982849121, 0.06980353593826294, 0.07437586784362793, 0.06306052207946777, 0.015276432037353516, -0.011666476726531982, -0.14677375555038452, -0.004731416702270508, -0.16365504264831543, -0.02442270517349243, -0.0478900671005249, 0.04399120807647705, 0.11542153358459473, -0.0467066764831543, -0.007731616497039795, 0.047882795333862305, 0.040278851985931396, -0.0705750584602356, -0.00019985437393188477, -0.015286862850189209, 0.15471422672271729, 0.09000372886657715, 0.07059407234191895, 0.03708982467651367, -0.03637874126434326, 0.06757128238677979, 0.23984378576278687, 0.11379629373550415, 0.027173936367034912, 0.037512362003326416, -0.07395654916763306, -0.00859057903289795, -0.04298597574234009, 0.011722028255462646, -0.03831225633621216, -0.09150058031082153, 0.10994869470596313, -0.048745036125183105, -0.19906583428382874, 0.014869749546051025, 0.043797850608825684, -0.06929486989974976, -0.02137535810470581, 0.08362042903900146, 0.057654738426208496, 0.21956968307495117, -0.08980685472488403, -0.06518518924713135], \"zmid\": 0}, {\"autocolorscale\": false, \"colorbar\": {\"title\": {\"text\": \"Negative Affect Change\"}}, \"colorscale\": [[0.0, \"rgb(165,0,38)\"], [0.1, \"rgb(215,48,39)\"], [0.2, \"rgb(244,109,67)\"], [0.3, \"rgb(253,174,97)\"], [0.4, \"rgb(254,224,139)\"], [0.5, \"rgb(255,255,191)\"], [0.6, \"rgb(217,239,139)\"], [0.7, \"rgb(166,217,106)\"], [0.8, \"rgb(102,189,99)\"], [0.9, \"rgb(26,152,80)\"], [1.0, \"rgb(0,104,55)\"]], \"locations\": [\"AFG\", \"ALB\", \"DZA\", \"ARG\", \"ARM\", \"AUS\", \"AUT\", \"AZE\", \"BGD\", \"BLR\", \"BEL\", \"BEN\", \"BOL\", \"BIH\", \"BWA\", \"BRA\", \"BGR\", \"BFA\", \"KHM\", \"CMR\", \"CAN\", \"TCD\", \"CHL\", \"COL\", \"COM\", \"CRI\", \"HRV\", \"CYP\", \"DNK\", \"DOM\", \"ECU\", \"SLV\", \"EST\", \"FIN\", \"FRA\", \"GAB\", \"GEO\", \"DEU\", \"GHA\", \"GRC\", \"GTM\", \"GIN\", \"HND\", \"HUN\", \"IND\", \"IDN\", \"IRL\", \"ISR\", \"ITA\", \"JAM\", \"JPN\", \"KAZ\", \"KEN\", \"KGZ\", \"LAO\", \"LVA\", \"LBN\", \"LSO\", \"LTU\", \"LUX\", \"MDG\", \"MWI\", \"MYS\", \"MLI\", \"MRT\", \"MUS\", \"MEX\", \"MDA\", \"MNG\", \"MNE\", \"MAR\", \"MOZ\", \"NPL\", \"NLD\", \"NZL\", \"NIC\", \"NER\", \"PAK\", \"PAN\", \"PRY\", \"PER\", \"PHL\", \"POL\", \"PRT\", \"ROU\", \"RUS\", \"RWA\", \"SEN\", \"SRB\", \"SLE\", \"SGP\", \"SVK\", \"SVN\", \"ZAF\", \"ESP\", \"LKA\", \"SWZ\", \"SWE\", \"TZA\", \"THA\", \"TGO\", \"TUN\", \"TUR\", \"UGA\", \"UKR\", \"GBR\", \"USA\", \"URY\", \"UZB\", \"VNM\", \"ZMB\", \"ZWE\"], \"marker\": {\"line\": {\"color\": \"white\", \"width\": 1}}, \"text\": [\"Afghanistan\", \"Albania\", \"Algeria\", \"Argentina\", \"Armenia\", \"Australia\", \"Austria\", \"Azerbaijan\", \"Bangladesh\", \"Belarus\", \"Belgium\", \"Benin\", \"Bolivia\", \"Bosnia and Herzegovina\", \"Botswana\", \"Brazil\", \"Bulgaria\", \"Burkina Faso\", \"Cambodia\", \"Cameroon\", \"Canada\", \"Chad\", \"Chile\", \"Colombia\", \"Comoros\", \"Costa Rica\", \"Croatia\", \"Cyprus\", \"Denmark\", \"Dominican Republic\", \"Ecuador\", \"El Salvador\", \"Estonia\", \"Finland\", \"France\", \"Gabon\", \"Georgia\", \"Germany\", \"Ghana\", \"Greece\", \"Guatemala\", \"Guinea\", \"Honduras\", \"Hungary\", \"India\", \"Indonesia\", \"Ireland\", \"Israel\", \"Italy\", \"Jamaica\", \"Japan\", \"Kazakhstan\", \"Kenya\", \"Kyrgyzstan\", \"Laos\", \"Latvia\", \"Lebanon\", \"Lesotho\", \"Lithuania\", \"Luxembourg\", \"Madagascar\", \"Malawi\", \"Malaysia\", \"Mali\", \"Mauritania\", \"Mauritius\", \"Mexico\", \"Moldova\", \"Mongolia\", \"Montenegro\", \"Morocco\", \"Mozambique\", \"Nepal\", \"Netherlands\", \"New Zealand\", \"Nicaragua\", \"Niger\", \"Pakistan\", \"Panama\", \"Paraguay\", \"Peru\", \"Philippines\", \"Poland\", \"Portugal\", \"Romania\", \"Russia\", \"Rwanda\", \"Senegal\", \"Serbia\", \"Sierra Leone\", \"Singapore\", \"Slovakia\", \"Slovenia\", \"South Africa\", \"Spain\", \"Sri Lanka\", \"Swaziland\", \"Sweden\", \"Tanzania\", \"Thailand\", \"Togo\", \"Tunisia\", \"Turkey\", \"Uganda\", \"Ukraine\", \"United Kingdom\", \"United States\", \"Uruguay\", \"Uzbekistan\", \"Vietnam\", \"Zambia\", \"Zimbabwe\"], \"type\": \"choropleth\", \"visible\": false, \"z\": [0.2352990210056305, 0.017250865697860718, -0.03969888389110565, 0.08719968795776367, -0.028610676527023315, 0.006866395473480225, 0.05993218719959259, -0.09419706463813782, 0.1344900131225586, -0.05963398516178131, 0.01857447624206543, 0.22272031009197235, 0.0578426718711853, -0.08766615390777588, 0.11293897032737732, 0.06952711939811707, -0.07104271650314331, 0.16003954410552979, 0.0817176103591919, 0.05471867322921753, 0.037105098366737366, 0.17091479897499084, 0.02036762237548828, 0.03584742546081543, 0.1628398895263672, 0.034102022647857666, -0.0038251876831054688, 0.017925620079040527, 0.00618724524974823, -0.035785168409347534, 0.10287052392959595, -0.06484648585319519, -0.048879414796829224, -0.02450576424598694, -0.03057923913002014, 0.14900586009025574, -0.0030604004859924316, 0.06097167730331421, 0.060727477073669434, -0.08684433996677399, 0.02143135666847229, 0.21325525641441345, -0.02858889102935791, -0.1241714358329773, 0.23474113643169403, 0.028286755084991455, 0.032990410923957825, -0.11858335137367249, 0.06239214539527893, -0.04187467694282532, 0.013354912400245667, -0.015301048755645752, 0.022714629769325256, 0.05591316521167755, 0.0808657705783844, -0.010082527995109558, 0.17433199286460876, 0.1034155935049057, 0.0014176666736602783, 0.0115031898021698, 0.0691336840391159, 0.07968765497207642, 0.021196722984313965, 0.22594328224658966, 0.0848759263753891, -0.10314209759235382, 0.024427130818367004, -0.023208558559417725, 0.013688802719116211, -0.012161880731582642, 0.2227628231048584, 0.14070670306682587, 0.14974135160446167, 0.049116089940071106, -0.018973276019096375, 0.027994155883789062, 0.13828381896018982, 0.06643927097320557, 0.06392528116703033, 0.0849238932132721, 0.044064223766326904, -0.017756879329681396, -0.05572053790092468, 0.02067387104034424, -0.0508023202419281, 0.03518660366535187, 0.2634257525205612, 0.1518988460302353, -0.1681247353553772, 0.13860687613487244, -0.005559772253036499, -0.03560325503349304, -0.05748248100280762, 0.03824269771575928, -0.04058322310447693, 0.1396159827709198, 0.028541773557662964, 0.022847726941108704, 0.09795679152011871, 0.0915076732635498, 0.04850727319717407, 0.1852165013551712, -0.011695653200149536, 0.13073858618736267, -0.018516018986701965, 0.07710602879524231, -0.029544860124588013, -0.03051985800266266, 0.0969722792506218, -0.007058918476104736, 0.19031530618667603, 0.02481035888195038], \"zmid\": 0}],                        {\"autosize\": false, \"geo\": {\"projection\": {\"type\": \"equirectangular\"}, \"showcoastlines\": false, \"showframe\": false}, \"height\": 600, \"template\": {\"data\": {\"bar\": [{\"error_x\": {\"color\": \"#2a3f5f\"}, \"error_y\": {\"color\": \"#2a3f5f\"}, \"marker\": {\"line\": {\"color\": \"#E5ECF6\", \"width\": 0.5}}, \"type\": \"bar\"}], \"barpolar\": [{\"marker\": {\"line\": {\"color\": \"#E5ECF6\", \"width\": 0.5}}, \"type\": \"barpolar\"}], \"carpet\": [{\"aaxis\": {\"endlinecolor\": \"#2a3f5f\", \"gridcolor\": \"white\", \"linecolor\": \"white\", \"minorgridcolor\": \"white\", \"startlinecolor\": \"#2a3f5f\"}, \"baxis\": {\"endlinecolor\": \"#2a3f5f\", \"gridcolor\": \"white\", \"linecolor\": \"white\", \"minorgridcolor\": \"white\", \"startlinecolor\": \"#2a3f5f\"}, \"type\": \"carpet\"}], \"choropleth\": [{\"colorbar\": {\"outlinewidth\": 0, \"ticks\": \"\"}, \"type\": \"choropleth\"}], \"contour\": [{\"colorbar\": {\"outlinewidth\": 0, \"ticks\": \"\"}, \"colorscale\": [[0.0, \"#0d0887\"], [0.1111111111111111, \"#46039f\"], [0.2222222222222222, \"#7201a8\"], [0.3333333333333333, \"#9c179e\"], [0.4444444444444444, \"#bd3786\"], [0.5555555555555556, \"#d8576b\"], [0.6666666666666666, \"#ed7953\"], [0.7777777777777778, \"#fb9f3a\"], [0.8888888888888888, \"#fdca26\"], [1.0, \"#f0f921\"]], \"type\": \"contour\"}], \"contourcarpet\": [{\"colorbar\": {\"outlinewidth\": 0, \"ticks\": \"\"}, \"type\": \"contourcarpet\"}], \"heatmap\": [{\"colorbar\": {\"outlinewidth\": 0, \"ticks\": \"\"}, \"colorscale\": [[0.0, \"#0d0887\"], [0.1111111111111111, \"#46039f\"], [0.2222222222222222, \"#7201a8\"], [0.3333333333333333, \"#9c179e\"], [0.4444444444444444, \"#bd3786\"], [0.5555555555555556, \"#d8576b\"], [0.6666666666666666, \"#ed7953\"], [0.7777777777777778, \"#fb9f3a\"], [0.8888888888888888, \"#fdca26\"], [1.0, \"#f0f921\"]], \"type\": \"heatmap\"}], \"heatmapgl\": [{\"colorbar\": {\"outlinewidth\": 0, \"ticks\": \"\"}, \"colorscale\": [[0.0, \"#0d0887\"], [0.1111111111111111, \"#46039f\"], [0.2222222222222222, \"#7201a8\"], [0.3333333333333333, \"#9c179e\"], [0.4444444444444444, \"#bd3786\"], [0.5555555555555556, \"#d8576b\"], [0.6666666666666666, \"#ed7953\"], [0.7777777777777778, \"#fb9f3a\"], [0.8888888888888888, \"#fdca26\"], [1.0, \"#f0f921\"]], \"type\": \"heatmapgl\"}], \"histogram\": [{\"marker\": {\"colorbar\": {\"outlinewidth\": 0, \"ticks\": \"\"}}, \"type\": \"histogram\"}], \"histogram2d\": [{\"colorbar\": {\"outlinewidth\": 0, \"ticks\": \"\"}, \"colorscale\": [[0.0, \"#0d0887\"], [0.1111111111111111, \"#46039f\"], [0.2222222222222222, \"#7201a8\"], [0.3333333333333333, \"#9c179e\"], [0.4444444444444444, \"#bd3786\"], [0.5555555555555556, \"#d8576b\"], [0.6666666666666666, \"#ed7953\"], [0.7777777777777778, \"#fb9f3a\"], [0.8888888888888888, \"#fdca26\"], [1.0, \"#f0f921\"]], \"type\": \"histogram2d\"}], \"histogram2dcontour\": [{\"colorbar\": {\"outlinewidth\": 0, \"ticks\": \"\"}, \"colorscale\": [[0.0, \"#0d0887\"], [0.1111111111111111, \"#46039f\"], [0.2222222222222222, \"#7201a8\"], [0.3333333333333333, \"#9c179e\"], [0.4444444444444444, \"#bd3786\"], [0.5555555555555556, \"#d8576b\"], [0.6666666666666666, \"#ed7953\"], [0.7777777777777778, \"#fb9f3a\"], [0.8888888888888888, \"#fdca26\"], [1.0, \"#f0f921\"]], \"type\": \"histogram2dcontour\"}], \"mesh3d\": [{\"colorbar\": {\"outlinewidth\": 0, \"ticks\": \"\"}, \"type\": \"mesh3d\"}], \"parcoords\": [{\"line\": {\"colorbar\": {\"outlinewidth\": 0, \"ticks\": \"\"}}, \"type\": \"parcoords\"}], \"pie\": [{\"automargin\": true, \"type\": \"pie\"}], \"scatter\": [{\"marker\": {\"colorbar\": {\"outlinewidth\": 0, \"ticks\": \"\"}}, \"type\": \"scatter\"}], \"scatter3d\": [{\"line\": {\"colorbar\": {\"outlinewidth\": 0, \"ticks\": \"\"}}, \"marker\": {\"colorbar\": {\"outlinewidth\": 0, \"ticks\": \"\"}}, \"type\": \"scatter3d\"}], \"scattercarpet\": [{\"marker\": {\"colorbar\": {\"outlinewidth\": 0, \"ticks\": \"\"}}, \"type\": \"scattercarpet\"}], \"scattergeo\": [{\"marker\": {\"colorbar\": {\"outlinewidth\": 0, \"ticks\": \"\"}}, \"type\": \"scattergeo\"}], \"scattergl\": [{\"marker\": {\"colorbar\": {\"outlinewidth\": 0, \"ticks\": \"\"}}, \"type\": \"scattergl\"}], \"scattermapbox\": [{\"marker\": {\"colorbar\": {\"outlinewidth\": 0, \"ticks\": \"\"}}, \"type\": \"scattermapbox\"}], \"scatterpolar\": [{\"marker\": {\"colorbar\": {\"outlinewidth\": 0, \"ticks\": \"\"}}, \"type\": \"scatterpolar\"}], \"scatterpolargl\": [{\"marker\": {\"colorbar\": {\"outlinewidth\": 0, \"ticks\": \"\"}}, \"type\": \"scatterpolargl\"}], \"scatterternary\": [{\"marker\": {\"colorbar\": {\"outlinewidth\": 0, \"ticks\": \"\"}}, \"type\": \"scatterternary\"}], \"surface\": [{\"colorbar\": {\"outlinewidth\": 0, \"ticks\": \"\"}, \"colorscale\": [[0.0, \"#0d0887\"], [0.1111111111111111, \"#46039f\"], [0.2222222222222222, \"#7201a8\"], [0.3333333333333333, \"#9c179e\"], [0.4444444444444444, \"#bd3786\"], [0.5555555555555556, \"#d8576b\"], [0.6666666666666666, \"#ed7953\"], [0.7777777777777778, \"#fb9f3a\"], [0.8888888888888888, \"#fdca26\"], [1.0, \"#f0f921\"]], \"type\": \"surface\"}], \"table\": [{\"cells\": {\"fill\": {\"color\": \"#EBF0F8\"}, \"line\": {\"color\": \"white\"}}, \"header\": {\"fill\": {\"color\": \"#C8D4E3\"}, \"line\": {\"color\": \"white\"}}, \"type\": \"table\"}]}, \"layout\": {\"annotationdefaults\": {\"arrowcolor\": \"#2a3f5f\", \"arrowhead\": 0, \"arrowwidth\": 1}, \"autotypenumbers\": \"strict\", \"coloraxis\": {\"colorbar\": {\"outlinewidth\": 0, \"ticks\": \"\"}}, \"colorscale\": {\"diverging\": [[0, \"#8e0152\"], [0.1, \"#c51b7d\"], [0.2, \"#de77ae\"], [0.3, \"#f1b6da\"], [0.4, \"#fde0ef\"], [0.5, \"#f7f7f7\"], [0.6, \"#e6f5d0\"], [0.7, \"#b8e186\"], [0.8, \"#7fbc41\"], [0.9, \"#4d9221\"], [1, \"#276419\"]], \"sequential\": [[0.0, \"#0d0887\"], [0.1111111111111111, \"#46039f\"], [0.2222222222222222, \"#7201a8\"], [0.3333333333333333, \"#9c179e\"], [0.4444444444444444, \"#bd3786\"], [0.5555555555555556, \"#d8576b\"], [0.6666666666666666, \"#ed7953\"], [0.7777777777777778, \"#fb9f3a\"], [0.8888888888888888, \"#fdca26\"], [1.0, \"#f0f921\"]], \"sequentialminus\": [[0.0, \"#0d0887\"], [0.1111111111111111, \"#46039f\"], [0.2222222222222222, \"#7201a8\"], [0.3333333333333333, \"#9c179e\"], [0.4444444444444444, \"#bd3786\"], [0.5555555555555556, \"#d8576b\"], [0.6666666666666666, \"#ed7953\"], [0.7777777777777778, \"#fb9f3a\"], [0.8888888888888888, \"#fdca26\"], [1.0, \"#f0f921\"]]}, \"colorway\": [\"#636efa\", \"#EF553B\", \"#00cc96\", \"#ab63fa\", \"#FFA15A\", \"#19d3f3\", \"#FF6692\", \"#B6E880\", \"#FF97FF\", \"#FECB52\"], \"font\": {\"color\": \"#2a3f5f\"}, \"geo\": {\"bgcolor\": \"white\", \"lakecolor\": \"white\", \"landcolor\": \"#E5ECF6\", \"showlakes\": true, \"showland\": true, \"subunitcolor\": \"white\"}, \"hoverlabel\": {\"align\": \"left\"}, \"hovermode\": \"closest\", \"mapbox\": {\"style\": \"light\"}, \"paper_bgcolor\": \"white\", \"plot_bgcolor\": \"#E5ECF6\", \"polar\": {\"angularaxis\": {\"gridcolor\": \"white\", \"linecolor\": \"white\", \"ticks\": \"\"}, \"bgcolor\": \"#E5ECF6\", \"radialaxis\": {\"gridcolor\": \"white\", \"linecolor\": \"white\", \"ticks\": \"\"}}, \"scene\": {\"xaxis\": {\"backgroundcolor\": \"#E5ECF6\", \"gridcolor\": \"white\", \"gridwidth\": 2, \"linecolor\": \"white\", \"showbackground\": true, \"ticks\": \"\", \"zerolinecolor\": \"white\"}, \"yaxis\": {\"backgroundcolor\": \"#E5ECF6\", \"gridcolor\": \"white\", \"gridwidth\": 2, \"linecolor\": \"white\", \"showbackground\": true, \"ticks\": \"\", \"zerolinecolor\": \"white\"}, \"zaxis\": {\"backgroundcolor\": \"#E5ECF6\", \"gridcolor\": \"white\", \"gridwidth\": 2, \"linecolor\": \"white\", \"showbackground\": true, \"ticks\": \"\", \"zerolinecolor\": \"white\"}}, \"shapedefaults\": {\"line\": {\"color\": \"#2a3f5f\"}}, \"ternary\": {\"aaxis\": {\"gridcolor\": \"white\", \"linecolor\": \"white\", \"ticks\": \"\"}, \"baxis\": {\"gridcolor\": \"white\", \"linecolor\": \"white\", \"ticks\": \"\"}, \"bgcolor\": \"#E5ECF6\", \"caxis\": {\"gridcolor\": \"white\", \"linecolor\": \"white\", \"ticks\": \"\"}}, \"title\": {\"x\": 0.05}, \"xaxis\": {\"automargin\": true, \"gridcolor\": \"white\", \"linecolor\": \"white\", \"ticks\": \"\", \"title\": {\"standoff\": 15}, \"zerolinecolor\": \"white\", \"zerolinewidth\": 2}, \"yaxis\": {\"automargin\": true, \"gridcolor\": \"white\", \"linecolor\": \"white\", \"ticks\": \"\", \"title\": {\"standoff\": 15}, \"zerolinecolor\": \"white\", \"zerolinewidth\": 2}}}, \"title\": {\"text\": \"World Happiness Report: 2011-2019 Total Change\"}, \"updatemenus\": [{\"active\": 0, \"buttons\": [{\"args\": [{\"visible\": [true, false, false, false, false, false, false, false, false]}, {\"annotations\": [{\"bgcolor\": \"grey\", \"borderpad\": 4, \"borderwidth\": 9, \"font\": {\"color\": \"white\", \"size\": 10}, \"showarrow\": false, \"text\": \"El Salvador has the highest improvement of ~ 1.714\", \"x\": 1.1, \"xref\": \"paper\", \"y\": 1.2, \"yref\": \"paper\"}, {\"bgcolor\": \"grey\", \"borderpad\": 4, \"borderwidth\": 9, \"font\": {\"color\": \"white\", \"size\": 10}, \"showarrow\": false, \"text\": \"Zimbabwe has the lowest improvement of ~ -2.152\", \"x\": 1.1, \"xref\": \"paper\", \"y\": 1.1, \"yref\": \"paper\"}]}], \"label\": \"Life Ladder\", \"method\": \"update\"}, {\"args\": [{\"visible\": [false, true, false, false, false, false, false, false, false]}, {\"annotations\": [{\"bgcolor\": \"grey\", \"borderpad\": 4, \"borderwidth\": 9, \"font\": {\"color\": \"white\", \"size\": 10}, \"showarrow\": false, \"text\": \"Ireland has the highest improvement of ~ 0.493\", \"x\": 1.1, \"xref\": \"paper\", \"y\": 1.2, \"yref\": \"paper\"}, {\"bgcolor\": \"grey\", \"borderpad\": 4, \"borderwidth\": 9, \"font\": {\"color\": \"white\", \"size\": 10}, \"showarrow\": false, \"text\": \"Lebanon has the lowest improvement of ~ -0.241\", \"x\": 1.1, \"xref\": \"paper\", \"y\": 1.1, \"yref\": \"paper\"}]}], \"label\": \"Log GDP per capita\", \"method\": \"update\"}, {\"args\": [{\"visible\": [false, false, true, false, false, false, false, false, false]}, {\"annotations\": [{\"bgcolor\": \"grey\", \"borderpad\": 4, \"borderwidth\": 9, \"font\": {\"color\": \"white\", \"size\": 10}, \"showarrow\": false, \"text\": \"Togo has the highest improvement of ~ 0.236\", \"x\": 1.1, \"xref\": \"paper\", \"y\": 1.2, \"yref\": \"paper\"}, {\"bgcolor\": \"grey\", \"borderpad\": 4, \"borderwidth\": 9, \"font\": {\"color\": \"white\", \"size\": 10}, \"showarrow\": false, \"text\": \"Morocco has the lowest improvement of ~ -0.299\", \"x\": 1.1, \"xref\": \"paper\", \"y\": 1.1, \"yref\": \"paper\"}]}], \"label\": \"Social Support\", \"method\": \"update\"}, {\"args\": [{\"visible\": [false, false, false, true, false, false, false, false, false]}, {\"annotations\": [{\"bgcolor\": \"grey\", \"borderpad\": 4, \"borderwidth\": 9, \"font\": {\"color\": \"white\", \"size\": 10}, \"showarrow\": false, \"text\": \"Swaziland has the highest improvement of ~ 10.462\", \"x\": 1.1, \"xref\": \"paper\", \"y\": 1.2, \"yref\": \"paper\"}, {\"bgcolor\": \"grey\", \"borderpad\": 4, \"borderwidth\": 9, \"font\": {\"color\": \"white\", \"size\": 10}, \"showarrow\": false, \"text\": \"Georgia has the lowest improvement of ~ -0.56\", \"x\": 1.1, \"xref\": \"paper\", \"y\": 1.1, \"yref\": \"paper\"}]}], \"label\": \"Life Expectancy\", \"method\": \"update\"}, {\"args\": [{\"visible\": [false, false, false, false, true, false, false, false, false]}, {\"annotations\": [{\"bgcolor\": \"grey\", \"borderpad\": 4, \"borderwidth\": 9, \"font\": {\"color\": \"white\", \"size\": 10}, \"showarrow\": false, \"text\": \"Bosnia and Herzegovina has the highest improvement of ~ 0.388\", \"x\": 1.1, \"xref\": \"paper\", \"y\": 1.2, \"yref\": \"paper\"}, {\"bgcolor\": \"grey\", \"borderpad\": 4, \"borderwidth\": 9, \"font\": {\"color\": \"white\", \"size\": 10}, \"showarrow\": false, \"text\": \"Lebanon has the lowest improvement of ~ -0.21\", \"x\": 1.1, \"xref\": \"paper\", \"y\": 1.1, \"yref\": \"paper\"}]}], \"label\": \"Life Choices\", \"method\": \"update\"}, {\"args\": [{\"visible\": [false, false, false, false, false, true, false, false, false]}, {\"annotations\": [{\"bgcolor\": \"grey\", \"borderpad\": 4, \"borderwidth\": 9, \"font\": {\"color\": \"white\", \"size\": 10}, \"showarrow\": false, \"text\": \"Kenya has the highest improvement of ~ 0.288\", \"x\": 1.1, \"xref\": \"paper\", \"y\": 1.2, \"yref\": \"paper\"}, {\"bgcolor\": \"grey\", \"borderpad\": 4, \"borderwidth\": 9, \"font\": {\"color\": \"white\", \"size\": 10}, \"showarrow\": false, \"text\": \"Cambodia has the lowest improvement of ~ -0.405\", \"x\": 1.1, \"xref\": \"paper\", \"y\": 1.1, \"yref\": \"paper\"}]}], \"label\": \"Generosity\", \"method\": \"update\"}, {\"args\": [{\"visible\": [false, false, false, false, false, false, true, false, false]}, {\"annotations\": [{\"bgcolor\": \"grey\", \"borderpad\": 4, \"borderwidth\": 9, \"font\": {\"color\": \"white\", \"size\": 10}, \"showarrow\": false, \"text\": \"Georgia has the highest improvement of ~ 0.294\", \"x\": 1.1, \"xref\": \"paper\", \"y\": 1.2, \"yref\": \"paper\"}, {\"bgcolor\": \"grey\", \"borderpad\": 4, \"borderwidth\": 9, \"font\": {\"color\": \"white\", \"size\": 10}, \"showarrow\": false, \"text\": \"Azerbaijan has the lowest improvement of ~ -0.338\", \"x\": 1.1, \"xref\": \"paper\", \"y\": 1.1, \"yref\": \"paper\"}]}], \"label\": \"Perceptions of corruption\", \"method\": \"update\"}, {\"args\": [{\"visible\": [false, false, false, false, false, false, false, true, false]}, {\"annotations\": [{\"bgcolor\": \"grey\", \"borderpad\": 4, \"borderwidth\": 9, \"font\": {\"color\": \"white\", \"size\": 10}, \"showarrow\": false, \"text\": \"Singapore has the highest improvement of ~ 0.24\", \"x\": 1.1, \"xref\": \"paper\", \"y\": 1.2, \"yref\": \"paper\"}, {\"bgcolor\": \"grey\", \"borderpad\": 4, \"borderwidth\": 9, \"font\": {\"color\": \"white\", \"size\": 10}, \"showarrow\": false, \"text\": \"Afghanistan has the lowest improvement of ~ -0.26\", \"x\": 1.1, \"xref\": \"paper\", \"y\": 1.1, \"yref\": \"paper\"}]}], \"label\": \"Positive Affect\", \"method\": \"update\"}, {\"args\": [{\"visible\": [false, false, false, false, false, false, false, false, true]}, {\"annotations\": [{\"bgcolor\": \"grey\", \"borderpad\": 4, \"borderwidth\": 9, \"font\": {\"color\": \"white\", \"size\": 10}, \"showarrow\": false, \"text\": \"Rwanda has the highest improvement of ~ 0.263\", \"x\": 1.1, \"xref\": \"paper\", \"y\": 1.2, \"yref\": \"paper\"}, {\"bgcolor\": \"grey\", \"borderpad\": 4, \"borderwidth\": 9, \"font\": {\"color\": \"white\", \"size\": 10}, \"showarrow\": false, \"text\": \"Serbia has the lowest improvement of ~ -0.168\", \"x\": 1.1, \"xref\": \"paper\", \"y\": 1.1, \"yref\": \"paper\"}]}], \"label\": \"Negative Affect\", \"method\": \"update\"}], \"x\": 0, \"xanchor\": \"left\", \"y\": 1.05, \"yanchor\": \"top\"}], \"width\": 950},                        {\"responsive\": true}                    ).then(function(){\n",
       "                            \n",
       "var gd = document.getElementById('4a719d2d-8cc0-4070-be83-98e344078186');\n",
       "var x = new MutationObserver(function (mutations, observer) {{\n",
       "        var display = window.getComputedStyle(gd).display;\n",
       "        if (!display || display === 'none') {{\n",
       "            console.log([gd, 'removed!']);\n",
       "            Plotly.purge(gd);\n",
       "            observer.disconnect();\n",
       "        }}\n",
       "}});\n",
       "\n",
       "// Listen for the removal of the full notebook cells\n",
       "var notebookContainer = gd.closest('#notebook-container');\n",
       "if (notebookContainer) {{\n",
       "    x.observe(notebookContainer, {childList: true});\n",
       "}}\n",
       "\n",
       "// Listen for the clearing of the current output cell\n",
       "var outputEl = gd.closest('.output');\n",
       "if (outputEl) {{\n",
       "    x.observe(outputEl, {childList: true});\n",
       "}}\n",
       "\n",
       "                        })                };                });            </script>        </div>"
      ]
     },
     "metadata": {},
     "output_type": "display_data"
    }
   ],
   "source": [
    "fig = go.Figure()\n",
    "n=0\n",
    "columns = df_change.columns[2:11]\n",
    "buttons_list = []\n",
    "\n",
    "for column in (columns):\n",
    "    fig.add_trace(go.Choropleth(locations=df_change[\"CODE_y\"], z=df_change[column], autocolorscale=False, zmid=0, text = df_change[\"Country name\"],\n",
    "                    colorscale=\"rdylgn\", marker_line_color='white', marker_line_width=1, colorbar_title=f\"{column} Change\"))\n",
    "    \n",
    "    label = f\"{column}\"\n",
    "    \n",
    "    max_of_graph = df_change[df_change[column]==df_change[column].max()]\n",
    "    highest_score = (max_of_graph[\"Country name\"].values[0], round(max_of_graph[column].values[0],3))\n",
    "    min_of_graph = df_change[df_change[column]==df_change[column].min()]\n",
    "    lowest_score = (min_of_graph[\"Country name\"].values[0], round(min_of_graph[column].values[0],3))\n",
    "    max_annotation = {'x':1.1, 'y':1.2, 'xref':'paper', 'yref':'paper', 'text':\"{0} has the highest improvement of ~ {1}\".format(highest_score[0], highest_score[1]), \n",
    "                           'font':{'size':10, 'color':'white'}, 'showarrow':False, 'borderwidth':9, 'borderpad':4, 'bgcolor':'grey'}\n",
    "    min_annotation = {'x':1.1, 'y':1.1, 'xref':'paper', 'yref':'paper', 'text':\"{0} has the lowest improvement of ~ {1}\".format(lowest_score[0], lowest_score[1]), \n",
    "                           'font':{'size':10, 'color':'white'}, 'showarrow':False, 'borderwidth':9, 'borderpad':4, 'bgcolor':'grey'}\n",
    "            \n",
    "    buttons_list.append(slider_dict(label, fields[n][:-1], max_annotation, min_annotation))\n",
    "    fig.data[n].visible=False\n",
    "    n+=1\n",
    "            \n",
    "fig.update_layout(updatemenus=[dict(active=0, buttons=buttons_list, x=0, xanchor=\"left\", y=1.05,yanchor=\"top\")], title=\"World Happiness Report: 2011-2019 Total Change\".format(year), geo=dict(showframe=False, showcoastlines=False, projection_type=\"equirectangular\"),\n",
    "                    autosize=False, height=600, width=950)\n",
    "\n",
    "\n",
    "fig.data[0].visible=True\n",
    "\n",
    "pio.write_html(fig, f\"WHR-total_change.html\", full_html=False)\n",
    "fig.show()\n"
   ]
  },
  {
   "cell_type": "markdown",
   "metadata": {},
   "source": [
    "This next segment adds the percent change for each country and all categories. This was calculated by finding (Increase) / 2011_value * 100.\n",
    "\n",
    "Sidenote: As mentioned previously, this will only work if the df_change.drop(etc.) is not called when the previous columns are created. However, for both graphs to work it must be called here (if you want to view both of them)."
   ]
  },
  {
   "cell_type": "code",
   "execution_count": 344,
   "metadata": {},
   "outputs": [],
   "source": [
    "df_change[\"Life Ladder %\"] = ((df_change[\"Life Ladder\"])/df_change[\"Life Ladder_x\"])*100\n",
    "df_change[\"Log GDP per capita %\"] = ((df_change[\"Log GDP per capita\"])/df_change[\"Log GDP per capita_x\"])*100\n",
    "df_change[\"Social Support %\"] = ((df_change[\"Social Support\"])/df_change[\"Social support_x\"])*100\n",
    "df_change[\"Life Expectancy %\"] = ((df_change[\"Life Expectancy\"])/df_change[\"Healthy life expectancy (Age)_x\"])*100\n",
    "df_change[\"Life Choices %\"] = ((df_change[\"Life Choices\"])/df_change[\"Freedom to make life choices_x\"])*100\n",
    "df_change[\"Generosity %\"] = ((df_change[\"Generosity\"])/df_change[\"Generosity_x\"])*100\n",
    "df_change[\"Perceptions of corruption %\"] = ((df_change[\"Perceptions of corruption\"])/df_change[\"Perceptions of corruption_x\"])*100\n",
    "df_change[\"Positive Affect %\"] = ((df_change[\"Positive Affect\"])/df_change[\"Positive affect_x\"])*100\n",
    "df_change[\"Negative Affect %\"] = ((df_change[\"Negative Affect\"])/df_change[\"Negative affect_x\"])*100\n",
    "df_change.drop(columns = df_change.columns[1:22], inplace=True)"
   ]
  },
  {
   "cell_type": "markdown",
   "metadata": {},
   "source": [
    "Only difference between this graph and the previous is that columns now starts at the 12th column instead of the 3rd and goes through the rest."
   ]
  },
  {
   "cell_type": "code",
   "execution_count": 345,
   "metadata": {
    "scrolled": false
   },
   "outputs": [
    {
     "data": {
      "application/vnd.plotly.v1+json": {
       "config": {
        "plotlyServerURL": "https://plot.ly"
       },
       "data": [
        {
         "autocolorscale": false,
         "colorbar": {
          "title": {
           "text": "Life Ladder % Change"
          }
         },
         "colorscale": [
          [
           0,
           "rgb(165,0,38)"
          ],
          [
           0.1,
           "rgb(215,48,39)"
          ],
          [
           0.2,
           "rgb(244,109,67)"
          ],
          [
           0.3,
           "rgb(253,174,97)"
          ],
          [
           0.4,
           "rgb(254,224,139)"
          ],
          [
           0.5,
           "rgb(255,255,191)"
          ],
          [
           0.6,
           "rgb(217,239,139)"
          ],
          [
           0.7,
           "rgb(166,217,106)"
          ],
          [
           0.8,
           "rgb(102,189,99)"
          ],
          [
           0.9,
           "rgb(26,152,80)"
          ],
          [
           1,
           "rgb(0,104,55)"
          ]
         ],
         "locations": [
          "AFG",
          "ALB",
          "DZA",
          "ARG",
          "ARM",
          "AUS",
          "AUT",
          "AZE",
          "BGD",
          "BLR",
          "BEL",
          "BEN",
          "BOL",
          "BIH",
          "BWA",
          "BRA",
          "BGR",
          "BFA",
          "KHM",
          "CMR",
          "CAN",
          "TCD",
          "CHL",
          "COL",
          "COM",
          "CRI",
          "HRV",
          "CYP",
          "DNK",
          "DOM",
          "ECU",
          "SLV",
          "EST",
          "FIN",
          "FRA",
          "GAB",
          "GEO",
          "DEU",
          "GHA",
          "GRC",
          "GTM",
          "GIN",
          "HND",
          "HUN",
          "IND",
          "IDN",
          "IRL",
          "ISR",
          "ITA",
          "JAM",
          "JPN",
          "KAZ",
          "KEN",
          "KGZ",
          "LAO",
          "LVA",
          "LBN",
          "LSO",
          "LTU",
          "LUX",
          "MDG",
          "MWI",
          "MYS",
          "MLI",
          "MRT",
          "MUS",
          "MEX",
          "MDA",
          "MNG",
          "MNE",
          "MAR",
          "MOZ",
          "NPL",
          "NLD",
          "NZL",
          "NIC",
          "NER",
          "PAK",
          "PAN",
          "PRY",
          "PER",
          "PHL",
          "POL",
          "PRT",
          "ROU",
          "RUS",
          "RWA",
          "SEN",
          "SRB",
          "SLE",
          "SGP",
          "SVK",
          "SVN",
          "ZAF",
          "ESP",
          "LKA",
          "SWZ",
          "SWE",
          "TZA",
          "THA",
          "TGO",
          "TUN",
          "TUR",
          "UGA",
          "UKR",
          "GBR",
          "USA",
          "URY",
          "UZB",
          "VNM",
          "ZMB",
          "ZWE"
         ],
         "marker": {
          "line": {
           "color": "white",
           "width": 1
          }
         },
         "type": "choropleth",
         "visible": true,
         "z": [
          -38.01498252018571,
          -14.863491096008696,
          -10.768216024353048,
          -10.186902168306112,
          28.813468267908597,
          -2.3174482185384657,
          -3.683170546431272,
          10.531420416526414,
          2.5787553999439923,
          11.408804222201233,
          -4.770192812458364,
          28.57884638260436,
          -1.8101062629825224,
          20.438816472329595,
          -1.3874240455541422,
          -8.335931117931787,
          31.81764937926235,
          -0.9293873845452654,
          20.115697509328246,
          11.341124743252456,
          -4.268445184958638,
          -3.247606850593675,
          -8.949656002214118,
          -1.7582835388688207,
          20.06338969788215,
          -3.199244753226204,
          4.463409375554778,
          -8.263201855910339,
          -1.222725181603548,
          11.26096159394134,
          0.24232338841987133,
          36.14045998799584,
          9.984317825405123,
          5.794256447284199,
          -3.873165923337122,
          15.48603340436847,
          16.38829623454545,
          6.2549573675393555,
          -11.436644430645831,
          10.798834793303453,
          9.03341938511307,
          17.878663445285866,
          19.53262949756907,
          22.01595856087874,
          -29.9059365043112,
          3.362025622650088,
          3.5384700293163247,
          -1.3637284190253536,
          6.41117576350915,
          17.39328017108639,
          -5.664476173725809,
          9.35559435766069,
          4.847333553063477,
          15.528631842753251,
          10.483261253155007,
          20.192875319971595,
          -22.425753686463416,
          -28.29464270327441,
          11.627569958061548,
          4.261344942050865,
          -0.9660777925087615,
          -1.9497629929721407,
          -6.194097153893088,
          6.881730955308531,
          -13.212347607674433,
          13.950735030695382,
          -6.911773555613464,
          0.19315474977680144,
          10.568738759504189,
          3.1189820398094885,
          -0.5549907768792477,
          -0.784111387269492,
          43.03199611915632,
          -1.8314780695068613,
          0.20215703579761113,
          13.495716509145087,
          9.82729496674104,
          -15.652923342105668,
          -16.03356296216522,
          -0.43076841926401477,
          1.8145919130585861,
          25.506598532657897,
          10.553798470561906,
          16.771566316611413,
          22.043367219551058,
          0.9604672552013253,
          -20.239089131946134,
          43.15201021875216,
          29.619224378892905,
          -23.41949388764374,
          -2.78434495667067,
          5.0189730719533,
          10.426000767557564,
          2.1164537982087483,
          -0.9327596777675451,
          0.7829102017738893,
          -9.676752199219557,
          0.21484772017063025,
          -10.639516256756066,
          -9.626278417537645,
          42.34262573461867,
          -11.504241240890046,
          -7.584875563355798,
          2.5290148325369253,
          -7.50266742288207,
          4.191176659441134,
          -2.4094718992231825,
          0.7062799526192861,
          7.236864353932469,
          -5.199852038007778,
          -33.85234179529166,
          -44.41348775497693
         ],
         "zmid": 0
        },
        {
         "autocolorscale": false,
         "colorbar": {
          "title": {
           "text": "Log GDP per capita % Change"
          }
         },
         "colorscale": [
          [
           0,
           "rgb(165,0,38)"
          ],
          [
           0.1,
           "rgb(215,48,39)"
          ],
          [
           0.2,
           "rgb(244,109,67)"
          ],
          [
           0.3,
           "rgb(253,174,97)"
          ],
          [
           0.4,
           "rgb(254,224,139)"
          ],
          [
           0.5,
           "rgb(255,255,191)"
          ],
          [
           0.6,
           "rgb(217,239,139)"
          ],
          [
           0.7,
           "rgb(166,217,106)"
          ],
          [
           0.8,
           "rgb(102,189,99)"
          ],
          [
           0.9,
           "rgb(26,152,80)"
          ],
          [
           1,
           "rgb(0,104,55)"
          ]
         ],
         "locations": [
          "AFG",
          "ALB",
          "DZA",
          "ARG",
          "ARM",
          "AUS",
          "AUT",
          "AZE",
          "BGD",
          "BLR",
          "BEL",
          "BEN",
          "BOL",
          "BIH",
          "BWA",
          "BRA",
          "BGR",
          "BFA",
          "KHM",
          "CMR",
          "CAN",
          "TCD",
          "CHL",
          "COL",
          "COM",
          "CRI",
          "HRV",
          "CYP",
          "DNK",
          "DOM",
          "ECU",
          "SLV",
          "EST",
          "FIN",
          "FRA",
          "GAB",
          "GEO",
          "DEU",
          "GHA",
          "GRC",
          "GTM",
          "GIN",
          "HND",
          "HUN",
          "IND",
          "IDN",
          "IRL",
          "ISR",
          "ITA",
          "JAM",
          "JPN",
          "KAZ",
          "KEN",
          "KGZ",
          "LAO",
          "LVA",
          "LBN",
          "LSO",
          "LTU",
          "LUX",
          "MDG",
          "MWI",
          "MYS",
          "MLI",
          "MRT",
          "MUS",
          "MEX",
          "MDA",
          "MNG",
          "MNE",
          "MAR",
          "MOZ",
          "NPL",
          "NLD",
          "NZL",
          "NIC",
          "NER",
          "PAK",
          "PAN",
          "PRY",
          "PER",
          "PHL",
          "POL",
          "PRT",
          "ROU",
          "RUS",
          "RWA",
          "SEN",
          "SRB",
          "SLE",
          "SGP",
          "SVK",
          "SVN",
          "ZAF",
          "ESP",
          "LKA",
          "SWZ",
          "SWE",
          "TZA",
          "THA",
          "TGO",
          "TUN",
          "TUR",
          "UGA",
          "UKR",
          "GBR",
          "USA",
          "URY",
          "UZB",
          "VNM",
          "ZMB",
          "ZWE"
         ],
         "marker": {
          "line": {
           "color": "white",
           "width": 1
          }
         },
         "type": "choropleth",
         "visible": false,
         "z": [
          1.0199559843515216,
          2.282958623291284,
          0.43300940975578583,
          -1.1085881893499674,
          3.69493539564862,
          0.7658488750003555,
          0.48196562083689276,
          0.36927304392749777,
          5.5966713236607735,
          0.4894035143785184,
          0.6527860127668668,
          2.453311820738241,
          2.747244974465617,
          2.952115185953052,
          1.9237527975817372,
          -0.461745321908009,
          2.5738323089190733,
          2.731787583876845,
          5.3673340391602755,
          1.931686308145732,
          0.5818014199766594,
          -0.803811550833255,
          1.1494002456120636,
          1.6497818007062615,
          0.6537981449311107,
          1.8564234700791091,
          1.6515153720259161,
          0.5261072896956549,
          0.9802511482565245,
          3.6578447584111307,
          0.3759667074715593,
          1.6464752741518682,
          2.569555403985172,
          0.34978653124986697,
          0.6542466194174584,
          -0.008814202857092094,
          3.8182298323850374,
          0.7391793823870644,
          3.174389517365469,
          -0.18798017200753028,
          1.577274524257413,
          3.7256654805920886,
          1.7004528600415545,
          2.624196659837677,
          5.131914143668082,
          3.3972225374098506,
          4.534459822108803,
          1.0619970931390188,
          -0.15113005710608865,
          0.2442616312547488,
          0.9426768963393152,
          1.8188750569608738,
          2.8276558945549803,
          2.2947906964349833,
          4.875623011706306,
          3.061362757865219,
          -2.4485302992040645,
          1.9087209129085885,
          3.4564795718601533,
          0.4623955390514365,
          0.9540387582267246,
          1.0293423107291872,
          2.8722916229277313,
          1.433487258081673,
          0.8827216072595024,
          2.8197700644845822,
          0.8237931856120109,
          4.0003956704442025,
          3.940886284730171,
          2.2062550757514505,
          1.6075973281448153,
          2.5263762776463228,
          4.34772079745946,
          0.7193165782187719,
          1.2356592160228113,
          1.3119402933065687,
          2.6096241911736304,
          2.142041207273862,
          2.961959984465878,
          1.8341374865603282,
          2.057536922460621,
          4.4559538955025335,
          2.7004170168472545,
          1.0097483574259547,
          3.6786248092819154,
          0.7566911116547097,
          4.59701519192304,
          2.864546050346523,
          2.09430019182944,
          2.149813508459682,
          1.5818925323505477,
          1.9851614722091424,
          1.319332364695986,
          -0.15557852121964436,
          0.9599567952342736,
          3.1083666165257533,
          1.4497175172582115,
          0.6315428536353357,
          3.10325104241638,
          2.5476743806352493,
          3.208676796419932,
          0.9889093052133766,
          2.5037292944847467,
          1.338620668327256,
          0.2881907327349745,
          0.8909096555215555,
          1.1945715054986417,
          1.5172133701911752,
          4.243492071370078,
          4.741896038596513,
          1.0324358474619428,
          1.3232228697834687
         ],
         "zmid": 0
        },
        {
         "autocolorscale": false,
         "colorbar": {
          "title": {
           "text": "Social Support % Change"
          }
         },
         "colorscale": [
          [
           0,
           "rgb(165,0,38)"
          ],
          [
           0.1,
           "rgb(215,48,39)"
          ],
          [
           0.2,
           "rgb(244,109,67)"
          ],
          [
           0.3,
           "rgb(253,174,97)"
          ],
          [
           0.4,
           "rgb(254,224,139)"
          ],
          [
           0.5,
           "rgb(255,255,191)"
          ],
          [
           0.6,
           "rgb(217,239,139)"
          ],
          [
           0.7,
           "rgb(166,217,106)"
          ],
          [
           0.8,
           "rgb(102,189,99)"
          ],
          [
           0.9,
           "rgb(26,152,80)"
          ],
          [
           1,
           "rgb(0,104,55)"
          ]
         ],
         "locations": [
          "AFG",
          "ALB",
          "DZA",
          "ARG",
          "ARM",
          "AUS",
          "AUT",
          "AZE",
          "BGD",
          "BLR",
          "BEL",
          "BEN",
          "BOL",
          "BIH",
          "BWA",
          "BRA",
          "BGR",
          "BFA",
          "KHM",
          "CMR",
          "CAN",
          "TCD",
          "CHL",
          "COL",
          "COM",
          "CRI",
          "HRV",
          "CYP",
          "DNK",
          "DOM",
          "ECU",
          "SLV",
          "EST",
          "FIN",
          "FRA",
          "GAB",
          "GEO",
          "DEU",
          "GHA",
          "GRC",
          "GTM",
          "GIN",
          "HND",
          "HUN",
          "IND",
          "IDN",
          "IRL",
          "ISR",
          "ITA",
          "JAM",
          "JPN",
          "KAZ",
          "KEN",
          "KGZ",
          "LAO",
          "LVA",
          "LBN",
          "LSO",
          "LTU",
          "LUX",
          "MDG",
          "MWI",
          "MYS",
          "MLI",
          "MRT",
          "MUS",
          "MEX",
          "MDA",
          "MNG",
          "MNE",
          "MAR",
          "MOZ",
          "NPL",
          "NLD",
          "NZL",
          "NIC",
          "NER",
          "PAK",
          "PAN",
          "PRY",
          "PER",
          "PHL",
          "POL",
          "PRT",
          "ROU",
          "RUS",
          "RWA",
          "SEN",
          "SRB",
          "SLE",
          "SGP",
          "SVK",
          "SVN",
          "ZAF",
          "ESP",
          "LKA",
          "SWZ",
          "SWE",
          "TZA",
          "THA",
          "TGO",
          "TUN",
          "TUR",
          "UGA",
          "UKR",
          "GBR",
          "USA",
          "URY",
          "UZB",
          "VNM",
          "ZMB",
          "ZWE"
         ],
         "marker": {
          "line": {
           "color": "white",
           "width": 1
          }
         },
         "type": "choropleth",
         "visible": false,
         "z": [
          -19.40702419524843,
          -9.62149909918112,
          -0.8609642903041966,
          0.8207464405426109,
          10.848743554073003,
          -2.508182601418215,
          2.1534535627840414,
          22.27852418911072,
          11.000438932119236,
          0.7531353289245787,
          -5.627264066347132,
          -7.401230042117573,
          -3.9767525323384616,
          20.393043598895293,
          -10.041633870744064,
          -1.8638809230158937,
          10.221427683580668,
          -3.724415857751577,
          6.101379692273244,
          -3.6623775942507613,
          0.3943660769509548,
          -21.785825994220524,
          6.109673775673648,
          -3.491511512732319,
          -12.443296408425724,
          1.5727025471257177,
          18.51878435429492,
          -8.009969356035894,
          -0.41900794254568646,
          1.3764304298375407,
          -1.1693070790136035,
          4.528052320001447,
          2.789848237545249,
          -0.047055452919220773,
          4.022913955177873,
          16.906675165505913,
          34.2067784963751,
          -6.4998891894874875,
          3.030607015928894,
          4.609748828317651,
          0.7761825522387735,
          9.467315951479325,
          4.106887990319426,
          5.91424198388012,
          1.481678192604143,
          -2.795109364200873,
          -3.443012500247748,
          5.972252184905578,
          -8.201699325214184,
          2.71831075113004,
          -4.260131643352006,
          5.091734780575516,
          -20.13168120850628,
          -1.612761620829675,
          5.582190191256911,
          11.896383015963039,
          18.15407879480821,
          -4.171892984869366,
          0.6765573139238492,
          -2.3537403072085272,
          -14.392982114731579,
          -10.409146210555878,
          9.355359882861492,
          -5.147291096598623,
          6.3743689003231125,
          14.102821346313178,
          3.3518929983079815,
          -6.929552370886211,
          -0.2244122383900874,
          1.711453353182314,
          -35.82751538866183,
          -9.212154666489376,
          4.223287627927315,
          0.3283668094245346,
          -1.5549398453335366,
          9.191345249518653,
          -17.207865246350252,
          21.065889089590474,
          1.0769569507664092,
          2.6850936969033965,
          6.97753155665855,
          7.1417441457322814,
          -2.9085790347865172,
          2.3508010125177594,
          11.865311511440844,
          3.0203135006729513,
          -14.108963861893994,
          14.143990077128638,
          16.82382691394802,
          -21.8532980831714,
          2.2603695634151753,
          1.7218997467775377,
          1.9584283413007526,
          -1.1639715185771993,
          0.4838582641385975,
          -3.206801543009489,
          -9.323546344681633,
          1.4256933404403997,
          -22.125318924608205,
          2.1145660376849817,
          77.81585651684534,
          -14.729810716925154,
          14.41744031624585,
          -8.649146206605367,
          2.7072628370095573,
          -0.6355579200845601,
          -0.5439791552366312,
          4.733463080036579,
          -0.9518011695929066,
          -5.577087724335356,
          -26.17155769568663,
          -12.204464694995226
         ],
         "zmid": 0
        },
        {
         "autocolorscale": false,
         "colorbar": {
          "title": {
           "text": "Life Expectancy % Change"
          }
         },
         "colorscale": [
          [
           0,
           "rgb(165,0,38)"
          ],
          [
           0.1,
           "rgb(215,48,39)"
          ],
          [
           0.2,
           "rgb(244,109,67)"
          ],
          [
           0.3,
           "rgb(253,174,97)"
          ],
          [
           0.4,
           "rgb(254,224,139)"
          ],
          [
           0.5,
           "rgb(255,255,191)"
          ],
          [
           0.6,
           "rgb(217,239,139)"
          ],
          [
           0.7,
           "rgb(166,217,106)"
          ],
          [
           0.8,
           "rgb(102,189,99)"
          ],
          [
           0.9,
           "rgb(26,152,80)"
          ],
          [
           1,
           "rgb(0,104,55)"
          ]
         ],
         "locations": [
          "AFG",
          "ALB",
          "DZA",
          "ARG",
          "ARM",
          "AUS",
          "AUT",
          "AZE",
          "BGD",
          "BLR",
          "BEL",
          "BEN",
          "BOL",
          "BIH",
          "BWA",
          "BRA",
          "BGR",
          "BFA",
          "KHM",
          "CMR",
          "CAN",
          "TCD",
          "CHL",
          "COL",
          "COM",
          "CRI",
          "HRV",
          "CYP",
          "DNK",
          "DOM",
          "ECU",
          "SLV",
          "EST",
          "FIN",
          "FRA",
          "GAB",
          "GEO",
          "DEU",
          "GHA",
          "GRC",
          "GTM",
          "GIN",
          "HND",
          "HUN",
          "IND",
          "IDN",
          "IRL",
          "ISR",
          "ITA",
          "JAM",
          "JPN",
          "KAZ",
          "KEN",
          "KGZ",
          "LAO",
          "LVA",
          "LBN",
          "LSO",
          "LTU",
          "LUX",
          "MDG",
          "MWI",
          "MYS",
          "MLI",
          "MRT",
          "MUS",
          "MEX",
          "MDA",
          "MNG",
          "MNE",
          "MAR",
          "MOZ",
          "NPL",
          "NLD",
          "NZL",
          "NIC",
          "NER",
          "PAK",
          "PAN",
          "PRY",
          "PER",
          "PHL",
          "POL",
          "PRT",
          "ROU",
          "RUS",
          "RWA",
          "SEN",
          "SRB",
          "SLE",
          "SGP",
          "SVK",
          "SVN",
          "ZAF",
          "ESP",
          "LKA",
          "SWZ",
          "SWE",
          "TZA",
          "THA",
          "TGO",
          "TUN",
          "TUR",
          "UGA",
          "UKR",
          "GBR",
          "USA",
          "URY",
          "UZB",
          "VNM",
          "ZMB",
          "ZWE"
         ],
         "marker": {
          "line": {
           "color": "white",
           "width": 1
          }
         },
         "type": "choropleth",
         "visible": false,
         "z": [
          0.9245057277769632,
          3.479303665576225,
          2.2270255651958037,
          2.252514178202432,
          2.81517184930872,
          2.2129991792333588,
          2.4601651016312336,
          3.39409755315101,
          6.020949254227296,
          5.597965009495793,
          1.8048488611740618,
          5.232784233660851,
          4.1734616350225275,
          2.037759445434223,
          11.028312472596076,
          2.841254288441762,
          1.8237034841750364,
          8.28025419671734,
          5.298911133298724,
          9.85626111265553,
          1.9900531084299746,
          7.221494333385406,
          1.3904969173555572,
          3.155342671163133,
          4.5074509661993005,
          2.2889820303204576,
          4.117651546702666,
          1.874828499017087,
          2.945332937927175,
          3.2489877227757695,
          2.7479151619520175,
          3.1055899885286604,
          2.7479151619520175,
          1.9252556938029315,
          2.2099425972376325,
          8.5075725660557,
          -0.8633943159482105,
          2.141443464609145,
          5.726870334251648,
          1.4533272093473522,
          4.226704176024768,
          10.513736859727917,
          2.556299869097609,
          3.4063226748823423,
          4.8526849220753885,
          2.7713631388603317,
          1.1173227217972126,
          1.4352759159090356,
          1.3179664499348716,
          1.932948891122482,
          1.5139160129309877,
          7.378121932598974,
          8.276844944672261,
          4.681406122700679,
          4.973355728249094,
          3.453589026658182,
          3.553921167596577,
          6.471357621016763,
          4.94591148156717,
          1.0016711856077432,
          5.83422039857411,
          13.380010332770404,
          2.1897730614858872,
          7.054968334334601,
          4.52389557833302,
          3.0911902539963525,
          2.8794213559658304,
          6.621223770009285,
          3.3057851239669422,
          2.1409378029681134,
          3.7617519433879787,
          14.238412896455758,
          8.754203391689638,
          1.2304319408798703,
          1.7748179846783736,
          3.164944906299614,
          8.173080890841884,
          4.395610488159563,
          1.7518203623973538,
          1.9808089212199522,
          2.8880837424703056,
          1.9736854901274317,
          3.32048309245399,
          2.2535189776353435,
          3.1794587118194975,
          5.340278210811282,
          8.588527093145617,
          6.082034199407629,
          3.3755241759598653,
          18.231051188383212,
          2.7725965397612797,
          3.221951078784309,
          2.8818443170411316,
          10.57132246053167,
          2.300740047124208,
          1.8126958201749321,
          25.63719374228861,
          1.0002689048766753,
          9.351430993321546,
          2.556299869097609,
          6.8243437729913525,
          2.941173720662243,
          3.9603923000712657,
          9.527522719865681,
          3.84000244140625,
          1.5690708737431354,
          -0.6988983034372821,
          1.4088627723388203,
          3.154574056569432,
          2.1602081201658185,
          9.756095730893067,
          16.79135912386898
         ],
         "zmid": 0
        },
        {
         "autocolorscale": false,
         "colorbar": {
          "title": {
           "text": "Life Choices % Change"
          }
         },
         "colorscale": [
          [
           0,
           "rgb(165,0,38)"
          ],
          [
           0.1,
           "rgb(215,48,39)"
          ],
          [
           0.2,
           "rgb(244,109,67)"
          ],
          [
           0.3,
           "rgb(253,174,97)"
          ],
          [
           0.4,
           "rgb(254,224,139)"
          ],
          [
           0.5,
           "rgb(255,255,191)"
          ],
          [
           0.6,
           "rgb(217,239,139)"
          ],
          [
           0.7,
           "rgb(166,217,106)"
          ],
          [
           0.8,
           "rgb(102,189,99)"
          ],
          [
           0.9,
           "rgb(26,152,80)"
          ],
          [
           1,
           "rgb(0,104,55)"
          ]
         ],
         "locations": [
          "AFG",
          "ALB",
          "DZA",
          "ARG",
          "ARM",
          "AUS",
          "AUT",
          "AZE",
          "BGD",
          "BLR",
          "BEL",
          "BEN",
          "BOL",
          "BIH",
          "BWA",
          "BRA",
          "BGR",
          "BFA",
          "KHM",
          "CMR",
          "CAN",
          "TCD",
          "CHL",
          "COL",
          "COM",
          "CRI",
          "HRV",
          "CYP",
          "DNK",
          "DOM",
          "ECU",
          "SLV",
          "EST",
          "FIN",
          "FRA",
          "GAB",
          "GEO",
          "DEU",
          "GHA",
          "GRC",
          "GTM",
          "GIN",
          "HND",
          "HUN",
          "IND",
          "IDN",
          "IRL",
          "ISR",
          "ITA",
          "JAM",
          "JPN",
          "KAZ",
          "KEN",
          "KGZ",
          "LAO",
          "LVA",
          "LBN",
          "LSO",
          "LTU",
          "LUX",
          "MDG",
          "MWI",
          "MYS",
          "MLI",
          "MRT",
          "MUS",
          "MEX",
          "MDA",
          "MNG",
          "MNE",
          "MAR",
          "MOZ",
          "NPL",
          "NLD",
          "NZL",
          "NIC",
          "NER",
          "PAK",
          "PAN",
          "PRY",
          "PER",
          "PHL",
          "POL",
          "PRT",
          "ROU",
          "RUS",
          "RWA",
          "SEN",
          "SRB",
          "SLE",
          "SGP",
          "SVK",
          "SVN",
          "ZAF",
          "ESP",
          "LKA",
          "SWZ",
          "SWE",
          "TZA",
          "THA",
          "TGO",
          "TUN",
          "TUR",
          "UGA",
          "UKR",
          "GBR",
          "USA",
          "URY",
          "UZB",
          "VNM",
          "ZMB",
          "ZWE"
         ],
         "marker": {
          "line": {
           "color": "white",
           "width": 1
          }
         },
         "type": "choropleth",
         "visible": false,
         "z": [
          -20.618058389308935,
          59.45792980169535,
          -27.282554326807706,
          0.153292710022374,
          81.76085848704771,
          -2.8636385062127343,
          -3.824744418891339,
          58.93460375337261,
          7.630269056717122,
          0.14065918010807887,
          -11.810434505012587,
          -0.33105261838799915,
          12.746649480350051,
          116.4827597183072,
          2.465014696600371,
          -0.41380844837883135,
          23.87269091121743,
          -6.4896042707935555,
          3.1631266284697332,
          -12.8804085405122,
          -4.143299569966652,
          -0.5593990065523766,
          -5.930547597693437,
          1.3063507362749047,
          7.722568993120891,
          0.07821089614485029,
          43.016875854046155,
          -0.725831805375788,
          3.0551424492495634,
          3.4707290851369597,
          5.2350238080385925,
          17.416517597833053,
          20.575863789604163,
          1.1926232307217677,
          -8.426899829684356,
          -4.602064485320384,
          28.15487408625431,
          -2.376903295070239,
          -7.565290084006615,
          16.18139778610263,
          18.04978392467046,
          -13.2313176113597,
          8.019332632921932,
          26.452368285423745,
          4.535679986563985,
          -1.4150320450045721,
          -6.257723437666497,
          15.537512295064717,
          24.965800776267262,
          11.94767376526238,
          -0.9731027741823812,
          -2.9047729038318724,
          15.395033260079966,
          23.08449512455779,
          2.781157190335629,
          23.64553773322512,
          -31.974223563891403,
          15.859647417923068,
          37.90566091999128,
          -3.2759941505283376,
          0.7294624744234179,
          4.2811085564229465,
          8.974687787389728,
          -18.526214819865018,
          10.686682206708348,
          5.301163079141523,
          8.66239146684531,
          24.782825829589672,
          1.4749123201647407,
          27.11704400645075,
          30.714746223712392,
          36.07649156186466,
          50.60045585034443,
          -4.3049136731446564,
          -2.431227757105117,
          13.368688751618171,
          6.651136373368111,
          82.18050571289119,
          6.507525454886383,
          31.566241462870774,
          5.441075506799089,
          3.0312617412553915,
          1.6975003710919825,
          0.8294590439186638,
          30.310628597779786,
          14.207693728940434,
          4.820417747777523,
          18.4043123576184,
          70.84581924157851,
          -6.7514615655816455,
          14.142505796795572,
          6.045194447470457,
          4.1864562596243955,
          -11.623643062757786,
          -4.969659656506088,
          0.1993687236728188,
          -1.7252205095260271,
          0.042478141997075614,
          15.502375179575886,
          -3.0896311545540955,
          5.7065776433111655,
          9.319494055383991,
          41.623512129885896,
          -3.9015511012491157,
          23.613219810350973,
          -5.082927533716533,
          -3.13522876775127,
          6.017703129455123,
          3.871167356404158,
          16.381241038685495,
          22.35644643239471,
          -0.16910228701473726
         ],
         "zmid": 0
        },
        {
         "autocolorscale": false,
         "colorbar": {
          "title": {
           "text": "Generosity % Change"
          }
         },
         "colorscale": [
          [
           0,
           "rgb(165,0,38)"
          ],
          [
           0.1,
           "rgb(215,48,39)"
          ],
          [
           0.2,
           "rgb(244,109,67)"
          ],
          [
           0.3,
           "rgb(253,174,97)"
          ],
          [
           0.4,
           "rgb(254,224,139)"
          ],
          [
           0.5,
           "rgb(255,255,191)"
          ],
          [
           0.6,
           "rgb(217,239,139)"
          ],
          [
           0.7,
           "rgb(166,217,106)"
          ],
          [
           0.8,
           "rgb(102,189,99)"
          ],
          [
           0.9,
           "rgb(26,152,80)"
          ],
          [
           1,
           "rgb(0,104,55)"
          ]
         ],
         "locations": [
          "AFG",
          "ALB",
          "DZA",
          "ARG",
          "ARM",
          "AUS",
          "AUT",
          "AZE",
          "BGD",
          "BLR",
          "BEL",
          "BEN",
          "BOL",
          "BIH",
          "BWA",
          "BRA",
          "BGR",
          "BFA",
          "KHM",
          "CMR",
          "CAN",
          "TCD",
          "CHL",
          "COL",
          "COM",
          "CRI",
          "HRV",
          "CYP",
          "DNK",
          "DOM",
          "ECU",
          "SLV",
          "EST",
          "FIN",
          "FRA",
          "GAB",
          "GEO",
          "DEU",
          "GHA",
          "GRC",
          "GTM",
          "GIN",
          "HND",
          "HUN",
          "IND",
          "IDN",
          "IRL",
          "ISR",
          "ITA",
          "JAM",
          "JPN",
          "KAZ",
          "KEN",
          "KGZ",
          "LAO",
          "LVA",
          "LBN",
          "LSO",
          "LTU",
          "LUX",
          "MDG",
          "MWI",
          "MYS",
          "MLI",
          "MRT",
          "MUS",
          "MEX",
          "MDA",
          "MNG",
          "MNE",
          "MAR",
          "MOZ",
          "NPL",
          "NLD",
          "NZL",
          "NIC",
          "NER",
          "PAK",
          "PAN",
          "PRY",
          "PER",
          "PHL",
          "POL",
          "PRT",
          "ROU",
          "RUS",
          "RWA",
          "SEN",
          "SRB",
          "SLE",
          "SGP",
          "SVK",
          "SVN",
          "ZAF",
          "ESP",
          "LKA",
          "SWZ",
          "SWE",
          "TZA",
          "THA",
          "TGO",
          "TUN",
          "TUR",
          "UGA",
          "UKR",
          "GBR",
          "USA",
          "URY",
          "UZB",
          "VNM",
          "ZMB",
          "ZWE"
         ],
         "marker": {
          "line": {
           "color": "white",
           "width": 1
          }
         },
         "type": "choropleth",
         "visible": false,
         "z": [
          -166.7737170014396,
          -51.483099099225086,
          -102.81561466778031,
          21.10725636044565,
          -23.55440338696504,
          -67.3250873618101,
          -54.637954026177724,
          104.88380314819197,
          -25.771678053144875,
          10.718653264715742,
          1111.8608400152896,
          -88.66054858977849,
          118.53509307979037,
          -329.5886250734858,
          -4.400903832765905,
          -14.32740632478606,
          -52.338426875989576,
          -96.0887653136547,
          -96.84046262602914,
          -72.7975823116749,
          -55.91929759378711,
          79.74191245505297,
          -192.0349658711361,
          134.23660780595176,
          -203.21377487947547,
          342.3221938427123,
          -30.47973015461551,
          -104.26579135518269,
          -93.16920974913778,
          -979.3632513190229,
          -25.939555026601013,
          -13.857415390080014,
          -43.06799388384463,
          -150.7693216885456,
          29.98765306307236,
          -4.191692537591413,
          1.9078223980835596,
          73.37356127078264,
          999.6979885155438,
          -8.77288732344623,
          -801.4161203824999,
          138.12716740125884,
          -34.32194746629148,
          118.90295340289563,
          -395.97413427285784,
          26.808832418070367,
          -80.8024721870985,
          -39.349056812343385,
          357.92494845067574,
          114.93383973053126,
          391.6520852792667,
          -76.6279096339751,
          1322.3090311821031,
          -98.47279710787132,
          -86.68063142715286,
          8000.549154799427,
          -1494.3708530782915,
          50.182517744530706,
          70.01641308920694,
          -142.55902708478715,
          -79.88918538447345,
          -96.35563771158323,
          -858.9973767765338,
          -62.45074520500926,
          -296.1692173194953,
          -127.56480319114445,
          41.733342786934664,
          13.128400737482243,
          -1.3618481171134305,
          -53.6143429038773,
          12.010172147556531,
          -400.58367811649225,
          -1823.2637619015168,
          -36.68327036694524,
          -44.87018214331011,
          -249.3830033373798,
          -146.89486883941484,
          316.936259490502,
          -2319.5946297611213,
          -85.25652149143667,
          5.185035645322966,
          -213.83569691392515,
          244.98263138645106,
          35.12760856666609,
          58.39335598757488,
          -58.551275287494406,
          -265.6673896700554,
          -88.28095906343465,
          -78.39710841201763,
          1537.6363882565977,
          -118.31506790551649,
          -1381.3295337528484,
          305.0764725120984,
          -13.145478041842276,
          -60.051441936499096,
          -64.6636833252564,
          185.8244188618319,
          -43.62566276965661,
          -317.5045107833044,
          -22.823097221858117,
          -192.76976863498655,
          5.102822868335605,
          -43.944802399477815,
          340.63975529628334,
          -64.40581784605409,
          -19.48708675322206,
          -10.197337854878649,
          19.10648836075902,
          623.0966324647774,
          -219.56157961512966,
          2665.1240247775286,
          -27.40816947020551
         ],
         "zmid": 0
        },
        {
         "autocolorscale": false,
         "colorbar": {
          "title": {
           "text": "Perceptions of corruption % Change"
          }
         },
         "colorscale": [
          [
           0,
           "rgb(165,0,38)"
          ],
          [
           0.1,
           "rgb(215,48,39)"
          ],
          [
           0.2,
           "rgb(244,109,67)"
          ],
          [
           0.3,
           "rgb(253,174,97)"
          ],
          [
           0.4,
           "rgb(254,224,139)"
          ],
          [
           0.5,
           "rgb(255,255,191)"
          ],
          [
           0.6,
           "rgb(217,239,139)"
          ],
          [
           0.7,
           "rgb(166,217,106)"
          ],
          [
           0.8,
           "rgb(102,189,99)"
          ],
          [
           0.9,
           "rgb(26,152,80)"
          ],
          [
           1,
           "rgb(0,104,55)"
          ]
         ],
         "locations": [
          "AFG",
          "ALB",
          "DZA",
          "ARG",
          "ARM",
          "AUS",
          "AUT",
          "AZE",
          "BGD",
          "BLR",
          "BEL",
          "BEN",
          "BOL",
          "BIH",
          "BWA",
          "BRA",
          "BGR",
          "BFA",
          "KHM",
          "CMR",
          "CAN",
          "TCD",
          "CHL",
          "COL",
          "COM",
          "CRI",
          "HRV",
          "CYP",
          "DNK",
          "DOM",
          "ECU",
          "SLV",
          "EST",
          "FIN",
          "FRA",
          "GAB",
          "GEO",
          "DEU",
          "GHA",
          "GRC",
          "GTM",
          "GIN",
          "HND",
          "HUN",
          "IND",
          "IDN",
          "IRL",
          "ISR",
          "ITA",
          "JAM",
          "JPN",
          "KAZ",
          "KEN",
          "KGZ",
          "LAO",
          "LVA",
          "LBN",
          "LSO",
          "LTU",
          "LUX",
          "MDG",
          "MWI",
          "MYS",
          "MLI",
          "MRT",
          "MUS",
          "MEX",
          "MDA",
          "MNG",
          "MNE",
          "MAR",
          "MOZ",
          "NPL",
          "NLD",
          "NZL",
          "NIC",
          "NER",
          "PAK",
          "PAN",
          "PRY",
          "PER",
          "PHL",
          "POL",
          "PRT",
          "ROU",
          "RUS",
          "RWA",
          "SEN",
          "SRB",
          "SLE",
          "SGP",
          "SVK",
          "SVN",
          "ZAF",
          "ESP",
          "LKA",
          "SWZ",
          "SWE",
          "TZA",
          "THA",
          "TGO",
          "TUN",
          "TUR",
          "UGA",
          "UKR",
          "GBR",
          "USA",
          "URY",
          "UZB",
          "VNM",
          "ZMB",
          "ZWE"
         ],
         "marker": {
          "line": {
           "color": "white",
           "width": 1
          }
         },
         "type": "choropleth",
         "visible": false,
         "z": [
          26.362783004616187,
          4.2510355341858475,
          16.086308139089475,
          10.046312831662066,
          -33.28698179082242,
          12.687400459667323,
          -34.95442887360512,
          -42.49154640325209,
          -13.341834904845888,
          -18.756757140348046,
          -5.421097584886738,
          -17.790487769982963,
          3.9238561781442978,
          4.122438569858785,
          -2.9502806096049863,
          15.052684621210636,
          -0.5456022571805879,
          3.1972635771858737,
          6.847031385862683,
          -6.030872401339846,
          0.7951387538600095,
          -5.0320615579736705,
          14.312223269007507,
          0.7527291788062969,
          4.200086435916665,
          -0.11414596291214488,
          -4.623658597621971,
          2.928324030319739,
          -20.856139779659035,
          -5.409339479399185,
          19.655101402433917,
          -3.53495350805539,
          -16.166619887901067,
          -38.87903953162732,
          -9.31215260322562,
          -0.5379074710040384,
          83.16959249980897,
          -31.737421929620496,
          8.377760962126706,
          -9.897302196420386,
          -10.481727209929584,
          1.6588115371164396,
          -7.805782714081125,
          -5.993839827915967,
          -17.164047492857634,
          -10.54875277716199,
          -36.80359847114688,
          -16.653020990801124,
          -7.277530324612748,
          -2.616401391043189,
          -15.891426146672142,
          -11.655504917959659,
          -13.904720338899837,
          -5.142865288014735,
          5.603703083138828,
          -15.523387210377711,
          -2.2123988228852927,
          19.184639728684278,
          -18.786532148414327,
          0.36783549960368045,
          -19.74333264920776,
          -20.251748531256105,
          -7.077876746055986,
          16.56572648567186,
          -0.5418887928999616,
          -4.317697381985273,
          15.906039362396776,
          -7.6122181737886425,
          -6.227930119938526,
          7.557069123727891,
          -13.523087563767398,
          -5.128075208972321,
          -23.831576737291492,
          0.18704197788848048,
          -13.180466298161095,
          -18.186404707327537,
          32.737923753329525,
          -9.470564535812187,
          3.4707126169683793,
          16.63883660102377,
          6.062774603158522,
          -4.406987634121524,
          -23.337742203960026,
          -4.866178194367562,
          -1.028159415099007,
          -9.349000900956314,
          4.023068218070222,
          -8.532136198277161,
          -16.76452539159048,
          2.248275301248219,
          -29.623462097102486,
          2.0630251810957967,
          -12.057767934289085,
          0.07833468863161828,
          -13.625062694449722,
          13.552741673956856,
          -21.122083880832832,
          -6.861904401450776,
          -27.815921695140204,
          -4.99957000777085,
          -11.457717603459633,
          -2.6025281608835824,
          17.244314022915113,
          -0.5434486034777494,
          -5.096895907575326,
          10.854086782623643,
          1.4047069935755254,
          7.750255519943307,
          -2.0436889583368787,
          6.161408599157396,
          -5.689939025749833,
          0.10260929290381138
         ],
         "zmid": 0
        },
        {
         "autocolorscale": false,
         "colorbar": {
          "title": {
           "text": "Positive Affect % Change"
          }
         },
         "colorscale": [
          [
           0,
           "rgb(165,0,38)"
          ],
          [
           0.1,
           "rgb(215,48,39)"
          ],
          [
           0.2,
           "rgb(244,109,67)"
          ],
          [
           0.3,
           "rgb(253,174,97)"
          ],
          [
           0.4,
           "rgb(254,224,139)"
          ],
          [
           0.5,
           "rgb(255,255,191)"
          ],
          [
           0.6,
           "rgb(217,239,139)"
          ],
          [
           0.7,
           "rgb(166,217,106)"
          ],
          [
           0.8,
           "rgb(102,189,99)"
          ],
          [
           0.9,
           "rgb(26,152,80)"
          ],
          [
           1,
           "rgb(0,104,55)"
          ]
         ],
         "locations": [
          "AFG",
          "ALB",
          "DZA",
          "ARG",
          "ARM",
          "AUS",
          "AUT",
          "AZE",
          "BGD",
          "BLR",
          "BEL",
          "BEN",
          "BOL",
          "BIH",
          "BWA",
          "BRA",
          "BGR",
          "BFA",
          "KHM",
          "CMR",
          "CAN",
          "TCD",
          "CHL",
          "COL",
          "COM",
          "CRI",
          "HRV",
          "CYP",
          "DNK",
          "DOM",
          "ECU",
          "SLV",
          "EST",
          "FIN",
          "FRA",
          "GAB",
          "GEO",
          "DEU",
          "GHA",
          "GRC",
          "GTM",
          "GIN",
          "HND",
          "HUN",
          "IND",
          "IDN",
          "IRL",
          "ISR",
          "ITA",
          "JAM",
          "JPN",
          "KAZ",
          "KEN",
          "KGZ",
          "LAO",
          "LVA",
          "LBN",
          "LSO",
          "LTU",
          "LUX",
          "MDG",
          "MWI",
          "MYS",
          "MLI",
          "MRT",
          "MUS",
          "MEX",
          "MDA",
          "MNG",
          "MNE",
          "MAR",
          "MOZ",
          "NPL",
          "NLD",
          "NZL",
          "NIC",
          "NER",
          "PAK",
          "PAN",
          "PRY",
          "PER",
          "PHL",
          "POL",
          "PRT",
          "ROU",
          "RUS",
          "RWA",
          "SEN",
          "SRB",
          "SLE",
          "SGP",
          "SVK",
          "SVN",
          "ZAF",
          "ESP",
          "LKA",
          "SWZ",
          "SWE",
          "TZA",
          "THA",
          "TGO",
          "TUN",
          "TUR",
          "UGA",
          "UKR",
          "GBR",
          "USA",
          "URY",
          "UZB",
          "VNM",
          "ZMB",
          "ZWE"
         ],
         "marker": {
          "line": {
           "color": "white",
           "width": 1
          }
         },
         "type": "choropleth",
         "visible": false,
         "z": [
          -42.52627645449709,
          8.511158575914099,
          6.314196878932791,
          -1.6764837251346614,
          26.064403751147537,
          -5.61575567962978,
          -1.9014772456246727,
          19.92187830253452,
          -21.570809647163447,
          13.43103775580928,
          -12.113067226308578,
          5.265631190759197,
          -1.232689819299404,
          6.193408728697683,
          -3.722132880176071,
          -5.773789241759533,
          24.18551992994916,
          19.408229555929577,
          5.6457383635838205,
          5.2899421168622025,
          -6.687405796803503,
          -0.7120839915645621,
          0.6062926107142544,
          -1.0972543448200136,
          10.440977933801852,
          -3.1174089840462993,
          -7.835929658316969,
          -0.05205330120567756,
          12.021664895033648,
          -3.044199892101024,
          -5.877908908303957,
          -0.5427737427677777,
          23.472058467604494,
          -2.294320007224019,
          -5.847070430345239,
          17.133050667404174,
          17.394991396508942,
          -5.42507947498819,
          -8.306114144575053,
          12.875467138581035,
          1.7666186508668358,
          -2.269990122746297,
          4.200545530328318,
          15.713722130273306,
          -0.06402168166621162,
          1.4932853118681173,
          -6.7276937907182655,
          -14.001033438613108,
          -4.148651510140799,
          -10.02915441500242,
          -4.237758866558289,
          13.233430313043163,
          -1.1748368728501863,
          12.372844826078103,
          -2.4041314368390867,
          2.12269808683105,
          -44.34536702631249,
          -7.384404959905037,
          -0.6161784815073197,
          -5.651470066582363,
          41.83876603522357,
          -24.701455723476013,
          -5.989845956274106,
          -6.165048967246195,
          -9.209458606433572,
          9.45290988131043,
          9.413490406397813,
          11.103884470399244,
          2.2070733887897522,
          -1.9355069018520175,
          -19.95140276116256,
          -0.799217495795248,
          -23.397569484537417,
          -2.830885304461889,
          -5.543391943590645,
          5.558429977941005,
          16.477170958311003,
          -7.44004562725657,
          -0.8733396010814423,
          5.912614394339011,
          5.162835123173017,
          -8.28859570382953,
          -0.027552442495677724,
          -2.1082157291334354,
          28.506710900815374,
          14.967003471127791,
          10.60809066065587,
          4.932923656865861,
          -6.669117227655002,
          15.157174775505194,
          49.68237886071736,
          17.876106708424103,
          4.170847550166942,
          4.915971155294972,
          -10.031143163153244,
          -1.0413063211858433,
          -5.238274540976841,
          1.439059967039546,
          -5.011080113214004,
          -9.792718115353164,
          22.892596476122243,
          -8.294479657577831,
          -32.0405567304567,
          2.1924905706110662,
          7.417956436316839,
          -8.205450085955809,
          -2.5557594258412215,
          10.383172563612305,
          7.324456777999567,
          41.30431175103189,
          -10.778366994515348,
          -8.344356126455192
         ],
         "zmid": 0
        },
        {
         "autocolorscale": false,
         "colorbar": {
          "title": {
           "text": "Negative Affect % Change"
          }
         },
         "colorscale": [
          [
           0,
           "rgb(165,0,38)"
          ],
          [
           0.1,
           "rgb(215,48,39)"
          ],
          [
           0.2,
           "rgb(244,109,67)"
          ],
          [
           0.3,
           "rgb(253,174,97)"
          ],
          [
           0.4,
           "rgb(254,224,139)"
          ],
          [
           0.5,
           "rgb(255,255,191)"
          ],
          [
           0.6,
           "rgb(217,239,139)"
          ],
          [
           0.7,
           "rgb(166,217,106)"
          ],
          [
           0.8,
           "rgb(102,189,99)"
          ],
          [
           0.9,
           "rgb(26,152,80)"
          ],
          [
           1,
           "rgb(0,104,55)"
          ]
         ],
         "locations": [
          "AFG",
          "ALB",
          "DZA",
          "ARG",
          "ARM",
          "AUS",
          "AUT",
          "AZE",
          "BGD",
          "BLR",
          "BEL",
          "BEN",
          "BOL",
          "BIH",
          "BWA",
          "BRA",
          "BGR",
          "BFA",
          "KHM",
          "CMR",
          "CAN",
          "TCD",
          "CHL",
          "COL",
          "COM",
          "CRI",
          "HRV",
          "CYP",
          "DNK",
          "DOM",
          "ECU",
          "SLV",
          "EST",
          "FIN",
          "FRA",
          "GAB",
          "GEO",
          "DEU",
          "GHA",
          "GRC",
          "GTM",
          "GIN",
          "HND",
          "HUN",
          "IND",
          "IDN",
          "IRL",
          "ISR",
          "ITA",
          "JAM",
          "JPN",
          "KAZ",
          "KEN",
          "KGZ",
          "LAO",
          "LVA",
          "LBN",
          "LSO",
          "LTU",
          "LUX",
          "MDG",
          "MWI",
          "MYS",
          "MLI",
          "MRT",
          "MUS",
          "MEX",
          "MDA",
          "MNG",
          "MNE",
          "MAR",
          "MOZ",
          "NPL",
          "NLD",
          "NZL",
          "NIC",
          "NER",
          "PAK",
          "PAN",
          "PRY",
          "PER",
          "PHL",
          "POL",
          "PRT",
          "ROU",
          "RUS",
          "RWA",
          "SEN",
          "SRB",
          "SLE",
          "SGP",
          "SVK",
          "SVN",
          "ZAF",
          "ESP",
          "LKA",
          "SWZ",
          "SWE",
          "TZA",
          "THA",
          "TGO",
          "TUN",
          "TUR",
          "UGA",
          "UKR",
          "GBR",
          "USA",
          "URY",
          "UZB",
          "VNM",
          "ZMB",
          "ZWE"
         ],
         "marker": {
          "line": {
           "color": "white",
           "width": 1
          }
         },
         "type": "choropleth",
         "visible": false,
         "z": [
          88.06935273642357,
          6.723478237840823,
          -15.574502578770833,
          37.60955339542259,
          -6.232257009069739,
          3.5153933300020217,
          41.26493950225548,
          -36.49389560996561,
          57.234289517686975,
          -23.90567090871165,
          8.25325523725745,
          101.84830759080774,
          16.00137912362333,
          -26.913360054668672,
          70.68280965065046,
          25.989094117019285,
          -26.221697499388675,
          78.16879542984907,
          26.54300784706514,
          20.141126345101906,
          14.978120925324227,
          59.11010821729543,
          6.427628237684104,
          12.535868243109801,
          93.95168812991606,
          12.666727107024487,
          -1.4012718131279491,
          6.583050759900176,
          3.5379263775191765,
          -11.934783012755174,
          38.00340226567421,
          -19.281098455854714,
          -23.825204465821308,
          -11.94013184318798,
          -10.882493938667588,
          56.4512111736163,
          -1.2401812193521167,
          36.90789928843146,
          29.026678163324814,
          -26.904217702751588,
          7.406522034680367,
          81.97926109977739,
          -9.298077912853467,
          -40.77617682005868,
          101.35868881587832,
          10.34568229579958,
          17.335140697795417,
          -30.842927216915548,
          23.493855502553533,
          -17.656807761560632,
          7.376144064731223,
          -9.907825141701151,
          9.963759009999036,
          36.95128275375252,
          35.89591183703016,
          -4.547553915532322,
          54.45032557409586,
          60.829150368742766,
          0.5161971239500317,
          5.747668759768954,
          29.440389417919583,
          29.68161581276567,
          13.686345568660668,
          171.4012850238171,
          48.53864508805369,
          -40.84757483367672,
          10.734563388934738,
          -8.148228598644888,
          8.93334947606621,
          -3.216407639520849,
          119.02982163075448,
          57.805021311111624,
          72.21359243394332,
          27.0781863659437,
          -9.028459670433834,
          9.059045606445627,
          83.22607295355984,
          18.568787110699716,
          35.58495378674923,
          44.635042881907275,
          13.3156217986964,
          -4.955504407308458,
          -24.896332471129487,
          7.4046582206383205,
          -17.252616013983115,
          21.294891299544673,
          170.78737602286,
          84.37559466376723,
          -40.980549579423666,
          46.275162236064794,
          -3.870927983164664,
          -12.387637114372712,
          -20.146604549800696,
          16.611838102374154,
          -11.39653111174065,
          79.81397946390253,
          11.368806144952833,
          12.753264952607097,
          67.49070712500634,
          78.4289224416535,
          12.26905915860556,
          74.62480225852005,
          -3.0795513961018552,
          51.37435200303173,
          -8.429869627581128,
          44.33714718344833,
          -10.807308487319554,
          -12.099049551240313,
          78.98486771578092,
          -3.663752082881374,
          93.25982861946312,
          11.783932004880333
         ],
         "zmid": 0
        }
       ],
       "layout": {
        "autosize": false,
        "geo": {
         "projection": {
          "type": "equirectangular"
         },
         "showcoastlines": false,
         "showframe": false
        },
        "height": 600,
        "template": {
         "data": {
          "bar": [
           {
            "error_x": {
             "color": "#2a3f5f"
            },
            "error_y": {
             "color": "#2a3f5f"
            },
            "marker": {
             "line": {
              "color": "#E5ECF6",
              "width": 0.5
             }
            },
            "type": "bar"
           }
          ],
          "barpolar": [
           {
            "marker": {
             "line": {
              "color": "#E5ECF6",
              "width": 0.5
             }
            },
            "type": "barpolar"
           }
          ],
          "carpet": [
           {
            "aaxis": {
             "endlinecolor": "#2a3f5f",
             "gridcolor": "white",
             "linecolor": "white",
             "minorgridcolor": "white",
             "startlinecolor": "#2a3f5f"
            },
            "baxis": {
             "endlinecolor": "#2a3f5f",
             "gridcolor": "white",
             "linecolor": "white",
             "minorgridcolor": "white",
             "startlinecolor": "#2a3f5f"
            },
            "type": "carpet"
           }
          ],
          "choropleth": [
           {
            "colorbar": {
             "outlinewidth": 0,
             "ticks": ""
            },
            "type": "choropleth"
           }
          ],
          "contour": [
           {
            "colorbar": {
             "outlinewidth": 0,
             "ticks": ""
            },
            "colorscale": [
             [
              0,
              "#0d0887"
             ],
             [
              0.1111111111111111,
              "#46039f"
             ],
             [
              0.2222222222222222,
              "#7201a8"
             ],
             [
              0.3333333333333333,
              "#9c179e"
             ],
             [
              0.4444444444444444,
              "#bd3786"
             ],
             [
              0.5555555555555556,
              "#d8576b"
             ],
             [
              0.6666666666666666,
              "#ed7953"
             ],
             [
              0.7777777777777778,
              "#fb9f3a"
             ],
             [
              0.8888888888888888,
              "#fdca26"
             ],
             [
              1,
              "#f0f921"
             ]
            ],
            "type": "contour"
           }
          ],
          "contourcarpet": [
           {
            "colorbar": {
             "outlinewidth": 0,
             "ticks": ""
            },
            "type": "contourcarpet"
           }
          ],
          "heatmap": [
           {
            "colorbar": {
             "outlinewidth": 0,
             "ticks": ""
            },
            "colorscale": [
             [
              0,
              "#0d0887"
             ],
             [
              0.1111111111111111,
              "#46039f"
             ],
             [
              0.2222222222222222,
              "#7201a8"
             ],
             [
              0.3333333333333333,
              "#9c179e"
             ],
             [
              0.4444444444444444,
              "#bd3786"
             ],
             [
              0.5555555555555556,
              "#d8576b"
             ],
             [
              0.6666666666666666,
              "#ed7953"
             ],
             [
              0.7777777777777778,
              "#fb9f3a"
             ],
             [
              0.8888888888888888,
              "#fdca26"
             ],
             [
              1,
              "#f0f921"
             ]
            ],
            "type": "heatmap"
           }
          ],
          "heatmapgl": [
           {
            "colorbar": {
             "outlinewidth": 0,
             "ticks": ""
            },
            "colorscale": [
             [
              0,
              "#0d0887"
             ],
             [
              0.1111111111111111,
              "#46039f"
             ],
             [
              0.2222222222222222,
              "#7201a8"
             ],
             [
              0.3333333333333333,
              "#9c179e"
             ],
             [
              0.4444444444444444,
              "#bd3786"
             ],
             [
              0.5555555555555556,
              "#d8576b"
             ],
             [
              0.6666666666666666,
              "#ed7953"
             ],
             [
              0.7777777777777778,
              "#fb9f3a"
             ],
             [
              0.8888888888888888,
              "#fdca26"
             ],
             [
              1,
              "#f0f921"
             ]
            ],
            "type": "heatmapgl"
           }
          ],
          "histogram": [
           {
            "marker": {
             "colorbar": {
              "outlinewidth": 0,
              "ticks": ""
             }
            },
            "type": "histogram"
           }
          ],
          "histogram2d": [
           {
            "colorbar": {
             "outlinewidth": 0,
             "ticks": ""
            },
            "colorscale": [
             [
              0,
              "#0d0887"
             ],
             [
              0.1111111111111111,
              "#46039f"
             ],
             [
              0.2222222222222222,
              "#7201a8"
             ],
             [
              0.3333333333333333,
              "#9c179e"
             ],
             [
              0.4444444444444444,
              "#bd3786"
             ],
             [
              0.5555555555555556,
              "#d8576b"
             ],
             [
              0.6666666666666666,
              "#ed7953"
             ],
             [
              0.7777777777777778,
              "#fb9f3a"
             ],
             [
              0.8888888888888888,
              "#fdca26"
             ],
             [
              1,
              "#f0f921"
             ]
            ],
            "type": "histogram2d"
           }
          ],
          "histogram2dcontour": [
           {
            "colorbar": {
             "outlinewidth": 0,
             "ticks": ""
            },
            "colorscale": [
             [
              0,
              "#0d0887"
             ],
             [
              0.1111111111111111,
              "#46039f"
             ],
             [
              0.2222222222222222,
              "#7201a8"
             ],
             [
              0.3333333333333333,
              "#9c179e"
             ],
             [
              0.4444444444444444,
              "#bd3786"
             ],
             [
              0.5555555555555556,
              "#d8576b"
             ],
             [
              0.6666666666666666,
              "#ed7953"
             ],
             [
              0.7777777777777778,
              "#fb9f3a"
             ],
             [
              0.8888888888888888,
              "#fdca26"
             ],
             [
              1,
              "#f0f921"
             ]
            ],
            "type": "histogram2dcontour"
           }
          ],
          "mesh3d": [
           {
            "colorbar": {
             "outlinewidth": 0,
             "ticks": ""
            },
            "type": "mesh3d"
           }
          ],
          "parcoords": [
           {
            "line": {
             "colorbar": {
              "outlinewidth": 0,
              "ticks": ""
             }
            },
            "type": "parcoords"
           }
          ],
          "pie": [
           {
            "automargin": true,
            "type": "pie"
           }
          ],
          "scatter": [
           {
            "marker": {
             "colorbar": {
              "outlinewidth": 0,
              "ticks": ""
             }
            },
            "type": "scatter"
           }
          ],
          "scatter3d": [
           {
            "line": {
             "colorbar": {
              "outlinewidth": 0,
              "ticks": ""
             }
            },
            "marker": {
             "colorbar": {
              "outlinewidth": 0,
              "ticks": ""
             }
            },
            "type": "scatter3d"
           }
          ],
          "scattercarpet": [
           {
            "marker": {
             "colorbar": {
              "outlinewidth": 0,
              "ticks": ""
             }
            },
            "type": "scattercarpet"
           }
          ],
          "scattergeo": [
           {
            "marker": {
             "colorbar": {
              "outlinewidth": 0,
              "ticks": ""
             }
            },
            "type": "scattergeo"
           }
          ],
          "scattergl": [
           {
            "marker": {
             "colorbar": {
              "outlinewidth": 0,
              "ticks": ""
             }
            },
            "type": "scattergl"
           }
          ],
          "scattermapbox": [
           {
            "marker": {
             "colorbar": {
              "outlinewidth": 0,
              "ticks": ""
             }
            },
            "type": "scattermapbox"
           }
          ],
          "scatterpolar": [
           {
            "marker": {
             "colorbar": {
              "outlinewidth": 0,
              "ticks": ""
             }
            },
            "type": "scatterpolar"
           }
          ],
          "scatterpolargl": [
           {
            "marker": {
             "colorbar": {
              "outlinewidth": 0,
              "ticks": ""
             }
            },
            "type": "scatterpolargl"
           }
          ],
          "scatterternary": [
           {
            "marker": {
             "colorbar": {
              "outlinewidth": 0,
              "ticks": ""
             }
            },
            "type": "scatterternary"
           }
          ],
          "surface": [
           {
            "colorbar": {
             "outlinewidth": 0,
             "ticks": ""
            },
            "colorscale": [
             [
              0,
              "#0d0887"
             ],
             [
              0.1111111111111111,
              "#46039f"
             ],
             [
              0.2222222222222222,
              "#7201a8"
             ],
             [
              0.3333333333333333,
              "#9c179e"
             ],
             [
              0.4444444444444444,
              "#bd3786"
             ],
             [
              0.5555555555555556,
              "#d8576b"
             ],
             [
              0.6666666666666666,
              "#ed7953"
             ],
             [
              0.7777777777777778,
              "#fb9f3a"
             ],
             [
              0.8888888888888888,
              "#fdca26"
             ],
             [
              1,
              "#f0f921"
             ]
            ],
            "type": "surface"
           }
          ],
          "table": [
           {
            "cells": {
             "fill": {
              "color": "#EBF0F8"
             },
             "line": {
              "color": "white"
             }
            },
            "header": {
             "fill": {
              "color": "#C8D4E3"
             },
             "line": {
              "color": "white"
             }
            },
            "type": "table"
           }
          ]
         },
         "layout": {
          "annotationdefaults": {
           "arrowcolor": "#2a3f5f",
           "arrowhead": 0,
           "arrowwidth": 1
          },
          "autotypenumbers": "strict",
          "coloraxis": {
           "colorbar": {
            "outlinewidth": 0,
            "ticks": ""
           }
          },
          "colorscale": {
           "diverging": [
            [
             0,
             "#8e0152"
            ],
            [
             0.1,
             "#c51b7d"
            ],
            [
             0.2,
             "#de77ae"
            ],
            [
             0.3,
             "#f1b6da"
            ],
            [
             0.4,
             "#fde0ef"
            ],
            [
             0.5,
             "#f7f7f7"
            ],
            [
             0.6,
             "#e6f5d0"
            ],
            [
             0.7,
             "#b8e186"
            ],
            [
             0.8,
             "#7fbc41"
            ],
            [
             0.9,
             "#4d9221"
            ],
            [
             1,
             "#276419"
            ]
           ],
           "sequential": [
            [
             0,
             "#0d0887"
            ],
            [
             0.1111111111111111,
             "#46039f"
            ],
            [
             0.2222222222222222,
             "#7201a8"
            ],
            [
             0.3333333333333333,
             "#9c179e"
            ],
            [
             0.4444444444444444,
             "#bd3786"
            ],
            [
             0.5555555555555556,
             "#d8576b"
            ],
            [
             0.6666666666666666,
             "#ed7953"
            ],
            [
             0.7777777777777778,
             "#fb9f3a"
            ],
            [
             0.8888888888888888,
             "#fdca26"
            ],
            [
             1,
             "#f0f921"
            ]
           ],
           "sequentialminus": [
            [
             0,
             "#0d0887"
            ],
            [
             0.1111111111111111,
             "#46039f"
            ],
            [
             0.2222222222222222,
             "#7201a8"
            ],
            [
             0.3333333333333333,
             "#9c179e"
            ],
            [
             0.4444444444444444,
             "#bd3786"
            ],
            [
             0.5555555555555556,
             "#d8576b"
            ],
            [
             0.6666666666666666,
             "#ed7953"
            ],
            [
             0.7777777777777778,
             "#fb9f3a"
            ],
            [
             0.8888888888888888,
             "#fdca26"
            ],
            [
             1,
             "#f0f921"
            ]
           ]
          },
          "colorway": [
           "#636efa",
           "#EF553B",
           "#00cc96",
           "#ab63fa",
           "#FFA15A",
           "#19d3f3",
           "#FF6692",
           "#B6E880",
           "#FF97FF",
           "#FECB52"
          ],
          "font": {
           "color": "#2a3f5f"
          },
          "geo": {
           "bgcolor": "white",
           "lakecolor": "white",
           "landcolor": "#E5ECF6",
           "showlakes": true,
           "showland": true,
           "subunitcolor": "white"
          },
          "hoverlabel": {
           "align": "left"
          },
          "hovermode": "closest",
          "mapbox": {
           "style": "light"
          },
          "paper_bgcolor": "white",
          "plot_bgcolor": "#E5ECF6",
          "polar": {
           "angularaxis": {
            "gridcolor": "white",
            "linecolor": "white",
            "ticks": ""
           },
           "bgcolor": "#E5ECF6",
           "radialaxis": {
            "gridcolor": "white",
            "linecolor": "white",
            "ticks": ""
           }
          },
          "scene": {
           "xaxis": {
            "backgroundcolor": "#E5ECF6",
            "gridcolor": "white",
            "gridwidth": 2,
            "linecolor": "white",
            "showbackground": true,
            "ticks": "",
            "zerolinecolor": "white"
           },
           "yaxis": {
            "backgroundcolor": "#E5ECF6",
            "gridcolor": "white",
            "gridwidth": 2,
            "linecolor": "white",
            "showbackground": true,
            "ticks": "",
            "zerolinecolor": "white"
           },
           "zaxis": {
            "backgroundcolor": "#E5ECF6",
            "gridcolor": "white",
            "gridwidth": 2,
            "linecolor": "white",
            "showbackground": true,
            "ticks": "",
            "zerolinecolor": "white"
           }
          },
          "shapedefaults": {
           "line": {
            "color": "#2a3f5f"
           }
          },
          "ternary": {
           "aaxis": {
            "gridcolor": "white",
            "linecolor": "white",
            "ticks": ""
           },
           "baxis": {
            "gridcolor": "white",
            "linecolor": "white",
            "ticks": ""
           },
           "bgcolor": "#E5ECF6",
           "caxis": {
            "gridcolor": "white",
            "linecolor": "white",
            "ticks": ""
           }
          },
          "title": {
           "x": 0.05
          },
          "xaxis": {
           "automargin": true,
           "gridcolor": "white",
           "linecolor": "white",
           "ticks": "",
           "title": {
            "standoff": 15
           },
           "zerolinecolor": "white",
           "zerolinewidth": 2
          },
          "yaxis": {
           "automargin": true,
           "gridcolor": "white",
           "linecolor": "white",
           "ticks": "",
           "title": {
            "standoff": 15
           },
           "zerolinecolor": "white",
           "zerolinewidth": 2
          }
         }
        },
        "title": {
         "text": "World Happiness Report: 2011-2019 Percent Change"
        },
        "updatemenus": [
         {
          "active": 0,
          "buttons": [
           {
            "args": [
             {
              "visible": [
               true,
               false,
               false,
               false,
               false,
               false,
               false,
               false,
               false
              ]
             },
             {
              "annotations": [
               {
                "bgcolor": "grey",
                "borderpad": 4,
                "borderwidth": 9,
                "font": {
                 "color": "white",
                 "size": 10
                },
                "showarrow": false,
                "text": "Senegal has the highest improvement of ~ 43.152",
                "x": 1.1,
                "xref": "paper",
                "y": 1.2,
                "yref": "paper"
               },
               {
                "bgcolor": "grey",
                "borderpad": 4,
                "borderwidth": 9,
                "font": {
                 "color": "white",
                 "size": 10
                },
                "showarrow": false,
                "text": "Zimbabwe has the lowest improvement of ~ -44.413",
                "x": 1.1,
                "xref": "paper",
                "y": 1.1,
                "yref": "paper"
               }
              ]
             }
            ],
            "label": "Life Ladder %",
            "method": "update"
           },
           {
            "args": [
             {
              "visible": [
               false,
               true,
               false,
               false,
               false,
               false,
               false,
               false,
               false
              ]
             },
             {
              "annotations": [
               {
                "bgcolor": "grey",
                "borderpad": 4,
                "borderwidth": 9,
                "font": {
                 "color": "white",
                 "size": 10
                },
                "showarrow": false,
                "text": "Bangladesh has the highest improvement of ~ 5.597",
                "x": 1.1,
                "xref": "paper",
                "y": 1.2,
                "yref": "paper"
               },
               {
                "bgcolor": "grey",
                "borderpad": 4,
                "borderwidth": 9,
                "font": {
                 "color": "white",
                 "size": 10
                },
                "showarrow": false,
                "text": "Lebanon has the lowest improvement of ~ -2.449",
                "x": 1.1,
                "xref": "paper",
                "y": 1.1,
                "yref": "paper"
               }
              ]
             }
            ],
            "label": "Log GDP per capita %",
            "method": "update"
           },
           {
            "args": [
             {
              "visible": [
               false,
               false,
               true,
               false,
               false,
               false,
               false,
               false,
               false
              ]
             },
             {
              "annotations": [
               {
                "bgcolor": "grey",
                "borderpad": 4,
                "borderwidth": 9,
                "font": {
                 "color": "white",
                 "size": 10
                },
                "showarrow": false,
                "text": "Togo has the highest improvement of ~ 77.816",
                "x": 1.1,
                "xref": "paper",
                "y": 1.2,
                "yref": "paper"
               },
               {
                "bgcolor": "grey",
                "borderpad": 4,
                "borderwidth": 9,
                "font": {
                 "color": "white",
                 "size": 10
                },
                "showarrow": false,
                "text": "Morocco has the lowest improvement of ~ -35.828",
                "x": 1.1,
                "xref": "paper",
                "y": 1.1,
                "yref": "paper"
               }
              ]
             }
            ],
            "label": "Social Support %",
            "method": "update"
           },
           {
            "args": [
             {
              "visible": [
               false,
               false,
               false,
               true,
               false,
               false,
               false,
               false,
               false
              ]
             },
             {
              "annotations": [
               {
                "bgcolor": "grey",
                "borderpad": 4,
                "borderwidth": 9,
                "font": {
                 "color": "white",
                 "size": 10
                },
                "showarrow": false,
                "text": "Swaziland has the highest improvement of ~ 25.637",
                "x": 1.1,
                "xref": "paper",
                "y": 1.2,
                "yref": "paper"
               },
               {
                "bgcolor": "grey",
                "borderpad": 4,
                "borderwidth": 9,
                "font": {
                 "color": "white",
                 "size": 10
                },
                "showarrow": false,
                "text": "Georgia has the lowest improvement of ~ -0.863",
                "x": 1.1,
                "xref": "paper",
                "y": 1.1,
                "yref": "paper"
               }
              ]
             }
            ],
            "label": "Life Expectancy %",
            "method": "update"
           },
           {
            "args": [
             {
              "visible": [
               false,
               false,
               false,
               false,
               true,
               false,
               false,
               false,
               false
              ]
             },
             {
              "annotations": [
               {
                "bgcolor": "grey",
                "borderpad": 4,
                "borderwidth": 9,
                "font": {
                 "color": "white",
                 "size": 10
                },
                "showarrow": false,
                "text": "Bosnia and Herzegovina has the highest improvement of ~ 116.483",
                "x": 1.1,
                "xref": "paper",
                "y": 1.2,
                "yref": "paper"
               },
               {
                "bgcolor": "grey",
                "borderpad": 4,
                "borderwidth": 9,
                "font": {
                 "color": "white",
                 "size": 10
                },
                "showarrow": false,
                "text": "Lebanon has the lowest improvement of ~ -31.974",
                "x": 1.1,
                "xref": "paper",
                "y": 1.1,
                "yref": "paper"
               }
              ]
             }
            ],
            "label": "Life Choices %",
            "method": "update"
           },
           {
            "args": [
             {
              "visible": [
               false,
               false,
               false,
               false,
               false,
               true,
               false,
               false,
               false
              ]
             },
             {
              "annotations": [
               {
                "bgcolor": "grey",
                "borderpad": 4,
                "borderwidth": 9,
                "font": {
                 "color": "white",
                 "size": 10
                },
                "showarrow": false,
                "text": "Latvia has the highest improvement of ~ 8000.549",
                "x": 1.1,
                "xref": "paper",
                "y": 1.2,
                "yref": "paper"
               },
               {
                "bgcolor": "grey",
                "borderpad": 4,
                "borderwidth": 9,
                "font": {
                 "color": "white",
                 "size": 10
                },
                "showarrow": false,
                "text": "Panama has the lowest improvement of ~ -2319.595",
                "x": 1.1,
                "xref": "paper",
                "y": 1.1,
                "yref": "paper"
               }
              ]
             }
            ],
            "label": "Generosity %",
            "method": "update"
           },
           {
            "args": [
             {
              "visible": [
               false,
               false,
               false,
               false,
               false,
               false,
               true,
               false,
               false
              ]
             },
             {
              "annotations": [
               {
                "bgcolor": "grey",
                "borderpad": 4,
                "borderwidth": 9,
                "font": {
                 "color": "white",
                 "size": 10
                },
                "showarrow": false,
                "text": "Georgia has the highest improvement of ~ 83.17",
                "x": 1.1,
                "xref": "paper",
                "y": 1.2,
                "yref": "paper"
               },
               {
                "bgcolor": "grey",
                "borderpad": 4,
                "borderwidth": 9,
                "font": {
                 "color": "white",
                 "size": 10
                },
                "showarrow": false,
                "text": "Azerbaijan has the lowest improvement of ~ -42.492",
                "x": 1.1,
                "xref": "paper",
                "y": 1.1,
                "yref": "paper"
               }
              ]
             }
            ],
            "label": "Perceptions of corruption %",
            "method": "update"
           },
           {
            "args": [
             {
              "visible": [
               false,
               false,
               false,
               false,
               false,
               false,
               false,
               true,
               false
              ]
             },
             {
              "annotations": [
               {
                "bgcolor": "grey",
                "borderpad": 4,
                "borderwidth": 9,
                "font": {
                 "color": "white",
                 "size": 10
                },
                "showarrow": false,
                "text": "Singapore has the highest improvement of ~ 49.682",
                "x": 1.1,
                "xref": "paper",
                "y": 1.2,
                "yref": "paper"
               },
               {
                "bgcolor": "grey",
                "borderpad": 4,
                "borderwidth": 9,
                "font": {
                 "color": "white",
                 "size": 10
                },
                "showarrow": false,
                "text": "Lebanon has the lowest improvement of ~ -44.345",
                "x": 1.1,
                "xref": "paper",
                "y": 1.1,
                "yref": "paper"
               }
              ]
             }
            ],
            "label": "Positive Affect %",
            "method": "update"
           },
           {
            "args": [
             {
              "visible": [
               false,
               false,
               false,
               false,
               false,
               false,
               false,
               false,
               true
              ]
             },
             {
              "annotations": [
               {
                "bgcolor": "grey",
                "borderpad": 4,
                "borderwidth": 9,
                "font": {
                 "color": "white",
                 "size": 10
                },
                "showarrow": false,
                "text": "Mali has the highest improvement of ~ 171.401",
                "x": 1.1,
                "xref": "paper",
                "y": 1.2,
                "yref": "paper"
               },
               {
                "bgcolor": "grey",
                "borderpad": 4,
                "borderwidth": 9,
                "font": {
                 "color": "white",
                 "size": 10
                },
                "showarrow": false,
                "text": "Serbia has the lowest improvement of ~ -40.981",
                "x": 1.1,
                "xref": "paper",
                "y": 1.1,
                "yref": "paper"
               }
              ]
             }
            ],
            "label": "Negative Affect %",
            "method": "update"
           }
          ],
          "x": 0,
          "xanchor": "left",
          "y": 1.05,
          "yanchor": "top"
         }
        ],
        "width": 950
       }
      },
      "text/html": [
       "<div>                            <div id=\"16d779e3-9371-482c-943b-d07c9a593ead\" class=\"plotly-graph-div\" style=\"height:600px; width:950px;\"></div>            <script type=\"text/javascript\">                require([\"plotly\"], function(Plotly) {                    window.PLOTLYENV=window.PLOTLYENV || {};                                    if (document.getElementById(\"16d779e3-9371-482c-943b-d07c9a593ead\")) {                    Plotly.newPlot(                        \"16d779e3-9371-482c-943b-d07c9a593ead\",                        [{\"autocolorscale\": false, \"colorbar\": {\"title\": {\"text\": \"Life Ladder % Change\"}}, \"colorscale\": [[0.0, \"rgb(165,0,38)\"], [0.1, \"rgb(215,48,39)\"], [0.2, \"rgb(244,109,67)\"], [0.3, \"rgb(253,174,97)\"], [0.4, \"rgb(254,224,139)\"], [0.5, \"rgb(255,255,191)\"], [0.6, \"rgb(217,239,139)\"], [0.7, \"rgb(166,217,106)\"], [0.8, \"rgb(102,189,99)\"], [0.9, \"rgb(26,152,80)\"], [1.0, \"rgb(0,104,55)\"]], \"locations\": [\"AFG\", \"ALB\", \"DZA\", \"ARG\", \"ARM\", \"AUS\", \"AUT\", \"AZE\", \"BGD\", \"BLR\", \"BEL\", \"BEN\", \"BOL\", \"BIH\", \"BWA\", \"BRA\", \"BGR\", \"BFA\", \"KHM\", \"CMR\", \"CAN\", \"TCD\", \"CHL\", \"COL\", \"COM\", \"CRI\", \"HRV\", \"CYP\", \"DNK\", \"DOM\", \"ECU\", \"SLV\", \"EST\", \"FIN\", \"FRA\", \"GAB\", \"GEO\", \"DEU\", \"GHA\", \"GRC\", \"GTM\", \"GIN\", \"HND\", \"HUN\", \"IND\", \"IDN\", \"IRL\", \"ISR\", \"ITA\", \"JAM\", \"JPN\", \"KAZ\", \"KEN\", \"KGZ\", \"LAO\", \"LVA\", \"LBN\", \"LSO\", \"LTU\", \"LUX\", \"MDG\", \"MWI\", \"MYS\", \"MLI\", \"MRT\", \"MUS\", \"MEX\", \"MDA\", \"MNG\", \"MNE\", \"MAR\", \"MOZ\", \"NPL\", \"NLD\", \"NZL\", \"NIC\", \"NER\", \"PAK\", \"PAN\", \"PRY\", \"PER\", \"PHL\", \"POL\", \"PRT\", \"ROU\", \"RUS\", \"RWA\", \"SEN\", \"SRB\", \"SLE\", \"SGP\", \"SVK\", \"SVN\", \"ZAF\", \"ESP\", \"LKA\", \"SWZ\", \"SWE\", \"TZA\", \"THA\", \"TGO\", \"TUN\", \"TUR\", \"UGA\", \"UKR\", \"GBR\", \"USA\", \"URY\", \"UZB\", \"VNM\", \"ZMB\", \"ZWE\"], \"marker\": {\"line\": {\"color\": \"white\", \"width\": 1}}, \"type\": \"choropleth\", \"visible\": true, \"z\": [-38.01498252018571, -14.863491096008696, -10.768216024353048, -10.186902168306112, 28.813468267908597, -2.3174482185384657, -3.683170546431272, 10.531420416526414, 2.5787553999439923, 11.408804222201233, -4.770192812458364, 28.57884638260436, -1.8101062629825224, 20.438816472329595, -1.3874240455541422, -8.335931117931787, 31.81764937926235, -0.9293873845452654, 20.115697509328246, 11.341124743252456, -4.268445184958638, -3.247606850593675, -8.949656002214118, -1.7582835388688207, 20.06338969788215, -3.199244753226204, 4.463409375554778, -8.263201855910339, -1.222725181603548, 11.26096159394134, 0.24232338841987133, 36.14045998799584, 9.984317825405123, 5.794256447284199, -3.873165923337122, 15.48603340436847, 16.38829623454545, 6.2549573675393555, -11.436644430645831, 10.798834793303453, 9.03341938511307, 17.878663445285866, 19.53262949756907, 22.01595856087874, -29.9059365043112, 3.362025622650088, 3.5384700293163247, -1.3637284190253536, 6.41117576350915, 17.39328017108639, -5.664476173725809, 9.35559435766069, 4.847333553063477, 15.528631842753251, 10.483261253155007, 20.192875319971595, -22.425753686463416, -28.29464270327441, 11.627569958061548, 4.261344942050865, -0.9660777925087615, -1.9497629929721407, -6.194097153893088, 6.881730955308531, -13.212347607674433, 13.950735030695382, -6.911773555613464, 0.19315474977680144, 10.568738759504189, 3.1189820398094885, -0.5549907768792477, -0.784111387269492, 43.03199611915632, -1.8314780695068613, 0.20215703579761113, 13.495716509145087, 9.82729496674104, -15.652923342105668, -16.03356296216522, -0.43076841926401477, 1.8145919130585861, 25.506598532657897, 10.553798470561906, 16.771566316611413, 22.043367219551058, 0.9604672552013253, -20.239089131946134, 43.15201021875216, 29.619224378892905, -23.41949388764374, -2.78434495667067, 5.0189730719533, 10.426000767557564, 2.1164537982087483, -0.9327596777675451, 0.7829102017738893, -9.676752199219557, 0.21484772017063025, -10.639516256756066, -9.626278417537645, 42.34262573461867, -11.504241240890046, -7.584875563355798, 2.5290148325369253, -7.50266742288207, 4.191176659441134, -2.4094718992231825, 0.7062799526192861, 7.236864353932469, -5.199852038007778, -33.85234179529166, -44.41348775497693], \"zmid\": 0}, {\"autocolorscale\": false, \"colorbar\": {\"title\": {\"text\": \"Log GDP per capita % Change\"}}, \"colorscale\": [[0.0, \"rgb(165,0,38)\"], [0.1, \"rgb(215,48,39)\"], [0.2, \"rgb(244,109,67)\"], [0.3, \"rgb(253,174,97)\"], [0.4, \"rgb(254,224,139)\"], [0.5, \"rgb(255,255,191)\"], [0.6, \"rgb(217,239,139)\"], [0.7, \"rgb(166,217,106)\"], [0.8, \"rgb(102,189,99)\"], [0.9, \"rgb(26,152,80)\"], [1.0, \"rgb(0,104,55)\"]], \"locations\": [\"AFG\", \"ALB\", \"DZA\", \"ARG\", \"ARM\", \"AUS\", \"AUT\", \"AZE\", \"BGD\", \"BLR\", \"BEL\", \"BEN\", \"BOL\", \"BIH\", \"BWA\", \"BRA\", \"BGR\", \"BFA\", \"KHM\", \"CMR\", \"CAN\", \"TCD\", \"CHL\", \"COL\", \"COM\", \"CRI\", \"HRV\", \"CYP\", \"DNK\", \"DOM\", \"ECU\", \"SLV\", \"EST\", \"FIN\", \"FRA\", \"GAB\", \"GEO\", \"DEU\", \"GHA\", \"GRC\", \"GTM\", \"GIN\", \"HND\", \"HUN\", \"IND\", \"IDN\", \"IRL\", \"ISR\", \"ITA\", \"JAM\", \"JPN\", \"KAZ\", \"KEN\", \"KGZ\", \"LAO\", \"LVA\", \"LBN\", \"LSO\", \"LTU\", \"LUX\", \"MDG\", \"MWI\", \"MYS\", \"MLI\", \"MRT\", \"MUS\", \"MEX\", \"MDA\", \"MNG\", \"MNE\", \"MAR\", \"MOZ\", \"NPL\", \"NLD\", \"NZL\", \"NIC\", \"NER\", \"PAK\", \"PAN\", \"PRY\", \"PER\", \"PHL\", \"POL\", \"PRT\", \"ROU\", \"RUS\", \"RWA\", \"SEN\", \"SRB\", \"SLE\", \"SGP\", \"SVK\", \"SVN\", \"ZAF\", \"ESP\", \"LKA\", \"SWZ\", \"SWE\", \"TZA\", \"THA\", \"TGO\", \"TUN\", \"TUR\", \"UGA\", \"UKR\", \"GBR\", \"USA\", \"URY\", \"UZB\", \"VNM\", \"ZMB\", \"ZWE\"], \"marker\": {\"line\": {\"color\": \"white\", \"width\": 1}}, \"type\": \"choropleth\", \"visible\": false, \"z\": [1.0199559843515216, 2.282958623291284, 0.43300940975578583, -1.1085881893499674, 3.69493539564862, 0.7658488750003555, 0.48196562083689276, 0.36927304392749777, 5.5966713236607735, 0.4894035143785184, 0.6527860127668668, 2.453311820738241, 2.747244974465617, 2.952115185953052, 1.9237527975817372, -0.461745321908009, 2.5738323089190733, 2.731787583876845, 5.3673340391602755, 1.931686308145732, 0.5818014199766594, -0.803811550833255, 1.1494002456120636, 1.6497818007062615, 0.6537981449311107, 1.8564234700791091, 1.6515153720259161, 0.5261072896956549, 0.9802511482565245, 3.6578447584111307, 0.3759667074715593, 1.6464752741518682, 2.569555403985172, 0.34978653124986697, 0.6542466194174584, -0.008814202857092094, 3.8182298323850374, 0.7391793823870644, 3.174389517365469, -0.18798017200753028, 1.577274524257413, 3.7256654805920886, 1.7004528600415545, 2.624196659837677, 5.131914143668082, 3.3972225374098506, 4.534459822108803, 1.0619970931390188, -0.15113005710608865, 0.2442616312547488, 0.9426768963393152, 1.8188750569608738, 2.8276558945549803, 2.2947906964349833, 4.875623011706306, 3.061362757865219, -2.4485302992040645, 1.9087209129085885, 3.4564795718601533, 0.4623955390514365, 0.9540387582267246, 1.0293423107291872, 2.8722916229277313, 1.433487258081673, 0.8827216072595024, 2.8197700644845822, 0.8237931856120109, 4.0003956704442025, 3.940886284730171, 2.2062550757514505, 1.6075973281448153, 2.5263762776463228, 4.34772079745946, 0.7193165782187719, 1.2356592160228113, 1.3119402933065687, 2.6096241911736304, 2.142041207273862, 2.961959984465878, 1.8341374865603282, 2.057536922460621, 4.4559538955025335, 2.7004170168472545, 1.0097483574259547, 3.6786248092819154, 0.7566911116547097, 4.59701519192304, 2.864546050346523, 2.09430019182944, 2.149813508459682, 1.5818925323505477, 1.9851614722091424, 1.319332364695986, -0.15557852121964436, 0.9599567952342736, 3.1083666165257533, 1.4497175172582115, 0.6315428536353357, 3.10325104241638, 2.5476743806352493, 3.208676796419932, 0.9889093052133766, 2.5037292944847467, 1.338620668327256, 0.2881907327349745, 0.8909096555215555, 1.1945715054986417, 1.5172133701911752, 4.243492071370078, 4.741896038596513, 1.0324358474619428, 1.3232228697834687], \"zmid\": 0}, {\"autocolorscale\": false, \"colorbar\": {\"title\": {\"text\": \"Social Support % Change\"}}, \"colorscale\": [[0.0, \"rgb(165,0,38)\"], [0.1, \"rgb(215,48,39)\"], [0.2, \"rgb(244,109,67)\"], [0.3, \"rgb(253,174,97)\"], [0.4, \"rgb(254,224,139)\"], [0.5, \"rgb(255,255,191)\"], [0.6, \"rgb(217,239,139)\"], [0.7, \"rgb(166,217,106)\"], [0.8, \"rgb(102,189,99)\"], [0.9, \"rgb(26,152,80)\"], [1.0, \"rgb(0,104,55)\"]], \"locations\": [\"AFG\", \"ALB\", \"DZA\", \"ARG\", \"ARM\", \"AUS\", \"AUT\", \"AZE\", \"BGD\", \"BLR\", \"BEL\", \"BEN\", \"BOL\", \"BIH\", \"BWA\", \"BRA\", \"BGR\", \"BFA\", \"KHM\", \"CMR\", \"CAN\", \"TCD\", \"CHL\", \"COL\", \"COM\", \"CRI\", \"HRV\", \"CYP\", \"DNK\", \"DOM\", \"ECU\", \"SLV\", \"EST\", \"FIN\", \"FRA\", \"GAB\", \"GEO\", \"DEU\", \"GHA\", \"GRC\", \"GTM\", \"GIN\", \"HND\", \"HUN\", \"IND\", \"IDN\", \"IRL\", \"ISR\", \"ITA\", \"JAM\", \"JPN\", \"KAZ\", \"KEN\", \"KGZ\", \"LAO\", \"LVA\", \"LBN\", \"LSO\", \"LTU\", \"LUX\", \"MDG\", \"MWI\", \"MYS\", \"MLI\", \"MRT\", \"MUS\", \"MEX\", \"MDA\", \"MNG\", \"MNE\", \"MAR\", \"MOZ\", \"NPL\", \"NLD\", \"NZL\", \"NIC\", \"NER\", \"PAK\", \"PAN\", \"PRY\", \"PER\", \"PHL\", \"POL\", \"PRT\", \"ROU\", \"RUS\", \"RWA\", \"SEN\", \"SRB\", \"SLE\", \"SGP\", \"SVK\", \"SVN\", \"ZAF\", \"ESP\", \"LKA\", \"SWZ\", \"SWE\", \"TZA\", \"THA\", \"TGO\", \"TUN\", \"TUR\", \"UGA\", \"UKR\", \"GBR\", \"USA\", \"URY\", \"UZB\", \"VNM\", \"ZMB\", \"ZWE\"], \"marker\": {\"line\": {\"color\": \"white\", \"width\": 1}}, \"type\": \"choropleth\", \"visible\": false, \"z\": [-19.40702419524843, -9.62149909918112, -0.8609642903041966, 0.8207464405426109, 10.848743554073003, -2.508182601418215, 2.1534535627840414, 22.27852418911072, 11.000438932119236, 0.7531353289245787, -5.627264066347132, -7.401230042117573, -3.9767525323384616, 20.393043598895293, -10.041633870744064, -1.8638809230158937, 10.221427683580668, -3.724415857751577, 6.101379692273244, -3.6623775942507613, 0.3943660769509548, -21.785825994220524, 6.109673775673648, -3.491511512732319, -12.443296408425724, 1.5727025471257177, 18.51878435429492, -8.009969356035894, -0.41900794254568646, 1.3764304298375407, -1.1693070790136035, 4.528052320001447, 2.789848237545249, -0.047055452919220773, 4.022913955177873, 16.906675165505913, 34.2067784963751, -6.4998891894874875, 3.030607015928894, 4.609748828317651, 0.7761825522387735, 9.467315951479325, 4.106887990319426, 5.91424198388012, 1.481678192604143, -2.795109364200873, -3.443012500247748, 5.972252184905578, -8.201699325214184, 2.71831075113004, -4.260131643352006, 5.091734780575516, -20.13168120850628, -1.612761620829675, 5.582190191256911, 11.896383015963039, 18.15407879480821, -4.171892984869366, 0.6765573139238492, -2.3537403072085272, -14.392982114731579, -10.409146210555878, 9.355359882861492, -5.147291096598623, 6.3743689003231125, 14.102821346313178, 3.3518929983079815, -6.929552370886211, -0.2244122383900874, 1.711453353182314, -35.82751538866183, -9.212154666489376, 4.223287627927315, 0.3283668094245346, -1.5549398453335366, 9.191345249518653, -17.207865246350252, 21.065889089590474, 1.0769569507664092, 2.6850936969033965, 6.97753155665855, 7.1417441457322814, -2.9085790347865172, 2.3508010125177594, 11.865311511440844, 3.0203135006729513, -14.108963861893994, 14.143990077128638, 16.82382691394802, -21.8532980831714, 2.2603695634151753, 1.7218997467775377, 1.9584283413007526, -1.1639715185771993, 0.4838582641385975, -3.206801543009489, -9.323546344681633, 1.4256933404403997, -22.125318924608205, 2.1145660376849817, 77.81585651684534, -14.729810716925154, 14.41744031624585, -8.649146206605367, 2.7072628370095573, -0.6355579200845601, -0.5439791552366312, 4.733463080036579, -0.9518011695929066, -5.577087724335356, -26.17155769568663, -12.204464694995226], \"zmid\": 0}, {\"autocolorscale\": false, \"colorbar\": {\"title\": {\"text\": \"Life Expectancy % Change\"}}, \"colorscale\": [[0.0, \"rgb(165,0,38)\"], [0.1, \"rgb(215,48,39)\"], [0.2, \"rgb(244,109,67)\"], [0.3, \"rgb(253,174,97)\"], [0.4, \"rgb(254,224,139)\"], [0.5, \"rgb(255,255,191)\"], [0.6, \"rgb(217,239,139)\"], [0.7, \"rgb(166,217,106)\"], [0.8, \"rgb(102,189,99)\"], [0.9, \"rgb(26,152,80)\"], [1.0, \"rgb(0,104,55)\"]], \"locations\": [\"AFG\", \"ALB\", \"DZA\", \"ARG\", \"ARM\", \"AUS\", \"AUT\", \"AZE\", \"BGD\", \"BLR\", \"BEL\", \"BEN\", \"BOL\", \"BIH\", \"BWA\", \"BRA\", \"BGR\", \"BFA\", \"KHM\", \"CMR\", \"CAN\", \"TCD\", \"CHL\", \"COL\", \"COM\", \"CRI\", \"HRV\", \"CYP\", \"DNK\", \"DOM\", \"ECU\", \"SLV\", \"EST\", \"FIN\", \"FRA\", \"GAB\", \"GEO\", \"DEU\", \"GHA\", \"GRC\", \"GTM\", \"GIN\", \"HND\", \"HUN\", \"IND\", \"IDN\", \"IRL\", \"ISR\", \"ITA\", \"JAM\", \"JPN\", \"KAZ\", \"KEN\", \"KGZ\", \"LAO\", \"LVA\", \"LBN\", \"LSO\", \"LTU\", \"LUX\", \"MDG\", \"MWI\", \"MYS\", \"MLI\", \"MRT\", \"MUS\", \"MEX\", \"MDA\", \"MNG\", \"MNE\", \"MAR\", \"MOZ\", \"NPL\", \"NLD\", \"NZL\", \"NIC\", \"NER\", \"PAK\", \"PAN\", \"PRY\", \"PER\", \"PHL\", \"POL\", \"PRT\", \"ROU\", \"RUS\", \"RWA\", \"SEN\", \"SRB\", \"SLE\", \"SGP\", \"SVK\", \"SVN\", \"ZAF\", \"ESP\", \"LKA\", \"SWZ\", \"SWE\", \"TZA\", \"THA\", \"TGO\", \"TUN\", \"TUR\", \"UGA\", \"UKR\", \"GBR\", \"USA\", \"URY\", \"UZB\", \"VNM\", \"ZMB\", \"ZWE\"], \"marker\": {\"line\": {\"color\": \"white\", \"width\": 1}}, \"type\": \"choropleth\", \"visible\": false, \"z\": [0.9245057277769632, 3.479303665576225, 2.2270255651958037, 2.252514178202432, 2.81517184930872, 2.2129991792333588, 2.4601651016312336, 3.39409755315101, 6.020949254227296, 5.597965009495793, 1.8048488611740618, 5.232784233660851, 4.1734616350225275, 2.037759445434223, 11.028312472596076, 2.841254288441762, 1.8237034841750364, 8.28025419671734, 5.298911133298724, 9.85626111265553, 1.9900531084299746, 7.221494333385406, 1.3904969173555572, 3.155342671163133, 4.5074509661993005, 2.2889820303204576, 4.117651546702666, 1.874828499017087, 2.945332937927175, 3.2489877227757695, 2.7479151619520175, 3.1055899885286604, 2.7479151619520175, 1.9252556938029315, 2.2099425972376325, 8.5075725660557, -0.8633943159482105, 2.141443464609145, 5.726870334251648, 1.4533272093473522, 4.226704176024768, 10.513736859727917, 2.556299869097609, 3.4063226748823423, 4.8526849220753885, 2.7713631388603317, 1.1173227217972126, 1.4352759159090356, 1.3179664499348716, 1.932948891122482, 1.5139160129309877, 7.378121932598974, 8.276844944672261, 4.681406122700679, 4.973355728249094, 3.453589026658182, 3.553921167596577, 6.471357621016763, 4.94591148156717, 1.0016711856077432, 5.83422039857411, 13.380010332770404, 2.1897730614858872, 7.054968334334601, 4.52389557833302, 3.0911902539963525, 2.8794213559658304, 6.621223770009285, 3.3057851239669422, 2.1409378029681134, 3.7617519433879787, 14.238412896455758, 8.754203391689638, 1.2304319408798703, 1.7748179846783736, 3.164944906299614, 8.173080890841884, 4.395610488159563, 1.7518203623973538, 1.9808089212199522, 2.8880837424703056, 1.9736854901274317, 3.32048309245399, 2.2535189776353435, 3.1794587118194975, 5.340278210811282, 8.588527093145617, 6.082034199407629, 3.3755241759598653, 18.231051188383212, 2.7725965397612797, 3.221951078784309, 2.8818443170411316, 10.57132246053167, 2.300740047124208, 1.8126958201749321, 25.63719374228861, 1.0002689048766753, 9.351430993321546, 2.556299869097609, 6.8243437729913525, 2.941173720662243, 3.9603923000712657, 9.527522719865681, 3.84000244140625, 1.5690708737431354, -0.6988983034372821, 1.4088627723388203, 3.154574056569432, 2.1602081201658185, 9.756095730893067, 16.79135912386898], \"zmid\": 0}, {\"autocolorscale\": false, \"colorbar\": {\"title\": {\"text\": \"Life Choices % Change\"}}, \"colorscale\": [[0.0, \"rgb(165,0,38)\"], [0.1, \"rgb(215,48,39)\"], [0.2, \"rgb(244,109,67)\"], [0.3, \"rgb(253,174,97)\"], [0.4, \"rgb(254,224,139)\"], [0.5, \"rgb(255,255,191)\"], [0.6, \"rgb(217,239,139)\"], [0.7, \"rgb(166,217,106)\"], [0.8, \"rgb(102,189,99)\"], [0.9, \"rgb(26,152,80)\"], [1.0, \"rgb(0,104,55)\"]], \"locations\": [\"AFG\", \"ALB\", \"DZA\", \"ARG\", \"ARM\", \"AUS\", \"AUT\", \"AZE\", \"BGD\", \"BLR\", \"BEL\", \"BEN\", \"BOL\", \"BIH\", \"BWA\", \"BRA\", \"BGR\", \"BFA\", \"KHM\", \"CMR\", \"CAN\", \"TCD\", \"CHL\", \"COL\", \"COM\", \"CRI\", \"HRV\", \"CYP\", \"DNK\", \"DOM\", \"ECU\", \"SLV\", \"EST\", \"FIN\", \"FRA\", \"GAB\", \"GEO\", \"DEU\", \"GHA\", \"GRC\", \"GTM\", \"GIN\", \"HND\", \"HUN\", \"IND\", \"IDN\", \"IRL\", \"ISR\", \"ITA\", \"JAM\", \"JPN\", \"KAZ\", \"KEN\", \"KGZ\", \"LAO\", \"LVA\", \"LBN\", \"LSO\", \"LTU\", \"LUX\", \"MDG\", \"MWI\", \"MYS\", \"MLI\", \"MRT\", \"MUS\", \"MEX\", \"MDA\", \"MNG\", \"MNE\", \"MAR\", \"MOZ\", \"NPL\", \"NLD\", \"NZL\", \"NIC\", \"NER\", \"PAK\", \"PAN\", \"PRY\", \"PER\", \"PHL\", \"POL\", \"PRT\", \"ROU\", \"RUS\", \"RWA\", \"SEN\", \"SRB\", \"SLE\", \"SGP\", \"SVK\", \"SVN\", \"ZAF\", \"ESP\", \"LKA\", \"SWZ\", \"SWE\", \"TZA\", \"THA\", \"TGO\", \"TUN\", \"TUR\", \"UGA\", \"UKR\", \"GBR\", \"USA\", \"URY\", \"UZB\", \"VNM\", \"ZMB\", \"ZWE\"], \"marker\": {\"line\": {\"color\": \"white\", \"width\": 1}}, \"type\": \"choropleth\", \"visible\": false, \"z\": [-20.618058389308935, 59.45792980169535, -27.282554326807706, 0.153292710022374, 81.76085848704771, -2.8636385062127343, -3.824744418891339, 58.93460375337261, 7.630269056717122, 0.14065918010807887, -11.810434505012587, -0.33105261838799915, 12.746649480350051, 116.4827597183072, 2.465014696600371, -0.41380844837883135, 23.87269091121743, -6.4896042707935555, 3.1631266284697332, -12.8804085405122, -4.143299569966652, -0.5593990065523766, -5.930547597693437, 1.3063507362749047, 7.722568993120891, 0.07821089614485029, 43.016875854046155, -0.725831805375788, 3.0551424492495634, 3.4707290851369597, 5.2350238080385925, 17.416517597833053, 20.575863789604163, 1.1926232307217677, -8.426899829684356, -4.602064485320384, 28.15487408625431, -2.376903295070239, -7.565290084006615, 16.18139778610263, 18.04978392467046, -13.2313176113597, 8.019332632921932, 26.452368285423745, 4.535679986563985, -1.4150320450045721, -6.257723437666497, 15.537512295064717, 24.965800776267262, 11.94767376526238, -0.9731027741823812, -2.9047729038318724, 15.395033260079966, 23.08449512455779, 2.781157190335629, 23.64553773322512, -31.974223563891403, 15.859647417923068, 37.90566091999128, -3.2759941505283376, 0.7294624744234179, 4.2811085564229465, 8.974687787389728, -18.526214819865018, 10.686682206708348, 5.301163079141523, 8.66239146684531, 24.782825829589672, 1.4749123201647407, 27.11704400645075, 30.714746223712392, 36.07649156186466, 50.60045585034443, -4.3049136731446564, -2.431227757105117, 13.368688751618171, 6.651136373368111, 82.18050571289119, 6.507525454886383, 31.566241462870774, 5.441075506799089, 3.0312617412553915, 1.6975003710919825, 0.8294590439186638, 30.310628597779786, 14.207693728940434, 4.820417747777523, 18.4043123576184, 70.84581924157851, -6.7514615655816455, 14.142505796795572, 6.045194447470457, 4.1864562596243955, -11.623643062757786, -4.969659656506088, 0.1993687236728188, -1.7252205095260271, 0.042478141997075614, 15.502375179575886, -3.0896311545540955, 5.7065776433111655, 9.319494055383991, 41.623512129885896, -3.9015511012491157, 23.613219810350973, -5.082927533716533, -3.13522876775127, 6.017703129455123, 3.871167356404158, 16.381241038685495, 22.35644643239471, -0.16910228701473726], \"zmid\": 0}, {\"autocolorscale\": false, \"colorbar\": {\"title\": {\"text\": \"Generosity % Change\"}}, \"colorscale\": [[0.0, \"rgb(165,0,38)\"], [0.1, \"rgb(215,48,39)\"], [0.2, \"rgb(244,109,67)\"], [0.3, \"rgb(253,174,97)\"], [0.4, \"rgb(254,224,139)\"], [0.5, \"rgb(255,255,191)\"], [0.6, \"rgb(217,239,139)\"], [0.7, \"rgb(166,217,106)\"], [0.8, \"rgb(102,189,99)\"], [0.9, \"rgb(26,152,80)\"], [1.0, \"rgb(0,104,55)\"]], \"locations\": [\"AFG\", \"ALB\", \"DZA\", \"ARG\", \"ARM\", \"AUS\", \"AUT\", \"AZE\", \"BGD\", \"BLR\", \"BEL\", \"BEN\", \"BOL\", \"BIH\", \"BWA\", \"BRA\", \"BGR\", \"BFA\", \"KHM\", \"CMR\", \"CAN\", \"TCD\", \"CHL\", \"COL\", \"COM\", \"CRI\", \"HRV\", \"CYP\", \"DNK\", \"DOM\", \"ECU\", \"SLV\", \"EST\", \"FIN\", \"FRA\", \"GAB\", \"GEO\", \"DEU\", \"GHA\", \"GRC\", \"GTM\", \"GIN\", \"HND\", \"HUN\", \"IND\", \"IDN\", \"IRL\", \"ISR\", \"ITA\", \"JAM\", \"JPN\", \"KAZ\", \"KEN\", \"KGZ\", \"LAO\", \"LVA\", \"LBN\", \"LSO\", \"LTU\", \"LUX\", \"MDG\", \"MWI\", \"MYS\", \"MLI\", \"MRT\", \"MUS\", \"MEX\", \"MDA\", \"MNG\", \"MNE\", \"MAR\", \"MOZ\", \"NPL\", \"NLD\", \"NZL\", \"NIC\", \"NER\", \"PAK\", \"PAN\", \"PRY\", \"PER\", \"PHL\", \"POL\", \"PRT\", \"ROU\", \"RUS\", \"RWA\", \"SEN\", \"SRB\", \"SLE\", \"SGP\", \"SVK\", \"SVN\", \"ZAF\", \"ESP\", \"LKA\", \"SWZ\", \"SWE\", \"TZA\", \"THA\", \"TGO\", \"TUN\", \"TUR\", \"UGA\", \"UKR\", \"GBR\", \"USA\", \"URY\", \"UZB\", \"VNM\", \"ZMB\", \"ZWE\"], \"marker\": {\"line\": {\"color\": \"white\", \"width\": 1}}, \"type\": \"choropleth\", \"visible\": false, \"z\": [-166.7737170014396, -51.483099099225086, -102.81561466778031, 21.10725636044565, -23.55440338696504, -67.3250873618101, -54.637954026177724, 104.88380314819197, -25.771678053144875, 10.718653264715742, 1111.8608400152896, -88.66054858977849, 118.53509307979037, -329.5886250734858, -4.400903832765905, -14.32740632478606, -52.338426875989576, -96.0887653136547, -96.84046262602914, -72.7975823116749, -55.91929759378711, 79.74191245505297, -192.0349658711361, 134.23660780595176, -203.21377487947547, 342.3221938427123, -30.47973015461551, -104.26579135518269, -93.16920974913778, -979.3632513190229, -25.939555026601013, -13.857415390080014, -43.06799388384463, -150.7693216885456, 29.98765306307236, -4.191692537591413, 1.9078223980835596, 73.37356127078264, 999.6979885155438, -8.77288732344623, -801.4161203824999, 138.12716740125884, -34.32194746629148, 118.90295340289563, -395.97413427285784, 26.808832418070367, -80.8024721870985, -39.349056812343385, 357.92494845067574, 114.93383973053126, 391.6520852792667, -76.6279096339751, 1322.3090311821031, -98.47279710787132, -86.68063142715286, 8000.549154799427, -1494.3708530782915, 50.182517744530706, 70.01641308920694, -142.55902708478715, -79.88918538447345, -96.35563771158323, -858.9973767765338, -62.45074520500926, -296.1692173194953, -127.56480319114445, 41.733342786934664, 13.128400737482243, -1.3618481171134305, -53.6143429038773, 12.010172147556531, -400.58367811649225, -1823.2637619015168, -36.68327036694524, -44.87018214331011, -249.3830033373798, -146.89486883941484, 316.936259490502, -2319.5946297611213, -85.25652149143667, 5.185035645322966, -213.83569691392515, 244.98263138645106, 35.12760856666609, 58.39335598757488, -58.551275287494406, -265.6673896700554, -88.28095906343465, -78.39710841201763, 1537.6363882565977, -118.31506790551649, -1381.3295337528484, 305.0764725120984, -13.145478041842276, -60.051441936499096, -64.6636833252564, 185.8244188618319, -43.62566276965661, -317.5045107833044, -22.823097221858117, -192.76976863498655, 5.102822868335605, -43.944802399477815, 340.63975529628334, -64.40581784605409, -19.48708675322206, -10.197337854878649, 19.10648836075902, 623.0966324647774, -219.56157961512966, 2665.1240247775286, -27.40816947020551], \"zmid\": 0}, {\"autocolorscale\": false, \"colorbar\": {\"title\": {\"text\": \"Perceptions of corruption % Change\"}}, \"colorscale\": [[0.0, \"rgb(165,0,38)\"], [0.1, \"rgb(215,48,39)\"], [0.2, \"rgb(244,109,67)\"], [0.3, \"rgb(253,174,97)\"], [0.4, \"rgb(254,224,139)\"], [0.5, \"rgb(255,255,191)\"], [0.6, \"rgb(217,239,139)\"], [0.7, \"rgb(166,217,106)\"], [0.8, \"rgb(102,189,99)\"], [0.9, \"rgb(26,152,80)\"], [1.0, \"rgb(0,104,55)\"]], \"locations\": [\"AFG\", \"ALB\", \"DZA\", \"ARG\", \"ARM\", \"AUS\", \"AUT\", \"AZE\", \"BGD\", \"BLR\", \"BEL\", \"BEN\", \"BOL\", \"BIH\", \"BWA\", \"BRA\", \"BGR\", \"BFA\", \"KHM\", \"CMR\", \"CAN\", \"TCD\", \"CHL\", \"COL\", \"COM\", \"CRI\", \"HRV\", \"CYP\", \"DNK\", \"DOM\", \"ECU\", \"SLV\", \"EST\", \"FIN\", \"FRA\", \"GAB\", \"GEO\", \"DEU\", \"GHA\", \"GRC\", \"GTM\", \"GIN\", \"HND\", \"HUN\", \"IND\", \"IDN\", \"IRL\", \"ISR\", \"ITA\", \"JAM\", \"JPN\", \"KAZ\", \"KEN\", \"KGZ\", \"LAO\", \"LVA\", \"LBN\", \"LSO\", \"LTU\", \"LUX\", \"MDG\", \"MWI\", \"MYS\", \"MLI\", \"MRT\", \"MUS\", \"MEX\", \"MDA\", \"MNG\", \"MNE\", \"MAR\", \"MOZ\", \"NPL\", \"NLD\", \"NZL\", \"NIC\", \"NER\", \"PAK\", \"PAN\", \"PRY\", \"PER\", \"PHL\", \"POL\", \"PRT\", \"ROU\", \"RUS\", \"RWA\", \"SEN\", \"SRB\", \"SLE\", \"SGP\", \"SVK\", \"SVN\", \"ZAF\", \"ESP\", \"LKA\", \"SWZ\", \"SWE\", \"TZA\", \"THA\", \"TGO\", \"TUN\", \"TUR\", \"UGA\", \"UKR\", \"GBR\", \"USA\", \"URY\", \"UZB\", \"VNM\", \"ZMB\", \"ZWE\"], \"marker\": {\"line\": {\"color\": \"white\", \"width\": 1}}, \"type\": \"choropleth\", \"visible\": false, \"z\": [26.362783004616187, 4.2510355341858475, 16.086308139089475, 10.046312831662066, -33.28698179082242, 12.687400459667323, -34.95442887360512, -42.49154640325209, -13.341834904845888, -18.756757140348046, -5.421097584886738, -17.790487769982963, 3.9238561781442978, 4.122438569858785, -2.9502806096049863, 15.052684621210636, -0.5456022571805879, 3.1972635771858737, 6.847031385862683, -6.030872401339846, 0.7951387538600095, -5.0320615579736705, 14.312223269007507, 0.7527291788062969, 4.200086435916665, -0.11414596291214488, -4.623658597621971, 2.928324030319739, -20.856139779659035, -5.409339479399185, 19.655101402433917, -3.53495350805539, -16.166619887901067, -38.87903953162732, -9.31215260322562, -0.5379074710040384, 83.16959249980897, -31.737421929620496, 8.377760962126706, -9.897302196420386, -10.481727209929584, 1.6588115371164396, -7.805782714081125, -5.993839827915967, -17.164047492857634, -10.54875277716199, -36.80359847114688, -16.653020990801124, -7.277530324612748, -2.616401391043189, -15.891426146672142, -11.655504917959659, -13.904720338899837, -5.142865288014735, 5.603703083138828, -15.523387210377711, -2.2123988228852927, 19.184639728684278, -18.786532148414327, 0.36783549960368045, -19.74333264920776, -20.251748531256105, -7.077876746055986, 16.56572648567186, -0.5418887928999616, -4.317697381985273, 15.906039362396776, -7.6122181737886425, -6.227930119938526, 7.557069123727891, -13.523087563767398, -5.128075208972321, -23.831576737291492, 0.18704197788848048, -13.180466298161095, -18.186404707327537, 32.737923753329525, -9.470564535812187, 3.4707126169683793, 16.63883660102377, 6.062774603158522, -4.406987634121524, -23.337742203960026, -4.866178194367562, -1.028159415099007, -9.349000900956314, 4.023068218070222, -8.532136198277161, -16.76452539159048, 2.248275301248219, -29.623462097102486, 2.0630251810957967, -12.057767934289085, 0.07833468863161828, -13.625062694449722, 13.552741673956856, -21.122083880832832, -6.861904401450776, -27.815921695140204, -4.99957000777085, -11.457717603459633, -2.6025281608835824, 17.244314022915113, -0.5434486034777494, -5.096895907575326, 10.854086782623643, 1.4047069935755254, 7.750255519943307, -2.0436889583368787, 6.161408599157396, -5.689939025749833, 0.10260929290381138], \"zmid\": 0}, {\"autocolorscale\": false, \"colorbar\": {\"title\": {\"text\": \"Positive Affect % Change\"}}, \"colorscale\": [[0.0, \"rgb(165,0,38)\"], [0.1, \"rgb(215,48,39)\"], [0.2, \"rgb(244,109,67)\"], [0.3, \"rgb(253,174,97)\"], [0.4, \"rgb(254,224,139)\"], [0.5, \"rgb(255,255,191)\"], [0.6, \"rgb(217,239,139)\"], [0.7, \"rgb(166,217,106)\"], [0.8, \"rgb(102,189,99)\"], [0.9, \"rgb(26,152,80)\"], [1.0, \"rgb(0,104,55)\"]], \"locations\": [\"AFG\", \"ALB\", \"DZA\", \"ARG\", \"ARM\", \"AUS\", \"AUT\", \"AZE\", \"BGD\", \"BLR\", \"BEL\", \"BEN\", \"BOL\", \"BIH\", \"BWA\", \"BRA\", \"BGR\", \"BFA\", \"KHM\", \"CMR\", \"CAN\", \"TCD\", \"CHL\", \"COL\", \"COM\", \"CRI\", \"HRV\", \"CYP\", \"DNK\", \"DOM\", \"ECU\", \"SLV\", \"EST\", \"FIN\", \"FRA\", \"GAB\", \"GEO\", \"DEU\", \"GHA\", \"GRC\", \"GTM\", \"GIN\", \"HND\", \"HUN\", \"IND\", \"IDN\", \"IRL\", \"ISR\", \"ITA\", \"JAM\", \"JPN\", \"KAZ\", \"KEN\", \"KGZ\", \"LAO\", \"LVA\", \"LBN\", \"LSO\", \"LTU\", \"LUX\", \"MDG\", \"MWI\", \"MYS\", \"MLI\", \"MRT\", \"MUS\", \"MEX\", \"MDA\", \"MNG\", \"MNE\", \"MAR\", \"MOZ\", \"NPL\", \"NLD\", \"NZL\", \"NIC\", \"NER\", \"PAK\", \"PAN\", \"PRY\", \"PER\", \"PHL\", \"POL\", \"PRT\", \"ROU\", \"RUS\", \"RWA\", \"SEN\", \"SRB\", \"SLE\", \"SGP\", \"SVK\", \"SVN\", \"ZAF\", \"ESP\", \"LKA\", \"SWZ\", \"SWE\", \"TZA\", \"THA\", \"TGO\", \"TUN\", \"TUR\", \"UGA\", \"UKR\", \"GBR\", \"USA\", \"URY\", \"UZB\", \"VNM\", \"ZMB\", \"ZWE\"], \"marker\": {\"line\": {\"color\": \"white\", \"width\": 1}}, \"type\": \"choropleth\", \"visible\": false, \"z\": [-42.52627645449709, 8.511158575914099, 6.314196878932791, -1.6764837251346614, 26.064403751147537, -5.61575567962978, -1.9014772456246727, 19.92187830253452, -21.570809647163447, 13.43103775580928, -12.113067226308578, 5.265631190759197, -1.232689819299404, 6.193408728697683, -3.722132880176071, -5.773789241759533, 24.18551992994916, 19.408229555929577, 5.6457383635838205, 5.2899421168622025, -6.687405796803503, -0.7120839915645621, 0.6062926107142544, -1.0972543448200136, 10.440977933801852, -3.1174089840462993, -7.835929658316969, -0.05205330120567756, 12.021664895033648, -3.044199892101024, -5.877908908303957, -0.5427737427677777, 23.472058467604494, -2.294320007224019, -5.847070430345239, 17.133050667404174, 17.394991396508942, -5.42507947498819, -8.306114144575053, 12.875467138581035, 1.7666186508668358, -2.269990122746297, 4.200545530328318, 15.713722130273306, -0.06402168166621162, 1.4932853118681173, -6.7276937907182655, -14.001033438613108, -4.148651510140799, -10.02915441500242, -4.237758866558289, 13.233430313043163, -1.1748368728501863, 12.372844826078103, -2.4041314368390867, 2.12269808683105, -44.34536702631249, -7.384404959905037, -0.6161784815073197, -5.651470066582363, 41.83876603522357, -24.701455723476013, -5.989845956274106, -6.165048967246195, -9.209458606433572, 9.45290988131043, 9.413490406397813, 11.103884470399244, 2.2070733887897522, -1.9355069018520175, -19.95140276116256, -0.799217495795248, -23.397569484537417, -2.830885304461889, -5.543391943590645, 5.558429977941005, 16.477170958311003, -7.44004562725657, -0.8733396010814423, 5.912614394339011, 5.162835123173017, -8.28859570382953, -0.027552442495677724, -2.1082157291334354, 28.506710900815374, 14.967003471127791, 10.60809066065587, 4.932923656865861, -6.669117227655002, 15.157174775505194, 49.68237886071736, 17.876106708424103, 4.170847550166942, 4.915971155294972, -10.031143163153244, -1.0413063211858433, -5.238274540976841, 1.439059967039546, -5.011080113214004, -9.792718115353164, 22.892596476122243, -8.294479657577831, -32.0405567304567, 2.1924905706110662, 7.417956436316839, -8.205450085955809, -2.5557594258412215, 10.383172563612305, 7.324456777999567, 41.30431175103189, -10.778366994515348, -8.344356126455192], \"zmid\": 0}, {\"autocolorscale\": false, \"colorbar\": {\"title\": {\"text\": \"Negative Affect % Change\"}}, \"colorscale\": [[0.0, \"rgb(165,0,38)\"], [0.1, \"rgb(215,48,39)\"], [0.2, \"rgb(244,109,67)\"], [0.3, \"rgb(253,174,97)\"], [0.4, \"rgb(254,224,139)\"], [0.5, \"rgb(255,255,191)\"], [0.6, \"rgb(217,239,139)\"], [0.7, \"rgb(166,217,106)\"], [0.8, \"rgb(102,189,99)\"], [0.9, \"rgb(26,152,80)\"], [1.0, \"rgb(0,104,55)\"]], \"locations\": [\"AFG\", \"ALB\", \"DZA\", \"ARG\", \"ARM\", \"AUS\", \"AUT\", \"AZE\", \"BGD\", \"BLR\", \"BEL\", \"BEN\", \"BOL\", \"BIH\", \"BWA\", \"BRA\", \"BGR\", \"BFA\", \"KHM\", \"CMR\", \"CAN\", \"TCD\", \"CHL\", \"COL\", \"COM\", \"CRI\", \"HRV\", \"CYP\", \"DNK\", \"DOM\", \"ECU\", \"SLV\", \"EST\", \"FIN\", \"FRA\", \"GAB\", \"GEO\", \"DEU\", \"GHA\", \"GRC\", \"GTM\", \"GIN\", \"HND\", \"HUN\", \"IND\", \"IDN\", \"IRL\", \"ISR\", \"ITA\", \"JAM\", \"JPN\", \"KAZ\", \"KEN\", \"KGZ\", \"LAO\", \"LVA\", \"LBN\", \"LSO\", \"LTU\", \"LUX\", \"MDG\", \"MWI\", \"MYS\", \"MLI\", \"MRT\", \"MUS\", \"MEX\", \"MDA\", \"MNG\", \"MNE\", \"MAR\", \"MOZ\", \"NPL\", \"NLD\", \"NZL\", \"NIC\", \"NER\", \"PAK\", \"PAN\", \"PRY\", \"PER\", \"PHL\", \"POL\", \"PRT\", \"ROU\", \"RUS\", \"RWA\", \"SEN\", \"SRB\", \"SLE\", \"SGP\", \"SVK\", \"SVN\", \"ZAF\", \"ESP\", \"LKA\", \"SWZ\", \"SWE\", \"TZA\", \"THA\", \"TGO\", \"TUN\", \"TUR\", \"UGA\", \"UKR\", \"GBR\", \"USA\", \"URY\", \"UZB\", \"VNM\", \"ZMB\", \"ZWE\"], \"marker\": {\"line\": {\"color\": \"white\", \"width\": 1}}, \"type\": \"choropleth\", \"visible\": false, \"z\": [88.06935273642357, 6.723478237840823, -15.574502578770833, 37.60955339542259, -6.232257009069739, 3.5153933300020217, 41.26493950225548, -36.49389560996561, 57.234289517686975, -23.90567090871165, 8.25325523725745, 101.84830759080774, 16.00137912362333, -26.913360054668672, 70.68280965065046, 25.989094117019285, -26.221697499388675, 78.16879542984907, 26.54300784706514, 20.141126345101906, 14.978120925324227, 59.11010821729543, 6.427628237684104, 12.535868243109801, 93.95168812991606, 12.666727107024487, -1.4012718131279491, 6.583050759900176, 3.5379263775191765, -11.934783012755174, 38.00340226567421, -19.281098455854714, -23.825204465821308, -11.94013184318798, -10.882493938667588, 56.4512111736163, -1.2401812193521167, 36.90789928843146, 29.026678163324814, -26.904217702751588, 7.406522034680367, 81.97926109977739, -9.298077912853467, -40.77617682005868, 101.35868881587832, 10.34568229579958, 17.335140697795417, -30.842927216915548, 23.493855502553533, -17.656807761560632, 7.376144064731223, -9.907825141701151, 9.963759009999036, 36.95128275375252, 35.89591183703016, -4.547553915532322, 54.45032557409586, 60.829150368742766, 0.5161971239500317, 5.747668759768954, 29.440389417919583, 29.68161581276567, 13.686345568660668, 171.4012850238171, 48.53864508805369, -40.84757483367672, 10.734563388934738, -8.148228598644888, 8.93334947606621, -3.216407639520849, 119.02982163075448, 57.805021311111624, 72.21359243394332, 27.0781863659437, -9.028459670433834, 9.059045606445627, 83.22607295355984, 18.568787110699716, 35.58495378674923, 44.635042881907275, 13.3156217986964, -4.955504407308458, -24.896332471129487, 7.4046582206383205, -17.252616013983115, 21.294891299544673, 170.78737602286, 84.37559466376723, -40.980549579423666, 46.275162236064794, -3.870927983164664, -12.387637114372712, -20.146604549800696, 16.611838102374154, -11.39653111174065, 79.81397946390253, 11.368806144952833, 12.753264952607097, 67.49070712500634, 78.4289224416535, 12.26905915860556, 74.62480225852005, -3.0795513961018552, 51.37435200303173, -8.429869627581128, 44.33714718344833, -10.807308487319554, -12.099049551240313, 78.98486771578092, -3.663752082881374, 93.25982861946312, 11.783932004880333], \"zmid\": 0}],                        {\"autosize\": false, \"geo\": {\"projection\": {\"type\": \"equirectangular\"}, \"showcoastlines\": false, \"showframe\": false}, \"height\": 600, \"template\": {\"data\": {\"bar\": [{\"error_x\": {\"color\": \"#2a3f5f\"}, \"error_y\": {\"color\": \"#2a3f5f\"}, \"marker\": {\"line\": {\"color\": \"#E5ECF6\", \"width\": 0.5}}, \"type\": \"bar\"}], \"barpolar\": [{\"marker\": {\"line\": {\"color\": \"#E5ECF6\", \"width\": 0.5}}, \"type\": \"barpolar\"}], \"carpet\": [{\"aaxis\": {\"endlinecolor\": \"#2a3f5f\", \"gridcolor\": \"white\", \"linecolor\": \"white\", \"minorgridcolor\": \"white\", \"startlinecolor\": \"#2a3f5f\"}, \"baxis\": {\"endlinecolor\": \"#2a3f5f\", \"gridcolor\": \"white\", \"linecolor\": \"white\", \"minorgridcolor\": \"white\", \"startlinecolor\": \"#2a3f5f\"}, \"type\": \"carpet\"}], \"choropleth\": [{\"colorbar\": {\"outlinewidth\": 0, \"ticks\": \"\"}, \"type\": \"choropleth\"}], \"contour\": [{\"colorbar\": {\"outlinewidth\": 0, \"ticks\": \"\"}, \"colorscale\": [[0.0, \"#0d0887\"], [0.1111111111111111, \"#46039f\"], [0.2222222222222222, \"#7201a8\"], [0.3333333333333333, \"#9c179e\"], [0.4444444444444444, \"#bd3786\"], [0.5555555555555556, \"#d8576b\"], [0.6666666666666666, \"#ed7953\"], [0.7777777777777778, \"#fb9f3a\"], [0.8888888888888888, \"#fdca26\"], [1.0, \"#f0f921\"]], \"type\": \"contour\"}], \"contourcarpet\": [{\"colorbar\": {\"outlinewidth\": 0, \"ticks\": \"\"}, \"type\": \"contourcarpet\"}], \"heatmap\": [{\"colorbar\": {\"outlinewidth\": 0, \"ticks\": \"\"}, \"colorscale\": [[0.0, \"#0d0887\"], [0.1111111111111111, \"#46039f\"], [0.2222222222222222, \"#7201a8\"], [0.3333333333333333, \"#9c179e\"], [0.4444444444444444, \"#bd3786\"], [0.5555555555555556, \"#d8576b\"], [0.6666666666666666, \"#ed7953\"], [0.7777777777777778, \"#fb9f3a\"], [0.8888888888888888, \"#fdca26\"], [1.0, \"#f0f921\"]], \"type\": \"heatmap\"}], \"heatmapgl\": [{\"colorbar\": {\"outlinewidth\": 0, \"ticks\": \"\"}, \"colorscale\": [[0.0, \"#0d0887\"], [0.1111111111111111, \"#46039f\"], [0.2222222222222222, \"#7201a8\"], [0.3333333333333333, \"#9c179e\"], [0.4444444444444444, \"#bd3786\"], [0.5555555555555556, \"#d8576b\"], [0.6666666666666666, \"#ed7953\"], [0.7777777777777778, \"#fb9f3a\"], [0.8888888888888888, \"#fdca26\"], [1.0, \"#f0f921\"]], \"type\": \"heatmapgl\"}], \"histogram\": [{\"marker\": {\"colorbar\": {\"outlinewidth\": 0, \"ticks\": \"\"}}, \"type\": \"histogram\"}], \"histogram2d\": [{\"colorbar\": {\"outlinewidth\": 0, \"ticks\": \"\"}, \"colorscale\": [[0.0, \"#0d0887\"], [0.1111111111111111, \"#46039f\"], [0.2222222222222222, \"#7201a8\"], [0.3333333333333333, \"#9c179e\"], [0.4444444444444444, \"#bd3786\"], [0.5555555555555556, \"#d8576b\"], [0.6666666666666666, \"#ed7953\"], [0.7777777777777778, \"#fb9f3a\"], [0.8888888888888888, \"#fdca26\"], [1.0, \"#f0f921\"]], \"type\": \"histogram2d\"}], \"histogram2dcontour\": [{\"colorbar\": {\"outlinewidth\": 0, \"ticks\": \"\"}, \"colorscale\": [[0.0, \"#0d0887\"], [0.1111111111111111, \"#46039f\"], [0.2222222222222222, \"#7201a8\"], [0.3333333333333333, \"#9c179e\"], [0.4444444444444444, \"#bd3786\"], [0.5555555555555556, \"#d8576b\"], [0.6666666666666666, \"#ed7953\"], [0.7777777777777778, \"#fb9f3a\"], [0.8888888888888888, \"#fdca26\"], [1.0, \"#f0f921\"]], \"type\": \"histogram2dcontour\"}], \"mesh3d\": [{\"colorbar\": {\"outlinewidth\": 0, \"ticks\": \"\"}, \"type\": \"mesh3d\"}], \"parcoords\": [{\"line\": {\"colorbar\": {\"outlinewidth\": 0, \"ticks\": \"\"}}, \"type\": \"parcoords\"}], \"pie\": [{\"automargin\": true, \"type\": \"pie\"}], \"scatter\": [{\"marker\": {\"colorbar\": {\"outlinewidth\": 0, \"ticks\": \"\"}}, \"type\": \"scatter\"}], \"scatter3d\": [{\"line\": {\"colorbar\": {\"outlinewidth\": 0, \"ticks\": \"\"}}, \"marker\": {\"colorbar\": {\"outlinewidth\": 0, \"ticks\": \"\"}}, \"type\": \"scatter3d\"}], \"scattercarpet\": [{\"marker\": {\"colorbar\": {\"outlinewidth\": 0, \"ticks\": \"\"}}, \"type\": \"scattercarpet\"}], \"scattergeo\": [{\"marker\": {\"colorbar\": {\"outlinewidth\": 0, \"ticks\": \"\"}}, \"type\": \"scattergeo\"}], \"scattergl\": [{\"marker\": {\"colorbar\": {\"outlinewidth\": 0, \"ticks\": \"\"}}, \"type\": \"scattergl\"}], \"scattermapbox\": [{\"marker\": {\"colorbar\": {\"outlinewidth\": 0, \"ticks\": \"\"}}, \"type\": \"scattermapbox\"}], \"scatterpolar\": [{\"marker\": {\"colorbar\": {\"outlinewidth\": 0, \"ticks\": \"\"}}, \"type\": \"scatterpolar\"}], \"scatterpolargl\": [{\"marker\": {\"colorbar\": {\"outlinewidth\": 0, \"ticks\": \"\"}}, \"type\": \"scatterpolargl\"}], \"scatterternary\": [{\"marker\": {\"colorbar\": {\"outlinewidth\": 0, \"ticks\": \"\"}}, \"type\": \"scatterternary\"}], \"surface\": [{\"colorbar\": {\"outlinewidth\": 0, \"ticks\": \"\"}, \"colorscale\": [[0.0, \"#0d0887\"], [0.1111111111111111, \"#46039f\"], [0.2222222222222222, \"#7201a8\"], [0.3333333333333333, \"#9c179e\"], [0.4444444444444444, \"#bd3786\"], [0.5555555555555556, \"#d8576b\"], [0.6666666666666666, \"#ed7953\"], [0.7777777777777778, \"#fb9f3a\"], [0.8888888888888888, \"#fdca26\"], [1.0, \"#f0f921\"]], \"type\": \"surface\"}], \"table\": [{\"cells\": {\"fill\": {\"color\": \"#EBF0F8\"}, \"line\": {\"color\": \"white\"}}, \"header\": {\"fill\": {\"color\": \"#C8D4E3\"}, \"line\": {\"color\": \"white\"}}, \"type\": \"table\"}]}, \"layout\": {\"annotationdefaults\": {\"arrowcolor\": \"#2a3f5f\", \"arrowhead\": 0, \"arrowwidth\": 1}, \"autotypenumbers\": \"strict\", \"coloraxis\": {\"colorbar\": {\"outlinewidth\": 0, \"ticks\": \"\"}}, \"colorscale\": {\"diverging\": [[0, \"#8e0152\"], [0.1, \"#c51b7d\"], [0.2, \"#de77ae\"], [0.3, \"#f1b6da\"], [0.4, \"#fde0ef\"], [0.5, \"#f7f7f7\"], [0.6, \"#e6f5d0\"], [0.7, \"#b8e186\"], [0.8, \"#7fbc41\"], [0.9, \"#4d9221\"], [1, \"#276419\"]], \"sequential\": [[0.0, \"#0d0887\"], [0.1111111111111111, \"#46039f\"], [0.2222222222222222, \"#7201a8\"], [0.3333333333333333, \"#9c179e\"], [0.4444444444444444, \"#bd3786\"], [0.5555555555555556, \"#d8576b\"], [0.6666666666666666, \"#ed7953\"], [0.7777777777777778, \"#fb9f3a\"], [0.8888888888888888, \"#fdca26\"], [1.0, \"#f0f921\"]], \"sequentialminus\": [[0.0, \"#0d0887\"], [0.1111111111111111, \"#46039f\"], [0.2222222222222222, \"#7201a8\"], [0.3333333333333333, \"#9c179e\"], [0.4444444444444444, \"#bd3786\"], [0.5555555555555556, \"#d8576b\"], [0.6666666666666666, \"#ed7953\"], [0.7777777777777778, \"#fb9f3a\"], [0.8888888888888888, \"#fdca26\"], [1.0, \"#f0f921\"]]}, \"colorway\": [\"#636efa\", \"#EF553B\", \"#00cc96\", \"#ab63fa\", \"#FFA15A\", \"#19d3f3\", \"#FF6692\", \"#B6E880\", \"#FF97FF\", \"#FECB52\"], \"font\": {\"color\": \"#2a3f5f\"}, \"geo\": {\"bgcolor\": \"white\", \"lakecolor\": \"white\", \"landcolor\": \"#E5ECF6\", \"showlakes\": true, \"showland\": true, \"subunitcolor\": \"white\"}, \"hoverlabel\": {\"align\": \"left\"}, \"hovermode\": \"closest\", \"mapbox\": {\"style\": \"light\"}, \"paper_bgcolor\": \"white\", \"plot_bgcolor\": \"#E5ECF6\", \"polar\": {\"angularaxis\": {\"gridcolor\": \"white\", \"linecolor\": \"white\", \"ticks\": \"\"}, \"bgcolor\": \"#E5ECF6\", \"radialaxis\": {\"gridcolor\": \"white\", \"linecolor\": \"white\", \"ticks\": \"\"}}, \"scene\": {\"xaxis\": {\"backgroundcolor\": \"#E5ECF6\", \"gridcolor\": \"white\", \"gridwidth\": 2, \"linecolor\": \"white\", \"showbackground\": true, \"ticks\": \"\", \"zerolinecolor\": \"white\"}, \"yaxis\": {\"backgroundcolor\": \"#E5ECF6\", \"gridcolor\": \"white\", \"gridwidth\": 2, \"linecolor\": \"white\", \"showbackground\": true, \"ticks\": \"\", \"zerolinecolor\": \"white\"}, \"zaxis\": {\"backgroundcolor\": \"#E5ECF6\", \"gridcolor\": \"white\", \"gridwidth\": 2, \"linecolor\": \"white\", \"showbackground\": true, \"ticks\": \"\", \"zerolinecolor\": \"white\"}}, \"shapedefaults\": {\"line\": {\"color\": \"#2a3f5f\"}}, \"ternary\": {\"aaxis\": {\"gridcolor\": \"white\", \"linecolor\": \"white\", \"ticks\": \"\"}, \"baxis\": {\"gridcolor\": \"white\", \"linecolor\": \"white\", \"ticks\": \"\"}, \"bgcolor\": \"#E5ECF6\", \"caxis\": {\"gridcolor\": \"white\", \"linecolor\": \"white\", \"ticks\": \"\"}}, \"title\": {\"x\": 0.05}, \"xaxis\": {\"automargin\": true, \"gridcolor\": \"white\", \"linecolor\": \"white\", \"ticks\": \"\", \"title\": {\"standoff\": 15}, \"zerolinecolor\": \"white\", \"zerolinewidth\": 2}, \"yaxis\": {\"automargin\": true, \"gridcolor\": \"white\", \"linecolor\": \"white\", \"ticks\": \"\", \"title\": {\"standoff\": 15}, \"zerolinecolor\": \"white\", \"zerolinewidth\": 2}}}, \"title\": {\"text\": \"World Happiness Report: 2011-2019 Percent Change\"}, \"updatemenus\": [{\"active\": 0, \"buttons\": [{\"args\": [{\"visible\": [true, false, false, false, false, false, false, false, false]}, {\"annotations\": [{\"bgcolor\": \"grey\", \"borderpad\": 4, \"borderwidth\": 9, \"font\": {\"color\": \"white\", \"size\": 10}, \"showarrow\": false, \"text\": \"Senegal has the highest improvement of ~ 43.152\", \"x\": 1.1, \"xref\": \"paper\", \"y\": 1.2, \"yref\": \"paper\"}, {\"bgcolor\": \"grey\", \"borderpad\": 4, \"borderwidth\": 9, \"font\": {\"color\": \"white\", \"size\": 10}, \"showarrow\": false, \"text\": \"Zimbabwe has the lowest improvement of ~ -44.413\", \"x\": 1.1, \"xref\": \"paper\", \"y\": 1.1, \"yref\": \"paper\"}]}], \"label\": \"Life Ladder %\", \"method\": \"update\"}, {\"args\": [{\"visible\": [false, true, false, false, false, false, false, false, false]}, {\"annotations\": [{\"bgcolor\": \"grey\", \"borderpad\": 4, \"borderwidth\": 9, \"font\": {\"color\": \"white\", \"size\": 10}, \"showarrow\": false, \"text\": \"Bangladesh has the highest improvement of ~ 5.597\", \"x\": 1.1, \"xref\": \"paper\", \"y\": 1.2, \"yref\": \"paper\"}, {\"bgcolor\": \"grey\", \"borderpad\": 4, \"borderwidth\": 9, \"font\": {\"color\": \"white\", \"size\": 10}, \"showarrow\": false, \"text\": \"Lebanon has the lowest improvement of ~ -2.449\", \"x\": 1.1, \"xref\": \"paper\", \"y\": 1.1, \"yref\": \"paper\"}]}], \"label\": \"Log GDP per capita %\", \"method\": \"update\"}, {\"args\": [{\"visible\": [false, false, true, false, false, false, false, false, false]}, {\"annotations\": [{\"bgcolor\": \"grey\", \"borderpad\": 4, \"borderwidth\": 9, \"font\": {\"color\": \"white\", \"size\": 10}, \"showarrow\": false, \"text\": \"Togo has the highest improvement of ~ 77.816\", \"x\": 1.1, \"xref\": \"paper\", \"y\": 1.2, \"yref\": \"paper\"}, {\"bgcolor\": \"grey\", \"borderpad\": 4, \"borderwidth\": 9, \"font\": {\"color\": \"white\", \"size\": 10}, \"showarrow\": false, \"text\": \"Morocco has the lowest improvement of ~ -35.828\", \"x\": 1.1, \"xref\": \"paper\", \"y\": 1.1, \"yref\": \"paper\"}]}], \"label\": \"Social Support %\", \"method\": \"update\"}, {\"args\": [{\"visible\": [false, false, false, true, false, false, false, false, false]}, {\"annotations\": [{\"bgcolor\": \"grey\", \"borderpad\": 4, \"borderwidth\": 9, \"font\": {\"color\": \"white\", \"size\": 10}, \"showarrow\": false, \"text\": \"Swaziland has the highest improvement of ~ 25.637\", \"x\": 1.1, \"xref\": \"paper\", \"y\": 1.2, \"yref\": \"paper\"}, {\"bgcolor\": \"grey\", \"borderpad\": 4, \"borderwidth\": 9, \"font\": {\"color\": \"white\", \"size\": 10}, \"showarrow\": false, \"text\": \"Georgia has the lowest improvement of ~ -0.863\", \"x\": 1.1, \"xref\": \"paper\", \"y\": 1.1, \"yref\": \"paper\"}]}], \"label\": \"Life Expectancy %\", \"method\": \"update\"}, {\"args\": [{\"visible\": [false, false, false, false, true, false, false, false, false]}, {\"annotations\": [{\"bgcolor\": \"grey\", \"borderpad\": 4, \"borderwidth\": 9, \"font\": {\"color\": \"white\", \"size\": 10}, \"showarrow\": false, \"text\": \"Bosnia and Herzegovina has the highest improvement of ~ 116.483\", \"x\": 1.1, \"xref\": \"paper\", \"y\": 1.2, \"yref\": \"paper\"}, {\"bgcolor\": \"grey\", \"borderpad\": 4, \"borderwidth\": 9, \"font\": {\"color\": \"white\", \"size\": 10}, \"showarrow\": false, \"text\": \"Lebanon has the lowest improvement of ~ -31.974\", \"x\": 1.1, \"xref\": \"paper\", \"y\": 1.1, \"yref\": \"paper\"}]}], \"label\": \"Life Choices %\", \"method\": \"update\"}, {\"args\": [{\"visible\": [false, false, false, false, false, true, false, false, false]}, {\"annotations\": [{\"bgcolor\": \"grey\", \"borderpad\": 4, \"borderwidth\": 9, \"font\": {\"color\": \"white\", \"size\": 10}, \"showarrow\": false, \"text\": \"Latvia has the highest improvement of ~ 8000.549\", \"x\": 1.1, \"xref\": \"paper\", \"y\": 1.2, \"yref\": \"paper\"}, {\"bgcolor\": \"grey\", \"borderpad\": 4, \"borderwidth\": 9, \"font\": {\"color\": \"white\", \"size\": 10}, \"showarrow\": false, \"text\": \"Panama has the lowest improvement of ~ -2319.595\", \"x\": 1.1, \"xref\": \"paper\", \"y\": 1.1, \"yref\": \"paper\"}]}], \"label\": \"Generosity %\", \"method\": \"update\"}, {\"args\": [{\"visible\": [false, false, false, false, false, false, true, false, false]}, {\"annotations\": [{\"bgcolor\": \"grey\", \"borderpad\": 4, \"borderwidth\": 9, \"font\": {\"color\": \"white\", \"size\": 10}, \"showarrow\": false, \"text\": \"Georgia has the highest improvement of ~ 83.17\", \"x\": 1.1, \"xref\": \"paper\", \"y\": 1.2, \"yref\": \"paper\"}, {\"bgcolor\": \"grey\", \"borderpad\": 4, \"borderwidth\": 9, \"font\": {\"color\": \"white\", \"size\": 10}, \"showarrow\": false, \"text\": \"Azerbaijan has the lowest improvement of ~ -42.492\", \"x\": 1.1, \"xref\": \"paper\", \"y\": 1.1, \"yref\": \"paper\"}]}], \"label\": \"Perceptions of corruption %\", \"method\": \"update\"}, {\"args\": [{\"visible\": [false, false, false, false, false, false, false, true, false]}, {\"annotations\": [{\"bgcolor\": \"grey\", \"borderpad\": 4, \"borderwidth\": 9, \"font\": {\"color\": \"white\", \"size\": 10}, \"showarrow\": false, \"text\": \"Singapore has the highest improvement of ~ 49.682\", \"x\": 1.1, \"xref\": \"paper\", \"y\": 1.2, \"yref\": \"paper\"}, {\"bgcolor\": \"grey\", \"borderpad\": 4, \"borderwidth\": 9, \"font\": {\"color\": \"white\", \"size\": 10}, \"showarrow\": false, \"text\": \"Lebanon has the lowest improvement of ~ -44.345\", \"x\": 1.1, \"xref\": \"paper\", \"y\": 1.1, \"yref\": \"paper\"}]}], \"label\": \"Positive Affect %\", \"method\": \"update\"}, {\"args\": [{\"visible\": [false, false, false, false, false, false, false, false, true]}, {\"annotations\": [{\"bgcolor\": \"grey\", \"borderpad\": 4, \"borderwidth\": 9, \"font\": {\"color\": \"white\", \"size\": 10}, \"showarrow\": false, \"text\": \"Mali has the highest improvement of ~ 171.401\", \"x\": 1.1, \"xref\": \"paper\", \"y\": 1.2, \"yref\": \"paper\"}, {\"bgcolor\": \"grey\", \"borderpad\": 4, \"borderwidth\": 9, \"font\": {\"color\": \"white\", \"size\": 10}, \"showarrow\": false, \"text\": \"Serbia has the lowest improvement of ~ -40.981\", \"x\": 1.1, \"xref\": \"paper\", \"y\": 1.1, \"yref\": \"paper\"}]}], \"label\": \"Negative Affect %\", \"method\": \"update\"}], \"x\": 0, \"xanchor\": \"left\", \"y\": 1.05, \"yanchor\": \"top\"}], \"width\": 950},                        {\"responsive\": true}                    ).then(function(){\n",
       "                            \n",
       "var gd = document.getElementById('16d779e3-9371-482c-943b-d07c9a593ead');\n",
       "var x = new MutationObserver(function (mutations, observer) {{\n",
       "        var display = window.getComputedStyle(gd).display;\n",
       "        if (!display || display === 'none') {{\n",
       "            console.log([gd, 'removed!']);\n",
       "            Plotly.purge(gd);\n",
       "            observer.disconnect();\n",
       "        }}\n",
       "}});\n",
       "\n",
       "// Listen for the removal of the full notebook cells\n",
       "var notebookContainer = gd.closest('#notebook-container');\n",
       "if (notebookContainer) {{\n",
       "    x.observe(notebookContainer, {childList: true});\n",
       "}}\n",
       "\n",
       "// Listen for the clearing of the current output cell\n",
       "var outputEl = gd.closest('.output');\n",
       "if (outputEl) {{\n",
       "    x.observe(outputEl, {childList: true});\n",
       "}}\n",
       "\n",
       "                        })                };                });            </script>        </div>"
      ]
     },
     "metadata": {},
     "output_type": "display_data"
    }
   ],
   "source": [
    "fig = go.Figure()\n",
    "n=0\n",
    "columns = df_change.columns[11:]\n",
    "buttons_list = []\n",
    "\n",
    "for column in (columns):\n",
    "    fig.add_trace(go.Choropleth(locations=df_change[\"CODE_y\"], z=df_change[column], autocolorscale=False, zmid=0,\n",
    "                    colorscale=\"rdylgn\", marker_line_color='white', marker_line_width=1, colorbar_title=f\"{column} Change\"))\n",
    "    \n",
    "    label = f\"{column}\"\n",
    "    \n",
    "    max_of_graph = df_change[df_change[column]==df_change[column].max()]\n",
    "    highest_score = (max_of_graph[\"Country name\"].values[0], round(max_of_graph[column].values[0],3))\n",
    "    min_of_graph = df_change[df_change[column]==df_change[column].min()]\n",
    "    lowest_score = (min_of_graph[\"Country name\"].values[0], round(min_of_graph[column].values[0],3))\n",
    "    max_annotation = {'x':1.1, 'y':1.2, 'xref':'paper', 'yref':'paper', 'text':\"{0} has the highest improvement of ~ {1}\".format(highest_score[0], highest_score[1]), \n",
    "                           'font':{'size':10, 'color':'white'}, 'showarrow':False, 'borderwidth':9, 'borderpad':4, 'bgcolor':'grey'}\n",
    "    min_annotation = {'x':1.1, 'y':1.1, 'xref':'paper', 'yref':'paper', 'text':\"{0} has the lowest improvement of ~ {1}\".format(lowest_score[0], lowest_score[1]), \n",
    "                           'font':{'size':10, 'color':'white'}, 'showarrow':False, 'borderwidth':9, 'borderpad':4, 'bgcolor':'grey'}\n",
    "            \n",
    "    buttons_list.append(slider_dict(label, fields[n][:-1], max_annotation, min_annotation))\n",
    "    fig.data[n].visible=False\n",
    "    n+=1\n",
    "            \n",
    "fig.update_layout(updatemenus=[dict(active=0, buttons=buttons_list, x=0, xanchor=\"left\", y=1.05,yanchor=\"top\")], title=\"World Happiness Report: 2011-2019 Percent Change\".format(year), geo=dict(showframe=False, showcoastlines=False, projection_type=\"equirectangular\"),\n",
    "                    autosize=False, height=600, width=950)\n",
    "\n",
    "fig.data[0].visible=True\n",
    "\n",
    "pio.write_html(fig, f\"WHR-percent_change.html\", full_html=False)\n",
    "fig.show()"
   ]
  },
  {
   "cell_type": "markdown",
   "metadata": {},
   "source": [
    "Now this visualization turns out to be fairly interesting. While much of it is what you would expect, the Generosity visualization is absurd. With the greatest increase being of 8000% and the greatest decrease being -2300%, needless to say I found this quite interesting. Looking more in particular at these two countries, I found two things that I hadn't noticed previously. First of all, looking at the Generosity columns I found both to be surprisingly noisy, changing by orders of magnitude with no consistent increase or decrease. Furthermore, I had not expected the Generosity column to be negative, or in the case of Panama, swinging wildy back and forth between the two."
   ]
  },
  {
   "cell_type": "code",
   "execution_count": 320,
   "metadata": {},
   "outputs": [
    {
     "data": {
      "text/html": [
       "<div>\n",
       "<style scoped>\n",
       "    .dataframe tbody tr th:only-of-type {\n",
       "        vertical-align: middle;\n",
       "    }\n",
       "\n",
       "    .dataframe tbody tr th {\n",
       "        vertical-align: top;\n",
       "    }\n",
       "\n",
       "    .dataframe thead th {\n",
       "        text-align: right;\n",
       "    }\n",
       "</style>\n",
       "<table border=\"1\" class=\"dataframe\">\n",
       "  <thead>\n",
       "    <tr style=\"text-align: right;\">\n",
       "      <th></th>\n",
       "      <th>Country name</th>\n",
       "      <th>year</th>\n",
       "      <th>Life Ladder</th>\n",
       "      <th>Log GDP per capita</th>\n",
       "      <th>Social support</th>\n",
       "      <th>Healthy life expectancy (Age)</th>\n",
       "      <th>Freedom to make life choices</th>\n",
       "      <th>Generosity</th>\n",
       "      <th>Perceptions of corruption</th>\n",
       "      <th>Positive affect</th>\n",
       "      <th>Negative affect</th>\n",
       "    </tr>\n",
       "  </thead>\n",
       "  <tbody>\n",
       "    <tr>\n",
       "      <th>954</th>\n",
       "      <td>Latvia</td>\n",
       "      <td>2006</td>\n",
       "      <td>4.709502</td>\n",
       "      <td>10.032048</td>\n",
       "      <td>0.884499</td>\n",
       "      <td>63.160000</td>\n",
       "      <td>0.640807</td>\n",
       "      <td>-0.229206</td>\n",
       "      <td>0.937049</td>\n",
       "      <td>0.654296</td>\n",
       "      <td>0.234135</td>\n",
       "    </tr>\n",
       "    <tr>\n",
       "      <th>955</th>\n",
       "      <td>Latvia</td>\n",
       "      <td>2007</td>\n",
       "      <td>4.666972</td>\n",
       "      <td>10.135619</td>\n",
       "      <td>0.835509</td>\n",
       "      <td>63.520000</td>\n",
       "      <td>0.700174</td>\n",
       "      <td>-0.166734</td>\n",
       "      <td>0.923953</td>\n",
       "      <td>0.672521</td>\n",
       "      <td>0.246863</td>\n",
       "    </tr>\n",
       "    <tr>\n",
       "      <th>956</th>\n",
       "      <td>Latvia</td>\n",
       "      <td>2008</td>\n",
       "      <td>5.145375</td>\n",
       "      <td>10.112092</td>\n",
       "      <td>0.855418</td>\n",
       "      <td>63.880001</td>\n",
       "      <td>0.630111</td>\n",
       "      <td>-0.203171</td>\n",
       "      <td>0.926328</td>\n",
       "      <td>0.638644</td>\n",
       "      <td>0.214901</td>\n",
       "    </tr>\n",
       "    <tr>\n",
       "      <th>957</th>\n",
       "      <td>Latvia</td>\n",
       "      <td>2009</td>\n",
       "      <td>4.668911</td>\n",
       "      <td>9.975006</td>\n",
       "      <td>0.806939</td>\n",
       "      <td>64.239998</td>\n",
       "      <td>0.437065</td>\n",
       "      <td>-0.180326</td>\n",
       "      <td>0.942090</td>\n",
       "      <td>0.525005</td>\n",
       "      <td>0.242197</td>\n",
       "    </tr>\n",
       "    <tr>\n",
       "      <th>958</th>\n",
       "      <td>Latvia</td>\n",
       "      <td>2011</td>\n",
       "      <td>4.966812</td>\n",
       "      <td>10.029216</td>\n",
       "      <td>0.836042</td>\n",
       "      <td>64.860001</td>\n",
       "      <td>0.564464</td>\n",
       "      <td>-0.002395</td>\n",
       "      <td>0.934256</td>\n",
       "      <td>0.563278</td>\n",
       "      <td>0.221713</td>\n",
       "    </tr>\n",
       "    <tr>\n",
       "      <th>959</th>\n",
       "      <td>Latvia</td>\n",
       "      <td>2012</td>\n",
       "      <td>5.125025</td>\n",
       "      <td>10.082130</td>\n",
       "      <td>0.851195</td>\n",
       "      <td>65.120003</td>\n",
       "      <td>0.563812</td>\n",
       "      <td>-0.037763</td>\n",
       "      <td>0.894979</td>\n",
       "      <td>0.560013</td>\n",
       "      <td>0.232225</td>\n",
       "    </tr>\n",
       "    <tr>\n",
       "      <th>960</th>\n",
       "      <td>Latvia</td>\n",
       "      <td>2013</td>\n",
       "      <td>5.069770</td>\n",
       "      <td>10.115854</td>\n",
       "      <td>0.834023</td>\n",
       "      <td>65.379997</td>\n",
       "      <td>0.630508</td>\n",
       "      <td>-0.072923</td>\n",
       "      <td>0.836554</td>\n",
       "      <td>0.642102</td>\n",
       "      <td>0.227449</td>\n",
       "    </tr>\n",
       "    <tr>\n",
       "      <th>961</th>\n",
       "      <td>Latvia</td>\n",
       "      <td>2014</td>\n",
       "      <td>5.729115</td>\n",
       "      <td>10.144242</td>\n",
       "      <td>0.881256</td>\n",
       "      <td>65.639999</td>\n",
       "      <td>0.670653</td>\n",
       "      <td>-0.043007</td>\n",
       "      <td>0.803688</td>\n",
       "      <td>0.652273</td>\n",
       "      <td>0.225979</td>\n",
       "    </tr>\n",
       "    <tr>\n",
       "      <th>962</th>\n",
       "      <td>Latvia</td>\n",
       "      <td>2015</td>\n",
       "      <td>5.880598</td>\n",
       "      <td>10.184513</td>\n",
       "      <td>0.879372</td>\n",
       "      <td>65.900002</td>\n",
       "      <td>0.656393</td>\n",
       "      <td>-0.077392</td>\n",
       "      <td>0.808400</td>\n",
       "      <td>0.608380</td>\n",
       "      <td>0.228137</td>\n",
       "    </tr>\n",
       "    <tr>\n",
       "      <th>963</th>\n",
       "      <td>Latvia</td>\n",
       "      <td>2016</td>\n",
       "      <td>5.940446</td>\n",
       "      <td>10.211235</td>\n",
       "      <td>0.917074</td>\n",
       "      <td>66.199997</td>\n",
       "      <td>0.685299</td>\n",
       "      <td>-0.156372</td>\n",
       "      <td>0.867640</td>\n",
       "      <td>0.653751</td>\n",
       "      <td>0.231384</td>\n",
       "    </tr>\n",
       "    <tr>\n",
       "      <th>964</th>\n",
       "      <td>Latvia</td>\n",
       "      <td>2017</td>\n",
       "      <td>5.977818</td>\n",
       "      <td>10.257271</td>\n",
       "      <td>0.895099</td>\n",
       "      <td>66.500000</td>\n",
       "      <td>0.699520</td>\n",
       "      <td>-0.154460</td>\n",
       "      <td>0.798378</td>\n",
       "      <td>0.623313</td>\n",
       "      <td>0.231753</td>\n",
       "    </tr>\n",
       "    <tr>\n",
       "      <th>965</th>\n",
       "      <td>Latvia</td>\n",
       "      <td>2018</td>\n",
       "      <td>5.901154</td>\n",
       "      <td>10.307017</td>\n",
       "      <td>0.913276</td>\n",
       "      <td>66.800003</td>\n",
       "      <td>0.608208</td>\n",
       "      <td>-0.212329</td>\n",
       "      <td>0.798949</td>\n",
       "      <td>0.585233</td>\n",
       "      <td>0.191871</td>\n",
       "    </tr>\n",
       "    <tr>\n",
       "      <th>966</th>\n",
       "      <td>Latvia</td>\n",
       "      <td>2019</td>\n",
       "      <td>5.969754</td>\n",
       "      <td>10.336246</td>\n",
       "      <td>0.935501</td>\n",
       "      <td>67.099998</td>\n",
       "      <td>0.697935</td>\n",
       "      <td>-0.193979</td>\n",
       "      <td>0.789227</td>\n",
       "      <td>0.575235</td>\n",
       "      <td>0.211631</td>\n",
       "    </tr>\n",
       "    <tr>\n",
       "      <th>967</th>\n",
       "      <td>Latvia</td>\n",
       "      <td>2020</td>\n",
       "      <td>6.229009</td>\n",
       "      <td>10.299590</td>\n",
       "      <td>0.928012</td>\n",
       "      <td>67.400002</td>\n",
       "      <td>0.820112</td>\n",
       "      <td>-0.077660</td>\n",
       "      <td>0.808822</td>\n",
       "      <td>0.713628</td>\n",
       "      <td>0.201582</td>\n",
       "    </tr>\n",
       "  </tbody>\n",
       "</table>\n",
       "</div>"
      ],
      "text/plain": [
       "    Country name  year  Life Ladder  Log GDP per capita  Social support  \\\n",
       "954       Latvia  2006     4.709502           10.032048        0.884499   \n",
       "955       Latvia  2007     4.666972           10.135619        0.835509   \n",
       "956       Latvia  2008     5.145375           10.112092        0.855418   \n",
       "957       Latvia  2009     4.668911            9.975006        0.806939   \n",
       "958       Latvia  2011     4.966812           10.029216        0.836042   \n",
       "959       Latvia  2012     5.125025           10.082130        0.851195   \n",
       "960       Latvia  2013     5.069770           10.115854        0.834023   \n",
       "961       Latvia  2014     5.729115           10.144242        0.881256   \n",
       "962       Latvia  2015     5.880598           10.184513        0.879372   \n",
       "963       Latvia  2016     5.940446           10.211235        0.917074   \n",
       "964       Latvia  2017     5.977818           10.257271        0.895099   \n",
       "965       Latvia  2018     5.901154           10.307017        0.913276   \n",
       "966       Latvia  2019     5.969754           10.336246        0.935501   \n",
       "967       Latvia  2020     6.229009           10.299590        0.928012   \n",
       "\n",
       "     Healthy life expectancy (Age)  Freedom to make life choices  Generosity  \\\n",
       "954                      63.160000                      0.640807   -0.229206   \n",
       "955                      63.520000                      0.700174   -0.166734   \n",
       "956                      63.880001                      0.630111   -0.203171   \n",
       "957                      64.239998                      0.437065   -0.180326   \n",
       "958                      64.860001                      0.564464   -0.002395   \n",
       "959                      65.120003                      0.563812   -0.037763   \n",
       "960                      65.379997                      0.630508   -0.072923   \n",
       "961                      65.639999                      0.670653   -0.043007   \n",
       "962                      65.900002                      0.656393   -0.077392   \n",
       "963                      66.199997                      0.685299   -0.156372   \n",
       "964                      66.500000                      0.699520   -0.154460   \n",
       "965                      66.800003                      0.608208   -0.212329   \n",
       "966                      67.099998                      0.697935   -0.193979   \n",
       "967                      67.400002                      0.820112   -0.077660   \n",
       "\n",
       "     Perceptions of corruption  Positive affect  Negative affect  \n",
       "954                   0.937049         0.654296         0.234135  \n",
       "955                   0.923953         0.672521         0.246863  \n",
       "956                   0.926328         0.638644         0.214901  \n",
       "957                   0.942090         0.525005         0.242197  \n",
       "958                   0.934256         0.563278         0.221713  \n",
       "959                   0.894979         0.560013         0.232225  \n",
       "960                   0.836554         0.642102         0.227449  \n",
       "961                   0.803688         0.652273         0.225979  \n",
       "962                   0.808400         0.608380         0.228137  \n",
       "963                   0.867640         0.653751         0.231384  \n",
       "964                   0.798378         0.623313         0.231753  \n",
       "965                   0.798949         0.585233         0.191871  \n",
       "966                   0.789227         0.575235         0.211631  \n",
       "967                   0.808822         0.713628         0.201582  "
      ]
     },
     "execution_count": 320,
     "metadata": {},
     "output_type": "execute_result"
    }
   ],
   "source": [
    "df[df[\"Country name\"] == \"Latvia\"]"
   ]
  },
  {
   "cell_type": "code",
   "execution_count": 321,
   "metadata": {},
   "outputs": [
    {
     "data": {
      "text/html": [
       "<div>\n",
       "<style scoped>\n",
       "    .dataframe tbody tr th:only-of-type {\n",
       "        vertical-align: middle;\n",
       "    }\n",
       "\n",
       "    .dataframe tbody tr th {\n",
       "        vertical-align: top;\n",
       "    }\n",
       "\n",
       "    .dataframe thead th {\n",
       "        text-align: right;\n",
       "    }\n",
       "</style>\n",
       "<table border=\"1\" class=\"dataframe\">\n",
       "  <thead>\n",
       "    <tr style=\"text-align: right;\">\n",
       "      <th></th>\n",
       "      <th>Country name</th>\n",
       "      <th>year</th>\n",
       "      <th>Life Ladder</th>\n",
       "      <th>Log GDP per capita</th>\n",
       "      <th>Social support</th>\n",
       "      <th>Healthy life expectancy (Age)</th>\n",
       "      <th>Freedom to make life choices</th>\n",
       "      <th>Generosity</th>\n",
       "      <th>Perceptions of corruption</th>\n",
       "      <th>Positive affect</th>\n",
       "      <th>Negative affect</th>\n",
       "    </tr>\n",
       "  </thead>\n",
       "  <tbody>\n",
       "    <tr>\n",
       "      <th>1339</th>\n",
       "      <td>Panama</td>\n",
       "      <td>2006</td>\n",
       "      <td>6.127988</td>\n",
       "      <td>9.763903</td>\n",
       "      <td>0.950980</td>\n",
       "      <td>67.900002</td>\n",
       "      <td>0.882047</td>\n",
       "      <td>-0.047107</td>\n",
       "      <td>0.911756</td>\n",
       "      <td>0.845192</td>\n",
       "      <td>0.232063</td>\n",
       "    </tr>\n",
       "    <tr>\n",
       "      <th>1340</th>\n",
       "      <td>Panama</td>\n",
       "      <td>2007</td>\n",
       "      <td>6.894140</td>\n",
       "      <td>9.858971</td>\n",
       "      <td>0.937078</td>\n",
       "      <td>68.000000</td>\n",
       "      <td>0.640219</td>\n",
       "      <td>0.083109</td>\n",
       "      <td>0.915287</td>\n",
       "      <td>0.819987</td>\n",
       "      <td>0.149341</td>\n",
       "    </tr>\n",
       "    <tr>\n",
       "      <th>1341</th>\n",
       "      <td>Panama</td>\n",
       "      <td>2008</td>\n",
       "      <td>6.930903</td>\n",
       "      <td>9.935025</td>\n",
       "      <td>0.922481</td>\n",
       "      <td>68.099998</td>\n",
       "      <td>0.707385</td>\n",
       "      <td>0.059698</td>\n",
       "      <td>0.880651</td>\n",
       "      <td>0.819301</td>\n",
       "      <td>0.150143</td>\n",
       "    </tr>\n",
       "    <tr>\n",
       "      <th>1342</th>\n",
       "      <td>Panama</td>\n",
       "      <td>2009</td>\n",
       "      <td>7.033740</td>\n",
       "      <td>9.929617</td>\n",
       "      <td>0.905029</td>\n",
       "      <td>68.199997</td>\n",
       "      <td>0.721394</td>\n",
       "      <td>0.014429</td>\n",
       "      <td>0.889424</td>\n",
       "      <td>0.883028</td>\n",
       "      <td>0.144200</td>\n",
       "    </tr>\n",
       "    <tr>\n",
       "      <th>1343</th>\n",
       "      <td>Panama</td>\n",
       "      <td>2010</td>\n",
       "      <td>7.321467</td>\n",
       "      <td>9.968682</td>\n",
       "      <td>0.927533</td>\n",
       "      <td>68.300003</td>\n",
       "      <td>0.754524</td>\n",
       "      <td>-0.008531</td>\n",
       "      <td>0.879826</td>\n",
       "      <td>0.887585</td>\n",
       "      <td>0.146369</td>\n",
       "    </tr>\n",
       "    <tr>\n",
       "      <th>1344</th>\n",
       "      <td>Panama</td>\n",
       "      <td>2011</td>\n",
       "      <td>7.248081</td>\n",
       "      <td>10.058502</td>\n",
       "      <td>0.876284</td>\n",
       "      <td>68.500000</td>\n",
       "      <td>0.829013</td>\n",
       "      <td>0.008965</td>\n",
       "      <td>0.839684</td>\n",
       "      <td>0.885293</td>\n",
       "      <td>0.179641</td>\n",
       "    </tr>\n",
       "    <tr>\n",
       "      <th>1345</th>\n",
       "      <td>Panama</td>\n",
       "      <td>2012</td>\n",
       "      <td>6.859836</td>\n",
       "      <td>10.134644</td>\n",
       "      <td>0.897391</td>\n",
       "      <td>68.699997</td>\n",
       "      <td>0.783183</td>\n",
       "      <td>-0.001814</td>\n",
       "      <td>0.795797</td>\n",
       "      <td>0.868587</td>\n",
       "      <td>0.206641</td>\n",
       "    </tr>\n",
       "    <tr>\n",
       "      <th>1346</th>\n",
       "      <td>Panama</td>\n",
       "      <td>2013</td>\n",
       "      <td>6.866480</td>\n",
       "      <td>10.184355</td>\n",
       "      <td>0.895720</td>\n",
       "      <td>68.900002</td>\n",
       "      <td>0.811338</td>\n",
       "      <td>0.018312</td>\n",
       "      <td>0.814465</td>\n",
       "      <td>0.868715</td>\n",
       "      <td>0.225746</td>\n",
       "    </tr>\n",
       "    <tr>\n",
       "      <th>1347</th>\n",
       "      <td>Panama</td>\n",
       "      <td>2014</td>\n",
       "      <td>6.631171</td>\n",
       "      <td>10.216750</td>\n",
       "      <td>0.873474</td>\n",
       "      <td>69.099998</td>\n",
       "      <td>0.893915</td>\n",
       "      <td>0.002134</td>\n",
       "      <td>0.846594</td>\n",
       "      <td>0.807690</td>\n",
       "      <td>0.253816</td>\n",
       "    </tr>\n",
       "    <tr>\n",
       "      <th>1348</th>\n",
       "      <td>Panama</td>\n",
       "      <td>2015</td>\n",
       "      <td>6.605550</td>\n",
       "      <td>10.255424</td>\n",
       "      <td>0.882615</td>\n",
       "      <td>69.300003</td>\n",
       "      <td>0.846669</td>\n",
       "      <td>-0.006958</td>\n",
       "      <td>0.809943</td>\n",
       "      <td>0.800634</td>\n",
       "      <td>0.263826</td>\n",
       "    </tr>\n",
       "    <tr>\n",
       "      <th>1349</th>\n",
       "      <td>Panama</td>\n",
       "      <td>2016</td>\n",
       "      <td>6.117638</td>\n",
       "      <td>10.286634</td>\n",
       "      <td>0.882460</td>\n",
       "      <td>69.400002</td>\n",
       "      <td>0.884480</td>\n",
       "      <td>-0.102454</td>\n",
       "      <td>0.836977</td>\n",
       "      <td>0.857624</td>\n",
       "      <td>0.244132</td>\n",
       "    </tr>\n",
       "    <tr>\n",
       "      <th>1350</th>\n",
       "      <td>Panama</td>\n",
       "      <td>2017</td>\n",
       "      <td>6.567659</td>\n",
       "      <td>10.323997</td>\n",
       "      <td>0.911905</td>\n",
       "      <td>69.500000</td>\n",
       "      <td>0.899574</td>\n",
       "      <td>-0.169566</td>\n",
       "      <td>0.840777</td>\n",
       "      <td>0.832689</td>\n",
       "      <td>0.242319</td>\n",
       "    </tr>\n",
       "    <tr>\n",
       "      <th>1351</th>\n",
       "      <td>Panama</td>\n",
       "      <td>2018</td>\n",
       "      <td>6.281434</td>\n",
       "      <td>10.343328</td>\n",
       "      <td>0.904390</td>\n",
       "      <td>69.599998</td>\n",
       "      <td>0.861448</td>\n",
       "      <td>-0.130710</td>\n",
       "      <td>0.836931</td>\n",
       "      <td>0.883581</td>\n",
       "      <td>0.222599</td>\n",
       "    </tr>\n",
       "    <tr>\n",
       "      <th>1352</th>\n",
       "      <td>Panama</td>\n",
       "      <td>2019</td>\n",
       "      <td>6.085955</td>\n",
       "      <td>10.356431</td>\n",
       "      <td>0.885721</td>\n",
       "      <td>69.699997</td>\n",
       "      <td>0.882961</td>\n",
       "      <td>-0.198985</td>\n",
       "      <td>0.868828</td>\n",
       "      <td>0.877562</td>\n",
       "      <td>0.243567</td>\n",
       "    </tr>\n",
       "  </tbody>\n",
       "</table>\n",
       "</div>"
      ],
      "text/plain": [
       "     Country name  year  Life Ladder  Log GDP per capita  Social support  \\\n",
       "1339       Panama  2006     6.127988            9.763903        0.950980   \n",
       "1340       Panama  2007     6.894140            9.858971        0.937078   \n",
       "1341       Panama  2008     6.930903            9.935025        0.922481   \n",
       "1342       Panama  2009     7.033740            9.929617        0.905029   \n",
       "1343       Panama  2010     7.321467            9.968682        0.927533   \n",
       "1344       Panama  2011     7.248081           10.058502        0.876284   \n",
       "1345       Panama  2012     6.859836           10.134644        0.897391   \n",
       "1346       Panama  2013     6.866480           10.184355        0.895720   \n",
       "1347       Panama  2014     6.631171           10.216750        0.873474   \n",
       "1348       Panama  2015     6.605550           10.255424        0.882615   \n",
       "1349       Panama  2016     6.117638           10.286634        0.882460   \n",
       "1350       Panama  2017     6.567659           10.323997        0.911905   \n",
       "1351       Panama  2018     6.281434           10.343328        0.904390   \n",
       "1352       Panama  2019     6.085955           10.356431        0.885721   \n",
       "\n",
       "      Healthy life expectancy (Age)  Freedom to make life choices  Generosity  \\\n",
       "1339                      67.900002                      0.882047   -0.047107   \n",
       "1340                      68.000000                      0.640219    0.083109   \n",
       "1341                      68.099998                      0.707385    0.059698   \n",
       "1342                      68.199997                      0.721394    0.014429   \n",
       "1343                      68.300003                      0.754524   -0.008531   \n",
       "1344                      68.500000                      0.829013    0.008965   \n",
       "1345                      68.699997                      0.783183   -0.001814   \n",
       "1346                      68.900002                      0.811338    0.018312   \n",
       "1347                      69.099998                      0.893915    0.002134   \n",
       "1348                      69.300003                      0.846669   -0.006958   \n",
       "1349                      69.400002                      0.884480   -0.102454   \n",
       "1350                      69.500000                      0.899574   -0.169566   \n",
       "1351                      69.599998                      0.861448   -0.130710   \n",
       "1352                      69.699997                      0.882961   -0.198985   \n",
       "\n",
       "      Perceptions of corruption  Positive affect  Negative affect  \n",
       "1339                   0.911756         0.845192         0.232063  \n",
       "1340                   0.915287         0.819987         0.149341  \n",
       "1341                   0.880651         0.819301         0.150143  \n",
       "1342                   0.889424         0.883028         0.144200  \n",
       "1343                   0.879826         0.887585         0.146369  \n",
       "1344                   0.839684         0.885293         0.179641  \n",
       "1345                   0.795797         0.868587         0.206641  \n",
       "1346                   0.814465         0.868715         0.225746  \n",
       "1347                   0.846594         0.807690         0.253816  \n",
       "1348                   0.809943         0.800634         0.263826  \n",
       "1349                   0.836977         0.857624         0.244132  \n",
       "1350                   0.840777         0.832689         0.242319  \n",
       "1351                   0.836931         0.883581         0.222599  \n",
       "1352                   0.868828         0.877562         0.243567  "
      ]
     },
     "execution_count": 321,
     "metadata": {},
     "output_type": "execute_result"
    }
   ],
   "source": [
    "df[df[\"Country name\"] == \"Panama\"]"
   ]
  },
  {
   "cell_type": "code",
   "execution_count": 361,
   "metadata": {},
   "outputs": [
    {
     "data": {
      "application/vnd.plotly.v1+json": {
       "config": {
        "plotlyServerURL": "https://plot.ly"
       },
       "data": [
        {
         "alignmentgroup": "True",
         "hovertemplate": "Generosity=%{y}<extra></extra>",
         "legendgroup": "",
         "marker": {
          "color": "#636efa"
         },
         "name": "",
         "notched": false,
         "offsetgroup": "",
         "orientation": "v",
         "showlegend": false,
         "type": "box",
         "x0": " ",
         "xaxis": "x",
         "y": [
          0.16763998568058014,
          0.19009919464588165,
          0.12058963626623154,
          0.16242748498916626,
          0.2360324114561081,
          0.06114766001701355,
          0.10401254892349243,
          0.07986410707235336,
          0.042265407741069794,
          -0.121303029358387,
          -0.0938277468085289,
          -0.10845886915922165,
          -0.008999267593026161,
          -0.15772540867328644,
          -0.1721067726612091,
          -0.2045939415693283,
          -0.1688622534275055,
          -0.12720981240272522,
          -0.024665698409080505,
          -0.08083881437778473,
          -0.016982201486825943,
          -0.028791440650820732,
          0.008911602199077606,
          -0.09926263988018036,
          0.006968025118112564,
          -0.2053198516368866,
          -0.18065398931503296,
          -0.17212292551994324,
          null,
          null,
          -0.16678154468536377,
          -0.14594286680221558,
          0.005086520221084356,
          0.05525749549269676,
          -0.1360698640346527,
          -0.10355713963508606,
          -0.167722687125206,
          -0.15667498111724854,
          -0.14077657461166382,
          -0.1315322071313858,
          -0.12973518669605255,
          -0.12568217515945435,
          -0.17399342358112335,
          -0.14760944247245789,
          -0.1301180124282837,
          -0.16415360569953918,
          -0.17384830117225647,
          -0.19175593554973602,
          -0.18580487370491028,
          -0.2105073779821396,
          -0.21071866154670715,
          -0.12235432863235474,
          -0.23102374374866486,
          -0.2511574625968933,
          -0.2153138965368271,
          -0.21410612761974335,
          -0.17614459991455078,
          -0.22547928988933563,
          -0.21519970893859863,
          -0.19549226760864258,
          -0.2184806764125824,
          -0.202626571059227,
          -0.170423224568367,
          -0.1468421071767807,
          -0.16258832812309265,
          -0.17236898839473724,
          null,
          0.3470516502857208,
          0.30529049038887024,
          0.3167438507080078,
          0.3693402111530304,
          0.27363547682762146,
          0.2687840163707733,
          0.3185560703277588,
          0.33189859986305237,
          0.23855794966220856,
          0.3173295855522156,
          0.14645527303218842,
          0.12068159133195877,
          0.21003030240535736,
          0.30238601565361023,
          0.2913089394569397,
          0.13089075684547424,
          0.13157762587070465,
          0.1178036630153656,
          0.1682477593421936,
          0.11760743707418442,
          0.09889271855354309,
          0.07974882423877716,
          0.1330639123916626,
          0.05346965417265892,
          0.05968630313873291,
          0.01103174313902855,
          -0.23483696579933167,
          -0.20689883828163147,
          -0.02946944162249565,
          -0.08689683675765991,
          -0.1232181116938591,
          -0.10452896356582642,
          -0.13993917405605316,
          -0.16776947677135468,
          -0.2081700712442398,
          -0.19772739708423615,
          -0.2041623443365097,
          -0.225129172205925,
          -0.23161323368549347,
          -0.2141629159450531,
          0.03742154315114021,
          -0.0005844568950124085,
          -0.05137081444263458,
          null,
          null,
          null,
          0.11202140152454376,
          0.08818747848272324,
          0.13631758093833923,
          0.04786324501037598,
          0.13244104385375977,
          0.06827283650636673,
          0.04033476486802101,
          -0.0436343178153038,
          -0.0745147243142128,
          -0.01619577966630459,
          -0.06933451443910599,
          -0.03434861823916435,
          -0.015539078041911125,
          -0.09816883504390717,
          -0.06844885647296906,
          -0.08873125165700912,
          0.011619623750448227,
          -0.04333494231104851,
          -0.051465846598148346,
          -0.008851290680468082,
          -0.24600280821323395,
          -0.22480736672878265,
          -0.22003428637981415,
          -0.20299407839775085,
          -0.1625654548406601,
          -0.1679331362247467,
          -0.21726931631565094,
          -0.1774541437625885,
          -0.048226308077573776,
          -0.09133758395910263,
          -0.1254873126745224,
          -0.12154945731163025,
          -0.17448541522026062,
          -0.18593330681324005,
          null,
          0.06949985027313232,
          0.006972689647227526,
          0.02229495719075203,
          -0.014153561554849148,
          -0.05007130280137062,
          0.016689838841557503,
          0.001345287193544209,
          0.06221495568752289,
          -0.05582595616579056,
          0.05431389808654785,
          -0.12460021674633026,
          -0.17152146995067596,
          -0.16378448903560638,
          0.03275436908006668,
          0.021995628252625465,
          -0.01118319109082222,
          -0.0043164934031665325,
          -0.14223513007164001,
          -0.11131086200475693,
          -0.08477487415075302,
          -0.09570256620645523,
          -0.026637520641088486,
          -0.0650717094540596,
          -0.0649859681725502,
          0.0021489530336111784,
          -0.01612868346273899,
          -0.08348871022462845,
          0.352631151676178,
          0.26787298917770386,
          0.2774123549461365,
          -0.044180404394865036,
          0.0006757558439858258,
          -0.09170541912317276,
          -0.03609711676836014,
          -0.06846834719181061,
          -0.039203885942697525,
          -0.014860126189887524,
          -0.0668373703956604,
          0.017844215035438538,
          -0.02951531484723091,
          -0.04674965888261795,
          -0.1203814372420311,
          -0.09287695586681366,
          -0.08567424863576889,
          -0.05376378819346428,
          0.005994322244077921,
          -0.025500312447547913,
          -0.12780308723449707,
          -0.03456698730587959,
          -0.012566634453833103,
          0.041852883994579315,
          0.23183906078338623,
          -0.05457206070423126,
          0.1338658183813095,
          0.09178319573402405,
          0.12326318025588989,
          0.07936187088489532,
          0.13795417547225952,
          -0.19472160935401917,
          -0.1643887460231781,
          -0.14286021888256073,
          -0.2500033378601074,
          -0.20282405614852905,
          -0.15417709946632385,
          -0.10489221662282944,
          -0.11625391244888306,
          -0.2527235150337219,
          -0.24789166450500488,
          -0.2541479468345642,
          -0.23900093138217926,
          null,
          -0.01623525097966194,
          -0.07766135782003403,
          -0.055251944810152054,
          -0.053968582302331924,
          -0.07233727723360062,
          null,
          -0.09468238055706024,
          -0.11517127603292465,
          -0.015561512671411037,
          -0.10031595081090927,
          -0.1751282662153244,
          -0.11700194329023361,
          -0.061973221600055695,
          -0.05282001942396164,
          -0.1377900391817093,
          -0.14425349235534668,
          -0.227830171585083,
          -0.17194071412086487,
          -0.19094359874725342,
          -0.05481192097067833,
          -0.19982804358005524,
          -0.17019306123256683,
          -0.15414053201675415,
          -0.17617738246917725,
          -0.10858744382858276,
          -0.004322313703596592,
          0.028232552111148834,
          -0.06011555716395378,
          -0.10082502663135529,
          -0.036144863814115524,
          -0.10456785559654236,
          -0.0695967897772789,
          -0.015849445015192032,
          -0.003698775777593255,
          0.0035707743372768164,
          -0.0005431066383607686,
          -0.06323171406984329,
          -0.01317454781383276,
          -0.004089894238859415,
          -0.01889403723180294,
          -0.01927788183093071,
          -0.06243378669023514,
          -0.05879968777298927,
          -0.023876165971159935,
          0.25520747900009155,
          0.11551723629236221,
          0.04545091465115547,
          0.15249282121658325,
          0.3498647212982178,
          0.4184987246990204,
          0.24672472476959229,
          0.16384732723236084,
          0.2393975555896759,
          0.2100825160741806,
          0.07606024295091629,
          0.08796920627355576,
          0.0355716310441494,
          0.013222623616456985,
          0.052429765462875366,
          -0.009350372478365898,
          -0.03139055147767067,
          -0.06899295747280121,
          -0.016778485849499702,
          0.002302558394148946,
          -0.028885969892144203,
          -0.032058149576187134,
          -0.03028363361954689,
          -0.07131964713335037,
          0.04931523650884628,
          -0.0034864014014601707,
          -0.02841416373848915,
          0.0356026366353035,
          -0.007857682183384895,
          0.049266181886196136,
          0.25623002648353577,
          0.2494794875383377,
          0.2615848779678345,
          0.24621716141700745,
          0.23045091331005096,
          0.25315117835998535,
          0.29001283645629883,
          0.31564629077911377,
          0.2698579430580139,
          0.25282102823257446,
          0.21116217970848083,
          0.16291023790836334,
          0.10609795898199081,
          0.11159081757068634,
          0.049636855721473694,
          0.08104325830936432,
          -0.03595368191599846,
          -0.015844183042645454,
          0.03262311965227127,
          0.07278610020875931,
          0.027805598452687263,
          -0.011461157351732254,
          0.06264039129018784,
          0.021430091932415962,
          0.02490825578570366,
          0.03059995174407959,
          -0.0340399406850338,
          -0.0454583466053009,
          -0.06986323744058609,
          -0.02865956537425518,
          0.05205228552222252,
          0.007875287905335426,
          0.02423730678856373,
          0.05500093847513199,
          0.16837505996227264,
          0.24390743672847748,
          0.08384270966053009,
          0.1492118239402771,
          0.10783441364765167,
          0.11165982484817505,
          0.19519315659999847,
          0.08483299612998962,
          0.21723777055740356,
          0.04059410095214844,
          0.10244280844926834,
          -0.020043380558490753,
          -0.05972355231642723,
          -0.10276608169078827,
          0.03299075737595558,
          null,
          -0.17624278366565704,
          -0.09247241914272308,
          -0.16048136353492737,
          -0.1333180069923401,
          -0.18638305366039276,
          -0.1846758872270584,
          -0.15777726471424103,
          -0.21677184104919434,
          -0.2444354146718979,
          -0.22752168774604797,
          -0.17483177781105042,
          -0.1585102528333664,
          -0.17303580045700073,
          -0.1032143384218216,
          -0.01498084794729948,
          -0.04038084298372269,
          -0.041800469160079956,
          -0.054762084037065506,
          -0.04953153431415558,
          -0.07348593324422836,
          -0.0094218784943223,
          -0.07085999846458435,
          -0.09032198786735535,
          -0.10012606531381607,
          -0.10034167766571045,
          -0.15713727474212646,
          -0.1484723836183548,
          -0.17213095724582672,
          -0.0846422091126442,
          -0.07356397062540054,
          0.005318737123161554,
          -0.07484764605760574,
          -0.12078157812356949,
          0.08582310378551483,
          0.0772530809044838,
          -0.09809062629938126,
          -0.10914906859397888,
          -0.11164296418428421,
          -0.07783693075180054,
          -0.11042539775371552,
          -0.10392161458730698,
          -0.07172609120607376,
          -0.13051745295524597,
          -0.0922541469335556,
          -0.04605123773217201,
          -0.02200416289269924,
          -0.02528568170964718,
          -0.03452160581946373,
          0.012176308780908585,
          0.00918725598603487,
          -0.04758510738611221,
          -0.024395395070314407,
          0.06837817281484604,
          0.06033143773674965,
          0.09786001592874527,
          0.0957031324505806,
          0.06529057770967484,
          0.04745413362979889,
          -0.03300633281469345,
          0.04584140703082085,
          0.018084213137626648,
          0.009625600650906563,
          -0.059071723371744156,
          -0.03244306519627571,
          -0.07622410356998444,
          -0.10697375982999802,
          -0.14599433541297913,
          -0.09190437197685242,
          -0.2706626355648041,
          -0.23707468807697296,
          -0.19762971997261047,
          -0.2423143833875656,
          -0.20389731228351593,
          0.1320798099040985,
          -0.0964784175157547,
          -0.0646120235323906,
          -0.10434379428625107,
          -0.15074986219406128,
          -0.13739271461963654,
          -0.06296810507774353,
          null,
          0.018174579367041588,
          0.0543183796107769,
          0.07253256440162659,
          0.17963440716266632,
          0.09805192053318024,
          0.10191962867975235,
          0.0598103329539299,
          0.11379989981651306,
          -0.0302341990172863,
          0.04322316125035286,
          -0.02226906083524227,
          -0.007662829011678696,
          null,
          null,
          -0.06343697011470795,
          -0.04180572181940079,
          -0.10645871609449387,
          -0.15375302731990814,
          -0.15571865439414978,
          -0.16794578731060028,
          -0.14585736393928528,
          -0.19747526943683624,
          -0.1765204221010208,
          -0.2918519675731659,
          -0.1270223706960678,
          null,
          0.24002371728420258,
          0.2720867991447449,
          0.26355043053627014,
          0.24244248867034912,
          0.2975311279296875,
          0.13876083493232727,
          0.21479260921478271,
          0.11803747713565826,
          0.22208371758460999,
          0.13780741393566132,
          0.15543529391288757,
          0.01799970306456089,
          0.020323727279901505,
          0.05229302495718002,
          0.1287197768688202,
          0.004682614933699369,
          -0.058335963636636734,
          -0.05731891468167305,
          0.03769291937351227,
          -0.007659203838557005,
          -0.04509901627898216,
          -0.052840705960989,
          -0.07484927028417587,
          0.013952828012406826,
          -0.06173519790172577,
          0.020656948909163475,
          -0.020420173183083534,
          -0.06538671255111694,
          -0.08013516664505005,
          -0.12145987898111343,
          -0.15029221773147583,
          -0.12269604206085205,
          -0.1278340369462967,
          -0.09079431742429733,
          -0.06308456510305405,
          -0.09433645009994507,
          -0.10808223485946655,
          -0.06322862207889557,
          -0.1550530046224594,
          -0.08376836031675339,
          -0.1905500590801239,
          -0.16720996797084808,
          -0.11392004787921906,
          -0.015231534838676453,
          -0.1670355498790741,
          -0.09917056560516357,
          -0.11483294516801834,
          -0.15709003806114197,
          null,
          -0.12051956355571747,
          -0.08706250041723251,
          -0.09957722574472427,
          -0.07568343728780746,
          -0.151417538523674,
          -0.13782085478305817,
          -0.141244038939476,
          -0.12638534605503082,
          -0.0885595828294754,
          -0.14144141972064972,
          -0.152354896068573,
          -0.2154100090265274,
          -0.19870957732200623,
          -0.1123419776558876,
          -0.055643778294324875,
          -0.01480099093168974,
          -0.07805108278989792,
          -0.10344968736171722,
          -0.06386901438236237,
          -0.12635751068592072,
          -0.15483613312244415,
          -0.14961901307106018,
          -0.19410265982151031,
          -0.15617093443870544,
          -0.18488235771656036,
          -0.1718839704990387,
          -0.095271535217762,
          -0.10884762555360794,
          -0.1264744997024536,
          -0.26385441422462463,
          -0.24583615362644196,
          -0.21743598580360413,
          -0.229775071144104,
          -0.16813813149929047,
          -0.19181105494499207,
          -0.20079107582569122,
          -0.15296736359596252,
          -0.1636808067560196,
          -0.1490490436553955,
          -0.10062547773122787,
          -0.1413365602493286,
          -0.09572441130876541,
          -0.08227915316820145,
          -0.043737489730119705,
          -0.007737080566585064,
          0.08025161176919937,
          0.1127219870686531,
          0.03844696283340454,
          0.0014132806099951267,
          0.03944592922925949,
          0.052575621753931046,
          0.18849685788154602,
          -0.004538648296147585,
          0.027669347822666168,
          0.09115035086870193,
          0.10148841887712479,
          -0.0010561320232227445,
          0.03957008942961693,
          -0.0007837158045731485,
          0.1112648993730545,
          -0.026773840188980103,
          -0.002134400187060237,
          -0.12737974524497986,
          -0.05152498185634613,
          -0.11553198844194412,
          null,
          0.1260448545217514,
          -0.03102123737335205,
          -0.0818956270813942,
          -0.10351292043924332,
          -0.10244525223970413,
          -0.14906515181064606,
          -0.12451435625553131,
          -0.11809655278921127,
          -0.139271080493927,
          -0.09128700941801071,
          -0.12343344837427139,
          -0.13787530362606049,
          -0.13316617906093597,
          -0.16896052658557892,
          -0.2113802284002304,
          -0.19504423439502716,
          -0.14553873240947723,
          -0.1979515105485916,
          -0.1935608983039856,
          -0.20403331518173218,
          -0.22804147005081177,
          -0.19693617522716522,
          -0.20251981914043427,
          0.11087806522846222,
          0.4401598870754242,
          0.4101804792881012,
          -0.2670638859272003,
          -0.2666870057582855,
          -0.224274143576622,
          -0.23255616426467896,
          -0.247610941529274,
          -0.25486013293266296,
          -0.2689654231071472,
          -0.2540649175643921,
          -0.23295725882053375,
          -0.20479491353034973,
          -0.24917255342006683,
          -0.24388711154460907,
          -0.23273086547851562,
          -0.25972241163253784,
          -0.22112546861171722,
          null,
          0.1670733243227005,
          null,
          0.12723971903324127,
          0.09513787180185318,
          0.03293450176715851,
          0.07102316617965698,
          0.024312058463692665,
          0.08788135647773743,
          0.1776224672794342,
          0.14828841388225555,
          0.1451394408941269,
          0.033948469907045364,
          0.05709971860051155,
          -0.06004804000258446,
          0.21309642493724823,
          0.13762012124061584,
          0.11971728503704071,
          0.005177947226911783,
          0.07365774363279343,
          0.010544514283537865,
          0.03993845358490944,
          -0.06549245864152908,
          0.0010831790277734399,
          -0.03834652155637741,
          0.08957398682832718,
          0.07870742678642273,
          0.06216481700539589,
          0.11595781147480011,
          0.19963206350803375,
          null,
          -0.19035927951335907,
          -0.2930517792701721,
          -0.3028769791126251,
          -0.31643930077552795,
          -0.30490773916244507,
          -0.2720417380332947,
          -0.2879295349121094,
          -0.27197811007499695,
          -0.26015955209732056,
          -0.29005348682403564,
          -0.33504024147987366,
          -0.28867843747138977,
          -0.2408064603805542,
          0.172222301363945,
          0.13580827414989471,
          0.205519899725914,
          0.1965453177690506,
          0.16623491048812866,
          0.00888245739042759,
          0.020274976268410683,
          0.04493168741464615,
          0.10752591490745544,
          0.0512973815202713,
          0.011462771333754063,
          -0.05853069946169853,
          -0.01006377674639225,
          -0.06230298802256584,
          0.04065778851509094,
          0.0009281962411478162,
          0.0909481793642044,
          0.005990596488118172,
          0.006546582095324993,
          -0.05631233751773834,
          0.03782358393073082,
          0.09203513711690903,
          0.09681724011898041,
          0.11003703624010086,
          0.40081045031547546,
          0.2609718441963196,
          0.21556104719638824,
          0.24258482456207275,
          0.2890610098838806,
          0.28940367698669434,
          0.28481432795524597,
          0.30593231320381165,
          0.2913130819797516,
          0.3809965252876282,
          0.4215203523635864,
          0.08914631605148315,
          0.2303200662136078,
          0.22311125695705414,
          0.11861097067594528,
          0.10542243719100952,
          0.09547926485538483,
          -0.0032065093982964754,
          -0.027216285467147827,
          0.01508035883307457,
          -0.09682408720254898,
          0.08001717925071716,
          0.07213642448186874,
          0.09921020269393921,
          0.06270892173051834,
          0.15556690096855164,
          0.29626816511154175,
          0.3076377213001251,
          0.33195504546165466,
          0.2345547080039978,
          0.2224019467830658,
          0.22379948198795319,
          0.10023517161607742,
          0.14006343483924866,
          0.06734424829483032,
          null,
          null,
          -0.16084839403629303,
          -0.1251574456691742,
          -0.14508886635303497,
          -0.08903629332780838,
          -0.1360611468553543,
          -0.11291342228651047,
          -0.1497499793767929,
          -0.1978226602077484,
          -0.1868685781955719,
          -0.1393183469772339,
          -0.24262432754039764,
          -0.19490307569503784,
          -0.12040461599826813,
          0.27176573872566223,
          0.24138300120830536,
          0.3059159219264984,
          0.30074355006217957,
          0.28081178665161133,
          0.24576959013938904,
          null,
          0.16027399897575378,
          null,
          -0.05125095695257187,
          -0.07190568000078201,
          -0.025930330157279968,
          0.05790228396654129,
          -0.03776659816503525,
          0.06732213497161865,
          0.08425050973892212,
          -0.025796255096793175,
          -0.005146285519003868,
          0.04590987786650658,
          -0.04182809218764305,
          0.08472147583961487,
          0.1117793619632721,
          0.07482379674911499,
          0.3474605977535248,
          0.311469703912735,
          0.16423560678958893,
          0.19077058136463165,
          0.4475151598453522,
          0.43794113397598267,
          0.35408464074134827,
          0.37600570917129517,
          0.4079558849334717,
          0.471330463886261,
          0.49978023767471313,
          0.487873375415802,
          0.511992871761322,
          0.5553480386734009,
          null,
          0.05553831532597542,
          0.05228050798177719,
          0.2003922015428543,
          null,
          0.21555738151073456,
          0.2406778484582901,
          0.1763601452112198,
          0.18561804294586182,
          0.2184768170118332,
          null,
          null,
          null,
          -0.06130508705973625,
          -0.19941368699073792,
          -0.12462075054645538,
          -0.06955785304307938,
          -0.02020699344575405,
          -0.049836426973342896,
          -0.0010216975351795554,
          0.01945452205836773,
          -0.05207745358347893,
          -0.00048396666534245014,
          -0.0682583749294281,
          -0.020748287439346313,
          0.24191658198833466,
          0.3219449818134308,
          0.31523746252059937,
          0.3479984998703003,
          0.3834492266178131,
          0.3022509813308716,
          0.3314244747161865,
          0.2636418342590332,
          0.2326010912656784,
          0.1742699146270752,
          0.2164742350578308,
          0.14419397711753845,
          0.0736127719283104,
          0.013816552236676216,
          null,
          0.21923598647117615,
          0.13859961926937103,
          0.17166700959205627,
          0.14988914132118225,
          0.1408669501543045,
          0.15281347930431366,
          0.15038429200649261,
          0.093551404774189,
          0.10847609490156174,
          0.1531602144241333,
          0.14533035457134247,
          0.05527398735284805,
          0.08543713390827179,
          -0.04937167465686798,
          null,
          0.11349433660507202,
          0.04927092418074608,
          0.2404351383447647,
          -0.059522271156311035,
          -0.017810987308621407,
          0.11283233016729355,
          -0.10229650884866714,
          -0.064877450466156,
          -0.06420718133449554,
          -0.08054095506668091,
          -0.03505338355898857,
          -0.021210772916674614,
          -0.08156095445156097,
          -0.14993725717067719,
          -0.1533234715461731,
          -0.03070489503443241,
          -0.08009719848632812,
          -0.05340500921010971,
          -0.0427115261554718,
          -0.11053846776485443,
          -0.05000726878643036,
          -0.017261408269405365,
          0.015563689172267914,
          -0.0038364201318472624,
          -0.06364612281322479,
          -0.020864339545369148,
          -0.000519264314789325,
          -0.12957407534122467,
          -0.13679705560207367,
          null,
          -0.09004825353622437,
          -0.1350623071193695,
          -0.20990301668643951,
          -0.14023146033287048,
          -0.05178844556212425,
          null,
          -0.14681673049926758,
          -0.13926580548286438,
          -0.15512794256210327,
          -0.06203944608569145,
          -0.20595788955688477,
          -0.26126524806022644,
          -0.25461897253990173,
          -0.2587452828884125,
          null,
          -0.11197322607040405,
          -0.127315953373909,
          -0.07528062909841537,
          -0.04645862057805061,
          -0.14281588792800903,
          -0.16010506451129913,
          -0.11670704185962677,
          -0.10409577190876007,
          -0.04579333961009979,
          -0.03817466273903847,
          -0.15208838880062103,
          -0.18584860861301422,
          -0.16476482152938843,
          -0.14982588589191437,
          -0.2740000784397125,
          -0.24556942284107208,
          -0.22082747519016266,
          -0.24947704374790192,
          -0.21510536968708038,
          -0.23539626598358154,
          -0.1710623800754547,
          -0.22920897603034973,
          0.004009355325251818,
          -0.036992888897657394,
          -0.03605582192540169,
          -0.03482840582728386,
          -0.0980195701122284,
          -0.055017028003931046,
          -0.056175168603658676,
          -0.020096449181437492,
          0.05368943139910698,
          -0.011607175692915916,
          0.09964647144079208,
          0.01862819492816925,
          0.021800139918923378,
          0.06573314219713211,
          0.21237975358963013,
          0.17223338782787323,
          0.2206527590751648,
          0.2983267605304718,
          0.23442207276821136,
          0.2912468910217285,
          0.310065358877182,
          0.2599695920944214,
          0.14390134811401367,
          0.09046442806720734,
          0.20050404965877533,
          0.16969604790210724,
          0.003699197433888912,
          0.02718161791563034,
          0.11490432173013687,
          0.01209531631320715,
          0.1808512657880783,
          0.12486887723207474,
          0.11717523634433746,
          0.2687950134277344,
          0.24698972702026367,
          null,
          -0.235776886343956,
          0.0067786709405481815,
          -0.03140505403280258,
          null,
          null,
          null,
          null,
          0.08159535378217697,
          -0.0751558393239975,
          -0.004677174147218466,
          -0.10416107624769211,
          -0.14011803269386292,
          -0.09132222831249237,
          -0.09974370151758194,
          -0.13984112441539764,
          -0.07162701338529587,
          -0.15456999838352203,
          -0.07888620346784592,
          -0.08508101105690002,
          0.3553670048713684,
          0.19976788759231567,
          0.05620928853750229,
          0.1430242657661438,
          0.2669035792350769,
          -0.002360597485676408,
          0.10286574065685272,
          0.4392152726650238,
          0.4780574142932892,
          0.41620731353759766,
          0.45859336853027344,
          0.23210923373699188,
          0.07311338186264038,
          0.14114616811275482,
          0.061081741005182266,
          0.14143069088459015,
          -0.22920626401901245,
          -0.16673438251018524,
          -0.20317059755325317,
          -0.18032602965831757,
          -0.002394638955593109,
          -0.03776256740093231,
          -0.07292285561561584,
          -0.0430065356194973,
          -0.07739152759313583,
          -0.1563720554113388,
          -0.15446028113365173,
          -0.21232925355434418,
          -0.1939789056777954,
          -0.077660471200943,
          null,
          0.0693802535533905,
          0.03462515398859978,
          0.07073049247264862,
          0.07293888926506042,
          0.005814980715513229,
          -0.005737558472901583,
          -0.003850390901789069,
          -0.012232049368321896,
          0.07265167683362961,
          0.031364038586616516,
          -0.07419021427631378,
          -0.06552436202764511,
          -0.08108239620923996,
          -0.08691839128732681,
          -0.09877336770296097,
          -0.14485174417495728,
          -0.13053622841835022,
          0.11522096395492554,
          -0.034547336399555206,
          -0.03828760236501694,
          -0.029853735119104385,
          -0.06149032339453697,
          0.03305376321077347,
          -0.012056075036525726,
          0.049856483936309814,
          0.050611626356840134,
          -0.03170093148946762,
          -0.044114116579294205,
          -0.08946792781352997,
          -0.019348911941051483,
          -0.10124395042657852,
          -0.07267285138368607,
          -0.2950957119464874,
          -0.28180429339408875,
          -0.2594471573829651,
          -0.30320385098457336,
          -0.27488023042678833,
          -0.14791226387023926,
          -0.2732120156288147,
          -0.23660990595817566,
          -0.2634347379207611,
          -0.25363197922706604,
          -0.2663264870643616,
          -0.1735612004995346,
          -0.23666846752166748,
          -0.25147512555122375,
          -0.12178131192922592,
          0.12697286903858185,
          0.0958511009812355,
          0.10587087273597717,
          0.058670081198215485,
          -0.05424419417977333,
          0.10585186630487442,
          0.052099939435720444,
          0.018697967752814293,
          0.044103316962718964,
          -0.021762866526842117,
          -0.04505761340260506,
          -0.03861994668841362,
          -0.09939240664243698,
          -0.06199974939227104,
          -0.054980259388685226,
          -0.018502252176404,
          -0.023182135075330734,
          -0.04082195833325386,
          -0.06898024678230286,
          -0.03329531475901604,
          0.0025956102181226015,
          -0.012468654662370682,
          0.20012067258358002,
          0.20207644999027252,
          0.17586563527584076,
          0.09869544208049774,
          0.16919554769992828,
          0.07846467196941376,
          0.061088211834430695,
          0.05806805565953255,
          0.06585712730884552,
          0.02489175647497177,
          0.07271962612867355,
          0.003596819471567869,
          0.20114026963710785,
          0.08940582722425461,
          0.044362157583236694,
          -0.008678190410137177,
          0.03238602727651596,
          -0.016248295083642006,
          0.017118064686655998,
          0.2641153335571289,
          0.23934306204319,
          0.2223144769668579,
          0.12735450267791748,
          0.12332413345575333,
          0.0239978339523077,
          -0.07181508094072342,
          -0.012124172411859035,
          0.008319071494042873,
          -0.027934813871979713,
          -0.1008056178689003,
          -0.08833298087120056,
          -0.053348276764154434,
          -0.037456214427948,
          -0.06758229434490204,
          -0.06986508518457413,
          -0.06947905570268631,
          -0.033900391310453415,
          -0.03785175830125809,
          0.46361663937568665,
          0.2868071496486664,
          0.29586002230644226,
          0.3522007167339325,
          0.41002246737480164,
          0.40398237109184265,
          0.34702906012535095,
          0.3453969657421112,
          0.2528245151042938,
          0.1787719577550888,
          0.08719172328710556,
          null,
          -0.07187971472740173,
          -0.017986290156841278,
          0.03924151882529259,
          0.055053651332855225,
          0.05192285403609276,
          -0.021221498027443886,
          -0.07865604013204575,
          -0.05413965508341789,
          0.05547939985990524,
          -0.17485088109970093,
          -0.15297763049602509,
          -0.11163802444934845,
          -0.10185665637254715,
          0.1914285272359848,
          0.17628702521324158,
          0.1394643485546112,
          0.08675634115934372,
          -0.07309112697839737,
          -0.05276689678430557,
          -0.03669271990656853,
          null,
          -0.09463541954755783,
          -0.12759920954704285,
          -0.07590997964143753,
          -0.048390477895736694,
          -0.09940831363201141,
          -0.09289437532424927,
          -0.164753720164299,
          -0.09429518133401871,
          -0.15175363421440125,
          -0.1530999094247818,
          -0.20157690346240997,
          -0.17916139960289001,
          -0.14089472591876984,
          -0.1193898618221283,
          -0.16425831615924835,
          -0.1855631172657013,
          -0.055607832968235016,
          -0.09867231547832489,
          -0.0883481353521347,
          -0.08168255537748337,
          -0.049541886895895004,
          -0.0687386617064476,
          -0.11315334588289261,
          -0.08976767212152481,
          -0.047451119869947433,
          -0.05294119566679001,
          -0.0844569280743599,
          -0.09240616858005524,
          -0.05827857926487923,
          0.06361125409603119,
          0.06777408719062805,
          0.09929440170526505,
          0.15096822381019592,
          0.10660141706466675,
          0.13614509999752045,
          0.14618302881717682,
          0.1730996072292328,
          0.08974749594926834,
          0.11865808069705963,
          0.05394088476896286,
          0.14891226589679718,
          0.1413574516773224,
          -0.13358087837696075,
          -0.10129358619451523,
          -0.20627330243587494,
          -0.22596266865730286,
          -0.19234776496887207,
          -0.1758386492729187,
          0.096592478454113,
          -0.14398890733718872,
          -0.08741708099842072,
          -0.08289449661970139,
          -0.05102858319878578,
          -0.10481426864862442,
          0.059815771877765656,
          -0.1623474806547165,
          -0.21811749041080475,
          -0.1866992712020874,
          -0.21039751172065735,
          -0.22769343852996826,
          -0.23747825622558594,
          -0.21584682166576385,
          -0.23437391221523285,
          -0.2443137764930725,
          -0.22857755422592163,
          0.041024670004844666,
          0.0737575888633728,
          0.005719899199903011,
          -0.024201253429055214,
          0.08872713893651962,
          -0.029964828863739967,
          0.04856383055448532,
          0.07274501770734787,
          0.6449750661849976,
          0.6893180012702942,
          0.6980987787246704,
          0.6875602006912231,
          0.679426372051239,
          0.6500090956687927,
          0.4903545677661896,
          0.561138391494751,
          0.4702581763267517,
          -0.10062718391418457,
          -0.18333354592323303,
          -0.1900434046983719,
          -0.1688384711742401,
          -0.1736866682767868,
          -0.10388018190860748,
          null,
          0.31655153632164,
          0.29056692123413086,
          0.04360498860478401,
          0.09164351224899292,
          -0.009689508937299252,
          0.0702836662530899,
          0.1505822390317917,
          0.12070083618164062,
          0.22741396725177765,
          0.1683223843574524,
          0.13359729945659637,
          0.12215355038642883,
          0.16697579622268677,
          null,
          0.34434670209884644,
          0.36519986391067505,
          0.34934568405151367,
          0.33566808700561523,
          0.28811946511268616,
          0.3045295178890228,
          0.3313109278678894,
          0.2614469826221466,
          0.23866426944732666,
          0.2504400312900543,
          0.16148877143859863,
          0.21253405511379242,
          0.15129804611206055,
          0.31150302290916443,
          0.2786802351474762,
          0.29772624373435974,
          0.25436416268348694,
          0.2843227982521057,
          0.2873353660106659,
          0.23699785768985748,
          0.3479527533054352,
          0.32943692803382874,
          0.26562947034835815,
          0.2941385805606842,
          0.11982706934213638,
          0.15674664080142975,
          0.1252596527338028,
          0.009665843099355698,
          0.14039160311222076,
          0.07551418244838715,
          0.07026869058609009,
          0.0182561744004488,
          -0.019578710198402405,
          0.017166446894407272,
          0.039188601076602936,
          0.10403333604335785,
          0.07717341184616089,
          0.03940670192241669,
          0.010171768255531788,
          0.009081539697945118,
          0.029247265309095383,
          0.07635349035263062,
          -0.055892180651426315,
          -0.0548146590590477,
          -0.008599204011261463,
          -0.023038242012262344,
          -0.05535763502120972,
          -0.06350123137235641,
          -0.0774265006184578,
          -0.04631692171096802,
          -0.03214083984494209,
          -0.015741674229502678,
          -0.030251333490014076,
          0.008891422301530838,
          0.025959890335798264,
          0.08485426008701324,
          0.13639411330223083,
          0.11903340369462967,
          0.06749775260686874,
          0.06660440564155579,
          0.06632105261087418,
          0.05055084824562073,
          -0.03535808250308037,
          0.04309293255209923,
          0.12433876097202301,
          -0.010153932496905327,
          0.03228462114930153,
          0.09940405935049057,
          null,
          null,
          null,
          null,
          null,
          null,
          null,
          0.07975184172391891,
          -0.04202008619904518,
          -0.05849927291274071,
          -0.08726834505796432,
          -0.08441399782896042,
          0.02460414357483387,
          0.03463919460773468,
          -0.046561792492866516,
          0.07981351763010025,
          -0.05880002677440643,
          -0.04135687276721001,
          0.024418959394097328,
          0.13127434253692627,
          0.10851313173770905,
          0.017757194116711617,
          0.1471523493528366,
          0.18097618222236633,
          0.256901353597641,
          0.13286271691322327,
          0.2363899052143097,
          0.09405872970819473,
          0.11068715900182724,
          0.07514853775501251,
          0.02490849234163761,
          null,
          0.08910063654184341,
          0.10036711394786835,
          0.07709900289773941,
          0.3003769814968109,
          0.02967587299644947,
          0.1648796945810318,
          0.09955000877380371,
          0.14049890637397766,
          0.08540236949920654,
          0.09483594447374344,
          0.04526840150356293,
          0.06894045323133469,
          0.12372947484254837,
          null,
          -0.08029548078775406,
          -0.06994128227233887,
          -0.08534698933362961,
          -0.11725807934999466,
          -0.1270526796579361,
          -0.15328946709632874,
          -0.1501179337501526,
          -0.14658750593662262,
          -0.15281307697296143,
          -0.1289251148700714,
          -0.16252174973487854,
          null,
          null,
          -0.047106996178627014,
          0.08310890942811966,
          0.059697844088077545,
          0.014428784139454365,
          -0.008531462401151657,
          0.008964925073087215,
          -0.0018142388435080647,
          0.018311867490410805,
          0.0021342728286981583,
          -0.006957769859582186,
          -0.10245398432016373,
          -0.16956639289855957,
          -0.1307104080915451,
          -0.1989849954843521,
          0.06607482582330704,
          0.1320081353187561,
          0.05664471909403801,
          0.02737955003976822,
          0.07635204493999481,
          0.19067981839179993,
          0.19964441657066345,
          0.0456102229654789,
          -0.0015995994908735156,
          -0.007561531849205494,
          -0.07096462696790695,
          0.003110338468104601,
          0.02811283804476261,
          -0.07121168822050095,
          -0.07758693397045135,
          -0.0670718103647232,
          -0.07913526147603989,
          -0.06043777987360954,
          -0.12334053218364716,
          -0.07938965409994125,
          -0.06611192226409912,
          -0.13634860515594482,
          -0.0899965763092041,
          -0.13405627012252808,
          -0.15436364710330963,
          -0.17848637700080872,
          -0.1297357827425003,
          0.06340228021144867,
          -0.021588167175650597,
          0.08277516812086105,
          0.0037180667277425528,
          0.03306754678487778,
          0.07254362106323242,
          0.05263257399201393,
          0.021115196868777275,
          -0.015335866250097752,
          -0.0511600486934185,
          -0.07124263793230057,
          -0.14139319956302643,
          -0.10795789957046509,
          -0.08258053660392761,
          -0.11554288119077682,
          null,
          -0.04730670899152756,
          0.0732131376862526,
          0.0016567446291446686,
          -0.06687826663255692,
          -0.026549983769655228,
          -0.13717497885227203,
          -0.0642261654138565,
          -0.09301692992448807,
          -0.09093762189149857,
          -0.12176388502120972,
          -0.2544407844543457,
          -0.23071840405464172,
          -0.006559355650097132,
          -0.178589329123497,
          -0.21748311817646027,
          -0.10599029809236526,
          -0.17306198179721832,
          -0.09708823263645172,
          -0.11844685673713684,
          -0.12640388309955597,
          -0.16310612857341766,
          -0.22528617084026337,
          -0.17587386071681976,
          -0.26136642694473267,
          -0.2338545173406601,
          -0.23809020221233368,
          0.23489730060100555,
          0.10368723422288895,
          0.011700338684022427,
          0.1615298092365265,
          null,
          null,
          -0.1877571940422058,
          -0.19623224437236786,
          -0.08471284061670303,
          -0.1397925466299057,
          -0.11152307689189911,
          -0.12921588122844696,
          -0.10044325888156891,
          -0.1412583291530609,
          -0.11528762429952621,
          -0.1597900092601776,
          -0.21736560761928558,
          -0.22142210602760315,
          -0.30656155943870544,
          -0.2837419807910919,
          -0.30501219630241394,
          -0.28338301181793213,
          -0.29636645317077637,
          -0.27883076667785645,
          -0.2926163673400879,
          -0.28933006525039673,
          -0.26455968618392944,
          -0.17106080055236816,
          -0.18124747276306152,
          -0.14496149122714996,
          -0.14714211225509644,
          -0.11557179689407349,
          -0.07061229646205902,
          null,
          0.01738087646663189,
          -0.0007296971743926406,
          -0.03867138922214508,
          -0.011817571707069874,
          -0.027709512040019035,
          -0.022728776559233665,
          0.025018684566020966,
          0.02514749951660633,
          0.05138956010341644,
          0.056991949677467346,
          0.06406588107347488,
          null,
          0.004603384993970394,
          -0.02199254184961319,
          -0.10987800359725952,
          -0.03263252228498459,
          -0.14188583195209503,
          -0.11950630694627762,
          -0.08108287304639816,
          -0.07255402207374573,
          -0.04480266198515892,
          -0.13231615722179413,
          -0.13114206492900848,
          -0.19226565957069397,
          -0.14684349298477173,
          -0.11053171008825302,
          -0.05064260959625244,
          -0.0021319782827049494,
          -0.030309071764349937,
          -0.03625664860010147,
          -0.07727022469043732,
          -0.1604560911655426,
          -0.035587240010499954,
          -0.0518670529127121,
          -0.045290060341358185,
          -0.11110300570726395,
          -0.08559001982212067,
          -0.04352188855409622,
          -0.07362717390060425,
          -0.01880391500890255,
          -0.1653100848197937,
          -0.17762303352355957,
          -0.1702040433883667,
          -0.18484504520893097,
          -0.13040107488632202,
          -0.09987622499465942,
          0.07194534689188004,
          -0.06208997592329979,
          -0.06787561625242233,
          -0.07747986167669296,
          -0.09954249113798141,
          -0.039931874722242355,
          0.14940130710601807,
          0.10058067739009857,
          0.24770912528038025,
          0.1480126827955246,
          0.011957618407905102,
          0.004522108938544989,
          -0.0714598298072815,
          0.03351479023694992,
          0.05044646933674812,
          0.10607273876667023,
          0.07915584743022919,
          0.09527481347322464,
          0.07405570149421692,
          0.13825422525405884,
          0.29330193996429443,
          0.04572312906384468,
          -0.07492607831954956,
          -0.01800346001982689,
          -0.1486736387014389,
          0.11494891345500946,
          0.15408028662204742,
          0.14967015385627747,
          0.1429075002670288,
          0.1355815827846527,
          -0.06585581600666046,
          0.027229677885770798,
          -0.04970927909016609,
          -0.1011645570397377,
          0.010068872012197971,
          -0.02805233746767044,
          -0.05090994015336037,
          -0.1256384402513504,
          -0.12785226106643677,
          -0.06063176691532135,
          -0.054507993161678314,
          -0.16739816963672638,
          -0.12901543080806732,
          -0.07487351447343826,
          0.042651593685150146,
          -0.018933460116386414,
          0.029249949380755424,
          -0.025104328989982605,
          -0.019660847261548042,
          0.035709477961063385,
          0.05234818905591965,
          0.007825181819498539,
          -0.054714005440473557,
          -0.025005677714943886,
          -0.11891058832406998,
          -0.10169173032045364,
          -0.08135689049959183,
          null,
          null,
          null,
          null,
          null,
          null,
          null,
          -0.08378969132900238,
          -0.15779033303260803,
          -0.0954817458987236,
          -0.15386201441287994,
          -0.20223142206668854,
          -0.15424640476703644,
          -0.16290941834449768,
          -0.07685281336307526,
          -0.11690614372491837,
          -0.12704870104789734,
          -0.07020007073879242,
          -0.12861840426921844,
          -0.05027341470122337,
          -0.1339699774980545,
          -0.014951311983168125,
          -0.052023258060216904,
          -0.05928772687911987,
          -0.1022142767906189,
          -0.09594191610813141,
          -0.0332343690097332,
          -0.048490479588508606,
          null,
          -0.049806147813797,
          -0.04291640967130661,
          -0.03557406738400459,
          0.026375923305749893,
          0.014370064251124859,
          -0.08888514339923859,
          -0.05529502034187317,
          -0.1058678925037384,
          null,
          null,
          null,
          null,
          null,
          -0.09342380613088608,
          -0.1495678871870041,
          -0.1273386925458908,
          -0.1379983127117157,
          -0.12175389379262924,
          -0.05943123996257782,
          -0.10145390033721924,
          -0.028165718540549278,
          -0.0723392590880394,
          -0.04809087887406349,
          -0.03206297382712364,
          -0.07497629523277283,
          -0.048638924956321716,
          -0.12061331421136856,
          0.06240265443921089,
          0.10985273122787476,
          0.16258876025676727,
          0.306048184633255,
          0.2585369646549225,
          0.1448555439710617,
          0.1605905145406723,
          0.2682185471057892,
          0.2990434467792511,
          0.3191469609737396,
          0.09377797693014145,
          0.10604049265384674,
          0.051186613738536835,
          0.0768037810921669,
          -0.04005447030067444,
          -0.024155577644705772,
          -0.05560869723558426,
          -0.06339464336633682,
          -0.07717316597700119,
          -0.06673254817724228,
          -0.17841561138629913,
          -0.19073791801929474,
          null,
          0.14635804295539856,
          0.1252460926771164,
          0.22052791714668274,
          0.1413842886686325,
          0.1614600569009781,
          0.13192212581634521,
          0.1588800996541977,
          0.20171402394771576,
          0.21117615699768066,
          0.14573439955711365,
          0.1702743023633957,
          0.07668816298246384,
          0.09102203696966171,
          0.09081844985485077,
          0.2904559075832367,
          0.12504173815250397,
          0.1386188268661499,
          0.0601220428943634,
          0.10892389714717865,
          0.08844253420829773,
          0.17977295815944672,
          0.10095565021038055,
          0.03621544688940048,
          -0.06350205838680267,
          0.12161870300769806,
          0.08166616410017014,
          0.007882609963417053,
          0.1306823194026947,
          0.31598666310310364,
          0.22545427083969116,
          0.044834915548563004,
          -0.029827160760760307,
          -0.016732314601540565,
          0.0047532180324196815,
          0.03526958078145981,
          0.021749423816800117,
          0.0015177401946857572,
          0.09198928624391556,
          0.018658051267266273,
          -0.04880446940660477,
          -0.0704944059252739,
          null,
          null,
          null,
          -0.08846811950206757,
          0.00043171143624931574,
          0.01762349158525467,
          0.0006881745648570359,
          0.0618293359875679,
          -0.11886816471815109,
          -0.07273135334253311,
          0.06340199708938599,
          0.0015438188565894961,
          0.022057460620999336,
          0.00966602098196745,
          0.12427596002817154,
          -0.06481891870498657,
          -0.04456115514039993,
          -0.04046706482768059,
          -0.0272256750613451,
          -0.012851664796471596,
          0.2558172047138214,
          0.30835163593292236,
          0.13895484805107117,
          -0.04615543410181999,
          0.2132839858531952,
          0.05443650111556053,
          0.11046626418828964,
          0.14869466423988342,
          0.17877833545207977,
          0.11551778763532639,
          0.15319281816482544,
          0.10039015114307404,
          0.29527199268341064,
          0.33145996928215027,
          0.39094552397727966,
          0.4254818558692932,
          0.5249075293540955,
          0.5359854698181152,
          0.4001588821411133,
          0.3798593580722809,
          0.45622697472572327,
          0.5525214076042175,
          0.3159483075141907,
          0.35571932792663574,
          0.2124912589788437,
          0.2588443458080292,
          0.30883023142814636,
          0.2730555832386017,
          -0.006546494085341692,
          -0.05463014915585518,
          -0.06982320547103882,
          -0.0847100093960762,
          -0.06868194788694382,
          -0.006935871671885252,
          -0.04217866435647011,
          -0.006869466509670019,
          0.06477482616901398,
          0.14142966270446777,
          0.08661196380853653,
          0.07753955572843552,
          0.12774580717086792,
          0.014855396002531052,
          -0.11856985092163086,
          -0.1351689249277115,
          -0.1987246721982956,
          -0.17622476816177368,
          -0.20691141486167908,
          -0.23192760348320007,
          -0.22603139281272888,
          -0.16495002806186676,
          -0.21860024333000183,
          -0.19105876982212067,
          -0.2088652402162552,
          -0.20181423425674438,
          null,
          -0.17824725806713104,
          -0.18881674110889435,
          -0.2271200567483902,
          -0.18719609081745148,
          -0.241873636841774,
          -0.21560513973236084,
          -0.22933900356292725,
          -0.023702450096607208,
          -0.016285767778754234,
          -0.06502895802259445,
          -0.23721051216125488,
          -0.17557619512081146,
          -0.13558274507522583,
          -0.11088898777961731,
          -0.10168436169624329,
          0.018397098407149315,
          -0.1228119432926178,
          -0.0714481770992279,
          0.03197091072797775,
          0.09277527034282684,
          0.004624356981366873,
          0.06604084372520447,
          0.25965872406959534,
          0.2848806381225586,
          -0.04104321077466011,
          -0.0008339456398971379,
          -0.054835595190525055,
          -0.03740893304347992,
          -0.014678716659545898,
          0.03150448575615883,
          0.08112668246030807,
          0.05271939933300018,
          0.009275518357753754,
          0.1350565254688263,
          0.13175912201404572,
          0.059688836336135864,
          0.07888530939817429,
          0.1388212889432907,
          0.14711755514144897,
          -0.2571086883544922,
          -0.24067531526088715,
          -0.26471278071403503,
          -0.2414010763168335,
          -0.18866029381752014,
          -0.22761216759681702,
          -0.22311291098594666,
          -0.21628621220588684,
          0.0838293507695198,
          -0.03340182453393936,
          0.010512580163776875,
          -0.0022775360848754644,
          -0.07437071204185486,
          -0.08101668953895569,
          0.1263442039489746,
          -0.03250446915626526,
          0.01904008910059929,
          0.056746646761894226,
          0.07128936797380447,
          null,
          null,
          null,
          0.20111078023910522,
          0.13105912506580353,
          0.215842604637146,
          0.0539720244705677,
          0.12872491776943207,
          0.060019660741090775,
          null,
          0.3362516760826111,
          0.33112406730651855,
          0.3414573073387146,
          0.40317288041114807,
          0.33604228496551514,
          0.37128815054893494,
          0.34628844261169434,
          0.3547377586364746,
          0.3001050055027008,
          0.2503077983856201,
          0.2912358045578003,
          0.2262835055589676,
          0.2705574333667755,
          0.20250841975212097,
          null,
          0.19708435237407684,
          0.2546924650669098,
          0.20064258575439453,
          0.24392126500606537,
          0.16068419814109802,
          0.21469856798648834,
          0.273914635181427,
          0.2213398665189743,
          0.21945954859256744,
          0.14404797554016113,
          0.19731692969799042,
          0.11611639708280563,
          0.14429868757724762,
          0.03410335257649422,
          -0.11254404485225677,
          -0.16500188410282135,
          -0.1428798884153366,
          -0.11828844249248505,
          -0.15804964303970337,
          -0.08001510798931122,
          0.06710521131753922,
          -0.043126463890075684,
          -0.07277744263410568,
          -0.032266486436128616,
          -0.07194391638040543,
          -0.09139233827590942,
          -0.09715606272220612,
          -0.09530318528413773,
          -0.08398690074682236,
          -0.11549217253923416,
          -0.023096783086657524,
          0.013130784034729004,
          -0.030089907348155975,
          0.042082563042640686,
          -0.037380415946245193,
          -0.03404664620757103,
          0.061329182237386703,
          0.37466803193092346,
          0.2081928700208664,
          0.12252409756183624,
          0.3175850212574005,
          0.3042975962162018,
          null,
          -0.031057080253958702,
          -0.22500261664390564,
          -0.11636479943990707,
          -0.15488344430923462,
          -0.22638675570487976,
          -0.1927299201488495,
          -0.21974246203899384,
          -0.19884102046489716,
          -0.11693695187568665,
          -0.1549309641122818,
          -0.16875705122947693,
          null,
          null,
          null,
          0.014574413187801838,
          0.08920472860336304,
          0.20057456195354462,
          -0.06187038496136665,
          -0.005769398063421249,
          0.10499256104230881,
          -0.11029041558504105,
          -0.027051575481891632,
          3.984508657595143e-05,
          0.08550644665956497,
          -0.08981402218341827,
          null,
          -0.04076434299349785,
          -0.12553076446056366,
          0.011008867993950844,
          -0.05224670469760895,
          -0.10433351993560791,
          -0.17348551750183105,
          -0.17072929441928864,
          -0.17900784313678741,
          -0.15730325877666473,
          -0.13938328623771667,
          -0.15082134306430817,
          -0.14671222865581512,
          null,
          null,
          -0.005999125074595213,
          -0.06697513163089752,
          0.05570240691304207,
          -0.09597895294427872,
          0.0028013880364596844,
          0.0076607330702245235,
          -0.10441944748163223,
          -0.010733691975474358,
          -0.03881865739822388,
          0.12234990298748016,
          0.14032293856143951,
          0.04812125861644745,
          0.0774618536233902,
          0.056029193103313446,
          -0.07639678567647934,
          -0.08209157735109329,
          -0.08968094736337662,
          -0.07769100368022919,
          -0.09281296283006668,
          -0.0878758579492569,
          -0.10250548273324966,
          -0.10410073399543762,
          -0.0738799124956131,
          -0.12317058444023132,
          -0.09463448822498322,
          -0.09764453768730164,
          -0.0684271901845932,
          -0.0637906938791275,
          -0.00869576446712017
         ],
         "y0": " ",
         "yaxis": "y"
        }
       ],
       "layout": {
        "boxmode": "group",
        "legend": {
         "tracegroupgap": 0
        },
        "margin": {
         "t": 60
        },
        "template": {
         "data": {
          "bar": [
           {
            "error_x": {
             "color": "#2a3f5f"
            },
            "error_y": {
             "color": "#2a3f5f"
            },
            "marker": {
             "line": {
              "color": "#E5ECF6",
              "width": 0.5
             }
            },
            "type": "bar"
           }
          ],
          "barpolar": [
           {
            "marker": {
             "line": {
              "color": "#E5ECF6",
              "width": 0.5
             }
            },
            "type": "barpolar"
           }
          ],
          "carpet": [
           {
            "aaxis": {
             "endlinecolor": "#2a3f5f",
             "gridcolor": "white",
             "linecolor": "white",
             "minorgridcolor": "white",
             "startlinecolor": "#2a3f5f"
            },
            "baxis": {
             "endlinecolor": "#2a3f5f",
             "gridcolor": "white",
             "linecolor": "white",
             "minorgridcolor": "white",
             "startlinecolor": "#2a3f5f"
            },
            "type": "carpet"
           }
          ],
          "choropleth": [
           {
            "colorbar": {
             "outlinewidth": 0,
             "ticks": ""
            },
            "type": "choropleth"
           }
          ],
          "contour": [
           {
            "colorbar": {
             "outlinewidth": 0,
             "ticks": ""
            },
            "colorscale": [
             [
              0,
              "#0d0887"
             ],
             [
              0.1111111111111111,
              "#46039f"
             ],
             [
              0.2222222222222222,
              "#7201a8"
             ],
             [
              0.3333333333333333,
              "#9c179e"
             ],
             [
              0.4444444444444444,
              "#bd3786"
             ],
             [
              0.5555555555555556,
              "#d8576b"
             ],
             [
              0.6666666666666666,
              "#ed7953"
             ],
             [
              0.7777777777777778,
              "#fb9f3a"
             ],
             [
              0.8888888888888888,
              "#fdca26"
             ],
             [
              1,
              "#f0f921"
             ]
            ],
            "type": "contour"
           }
          ],
          "contourcarpet": [
           {
            "colorbar": {
             "outlinewidth": 0,
             "ticks": ""
            },
            "type": "contourcarpet"
           }
          ],
          "heatmap": [
           {
            "colorbar": {
             "outlinewidth": 0,
             "ticks": ""
            },
            "colorscale": [
             [
              0,
              "#0d0887"
             ],
             [
              0.1111111111111111,
              "#46039f"
             ],
             [
              0.2222222222222222,
              "#7201a8"
             ],
             [
              0.3333333333333333,
              "#9c179e"
             ],
             [
              0.4444444444444444,
              "#bd3786"
             ],
             [
              0.5555555555555556,
              "#d8576b"
             ],
             [
              0.6666666666666666,
              "#ed7953"
             ],
             [
              0.7777777777777778,
              "#fb9f3a"
             ],
             [
              0.8888888888888888,
              "#fdca26"
             ],
             [
              1,
              "#f0f921"
             ]
            ],
            "type": "heatmap"
           }
          ],
          "heatmapgl": [
           {
            "colorbar": {
             "outlinewidth": 0,
             "ticks": ""
            },
            "colorscale": [
             [
              0,
              "#0d0887"
             ],
             [
              0.1111111111111111,
              "#46039f"
             ],
             [
              0.2222222222222222,
              "#7201a8"
             ],
             [
              0.3333333333333333,
              "#9c179e"
             ],
             [
              0.4444444444444444,
              "#bd3786"
             ],
             [
              0.5555555555555556,
              "#d8576b"
             ],
             [
              0.6666666666666666,
              "#ed7953"
             ],
             [
              0.7777777777777778,
              "#fb9f3a"
             ],
             [
              0.8888888888888888,
              "#fdca26"
             ],
             [
              1,
              "#f0f921"
             ]
            ],
            "type": "heatmapgl"
           }
          ],
          "histogram": [
           {
            "marker": {
             "colorbar": {
              "outlinewidth": 0,
              "ticks": ""
             }
            },
            "type": "histogram"
           }
          ],
          "histogram2d": [
           {
            "colorbar": {
             "outlinewidth": 0,
             "ticks": ""
            },
            "colorscale": [
             [
              0,
              "#0d0887"
             ],
             [
              0.1111111111111111,
              "#46039f"
             ],
             [
              0.2222222222222222,
              "#7201a8"
             ],
             [
              0.3333333333333333,
              "#9c179e"
             ],
             [
              0.4444444444444444,
              "#bd3786"
             ],
             [
              0.5555555555555556,
              "#d8576b"
             ],
             [
              0.6666666666666666,
              "#ed7953"
             ],
             [
              0.7777777777777778,
              "#fb9f3a"
             ],
             [
              0.8888888888888888,
              "#fdca26"
             ],
             [
              1,
              "#f0f921"
             ]
            ],
            "type": "histogram2d"
           }
          ],
          "histogram2dcontour": [
           {
            "colorbar": {
             "outlinewidth": 0,
             "ticks": ""
            },
            "colorscale": [
             [
              0,
              "#0d0887"
             ],
             [
              0.1111111111111111,
              "#46039f"
             ],
             [
              0.2222222222222222,
              "#7201a8"
             ],
             [
              0.3333333333333333,
              "#9c179e"
             ],
             [
              0.4444444444444444,
              "#bd3786"
             ],
             [
              0.5555555555555556,
              "#d8576b"
             ],
             [
              0.6666666666666666,
              "#ed7953"
             ],
             [
              0.7777777777777778,
              "#fb9f3a"
             ],
             [
              0.8888888888888888,
              "#fdca26"
             ],
             [
              1,
              "#f0f921"
             ]
            ],
            "type": "histogram2dcontour"
           }
          ],
          "mesh3d": [
           {
            "colorbar": {
             "outlinewidth": 0,
             "ticks": ""
            },
            "type": "mesh3d"
           }
          ],
          "parcoords": [
           {
            "line": {
             "colorbar": {
              "outlinewidth": 0,
              "ticks": ""
             }
            },
            "type": "parcoords"
           }
          ],
          "pie": [
           {
            "automargin": true,
            "type": "pie"
           }
          ],
          "scatter": [
           {
            "marker": {
             "colorbar": {
              "outlinewidth": 0,
              "ticks": ""
             }
            },
            "type": "scatter"
           }
          ],
          "scatter3d": [
           {
            "line": {
             "colorbar": {
              "outlinewidth": 0,
              "ticks": ""
             }
            },
            "marker": {
             "colorbar": {
              "outlinewidth": 0,
              "ticks": ""
             }
            },
            "type": "scatter3d"
           }
          ],
          "scattercarpet": [
           {
            "marker": {
             "colorbar": {
              "outlinewidth": 0,
              "ticks": ""
             }
            },
            "type": "scattercarpet"
           }
          ],
          "scattergeo": [
           {
            "marker": {
             "colorbar": {
              "outlinewidth": 0,
              "ticks": ""
             }
            },
            "type": "scattergeo"
           }
          ],
          "scattergl": [
           {
            "marker": {
             "colorbar": {
              "outlinewidth": 0,
              "ticks": ""
             }
            },
            "type": "scattergl"
           }
          ],
          "scattermapbox": [
           {
            "marker": {
             "colorbar": {
              "outlinewidth": 0,
              "ticks": ""
             }
            },
            "type": "scattermapbox"
           }
          ],
          "scatterpolar": [
           {
            "marker": {
             "colorbar": {
              "outlinewidth": 0,
              "ticks": ""
             }
            },
            "type": "scatterpolar"
           }
          ],
          "scatterpolargl": [
           {
            "marker": {
             "colorbar": {
              "outlinewidth": 0,
              "ticks": ""
             }
            },
            "type": "scatterpolargl"
           }
          ],
          "scatterternary": [
           {
            "marker": {
             "colorbar": {
              "outlinewidth": 0,
              "ticks": ""
             }
            },
            "type": "scatterternary"
           }
          ],
          "surface": [
           {
            "colorbar": {
             "outlinewidth": 0,
             "ticks": ""
            },
            "colorscale": [
             [
              0,
              "#0d0887"
             ],
             [
              0.1111111111111111,
              "#46039f"
             ],
             [
              0.2222222222222222,
              "#7201a8"
             ],
             [
              0.3333333333333333,
              "#9c179e"
             ],
             [
              0.4444444444444444,
              "#bd3786"
             ],
             [
              0.5555555555555556,
              "#d8576b"
             ],
             [
              0.6666666666666666,
              "#ed7953"
             ],
             [
              0.7777777777777778,
              "#fb9f3a"
             ],
             [
              0.8888888888888888,
              "#fdca26"
             ],
             [
              1,
              "#f0f921"
             ]
            ],
            "type": "surface"
           }
          ],
          "table": [
           {
            "cells": {
             "fill": {
              "color": "#EBF0F8"
             },
             "line": {
              "color": "white"
             }
            },
            "header": {
             "fill": {
              "color": "#C8D4E3"
             },
             "line": {
              "color": "white"
             }
            },
            "type": "table"
           }
          ]
         },
         "layout": {
          "annotationdefaults": {
           "arrowcolor": "#2a3f5f",
           "arrowhead": 0,
           "arrowwidth": 1
          },
          "autotypenumbers": "strict",
          "coloraxis": {
           "colorbar": {
            "outlinewidth": 0,
            "ticks": ""
           }
          },
          "colorscale": {
           "diverging": [
            [
             0,
             "#8e0152"
            ],
            [
             0.1,
             "#c51b7d"
            ],
            [
             0.2,
             "#de77ae"
            ],
            [
             0.3,
             "#f1b6da"
            ],
            [
             0.4,
             "#fde0ef"
            ],
            [
             0.5,
             "#f7f7f7"
            ],
            [
             0.6,
             "#e6f5d0"
            ],
            [
             0.7,
             "#b8e186"
            ],
            [
             0.8,
             "#7fbc41"
            ],
            [
             0.9,
             "#4d9221"
            ],
            [
             1,
             "#276419"
            ]
           ],
           "sequential": [
            [
             0,
             "#0d0887"
            ],
            [
             0.1111111111111111,
             "#46039f"
            ],
            [
             0.2222222222222222,
             "#7201a8"
            ],
            [
             0.3333333333333333,
             "#9c179e"
            ],
            [
             0.4444444444444444,
             "#bd3786"
            ],
            [
             0.5555555555555556,
             "#d8576b"
            ],
            [
             0.6666666666666666,
             "#ed7953"
            ],
            [
             0.7777777777777778,
             "#fb9f3a"
            ],
            [
             0.8888888888888888,
             "#fdca26"
            ],
            [
             1,
             "#f0f921"
            ]
           ],
           "sequentialminus": [
            [
             0,
             "#0d0887"
            ],
            [
             0.1111111111111111,
             "#46039f"
            ],
            [
             0.2222222222222222,
             "#7201a8"
            ],
            [
             0.3333333333333333,
             "#9c179e"
            ],
            [
             0.4444444444444444,
             "#bd3786"
            ],
            [
             0.5555555555555556,
             "#d8576b"
            ],
            [
             0.6666666666666666,
             "#ed7953"
            ],
            [
             0.7777777777777778,
             "#fb9f3a"
            ],
            [
             0.8888888888888888,
             "#fdca26"
            ],
            [
             1,
             "#f0f921"
            ]
           ]
          },
          "colorway": [
           "#636efa",
           "#EF553B",
           "#00cc96",
           "#ab63fa",
           "#FFA15A",
           "#19d3f3",
           "#FF6692",
           "#B6E880",
           "#FF97FF",
           "#FECB52"
          ],
          "font": {
           "color": "#2a3f5f"
          },
          "geo": {
           "bgcolor": "white",
           "lakecolor": "white",
           "landcolor": "#E5ECF6",
           "showlakes": true,
           "showland": true,
           "subunitcolor": "white"
          },
          "hoverlabel": {
           "align": "left"
          },
          "hovermode": "closest",
          "mapbox": {
           "style": "light"
          },
          "paper_bgcolor": "white",
          "plot_bgcolor": "#E5ECF6",
          "polar": {
           "angularaxis": {
            "gridcolor": "white",
            "linecolor": "white",
            "ticks": ""
           },
           "bgcolor": "#E5ECF6",
           "radialaxis": {
            "gridcolor": "white",
            "linecolor": "white",
            "ticks": ""
           }
          },
          "scene": {
           "xaxis": {
            "backgroundcolor": "#E5ECF6",
            "gridcolor": "white",
            "gridwidth": 2,
            "linecolor": "white",
            "showbackground": true,
            "ticks": "",
            "zerolinecolor": "white"
           },
           "yaxis": {
            "backgroundcolor": "#E5ECF6",
            "gridcolor": "white",
            "gridwidth": 2,
            "linecolor": "white",
            "showbackground": true,
            "ticks": "",
            "zerolinecolor": "white"
           },
           "zaxis": {
            "backgroundcolor": "#E5ECF6",
            "gridcolor": "white",
            "gridwidth": 2,
            "linecolor": "white",
            "showbackground": true,
            "ticks": "",
            "zerolinecolor": "white"
           }
          },
          "shapedefaults": {
           "line": {
            "color": "#2a3f5f"
           }
          },
          "ternary": {
           "aaxis": {
            "gridcolor": "white",
            "linecolor": "white",
            "ticks": ""
           },
           "baxis": {
            "gridcolor": "white",
            "linecolor": "white",
            "ticks": ""
           },
           "bgcolor": "#E5ECF6",
           "caxis": {
            "gridcolor": "white",
            "linecolor": "white",
            "ticks": ""
           }
          },
          "title": {
           "x": 0.05
          },
          "xaxis": {
           "automargin": true,
           "gridcolor": "white",
           "linecolor": "white",
           "ticks": "",
           "title": {
            "standoff": 15
           },
           "zerolinecolor": "white",
           "zerolinewidth": 2
          },
          "yaxis": {
           "automargin": true,
           "gridcolor": "white",
           "linecolor": "white",
           "ticks": "",
           "title": {
            "standoff": 15
           },
           "zerolinecolor": "white",
           "zerolinewidth": 2
          }
         }
        },
        "xaxis": {
         "anchor": "y",
         "domain": [
          0,
          1
         ]
        },
        "yaxis": {
         "anchor": "x",
         "domain": [
          0,
          1
         ],
         "title": {
          "text": "Generosity"
         }
        }
       }
      },
      "text/html": [
       "<div>                            <div id=\"280a3190-4f2a-43e1-8507-24d2159b5344\" class=\"plotly-graph-div\" style=\"height:525px; width:100%;\"></div>            <script type=\"text/javascript\">                require([\"plotly\"], function(Plotly) {                    window.PLOTLYENV=window.PLOTLYENV || {};                                    if (document.getElementById(\"280a3190-4f2a-43e1-8507-24d2159b5344\")) {                    Plotly.newPlot(                        \"280a3190-4f2a-43e1-8507-24d2159b5344\",                        [{\"alignmentgroup\": \"True\", \"hovertemplate\": \"Generosity=%{y}<extra></extra>\", \"legendgroup\": \"\", \"marker\": {\"color\": \"#636efa\"}, \"name\": \"\", \"notched\": false, \"offsetgroup\": \"\", \"orientation\": \"v\", \"showlegend\": false, \"type\": \"box\", \"x0\": \" \", \"xaxis\": \"x\", \"y\": [0.16763998568058014, 0.19009919464588165, 0.12058963626623154, 0.16242748498916626, 0.2360324114561081, 0.06114766001701355, 0.10401254892349243, 0.07986410707235336, 0.042265407741069794, -0.121303029358387, -0.0938277468085289, -0.10845886915922165, -0.008999267593026161, -0.15772540867328644, -0.1721067726612091, -0.2045939415693283, -0.1688622534275055, -0.12720981240272522, -0.024665698409080505, -0.08083881437778473, -0.016982201486825943, -0.028791440650820732, 0.008911602199077606, -0.09926263988018036, 0.006968025118112564, -0.2053198516368866, -0.18065398931503296, -0.17212292551994324, null, null, -0.16678154468536377, -0.14594286680221558, 0.005086520221084356, 0.05525749549269676, -0.1360698640346527, -0.10355713963508606, -0.167722687125206, -0.15667498111724854, -0.14077657461166382, -0.1315322071313858, -0.12973518669605255, -0.12568217515945435, -0.17399342358112335, -0.14760944247245789, -0.1301180124282837, -0.16415360569953918, -0.17384830117225647, -0.19175593554973602, -0.18580487370491028, -0.2105073779821396, -0.21071866154670715, -0.12235432863235474, -0.23102374374866486, -0.2511574625968933, -0.2153138965368271, -0.21410612761974335, -0.17614459991455078, -0.22547928988933563, -0.21519970893859863, -0.19549226760864258, -0.2184806764125824, -0.202626571059227, -0.170423224568367, -0.1468421071767807, -0.16258832812309265, -0.17236898839473724, null, 0.3470516502857208, 0.30529049038887024, 0.3167438507080078, 0.3693402111530304, 0.27363547682762146, 0.2687840163707733, 0.3185560703277588, 0.33189859986305237, 0.23855794966220856, 0.3173295855522156, 0.14645527303218842, 0.12068159133195877, 0.21003030240535736, 0.30238601565361023, 0.2913089394569397, 0.13089075684547424, 0.13157762587070465, 0.1178036630153656, 0.1682477593421936, 0.11760743707418442, 0.09889271855354309, 0.07974882423877716, 0.1330639123916626, 0.05346965417265892, 0.05968630313873291, 0.01103174313902855, -0.23483696579933167, -0.20689883828163147, -0.02946944162249565, -0.08689683675765991, -0.1232181116938591, -0.10452896356582642, -0.13993917405605316, -0.16776947677135468, -0.2081700712442398, -0.19772739708423615, -0.2041623443365097, -0.225129172205925, -0.23161323368549347, -0.2141629159450531, 0.03742154315114021, -0.0005844568950124085, -0.05137081444263458, null, null, null, 0.11202140152454376, 0.08818747848272324, 0.13631758093833923, 0.04786324501037598, 0.13244104385375977, 0.06827283650636673, 0.04033476486802101, -0.0436343178153038, -0.0745147243142128, -0.01619577966630459, -0.06933451443910599, -0.03434861823916435, -0.015539078041911125, -0.09816883504390717, -0.06844885647296906, -0.08873125165700912, 0.011619623750448227, -0.04333494231104851, -0.051465846598148346, -0.008851290680468082, -0.24600280821323395, -0.22480736672878265, -0.22003428637981415, -0.20299407839775085, -0.1625654548406601, -0.1679331362247467, -0.21726931631565094, -0.1774541437625885, -0.048226308077573776, -0.09133758395910263, -0.1254873126745224, -0.12154945731163025, -0.17448541522026062, -0.18593330681324005, null, 0.06949985027313232, 0.006972689647227526, 0.02229495719075203, -0.014153561554849148, -0.05007130280137062, 0.016689838841557503, 0.001345287193544209, 0.06221495568752289, -0.05582595616579056, 0.05431389808654785, -0.12460021674633026, -0.17152146995067596, -0.16378448903560638, 0.03275436908006668, 0.021995628252625465, -0.01118319109082222, -0.0043164934031665325, -0.14223513007164001, -0.11131086200475693, -0.08477487415075302, -0.09570256620645523, -0.026637520641088486, -0.0650717094540596, -0.0649859681725502, 0.0021489530336111784, -0.01612868346273899, -0.08348871022462845, 0.352631151676178, 0.26787298917770386, 0.2774123549461365, -0.044180404394865036, 0.0006757558439858258, -0.09170541912317276, -0.03609711676836014, -0.06846834719181061, -0.039203885942697525, -0.014860126189887524, -0.0668373703956604, 0.017844215035438538, -0.02951531484723091, -0.04674965888261795, -0.1203814372420311, -0.09287695586681366, -0.08567424863576889, -0.05376378819346428, 0.005994322244077921, -0.025500312447547913, -0.12780308723449707, -0.03456698730587959, -0.012566634453833103, 0.041852883994579315, 0.23183906078338623, -0.05457206070423126, 0.1338658183813095, 0.09178319573402405, 0.12326318025588989, 0.07936187088489532, 0.13795417547225952, -0.19472160935401917, -0.1643887460231781, -0.14286021888256073, -0.2500033378601074, -0.20282405614852905, -0.15417709946632385, -0.10489221662282944, -0.11625391244888306, -0.2527235150337219, -0.24789166450500488, -0.2541479468345642, -0.23900093138217926, null, -0.01623525097966194, -0.07766135782003403, -0.055251944810152054, -0.053968582302331924, -0.07233727723360062, null, -0.09468238055706024, -0.11517127603292465, -0.015561512671411037, -0.10031595081090927, -0.1751282662153244, -0.11700194329023361, -0.061973221600055695, -0.05282001942396164, -0.1377900391817093, -0.14425349235534668, -0.227830171585083, -0.17194071412086487, -0.19094359874725342, -0.05481192097067833, -0.19982804358005524, -0.17019306123256683, -0.15414053201675415, -0.17617738246917725, -0.10858744382858276, -0.004322313703596592, 0.028232552111148834, -0.06011555716395378, -0.10082502663135529, -0.036144863814115524, -0.10456785559654236, -0.0695967897772789, -0.015849445015192032, -0.003698775777593255, 0.0035707743372768164, -0.0005431066383607686, -0.06323171406984329, -0.01317454781383276, -0.004089894238859415, -0.01889403723180294, -0.01927788183093071, -0.06243378669023514, -0.05879968777298927, -0.023876165971159935, 0.25520747900009155, 0.11551723629236221, 0.04545091465115547, 0.15249282121658325, 0.3498647212982178, 0.4184987246990204, 0.24672472476959229, 0.16384732723236084, 0.2393975555896759, 0.2100825160741806, 0.07606024295091629, 0.08796920627355576, 0.0355716310441494, 0.013222623616456985, 0.052429765462875366, -0.009350372478365898, -0.03139055147767067, -0.06899295747280121, -0.016778485849499702, 0.002302558394148946, -0.028885969892144203, -0.032058149576187134, -0.03028363361954689, -0.07131964713335037, 0.04931523650884628, -0.0034864014014601707, -0.02841416373848915, 0.0356026366353035, -0.007857682183384895, 0.049266181886196136, 0.25623002648353577, 0.2494794875383377, 0.2615848779678345, 0.24621716141700745, 0.23045091331005096, 0.25315117835998535, 0.29001283645629883, 0.31564629077911377, 0.2698579430580139, 0.25282102823257446, 0.21116217970848083, 0.16291023790836334, 0.10609795898199081, 0.11159081757068634, 0.049636855721473694, 0.08104325830936432, -0.03595368191599846, -0.015844183042645454, 0.03262311965227127, 0.07278610020875931, 0.027805598452687263, -0.011461157351732254, 0.06264039129018784, 0.021430091932415962, 0.02490825578570366, 0.03059995174407959, -0.0340399406850338, -0.0454583466053009, -0.06986323744058609, -0.02865956537425518, 0.05205228552222252, 0.007875287905335426, 0.02423730678856373, 0.05500093847513199, 0.16837505996227264, 0.24390743672847748, 0.08384270966053009, 0.1492118239402771, 0.10783441364765167, 0.11165982484817505, 0.19519315659999847, 0.08483299612998962, 0.21723777055740356, 0.04059410095214844, 0.10244280844926834, -0.020043380558490753, -0.05972355231642723, -0.10276608169078827, 0.03299075737595558, null, -0.17624278366565704, -0.09247241914272308, -0.16048136353492737, -0.1333180069923401, -0.18638305366039276, -0.1846758872270584, -0.15777726471424103, -0.21677184104919434, -0.2444354146718979, -0.22752168774604797, -0.17483177781105042, -0.1585102528333664, -0.17303580045700073, -0.1032143384218216, -0.01498084794729948, -0.04038084298372269, -0.041800469160079956, -0.054762084037065506, -0.04953153431415558, -0.07348593324422836, -0.0094218784943223, -0.07085999846458435, -0.09032198786735535, -0.10012606531381607, -0.10034167766571045, -0.15713727474212646, -0.1484723836183548, -0.17213095724582672, -0.0846422091126442, -0.07356397062540054, 0.005318737123161554, -0.07484764605760574, -0.12078157812356949, 0.08582310378551483, 0.0772530809044838, -0.09809062629938126, -0.10914906859397888, -0.11164296418428421, -0.07783693075180054, -0.11042539775371552, -0.10392161458730698, -0.07172609120607376, -0.13051745295524597, -0.0922541469335556, -0.04605123773217201, -0.02200416289269924, -0.02528568170964718, -0.03452160581946373, 0.012176308780908585, 0.00918725598603487, -0.04758510738611221, -0.024395395070314407, 0.06837817281484604, 0.06033143773674965, 0.09786001592874527, 0.0957031324505806, 0.06529057770967484, 0.04745413362979889, -0.03300633281469345, 0.04584140703082085, 0.018084213137626648, 0.009625600650906563, -0.059071723371744156, -0.03244306519627571, -0.07622410356998444, -0.10697375982999802, -0.14599433541297913, -0.09190437197685242, -0.2706626355648041, -0.23707468807697296, -0.19762971997261047, -0.2423143833875656, -0.20389731228351593, 0.1320798099040985, -0.0964784175157547, -0.0646120235323906, -0.10434379428625107, -0.15074986219406128, -0.13739271461963654, -0.06296810507774353, null, 0.018174579367041588, 0.0543183796107769, 0.07253256440162659, 0.17963440716266632, 0.09805192053318024, 0.10191962867975235, 0.0598103329539299, 0.11379989981651306, -0.0302341990172863, 0.04322316125035286, -0.02226906083524227, -0.007662829011678696, null, null, -0.06343697011470795, -0.04180572181940079, -0.10645871609449387, -0.15375302731990814, -0.15571865439414978, -0.16794578731060028, -0.14585736393928528, -0.19747526943683624, -0.1765204221010208, -0.2918519675731659, -0.1270223706960678, null, 0.24002371728420258, 0.2720867991447449, 0.26355043053627014, 0.24244248867034912, 0.2975311279296875, 0.13876083493232727, 0.21479260921478271, 0.11803747713565826, 0.22208371758460999, 0.13780741393566132, 0.15543529391288757, 0.01799970306456089, 0.020323727279901505, 0.05229302495718002, 0.1287197768688202, 0.004682614933699369, -0.058335963636636734, -0.05731891468167305, 0.03769291937351227, -0.007659203838557005, -0.04509901627898216, -0.052840705960989, -0.07484927028417587, 0.013952828012406826, -0.06173519790172577, 0.020656948909163475, -0.020420173183083534, -0.06538671255111694, -0.08013516664505005, -0.12145987898111343, -0.15029221773147583, -0.12269604206085205, -0.1278340369462967, -0.09079431742429733, -0.06308456510305405, -0.09433645009994507, -0.10808223485946655, -0.06322862207889557, -0.1550530046224594, -0.08376836031675339, -0.1905500590801239, -0.16720996797084808, -0.11392004787921906, -0.015231534838676453, -0.1670355498790741, -0.09917056560516357, -0.11483294516801834, -0.15709003806114197, null, -0.12051956355571747, -0.08706250041723251, -0.09957722574472427, -0.07568343728780746, -0.151417538523674, -0.13782085478305817, -0.141244038939476, -0.12638534605503082, -0.0885595828294754, -0.14144141972064972, -0.152354896068573, -0.2154100090265274, -0.19870957732200623, -0.1123419776558876, -0.055643778294324875, -0.01480099093168974, -0.07805108278989792, -0.10344968736171722, -0.06386901438236237, -0.12635751068592072, -0.15483613312244415, -0.14961901307106018, -0.19410265982151031, -0.15617093443870544, -0.18488235771656036, -0.1718839704990387, -0.095271535217762, -0.10884762555360794, -0.1264744997024536, -0.26385441422462463, -0.24583615362644196, -0.21743598580360413, -0.229775071144104, -0.16813813149929047, -0.19181105494499207, -0.20079107582569122, -0.15296736359596252, -0.1636808067560196, -0.1490490436553955, -0.10062547773122787, -0.1413365602493286, -0.09572441130876541, -0.08227915316820145, -0.043737489730119705, -0.007737080566585064, 0.08025161176919937, 0.1127219870686531, 0.03844696283340454, 0.0014132806099951267, 0.03944592922925949, 0.052575621753931046, 0.18849685788154602, -0.004538648296147585, 0.027669347822666168, 0.09115035086870193, 0.10148841887712479, -0.0010561320232227445, 0.03957008942961693, -0.0007837158045731485, 0.1112648993730545, -0.026773840188980103, -0.002134400187060237, -0.12737974524497986, -0.05152498185634613, -0.11553198844194412, null, 0.1260448545217514, -0.03102123737335205, -0.0818956270813942, -0.10351292043924332, -0.10244525223970413, -0.14906515181064606, -0.12451435625553131, -0.11809655278921127, -0.139271080493927, -0.09128700941801071, -0.12343344837427139, -0.13787530362606049, -0.13316617906093597, -0.16896052658557892, -0.2113802284002304, -0.19504423439502716, -0.14553873240947723, -0.1979515105485916, -0.1935608983039856, -0.20403331518173218, -0.22804147005081177, -0.19693617522716522, -0.20251981914043427, 0.11087806522846222, 0.4401598870754242, 0.4101804792881012, -0.2670638859272003, -0.2666870057582855, -0.224274143576622, -0.23255616426467896, -0.247610941529274, -0.25486013293266296, -0.2689654231071472, -0.2540649175643921, -0.23295725882053375, -0.20479491353034973, -0.24917255342006683, -0.24388711154460907, -0.23273086547851562, -0.25972241163253784, -0.22112546861171722, null, 0.1670733243227005, null, 0.12723971903324127, 0.09513787180185318, 0.03293450176715851, 0.07102316617965698, 0.024312058463692665, 0.08788135647773743, 0.1776224672794342, 0.14828841388225555, 0.1451394408941269, 0.033948469907045364, 0.05709971860051155, -0.06004804000258446, 0.21309642493724823, 0.13762012124061584, 0.11971728503704071, 0.005177947226911783, 0.07365774363279343, 0.010544514283537865, 0.03993845358490944, -0.06549245864152908, 0.0010831790277734399, -0.03834652155637741, 0.08957398682832718, 0.07870742678642273, 0.06216481700539589, 0.11595781147480011, 0.19963206350803375, null, -0.19035927951335907, -0.2930517792701721, -0.3028769791126251, -0.31643930077552795, -0.30490773916244507, -0.2720417380332947, -0.2879295349121094, -0.27197811007499695, -0.26015955209732056, -0.29005348682403564, -0.33504024147987366, -0.28867843747138977, -0.2408064603805542, 0.172222301363945, 0.13580827414989471, 0.205519899725914, 0.1965453177690506, 0.16623491048812866, 0.00888245739042759, 0.020274976268410683, 0.04493168741464615, 0.10752591490745544, 0.0512973815202713, 0.011462771333754063, -0.05853069946169853, -0.01006377674639225, -0.06230298802256584, 0.04065778851509094, 0.0009281962411478162, 0.0909481793642044, 0.005990596488118172, 0.006546582095324993, -0.05631233751773834, 0.03782358393073082, 0.09203513711690903, 0.09681724011898041, 0.11003703624010086, 0.40081045031547546, 0.2609718441963196, 0.21556104719638824, 0.24258482456207275, 0.2890610098838806, 0.28940367698669434, 0.28481432795524597, 0.30593231320381165, 0.2913130819797516, 0.3809965252876282, 0.4215203523635864, 0.08914631605148315, 0.2303200662136078, 0.22311125695705414, 0.11861097067594528, 0.10542243719100952, 0.09547926485538483, -0.0032065093982964754, -0.027216285467147827, 0.01508035883307457, -0.09682408720254898, 0.08001717925071716, 0.07213642448186874, 0.09921020269393921, 0.06270892173051834, 0.15556690096855164, 0.29626816511154175, 0.3076377213001251, 0.33195504546165466, 0.2345547080039978, 0.2224019467830658, 0.22379948198795319, 0.10023517161607742, 0.14006343483924866, 0.06734424829483032, null, null, -0.16084839403629303, -0.1251574456691742, -0.14508886635303497, -0.08903629332780838, -0.1360611468553543, -0.11291342228651047, -0.1497499793767929, -0.1978226602077484, -0.1868685781955719, -0.1393183469772339, -0.24262432754039764, -0.19490307569503784, -0.12040461599826813, 0.27176573872566223, 0.24138300120830536, 0.3059159219264984, 0.30074355006217957, 0.28081178665161133, 0.24576959013938904, null, 0.16027399897575378, null, -0.05125095695257187, -0.07190568000078201, -0.025930330157279968, 0.05790228396654129, -0.03776659816503525, 0.06732213497161865, 0.08425050973892212, -0.025796255096793175, -0.005146285519003868, 0.04590987786650658, -0.04182809218764305, 0.08472147583961487, 0.1117793619632721, 0.07482379674911499, 0.3474605977535248, 0.311469703912735, 0.16423560678958893, 0.19077058136463165, 0.4475151598453522, 0.43794113397598267, 0.35408464074134827, 0.37600570917129517, 0.4079558849334717, 0.471330463886261, 0.49978023767471313, 0.487873375415802, 0.511992871761322, 0.5553480386734009, null, 0.05553831532597542, 0.05228050798177719, 0.2003922015428543, null, 0.21555738151073456, 0.2406778484582901, 0.1763601452112198, 0.18561804294586182, 0.2184768170118332, null, null, null, -0.06130508705973625, -0.19941368699073792, -0.12462075054645538, -0.06955785304307938, -0.02020699344575405, -0.049836426973342896, -0.0010216975351795554, 0.01945452205836773, -0.05207745358347893, -0.00048396666534245014, -0.0682583749294281, -0.020748287439346313, 0.24191658198833466, 0.3219449818134308, 0.31523746252059937, 0.3479984998703003, 0.3834492266178131, 0.3022509813308716, 0.3314244747161865, 0.2636418342590332, 0.2326010912656784, 0.1742699146270752, 0.2164742350578308, 0.14419397711753845, 0.0736127719283104, 0.013816552236676216, null, 0.21923598647117615, 0.13859961926937103, 0.17166700959205627, 0.14988914132118225, 0.1408669501543045, 0.15281347930431366, 0.15038429200649261, 0.093551404774189, 0.10847609490156174, 0.1531602144241333, 0.14533035457134247, 0.05527398735284805, 0.08543713390827179, -0.04937167465686798, null, 0.11349433660507202, 0.04927092418074608, 0.2404351383447647, -0.059522271156311035, -0.017810987308621407, 0.11283233016729355, -0.10229650884866714, -0.064877450466156, -0.06420718133449554, -0.08054095506668091, -0.03505338355898857, -0.021210772916674614, -0.08156095445156097, -0.14993725717067719, -0.1533234715461731, -0.03070489503443241, -0.08009719848632812, -0.05340500921010971, -0.0427115261554718, -0.11053846776485443, -0.05000726878643036, -0.017261408269405365, 0.015563689172267914, -0.0038364201318472624, -0.06364612281322479, -0.020864339545369148, -0.000519264314789325, -0.12957407534122467, -0.13679705560207367, null, -0.09004825353622437, -0.1350623071193695, -0.20990301668643951, -0.14023146033287048, -0.05178844556212425, null, -0.14681673049926758, -0.13926580548286438, -0.15512794256210327, -0.06203944608569145, -0.20595788955688477, -0.26126524806022644, -0.25461897253990173, -0.2587452828884125, null, -0.11197322607040405, -0.127315953373909, -0.07528062909841537, -0.04645862057805061, -0.14281588792800903, -0.16010506451129913, -0.11670704185962677, -0.10409577190876007, -0.04579333961009979, -0.03817466273903847, -0.15208838880062103, -0.18584860861301422, -0.16476482152938843, -0.14982588589191437, -0.2740000784397125, -0.24556942284107208, -0.22082747519016266, -0.24947704374790192, -0.21510536968708038, -0.23539626598358154, -0.1710623800754547, -0.22920897603034973, 0.004009355325251818, -0.036992888897657394, -0.03605582192540169, -0.03482840582728386, -0.0980195701122284, -0.055017028003931046, -0.056175168603658676, -0.020096449181437492, 0.05368943139910698, -0.011607175692915916, 0.09964647144079208, 0.01862819492816925, 0.021800139918923378, 0.06573314219713211, 0.21237975358963013, 0.17223338782787323, 0.2206527590751648, 0.2983267605304718, 0.23442207276821136, 0.2912468910217285, 0.310065358877182, 0.2599695920944214, 0.14390134811401367, 0.09046442806720734, 0.20050404965877533, 0.16969604790210724, 0.003699197433888912, 0.02718161791563034, 0.11490432173013687, 0.01209531631320715, 0.1808512657880783, 0.12486887723207474, 0.11717523634433746, 0.2687950134277344, 0.24698972702026367, null, -0.235776886343956, 0.0067786709405481815, -0.03140505403280258, null, null, null, null, 0.08159535378217697, -0.0751558393239975, -0.004677174147218466, -0.10416107624769211, -0.14011803269386292, -0.09132222831249237, -0.09974370151758194, -0.13984112441539764, -0.07162701338529587, -0.15456999838352203, -0.07888620346784592, -0.08508101105690002, 0.3553670048713684, 0.19976788759231567, 0.05620928853750229, 0.1430242657661438, 0.2669035792350769, -0.002360597485676408, 0.10286574065685272, 0.4392152726650238, 0.4780574142932892, 0.41620731353759766, 0.45859336853027344, 0.23210923373699188, 0.07311338186264038, 0.14114616811275482, 0.061081741005182266, 0.14143069088459015, -0.22920626401901245, -0.16673438251018524, -0.20317059755325317, -0.18032602965831757, -0.002394638955593109, -0.03776256740093231, -0.07292285561561584, -0.0430065356194973, -0.07739152759313583, -0.1563720554113388, -0.15446028113365173, -0.21232925355434418, -0.1939789056777954, -0.077660471200943, null, 0.0693802535533905, 0.03462515398859978, 0.07073049247264862, 0.07293888926506042, 0.005814980715513229, -0.005737558472901583, -0.003850390901789069, -0.012232049368321896, 0.07265167683362961, 0.031364038586616516, -0.07419021427631378, -0.06552436202764511, -0.08108239620923996, -0.08691839128732681, -0.09877336770296097, -0.14485174417495728, -0.13053622841835022, 0.11522096395492554, -0.034547336399555206, -0.03828760236501694, -0.029853735119104385, -0.06149032339453697, 0.03305376321077347, -0.012056075036525726, 0.049856483936309814, 0.050611626356840134, -0.03170093148946762, -0.044114116579294205, -0.08946792781352997, -0.019348911941051483, -0.10124395042657852, -0.07267285138368607, -0.2950957119464874, -0.28180429339408875, -0.2594471573829651, -0.30320385098457336, -0.27488023042678833, -0.14791226387023926, -0.2732120156288147, -0.23660990595817566, -0.2634347379207611, -0.25363197922706604, -0.2663264870643616, -0.1735612004995346, -0.23666846752166748, -0.25147512555122375, -0.12178131192922592, 0.12697286903858185, 0.0958511009812355, 0.10587087273597717, 0.058670081198215485, -0.05424419417977333, 0.10585186630487442, 0.052099939435720444, 0.018697967752814293, 0.044103316962718964, -0.021762866526842117, -0.04505761340260506, -0.03861994668841362, -0.09939240664243698, -0.06199974939227104, -0.054980259388685226, -0.018502252176404, -0.023182135075330734, -0.04082195833325386, -0.06898024678230286, -0.03329531475901604, 0.0025956102181226015, -0.012468654662370682, 0.20012067258358002, 0.20207644999027252, 0.17586563527584076, 0.09869544208049774, 0.16919554769992828, 0.07846467196941376, 0.061088211834430695, 0.05806805565953255, 0.06585712730884552, 0.02489175647497177, 0.07271962612867355, 0.003596819471567869, 0.20114026963710785, 0.08940582722425461, 0.044362157583236694, -0.008678190410137177, 0.03238602727651596, -0.016248295083642006, 0.017118064686655998, 0.2641153335571289, 0.23934306204319, 0.2223144769668579, 0.12735450267791748, 0.12332413345575333, 0.0239978339523077, -0.07181508094072342, -0.012124172411859035, 0.008319071494042873, -0.027934813871979713, -0.1008056178689003, -0.08833298087120056, -0.053348276764154434, -0.037456214427948, -0.06758229434490204, -0.06986508518457413, -0.06947905570268631, -0.033900391310453415, -0.03785175830125809, 0.46361663937568665, 0.2868071496486664, 0.29586002230644226, 0.3522007167339325, 0.41002246737480164, 0.40398237109184265, 0.34702906012535095, 0.3453969657421112, 0.2528245151042938, 0.1787719577550888, 0.08719172328710556, null, -0.07187971472740173, -0.017986290156841278, 0.03924151882529259, 0.055053651332855225, 0.05192285403609276, -0.021221498027443886, -0.07865604013204575, -0.05413965508341789, 0.05547939985990524, -0.17485088109970093, -0.15297763049602509, -0.11163802444934845, -0.10185665637254715, 0.1914285272359848, 0.17628702521324158, 0.1394643485546112, 0.08675634115934372, -0.07309112697839737, -0.05276689678430557, -0.03669271990656853, null, -0.09463541954755783, -0.12759920954704285, -0.07590997964143753, -0.048390477895736694, -0.09940831363201141, -0.09289437532424927, -0.164753720164299, -0.09429518133401871, -0.15175363421440125, -0.1530999094247818, -0.20157690346240997, -0.17916139960289001, -0.14089472591876984, -0.1193898618221283, -0.16425831615924835, -0.1855631172657013, -0.055607832968235016, -0.09867231547832489, -0.0883481353521347, -0.08168255537748337, -0.049541886895895004, -0.0687386617064476, -0.11315334588289261, -0.08976767212152481, -0.047451119869947433, -0.05294119566679001, -0.0844569280743599, -0.09240616858005524, -0.05827857926487923, 0.06361125409603119, 0.06777408719062805, 0.09929440170526505, 0.15096822381019592, 0.10660141706466675, 0.13614509999752045, 0.14618302881717682, 0.1730996072292328, 0.08974749594926834, 0.11865808069705963, 0.05394088476896286, 0.14891226589679718, 0.1413574516773224, -0.13358087837696075, -0.10129358619451523, -0.20627330243587494, -0.22596266865730286, -0.19234776496887207, -0.1758386492729187, 0.096592478454113, -0.14398890733718872, -0.08741708099842072, -0.08289449661970139, -0.05102858319878578, -0.10481426864862442, 0.059815771877765656, -0.1623474806547165, -0.21811749041080475, -0.1866992712020874, -0.21039751172065735, -0.22769343852996826, -0.23747825622558594, -0.21584682166576385, -0.23437391221523285, -0.2443137764930725, -0.22857755422592163, 0.041024670004844666, 0.0737575888633728, 0.005719899199903011, -0.024201253429055214, 0.08872713893651962, -0.029964828863739967, 0.04856383055448532, 0.07274501770734787, 0.6449750661849976, 0.6893180012702942, 0.6980987787246704, 0.6875602006912231, 0.679426372051239, 0.6500090956687927, 0.4903545677661896, 0.561138391494751, 0.4702581763267517, -0.10062718391418457, -0.18333354592323303, -0.1900434046983719, -0.1688384711742401, -0.1736866682767868, -0.10388018190860748, null, 0.31655153632164, 0.29056692123413086, 0.04360498860478401, 0.09164351224899292, -0.009689508937299252, 0.0702836662530899, 0.1505822390317917, 0.12070083618164062, 0.22741396725177765, 0.1683223843574524, 0.13359729945659637, 0.12215355038642883, 0.16697579622268677, null, 0.34434670209884644, 0.36519986391067505, 0.34934568405151367, 0.33566808700561523, 0.28811946511268616, 0.3045295178890228, 0.3313109278678894, 0.2614469826221466, 0.23866426944732666, 0.2504400312900543, 0.16148877143859863, 0.21253405511379242, 0.15129804611206055, 0.31150302290916443, 0.2786802351474762, 0.29772624373435974, 0.25436416268348694, 0.2843227982521057, 0.2873353660106659, 0.23699785768985748, 0.3479527533054352, 0.32943692803382874, 0.26562947034835815, 0.2941385805606842, 0.11982706934213638, 0.15674664080142975, 0.1252596527338028, 0.009665843099355698, 0.14039160311222076, 0.07551418244838715, 0.07026869058609009, 0.0182561744004488, -0.019578710198402405, 0.017166446894407272, 0.039188601076602936, 0.10403333604335785, 0.07717341184616089, 0.03940670192241669, 0.010171768255531788, 0.009081539697945118, 0.029247265309095383, 0.07635349035263062, -0.055892180651426315, -0.0548146590590477, -0.008599204011261463, -0.023038242012262344, -0.05535763502120972, -0.06350123137235641, -0.0774265006184578, -0.04631692171096802, -0.03214083984494209, -0.015741674229502678, -0.030251333490014076, 0.008891422301530838, 0.025959890335798264, 0.08485426008701324, 0.13639411330223083, 0.11903340369462967, 0.06749775260686874, 0.06660440564155579, 0.06632105261087418, 0.05055084824562073, -0.03535808250308037, 0.04309293255209923, 0.12433876097202301, -0.010153932496905327, 0.03228462114930153, 0.09940405935049057, null, null, null, null, null, null, null, 0.07975184172391891, -0.04202008619904518, -0.05849927291274071, -0.08726834505796432, -0.08441399782896042, 0.02460414357483387, 0.03463919460773468, -0.046561792492866516, 0.07981351763010025, -0.05880002677440643, -0.04135687276721001, 0.024418959394097328, 0.13127434253692627, 0.10851313173770905, 0.017757194116711617, 0.1471523493528366, 0.18097618222236633, 0.256901353597641, 0.13286271691322327, 0.2363899052143097, 0.09405872970819473, 0.11068715900182724, 0.07514853775501251, 0.02490849234163761, null, 0.08910063654184341, 0.10036711394786835, 0.07709900289773941, 0.3003769814968109, 0.02967587299644947, 0.1648796945810318, 0.09955000877380371, 0.14049890637397766, 0.08540236949920654, 0.09483594447374344, 0.04526840150356293, 0.06894045323133469, 0.12372947484254837, null, -0.08029548078775406, -0.06994128227233887, -0.08534698933362961, -0.11725807934999466, -0.1270526796579361, -0.15328946709632874, -0.1501179337501526, -0.14658750593662262, -0.15281307697296143, -0.1289251148700714, -0.16252174973487854, null, null, -0.047106996178627014, 0.08310890942811966, 0.059697844088077545, 0.014428784139454365, -0.008531462401151657, 0.008964925073087215, -0.0018142388435080647, 0.018311867490410805, 0.0021342728286981583, -0.006957769859582186, -0.10245398432016373, -0.16956639289855957, -0.1307104080915451, -0.1989849954843521, 0.06607482582330704, 0.1320081353187561, 0.05664471909403801, 0.02737955003976822, 0.07635204493999481, 0.19067981839179993, 0.19964441657066345, 0.0456102229654789, -0.0015995994908735156, -0.007561531849205494, -0.07096462696790695, 0.003110338468104601, 0.02811283804476261, -0.07121168822050095, -0.07758693397045135, -0.0670718103647232, -0.07913526147603989, -0.06043777987360954, -0.12334053218364716, -0.07938965409994125, -0.06611192226409912, -0.13634860515594482, -0.0899965763092041, -0.13405627012252808, -0.15436364710330963, -0.17848637700080872, -0.1297357827425003, 0.06340228021144867, -0.021588167175650597, 0.08277516812086105, 0.0037180667277425528, 0.03306754678487778, 0.07254362106323242, 0.05263257399201393, 0.021115196868777275, -0.015335866250097752, -0.0511600486934185, -0.07124263793230057, -0.14139319956302643, -0.10795789957046509, -0.08258053660392761, -0.11554288119077682, null, -0.04730670899152756, 0.0732131376862526, 0.0016567446291446686, -0.06687826663255692, -0.026549983769655228, -0.13717497885227203, -0.0642261654138565, -0.09301692992448807, -0.09093762189149857, -0.12176388502120972, -0.2544407844543457, -0.23071840405464172, -0.006559355650097132, -0.178589329123497, -0.21748311817646027, -0.10599029809236526, -0.17306198179721832, -0.09708823263645172, -0.11844685673713684, -0.12640388309955597, -0.16310612857341766, -0.22528617084026337, -0.17587386071681976, -0.26136642694473267, -0.2338545173406601, -0.23809020221233368, 0.23489730060100555, 0.10368723422288895, 0.011700338684022427, 0.1615298092365265, null, null, -0.1877571940422058, -0.19623224437236786, -0.08471284061670303, -0.1397925466299057, -0.11152307689189911, -0.12921588122844696, -0.10044325888156891, -0.1412583291530609, -0.11528762429952621, -0.1597900092601776, -0.21736560761928558, -0.22142210602760315, -0.30656155943870544, -0.2837419807910919, -0.30501219630241394, -0.28338301181793213, -0.29636645317077637, -0.27883076667785645, -0.2926163673400879, -0.28933006525039673, -0.26455968618392944, -0.17106080055236816, -0.18124747276306152, -0.14496149122714996, -0.14714211225509644, -0.11557179689407349, -0.07061229646205902, null, 0.01738087646663189, -0.0007296971743926406, -0.03867138922214508, -0.011817571707069874, -0.027709512040019035, -0.022728776559233665, 0.025018684566020966, 0.02514749951660633, 0.05138956010341644, 0.056991949677467346, 0.06406588107347488, null, 0.004603384993970394, -0.02199254184961319, -0.10987800359725952, -0.03263252228498459, -0.14188583195209503, -0.11950630694627762, -0.08108287304639816, -0.07255402207374573, -0.04480266198515892, -0.13231615722179413, -0.13114206492900848, -0.19226565957069397, -0.14684349298477173, -0.11053171008825302, -0.05064260959625244, -0.0021319782827049494, -0.030309071764349937, -0.03625664860010147, -0.07727022469043732, -0.1604560911655426, -0.035587240010499954, -0.0518670529127121, -0.045290060341358185, -0.11110300570726395, -0.08559001982212067, -0.04352188855409622, -0.07362717390060425, -0.01880391500890255, -0.1653100848197937, -0.17762303352355957, -0.1702040433883667, -0.18484504520893097, -0.13040107488632202, -0.09987622499465942, 0.07194534689188004, -0.06208997592329979, -0.06787561625242233, -0.07747986167669296, -0.09954249113798141, -0.039931874722242355, 0.14940130710601807, 0.10058067739009857, 0.24770912528038025, 0.1480126827955246, 0.011957618407905102, 0.004522108938544989, -0.0714598298072815, 0.03351479023694992, 0.05044646933674812, 0.10607273876667023, 0.07915584743022919, 0.09527481347322464, 0.07405570149421692, 0.13825422525405884, 0.29330193996429443, 0.04572312906384468, -0.07492607831954956, -0.01800346001982689, -0.1486736387014389, 0.11494891345500946, 0.15408028662204742, 0.14967015385627747, 0.1429075002670288, 0.1355815827846527, -0.06585581600666046, 0.027229677885770798, -0.04970927909016609, -0.1011645570397377, 0.010068872012197971, -0.02805233746767044, -0.05090994015336037, -0.1256384402513504, -0.12785226106643677, -0.06063176691532135, -0.054507993161678314, -0.16739816963672638, -0.12901543080806732, -0.07487351447343826, 0.042651593685150146, -0.018933460116386414, 0.029249949380755424, -0.025104328989982605, -0.019660847261548042, 0.035709477961063385, 0.05234818905591965, 0.007825181819498539, -0.054714005440473557, -0.025005677714943886, -0.11891058832406998, -0.10169173032045364, -0.08135689049959183, null, null, null, null, null, null, null, -0.08378969132900238, -0.15779033303260803, -0.0954817458987236, -0.15386201441287994, -0.20223142206668854, -0.15424640476703644, -0.16290941834449768, -0.07685281336307526, -0.11690614372491837, -0.12704870104789734, -0.07020007073879242, -0.12861840426921844, -0.05027341470122337, -0.1339699774980545, -0.014951311983168125, -0.052023258060216904, -0.05928772687911987, -0.1022142767906189, -0.09594191610813141, -0.0332343690097332, -0.048490479588508606, null, -0.049806147813797, -0.04291640967130661, -0.03557406738400459, 0.026375923305749893, 0.014370064251124859, -0.08888514339923859, -0.05529502034187317, -0.1058678925037384, null, null, null, null, null, -0.09342380613088608, -0.1495678871870041, -0.1273386925458908, -0.1379983127117157, -0.12175389379262924, -0.05943123996257782, -0.10145390033721924, -0.028165718540549278, -0.0723392590880394, -0.04809087887406349, -0.03206297382712364, -0.07497629523277283, -0.048638924956321716, -0.12061331421136856, 0.06240265443921089, 0.10985273122787476, 0.16258876025676727, 0.306048184633255, 0.2585369646549225, 0.1448555439710617, 0.1605905145406723, 0.2682185471057892, 0.2990434467792511, 0.3191469609737396, 0.09377797693014145, 0.10604049265384674, 0.051186613738536835, 0.0768037810921669, -0.04005447030067444, -0.024155577644705772, -0.05560869723558426, -0.06339464336633682, -0.07717316597700119, -0.06673254817724228, -0.17841561138629913, -0.19073791801929474, null, 0.14635804295539856, 0.1252460926771164, 0.22052791714668274, 0.1413842886686325, 0.1614600569009781, 0.13192212581634521, 0.1588800996541977, 0.20171402394771576, 0.21117615699768066, 0.14573439955711365, 0.1702743023633957, 0.07668816298246384, 0.09102203696966171, 0.09081844985485077, 0.2904559075832367, 0.12504173815250397, 0.1386188268661499, 0.0601220428943634, 0.10892389714717865, 0.08844253420829773, 0.17977295815944672, 0.10095565021038055, 0.03621544688940048, -0.06350205838680267, 0.12161870300769806, 0.08166616410017014, 0.007882609963417053, 0.1306823194026947, 0.31598666310310364, 0.22545427083969116, 0.044834915548563004, -0.029827160760760307, -0.016732314601540565, 0.0047532180324196815, 0.03526958078145981, 0.021749423816800117, 0.0015177401946857572, 0.09198928624391556, 0.018658051267266273, -0.04880446940660477, -0.0704944059252739, null, null, null, -0.08846811950206757, 0.00043171143624931574, 0.01762349158525467, 0.0006881745648570359, 0.0618293359875679, -0.11886816471815109, -0.07273135334253311, 0.06340199708938599, 0.0015438188565894961, 0.022057460620999336, 0.00966602098196745, 0.12427596002817154, -0.06481891870498657, -0.04456115514039993, -0.04046706482768059, -0.0272256750613451, -0.012851664796471596, 0.2558172047138214, 0.30835163593292236, 0.13895484805107117, -0.04615543410181999, 0.2132839858531952, 0.05443650111556053, 0.11046626418828964, 0.14869466423988342, 0.17877833545207977, 0.11551778763532639, 0.15319281816482544, 0.10039015114307404, 0.29527199268341064, 0.33145996928215027, 0.39094552397727966, 0.4254818558692932, 0.5249075293540955, 0.5359854698181152, 0.4001588821411133, 0.3798593580722809, 0.45622697472572327, 0.5525214076042175, 0.3159483075141907, 0.35571932792663574, 0.2124912589788437, 0.2588443458080292, 0.30883023142814636, 0.2730555832386017, -0.006546494085341692, -0.05463014915585518, -0.06982320547103882, -0.0847100093960762, -0.06868194788694382, -0.006935871671885252, -0.04217866435647011, -0.006869466509670019, 0.06477482616901398, 0.14142966270446777, 0.08661196380853653, 0.07753955572843552, 0.12774580717086792, 0.014855396002531052, -0.11856985092163086, -0.1351689249277115, -0.1987246721982956, -0.17622476816177368, -0.20691141486167908, -0.23192760348320007, -0.22603139281272888, -0.16495002806186676, -0.21860024333000183, -0.19105876982212067, -0.2088652402162552, -0.20181423425674438, null, -0.17824725806713104, -0.18881674110889435, -0.2271200567483902, -0.18719609081745148, -0.241873636841774, -0.21560513973236084, -0.22933900356292725, -0.023702450096607208, -0.016285767778754234, -0.06502895802259445, -0.23721051216125488, -0.17557619512081146, -0.13558274507522583, -0.11088898777961731, -0.10168436169624329, 0.018397098407149315, -0.1228119432926178, -0.0714481770992279, 0.03197091072797775, 0.09277527034282684, 0.004624356981366873, 0.06604084372520447, 0.25965872406959534, 0.2848806381225586, -0.04104321077466011, -0.0008339456398971379, -0.054835595190525055, -0.03740893304347992, -0.014678716659545898, 0.03150448575615883, 0.08112668246030807, 0.05271939933300018, 0.009275518357753754, 0.1350565254688263, 0.13175912201404572, 0.059688836336135864, 0.07888530939817429, 0.1388212889432907, 0.14711755514144897, -0.2571086883544922, -0.24067531526088715, -0.26471278071403503, -0.2414010763168335, -0.18866029381752014, -0.22761216759681702, -0.22311291098594666, -0.21628621220588684, 0.0838293507695198, -0.03340182453393936, 0.010512580163776875, -0.0022775360848754644, -0.07437071204185486, -0.08101668953895569, 0.1263442039489746, -0.03250446915626526, 0.01904008910059929, 0.056746646761894226, 0.07128936797380447, null, null, null, 0.20111078023910522, 0.13105912506580353, 0.215842604637146, 0.0539720244705677, 0.12872491776943207, 0.060019660741090775, null, 0.3362516760826111, 0.33112406730651855, 0.3414573073387146, 0.40317288041114807, 0.33604228496551514, 0.37128815054893494, 0.34628844261169434, 0.3547377586364746, 0.3001050055027008, 0.2503077983856201, 0.2912358045578003, 0.2262835055589676, 0.2705574333667755, 0.20250841975212097, null, 0.19708435237407684, 0.2546924650669098, 0.20064258575439453, 0.24392126500606537, 0.16068419814109802, 0.21469856798648834, 0.273914635181427, 0.2213398665189743, 0.21945954859256744, 0.14404797554016113, 0.19731692969799042, 0.11611639708280563, 0.14429868757724762, 0.03410335257649422, -0.11254404485225677, -0.16500188410282135, -0.1428798884153366, -0.11828844249248505, -0.15804964303970337, -0.08001510798931122, 0.06710521131753922, -0.043126463890075684, -0.07277744263410568, -0.032266486436128616, -0.07194391638040543, -0.09139233827590942, -0.09715606272220612, -0.09530318528413773, -0.08398690074682236, -0.11549217253923416, -0.023096783086657524, 0.013130784034729004, -0.030089907348155975, 0.042082563042640686, -0.037380415946245193, -0.03404664620757103, 0.061329182237386703, 0.37466803193092346, 0.2081928700208664, 0.12252409756183624, 0.3175850212574005, 0.3042975962162018, null, -0.031057080253958702, -0.22500261664390564, -0.11636479943990707, -0.15488344430923462, -0.22638675570487976, -0.1927299201488495, -0.21974246203899384, -0.19884102046489716, -0.11693695187568665, -0.1549309641122818, -0.16875705122947693, null, null, null, 0.014574413187801838, 0.08920472860336304, 0.20057456195354462, -0.06187038496136665, -0.005769398063421249, 0.10499256104230881, -0.11029041558504105, -0.027051575481891632, 3.984508657595143e-05, 0.08550644665956497, -0.08981402218341827, null, -0.04076434299349785, -0.12553076446056366, 0.011008867993950844, -0.05224670469760895, -0.10433351993560791, -0.17348551750183105, -0.17072929441928864, -0.17900784313678741, -0.15730325877666473, -0.13938328623771667, -0.15082134306430817, -0.14671222865581512, null, null, -0.005999125074595213, -0.06697513163089752, 0.05570240691304207, -0.09597895294427872, 0.0028013880364596844, 0.0076607330702245235, -0.10441944748163223, -0.010733691975474358, -0.03881865739822388, 0.12234990298748016, 0.14032293856143951, 0.04812125861644745, 0.0774618536233902, 0.056029193103313446, -0.07639678567647934, -0.08209157735109329, -0.08968094736337662, -0.07769100368022919, -0.09281296283006668, -0.0878758579492569, -0.10250548273324966, -0.10410073399543762, -0.0738799124956131, -0.12317058444023132, -0.09463448822498322, -0.09764453768730164, -0.0684271901845932, -0.0637906938791275, -0.00869576446712017], \"y0\": \" \", \"yaxis\": \"y\"}],                        {\"boxmode\": \"group\", \"legend\": {\"tracegroupgap\": 0}, \"margin\": {\"t\": 60}, \"template\": {\"data\": {\"bar\": [{\"error_x\": {\"color\": \"#2a3f5f\"}, \"error_y\": {\"color\": \"#2a3f5f\"}, \"marker\": {\"line\": {\"color\": \"#E5ECF6\", \"width\": 0.5}}, \"type\": \"bar\"}], \"barpolar\": [{\"marker\": {\"line\": {\"color\": \"#E5ECF6\", \"width\": 0.5}}, \"type\": \"barpolar\"}], \"carpet\": [{\"aaxis\": {\"endlinecolor\": \"#2a3f5f\", \"gridcolor\": \"white\", \"linecolor\": \"white\", \"minorgridcolor\": \"white\", \"startlinecolor\": \"#2a3f5f\"}, \"baxis\": {\"endlinecolor\": \"#2a3f5f\", \"gridcolor\": \"white\", \"linecolor\": \"white\", \"minorgridcolor\": \"white\", \"startlinecolor\": \"#2a3f5f\"}, \"type\": \"carpet\"}], \"choropleth\": [{\"colorbar\": {\"outlinewidth\": 0, \"ticks\": \"\"}, \"type\": \"choropleth\"}], \"contour\": [{\"colorbar\": {\"outlinewidth\": 0, \"ticks\": \"\"}, \"colorscale\": [[0.0, \"#0d0887\"], [0.1111111111111111, \"#46039f\"], [0.2222222222222222, \"#7201a8\"], [0.3333333333333333, \"#9c179e\"], [0.4444444444444444, \"#bd3786\"], [0.5555555555555556, \"#d8576b\"], [0.6666666666666666, \"#ed7953\"], [0.7777777777777778, \"#fb9f3a\"], [0.8888888888888888, \"#fdca26\"], [1.0, \"#f0f921\"]], \"type\": \"contour\"}], \"contourcarpet\": [{\"colorbar\": {\"outlinewidth\": 0, \"ticks\": \"\"}, \"type\": \"contourcarpet\"}], \"heatmap\": [{\"colorbar\": {\"outlinewidth\": 0, \"ticks\": \"\"}, \"colorscale\": [[0.0, \"#0d0887\"], [0.1111111111111111, \"#46039f\"], [0.2222222222222222, \"#7201a8\"], [0.3333333333333333, \"#9c179e\"], [0.4444444444444444, \"#bd3786\"], [0.5555555555555556, \"#d8576b\"], [0.6666666666666666, \"#ed7953\"], [0.7777777777777778, \"#fb9f3a\"], [0.8888888888888888, \"#fdca26\"], [1.0, \"#f0f921\"]], \"type\": \"heatmap\"}], \"heatmapgl\": [{\"colorbar\": {\"outlinewidth\": 0, \"ticks\": \"\"}, \"colorscale\": [[0.0, \"#0d0887\"], [0.1111111111111111, \"#46039f\"], [0.2222222222222222, \"#7201a8\"], [0.3333333333333333, \"#9c179e\"], [0.4444444444444444, \"#bd3786\"], [0.5555555555555556, \"#d8576b\"], [0.6666666666666666, \"#ed7953\"], [0.7777777777777778, \"#fb9f3a\"], [0.8888888888888888, \"#fdca26\"], [1.0, \"#f0f921\"]], \"type\": \"heatmapgl\"}], \"histogram\": [{\"marker\": {\"colorbar\": {\"outlinewidth\": 0, \"ticks\": \"\"}}, \"type\": \"histogram\"}], \"histogram2d\": [{\"colorbar\": {\"outlinewidth\": 0, \"ticks\": \"\"}, \"colorscale\": [[0.0, \"#0d0887\"], [0.1111111111111111, \"#46039f\"], [0.2222222222222222, \"#7201a8\"], [0.3333333333333333, \"#9c179e\"], [0.4444444444444444, \"#bd3786\"], [0.5555555555555556, \"#d8576b\"], [0.6666666666666666, \"#ed7953\"], [0.7777777777777778, \"#fb9f3a\"], [0.8888888888888888, \"#fdca26\"], [1.0, \"#f0f921\"]], \"type\": \"histogram2d\"}], \"histogram2dcontour\": [{\"colorbar\": {\"outlinewidth\": 0, \"ticks\": \"\"}, \"colorscale\": [[0.0, \"#0d0887\"], [0.1111111111111111, \"#46039f\"], [0.2222222222222222, \"#7201a8\"], [0.3333333333333333, \"#9c179e\"], [0.4444444444444444, \"#bd3786\"], [0.5555555555555556, \"#d8576b\"], [0.6666666666666666, \"#ed7953\"], [0.7777777777777778, \"#fb9f3a\"], [0.8888888888888888, \"#fdca26\"], [1.0, \"#f0f921\"]], \"type\": \"histogram2dcontour\"}], \"mesh3d\": [{\"colorbar\": {\"outlinewidth\": 0, \"ticks\": \"\"}, \"type\": \"mesh3d\"}], \"parcoords\": [{\"line\": {\"colorbar\": {\"outlinewidth\": 0, \"ticks\": \"\"}}, \"type\": \"parcoords\"}], \"pie\": [{\"automargin\": true, \"type\": \"pie\"}], \"scatter\": [{\"marker\": {\"colorbar\": {\"outlinewidth\": 0, \"ticks\": \"\"}}, \"type\": \"scatter\"}], \"scatter3d\": [{\"line\": {\"colorbar\": {\"outlinewidth\": 0, \"ticks\": \"\"}}, \"marker\": {\"colorbar\": {\"outlinewidth\": 0, \"ticks\": \"\"}}, \"type\": \"scatter3d\"}], \"scattercarpet\": [{\"marker\": {\"colorbar\": {\"outlinewidth\": 0, \"ticks\": \"\"}}, \"type\": \"scattercarpet\"}], \"scattergeo\": [{\"marker\": {\"colorbar\": {\"outlinewidth\": 0, \"ticks\": \"\"}}, \"type\": \"scattergeo\"}], \"scattergl\": [{\"marker\": {\"colorbar\": {\"outlinewidth\": 0, \"ticks\": \"\"}}, \"type\": \"scattergl\"}], \"scattermapbox\": [{\"marker\": {\"colorbar\": {\"outlinewidth\": 0, \"ticks\": \"\"}}, \"type\": \"scattermapbox\"}], \"scatterpolar\": [{\"marker\": {\"colorbar\": {\"outlinewidth\": 0, \"ticks\": \"\"}}, \"type\": \"scatterpolar\"}], \"scatterpolargl\": [{\"marker\": {\"colorbar\": {\"outlinewidth\": 0, \"ticks\": \"\"}}, \"type\": \"scatterpolargl\"}], \"scatterternary\": [{\"marker\": {\"colorbar\": {\"outlinewidth\": 0, \"ticks\": \"\"}}, \"type\": \"scatterternary\"}], \"surface\": [{\"colorbar\": {\"outlinewidth\": 0, \"ticks\": \"\"}, \"colorscale\": [[0.0, \"#0d0887\"], [0.1111111111111111, \"#46039f\"], [0.2222222222222222, \"#7201a8\"], [0.3333333333333333, \"#9c179e\"], [0.4444444444444444, \"#bd3786\"], [0.5555555555555556, \"#d8576b\"], [0.6666666666666666, \"#ed7953\"], [0.7777777777777778, \"#fb9f3a\"], [0.8888888888888888, \"#fdca26\"], [1.0, \"#f0f921\"]], \"type\": \"surface\"}], \"table\": [{\"cells\": {\"fill\": {\"color\": \"#EBF0F8\"}, \"line\": {\"color\": \"white\"}}, \"header\": {\"fill\": {\"color\": \"#C8D4E3\"}, \"line\": {\"color\": \"white\"}}, \"type\": \"table\"}]}, \"layout\": {\"annotationdefaults\": {\"arrowcolor\": \"#2a3f5f\", \"arrowhead\": 0, \"arrowwidth\": 1}, \"autotypenumbers\": \"strict\", \"coloraxis\": {\"colorbar\": {\"outlinewidth\": 0, \"ticks\": \"\"}}, \"colorscale\": {\"diverging\": [[0, \"#8e0152\"], [0.1, \"#c51b7d\"], [0.2, \"#de77ae\"], [0.3, \"#f1b6da\"], [0.4, \"#fde0ef\"], [0.5, \"#f7f7f7\"], [0.6, \"#e6f5d0\"], [0.7, \"#b8e186\"], [0.8, \"#7fbc41\"], [0.9, \"#4d9221\"], [1, \"#276419\"]], \"sequential\": [[0.0, \"#0d0887\"], [0.1111111111111111, \"#46039f\"], [0.2222222222222222, \"#7201a8\"], [0.3333333333333333, \"#9c179e\"], [0.4444444444444444, \"#bd3786\"], [0.5555555555555556, \"#d8576b\"], [0.6666666666666666, \"#ed7953\"], [0.7777777777777778, \"#fb9f3a\"], [0.8888888888888888, \"#fdca26\"], [1.0, \"#f0f921\"]], \"sequentialminus\": [[0.0, \"#0d0887\"], [0.1111111111111111, \"#46039f\"], [0.2222222222222222, \"#7201a8\"], [0.3333333333333333, \"#9c179e\"], [0.4444444444444444, \"#bd3786\"], [0.5555555555555556, \"#d8576b\"], [0.6666666666666666, \"#ed7953\"], [0.7777777777777778, \"#fb9f3a\"], [0.8888888888888888, \"#fdca26\"], [1.0, \"#f0f921\"]]}, \"colorway\": [\"#636efa\", \"#EF553B\", \"#00cc96\", \"#ab63fa\", \"#FFA15A\", \"#19d3f3\", \"#FF6692\", \"#B6E880\", \"#FF97FF\", \"#FECB52\"], \"font\": {\"color\": \"#2a3f5f\"}, \"geo\": {\"bgcolor\": \"white\", \"lakecolor\": \"white\", \"landcolor\": \"#E5ECF6\", \"showlakes\": true, \"showland\": true, \"subunitcolor\": \"white\"}, \"hoverlabel\": {\"align\": \"left\"}, \"hovermode\": \"closest\", \"mapbox\": {\"style\": \"light\"}, \"paper_bgcolor\": \"white\", \"plot_bgcolor\": \"#E5ECF6\", \"polar\": {\"angularaxis\": {\"gridcolor\": \"white\", \"linecolor\": \"white\", \"ticks\": \"\"}, \"bgcolor\": \"#E5ECF6\", \"radialaxis\": {\"gridcolor\": \"white\", \"linecolor\": \"white\", \"ticks\": \"\"}}, \"scene\": {\"xaxis\": {\"backgroundcolor\": \"#E5ECF6\", \"gridcolor\": \"white\", \"gridwidth\": 2, \"linecolor\": \"white\", \"showbackground\": true, \"ticks\": \"\", \"zerolinecolor\": \"white\"}, \"yaxis\": {\"backgroundcolor\": \"#E5ECF6\", \"gridcolor\": \"white\", \"gridwidth\": 2, \"linecolor\": \"white\", \"showbackground\": true, \"ticks\": \"\", \"zerolinecolor\": \"white\"}, \"zaxis\": {\"backgroundcolor\": \"#E5ECF6\", \"gridcolor\": \"white\", \"gridwidth\": 2, \"linecolor\": \"white\", \"showbackground\": true, \"ticks\": \"\", \"zerolinecolor\": \"white\"}}, \"shapedefaults\": {\"line\": {\"color\": \"#2a3f5f\"}}, \"ternary\": {\"aaxis\": {\"gridcolor\": \"white\", \"linecolor\": \"white\", \"ticks\": \"\"}, \"baxis\": {\"gridcolor\": \"white\", \"linecolor\": \"white\", \"ticks\": \"\"}, \"bgcolor\": \"#E5ECF6\", \"caxis\": {\"gridcolor\": \"white\", \"linecolor\": \"white\", \"ticks\": \"\"}}, \"title\": {\"x\": 0.05}, \"xaxis\": {\"automargin\": true, \"gridcolor\": \"white\", \"linecolor\": \"white\", \"ticks\": \"\", \"title\": {\"standoff\": 15}, \"zerolinecolor\": \"white\", \"zerolinewidth\": 2}, \"yaxis\": {\"automargin\": true, \"gridcolor\": \"white\", \"linecolor\": \"white\", \"ticks\": \"\", \"title\": {\"standoff\": 15}, \"zerolinecolor\": \"white\", \"zerolinewidth\": 2}}}, \"xaxis\": {\"anchor\": \"y\", \"domain\": [0.0, 1.0]}, \"yaxis\": {\"anchor\": \"x\", \"domain\": [0.0, 1.0], \"title\": {\"text\": \"Generosity\"}}},                        {\"responsive\": true}                    ).then(function(){\n",
       "                            \n",
       "var gd = document.getElementById('280a3190-4f2a-43e1-8507-24d2159b5344');\n",
       "var x = new MutationObserver(function (mutations, observer) {{\n",
       "        var display = window.getComputedStyle(gd).display;\n",
       "        if (!display || display === 'none') {{\n",
       "            console.log([gd, 'removed!']);\n",
       "            Plotly.purge(gd);\n",
       "            observer.disconnect();\n",
       "        }}\n",
       "}});\n",
       "\n",
       "// Listen for the removal of the full notebook cells\n",
       "var notebookContainer = gd.closest('#notebook-container');\n",
       "if (notebookContainer) {{\n",
       "    x.observe(notebookContainer, {childList: true});\n",
       "}}\n",
       "\n",
       "// Listen for the clearing of the current output cell\n",
       "var outputEl = gd.closest('.output');\n",
       "if (outputEl) {{\n",
       "    x.observe(outputEl, {childList: true});\n",
       "}}\n",
       "\n",
       "                        })                };                });            </script>        </div>"
      ]
     },
     "metadata": {},
     "output_type": "display_data"
    }
   ],
   "source": [
    "px.box(df, y=df.Generosity)"
   ]
  },
  {
   "cell_type": "code",
   "execution_count": 362,
   "metadata": {},
   "outputs": [
    {
     "data": {
      "application/vnd.plotly.v1+json": {
       "config": {
        "plotlyServerURL": "https://plot.ly"
       },
       "data": [
        {
         "alignmentgroup": "True",
         "hovertemplate": "Generosity %=%{y}<extra></extra>",
         "legendgroup": "",
         "marker": {
          "color": "#636efa"
         },
         "name": "",
         "notched": false,
         "offsetgroup": "",
         "orientation": "v",
         "showlegend": false,
         "type": "box",
         "x0": " ",
         "xaxis": "x",
         "y": [
          -166.7737170014396,
          -51.483099099225086,
          -102.81561466778031,
          21.10725636044565,
          -23.55440338696504,
          -67.3250873618101,
          -54.637954026177724,
          104.88380314819197,
          -25.771678053144875,
          10.718653264715742,
          1111.8608400152896,
          -88.66054858977849,
          118.53509307979037,
          -329.5886250734858,
          -4.400903832765905,
          -14.32740632478606,
          -52.338426875989576,
          -96.0887653136547,
          -96.84046262602914,
          -72.7975823116749,
          -55.91929759378711,
          79.74191245505297,
          -192.0349658711361,
          134.23660780595176,
          -203.21377487947547,
          342.3221938427123,
          -30.47973015461551,
          -104.26579135518269,
          -93.16920974913778,
          -979.3632513190229,
          -25.939555026601013,
          -13.857415390080014,
          -43.06799388384463,
          -150.7693216885456,
          29.98765306307236,
          -4.191692537591413,
          1.9078223980835596,
          73.37356127078264,
          999.6979885155438,
          -8.77288732344623,
          -801.4161203824999,
          138.12716740125884,
          -34.32194746629148,
          118.90295340289563,
          -395.97413427285784,
          26.808832418070367,
          -80.8024721870985,
          -39.349056812343385,
          357.92494845067574,
          114.93383973053126,
          391.6520852792667,
          -76.6279096339751,
          1322.3090311821031,
          -98.47279710787132,
          -86.68063142715286,
          8000.549154799427,
          -1494.3708530782915,
          50.182517744530706,
          70.01641308920694,
          -142.55902708478715,
          -79.88918538447345,
          -96.35563771158323,
          -858.9973767765338,
          -62.45074520500926,
          -296.1692173194953,
          -127.56480319114445,
          41.733342786934664,
          13.128400737482243,
          -1.3618481171134305,
          -53.6143429038773,
          12.010172147556531,
          -400.58367811649225,
          -1823.2637619015168,
          -36.68327036694524,
          -44.87018214331011,
          -249.3830033373798,
          -146.89486883941484,
          316.936259490502,
          -2319.5946297611213,
          -85.25652149143667,
          5.185035645322966,
          -213.83569691392515,
          244.98263138645106,
          35.12760856666609,
          58.39335598757488,
          -58.551275287494406,
          -265.6673896700554,
          -88.28095906343465,
          -78.39710841201763,
          1537.6363882565977,
          -118.31506790551649,
          -1381.3295337528484,
          305.0764725120984,
          -13.145478041842276,
          -60.051441936499096,
          -64.6636833252564,
          185.8244188618319,
          -43.62566276965661,
          -317.5045107833044,
          -22.823097221858117,
          -192.76976863498655,
          5.102822868335605,
          -43.944802399477815,
          340.63975529628334,
          -64.40581784605409,
          -19.48708675322206,
          -10.197337854878649,
          19.10648836075902,
          623.0966324647774,
          -219.56157961512966,
          2665.1240247775286,
          -27.40816947020551
         ],
         "y0": " ",
         "yaxis": "y"
        }
       ],
       "layout": {
        "boxmode": "group",
        "legend": {
         "tracegroupgap": 0
        },
        "margin": {
         "t": 60
        },
        "template": {
         "data": {
          "bar": [
           {
            "error_x": {
             "color": "#2a3f5f"
            },
            "error_y": {
             "color": "#2a3f5f"
            },
            "marker": {
             "line": {
              "color": "#E5ECF6",
              "width": 0.5
             }
            },
            "type": "bar"
           }
          ],
          "barpolar": [
           {
            "marker": {
             "line": {
              "color": "#E5ECF6",
              "width": 0.5
             }
            },
            "type": "barpolar"
           }
          ],
          "carpet": [
           {
            "aaxis": {
             "endlinecolor": "#2a3f5f",
             "gridcolor": "white",
             "linecolor": "white",
             "minorgridcolor": "white",
             "startlinecolor": "#2a3f5f"
            },
            "baxis": {
             "endlinecolor": "#2a3f5f",
             "gridcolor": "white",
             "linecolor": "white",
             "minorgridcolor": "white",
             "startlinecolor": "#2a3f5f"
            },
            "type": "carpet"
           }
          ],
          "choropleth": [
           {
            "colorbar": {
             "outlinewidth": 0,
             "ticks": ""
            },
            "type": "choropleth"
           }
          ],
          "contour": [
           {
            "colorbar": {
             "outlinewidth": 0,
             "ticks": ""
            },
            "colorscale": [
             [
              0,
              "#0d0887"
             ],
             [
              0.1111111111111111,
              "#46039f"
             ],
             [
              0.2222222222222222,
              "#7201a8"
             ],
             [
              0.3333333333333333,
              "#9c179e"
             ],
             [
              0.4444444444444444,
              "#bd3786"
             ],
             [
              0.5555555555555556,
              "#d8576b"
             ],
             [
              0.6666666666666666,
              "#ed7953"
             ],
             [
              0.7777777777777778,
              "#fb9f3a"
             ],
             [
              0.8888888888888888,
              "#fdca26"
             ],
             [
              1,
              "#f0f921"
             ]
            ],
            "type": "contour"
           }
          ],
          "contourcarpet": [
           {
            "colorbar": {
             "outlinewidth": 0,
             "ticks": ""
            },
            "type": "contourcarpet"
           }
          ],
          "heatmap": [
           {
            "colorbar": {
             "outlinewidth": 0,
             "ticks": ""
            },
            "colorscale": [
             [
              0,
              "#0d0887"
             ],
             [
              0.1111111111111111,
              "#46039f"
             ],
             [
              0.2222222222222222,
              "#7201a8"
             ],
             [
              0.3333333333333333,
              "#9c179e"
             ],
             [
              0.4444444444444444,
              "#bd3786"
             ],
             [
              0.5555555555555556,
              "#d8576b"
             ],
             [
              0.6666666666666666,
              "#ed7953"
             ],
             [
              0.7777777777777778,
              "#fb9f3a"
             ],
             [
              0.8888888888888888,
              "#fdca26"
             ],
             [
              1,
              "#f0f921"
             ]
            ],
            "type": "heatmap"
           }
          ],
          "heatmapgl": [
           {
            "colorbar": {
             "outlinewidth": 0,
             "ticks": ""
            },
            "colorscale": [
             [
              0,
              "#0d0887"
             ],
             [
              0.1111111111111111,
              "#46039f"
             ],
             [
              0.2222222222222222,
              "#7201a8"
             ],
             [
              0.3333333333333333,
              "#9c179e"
             ],
             [
              0.4444444444444444,
              "#bd3786"
             ],
             [
              0.5555555555555556,
              "#d8576b"
             ],
             [
              0.6666666666666666,
              "#ed7953"
             ],
             [
              0.7777777777777778,
              "#fb9f3a"
             ],
             [
              0.8888888888888888,
              "#fdca26"
             ],
             [
              1,
              "#f0f921"
             ]
            ],
            "type": "heatmapgl"
           }
          ],
          "histogram": [
           {
            "marker": {
             "colorbar": {
              "outlinewidth": 0,
              "ticks": ""
             }
            },
            "type": "histogram"
           }
          ],
          "histogram2d": [
           {
            "colorbar": {
             "outlinewidth": 0,
             "ticks": ""
            },
            "colorscale": [
             [
              0,
              "#0d0887"
             ],
             [
              0.1111111111111111,
              "#46039f"
             ],
             [
              0.2222222222222222,
              "#7201a8"
             ],
             [
              0.3333333333333333,
              "#9c179e"
             ],
             [
              0.4444444444444444,
              "#bd3786"
             ],
             [
              0.5555555555555556,
              "#d8576b"
             ],
             [
              0.6666666666666666,
              "#ed7953"
             ],
             [
              0.7777777777777778,
              "#fb9f3a"
             ],
             [
              0.8888888888888888,
              "#fdca26"
             ],
             [
              1,
              "#f0f921"
             ]
            ],
            "type": "histogram2d"
           }
          ],
          "histogram2dcontour": [
           {
            "colorbar": {
             "outlinewidth": 0,
             "ticks": ""
            },
            "colorscale": [
             [
              0,
              "#0d0887"
             ],
             [
              0.1111111111111111,
              "#46039f"
             ],
             [
              0.2222222222222222,
              "#7201a8"
             ],
             [
              0.3333333333333333,
              "#9c179e"
             ],
             [
              0.4444444444444444,
              "#bd3786"
             ],
             [
              0.5555555555555556,
              "#d8576b"
             ],
             [
              0.6666666666666666,
              "#ed7953"
             ],
             [
              0.7777777777777778,
              "#fb9f3a"
             ],
             [
              0.8888888888888888,
              "#fdca26"
             ],
             [
              1,
              "#f0f921"
             ]
            ],
            "type": "histogram2dcontour"
           }
          ],
          "mesh3d": [
           {
            "colorbar": {
             "outlinewidth": 0,
             "ticks": ""
            },
            "type": "mesh3d"
           }
          ],
          "parcoords": [
           {
            "line": {
             "colorbar": {
              "outlinewidth": 0,
              "ticks": ""
             }
            },
            "type": "parcoords"
           }
          ],
          "pie": [
           {
            "automargin": true,
            "type": "pie"
           }
          ],
          "scatter": [
           {
            "marker": {
             "colorbar": {
              "outlinewidth": 0,
              "ticks": ""
             }
            },
            "type": "scatter"
           }
          ],
          "scatter3d": [
           {
            "line": {
             "colorbar": {
              "outlinewidth": 0,
              "ticks": ""
             }
            },
            "marker": {
             "colorbar": {
              "outlinewidth": 0,
              "ticks": ""
             }
            },
            "type": "scatter3d"
           }
          ],
          "scattercarpet": [
           {
            "marker": {
             "colorbar": {
              "outlinewidth": 0,
              "ticks": ""
             }
            },
            "type": "scattercarpet"
           }
          ],
          "scattergeo": [
           {
            "marker": {
             "colorbar": {
              "outlinewidth": 0,
              "ticks": ""
             }
            },
            "type": "scattergeo"
           }
          ],
          "scattergl": [
           {
            "marker": {
             "colorbar": {
              "outlinewidth": 0,
              "ticks": ""
             }
            },
            "type": "scattergl"
           }
          ],
          "scattermapbox": [
           {
            "marker": {
             "colorbar": {
              "outlinewidth": 0,
              "ticks": ""
             }
            },
            "type": "scattermapbox"
           }
          ],
          "scatterpolar": [
           {
            "marker": {
             "colorbar": {
              "outlinewidth": 0,
              "ticks": ""
             }
            },
            "type": "scatterpolar"
           }
          ],
          "scatterpolargl": [
           {
            "marker": {
             "colorbar": {
              "outlinewidth": 0,
              "ticks": ""
             }
            },
            "type": "scatterpolargl"
           }
          ],
          "scatterternary": [
           {
            "marker": {
             "colorbar": {
              "outlinewidth": 0,
              "ticks": ""
             }
            },
            "type": "scatterternary"
           }
          ],
          "surface": [
           {
            "colorbar": {
             "outlinewidth": 0,
             "ticks": ""
            },
            "colorscale": [
             [
              0,
              "#0d0887"
             ],
             [
              0.1111111111111111,
              "#46039f"
             ],
             [
              0.2222222222222222,
              "#7201a8"
             ],
             [
              0.3333333333333333,
              "#9c179e"
             ],
             [
              0.4444444444444444,
              "#bd3786"
             ],
             [
              0.5555555555555556,
              "#d8576b"
             ],
             [
              0.6666666666666666,
              "#ed7953"
             ],
             [
              0.7777777777777778,
              "#fb9f3a"
             ],
             [
              0.8888888888888888,
              "#fdca26"
             ],
             [
              1,
              "#f0f921"
             ]
            ],
            "type": "surface"
           }
          ],
          "table": [
           {
            "cells": {
             "fill": {
              "color": "#EBF0F8"
             },
             "line": {
              "color": "white"
             }
            },
            "header": {
             "fill": {
              "color": "#C8D4E3"
             },
             "line": {
              "color": "white"
             }
            },
            "type": "table"
           }
          ]
         },
         "layout": {
          "annotationdefaults": {
           "arrowcolor": "#2a3f5f",
           "arrowhead": 0,
           "arrowwidth": 1
          },
          "autotypenumbers": "strict",
          "coloraxis": {
           "colorbar": {
            "outlinewidth": 0,
            "ticks": ""
           }
          },
          "colorscale": {
           "diverging": [
            [
             0,
             "#8e0152"
            ],
            [
             0.1,
             "#c51b7d"
            ],
            [
             0.2,
             "#de77ae"
            ],
            [
             0.3,
             "#f1b6da"
            ],
            [
             0.4,
             "#fde0ef"
            ],
            [
             0.5,
             "#f7f7f7"
            ],
            [
             0.6,
             "#e6f5d0"
            ],
            [
             0.7,
             "#b8e186"
            ],
            [
             0.8,
             "#7fbc41"
            ],
            [
             0.9,
             "#4d9221"
            ],
            [
             1,
             "#276419"
            ]
           ],
           "sequential": [
            [
             0,
             "#0d0887"
            ],
            [
             0.1111111111111111,
             "#46039f"
            ],
            [
             0.2222222222222222,
             "#7201a8"
            ],
            [
             0.3333333333333333,
             "#9c179e"
            ],
            [
             0.4444444444444444,
             "#bd3786"
            ],
            [
             0.5555555555555556,
             "#d8576b"
            ],
            [
             0.6666666666666666,
             "#ed7953"
            ],
            [
             0.7777777777777778,
             "#fb9f3a"
            ],
            [
             0.8888888888888888,
             "#fdca26"
            ],
            [
             1,
             "#f0f921"
            ]
           ],
           "sequentialminus": [
            [
             0,
             "#0d0887"
            ],
            [
             0.1111111111111111,
             "#46039f"
            ],
            [
             0.2222222222222222,
             "#7201a8"
            ],
            [
             0.3333333333333333,
             "#9c179e"
            ],
            [
             0.4444444444444444,
             "#bd3786"
            ],
            [
             0.5555555555555556,
             "#d8576b"
            ],
            [
             0.6666666666666666,
             "#ed7953"
            ],
            [
             0.7777777777777778,
             "#fb9f3a"
            ],
            [
             0.8888888888888888,
             "#fdca26"
            ],
            [
             1,
             "#f0f921"
            ]
           ]
          },
          "colorway": [
           "#636efa",
           "#EF553B",
           "#00cc96",
           "#ab63fa",
           "#FFA15A",
           "#19d3f3",
           "#FF6692",
           "#B6E880",
           "#FF97FF",
           "#FECB52"
          ],
          "font": {
           "color": "#2a3f5f"
          },
          "geo": {
           "bgcolor": "white",
           "lakecolor": "white",
           "landcolor": "#E5ECF6",
           "showlakes": true,
           "showland": true,
           "subunitcolor": "white"
          },
          "hoverlabel": {
           "align": "left"
          },
          "hovermode": "closest",
          "mapbox": {
           "style": "light"
          },
          "paper_bgcolor": "white",
          "plot_bgcolor": "#E5ECF6",
          "polar": {
           "angularaxis": {
            "gridcolor": "white",
            "linecolor": "white",
            "ticks": ""
           },
           "bgcolor": "#E5ECF6",
           "radialaxis": {
            "gridcolor": "white",
            "linecolor": "white",
            "ticks": ""
           }
          },
          "scene": {
           "xaxis": {
            "backgroundcolor": "#E5ECF6",
            "gridcolor": "white",
            "gridwidth": 2,
            "linecolor": "white",
            "showbackground": true,
            "ticks": "",
            "zerolinecolor": "white"
           },
           "yaxis": {
            "backgroundcolor": "#E5ECF6",
            "gridcolor": "white",
            "gridwidth": 2,
            "linecolor": "white",
            "showbackground": true,
            "ticks": "",
            "zerolinecolor": "white"
           },
           "zaxis": {
            "backgroundcolor": "#E5ECF6",
            "gridcolor": "white",
            "gridwidth": 2,
            "linecolor": "white",
            "showbackground": true,
            "ticks": "",
            "zerolinecolor": "white"
           }
          },
          "shapedefaults": {
           "line": {
            "color": "#2a3f5f"
           }
          },
          "ternary": {
           "aaxis": {
            "gridcolor": "white",
            "linecolor": "white",
            "ticks": ""
           },
           "baxis": {
            "gridcolor": "white",
            "linecolor": "white",
            "ticks": ""
           },
           "bgcolor": "#E5ECF6",
           "caxis": {
            "gridcolor": "white",
            "linecolor": "white",
            "ticks": ""
           }
          },
          "title": {
           "x": 0.05
          },
          "xaxis": {
           "automargin": true,
           "gridcolor": "white",
           "linecolor": "white",
           "ticks": "",
           "title": {
            "standoff": 15
           },
           "zerolinecolor": "white",
           "zerolinewidth": 2
          },
          "yaxis": {
           "automargin": true,
           "gridcolor": "white",
           "linecolor": "white",
           "ticks": "",
           "title": {
            "standoff": 15
           },
           "zerolinecolor": "white",
           "zerolinewidth": 2
          }
         }
        },
        "xaxis": {
         "anchor": "y",
         "domain": [
          0,
          1
         ]
        },
        "yaxis": {
         "anchor": "x",
         "domain": [
          0,
          1
         ],
         "title": {
          "text": "Generosity %"
         }
        }
       }
      },
      "text/html": [
       "<div>                            <div id=\"db7f3487-a6a5-47c2-945e-82ff374d5607\" class=\"plotly-graph-div\" style=\"height:525px; width:100%;\"></div>            <script type=\"text/javascript\">                require([\"plotly\"], function(Plotly) {                    window.PLOTLYENV=window.PLOTLYENV || {};                                    if (document.getElementById(\"db7f3487-a6a5-47c2-945e-82ff374d5607\")) {                    Plotly.newPlot(                        \"db7f3487-a6a5-47c2-945e-82ff374d5607\",                        [{\"alignmentgroup\": \"True\", \"hovertemplate\": \"Generosity %=%{y}<extra></extra>\", \"legendgroup\": \"\", \"marker\": {\"color\": \"#636efa\"}, \"name\": \"\", \"notched\": false, \"offsetgroup\": \"\", \"orientation\": \"v\", \"showlegend\": false, \"type\": \"box\", \"x0\": \" \", \"xaxis\": \"x\", \"y\": [-166.7737170014396, -51.483099099225086, -102.81561466778031, 21.10725636044565, -23.55440338696504, -67.3250873618101, -54.637954026177724, 104.88380314819197, -25.771678053144875, 10.718653264715742, 1111.8608400152896, -88.66054858977849, 118.53509307979037, -329.5886250734858, -4.400903832765905, -14.32740632478606, -52.338426875989576, -96.0887653136547, -96.84046262602914, -72.7975823116749, -55.91929759378711, 79.74191245505297, -192.0349658711361, 134.23660780595176, -203.21377487947547, 342.3221938427123, -30.47973015461551, -104.26579135518269, -93.16920974913778, -979.3632513190229, -25.939555026601013, -13.857415390080014, -43.06799388384463, -150.7693216885456, 29.98765306307236, -4.191692537591413, 1.9078223980835596, 73.37356127078264, 999.6979885155438, -8.77288732344623, -801.4161203824999, 138.12716740125884, -34.32194746629148, 118.90295340289563, -395.97413427285784, 26.808832418070367, -80.8024721870985, -39.349056812343385, 357.92494845067574, 114.93383973053126, 391.6520852792667, -76.6279096339751, 1322.3090311821031, -98.47279710787132, -86.68063142715286, 8000.549154799427, -1494.3708530782915, 50.182517744530706, 70.01641308920694, -142.55902708478715, -79.88918538447345, -96.35563771158323, -858.9973767765338, -62.45074520500926, -296.1692173194953, -127.56480319114445, 41.733342786934664, 13.128400737482243, -1.3618481171134305, -53.6143429038773, 12.010172147556531, -400.58367811649225, -1823.2637619015168, -36.68327036694524, -44.87018214331011, -249.3830033373798, -146.89486883941484, 316.936259490502, -2319.5946297611213, -85.25652149143667, 5.185035645322966, -213.83569691392515, 244.98263138645106, 35.12760856666609, 58.39335598757488, -58.551275287494406, -265.6673896700554, -88.28095906343465, -78.39710841201763, 1537.6363882565977, -118.31506790551649, -1381.3295337528484, 305.0764725120984, -13.145478041842276, -60.051441936499096, -64.6636833252564, 185.8244188618319, -43.62566276965661, -317.5045107833044, -22.823097221858117, -192.76976863498655, 5.102822868335605, -43.944802399477815, 340.63975529628334, -64.40581784605409, -19.48708675322206, -10.197337854878649, 19.10648836075902, 623.0966324647774, -219.56157961512966, 2665.1240247775286, -27.40816947020551], \"y0\": \" \", \"yaxis\": \"y\"}],                        {\"boxmode\": \"group\", \"legend\": {\"tracegroupgap\": 0}, \"margin\": {\"t\": 60}, \"template\": {\"data\": {\"bar\": [{\"error_x\": {\"color\": \"#2a3f5f\"}, \"error_y\": {\"color\": \"#2a3f5f\"}, \"marker\": {\"line\": {\"color\": \"#E5ECF6\", \"width\": 0.5}}, \"type\": \"bar\"}], \"barpolar\": [{\"marker\": {\"line\": {\"color\": \"#E5ECF6\", \"width\": 0.5}}, \"type\": \"barpolar\"}], \"carpet\": [{\"aaxis\": {\"endlinecolor\": \"#2a3f5f\", \"gridcolor\": \"white\", \"linecolor\": \"white\", \"minorgridcolor\": \"white\", \"startlinecolor\": \"#2a3f5f\"}, \"baxis\": {\"endlinecolor\": \"#2a3f5f\", \"gridcolor\": \"white\", \"linecolor\": \"white\", \"minorgridcolor\": \"white\", \"startlinecolor\": \"#2a3f5f\"}, \"type\": \"carpet\"}], \"choropleth\": [{\"colorbar\": {\"outlinewidth\": 0, \"ticks\": \"\"}, \"type\": \"choropleth\"}], \"contour\": [{\"colorbar\": {\"outlinewidth\": 0, \"ticks\": \"\"}, \"colorscale\": [[0.0, \"#0d0887\"], [0.1111111111111111, \"#46039f\"], [0.2222222222222222, \"#7201a8\"], [0.3333333333333333, \"#9c179e\"], [0.4444444444444444, \"#bd3786\"], [0.5555555555555556, \"#d8576b\"], [0.6666666666666666, \"#ed7953\"], [0.7777777777777778, \"#fb9f3a\"], [0.8888888888888888, \"#fdca26\"], [1.0, \"#f0f921\"]], \"type\": \"contour\"}], \"contourcarpet\": [{\"colorbar\": {\"outlinewidth\": 0, \"ticks\": \"\"}, \"type\": \"contourcarpet\"}], \"heatmap\": [{\"colorbar\": {\"outlinewidth\": 0, \"ticks\": \"\"}, \"colorscale\": [[0.0, \"#0d0887\"], [0.1111111111111111, \"#46039f\"], [0.2222222222222222, \"#7201a8\"], [0.3333333333333333, \"#9c179e\"], [0.4444444444444444, \"#bd3786\"], [0.5555555555555556, \"#d8576b\"], [0.6666666666666666, \"#ed7953\"], [0.7777777777777778, \"#fb9f3a\"], [0.8888888888888888, \"#fdca26\"], [1.0, \"#f0f921\"]], \"type\": \"heatmap\"}], \"heatmapgl\": [{\"colorbar\": {\"outlinewidth\": 0, \"ticks\": \"\"}, \"colorscale\": [[0.0, \"#0d0887\"], [0.1111111111111111, \"#46039f\"], [0.2222222222222222, \"#7201a8\"], [0.3333333333333333, \"#9c179e\"], [0.4444444444444444, \"#bd3786\"], [0.5555555555555556, \"#d8576b\"], [0.6666666666666666, \"#ed7953\"], [0.7777777777777778, \"#fb9f3a\"], [0.8888888888888888, \"#fdca26\"], [1.0, \"#f0f921\"]], \"type\": \"heatmapgl\"}], \"histogram\": [{\"marker\": {\"colorbar\": {\"outlinewidth\": 0, \"ticks\": \"\"}}, \"type\": \"histogram\"}], \"histogram2d\": [{\"colorbar\": {\"outlinewidth\": 0, \"ticks\": \"\"}, \"colorscale\": [[0.0, \"#0d0887\"], [0.1111111111111111, \"#46039f\"], [0.2222222222222222, \"#7201a8\"], [0.3333333333333333, \"#9c179e\"], [0.4444444444444444, \"#bd3786\"], [0.5555555555555556, \"#d8576b\"], [0.6666666666666666, \"#ed7953\"], [0.7777777777777778, \"#fb9f3a\"], [0.8888888888888888, \"#fdca26\"], [1.0, \"#f0f921\"]], \"type\": \"histogram2d\"}], \"histogram2dcontour\": [{\"colorbar\": {\"outlinewidth\": 0, \"ticks\": \"\"}, \"colorscale\": [[0.0, \"#0d0887\"], [0.1111111111111111, \"#46039f\"], [0.2222222222222222, \"#7201a8\"], [0.3333333333333333, \"#9c179e\"], [0.4444444444444444, \"#bd3786\"], [0.5555555555555556, \"#d8576b\"], [0.6666666666666666, \"#ed7953\"], [0.7777777777777778, \"#fb9f3a\"], [0.8888888888888888, \"#fdca26\"], [1.0, \"#f0f921\"]], \"type\": \"histogram2dcontour\"}], \"mesh3d\": [{\"colorbar\": {\"outlinewidth\": 0, \"ticks\": \"\"}, \"type\": \"mesh3d\"}], \"parcoords\": [{\"line\": {\"colorbar\": {\"outlinewidth\": 0, \"ticks\": \"\"}}, \"type\": \"parcoords\"}], \"pie\": [{\"automargin\": true, \"type\": \"pie\"}], \"scatter\": [{\"marker\": {\"colorbar\": {\"outlinewidth\": 0, \"ticks\": \"\"}}, \"type\": \"scatter\"}], \"scatter3d\": [{\"line\": {\"colorbar\": {\"outlinewidth\": 0, \"ticks\": \"\"}}, \"marker\": {\"colorbar\": {\"outlinewidth\": 0, \"ticks\": \"\"}}, \"type\": \"scatter3d\"}], \"scattercarpet\": [{\"marker\": {\"colorbar\": {\"outlinewidth\": 0, \"ticks\": \"\"}}, \"type\": \"scattercarpet\"}], \"scattergeo\": [{\"marker\": {\"colorbar\": {\"outlinewidth\": 0, \"ticks\": \"\"}}, \"type\": \"scattergeo\"}], \"scattergl\": [{\"marker\": {\"colorbar\": {\"outlinewidth\": 0, \"ticks\": \"\"}}, \"type\": \"scattergl\"}], \"scattermapbox\": [{\"marker\": {\"colorbar\": {\"outlinewidth\": 0, \"ticks\": \"\"}}, \"type\": \"scattermapbox\"}], \"scatterpolar\": [{\"marker\": {\"colorbar\": {\"outlinewidth\": 0, \"ticks\": \"\"}}, \"type\": \"scatterpolar\"}], \"scatterpolargl\": [{\"marker\": {\"colorbar\": {\"outlinewidth\": 0, \"ticks\": \"\"}}, \"type\": \"scatterpolargl\"}], \"scatterternary\": [{\"marker\": {\"colorbar\": {\"outlinewidth\": 0, \"ticks\": \"\"}}, \"type\": \"scatterternary\"}], \"surface\": [{\"colorbar\": {\"outlinewidth\": 0, \"ticks\": \"\"}, \"colorscale\": [[0.0, \"#0d0887\"], [0.1111111111111111, \"#46039f\"], [0.2222222222222222, \"#7201a8\"], [0.3333333333333333, \"#9c179e\"], [0.4444444444444444, \"#bd3786\"], [0.5555555555555556, \"#d8576b\"], [0.6666666666666666, \"#ed7953\"], [0.7777777777777778, \"#fb9f3a\"], [0.8888888888888888, \"#fdca26\"], [1.0, \"#f0f921\"]], \"type\": \"surface\"}], \"table\": [{\"cells\": {\"fill\": {\"color\": \"#EBF0F8\"}, \"line\": {\"color\": \"white\"}}, \"header\": {\"fill\": {\"color\": \"#C8D4E3\"}, \"line\": {\"color\": \"white\"}}, \"type\": \"table\"}]}, \"layout\": {\"annotationdefaults\": {\"arrowcolor\": \"#2a3f5f\", \"arrowhead\": 0, \"arrowwidth\": 1}, \"autotypenumbers\": \"strict\", \"coloraxis\": {\"colorbar\": {\"outlinewidth\": 0, \"ticks\": \"\"}}, \"colorscale\": {\"diverging\": [[0, \"#8e0152\"], [0.1, \"#c51b7d\"], [0.2, \"#de77ae\"], [0.3, \"#f1b6da\"], [0.4, \"#fde0ef\"], [0.5, \"#f7f7f7\"], [0.6, \"#e6f5d0\"], [0.7, \"#b8e186\"], [0.8, \"#7fbc41\"], [0.9, \"#4d9221\"], [1, \"#276419\"]], \"sequential\": [[0.0, \"#0d0887\"], [0.1111111111111111, \"#46039f\"], [0.2222222222222222, \"#7201a8\"], [0.3333333333333333, \"#9c179e\"], [0.4444444444444444, \"#bd3786\"], [0.5555555555555556, \"#d8576b\"], [0.6666666666666666, \"#ed7953\"], [0.7777777777777778, \"#fb9f3a\"], [0.8888888888888888, \"#fdca26\"], [1.0, \"#f0f921\"]], \"sequentialminus\": [[0.0, \"#0d0887\"], [0.1111111111111111, \"#46039f\"], [0.2222222222222222, \"#7201a8\"], [0.3333333333333333, \"#9c179e\"], [0.4444444444444444, \"#bd3786\"], [0.5555555555555556, \"#d8576b\"], [0.6666666666666666, \"#ed7953\"], [0.7777777777777778, \"#fb9f3a\"], [0.8888888888888888, \"#fdca26\"], [1.0, \"#f0f921\"]]}, \"colorway\": [\"#636efa\", \"#EF553B\", \"#00cc96\", \"#ab63fa\", \"#FFA15A\", \"#19d3f3\", \"#FF6692\", \"#B6E880\", \"#FF97FF\", \"#FECB52\"], \"font\": {\"color\": \"#2a3f5f\"}, \"geo\": {\"bgcolor\": \"white\", \"lakecolor\": \"white\", \"landcolor\": \"#E5ECF6\", \"showlakes\": true, \"showland\": true, \"subunitcolor\": \"white\"}, \"hoverlabel\": {\"align\": \"left\"}, \"hovermode\": \"closest\", \"mapbox\": {\"style\": \"light\"}, \"paper_bgcolor\": \"white\", \"plot_bgcolor\": \"#E5ECF6\", \"polar\": {\"angularaxis\": {\"gridcolor\": \"white\", \"linecolor\": \"white\", \"ticks\": \"\"}, \"bgcolor\": \"#E5ECF6\", \"radialaxis\": {\"gridcolor\": \"white\", \"linecolor\": \"white\", \"ticks\": \"\"}}, \"scene\": {\"xaxis\": {\"backgroundcolor\": \"#E5ECF6\", \"gridcolor\": \"white\", \"gridwidth\": 2, \"linecolor\": \"white\", \"showbackground\": true, \"ticks\": \"\", \"zerolinecolor\": \"white\"}, \"yaxis\": {\"backgroundcolor\": \"#E5ECF6\", \"gridcolor\": \"white\", \"gridwidth\": 2, \"linecolor\": \"white\", \"showbackground\": true, \"ticks\": \"\", \"zerolinecolor\": \"white\"}, \"zaxis\": {\"backgroundcolor\": \"#E5ECF6\", \"gridcolor\": \"white\", \"gridwidth\": 2, \"linecolor\": \"white\", \"showbackground\": true, \"ticks\": \"\", \"zerolinecolor\": \"white\"}}, \"shapedefaults\": {\"line\": {\"color\": \"#2a3f5f\"}}, \"ternary\": {\"aaxis\": {\"gridcolor\": \"white\", \"linecolor\": \"white\", \"ticks\": \"\"}, \"baxis\": {\"gridcolor\": \"white\", \"linecolor\": \"white\", \"ticks\": \"\"}, \"bgcolor\": \"#E5ECF6\", \"caxis\": {\"gridcolor\": \"white\", \"linecolor\": \"white\", \"ticks\": \"\"}}, \"title\": {\"x\": 0.05}, \"xaxis\": {\"automargin\": true, \"gridcolor\": \"white\", \"linecolor\": \"white\", \"ticks\": \"\", \"title\": {\"standoff\": 15}, \"zerolinecolor\": \"white\", \"zerolinewidth\": 2}, \"yaxis\": {\"automargin\": true, \"gridcolor\": \"white\", \"linecolor\": \"white\", \"ticks\": \"\", \"title\": {\"standoff\": 15}, \"zerolinecolor\": \"white\", \"zerolinewidth\": 2}}}, \"xaxis\": {\"anchor\": \"y\", \"domain\": [0.0, 1.0]}, \"yaxis\": {\"anchor\": \"x\", \"domain\": [0.0, 1.0], \"title\": {\"text\": \"Generosity %\"}}},                        {\"responsive\": true}                    ).then(function(){\n",
       "                            \n",
       "var gd = document.getElementById('db7f3487-a6a5-47c2-945e-82ff374d5607');\n",
       "var x = new MutationObserver(function (mutations, observer) {{\n",
       "        var display = window.getComputedStyle(gd).display;\n",
       "        if (!display || display === 'none') {{\n",
       "            console.log([gd, 'removed!']);\n",
       "            Plotly.purge(gd);\n",
       "            observer.disconnect();\n",
       "        }}\n",
       "}});\n",
       "\n",
       "// Listen for the removal of the full notebook cells\n",
       "var notebookContainer = gd.closest('#notebook-container');\n",
       "if (notebookContainer) {{\n",
       "    x.observe(notebookContainer, {childList: true});\n",
       "}}\n",
       "\n",
       "// Listen for the clearing of the current output cell\n",
       "var outputEl = gd.closest('.output');\n",
       "if (outputEl) {{\n",
       "    x.observe(outputEl, {childList: true});\n",
       "}}\n",
       "\n",
       "                        })                };                });            </script>        </div>"
      ]
     },
     "metadata": {},
     "output_type": "display_data"
    }
   ],
   "source": [
    "px.box(df_change, y=df_change[\"Generosity %\"])"
   ]
  },
  {
   "cell_type": "code",
   "execution_count": null,
   "metadata": {},
   "outputs": [],
   "source": []
  }
 ],
 "metadata": {
  "kernelspec": {
   "display_name": "Python 3",
   "language": "python",
   "name": "python3"
  },
  "language_info": {
   "codemirror_mode": {
    "name": "ipython",
    "version": 3
   },
   "file_extension": ".py",
   "mimetype": "text/x-python",
   "name": "python",
   "nbconvert_exporter": "python",
   "pygments_lexer": "ipython3",
   "version": "3.8.5"
  }
 },
 "nbformat": 4,
 "nbformat_minor": 4
}
