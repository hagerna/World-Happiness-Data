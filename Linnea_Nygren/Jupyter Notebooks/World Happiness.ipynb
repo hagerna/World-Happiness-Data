{
 "cells": [
  {
   "cell_type": "code",
   "execution_count": 159,
   "metadata": {},
   "outputs": [],
   "source": [
    "import pandas as pd\n",
    "import plotly.graph_objects as go\n",
    "import plotly.express as px\n",
    "import plotly.io as pio"
   ]
  },
  {
   "cell_type": "code",
   "execution_count": 3,
   "metadata": {},
   "outputs": [],
   "source": [
    "df = pd.read_excel(r'C:\\Users\\maxwe\\Downloads\\DataPanelWHR2021C2.xls')"
   ]
  },
  {
   "cell_type": "code",
   "execution_count": 4,
   "metadata": {
    "scrolled": true
   },
   "outputs": [
    {
     "data": {
      "text/html": [
       "<div>\n",
       "<style scoped>\n",
       "    .dataframe tbody tr th:only-of-type {\n",
       "        vertical-align: middle;\n",
       "    }\n",
       "\n",
       "    .dataframe tbody tr th {\n",
       "        vertical-align: top;\n",
       "    }\n",
       "\n",
       "    .dataframe thead th {\n",
       "        text-align: right;\n",
       "    }\n",
       "</style>\n",
       "<table border=\"1\" class=\"dataframe\">\n",
       "  <thead>\n",
       "    <tr style=\"text-align: right;\">\n",
       "      <th></th>\n",
       "      <th>Country name</th>\n",
       "      <th>year</th>\n",
       "      <th>Life Ladder</th>\n",
       "      <th>Log GDP per capita</th>\n",
       "      <th>Social support</th>\n",
       "      <th>Healthy life expectancy at birth</th>\n",
       "      <th>Freedom to make life choices</th>\n",
       "      <th>Generosity</th>\n",
       "      <th>Perceptions of corruption</th>\n",
       "      <th>Positive affect</th>\n",
       "      <th>Negative affect</th>\n",
       "    </tr>\n",
       "  </thead>\n",
       "  <tbody>\n",
       "    <tr>\n",
       "      <th>0</th>\n",
       "      <td>Afghanistan</td>\n",
       "      <td>2008</td>\n",
       "      <td>3.723590</td>\n",
       "      <td>7.370100</td>\n",
       "      <td>0.450662</td>\n",
       "      <td>50.799999</td>\n",
       "      <td>0.718114</td>\n",
       "      <td>0.167640</td>\n",
       "      <td>0.881686</td>\n",
       "      <td>0.517637</td>\n",
       "      <td>0.258195</td>\n",
       "    </tr>\n",
       "    <tr>\n",
       "      <th>1</th>\n",
       "      <td>Afghanistan</td>\n",
       "      <td>2009</td>\n",
       "      <td>4.401778</td>\n",
       "      <td>7.539972</td>\n",
       "      <td>0.552308</td>\n",
       "      <td>51.200001</td>\n",
       "      <td>0.678896</td>\n",
       "      <td>0.190099</td>\n",
       "      <td>0.850035</td>\n",
       "      <td>0.583926</td>\n",
       "      <td>0.237092</td>\n",
       "    </tr>\n",
       "    <tr>\n",
       "      <th>2</th>\n",
       "      <td>Afghanistan</td>\n",
       "      <td>2010</td>\n",
       "      <td>4.758381</td>\n",
       "      <td>7.646709</td>\n",
       "      <td>0.539075</td>\n",
       "      <td>51.599998</td>\n",
       "      <td>0.600127</td>\n",
       "      <td>0.120590</td>\n",
       "      <td>0.706766</td>\n",
       "      <td>0.618265</td>\n",
       "      <td>0.275324</td>\n",
       "    </tr>\n",
       "    <tr>\n",
       "      <th>3</th>\n",
       "      <td>Afghanistan</td>\n",
       "      <td>2011</td>\n",
       "      <td>3.831719</td>\n",
       "      <td>7.619532</td>\n",
       "      <td>0.521104</td>\n",
       "      <td>51.919998</td>\n",
       "      <td>0.495901</td>\n",
       "      <td>0.162427</td>\n",
       "      <td>0.731109</td>\n",
       "      <td>0.611387</td>\n",
       "      <td>0.267175</td>\n",
       "    </tr>\n",
       "    <tr>\n",
       "      <th>4</th>\n",
       "      <td>Afghanistan</td>\n",
       "      <td>2012</td>\n",
       "      <td>3.782938</td>\n",
       "      <td>7.705479</td>\n",
       "      <td>0.520637</td>\n",
       "      <td>52.240002</td>\n",
       "      <td>0.530935</td>\n",
       "      <td>0.236032</td>\n",
       "      <td>0.775620</td>\n",
       "      <td>0.710385</td>\n",
       "      <td>0.267919</td>\n",
       "    </tr>\n",
       "  </tbody>\n",
       "</table>\n",
       "</div>"
      ],
      "text/plain": [
       "  Country name  year  Life Ladder  Log GDP per capita  Social support  \\\n",
       "0  Afghanistan  2008     3.723590            7.370100        0.450662   \n",
       "1  Afghanistan  2009     4.401778            7.539972        0.552308   \n",
       "2  Afghanistan  2010     4.758381            7.646709        0.539075   \n",
       "3  Afghanistan  2011     3.831719            7.619532        0.521104   \n",
       "4  Afghanistan  2012     3.782938            7.705479        0.520637   \n",
       "\n",
       "   Healthy life expectancy at birth  Freedom to make life choices  Generosity  \\\n",
       "0                         50.799999                      0.718114    0.167640   \n",
       "1                         51.200001                      0.678896    0.190099   \n",
       "2                         51.599998                      0.600127    0.120590   \n",
       "3                         51.919998                      0.495901    0.162427   \n",
       "4                         52.240002                      0.530935    0.236032   \n",
       "\n",
       "   Perceptions of corruption  Positive affect  Negative affect  \n",
       "0                   0.881686         0.517637         0.258195  \n",
       "1                   0.850035         0.583926         0.237092  \n",
       "2                   0.706766         0.618265         0.275324  \n",
       "3                   0.731109         0.611387         0.267175  \n",
       "4                   0.775620         0.710385         0.267919  "
      ]
     },
     "execution_count": 4,
     "metadata": {},
     "output_type": "execute_result"
    }
   ],
   "source": [
    "df.head()"
   ]
  },
  {
   "cell_type": "code",
   "execution_count": 142,
   "metadata": {},
   "outputs": [
    {
     "data": {
      "text/plain": [
       "2.375091791152954"
      ]
     },
     "execution_count": 142,
     "metadata": {},
     "output_type": "execute_result"
    }
   ],
   "source": [
    "df['Life Ladder'].min()"
   ]
  },
  {
   "cell_type": "code",
   "execution_count": 139,
   "metadata": {},
   "outputs": [
    {
     "data": {
      "text/html": [
       "<div>\n",
       "<style scoped>\n",
       "    .dataframe tbody tr th:only-of-type {\n",
       "        vertical-align: middle;\n",
       "    }\n",
       "\n",
       "    .dataframe tbody tr th {\n",
       "        vertical-align: top;\n",
       "    }\n",
       "\n",
       "    .dataframe thead th {\n",
       "        text-align: right;\n",
       "    }\n",
       "</style>\n",
       "<table border=\"1\" class=\"dataframe\">\n",
       "  <thead>\n",
       "    <tr style=\"text-align: right;\">\n",
       "      <th></th>\n",
       "      <th>Country name</th>\n",
       "      <th>year</th>\n",
       "      <th>Life Ladder</th>\n",
       "      <th>Log GDP per capita</th>\n",
       "      <th>Social support</th>\n",
       "      <th>Healthy life expectancy at birth</th>\n",
       "      <th>Freedom to make life choices</th>\n",
       "      <th>Generosity</th>\n",
       "      <th>Perceptions of corruption</th>\n",
       "      <th>Positive affect</th>\n",
       "      <th>Negative affect</th>\n",
       "    </tr>\n",
       "  </thead>\n",
       "  <tbody>\n",
       "    <tr>\n",
       "      <th>11</th>\n",
       "      <td>Afghanistan</td>\n",
       "      <td>2019</td>\n",
       "      <td>2.375092</td>\n",
       "      <td>7.697248</td>\n",
       "      <td>0.419973</td>\n",
       "      <td>52.400002</td>\n",
       "      <td>0.393656</td>\n",
       "      <td>-0.108459</td>\n",
       "      <td>0.923849</td>\n",
       "      <td>0.351387</td>\n",
       "      <td>0.502474</td>\n",
       "    </tr>\n",
       "  </tbody>\n",
       "</table>\n",
       "</div>"
      ],
      "text/plain": [
       "   Country name  year  Life Ladder  Log GDP per capita  Social support  \\\n",
       "11  Afghanistan  2019     2.375092            7.697248        0.419973   \n",
       "\n",
       "    Healthy life expectancy at birth  Freedom to make life choices  \\\n",
       "11                         52.400002                      0.393656   \n",
       "\n",
       "    Generosity  Perceptions of corruption  Positive affect  Negative affect  \n",
       "11   -0.108459                   0.923849         0.351387         0.502474  "
      ]
     },
     "execution_count": 139,
     "metadata": {},
     "output_type": "execute_result"
    }
   ],
   "source": [
    "df.loc[df['Life Ladder']==2.375091791152954]"
   ]
  },
  {
   "cell_type": "code",
   "execution_count": 143,
   "metadata": {},
   "outputs": [
    {
     "data": {
      "text/plain": [
       "8.01893424987793"
      ]
     },
     "execution_count": 143,
     "metadata": {},
     "output_type": "execute_result"
    }
   ],
   "source": [
    "df['Life Ladder'].max()"
   ]
  },
  {
   "cell_type": "code",
   "execution_count": 144,
   "metadata": {},
   "outputs": [
    {
     "data": {
      "text/html": [
       "<div>\n",
       "<style scoped>\n",
       "    .dataframe tbody tr th:only-of-type {\n",
       "        vertical-align: middle;\n",
       "    }\n",
       "\n",
       "    .dataframe tbody tr th {\n",
       "        vertical-align: top;\n",
       "    }\n",
       "\n",
       "    .dataframe thead th {\n",
       "        text-align: right;\n",
       "    }\n",
       "</style>\n",
       "<table border=\"1\" class=\"dataframe\">\n",
       "  <thead>\n",
       "    <tr style=\"text-align: right;\">\n",
       "      <th></th>\n",
       "      <th>Country name</th>\n",
       "      <th>year</th>\n",
       "      <th>Life Ladder</th>\n",
       "      <th>Log GDP per capita</th>\n",
       "      <th>Social support</th>\n",
       "      <th>Healthy life expectancy at birth</th>\n",
       "      <th>Freedom to make life choices</th>\n",
       "      <th>Generosity</th>\n",
       "      <th>Perceptions of corruption</th>\n",
       "      <th>Positive affect</th>\n",
       "      <th>Negative affect</th>\n",
       "    </tr>\n",
       "  </thead>\n",
       "  <tbody>\n",
       "    <tr>\n",
       "      <th>449</th>\n",
       "      <td>Denmark</td>\n",
       "      <td>2005</td>\n",
       "      <td>8.018934</td>\n",
       "      <td>10.851397</td>\n",
       "      <td>0.972372</td>\n",
       "      <td>69.599998</td>\n",
       "      <td>0.971135</td>\n",
       "      <td>NaN</td>\n",
       "      <td>0.236522</td>\n",
       "      <td>0.859549</td>\n",
       "      <td>0.153672</td>\n",
       "    </tr>\n",
       "  </tbody>\n",
       "</table>\n",
       "</div>"
      ],
      "text/plain": [
       "    Country name  year  Life Ladder  Log GDP per capita  Social support  \\\n",
       "449      Denmark  2005     8.018934           10.851397        0.972372   \n",
       "\n",
       "     Healthy life expectancy at birth  Freedom to make life choices  \\\n",
       "449                         69.599998                      0.971135   \n",
       "\n",
       "     Generosity  Perceptions of corruption  Positive affect  Negative affect  \n",
       "449         NaN                   0.236522         0.859549         0.153672  "
      ]
     },
     "execution_count": 144,
     "metadata": {},
     "output_type": "execute_result"
    }
   ],
   "source": [
    "df.loc[df['Life Ladder']==8.01893424987793]"
   ]
  },
  {
   "cell_type": "code",
   "execution_count": 145,
   "metadata": {},
   "outputs": [],
   "source": [
    "afghanistan=df[df['Country name']=='Afghanistan']\n",
    "denmark=df[df['Country name']=='Denmark']"
   ]
  },
  {
   "cell_type": "code",
   "execution_count": 150,
   "metadata": {},
   "outputs": [
    {
     "data": {
      "application/vnd.plotly.v1+json": {
       "config": {
        "plotlyServerURL": "https://plot.ly"
       },
       "data": [
        {
         "name": "Denmark",
         "type": "scatter",
         "x": [
          2005,
          2007,
          2008,
          2009,
          2010,
          2011,
          2012,
          2013,
          2014,
          2015,
          2016,
          2017,
          2018,
          2019,
          2020
         ],
         "y": [
          8.01893424987793,
          7.834233283996582,
          7.970891952514648,
          7.683358669281006,
          7.770515441894531,
          7.78823184967041,
          7.519909381866455,
          7.588606834411621,
          7.507559299468994,
          7.514424800872803,
          7.5577826499938965,
          7.59370231628418,
          7.648785591125488,
          7.693003177642822,
          7.514631271362305
         ]
        },
        {
         "name": "Afghanistan",
         "type": "scatter",
         "x": [
          2008,
          2009,
          2010,
          2011,
          2012,
          2013,
          2014,
          2015,
          2016,
          2017,
          2018,
          2019
         ],
         "y": [
          3.7235898971557617,
          4.401778221130371,
          4.758380889892578,
          3.831719160079956,
          3.782937526702881,
          3.5721004009246826,
          3.1308956146240234,
          3.9828546047210693,
          4.220168590545654,
          2.6617181301116943,
          2.694303274154663,
          2.375091791152954
         ]
        }
       ],
       "layout": {
        "template": {
         "data": {
          "bar": [
           {
            "error_x": {
             "color": "#2a3f5f"
            },
            "error_y": {
             "color": "#2a3f5f"
            },
            "marker": {
             "line": {
              "color": "#E5ECF6",
              "width": 0.5
             }
            },
            "type": "bar"
           }
          ],
          "barpolar": [
           {
            "marker": {
             "line": {
              "color": "#E5ECF6",
              "width": 0.5
             }
            },
            "type": "barpolar"
           }
          ],
          "carpet": [
           {
            "aaxis": {
             "endlinecolor": "#2a3f5f",
             "gridcolor": "white",
             "linecolor": "white",
             "minorgridcolor": "white",
             "startlinecolor": "#2a3f5f"
            },
            "baxis": {
             "endlinecolor": "#2a3f5f",
             "gridcolor": "white",
             "linecolor": "white",
             "minorgridcolor": "white",
             "startlinecolor": "#2a3f5f"
            },
            "type": "carpet"
           }
          ],
          "choropleth": [
           {
            "colorbar": {
             "outlinewidth": 0,
             "ticks": ""
            },
            "type": "choropleth"
           }
          ],
          "contour": [
           {
            "colorbar": {
             "outlinewidth": 0,
             "ticks": ""
            },
            "colorscale": [
             [
              0,
              "#0d0887"
             ],
             [
              0.1111111111111111,
              "#46039f"
             ],
             [
              0.2222222222222222,
              "#7201a8"
             ],
             [
              0.3333333333333333,
              "#9c179e"
             ],
             [
              0.4444444444444444,
              "#bd3786"
             ],
             [
              0.5555555555555556,
              "#d8576b"
             ],
             [
              0.6666666666666666,
              "#ed7953"
             ],
             [
              0.7777777777777778,
              "#fb9f3a"
             ],
             [
              0.8888888888888888,
              "#fdca26"
             ],
             [
              1,
              "#f0f921"
             ]
            ],
            "type": "contour"
           }
          ],
          "contourcarpet": [
           {
            "colorbar": {
             "outlinewidth": 0,
             "ticks": ""
            },
            "type": "contourcarpet"
           }
          ],
          "heatmap": [
           {
            "colorbar": {
             "outlinewidth": 0,
             "ticks": ""
            },
            "colorscale": [
             [
              0,
              "#0d0887"
             ],
             [
              0.1111111111111111,
              "#46039f"
             ],
             [
              0.2222222222222222,
              "#7201a8"
             ],
             [
              0.3333333333333333,
              "#9c179e"
             ],
             [
              0.4444444444444444,
              "#bd3786"
             ],
             [
              0.5555555555555556,
              "#d8576b"
             ],
             [
              0.6666666666666666,
              "#ed7953"
             ],
             [
              0.7777777777777778,
              "#fb9f3a"
             ],
             [
              0.8888888888888888,
              "#fdca26"
             ],
             [
              1,
              "#f0f921"
             ]
            ],
            "type": "heatmap"
           }
          ],
          "heatmapgl": [
           {
            "colorbar": {
             "outlinewidth": 0,
             "ticks": ""
            },
            "colorscale": [
             [
              0,
              "#0d0887"
             ],
             [
              0.1111111111111111,
              "#46039f"
             ],
             [
              0.2222222222222222,
              "#7201a8"
             ],
             [
              0.3333333333333333,
              "#9c179e"
             ],
             [
              0.4444444444444444,
              "#bd3786"
             ],
             [
              0.5555555555555556,
              "#d8576b"
             ],
             [
              0.6666666666666666,
              "#ed7953"
             ],
             [
              0.7777777777777778,
              "#fb9f3a"
             ],
             [
              0.8888888888888888,
              "#fdca26"
             ],
             [
              1,
              "#f0f921"
             ]
            ],
            "type": "heatmapgl"
           }
          ],
          "histogram": [
           {
            "marker": {
             "colorbar": {
              "outlinewidth": 0,
              "ticks": ""
             }
            },
            "type": "histogram"
           }
          ],
          "histogram2d": [
           {
            "colorbar": {
             "outlinewidth": 0,
             "ticks": ""
            },
            "colorscale": [
             [
              0,
              "#0d0887"
             ],
             [
              0.1111111111111111,
              "#46039f"
             ],
             [
              0.2222222222222222,
              "#7201a8"
             ],
             [
              0.3333333333333333,
              "#9c179e"
             ],
             [
              0.4444444444444444,
              "#bd3786"
             ],
             [
              0.5555555555555556,
              "#d8576b"
             ],
             [
              0.6666666666666666,
              "#ed7953"
             ],
             [
              0.7777777777777778,
              "#fb9f3a"
             ],
             [
              0.8888888888888888,
              "#fdca26"
             ],
             [
              1,
              "#f0f921"
             ]
            ],
            "type": "histogram2d"
           }
          ],
          "histogram2dcontour": [
           {
            "colorbar": {
             "outlinewidth": 0,
             "ticks": ""
            },
            "colorscale": [
             [
              0,
              "#0d0887"
             ],
             [
              0.1111111111111111,
              "#46039f"
             ],
             [
              0.2222222222222222,
              "#7201a8"
             ],
             [
              0.3333333333333333,
              "#9c179e"
             ],
             [
              0.4444444444444444,
              "#bd3786"
             ],
             [
              0.5555555555555556,
              "#d8576b"
             ],
             [
              0.6666666666666666,
              "#ed7953"
             ],
             [
              0.7777777777777778,
              "#fb9f3a"
             ],
             [
              0.8888888888888888,
              "#fdca26"
             ],
             [
              1,
              "#f0f921"
             ]
            ],
            "type": "histogram2dcontour"
           }
          ],
          "mesh3d": [
           {
            "colorbar": {
             "outlinewidth": 0,
             "ticks": ""
            },
            "type": "mesh3d"
           }
          ],
          "parcoords": [
           {
            "line": {
             "colorbar": {
              "outlinewidth": 0,
              "ticks": ""
             }
            },
            "type": "parcoords"
           }
          ],
          "pie": [
           {
            "automargin": true,
            "type": "pie"
           }
          ],
          "scatter": [
           {
            "marker": {
             "colorbar": {
              "outlinewidth": 0,
              "ticks": ""
             }
            },
            "type": "scatter"
           }
          ],
          "scatter3d": [
           {
            "line": {
             "colorbar": {
              "outlinewidth": 0,
              "ticks": ""
             }
            },
            "marker": {
             "colorbar": {
              "outlinewidth": 0,
              "ticks": ""
             }
            },
            "type": "scatter3d"
           }
          ],
          "scattercarpet": [
           {
            "marker": {
             "colorbar": {
              "outlinewidth": 0,
              "ticks": ""
             }
            },
            "type": "scattercarpet"
           }
          ],
          "scattergeo": [
           {
            "marker": {
             "colorbar": {
              "outlinewidth": 0,
              "ticks": ""
             }
            },
            "type": "scattergeo"
           }
          ],
          "scattergl": [
           {
            "marker": {
             "colorbar": {
              "outlinewidth": 0,
              "ticks": ""
             }
            },
            "type": "scattergl"
           }
          ],
          "scattermapbox": [
           {
            "marker": {
             "colorbar": {
              "outlinewidth": 0,
              "ticks": ""
             }
            },
            "type": "scattermapbox"
           }
          ],
          "scatterpolar": [
           {
            "marker": {
             "colorbar": {
              "outlinewidth": 0,
              "ticks": ""
             }
            },
            "type": "scatterpolar"
           }
          ],
          "scatterpolargl": [
           {
            "marker": {
             "colorbar": {
              "outlinewidth": 0,
              "ticks": ""
             }
            },
            "type": "scatterpolargl"
           }
          ],
          "scatterternary": [
           {
            "marker": {
             "colorbar": {
              "outlinewidth": 0,
              "ticks": ""
             }
            },
            "type": "scatterternary"
           }
          ],
          "surface": [
           {
            "colorbar": {
             "outlinewidth": 0,
             "ticks": ""
            },
            "colorscale": [
             [
              0,
              "#0d0887"
             ],
             [
              0.1111111111111111,
              "#46039f"
             ],
             [
              0.2222222222222222,
              "#7201a8"
             ],
             [
              0.3333333333333333,
              "#9c179e"
             ],
             [
              0.4444444444444444,
              "#bd3786"
             ],
             [
              0.5555555555555556,
              "#d8576b"
             ],
             [
              0.6666666666666666,
              "#ed7953"
             ],
             [
              0.7777777777777778,
              "#fb9f3a"
             ],
             [
              0.8888888888888888,
              "#fdca26"
             ],
             [
              1,
              "#f0f921"
             ]
            ],
            "type": "surface"
           }
          ],
          "table": [
           {
            "cells": {
             "fill": {
              "color": "#EBF0F8"
             },
             "line": {
              "color": "white"
             }
            },
            "header": {
             "fill": {
              "color": "#C8D4E3"
             },
             "line": {
              "color": "white"
             }
            },
            "type": "table"
           }
          ]
         },
         "layout": {
          "annotationdefaults": {
           "arrowcolor": "#2a3f5f",
           "arrowhead": 0,
           "arrowwidth": 1
          },
          "autotypenumbers": "strict",
          "coloraxis": {
           "colorbar": {
            "outlinewidth": 0,
            "ticks": ""
           }
          },
          "colorscale": {
           "diverging": [
            [
             0,
             "#8e0152"
            ],
            [
             0.1,
             "#c51b7d"
            ],
            [
             0.2,
             "#de77ae"
            ],
            [
             0.3,
             "#f1b6da"
            ],
            [
             0.4,
             "#fde0ef"
            ],
            [
             0.5,
             "#f7f7f7"
            ],
            [
             0.6,
             "#e6f5d0"
            ],
            [
             0.7,
             "#b8e186"
            ],
            [
             0.8,
             "#7fbc41"
            ],
            [
             0.9,
             "#4d9221"
            ],
            [
             1,
             "#276419"
            ]
           ],
           "sequential": [
            [
             0,
             "#0d0887"
            ],
            [
             0.1111111111111111,
             "#46039f"
            ],
            [
             0.2222222222222222,
             "#7201a8"
            ],
            [
             0.3333333333333333,
             "#9c179e"
            ],
            [
             0.4444444444444444,
             "#bd3786"
            ],
            [
             0.5555555555555556,
             "#d8576b"
            ],
            [
             0.6666666666666666,
             "#ed7953"
            ],
            [
             0.7777777777777778,
             "#fb9f3a"
            ],
            [
             0.8888888888888888,
             "#fdca26"
            ],
            [
             1,
             "#f0f921"
            ]
           ],
           "sequentialminus": [
            [
             0,
             "#0d0887"
            ],
            [
             0.1111111111111111,
             "#46039f"
            ],
            [
             0.2222222222222222,
             "#7201a8"
            ],
            [
             0.3333333333333333,
             "#9c179e"
            ],
            [
             0.4444444444444444,
             "#bd3786"
            ],
            [
             0.5555555555555556,
             "#d8576b"
            ],
            [
             0.6666666666666666,
             "#ed7953"
            ],
            [
             0.7777777777777778,
             "#fb9f3a"
            ],
            [
             0.8888888888888888,
             "#fdca26"
            ],
            [
             1,
             "#f0f921"
            ]
           ]
          },
          "colorway": [
           "#636efa",
           "#EF553B",
           "#00cc96",
           "#ab63fa",
           "#FFA15A",
           "#19d3f3",
           "#FF6692",
           "#B6E880",
           "#FF97FF",
           "#FECB52"
          ],
          "font": {
           "color": "#2a3f5f"
          },
          "geo": {
           "bgcolor": "white",
           "lakecolor": "white",
           "landcolor": "#E5ECF6",
           "showlakes": true,
           "showland": true,
           "subunitcolor": "white"
          },
          "hoverlabel": {
           "align": "left"
          },
          "hovermode": "closest",
          "mapbox": {
           "style": "light"
          },
          "paper_bgcolor": "white",
          "plot_bgcolor": "#E5ECF6",
          "polar": {
           "angularaxis": {
            "gridcolor": "white",
            "linecolor": "white",
            "ticks": ""
           },
           "bgcolor": "#E5ECF6",
           "radialaxis": {
            "gridcolor": "white",
            "linecolor": "white",
            "ticks": ""
           }
          },
          "scene": {
           "xaxis": {
            "backgroundcolor": "#E5ECF6",
            "gridcolor": "white",
            "gridwidth": 2,
            "linecolor": "white",
            "showbackground": true,
            "ticks": "",
            "zerolinecolor": "white"
           },
           "yaxis": {
            "backgroundcolor": "#E5ECF6",
            "gridcolor": "white",
            "gridwidth": 2,
            "linecolor": "white",
            "showbackground": true,
            "ticks": "",
            "zerolinecolor": "white"
           },
           "zaxis": {
            "backgroundcolor": "#E5ECF6",
            "gridcolor": "white",
            "gridwidth": 2,
            "linecolor": "white",
            "showbackground": true,
            "ticks": "",
            "zerolinecolor": "white"
           }
          },
          "shapedefaults": {
           "line": {
            "color": "#2a3f5f"
           }
          },
          "ternary": {
           "aaxis": {
            "gridcolor": "white",
            "linecolor": "white",
            "ticks": ""
           },
           "baxis": {
            "gridcolor": "white",
            "linecolor": "white",
            "ticks": ""
           },
           "bgcolor": "#E5ECF6",
           "caxis": {
            "gridcolor": "white",
            "linecolor": "white",
            "ticks": ""
           }
          },
          "title": {
           "x": 0.05
          },
          "xaxis": {
           "automargin": true,
           "gridcolor": "white",
           "linecolor": "white",
           "ticks": "",
           "title": {
            "standoff": 15
           },
           "zerolinecolor": "white",
           "zerolinewidth": 2
          },
          "yaxis": {
           "automargin": true,
           "gridcolor": "white",
           "linecolor": "white",
           "ticks": "",
           "title": {
            "standoff": 15
           },
           "zerolinecolor": "white",
           "zerolinewidth": 2
          }
         }
        }
       }
      },
      "text/html": [
       "<div>                            <div id=\"1b292a0e-4d70-4a81-957f-93921d27bffd\" class=\"plotly-graph-div\" style=\"height:525px; width:100%;\"></div>            <script type=\"text/javascript\">                require([\"plotly\"], function(Plotly) {                    window.PLOTLYENV=window.PLOTLYENV || {};                                    if (document.getElementById(\"1b292a0e-4d70-4a81-957f-93921d27bffd\")) {                    Plotly.newPlot(                        \"1b292a0e-4d70-4a81-957f-93921d27bffd\",                        [{\"name\": \"Denmark\", \"type\": \"scatter\", \"x\": [2005, 2007, 2008, 2009, 2010, 2011, 2012, 2013, 2014, 2015, 2016, 2017, 2018, 2019, 2020], \"y\": [8.01893424987793, 7.834233283996582, 7.970891952514648, 7.683358669281006, 7.770515441894531, 7.78823184967041, 7.519909381866455, 7.588606834411621, 7.507559299468994, 7.514424800872803, 7.5577826499938965, 7.59370231628418, 7.648785591125488, 7.693003177642822, 7.514631271362305]}, {\"name\": \"Afghanistan\", \"type\": \"scatter\", \"x\": [2008, 2009, 2010, 2011, 2012, 2013, 2014, 2015, 2016, 2017, 2018, 2019], \"y\": [3.7235898971557617, 4.401778221130371, 4.758380889892578, 3.831719160079956, 3.782937526702881, 3.5721004009246826, 3.1308956146240234, 3.9828546047210693, 4.220168590545654, 2.6617181301116943, 2.694303274154663, 2.375091791152954]}],                        {\"template\": {\"data\": {\"bar\": [{\"error_x\": {\"color\": \"#2a3f5f\"}, \"error_y\": {\"color\": \"#2a3f5f\"}, \"marker\": {\"line\": {\"color\": \"#E5ECF6\", \"width\": 0.5}}, \"type\": \"bar\"}], \"barpolar\": [{\"marker\": {\"line\": {\"color\": \"#E5ECF6\", \"width\": 0.5}}, \"type\": \"barpolar\"}], \"carpet\": [{\"aaxis\": {\"endlinecolor\": \"#2a3f5f\", \"gridcolor\": \"white\", \"linecolor\": \"white\", \"minorgridcolor\": \"white\", \"startlinecolor\": \"#2a3f5f\"}, \"baxis\": {\"endlinecolor\": \"#2a3f5f\", \"gridcolor\": \"white\", \"linecolor\": \"white\", \"minorgridcolor\": \"white\", \"startlinecolor\": \"#2a3f5f\"}, \"type\": \"carpet\"}], \"choropleth\": [{\"colorbar\": {\"outlinewidth\": 0, \"ticks\": \"\"}, \"type\": \"choropleth\"}], \"contour\": [{\"colorbar\": {\"outlinewidth\": 0, \"ticks\": \"\"}, \"colorscale\": [[0.0, \"#0d0887\"], [0.1111111111111111, \"#46039f\"], [0.2222222222222222, \"#7201a8\"], [0.3333333333333333, \"#9c179e\"], [0.4444444444444444, \"#bd3786\"], [0.5555555555555556, \"#d8576b\"], [0.6666666666666666, \"#ed7953\"], [0.7777777777777778, \"#fb9f3a\"], [0.8888888888888888, \"#fdca26\"], [1.0, \"#f0f921\"]], \"type\": \"contour\"}], \"contourcarpet\": [{\"colorbar\": {\"outlinewidth\": 0, \"ticks\": \"\"}, \"type\": \"contourcarpet\"}], \"heatmap\": [{\"colorbar\": {\"outlinewidth\": 0, \"ticks\": \"\"}, \"colorscale\": [[0.0, \"#0d0887\"], [0.1111111111111111, \"#46039f\"], [0.2222222222222222, \"#7201a8\"], [0.3333333333333333, \"#9c179e\"], [0.4444444444444444, \"#bd3786\"], [0.5555555555555556, \"#d8576b\"], [0.6666666666666666, \"#ed7953\"], [0.7777777777777778, \"#fb9f3a\"], [0.8888888888888888, \"#fdca26\"], [1.0, \"#f0f921\"]], \"type\": \"heatmap\"}], \"heatmapgl\": [{\"colorbar\": {\"outlinewidth\": 0, \"ticks\": \"\"}, \"colorscale\": [[0.0, \"#0d0887\"], [0.1111111111111111, \"#46039f\"], [0.2222222222222222, \"#7201a8\"], [0.3333333333333333, \"#9c179e\"], [0.4444444444444444, \"#bd3786\"], [0.5555555555555556, \"#d8576b\"], [0.6666666666666666, \"#ed7953\"], [0.7777777777777778, \"#fb9f3a\"], [0.8888888888888888, \"#fdca26\"], [1.0, \"#f0f921\"]], \"type\": \"heatmapgl\"}], \"histogram\": [{\"marker\": {\"colorbar\": {\"outlinewidth\": 0, \"ticks\": \"\"}}, \"type\": \"histogram\"}], \"histogram2d\": [{\"colorbar\": {\"outlinewidth\": 0, \"ticks\": \"\"}, \"colorscale\": [[0.0, \"#0d0887\"], [0.1111111111111111, \"#46039f\"], [0.2222222222222222, \"#7201a8\"], [0.3333333333333333, \"#9c179e\"], [0.4444444444444444, \"#bd3786\"], [0.5555555555555556, \"#d8576b\"], [0.6666666666666666, \"#ed7953\"], [0.7777777777777778, \"#fb9f3a\"], [0.8888888888888888, \"#fdca26\"], [1.0, \"#f0f921\"]], \"type\": \"histogram2d\"}], \"histogram2dcontour\": [{\"colorbar\": {\"outlinewidth\": 0, \"ticks\": \"\"}, \"colorscale\": [[0.0, \"#0d0887\"], [0.1111111111111111, \"#46039f\"], [0.2222222222222222, \"#7201a8\"], [0.3333333333333333, \"#9c179e\"], [0.4444444444444444, \"#bd3786\"], [0.5555555555555556, \"#d8576b\"], [0.6666666666666666, \"#ed7953\"], [0.7777777777777778, \"#fb9f3a\"], [0.8888888888888888, \"#fdca26\"], [1.0, \"#f0f921\"]], \"type\": \"histogram2dcontour\"}], \"mesh3d\": [{\"colorbar\": {\"outlinewidth\": 0, \"ticks\": \"\"}, \"type\": \"mesh3d\"}], \"parcoords\": [{\"line\": {\"colorbar\": {\"outlinewidth\": 0, \"ticks\": \"\"}}, \"type\": \"parcoords\"}], \"pie\": [{\"automargin\": true, \"type\": \"pie\"}], \"scatter\": [{\"marker\": {\"colorbar\": {\"outlinewidth\": 0, \"ticks\": \"\"}}, \"type\": \"scatter\"}], \"scatter3d\": [{\"line\": {\"colorbar\": {\"outlinewidth\": 0, \"ticks\": \"\"}}, \"marker\": {\"colorbar\": {\"outlinewidth\": 0, \"ticks\": \"\"}}, \"type\": \"scatter3d\"}], \"scattercarpet\": [{\"marker\": {\"colorbar\": {\"outlinewidth\": 0, \"ticks\": \"\"}}, \"type\": \"scattercarpet\"}], \"scattergeo\": [{\"marker\": {\"colorbar\": {\"outlinewidth\": 0, \"ticks\": \"\"}}, \"type\": \"scattergeo\"}], \"scattergl\": [{\"marker\": {\"colorbar\": {\"outlinewidth\": 0, \"ticks\": \"\"}}, \"type\": \"scattergl\"}], \"scattermapbox\": [{\"marker\": {\"colorbar\": {\"outlinewidth\": 0, \"ticks\": \"\"}}, \"type\": \"scattermapbox\"}], \"scatterpolar\": [{\"marker\": {\"colorbar\": {\"outlinewidth\": 0, \"ticks\": \"\"}}, \"type\": \"scatterpolar\"}], \"scatterpolargl\": [{\"marker\": {\"colorbar\": {\"outlinewidth\": 0, \"ticks\": \"\"}}, \"type\": \"scatterpolargl\"}], \"scatterternary\": [{\"marker\": {\"colorbar\": {\"outlinewidth\": 0, \"ticks\": \"\"}}, \"type\": \"scatterternary\"}], \"surface\": [{\"colorbar\": {\"outlinewidth\": 0, \"ticks\": \"\"}, \"colorscale\": [[0.0, \"#0d0887\"], [0.1111111111111111, \"#46039f\"], [0.2222222222222222, \"#7201a8\"], [0.3333333333333333, \"#9c179e\"], [0.4444444444444444, \"#bd3786\"], [0.5555555555555556, \"#d8576b\"], [0.6666666666666666, \"#ed7953\"], [0.7777777777777778, \"#fb9f3a\"], [0.8888888888888888, \"#fdca26\"], [1.0, \"#f0f921\"]], \"type\": \"surface\"}], \"table\": [{\"cells\": {\"fill\": {\"color\": \"#EBF0F8\"}, \"line\": {\"color\": \"white\"}}, \"header\": {\"fill\": {\"color\": \"#C8D4E3\"}, \"line\": {\"color\": \"white\"}}, \"type\": \"table\"}]}, \"layout\": {\"annotationdefaults\": {\"arrowcolor\": \"#2a3f5f\", \"arrowhead\": 0, \"arrowwidth\": 1}, \"autotypenumbers\": \"strict\", \"coloraxis\": {\"colorbar\": {\"outlinewidth\": 0, \"ticks\": \"\"}}, \"colorscale\": {\"diverging\": [[0, \"#8e0152\"], [0.1, \"#c51b7d\"], [0.2, \"#de77ae\"], [0.3, \"#f1b6da\"], [0.4, \"#fde0ef\"], [0.5, \"#f7f7f7\"], [0.6, \"#e6f5d0\"], [0.7, \"#b8e186\"], [0.8, \"#7fbc41\"], [0.9, \"#4d9221\"], [1, \"#276419\"]], \"sequential\": [[0.0, \"#0d0887\"], [0.1111111111111111, \"#46039f\"], [0.2222222222222222, \"#7201a8\"], [0.3333333333333333, \"#9c179e\"], [0.4444444444444444, \"#bd3786\"], [0.5555555555555556, \"#d8576b\"], [0.6666666666666666, \"#ed7953\"], [0.7777777777777778, \"#fb9f3a\"], [0.8888888888888888, \"#fdca26\"], [1.0, \"#f0f921\"]], \"sequentialminus\": [[0.0, \"#0d0887\"], [0.1111111111111111, \"#46039f\"], [0.2222222222222222, \"#7201a8\"], [0.3333333333333333, \"#9c179e\"], [0.4444444444444444, \"#bd3786\"], [0.5555555555555556, \"#d8576b\"], [0.6666666666666666, \"#ed7953\"], [0.7777777777777778, \"#fb9f3a\"], [0.8888888888888888, \"#fdca26\"], [1.0, \"#f0f921\"]]}, \"colorway\": [\"#636efa\", \"#EF553B\", \"#00cc96\", \"#ab63fa\", \"#FFA15A\", \"#19d3f3\", \"#FF6692\", \"#B6E880\", \"#FF97FF\", \"#FECB52\"], \"font\": {\"color\": \"#2a3f5f\"}, \"geo\": {\"bgcolor\": \"white\", \"lakecolor\": \"white\", \"landcolor\": \"#E5ECF6\", \"showlakes\": true, \"showland\": true, \"subunitcolor\": \"white\"}, \"hoverlabel\": {\"align\": \"left\"}, \"hovermode\": \"closest\", \"mapbox\": {\"style\": \"light\"}, \"paper_bgcolor\": \"white\", \"plot_bgcolor\": \"#E5ECF6\", \"polar\": {\"angularaxis\": {\"gridcolor\": \"white\", \"linecolor\": \"white\", \"ticks\": \"\"}, \"bgcolor\": \"#E5ECF6\", \"radialaxis\": {\"gridcolor\": \"white\", \"linecolor\": \"white\", \"ticks\": \"\"}}, \"scene\": {\"xaxis\": {\"backgroundcolor\": \"#E5ECF6\", \"gridcolor\": \"white\", \"gridwidth\": 2, \"linecolor\": \"white\", \"showbackground\": true, \"ticks\": \"\", \"zerolinecolor\": \"white\"}, \"yaxis\": {\"backgroundcolor\": \"#E5ECF6\", \"gridcolor\": \"white\", \"gridwidth\": 2, \"linecolor\": \"white\", \"showbackground\": true, \"ticks\": \"\", \"zerolinecolor\": \"white\"}, \"zaxis\": {\"backgroundcolor\": \"#E5ECF6\", \"gridcolor\": \"white\", \"gridwidth\": 2, \"linecolor\": \"white\", \"showbackground\": true, \"ticks\": \"\", \"zerolinecolor\": \"white\"}}, \"shapedefaults\": {\"line\": {\"color\": \"#2a3f5f\"}}, \"ternary\": {\"aaxis\": {\"gridcolor\": \"white\", \"linecolor\": \"white\", \"ticks\": \"\"}, \"baxis\": {\"gridcolor\": \"white\", \"linecolor\": \"white\", \"ticks\": \"\"}, \"bgcolor\": \"#E5ECF6\", \"caxis\": {\"gridcolor\": \"white\", \"linecolor\": \"white\", \"ticks\": \"\"}}, \"title\": {\"x\": 0.05}, \"xaxis\": {\"automargin\": true, \"gridcolor\": \"white\", \"linecolor\": \"white\", \"ticks\": \"\", \"title\": {\"standoff\": 15}, \"zerolinecolor\": \"white\", \"zerolinewidth\": 2}, \"yaxis\": {\"automargin\": true, \"gridcolor\": \"white\", \"linecolor\": \"white\", \"ticks\": \"\", \"title\": {\"standoff\": 15}, \"zerolinecolor\": \"white\", \"zerolinewidth\": 2}}}},                        {\"responsive\": true}                    ).then(function(){\n",
       "                            \n",
       "var gd = document.getElementById('1b292a0e-4d70-4a81-957f-93921d27bffd');\n",
       "var x = new MutationObserver(function (mutations, observer) {{\n",
       "        var display = window.getComputedStyle(gd).display;\n",
       "        if (!display || display === 'none') {{\n",
       "            console.log([gd, 'removed!']);\n",
       "            Plotly.purge(gd);\n",
       "            observer.disconnect();\n",
       "        }}\n",
       "}});\n",
       "\n",
       "// Listen for the removal of the full notebook cells\n",
       "var notebookContainer = gd.closest('#notebook-container');\n",
       "if (notebookContainer) {{\n",
       "    x.observe(notebookContainer, {childList: true});\n",
       "}}\n",
       "\n",
       "// Listen for the clearing of the current output cell\n",
       "var outputEl = gd.closest('.output');\n",
       "if (outputEl) {{\n",
       "    x.observe(outputEl, {childList: true});\n",
       "}}\n",
       "\n",
       "                        })                };                });            </script>        </div>"
      ]
     },
     "metadata": {},
     "output_type": "display_data"
    }
   ],
   "source": [
    "fig = go.Figure(data=[\n",
    "    go.Scatter(name='Denmark', x=denmark['year'], y=denmark['Life Ladder']),\n",
    "    go.Scatter(name='Afghanistan',x=afghanistan['year'], y=afghanistan['Life Ladder']),\n",
    "])\n",
    "fig.show()"
   ]
  },
  {
   "cell_type": "code",
   "execution_count": 163,
   "metadata": {},
   "outputs": [],
   "source": [
    "pio.write_html(fig,\"ladder_extremes.html\",full_html=False)"
   ]
  },
  {
   "cell_type": "code",
   "execution_count": 157,
   "metadata": {},
   "outputs": [
    {
     "data": {
      "application/vnd.plotly.v1+json": {
       "config": {
        "plotlyServerURL": "https://plot.ly"
       },
       "data": [
        {
         "hovertemplate": "Country name=Afghanistan<br>Life Ladder=%{x}<br>Freedom to make life choices=%{y}<extra></extra>",
         "legendgroup": "Afghanistan",
         "marker": {
          "color": "#636efa",
          "symbol": "circle"
         },
         "mode": "markers",
         "name": "Afghanistan",
         "showlegend": true,
         "type": "scattergl",
         "x": [
          3.7235898971557617,
          4.401778221130371,
          4.758380889892578,
          3.831719160079956,
          3.782937526702881,
          3.5721004009246826,
          3.1308956146240234,
          3.9828546047210693,
          4.220168590545654,
          2.6617181301116943,
          2.694303274154663,
          2.375091791152954
         ],
         "xaxis": "x",
         "y": [
          0.7181143164634705,
          0.6788963675498962,
          0.6001272201538086,
          0.4959014058113098,
          0.5309350490570068,
          0.5779553651809692,
          0.5085140466690063,
          0.3889275789260864,
          0.5225661993026733,
          0.4270108640193939,
          0.37353554368019104,
          0.3936561644077301
         ],
         "yaxis": "y"
        },
        {
         "hovertemplate": "Country name=Albania<br>Life Ladder=%{x}<br>Freedom to make life choices=%{y}<extra></extra>",
         "legendgroup": "Albania",
         "marker": {
          "color": "#EF553B",
          "symbol": "circle"
         },
         "mode": "markers",
         "name": "Albania",
         "showlegend": true,
         "type": "scattergl",
         "x": [
          4.634251594543457,
          5.485469818115234,
          5.268936634063721,
          5.867421627044678,
          5.510124206542969,
          4.550647735595703,
          4.81376314163208,
          4.6066508293151855,
          4.511100769042969,
          4.639548301696777,
          5.0044026374816895,
          4.9953179359436035,
          5.364909648895264
         ],
         "xaxis": "x",
         "y": [
          0.5286047458648682,
          0.5252232551574707,
          0.5689584016799927,
          0.4874962568283081,
          0.6015121340751648,
          0.6318302750587463,
          0.7346484065055847,
          0.7038506865501404,
          0.7298189401626587,
          0.7496110200881958,
          0.8242123126983643,
          0.777351438999176,
          0.7536710500717163
         ],
         "yaxis": "y"
        },
        {
         "hovertemplate": "Country name=Algeria<br>Life Ladder=%{x}<br>Freedom to make life choices=%{y}<extra></extra>",
         "legendgroup": "Algeria",
         "marker": {
          "color": "#00cc96",
          "symbol": "circle"
         },
         "mode": "markers",
         "name": "Algeria",
         "showlegend": true,
         "type": "scattergl",
         "x": [
          5.463566780090332,
          5.31719446182251,
          5.60459566116333,
          6.354898452758789,
          5.340853691101074,
          5.248912334442139,
          5.043086051940918,
          4.744627475738525
         ],
         "xaxis": "x",
         "y": [
          0.5926958322525024,
          0.5295612812042236,
          0.5866634845733643,
          null,
          null,
          0.4366704821586609,
          0.5833805799484253,
          0.3850834369659424
         ],
         "yaxis": "y"
        },
        {
         "hovertemplate": "Country name=Angola<br>Life Ladder=%{x}<br>Freedom to make life choices=%{y}<extra></extra>",
         "legendgroup": "Angola",
         "marker": {
          "color": "#ab63fa",
          "symbol": "circle"
         },
         "mode": "markers",
         "name": "Angola",
         "showlegend": true,
         "type": "scattergl",
         "x": [
          5.589000701904297,
          4.360249996185303,
          3.9371068477630615,
          3.7948379516601562
         ],
         "xaxis": "x",
         "y": [
          0.5837017893791199,
          0.4560285806655884,
          0.4095548689365387,
          0.3745415508747101
         ],
         "yaxis": "y"
        },
        {
         "hovertemplate": "Country name=Argentina<br>Life Ladder=%{x}<br>Freedom to make life choices=%{y}<extra></extra>",
         "legendgroup": "Argentina",
         "marker": {
          "color": "#FFA15A",
          "symbol": "circle"
         },
         "mode": "markers",
         "name": "Argentina",
         "showlegend": true,
         "type": "scattergl",
         "x": [
          6.312925338745117,
          6.073158264160156,
          5.961034297943115,
          6.42413330078125,
          6.441067218780518,
          6.775805473327637,
          6.468387126922607,
          6.5822601318359375,
          6.671114444732666,
          6.6971306800842285,
          6.427221298217773,
          6.039330005645752,
          5.792796611785889,
          6.0855607986450195,
          5.900567054748535
         ],
         "xaxis": "x",
         "y": [
          0.7330036759376526,
          0.6528326272964478,
          0.6782221794128418,
          0.6366464495658875,
          0.7302581667900085,
          0.8158020377159119,
          0.7474983930587769,
          0.7372503876686096,
          0.7450577616691589,
          0.8812236785888672,
          0.8477022051811218,
          0.8319661617279053,
          0.8458946943283081,
          0.8170526027679443,
          0.8233916163444519
         ],
         "yaxis": "y"
        },
        {
         "hovertemplate": "Country name=Armenia<br>Life Ladder=%{x}<br>Freedom to make life choices=%{y}<extra></extra>",
         "legendgroup": "Armenia",
         "marker": {
          "color": "#19d3f3",
          "symbol": "circle"
         },
         "mode": "markers",
         "name": "Armenia",
         "showlegend": true,
         "type": "scattergl",
         "x": [
          4.289310932159424,
          4.8815155029296875,
          4.65197229385376,
          4.177581787109375,
          4.36781120300293,
          4.260491371154785,
          4.319711685180664,
          4.277191162109375,
          4.453083038330078,
          4.3483195304870605,
          4.325471878051758,
          4.287736415863037,
          5.062448501586914,
          5.488086700439453
         ],
         "xaxis": "x",
         "y": [
          0.5201978087425232,
          0.6054107546806335,
          0.4621565639972687,
          0.4414127469062805,
          0.45925670862197876,
          0.4645247161388397,
          0.5018637776374817,
          0.5040818452835083,
          0.5064871311187744,
          0.5510266423225403,
          0.6109869480133057,
          0.6136970520019531,
          0.8076436519622803,
          0.8443241119384766
         ],
         "yaxis": "y"
        },
        {
         "hovertemplate": "Country name=Australia<br>Life Ladder=%{x}<br>Freedom to make life choices=%{y}<extra></extra>",
         "legendgroup": "Australia",
         "marker": {
          "color": "#FF6692",
          "symbol": "circle"
         },
         "mode": "markers",
         "name": "Australia",
         "showlegend": true,
         "type": "scattergl",
         "x": [
          7.340688228607178,
          7.285390853881836,
          7.253757476806641,
          7.450047016143799,
          7.405616283416748,
          7.19558572769165,
          7.364169120788574,
          7.28855037689209,
          7.309060573577881,
          7.250080108642578,
          7.25703763961792,
          7.176993370056152,
          7.233994960784912,
          7.1373677253723145
         ],
         "xaxis": "x",
         "y": [
          0.9349732995033264,
          0.8906819820404053,
          0.9157333374023438,
          0.932058572769165,
          0.944586455821991,
          0.9351462721824646,
          0.9333791732788086,
          0.9229322671890259,
          0.9218710064888,
          0.9223157167434692,
          0.9105501770973206,
          0.9160281419754028,
          0.9175369143486023,
          0.9052829742431641
         ],
         "yaxis": "y"
        },
        {
         "hovertemplate": "Country name=Austria<br>Life Ladder=%{x}<br>Freedom to make life choices=%{y}<extra></extra>",
         "legendgroup": "Austria",
         "marker": {
          "color": "#B6E880",
          "symbol": "circle"
         },
         "mode": "markers",
         "name": "Austria",
         "showlegend": true,
         "type": "scattergl",
         "x": [
          7.122211456298828,
          7.1809539794921875,
          7.30267858505249,
          7.470512866973877,
          7.400688648223877,
          7.498802661895752,
          6.949999809265137,
          7.076447010040283,
          7.04807186126709,
          7.293727874755859,
          7.396001815795898,
          7.195361137390137,
          7.213489055633545
         ],
         "xaxis": "x",
         "y": [
          0.9413823485374451,
          0.8790692687034607,
          0.8959797620773315,
          0.9393556118011475,
          0.9197039008140564,
          0.9217344522476196,
          0.8850268721580505,
          0.9003051519393921,
          0.88851398229599,
          0.890030562877655,
          0.9041119813919067,
          0.9034276604652405,
          0.9119098782539368
         ],
         "yaxis": "y"
        },
        {
         "hovertemplate": "Country name=Azerbaijan<br>Life Ladder=%{x}<br>Freedom to make life choices=%{y}<extra></extra>",
         "legendgroup": "Azerbaijan",
         "marker": {
          "color": "#FF97FF",
          "symbol": "circle"
         },
         "mode": "markers",
         "name": "Azerbaijan",
         "showlegend": true,
         "type": "scattergl",
         "x": [
          4.727870941162109,
          4.568159580230713,
          4.8171892166137695,
          4.57372522354126,
          4.218610763549805,
          4.680469512939453,
          4.91077184677124,
          5.481178283691406,
          5.251530170440674,
          5.146774768829346,
          5.303894996643066,
          5.152279376983643,
          5.167995452880859,
          5.173389434814453
         ],
         "xaxis": "x",
         "y": [
          0.7715281844139099,
          0.5220463275909424,
          0.6010432839393616,
          0.4981383979320526,
          0.5010710954666138,
          0.5374842882156372,
          0.5988590717315674,
          0.6719569563865662,
          0.732772946357727,
          0.7642894983291626,
          0.7125731706619263,
          0.7310304641723633,
          0.772449254989624,
          0.8542485237121582
         ],
         "yaxis": "y"
        },
        {
         "hovertemplate": "Country name=Bahrain<br>Life Ladder=%{x}<br>Freedom to make life choices=%{y}<extra></extra>",
         "legendgroup": "Bahrain",
         "marker": {
          "color": "#FECB52",
          "symbol": "circle"
         },
         "mode": "markers",
         "name": "Bahrain",
         "showlegend": true,
         "type": "scattergl",
         "x": [
          5.700523376464844,
          5.936869144439697,
          4.823976039886475,
          5.027186870574951,
          6.689711093902588,
          6.165133953094482,
          6.007375240325928,
          6.169673442840576,
          6.227320671081543,
          7.098012447357178,
          6.173175811767578
         ],
         "xaxis": "x",
         "y": [
          0.8959314227104187,
          0.8620029091835022,
          0.8698703646659851,
          0.6818228960037231,
          0.809205949306488,
          null,
          0.8495211601257324,
          0.8886910676956177,
          0.9058585166931152,
          0.9065355062484741,
          0.9452325701713562
         ],
         "yaxis": "y"
        },
        {
         "hovertemplate": "Country name=Bangladesh<br>Life Ladder=%{x}<br>Freedom to make life choices=%{y}<extra></extra>",
         "legendgroup": "Bangladesh",
         "marker": {
          "color": "#636efa",
          "symbol": "circle"
         },
         "mode": "markers",
         "name": "Bangladesh",
         "showlegend": true,
         "type": "scattergl",
         "x": [
          4.318909168243408,
          4.6073222160339355,
          5.052278518676758,
          5.082851409912109,
          4.858481407165527,
          4.985649108886719,
          4.7244439125061035,
          4.660161018371582,
          4.635564804077148,
          4.633473873138428,
          4.556140899658203,
          4.3097710609436035,
          4.4992170333862305,
          5.1142168045043945,
          5.27998685836792
         ],
         "xaxis": "x",
         "y": [
          0.6116642355918884,
          0.6045383214950562,
          0.6060121655464172,
          0.6309310793876648,
          0.6590056419372559,
          0.8379953503608704,
          0.6676822900772095,
          0.7415180206298828,
          0.7355128526687622,
          0.8147962689399719,
          0.8747004866600037,
          0.8962171673774719,
          0.9014708399772644,
          0.9019366502761841,
          0.7774671912193298
         ],
         "yaxis": "y"
        },
        {
         "hovertemplate": "Country name=Belarus<br>Life Ladder=%{x}<br>Freedom to make life choices=%{y}<extra></extra>",
         "legendgroup": "Belarus",
         "marker": {
          "color": "#EF553B",
          "symbol": "circle"
         },
         "mode": "markers",
         "name": "Belarus",
         "showlegend": true,
         "type": "scattergl",
         "x": [
          5.657649993896484,
          5.616976261138916,
          5.463332176208496,
          5.564131259918213,
          5.525923252105713,
          5.225307941436768,
          5.7490434646606445,
          5.876466274261475,
          5.812400817871094,
          5.718907833099365,
          5.177899360656738,
          5.552915096282959,
          5.23376989364624,
          5.821453094482422
         ],
         "xaxis": "x",
         "y": [
          0.7070804834365845,
          0.6672995090484619,
          0.6399238705635071,
          0.679292619228363,
          0.7000644207000732,
          0.6560108661651611,
          0.6452488303184509,
          0.7234312891960144,
          0.6471845507621765,
          0.6227534413337708,
          0.6582288146018982,
          0.6209792494773865,
          0.6436023712158203,
          0.656933605670929
         ],
         "yaxis": "y"
        },
        {
         "hovertemplate": "Country name=Belgium<br>Life Ladder=%{x}<br>Freedom to make life choices=%{y}<extra></extra>",
         "legendgroup": "Belgium",
         "marker": {
          "color": "#00cc96",
          "symbol": "circle"
         },
         "mode": "markers",
         "name": "Belgium",
         "showlegend": true,
         "type": "scattergl",
         "x": [
          7.2622904777526855,
          7.218839645385742,
          7.116590976715088,
          6.853514194488525,
          7.111363887786865,
          6.935122013092041,
          7.103661060333252,
          6.8553290367126465,
          6.904219150543213,
          6.948936462402344,
          6.928347587585449,
          6.892171859741211,
          6.7721381187438965,
          6.838760852813721
         ],
         "xaxis": "x",
         "y": [
          0.9238430261611938,
          0.9008703827857971,
          0.8870267271995544,
          0.8069302439689636,
          0.8801535964012146,
          0.8552666306495667,
          0.8907110691070557,
          0.8609535098075867,
          0.8694749474525452,
          0.865759015083313,
          0.8568019866943359,
          0.8083866238594055,
          0.7762036323547363,
          0.7669178247451782
         ],
         "yaxis": "y"
        },
        {
         "hovertemplate": "Country name=Belize<br>Life Ladder=%{x}<br>Freedom to make life choices=%{y}<extra></extra>",
         "legendgroup": "Belize",
         "marker": {
          "color": "#ab63fa",
          "symbol": "circle"
         },
         "mode": "markers",
         "name": "Belize",
         "showlegend": true,
         "type": "scattergl",
         "x": [
          6.450644493103027,
          5.955646514892578
         ],
         "xaxis": "x",
         "y": [
          0.7053059339523315,
          0.8735690712928772
         ],
         "yaxis": "y"
        },
        {
         "hovertemplate": "Country name=Benin<br>Life Ladder=%{x}<br>Freedom to make life choices=%{y}<extra></extra>",
         "legendgroup": "Benin",
         "marker": {
          "color": "#FFA15A",
          "symbol": "circle"
         },
         "mode": "markers",
         "name": "Benin",
         "showlegend": true,
         "type": "scattergl",
         "x": [
          3.329801559448242,
          3.6671395301818848,
          3.870279550552368,
          3.1934688091278076,
          3.479412794113159,
          3.347419261932373,
          3.624664306640625,
          4.007357597351074,
          4.853180885314941,
          5.819827079772949,
          4.97636079788208,
          4.407745838165283
         ],
         "xaxis": "x",
         "y": [
          0.5800693035125732,
          0.7094769477844238,
          0.7729187607765198,
          0.7689710855484009,
          0.7832404971122742,
          0.7755457758903503,
          0.7333835959434509,
          0.779795229434967,
          0.7268082499504089,
          0.7132640480995178,
          0.770359992980957,
          0.7831146717071533
         ],
         "yaxis": "y"
        },
        {
         "hovertemplate": "Country name=Bhutan<br>Life Ladder=%{x}<br>Freedom to make life choices=%{y}<extra></extra>",
         "legendgroup": "Bhutan",
         "marker": {
          "color": "#19d3f3",
          "symbol": "circle"
         },
         "mode": "markers",
         "name": "Bhutan",
         "showlegend": true,
         "type": "scattergl",
         "x": [
          5.569091796875,
          4.938578128814697,
          5.082128524780273
         ],
         "xaxis": "x",
         "y": [
          0.8102014660835266,
          0.8342224955558777,
          0.8301015496253967
         ],
         "yaxis": "y"
        },
        {
         "hovertemplate": "Country name=Bolivia<br>Life Ladder=%{x}<br>Freedom to make life choices=%{y}<extra></extra>",
         "legendgroup": "Bolivia",
         "marker": {
          "color": "#FF6692",
          "symbol": "circle"
         },
         "mode": "markers",
         "name": "Bolivia",
         "showlegend": true,
         "type": "scattergl",
         "x": [
          5.37398624420166,
          5.628419399261475,
          5.297872543334961,
          6.0855793952941895,
          5.780620098114014,
          5.778874397277832,
          6.018894672393799,
          5.767428874969482,
          5.864798545837402,
          5.834329128265381,
          5.769723415374756,
          5.650552749633789,
          5.91573429107666,
          5.6742706298828125,
          5.559258937835693
         ],
         "xaxis": "x",
         "y": [
          0.7701347470283508,
          0.7799352407455444,
          0.7256197333335876,
          0.7789385914802551,
          0.7033410668373108,
          0.7816737294197083,
          0.8623796701431274,
          0.8459316492080688,
          0.8810588717460632,
          0.8836250901222229,
          0.8817487359046936,
          0.8839049339294434,
          0.8632468581199646,
          0.8813109397888184,
          0.8770319223403931
         ],
         "yaxis": "y"
        },
        {
         "hovertemplate": "Country name=Bosnia and Herzegovina<br>Life Ladder=%{x}<br>Freedom to make life choices=%{y}<extra></extra>",
         "legendgroup": "Bosnia and Herzegovina",
         "marker": {
          "color": "#B6E880",
          "symbol": "circle"
         },
         "mode": "markers",
         "name": "Bosnia and Herzegovina",
         "showlegend": true,
         "type": "scattergl",
         "x": [
          4.899806976318359,
          4.96347713470459,
          4.668517589569092,
          4.994670867919922,
          4.773144721984863,
          5.123664379119873,
          5.2489542961120605,
          5.117177963256836,
          5.180865287780762,
          5.089902400970459,
          5.887401103973389,
          6.015522480010986,
          5.5158162117004395
         ],
         "xaxis": "x",
         "y": [
          0.34156566858291626,
          0.25753381848335266,
          0.36496689915657043,
          0.33331209421157837,
          0.41978931427001953,
          0.390341579914093,
          0.4119373857975006,
          0.630698025226593,
          0.6334537267684937,
          0.5637986660003662,
          0.6588464379310608,
          0.7215632200241089,
          0.740250825881958
         ],
         "yaxis": "y"
        },
        {
         "hovertemplate": "Country name=Botswana<br>Life Ladder=%{x}<br>Freedom to make life choices=%{y}<extra></extra>",
         "legendgroup": "Botswana",
         "marker": {
          "color": "#FF97FF",
          "symbol": "circle"
         },
         "mode": "markers",
         "name": "Botswana",
         "showlegend": true,
         "type": "scattergl",
         "x": [
          4.7393670082092285,
          5.451147079467773,
          3.5530202388763428,
          3.519921064376831,
          4.835938930511475,
          4.128298759460449,
          4.0311970710754395,
          3.761964797973633,
          3.498936653137207,
          3.5048811435699463,
          3.4613656997680664,
          3.4710848331451416
         ],
         "xaxis": "x",
         "y": [
          0.8237746357917786,
          0.857776403427124,
          0.826219379901886,
          0.812514066696167,
          0.7994102239608765,
          0.7673574090003967,
          0.79137122631073,
          0.8571689128875732,
          0.8516948819160461,
          0.8173080086708069,
          0.817621111869812,
          0.8325426578521729
         ],
         "yaxis": "y"
        },
        {
         "hovertemplate": "Country name=Brazil<br>Life Ladder=%{x}<br>Freedom to make life choices=%{y}<extra></extra>",
         "legendgroup": "Brazil",
         "marker": {
          "color": "#FECB52",
          "symbol": "circle"
         },
         "mode": "markers",
         "name": "Brazil",
         "showlegend": true,
         "type": "scattergl",
         "x": [
          6.636771202087402,
          6.320672988891602,
          6.69142484664917,
          7.000831604003906,
          6.837331295013428,
          7.037816524505615,
          6.660003662109375,
          7.14028263092041,
          6.980998992919922,
          6.546896934509277,
          6.374817371368408,
          6.3329291343688965,
          6.190921783447266,
          6.451148986816406,
          6.109717845916748
         ],
         "xaxis": "x",
         "y": [
          0.8821861147880554,
          0.7766448259353638,
          0.7819311022758484,
          0.7667160630226135,
          0.8059492707252502,
          0.8336557745933533,
          0.8486063480377197,
          0.7848149538040161,
          0.7138143181800842,
          0.7989352941513062,
          0.8065715432167053,
          0.7647925615310669,
          0.7506090402603149,
          0.830206036567688,
          0.7862350940704346
         ],
         "yaxis": "y"
        },
        {
         "hovertemplate": "Country name=Bulgaria<br>Life Ladder=%{x}<br>Freedom to make life choices=%{y}<extra></extra>",
         "legendgroup": "Bulgaria",
         "marker": {
          "color": "#636efa",
          "symbol": "circle"
         },
         "mode": "markers",
         "name": "Bulgaria",
         "showlegend": true,
         "type": "scattergl",
         "x": [
          3.8437979221343994,
          3.912276268005371,
          3.875382423400879,
          4.222297191619873,
          3.993020534515381,
          4.438439846038818,
          4.865401268005371,
          4.837560653686523,
          5.096901893615723,
          5.098813533782959,
          5.108438014984131,
          5.597723007202148
         ],
         "xaxis": "x",
         "y": [
          0.565786600112915,
          0.5445364117622375,
          0.6635279059410095,
          0.6412564516067505,
          0.603213369846344,
          0.5755959153175354,
          0.6368178129196167,
          0.7002655267715454,
          0.6890470385551453,
          0.7243359088897705,
          0.8219298720359802,
          0.8182247877120972
         ],
         "yaxis": "y"
        },
        {
         "hovertemplate": "Country name=Burkina Faso<br>Life Ladder=%{x}<br>Freedom to make life choices=%{y}<extra></extra>",
         "legendgroup": "Burkina Faso",
         "marker": {
          "color": "#EF553B",
          "symbol": "circle"
         },
         "mode": "markers",
         "name": "Burkina Faso",
         "showlegend": true,
         "type": "scattergl",
         "x": [
          3.8014907836914062,
          4.017130374908447,
          3.8464388847351074,
          4.035560607910156,
          4.785367488861084,
          3.955008029937744,
          3.3259496688842773,
          3.4813477993011475,
          4.4189300537109375,
          4.205634593963623,
          4.646891117095947,
          4.927236080169678,
          4.7408928871154785
         ],
         "xaxis": "x",
         "y": [
          0.5883380174636841,
          0.582292377948761,
          0.6120641827583313,
          0.586580753326416,
          0.7245684862136841,
          0.6218487024307251,
          0.7412574291229248,
          0.7099645137786865,
          0.659102737903595,
          0.6446815133094788,
          0.6137747168540955,
          0.7207434773445129,
          0.6775468587875366
         ],
         "yaxis": "y"
        },
        {
         "hovertemplate": "Country name=Burundi<br>Life Ladder=%{x}<br>Freedom to make life choices=%{y}<extra></extra>",
         "legendgroup": "Burundi",
         "marker": {
          "color": "#00cc96",
          "symbol": "circle"
         },
         "mode": "markers",
         "name": "Burundi",
         "showlegend": true,
         "type": "scattergl",
         "x": [
          3.563227653503418,
          3.7916808128356934,
          3.7058942317962646,
          2.9045350551605225,
          3.775283098220825
         ],
         "xaxis": "x",
         "y": [
          0.2600693106651306,
          0.42735591530799866,
          0.4898630380630493,
          0.43138498067855835,
          0.6463986039161682
         ],
         "yaxis": "y"
        },
        {
         "hovertemplate": "Country name=Cambodia<br>Life Ladder=%{x}<br>Freedom to make life choices=%{y}<extra></extra>",
         "legendgroup": "Cambodia",
         "marker": {
          "color": "#ab63fa",
          "symbol": "circle"
         },
         "mode": "markers",
         "name": "Cambodia",
         "showlegend": true,
         "type": "scattergl",
         "x": [
          3.568744659423828,
          4.155971050262451,
          4.462163925170898,
          4.110625743865967,
          4.1410722732543945,
          4.161225318908691,
          3.8987069129943848,
          3.674466848373413,
          3.883305549621582,
          4.162164688110352,
          4.461259365081787,
          4.585842132568359,
          5.121837615966797,
          4.998284816741943,
          4.3769850730896
         ],
         "xaxis": "x",
         "y": [
          null,
          0.8186995387077332,
          0.9141729474067688,
          0.9372333288192749,
          0.9401311874389648,
          0.9274623990058899,
          0.9555957913398743,
          0.9405929446220398,
          0.937544584274292,
          0.9563198089599609,
          0.9578214883804321,
          0.9637746810913086,
          0.9583048224449158,
          0.9567992091178894,
          0.9630754590034485
         ],
         "yaxis": "y"
        },
        {
         "hovertemplate": "Country name=Cameroon<br>Life Ladder=%{x}<br>Freedom to make life choices=%{y}<extra></extra>",
         "legendgroup": "Cameroon",
         "marker": {
          "color": "#FFA15A",
          "symbol": "circle"
         },
         "mode": "markers",
         "name": "Cameroon",
         "showlegend": true,
         "type": "scattergl",
         "x": [
          3.851072072982788,
          4.349939346313477,
          4.291800498962402,
          4.741408348083496,
          4.554256916046143,
          4.433885097503662,
          4.24463415145874,
          4.271038055419922,
          4.24044132232666,
          5.037964820861816,
          4.816232204437256,
          5.074051380157471,
          5.25073766708374,
          4.936737537384033,
          5.241077899932861
         ],
         "xaxis": "x",
         "y": [
          0.6534226536750793,
          0.6438839435577393,
          0.58025723695755,
          0.698030412197113,
          0.7922201752662659,
          0.8166937828063965,
          0.7660642266273499,
          0.7940759658813477,
          0.7946455478668213,
          0.7914285659790039,
          0.7125070095062256,
          0.7669450044631958,
          0.8163049817085266,
          0.7115002870559692,
          0.6745091676712036
         ],
         "yaxis": "y"
        },
        {
         "hovertemplate": "Country name=Canada<br>Life Ladder=%{x}<br>Freedom to make life choices=%{y}<extra></extra>",
         "legendgroup": "Canada",
         "marker": {
          "color": "#19d3f3",
          "symbol": "circle"
         },
         "mode": "markers",
         "name": "Canada",
         "showlegend": true,
         "type": "scattergl",
         "x": [
          7.41804838180542,
          7.481752872467041,
          7.4856038093566895,
          7.487824440002441,
          7.650346279144287,
          7.426053524017334,
          7.415144443511963,
          7.593793869018555,
          7.304257869720459,
          7.4127726554870605,
          7.244845867156982,
          7.414868354797363,
          7.175496578216553,
          7.109076499938965,
          7.024904727935791
         ],
         "xaxis": "x",
         "y": [
          0.9573062658309937,
          0.9303413033485413,
          0.9263149499893188,
          0.9150578379631042,
          0.933948814868927,
          0.9509252905845642,
          0.9179611206054688,
          0.9160138964653015,
          0.9388976097106934,
          0.9314689636230469,
          0.9124239087104797,
          0.9451450109481812,
          0.9457828998565674,
          0.9115256071090698,
          0.8868921995162964
         ],
         "yaxis": "y"
        },
        {
         "hovertemplate": "Country name=Central African Republic<br>Life Ladder=%{x}<br>Freedom to make life choices=%{y}<extra></extra>",
         "legendgroup": "Central African Republic",
         "marker": {
          "color": "#FF6692",
          "symbol": "circle"
         },
         "mode": "markers",
         "name": "Central African Republic",
         "showlegend": true,
         "type": "scattergl",
         "x": [
          4.160129547119141,
          3.567892551422119,
          3.677826404571533,
          2.693061113357544,
          3.4758620262145996
         ],
         "xaxis": "x",
         "y": [
          0.6628710031509399,
          0.6899508833885193,
          0.7800177931785583,
          0.6240565180778503,
          0.6452523469924927
         ],
         "yaxis": "y"
        },
        {
         "hovertemplate": "Country name=Chad<br>Life Ladder=%{x}<br>Freedom to make life choices=%{y}<extra></extra>",
         "legendgroup": "Chad",
         "marker": {
          "color": "#B6E880",
          "symbol": "circle"
         },
         "mode": "markers",
         "name": "Chad",
         "showlegend": true,
         "type": "scattergl",
         "x": [
          3.434800624847412,
          4.141326904296875,
          4.632468223571777,
          3.6394450664520264,
          3.742871046066284,
          4.393482208251953,
          4.032974720001221,
          3.5076630115509033,
          3.4601829051971436,
          4.3226752281188965,
          4.029350280761719,
          4.558937072753906,
          4.486325263977051,
          4.250799179077148
         ],
         "xaxis": "x",
         "y": [
          0.30613189935684204,
          0.29461178183555603,
          0.5266103744506836,
          0.4013702869415283,
          0.5046125650405884,
          0.5402679443359375,
          0.5629081130027771,
          0.4882103502750397,
          0.5667953491210938,
          0.4743608832359314,
          0.52522212266922,
          0.6148496866226196,
          0.6503545641899109,
          0.5372456908226013
         ],
         "yaxis": "y"
        },
        {
         "hovertemplate": "Country name=Chile<br>Life Ladder=%{x}<br>Freedom to make life choices=%{y}<extra></extra>",
         "legendgroup": "Chile",
         "marker": {
          "color": "#FF97FF",
          "symbol": "circle"
         },
         "mode": "markers",
         "name": "Chile",
         "showlegend": true,
         "type": "scattergl",
         "x": [
          6.062851905822754,
          5.697929859161377,
          5.789438724517822,
          6.493686199188232,
          6.635655879974365,
          6.526334762573242,
          6.599128723144531,
          6.740153789520264,
          6.84423828125,
          6.532749652862549,
          6.579056262969971,
          6.320119380950928,
          6.436220645904541,
          5.9422502517700195,
          6.1506428718566895
         ],
         "xaxis": "x",
         "y": [
          0.7442919015884399,
          0.6619051098823547,
          0.6402016878128052,
          0.7466140389442444,
          0.7863674759864807,
          0.7007341384887695,
          0.7336109280586243,
          0.7368873357772827,
          0.7333263754844666,
          0.7688814401626587,
          0.6522897481918335,
          0.7901164889335632,
          0.7885303497314453,
          0.659176766872406,
          0.7813835740089417
         ],
         "yaxis": "y"
        },
        {
         "hovertemplate": "Country name=China<br>Life Ladder=%{x}<br>Freedom to make life choices=%{y}<extra></extra>",
         "legendgroup": "China",
         "marker": {
          "color": "#FECB52",
          "symbol": "circle"
         },
         "mode": "markers",
         "name": "China",
         "showlegend": true,
         "type": "scattergl",
         "x": [
          4.560495376586914,
          4.8628621101379395,
          4.84629487991333,
          4.4543609619140625,
          4.652736663818359,
          5.03720760345459,
          5.094917297363281,
          5.241090297698975,
          5.195619106292725,
          5.303877830505371,
          5.324955940246582,
          5.099061489105225,
          5.131433963775635,
          5.144120216369629,
          5.771064758300781
         ],
         "xaxis": "x",
         "y": [
          null,
          null,
          0.8530720472335815,
          0.7711432576179504,
          0.8047935962677002,
          0.8241623640060425,
          0.808255136013031,
          0.8047239184379578,
          null,
          null,
          null,
          0.877617597579956,
          0.8953776955604553,
          0.9273562431335449,
          0.8911229968070984
         ],
         "yaxis": "y"
        },
        {
         "hovertemplate": "Country name=Colombia<br>Life Ladder=%{x}<br>Freedom to make life choices=%{y}<extra></extra>",
         "legendgroup": "Colombia",
         "marker": {
          "color": "#636efa",
          "symbol": "circle"
         },
         "mode": "markers",
         "name": "Colombia",
         "showlegend": true,
         "type": "scattergl",
         "x": [
          6.024942874908447,
          6.138411521911621,
          6.168395042419434,
          6.271604537963867,
          6.408113479614258,
          6.463952541351318,
          6.374879837036133,
          6.606550693511963,
          6.448789119720459,
          6.387571811676025,
          6.233715057373047,
          6.157341957092285,
          5.9835124015808105,
          6.350297927856445,
          5.709175109863281
         ],
         "xaxis": "x",
         "y": [
          0.8046618103981018,
          0.7858659625053406,
          0.7950838208198547,
          0.7571007013320923,
          0.8161211013793945,
          0.8109074234962463,
          0.8278681039810181,
          0.8411731719970703,
          0.8011914491653442,
          0.7908979654312134,
          0.8349661231040955,
          0.8375546336174011,
          0.8507657647132874,
          0.8215007185935974,
          0.8401861190795898
         ],
         "yaxis": "y"
        },
        {
         "hovertemplate": "Country name=Comoros<br>Life Ladder=%{x}<br>Freedom to make life choices=%{y}<extra></extra>",
         "legendgroup": "Comoros",
         "marker": {
          "color": "#EF553B",
          "symbol": "circle"
         },
         "mode": "markers",
         "name": "Comoros",
         "showlegend": true,
         "type": "scattergl",
         "x": [
          3.476027250289917,
          3.8121910095214844,
          3.8384859561920166,
          3.9556403160095215,
          3.9728195667266846,
          4.608616352081299
         ],
         "xaxis": "x",
         "y": [
          0.5078452825546265,
          0.5286752581596375,
          0.49967387318611145,
          0.5340409278869629,
          0.5601823329925537,
          0.5382615327835083
         ],
         "yaxis": "y"
        },
        {
         "hovertemplate": "Country name=Congo (Brazzaville)<br>Life Ladder=%{x}<br>Freedom to make life choices=%{y}<extra></extra>",
         "legendgroup": "Congo (Brazzaville)",
         "marker": {
          "color": "#00cc96",
          "symbol": "circle"
         },
         "mode": "markers",
         "name": "Congo (Brazzaville)",
         "showlegend": true,
         "type": "scattergl",
         "x": [
          3.8197922706604004,
          4.509824275970459,
          3.919341802597046,
          3.9549505710601807,
          4.0560126304626465,
          4.690830230712891,
          4.11949348449707,
          4.883991241455078,
          5.4902143478393555,
          5.21262264251709
         ],
         "xaxis": "x",
         "y": [
          0.525746762752533,
          0.7448071837425232,
          0.7725107669830322,
          0.7258156538009644,
          0.6616381406784058,
          0.8501724600791931,
          0.7859065532684326,
          0.7777834534645081,
          0.6987000703811646,
          0.6864519715309143
         ],
         "yaxis": "y"
        },
        {
         "hovertemplate": "Country name=Congo (Kinshasa)<br>Life Ladder=%{x}<br>Freedom to make life choices=%{y}<extra></extra>",
         "legendgroup": "Congo (Kinshasa)",
         "marker": {
          "color": "#ab63fa",
          "symbol": "circle"
         },
         "mode": "markers",
         "name": "Congo (Kinshasa)",
         "showlegend": true,
         "type": "scattergl",
         "x": [
          3.9838485717773438,
          4.516963958740234,
          4.639227390289307,
          4.497477054595947,
          4.414299964904785,
          3.9027416706085205,
          4.52193546295166,
          4.311033248901367
         ],
         "xaxis": "x",
         "y": [
          0.5564875602722168,
          0.6311085820198059,
          0.5572862029075623,
          0.4803941547870636,
          0.5560992956161499,
          0.5737637877464294,
          0.6373667120933533,
          0.704239547252655
         ],
         "yaxis": "y"
        },
        {
         "hovertemplate": "Country name=Costa Rica<br>Life Ladder=%{x}<br>Freedom to make life choices=%{y}<extra></extra>",
         "legendgroup": "Costa Rica",
         "marker": {
          "color": "#FFA15A",
          "symbol": "circle"
         },
         "mode": "markers",
         "name": "Costa Rica",
         "showlegend": true,
         "type": "scattergl",
         "x": [
          7.082465171813965,
          7.432132244110107,
          6.850679874420166,
          7.614928722381592,
          7.271053791046143,
          7.228888511657715,
          7.272250175476074,
          7.158000469207764,
          7.247086048126221,
          6.854004383087158,
          7.135617733001709,
          7.225181579589844,
          7.1410746574401855,
          6.997618675231934
         ],
         "xaxis": "x",
         "y": [
          0.8824198842048645,
          0.9227356910705566,
          0.9120059609413147,
          0.8860610723495483,
          0.8810296058654785,
          0.926105797290802,
          0.9289140701293945,
          0.8978793025016785,
          0.92670738697052,
          0.9069256782531738,
          0.8729719519615173,
          0.9356184601783752,
          0.9418883323669434,
          0.9268301129341125
         ],
         "yaxis": "y"
        },
        {
         "hovertemplate": "Country name=Croatia<br>Life Ladder=%{x}<br>Freedom to make life choices=%{y}<extra></extra>",
         "legendgroup": "Croatia",
         "marker": {
          "color": "#19d3f3",
          "symbol": "circle"
         },
         "mode": "markers",
         "name": "Croatia",
         "showlegend": true,
         "type": "scattergl",
         "x": [
          5.8209075927734375,
          5.433319568634033,
          5.595575332641602,
          5.385372638702393,
          6.027634620666504,
          5.885462760925293,
          5.380692481994629,
          5.205438137054443,
          5.41687536239624,
          5.343165874481201,
          5.536271095275879,
          5.625743865966797,
          6.507992267608643
         ],
         "xaxis": "x",
         "y": [
          0.6622057557106018,
          0.5492583513259888,
          0.5643726587295532,
          0.5169324278831482,
          0.5419097542762756,
          0.626699686050415,
          0.5188780426979065,
          0.6935230493545532,
          0.671970546245575,
          0.7158222794532776,
          0.6908556222915649,
          0.7393006086349487,
          0.8366576433181763
         ],
         "yaxis": "y"
        },
        {
         "hovertemplate": "Country name=Cuba<br>Life Ladder=%{x}<br>Freedom to make life choices=%{y}<extra></extra>",
         "legendgroup": "Cuba",
         "marker": {
          "color": "#FF6692",
          "symbol": "circle"
         },
         "mode": "markers",
         "name": "Cuba",
         "showlegend": true,
         "type": "scattergl",
         "x": [
          5.417868614196777
         ],
         "xaxis": "x",
         "y": [
          0.28145793080329895
         ],
         "yaxis": "y"
        },
        {
         "hovertemplate": "Country name=Cyprus<br>Life Ladder=%{x}<br>Freedom to make life choices=%{y}<extra></extra>",
         "legendgroup": "Cyprus",
         "marker": {
          "color": "#B6E880",
          "symbol": "circle"
         },
         "mode": "markers",
         "name": "Cyprus",
         "showlegend": true,
         "type": "scattergl",
         "x": [
          6.2379584312438965,
          6.83347749710083,
          6.3865461349487305,
          6.689608573913574,
          6.180507183074951,
          5.438952445983887,
          5.627123832702637,
          5.43916130065918,
          5.794618606567383,
          6.062051296234131,
          6.276443004608154,
          6.1368327140808105,
          6.259810447692871
         ],
         "xaxis": "x",
         "y": [
          0.8361011743545532,
          0.7745906710624695,
          0.7553628087043762,
          0.7454688549041748,
          0.7246295809745789,
          0.6562679409980774,
          0.7150656580924988,
          0.6280348300933838,
          0.7562209963798523,
          0.8116706609725952,
          0.7942150235176086,
          0.7400580048561096,
          0.7627823352813721
         ],
         "yaxis": "y"
        },
        {
         "hovertemplate": "Country name=Czech Republic<br>Life Ladder=%{x}<br>Freedom to make life choices=%{y}<extra></extra>",
         "legendgroup": "Czech Republic",
         "marker": {
          "color": "#FF97FF",
          "symbol": "circle"
         },
         "mode": "markers",
         "name": "Czech Republic",
         "showlegend": true,
         "type": "scattergl",
         "x": [
          6.43925666809082,
          6.500194072723389,
          6.249617576599121,
          6.331490993499756,
          6.334149360656738,
          6.69765567779541,
          6.483729839324951,
          6.608017444610596,
          6.735627174377441,
          6.789567947387695,
          7.034165382385254,
          6.897091388702393
         ],
         "xaxis": "x",
         "y": [
          0.8652349710464478,
          0.7989493608474731,
          0.7791122198104858,
          0.7871800065040588,
          0.7398087382316589,
          0.7259456515312195,
          0.8004209995269775,
          0.8084841966629028,
          0.850328266620636,
          0.8317855000495911,
          0.7901324033737183,
          0.9064220190048218
         ],
         "yaxis": "y"
        },
        {
         "hovertemplate": "Country name=Denmark<br>Life Ladder=%{x}<br>Freedom to make life choices=%{y}<extra></extra>",
         "legendgroup": "Denmark",
         "marker": {
          "color": "#FECB52",
          "symbol": "circle"
         },
         "mode": "markers",
         "name": "Denmark",
         "showlegend": true,
         "type": "scattergl",
         "x": [
          8.01893424987793,
          7.834233283996582,
          7.970891952514648,
          7.683358669281006,
          7.770515441894531,
          7.78823184967041,
          7.519909381866455,
          7.588606834411621,
          7.507559299468994,
          7.514424800872803,
          7.5577826499938965,
          7.59370231628418,
          7.648785591125488,
          7.693003177642822,
          7.514631271362305
         ],
         "xaxis": "x",
         "y": [
          0.9711350202560425,
          0.9320862293243408,
          0.9697883725166321,
          0.9493355751037598,
          0.9436308145523071,
          0.9347601532936096,
          0.9326279163360596,
          0.920254647731781,
          0.9415722489356995,
          0.9414364099502563,
          0.9482305645942688,
          0.9554163217544556,
          0.935437798500061,
          0.963318407535553,
          0.9379318356513977
         ],
         "yaxis": "y"
        },
        {
         "hovertemplate": "Country name=Djibouti<br>Life Ladder=%{x}<br>Freedom to make life choices=%{y}<extra></extra>",
         "legendgroup": "Djibouti",
         "marker": {
          "color": "#636efa",
          "symbol": "circle"
         },
         "mode": "markers",
         "name": "Djibouti",
         "showlegend": true,
         "type": "scattergl",
         "x": [
          5.0093302726745605,
          4.905925273895264,
          5.005810737609863,
          4.3691935539245605
         ],
         "xaxis": "x",
         "y": [
          0.7734566926956177,
          0.6493160128593445,
          0.7637303471565247,
          0.7464394569396973
         ],
         "yaxis": "y"
        },
        {
         "hovertemplate": "Country name=Dominican Republic<br>Life Ladder=%{x}<br>Freedom to make life choices=%{y}<extra></extra>",
         "legendgroup": "Dominican Republic",
         "marker": {
          "color": "#EF553B",
          "symbol": "circle"
         },
         "mode": "markers",
         "name": "Dominican Republic",
         "showlegend": true,
         "type": "scattergl",
         "x": [
          5.087967872619629,
          5.081305980682373,
          4.842305660247803,
          5.431613922119141,
          4.735021114349365,
          5.396535396575928,
          4.7533111572265625,
          5.015515327453613,
          5.387331962585449,
          5.061862468719482,
          5.238698482513428,
          5.605202674865723,
          5.433215618133545,
          6.004237174987793,
          5.168409824371338
         ],
         "xaxis": "x",
         "y": [
          0.8582414388656616,
          0.8862466812133789,
          0.8481166362762451,
          0.8629794716835022,
          0.8239028453826904,
          0.8479753136634827,
          0.8401293754577637,
          0.8885660767555237,
          0.9045743942260742,
          0.8560253381729126,
          0.8727124333381653,
          0.8553590178489685,
          0.8666415810585022,
          0.8774062395095825,
          0.8346429467201233
         ],
         "yaxis": "y"
        },
        {
         "hovertemplate": "Country name=Ecuador<br>Life Ladder=%{x}<br>Freedom to make life choices=%{y}<extra></extra>",
         "legendgroup": "Ecuador",
         "marker": {
          "color": "#00cc96",
          "symbol": "circle"
         },
         "mode": "markers",
         "name": "Ecuador",
         "showlegend": true,
         "type": "scattergl",
         "x": [
          5.024191379547119,
          4.995875358581543,
          5.296513080596924,
          6.021803379058838,
          5.8380513191223145,
          5.795088291168213,
          5.960716247558594,
          6.0192060470581055,
          5.945851802825928,
          5.964075088500977,
          6.1154375076293945,
          5.8395185470581055,
          6.128010272979736,
          5.809131145477295,
          5.354461669921875
         ],
         "xaxis": "x",
         "y": [
          0.6710749864578247,
          0.6698433756828308,
          0.6403172612190247,
          0.7368808388710022,
          0.7230790853500366,
          0.7883056998252869,
          0.8252751231193542,
          0.7867981195449829,
          0.7191048264503479,
          0.8008704781532288,
          0.846336305141449,
          0.8791281580924988,
          0.8693637251853943,
          0.8295736908912659,
          0.8285115361213684
         ],
         "yaxis": "y"
        },
        {
         "hovertemplate": "Country name=Egypt<br>Life Ladder=%{x}<br>Freedom to make life choices=%{y}<extra></extra>",
         "legendgroup": "Egypt",
         "marker": {
          "color": "#ab63fa",
          "symbol": "circle"
         },
         "mode": "markers",
         "name": "Egypt",
         "showlegend": true,
         "type": "scattergl",
         "x": [
          5.167754173278809,
          5.540510654449463,
          4.631741046905518,
          5.066164493560791,
          4.66891622543335,
          4.174158573150635,
          4.204156875610352,
          3.5585203170776367,
          4.885072708129883,
          4.762538433074951,
          4.556740760803223,
          3.9293441772460938,
          4.00545072555542,
          4.327831745147705,
          4.4723968505859375
         ],
         "xaxis": "x",
         "y": [
          0.8173620104789734,
          0.6090768575668335,
          null,
          0.6110825538635254,
          0.48627904057502747,
          0.5895377993583679,
          0.4515433609485626,
          0.4737745523452759,
          0.5779379606246948,
          0.6592614650726318,
          0.6558452248573303,
          0.5925047993659973,
          0.6816544532775879,
          0.7739510536193848,
          0.7695503234863281
         ],
         "yaxis": "y"
        },
        {
         "hovertemplate": "Country name=El Salvador<br>Life Ladder=%{x}<br>Freedom to make life choices=%{y}<extra></extra>",
         "legendgroup": "El Salvador",
         "marker": {
          "color": "#FFA15A",
          "symbol": "circle"
         },
         "mode": "markers",
         "name": "El Salvador",
         "showlegend": true,
         "type": "scattergl",
         "x": [
          5.700929641723633,
          5.295535087585449,
          5.191493988037109,
          6.839087009429932,
          6.739911079406738,
          4.741294860839844,
          5.934371471405029,
          6.325063228607178,
          5.856523513793945,
          6.018496036529541,
          6.139824867248535,
          6.33931827545166,
          6.241199493408203,
          6.45482063293457,
          5.4619269371032715
         ],
         "xaxis": "x",
         "y": [
          0.6829895377159119,
          0.6389368176460266,
          0.635648250579834,
          0.670932412147522,
          0.6693378686904907,
          0.7472463846206665,
          0.6827448010444641,
          0.7155704498291016,
          0.7780146598815918,
          0.7333559393882751,
          0.7998470067977905,
          0.7578273415565491,
          0.863334596157074,
          0.8773906826972961,
          0.9239448308944702
         ],
         "yaxis": "y"
        },
        {
         "hovertemplate": "Country name=Estonia<br>Life Ladder=%{x}<br>Freedom to make life choices=%{y}<extra></extra>",
         "legendgroup": "Estonia",
         "marker": {
          "color": "#19d3f3",
          "symbol": "circle"
         },
         "mode": "markers",
         "name": "Estonia",
         "showlegend": true,
         "type": "scattergl",
         "x": [
          5.371054649353027,
          5.3320441246032715,
          5.451937675476074,
          5.1377387046813965,
          5.486819744110107,
          5.363927841186523,
          5.367445945739746,
          5.55598258972168,
          5.628908634185791,
          5.649675369262695,
          5.938395977020264,
          6.091302394866943,
          6.034641265869141,
          6.452563762664795
         ],
         "xaxis": "x",
         "y": [
          0.7485763430595398,
          0.7121208906173706,
          0.6423251032829285,
          0.6107093095779419,
          0.7352253794670105,
          0.6968257427215576,
          0.7535586953163147,
          0.773327112197876,
          0.8146923780441284,
          0.8427706956863403,
          0.8617492318153381,
          0.8856183886528015,
          0.8865043520927429,
          0.9542005658149719
         ],
         "yaxis": "y"
        },
        {
         "hovertemplate": "Country name=Ethiopia<br>Life Ladder=%{x}<br>Freedom to make life choices=%{y}<extra></extra>",
         "legendgroup": "Ethiopia",
         "marker": {
          "color": "#FF6692",
          "symbol": "circle"
         },
         "mode": "markers",
         "name": "Ethiopia",
         "showlegend": true,
         "type": "scattergl",
         "x": [
          4.561168670654297,
          4.444827079772949,
          4.506646633148193,
          4.573154926300049,
          4.297848701477051,
          4.1803154945373535,
          4.379262447357178,
          4.099555015563965,
          4.549219608306885
         ],
         "xaxis": "x",
         "y": [
          0.7763082385063171,
          0.7067962288856506,
          0.693558931350708,
          0.8026425838470459,
          0.7443076968193054,
          0.7171012163162231,
          0.7403430938720703,
          0.7535155415534973,
          0.768694281578064
         ],
         "yaxis": "y"
        },
        {
         "hovertemplate": "Country name=Finland<br>Life Ladder=%{x}<br>Freedom to make life choices=%{y}<extra></extra>",
         "legendgroup": "Finland",
         "marker": {
          "color": "#B6E880",
          "symbol": "circle"
         },
         "mode": "markers",
         "name": "Finland",
         "showlegend": true,
         "type": "scattergl",
         "x": [
          7.672449111938477,
          7.670626640319824,
          7.393264293670654,
          7.354225158691406,
          7.4202094078063965,
          7.44463586807251,
          7.384571075439453,
          7.447925567626953,
          7.659843444824219,
          7.788251876831055,
          7.858107089996338,
          7.78034782409668,
          7.889349937438965
         ],
         "xaxis": "x",
         "y": [
          0.9685804843902588,
          0.9341789484024048,
          0.9160091280937195,
          0.9364483952522278,
          0.9209681153297424,
          0.9186253547668457,
          0.9330439567565918,
          0.9298619031906128,
          0.9483721852302551,
          0.9621989727020264,
          0.9378073811531067,
          0.947616696357727,
          0.9624236822128296
         ],
         "yaxis": "y"
        },
        {
         "hovertemplate": "Country name=France<br>Life Ladder=%{x}<br>Freedom to make life choices=%{y}<extra></extra>",
         "legendgroup": "France",
         "marker": {
          "color": "#FF97FF",
          "symbol": "circle"
         },
         "mode": "markers",
         "name": "France",
         "showlegend": true,
         "type": "scattergl",
         "x": [
          7.093392848968506,
          6.582700252532959,
          7.0080647468566895,
          6.283498287200928,
          6.797901153564453,
          6.9591851234436035,
          6.649365425109863,
          6.667121410369873,
          6.466867923736572,
          6.3576250076293945,
          6.475208759307861,
          6.635222434997559,
          6.665903568267822,
          6.6896443367004395,
          6.714111804962158
         ],
         "xaxis": "x",
         "y": [
          0.8948192596435547,
          0.7891207337379456,
          0.8333271145820618,
          0.7982131838798523,
          0.8497021794319153,
          0.9033666253089905,
          0.8413203358650208,
          0.8777957558631897,
          0.8034741878509521,
          0.8170362114906311,
          0.7867804765701294,
          0.8338901400566101,
          0.8163772225379944,
          0.8272408246994019,
          0.8233863115310669
         ],
         "yaxis": "y"
        },
        {
         "hovertemplate": "Country name=Gabon<br>Life Ladder=%{x}<br>Freedom to make life choices=%{y}<extra></extra>",
         "legendgroup": "Gabon",
         "marker": {
          "color": "#FECB52",
          "symbol": "circle"
         },
         "mode": "markers",
         "name": "Gabon",
         "showlegend": true,
         "type": "scattergl",
         "x": [
          4.255400657653809,
          3.9720592498779297,
          3.8002870082855225,
          3.9180731773376465,
          4.661012649536133,
          4.831764221191406,
          4.782382965087891,
          4.783009052276611,
          4.914393424987793
         ],
         "xaxis": "x",
         "y": [
          0.7718719244003296,
          0.5659658312797546,
          0.6824901103973389,
          0.60661381483078,
          0.6713007092475891,
          0.6989423632621765,
          0.6523595452308655,
          0.7191354036331177,
          0.736349880695343
         ],
         "yaxis": "y"
        },
        {
         "hovertemplate": "Country name=Gambia<br>Life Ladder=%{x}<br>Freedom to make life choices=%{y}<extra></extra>",
         "legendgroup": "Gambia",
         "marker": {
          "color": "#636efa",
          "symbol": "circle"
         },
         "mode": "markers",
         "name": "Gambia",
         "showlegend": true,
         "type": "scattergl",
         "x": [
          4.117938995361328,
          4.9220991134643555,
          5.1636271476745605
         ],
         "xaxis": "x",
         "y": [
          0.8123258352279663,
          0.71872878074646,
          0.6765952706336975
         ],
         "yaxis": "y"
        },
        {
         "hovertemplate": "Country name=Georgia<br>Life Ladder=%{x}<br>Freedom to make life choices=%{y}<extra></extra>",
         "legendgroup": "Georgia",
         "marker": {
          "color": "#EF553B",
          "symbol": "circle"
         },
         "mode": "markers",
         "name": "Georgia",
         "showlegend": true,
         "type": "scattergl",
         "x": [
          3.6751084327697754,
          3.7071945667266846,
          4.156090259552002,
          3.8006391525268555,
          4.101837158203125,
          4.203030586242676,
          4.254445552825928,
          4.348920822143555,
          4.287508010864258,
          4.121940612792969,
          4.448386192321777,
          4.450774669647217,
          4.659097194671631,
          4.891835689544678,
          5.123143196105957
         ],
         "xaxis": "x",
         "y": [
          0.5525926351547241,
          0.4637225270271301,
          0.6139973998069763,
          0.49531400203704834,
          0.5578579306602478,
          0.6324645280838013,
          0.6587240099906921,
          0.7221276164054871,
          0.7197811603546143,
          0.6399449706077576,
          0.6064683794975281,
          0.820908784866333,
          0.775144100189209,
          0.8105341196060181,
          0.7643523812294006
         ],
         "yaxis": "y"
        },
        {
         "hovertemplate": "Country name=Germany<br>Life Ladder=%{x}<br>Freedom to make life choices=%{y}<extra></extra>",
         "legendgroup": "Germany",
         "marker": {
          "color": "#00cc96",
          "symbol": "circle"
         },
         "mode": "markers",
         "name": "Germany",
         "showlegend": true,
         "type": "scattergl",
         "x": [
          6.619549751281738,
          6.4168195724487305,
          6.521790027618408,
          6.641493320465088,
          6.724531173706055,
          6.621312141418457,
          6.702362060546875,
          6.96512508392334,
          6.9842143058776855,
          7.037137508392334,
          6.873763084411621,
          7.074324607849121,
          7.118364334106445,
          7.035472393035889,
          7.3118977546691895
         ],
         "xaxis": "x",
         "y": [
          0.8466237783432007,
          0.8008782267570496,
          0.7655569911003113,
          0.843784511089325,
          0.8426564335823059,
          0.9062932729721069,
          0.9044404625892639,
          0.8943129777908325,
          0.8986834287643433,
          0.8894288539886475,
          0.8705150485038757,
          0.8407278656959534,
          0.8768875002861023,
          0.884751558303833,
          0.8643560409545898
         ],
         "yaxis": "y"
        },
        {
         "hovertemplate": "Country name=Ghana<br>Life Ladder=%{x}<br>Freedom to make life choices=%{y}<extra></extra>",
         "legendgroup": "Ghana",
         "marker": {
          "color": "#ab63fa",
          "symbol": "circle"
         },
         "mode": "markers",
         "name": "Ghana",
         "showlegend": true,
         "type": "scattergl",
         "x": [
          4.535019874572754,
          5.220148086547852,
          4.965134620666504,
          4.197695732116699,
          4.6062517166137695,
          5.608199596405029,
          5.057261943817139,
          4.965053081512451,
          3.860351085662842,
          3.9859161376953125,
          4.514411449432373,
          5.481310844421387,
          5.003693103790283,
          4.9668097496032715,
          5.319483280181885
         ],
         "xaxis": "x",
         "y": [
          0.8492833971977234,
          0.8911532759666443,
          0.838006317615509,
          0.7574777603149414,
          0.8911299109458923,
          0.8518961668014526,
          0.6794184446334839,
          0.7937937378883362,
          0.6769160628318787,
          0.8520161509513855,
          0.7511683702468872,
          0.7830463647842407,
          0.8166804909706116,
          0.7874477505683899,
          0.8237200379371643
         ],
         "yaxis": "y"
        },
        {
         "hovertemplate": "Country name=Greece<br>Life Ladder=%{x}<br>Freedom to make life choices=%{y}<extra></extra>",
         "legendgroup": "Greece",
         "marker": {
          "color": "#FFA15A",
          "symbol": "circle"
         },
         "mode": "markers",
         "name": "Greece",
         "showlegend": true,
         "type": "scattergl",
         "x": [
          6.006309986114502,
          6.646961212158203,
          6.038574695587158,
          5.8395586013793945,
          5.372039794921875,
          5.096354007720947,
          4.720251083374023,
          4.756237030029297,
          5.622519016265869,
          5.302619457244873,
          5.1482415199279785,
          5.409289360046387,
          5.952157497406006,
          5.787615776062012
         ],
         "xaxis": "x",
         "y": [
          0.7341718077659607,
          0.5753088593482971,
          0.44310784339904785,
          0.4841109812259674,
          0.5281259417533875,
          0.3726104199886322,
          0.4259665310382843,
          0.3691563308238983,
          0.5317363142967224,
          0.4816168546676636,
          0.4383000135421753,
          0.5644556879997253,
          0.6135841012001038,
          0.5646136403083801
         ],
         "yaxis": "y"
        },
        {
         "hovertemplate": "Country name=Guatemala<br>Life Ladder=%{x}<br>Freedom to make life choices=%{y}<extra></extra>",
         "legendgroup": "Guatemala",
         "marker": {
          "color": "#19d3f3",
          "symbol": "circle"
         },
         "mode": "markers",
         "name": "Guatemala",
         "showlegend": true,
         "type": "scattergl",
         "x": [
          5.901429176330566,
          6.329581260681152,
          6.414494514465332,
          6.451916217803955,
          6.289748668670654,
          5.743353843688965,
          5.855717182159424,
          5.9846014976501465,
          6.5360307693481445,
          6.464986801147461,
          6.358916282653809,
          6.325118541717529,
          6.626591682434082,
          6.2621750831604
         ],
         "xaxis": "x",
         "y": [
          0.6633816957473755,
          0.6275869607925415,
          0.6301517486572266,
          0.6434787511825562,
          0.6958629488945007,
          0.7629631161689758,
          0.8654720187187195,
          0.8840050101280212,
          0.843398928642273,
          0.8686397671699524,
          0.8626757264137268,
          0.9145216941833496,
          0.9095380306243896,
          0.9006763100624084
         ],
         "yaxis": "y"
        },
        {
         "hovertemplate": "Country name=Guinea<br>Life Ladder=%{x}<br>Freedom to make life choices=%{y}<extra></extra>",
         "legendgroup": "Guinea",
         "marker": {
          "color": "#FF6692",
          "symbol": "circle"
         },
         "mode": "markers",
         "name": "Guinea",
         "showlegend": true,
         "type": "scattergl",
         "x": [
          4.044569492340088,
          3.651554822921753,
          3.9017930030822754,
          3.412482500076294,
          3.5046935081481934,
          3.6028547286987305,
          4.873722553253174,
          5.252226829528809,
          4.767684459686279
         ],
         "xaxis": "x",
         "y": [
          0.7968302369117737,
          0.6461878418922424,
          0.6927366256713867,
          0.6835575699806213,
          0.6659530401229858,
          0.725685179233551,
          0.7382128238677979,
          0.7311572432518005,
          0.691399097442627
         ],
         "yaxis": "y"
        },
        {
         "hovertemplate": "Country name=Guyana<br>Life Ladder=%{x}<br>Freedom to make life choices=%{y}<extra></extra>",
         "legendgroup": "Guyana",
         "marker": {
          "color": "#B6E880",
          "symbol": "circle"
         },
         "mode": "markers",
         "name": "Guyana",
         "showlegend": true,
         "type": "scattergl",
         "x": [
          5.992826461791992
         ],
         "xaxis": "x",
         "y": [
          0.6940056681632996
         ],
         "yaxis": "y"
        },
        {
         "hovertemplate": "Country name=Haiti<br>Life Ladder=%{x}<br>Freedom to make life choices=%{y}<extra></extra>",
         "legendgroup": "Haiti",
         "marker": {
          "color": "#FF97FF",
          "symbol": "circle"
         },
         "mode": "markers",
         "name": "Haiti",
         "showlegend": true,
         "type": "scattergl",
         "x": [
          3.7541561126708984,
          3.8463292121887207,
          3.7659988403320312,
          4.844573974609375,
          4.413475036621094,
          4.621962070465088,
          3.8887784481048584,
          3.5697624683380127,
          3.3523001670837402,
          3.8238656520843506,
          3.6149280071258545
         ],
         "xaxis": "x",
         "y": [
          0.4494747221469879,
          0.4649706482887268,
          0.3729413151741028,
          0.4125877916812897,
          0.4824858605861664,
          0.6104100346565247,
          0.5088054537773132,
          0.39829549193382263,
          0.3035404086112976,
          0.48442915081977844,
          0.5914683938026428
         ],
         "yaxis": "y"
        },
        {
         "hovertemplate": "Country name=Honduras<br>Life Ladder=%{x}<br>Freedom to make life choices=%{y}<extra></extra>",
         "legendgroup": "Honduras",
         "marker": {
          "color": "#FECB52",
          "symbol": "circle"
         },
         "mode": "markers",
         "name": "Honduras",
         "showlegend": true,
         "type": "scattergl",
         "x": [
          5.396519660949707,
          5.097154140472412,
          5.420331001281738,
          6.033189296722412,
          5.86613130569458,
          4.961031436920166,
          4.602218151092529,
          4.713358402252197,
          5.055726051330566,
          4.8454365730285645,
          5.6481547355651855,
          6.019985675811768,
          5.908423900604248,
          5.930051326751709
         ],
         "xaxis": "x",
         "y": [
          0.6502535939216614,
          0.6756309866905212,
          0.686880886554718,
          0.6612027883529663,
          0.6455284953117371,
          0.7833690643310547,
          0.7004520893096924,
          0.6984003782272339,
          0.6959825754165649,
          0.5340576767921448,
          0.850046694278717,
          0.8983774185180664,
          0.8721616864204407,
          0.8461900353431702
         ],
         "yaxis": "y"
        },
        {
         "hovertemplate": "Country name=Hong Kong S.A.R. of China<br>Life Ladder=%{x}<br>Freedom to make life choices=%{y}<extra></extra>",
         "legendgroup": "Hong Kong S.A.R. of China",
         "marker": {
          "color": "#636efa",
          "symbol": "circle"
         },
         "mode": "markers",
         "name": "Hong Kong S.A.R. of China",
         "showlegend": true,
         "type": "scattergl",
         "x": [
          5.5111870765686035,
          5.137261867523193,
          5.397055625915527,
          5.642834663391113,
          5.474010944366455,
          5.4837646484375,
          5.458050727844238,
          5.498420715332031,
          5.3624749183654785,
          5.6593170166015625,
          5.295341491699219
         ],
         "xaxis": "x",
         "y": [
          0.9098200798034668,
          0.9222112894058228,
          0.918026328086853,
          0.8904176950454712,
          0.8943301439285278,
          0.8797524571418762,
          0.8430823683738708,
          0.7997434139251709,
          0.8306572437286377,
          0.7268521785736084,
          0.7054522633552551
         ],
         "yaxis": "y"
        },
        {
         "hovertemplate": "Country name=Hungary<br>Life Ladder=%{x}<br>Freedom to make life choices=%{y}<extra></extra>",
         "legendgroup": "Hungary",
         "marker": {
          "color": "#EF553B",
          "symbol": "circle"
         },
         "mode": "markers",
         "name": "Hungary",
         "showlegend": true,
         "type": "scattergl",
         "x": [
          5.193933486938477,
          4.953917026519775,
          4.8946003913879395,
          4.725132465362549,
          4.9176025390625,
          4.683358192443848,
          4.914466857910156,
          5.180563449859619,
          5.344383239746094,
          5.448901653289795,
          6.065038681030273,
          5.9357709884643555,
          6.000259876251221,
          6.038049697875977
         ],
         "xaxis": "x",
         "y": [
          0.6968744993209839,
          0.5384981036186218,
          0.4643731117248535,
          0.5138353705406189,
          0.6311001181602478,
          0.5692315101623535,
          0.6737282872200012,
          0.49447470903396606,
          0.5577213764190674,
          0.5539517402648926,
          0.6611659526824951,
          0.6926270723342896,
          0.798041045665741,
          0.7709680795669556
         ],
         "yaxis": "y"
        },
        {
         "hovertemplate": "Country name=Iceland<br>Life Ladder=%{x}<br>Freedom to make life choices=%{y}<extra></extra>",
         "legendgroup": "Iceland",
         "marker": {
          "color": "#00cc96",
          "symbol": "circle"
         },
         "mode": "markers",
         "name": "Iceland",
         "showlegend": true,
         "type": "scattergl",
         "x": [
          6.888284206390381,
          7.590660095214844,
          7.501394271850586,
          7.49807071685791,
          7.510034561157227,
          7.4762139320373535,
          7.532504558563232,
          7.575489521026611
         ],
         "xaxis": "x",
         "y": [
          0.8851961493492126,
          0.9046545028686523,
          0.923207700252533,
          0.9404851198196411,
          0.9516095519065857,
          0.9387832880020142,
          0.9594700932502747,
          0.9486271739006042
         ],
         "yaxis": "y"
        },
        {
         "hovertemplate": "Country name=India<br>Life Ladder=%{x}<br>Freedom to make life choices=%{y}<extra></extra>",
         "legendgroup": "India",
         "marker": {
          "color": "#ab63fa",
          "symbol": "circle"
         },
         "mode": "markers",
         "name": "India",
         "showlegend": true,
         "type": "scattergl",
         "x": [
          5.348258972167969,
          5.026793479919434,
          5.1458330154418945,
          4.521517753601074,
          4.989277362823486,
          4.634871482849121,
          4.720146656036377,
          4.427788734436035,
          4.424379348754883,
          4.342079162597656,
          4.179177284240723,
          4.046111106872559,
          3.818068742752075,
          3.248769760131836,
          4.225281238555908
         ],
         "xaxis": "x",
         "y": [
          0.7737370729446411,
          0.7288926243782043,
          0.7558396458625793,
          0.6786436438560486,
          0.7830603718757629,
          0.8375516533851624,
          0.6093201041221619,
          0.7401766180992126,
          0.8093829154968262,
          0.7772252559661865,
          0.8200687766075134,
          0.8858504295349121,
          0.8904433846473694,
          0.8755403161048889,
          0.9063913226127625
         ],
         "yaxis": "y"
        },
        {
         "hovertemplate": "Country name=Indonesia<br>Life Ladder=%{x}<br>Freedom to make life choices=%{y}<extra></extra>",
         "legendgroup": "Indonesia",
         "marker": {
          "color": "#FFA15A",
          "symbol": "circle"
         },
         "mode": "markers",
         "name": "Indonesia",
         "showlegend": true,
         "type": "scattergl",
         "x": [
          4.9469780921936035,
          5.1012139320373535,
          4.815309524536133,
          5.472361087799072,
          5.45729923248291,
          5.172608375549316,
          5.36777400970459,
          5.292237758636475,
          5.597375392913818,
          5.042799949645996,
          5.136325359344482,
          5.0984015464782715,
          5.340295791625977,
          5.346512794494629
         ],
         "xaxis": "x",
         "y": [
          0.713171124458313,
          0.603260338306427,
          0.5956333875656128,
          0.7837928533554077,
          0.6996575593948364,
          0.8782871961593628,
          0.7703193426132202,
          0.7806907892227173,
          0.7194132804870605,
          0.7794183492660522,
          0.8299416303634644,
          0.8650262951850891,
          0.8793743848800659,
          0.8658591508865356
         ],
         "yaxis": "y"
        },
        {
         "hovertemplate": "Country name=Iran<br>Life Ladder=%{x}<br>Freedom to make life choices=%{y}<extra></extra>",
         "legendgroup": "Iran",
         "marker": {
          "color": "#19d3f3",
          "symbol": "circle"
         },
         "mode": "markers",
         "name": "Iran",
         "showlegend": true,
         "type": "scattergl",
         "x": [
          5.30819034576416,
          5.336371421813965,
          5.128988265991211,
          4.767507076263428,
          4.6089277267456055,
          5.1395792961120605,
          4.682224273681641,
          4.749955654144287,
          4.652730941772461,
          4.716783046722412,
          4.278117656707764,
          5.00614595413208,
          4.864528179168701
         ],
         "xaxis": "x",
         "y": [
          0.6511676907539368,
          0.5326198935508728,
          0.6012220978736877,
          0.7975736856460571,
          0.7644184231758118,
          0.7302147150039673,
          0.7668229937553406,
          0.7803832292556763,
          0.773303747177124,
          0.7306351661682129,
          0.6033198833465576,
          0.6232820749282837,
          0.5995944738388062
         ],
         "yaxis": "y"
        },
        {
         "hovertemplate": "Country name=Iraq<br>Life Ladder=%{x}<br>Freedom to make life choices=%{y}<extra></extra>",
         "legendgroup": "Iraq",
         "marker": {
          "color": "#FF6692",
          "symbol": "circle"
         },
         "mode": "markers",
         "name": "Iraq",
         "showlegend": true,
         "type": "scattergl",
         "x": [
          4.589844703674316,
          4.7753167152404785,
          5.065462112426758,
          4.725366115570068,
          4.65950870513916,
          4.725017070770264,
          4.541502475738525,
          4.493377208709717,
          4.412537097930908,
          4.462399005889893,
          4.8864006996154785,
          4.785165309906006
         ],
         "xaxis": "x",
         "y": [
          0.3857693672180176,
          0.43146762251853943,
          0.41906410455703735,
          0.3474140465259552,
          0.31456461548805237,
          null,
          0.6460065841674805,
          0.5994599461555481,
          0.6661601662635803,
          0.6277220249176025,
          0.5978227853775024,
          0.7002145648002625
         ],
         "yaxis": "y"
        },
        {
         "hovertemplate": "Country name=Ireland<br>Life Ladder=%{x}<br>Freedom to make life choices=%{y}<extra></extra>",
         "legendgroup": "Ireland",
         "marker": {
          "color": "#B6E880",
          "symbol": "circle"
         },
         "mode": "markers",
         "name": "Ireland",
         "showlegend": true,
         "type": "scattergl",
         "x": [
          7.144246578216553,
          7.568029880523682,
          7.0459113121032715,
          7.257389545440674,
          7.006904125213623,
          6.9646453857421875,
          6.760085105895996,
          7.018379211425781,
          6.830125331878662,
          7.040731430053711,
          7.060155391693115,
          6.962335586547852,
          7.254841327667236,
          7.03493070602417
         ],
         "xaxis": "x",
         "y": [
          0.943274736404419,
          0.8941087126731873,
          0.8347296714782715,
          0.8560295701026917,
          0.9520343542098999,
          0.9021945595741272,
          0.8837720155715942,
          0.9216295480728149,
          0.89227694272995,
          0.8745891451835632,
          0.9053411483764648,
          0.8614715933799744,
          0.8924586772918701,
          0.8820982575416565
         ],
         "yaxis": "y"
        },
        {
         "hovertemplate": "Country name=Israel<br>Life Ladder=%{x}<br>Freedom to make life choices=%{y}<extra></extra>",
         "legendgroup": "Israel",
         "marker": {
          "color": "#FF97FF",
          "symbol": "circle"
         },
         "mode": "markers",
         "name": "Israel",
         "showlegend": true,
         "type": "scattergl",
         "x": [
          7.173417091369629,
          6.8411149978637695,
          7.261261463165283,
          7.3529791831970215,
          7.358916282653809,
          7.43314790725708,
          7.110854625701904,
          7.320563316345215,
          7.400570392608643,
          7.079411029815674,
          7.159010887145996,
          7.33103609085083,
          6.927178859710693,
          7.331779956817627,
          7.194928169250488
         ],
         "xaxis": "x",
         "y": [
          0.8166528344154358,
          0.6828640699386597,
          0.662969172000885,
          0.5925297737121582,
          0.5614778995513916,
          0.7222692370414734,
          0.681439220905304,
          0.7390016317367554,
          0.7069746255874634,
          0.7527839541435242,
          0.7722973227500916,
          0.7680763006210327,
          0.7246623039245605,
          0.8344919085502625,
          0.831315815448761
         ],
         "yaxis": "y"
        },
        {
         "hovertemplate": "Country name=Italy<br>Life Ladder=%{x}<br>Freedom to make life choices=%{y}<extra></extra>",
         "legendgroup": "Italy",
         "marker": {
          "color": "#FECB52",
          "symbol": "circle"
         },
         "mode": "markers",
         "name": "Italy",
         "showlegend": true,
         "type": "scattergl",
         "x": [
          6.85378360748291,
          6.5744123458862305,
          6.779774188995361,
          6.333800315856934,
          6.354238033294678,
          6.05708646774292,
          5.839313983917236,
          6.009373664855957,
          6.026585102081299,
          5.847683906555176,
          5.954524040222168,
          6.1988701820373535,
          6.516526699066162,
          6.4454169273376465,
          6.488356113433838
         ],
         "xaxis": "x",
         "y": [
          0.8021949529647827,
          0.6842970252037048,
          0.5430768728256226,
          0.7005504965782166,
          0.7377389073371887,
          0.56773841381073,
          0.5700949430465698,
          0.4991687536239624,
          0.6235312223434448,
          0.5747657418251038,
          0.623741626739502,
          0.6328432559967041,
          0.650009274482727,
          0.7094788551330566,
          0.7181554436683655
         ],
         "yaxis": "y"
        },
        {
         "hovertemplate": "Country name=Ivory Coast<br>Life Ladder=%{x}<br>Freedom to make life choices=%{y}<extra></extra>",
         "legendgroup": "Ivory Coast",
         "marker": {
          "color": "#636efa",
          "symbol": "circle"
         },
         "mode": "markers",
         "name": "Ivory Coast",
         "showlegend": true,
         "type": "scattergl",
         "x": [
          4.197181701660156,
          3.739365577697754,
          3.570368528366089,
          4.445038795471191,
          4.542545795440674,
          5.0377349853515625,
          5.268374919891357,
          5.392012119293213,
          5.256503582000732
         ],
         "xaxis": "x",
         "y": [
          0.7598621845245361,
          0.7391932606697083,
          0.7807731032371521,
          0.799745500087738,
          0.7687893509864807,
          0.7320979237556458,
          0.7125900387763977,
          0.7357119917869568,
          0.7699980139732361
         ],
         "yaxis": "y"
        },
        {
         "hovertemplate": "Country name=Jamaica<br>Life Ladder=%{x}<br>Freedom to make life choices=%{y}<extra></extra>",
         "legendgroup": "Jamaica",
         "marker": {
          "color": "#EF553B",
          "symbol": "circle"
         },
         "mode": "markers",
         "name": "Jamaica",
         "showlegend": true,
         "type": "scattergl",
         "x": [
          6.207881927490234,
          5.374446392059326,
          5.708886623382568,
          5.3105387687683105,
          5.889759063720703,
          6.309238910675049
         ],
         "xaxis": "x",
         "y": [
          0.7382360696792603,
          0.7956135272979736,
          0.7931949496269226,
          0.8089731335639954,
          0.8606763482093811,
          0.8906708359718323
         ],
         "yaxis": "y"
        },
        {
         "hovertemplate": "Country name=Japan<br>Life Ladder=%{x}<br>Freedom to make life choices=%{y}<extra></extra>",
         "legendgroup": "Japan",
         "marker": {
          "color": "#00cc96",
          "symbol": "circle"
         },
         "mode": "markers",
         "name": "Japan",
         "showlegend": true,
         "type": "scattergl",
         "x": [
          6.515817165374756,
          6.2381978034973145,
          5.910679340362549,
          5.844999313354492,
          6.056752681732178,
          6.26279354095459,
          5.968216419219971,
          5.959361553192139,
          5.92262077331543,
          5.8796844482421875,
          5.95465087890625,
          5.9106764793396,
          5.793575286865234,
          5.908039093017578,
          6.1179633140563965
         ],
         "xaxis": "x",
         "y": [
          0.8677792549133301,
          0.7960541248321533,
          0.772070050239563,
          0.7298880219459534,
          0.7717223763465881,
          0.8143964409828186,
          0.7528315186500549,
          0.8214165568351746,
          0.8380517363548279,
          0.8316941857337952,
          0.8360646367073059,
          0.8493965864181519,
          0.7734721302986145,
          0.8064715266227722,
          0.806036114692688
         ],
         "yaxis": "y"
        },
        {
         "hovertemplate": "Country name=Jordan<br>Life Ladder=%{x}<br>Freedom to make life choices=%{y}<extra></extra>",
         "legendgroup": "Jordan",
         "marker": {
          "color": "#ab63fa",
          "symbol": "circle"
         },
         "mode": "markers",
         "name": "Jordan",
         "showlegend": true,
         "type": "scattergl",
         "x": [
          6.2946600914001465,
          5.598057270050049,
          4.930058002471924,
          5.99985933303833,
          5.569942474365234,
          5.539327621459961,
          5.131996154785156,
          5.171952724456787,
          5.333021640777588,
          5.404593467712402,
          5.271284580230713,
          4.808082580566406,
          4.6389336585998535,
          4.452548027038574,
          4.093991756439209
         ],
         "xaxis": "x",
         "y": [
          null,
          0.6460791230201721,
          null,
          0.7709536552429199,
          0.7880731225013733,
          0.7595645189285278,
          0.6931421160697937,
          0.6922270059585571,
          0.7287431955337524,
          0.7665170431137085,
          0.771350622177124,
          0.7662624716758728,
          0.7624202966690063,
          0.7257558107376099,
          0.7785334587097168
         ],
         "yaxis": "y"
        },
        {
         "hovertemplate": "Country name=Kazakhstan<br>Life Ladder=%{x}<br>Freedom to make life choices=%{y}<extra></extra>",
         "legendgroup": "Kazakhstan",
         "marker": {
          "color": "#FFA15A",
          "symbol": "circle"
         },
         "mode": "markers",
         "name": "Kazakhstan",
         "showlegend": true,
         "type": "scattergl",
         "x": [
          5.475948333740234,
          5.71855354309082,
          5.886419773101807,
          5.38256311416626,
          5.514286518096924,
          5.735662937164307,
          5.759469509124756,
          5.835483074188232,
          5.970097541809082,
          5.949995040893555,
          5.5335516929626465,
          5.882351398468018,
          6.007636070251465,
          6.272268295288086,
          6.168269157409668
         ],
         "xaxis": "x",
         "y": [
          0.7305459380149841,
          0.8062996864318848,
          0.7265836596488953,
          0.8564482927322388,
          0.7848518490791321,
          0.8778880834579468,
          0.8398323059082031,
          0.7815910577774048,
          0.7994629740715027,
          0.7401328086853027,
          0.7828055620193481,
          0.7452439665794373,
          0.8401829600334167,
          0.8523874282836914,
          0.8721001148223877
         ],
         "yaxis": "y"
        },
        {
         "hovertemplate": "Country name=Kenya<br>Life Ladder=%{x}<br>Freedom to make life choices=%{y}<extra></extra>",
         "legendgroup": "Kenya",
         "marker": {
          "color": "#19d3f3",
          "symbol": "circle"
         },
         "mode": "markers",
         "name": "Kenya",
         "showlegend": true,
         "type": "scattergl",
         "x": [
          4.223234176635742,
          4.575657844543457,
          4.015274524688721,
          4.270434856414795,
          4.255859375,
          4.405310153961182,
          4.547335147857666,
          3.7953832149505615,
          4.9045796394348145,
          4.3576178550720215,
          4.396127700805664,
          4.475654125213623,
          4.655702590942383,
          4.618850231170654,
          4.546584129333496
         ],
         "xaxis": "x",
         "y": [
          0.6158861517906189,
          0.7498422861099243,
          0.6202957630157471,
          0.5835947394371033,
          0.6354572176933289,
          0.7086591720581055,
          0.6276541948318481,
          0.7083322405815125,
          0.819018542766571,
          0.7929903268814087,
          0.7485082745552063,
          0.8533943891525269,
          0.821412980556488,
          0.8177574872970581,
          0.7020344734191895
         ],
         "yaxis": "y"
        },
        {
         "hovertemplate": "Country name=Kosovo<br>Life Ladder=%{x}<br>Freedom to make life choices=%{y}<extra></extra>",
         "legendgroup": "Kosovo",
         "marker": {
          "color": "#FF6692",
          "symbol": "circle"
         },
         "mode": "markers",
         "name": "Kosovo",
         "showlegend": true,
         "type": "scattergl",
         "x": [
          5.103906154632568,
          5.521659851074219,
          5.891432762145996,
          5.176601409912109,
          4.859501838684082,
          5.639588356018066,
          6.125758171081543,
          5.000375270843506,
          5.077460765838623,
          5.7594122886657715,
          6.149199962615967,
          6.3918256759643555,
          6.425144195556641,
          6.294414043426514
         ],
         "xaxis": "x",
         "y": [
          0.3813638389110565,
          null,
          0.506415069103241,
          0.45144379138946533,
          0.5889787673950195,
          0.6357933878898621,
          0.568463146686554,
          0.4413912296295166,
          0.5610482692718506,
          0.8273985981941223,
          0.8576767444610596,
          0.8897370100021362,
          0.8411896228790283,
          0.8798375725746155
         ],
         "yaxis": "y"
        },
        {
         "hovertemplate": "Country name=Kuwait<br>Life Ladder=%{x}<br>Freedom to make life choices=%{y}<extra></extra>",
         "legendgroup": "Kuwait",
         "marker": {
          "color": "#B6E880",
          "symbol": "circle"
         },
         "mode": "markers",
         "name": "Kuwait",
         "showlegend": true,
         "type": "scattergl",
         "x": [
          6.075547218322754,
          6.5852460861206055,
          6.798151016235352,
          6.377699375152588,
          6.221094608306885,
          6.4800310134887695,
          6.18013858795166,
          6.146031856536865,
          5.947194576263428,
          6.093905448913574,
          6.106119632720947
         ],
         "xaxis": "x",
         "y": [
          0.769072413444519,
          0.8187810182571411,
          0.7030197381973267,
          0.768603503704071,
          0.9340495467185974,
          0.7505248785018921,
          null,
          0.821662425994873,
          0.8409671783447266,
          0.8841816186904907,
          0.8672738075256348
         ],
         "yaxis": "y"
        },
        {
         "hovertemplate": "Country name=Kyrgyzstan<br>Life Ladder=%{x}<br>Freedom to make life choices=%{y}<extra></extra>",
         "legendgroup": "Kyrgyzstan",
         "marker": {
          "color": "#FF97FF",
          "symbol": "circle"
         },
         "mode": "markers",
         "name": "Kyrgyzstan",
         "showlegend": true,
         "type": "scattergl",
         "x": [
          4.641398906707764,
          4.697761535644531,
          4.736588001251221,
          5.069053649902344,
          4.996410846710205,
          4.921049118041992,
          5.207785606384277,
          5.402426719665527,
          5.252192974090576,
          4.905375957489014,
          4.856534004211426,
          5.6295366287231445,
          5.2973833084106445,
          5.685220718383789,
          6.24958610534668
         ],
         "xaxis": "x",
         "y": [
          0.6775716543197632,
          0.6835231184959412,
          0.7190293669700623,
          0.698919951915741,
          0.7200511693954468,
          0.7478084564208984,
          0.7027316689491272,
          0.7550366520881653,
          0.7362900972366333,
          0.8131758570671082,
          0.8139392137527466,
          0.8593897819519043,
          0.9449476599693298,
          0.9204362630844116,
          0.9348853230476379
         ],
         "yaxis": "y"
        },
        {
         "hovertemplate": "Country name=Laos<br>Life Ladder=%{x}<br>Freedom to make life choices=%{y}<extra></extra>",
         "legendgroup": "Laos",
         "marker": {
          "color": "#FECB52",
          "symbol": "circle"
         },
         "mode": "markers",
         "name": "Laos",
         "showlegend": true,
         "type": "scattergl",
         "x": [
          5.076225757598877,
          5.363854885101318,
          5.044098854064941,
          4.703749656677246,
          4.876084804534912,
          4.623140811920166,
          4.859402179718018,
          5.1968560218811035,
          5.284390926361084
         ],
         "xaxis": "x",
         "y": [
          0.9250821471214294,
          0.866524875164032,
          0.8862138986587524,
          0.8816338181495667,
          null,
          0.8910007476806641,
          0.9066609740257263,
          0.9061534404754639,
          0.9150282144546509
         ],
         "yaxis": "y"
        },
        {
         "hovertemplate": "Country name=Latvia<br>Life Ladder=%{x}<br>Freedom to make life choices=%{y}<extra></extra>",
         "legendgroup": "Latvia",
         "marker": {
          "color": "#636efa",
          "symbol": "circle"
         },
         "mode": "markers",
         "name": "Latvia",
         "showlegend": true,
         "type": "scattergl",
         "x": [
          4.709502220153809,
          4.666971683502197,
          5.1453752517700195,
          4.668910503387451,
          4.966811656951904,
          5.125025272369385,
          5.069770336151123,
          5.7291154861450195,
          5.8805975914001465,
          5.940446376800537,
          5.977817535400391,
          5.901154041290283,
          5.969753742218018,
          6.229008674621582
         ],
         "xaxis": "x",
         "y": [
          0.6408071517944336,
          0.70017409324646,
          0.6301114559173584,
          0.4370645582675934,
          0.5644644498825073,
          0.5638117790222168,
          0.6305075287818909,
          0.6706531643867493,
          0.6563931703567505,
          0.685299277305603,
          0.6995201110839844,
          0.608207643032074,
          0.6979351043701172,
          0.8201116919517517
         ],
         "yaxis": "y"
        },
        {
         "hovertemplate": "Country name=Lebanon<br>Life Ladder=%{x}<br>Freedom to make life choices=%{y}<extra></extra>",
         "legendgroup": "Lebanon",
         "marker": {
          "color": "#EF553B",
          "symbol": "circle"
         },
         "mode": "markers",
         "name": "Lebanon",
         "showlegend": true,
         "type": "scattergl",
         "x": [
          5.491245269775391,
          4.653103828430176,
          4.594851016998291,
          5.20599889755249,
          5.031899452209473,
          5.1875715255737305,
          4.572566986083984,
          4.983288764953613,
          5.233025550842285,
          5.171971321105957,
          5.270723819732666,
          5.153989791870117,
          5.167186737060547,
          4.024219512939453
         ],
         "xaxis": "x",
         "y": [
          0.7032058238983154,
          0.6701935529708862,
          0.5240625143051147,
          0.6647338271141052,
          0.6776387095451355,
          0.6571060419082642,
          0.6206271648406982,
          0.6548683047294617,
          0.6572079658508301,
          0.5967497825622559,
          0.6573574542999268,
          0.6045541763305664,
          0.6070306897163391,
          0.44700148701667786
         ],
         "yaxis": "y"
        },
        {
         "hovertemplate": "Country name=Lesotho<br>Life Ladder=%{x}<br>Freedom to make life choices=%{y}<extra></extra>",
         "legendgroup": "Lesotho",
         "marker": {
          "color": "#00cc96",
          "symbol": "circle"
         },
         "mode": "markers",
         "name": "Lesotho",
         "showlegend": true,
         "type": "scattergl",
         "x": [
          4.897514820098877,
          3.8082048892974854,
          3.7953007221221924,
          3.5117805004119873
         ],
         "xaxis": "x",
         "y": [
          0.6182597279548645,
          0.7294898629188538,
          0.7565051913261414,
          0.7163135409355164
         ],
         "yaxis": "y"
        },
        {
         "hovertemplate": "Country name=Liberia<br>Life Ladder=%{x}<br>Freedom to make life choices=%{y}<extra></extra>",
         "legendgroup": "Liberia",
         "marker": {
          "color": "#ab63fa",
          "symbol": "circle"
         },
         "mode": "markers",
         "name": "Liberia",
         "showlegend": true,
         "type": "scattergl",
         "x": [
          3.7014012336730957,
          4.221354007720947,
          4.196063041687012,
          4.5714192390441895,
          2.7015912532806396,
          3.3546760082244873,
          4.424490928649902,
          4.134852886199951,
          5.121460914611816
         ],
         "xaxis": "x",
         "y": [
          0.790374219417572,
          0.7240827679634094,
          0.8190053701400757,
          0.5904508829116821,
          0.6714308857917786,
          0.7634760141372681,
          0.7333899140357971,
          0.7657695412635803,
          0.7058745622634888
         ],
         "yaxis": "y"
        },
        {
         "hovertemplate": "Country name=Libya<br>Life Ladder=%{x}<br>Freedom to make life choices=%{y}<extra></extra>",
         "legendgroup": "Libya",
         "marker": {
          "color": "#FFA15A",
          "symbol": "circle"
         },
         "mode": "markers",
         "name": "Libya",
         "showlegend": true,
         "type": "scattergl",
         "x": [
          5.754394054412842,
          5.6154046058654785,
          5.4335832595825195,
          5.646852493286133,
          5.4939775466918945,
          5.330222129821777
         ],
         "xaxis": "x",
         "y": [
          0.7115188837051392,
          0.7745449542999268,
          0.8223848342895508,
          0.7786958813667297,
          0.7805585265159607,
          0.7619643211364746
         ],
         "yaxis": "y"
        },
        {
         "hovertemplate": "Country name=Lithuania<br>Life Ladder=%{x}<br>Freedom to make life choices=%{y}<extra></extra>",
         "legendgroup": "Lithuania",
         "marker": {
          "color": "#19d3f3",
          "symbol": "circle"
         },
         "mode": "markers",
         "name": "Lithuania",
         "showlegend": true,
         "type": "scattergl",
         "x": [
          5.954442977905273,
          5.808284759521484,
          5.55392599105835,
          5.466920852661133,
          5.06582498550415,
          5.432437419891357,
          5.7710371017456055,
          5.595689296722412,
          6.125723838806152,
          5.71137809753418,
          5.8655524253845215,
          6.272940635681152,
          6.3088788986206055,
          6.064097881317139,
          6.391378879547119
         ],
         "xaxis": "x",
         "y": [
          0.5672546029090881,
          0.5896623134613037,
          0.6210600733757019,
          0.49595579504966736,
          0.5193522572517395,
          0.5657972693443298,
          0.5030271410942078,
          0.5558152794837952,
          0.5079472064971924,
          0.641470193862915,
          0.6142393350601196,
          0.7493073344230652,
          0.6989451050758362,
          0.7802664637565613,
          0.8240605592727661
         ],
         "yaxis": "y"
        },
        {
         "hovertemplate": "Country name=Luxembourg<br>Life Ladder=%{x}<br>Freedom to make life choices=%{y}<extra></extra>",
         "legendgroup": "Luxembourg",
         "marker": {
          "color": "#FF6692",
          "symbol": "circle"
         },
         "mode": "markers",
         "name": "Luxembourg",
         "showlegend": true,
         "type": "scattergl",
         "x": [
          6.957920074462891,
          7.097251892089844,
          7.101400375366211,
          6.964097023010254,
          7.130809307098389,
          6.891127109527588,
          6.701571464538574,
          6.96734094619751,
          7.061380863189697,
          7.242630958557129,
          7.40401554107666
         ],
         "xaxis": "x",
         "y": [
          0.9391016960144043,
          0.9083030819892883,
          0.961830735206604,
          0.9165209531784058,
          0.7896554470062256,
          0.9379876852035522,
          0.9322564005851746,
          0.882365345954895,
          0.9028217196464539,
          0.8839298486709595,
          0.930321216583252
         ],
         "yaxis": "y"
        },
        {
         "hovertemplate": "Country name=Madagascar<br>Life Ladder=%{x}<br>Freedom to make life choices=%{y}<extra></extra>",
         "legendgroup": "Madagascar",
         "marker": {
          "color": "#B6E880",
          "symbol": "circle"
         },
         "mode": "markers",
         "name": "Madagascar",
         "showlegend": true,
         "type": "scattergl",
         "x": [
          3.9797513484954834,
          4.640079021453857,
          4.381415367126465,
          3.550609588623047,
          3.8156070709228516,
          3.6756269931793213,
          3.5925140380859375,
          3.6630859375,
          4.078620433807373,
          4.070586681365967,
          4.33908748626709
         ],
         "xaxis": "x",
         "y": [
          null,
          0.33243611454963684,
          0.545555591583252,
          0.48700788617134094,
          0.47955039143562317,
          0.5288050174713135,
          0.5447536110877991,
          0.5696454048156738,
          0.5703479051589966,
          0.551473081111908,
          0.5495352149009705
         ],
         "yaxis": "y"
        },
        {
         "hovertemplate": "Country name=Malawi<br>Life Ladder=%{x}<br>Freedom to make life choices=%{y}<extra></extra>",
         "legendgroup": "Malawi",
         "marker": {
          "color": "#FF97FF",
          "symbol": "circle"
         },
         "mode": "markers",
         "name": "Malawi",
         "showlegend": true,
         "type": "scattergl",
         "x": [
          3.8298680782318115,
          4.891036510467529,
          5.148239612579346,
          3.9460625648498535,
          4.279269695281982,
          4.035084247589111,
          4.563080310821533,
          3.867638349533081,
          3.4764926433563232,
          3.416862964630127,
          3.3346335887908936,
          3.869123697280884
         ],
         "xaxis": "x",
         "y": [
          0.7671416401863098,
          0.9099938273429871,
          0.8791612386703491,
          0.7334638237953186,
          0.6373627185821533,
          0.7519952654838562,
          0.7857667207717896,
          0.8013907074928284,
          0.8098841309547424,
          0.8479207754135132,
          0.7989151477813721,
          0.7648642063140869
         ],
         "yaxis": "y"
        },
        {
         "hovertemplate": "Country name=Malaysia<br>Life Ladder=%{x}<br>Freedom to make life choices=%{y}<extra></extra>",
         "legendgroup": "Malaysia",
         "marker": {
          "color": "#FECB52",
          "symbol": "circle"
         },
         "mode": "markers",
         "name": "Malaysia",
         "showlegend": true,
         "type": "scattergl",
         "x": [
          6.011716842651367,
          6.2389044761657715,
          5.806781768798828,
          5.384701728820801,
          5.580281734466553,
          5.786367416381836,
          5.914283752441406,
          5.770199775695801,
          5.962921619415283,
          6.3221211433410645,
          5.338817596435547,
          5.427954196929932
         ],
         "xaxis": "x",
         "y": [
          0.8367657661437988,
          0.8436276316642761,
          0.7795659899711609,
          0.8743197917938232,
          0.7691906690597534,
          0.840359091758728,
          0.848071813583374,
          0.7913104295730591,
          0.808384358882904,
          0.6745944619178772,
          0.8745482563972473,
          0.9157786965370178
         ],
         "yaxis": "y"
        },
        {
         "hovertemplate": "Country name=Maldives<br>Life Ladder=%{x}<br>Freedom to make life choices=%{y}<extra></extra>",
         "legendgroup": "Maldives",
         "marker": {
          "color": "#636efa",
          "symbol": "circle"
         },
         "mode": "markers",
         "name": "Maldives",
         "showlegend": true,
         "type": "scattergl",
         "x": [
          5.197574615478516
         ],
         "xaxis": "x",
         "y": [
          0.8547592759132385
         ],
         "yaxis": "y"
        },
        {
         "hovertemplate": "Country name=Mali<br>Life Ladder=%{x}<br>Freedom to make life choices=%{y}<extra></extra>",
         "legendgroup": "Mali",
         "marker": {
          "color": "#EF553B",
          "symbol": "circle"
         },
         "mode": "markers",
         "name": "Mali",
         "showlegend": true,
         "type": "scattergl",
         "x": [
          4.014075756072998,
          4.114664077758789,
          3.9765985012054443,
          3.7623050212860107,
          4.66683292388916,
          4.313016891479492,
          3.6762771606445312,
          3.9747142791748047,
          4.582098484039307,
          4.016027927398682,
          4.74185037612915,
          4.415729522705078,
          4.987991809844971
         ],
         "xaxis": "x",
         "y": [
          0.5550756454467773,
          0.4948400557041168,
          0.6338159441947937,
          0.749049723148346,
          0.8228476047515869,
          0.7042192816734314,
          0.664711058139801,
          0.6515138745307922,
          0.6337535381317139,
          0.6960073709487915,
          0.7532133460044861,
          0.7372045516967773,
          0.6704050898551941
         ],
         "yaxis": "y"
        },
        {
         "hovertemplate": "Country name=Malta<br>Life Ladder=%{x}<br>Freedom to make life choices=%{y}<extra></extra>",
         "legendgroup": "Malta",
         "marker": {
          "color": "#00cc96",
          "symbol": "circle"
         },
         "mode": "markers",
         "name": "Malta",
         "showlegend": true,
         "type": "scattergl",
         "x": [
          6.327639579772949,
          5.773874759674072,
          6.154718399047852,
          5.96287202835083,
          6.379924774169922,
          6.452117919921875,
          6.613394260406494,
          6.590842247009277,
          6.675665855407715,
          6.909710884094238,
          6.732977390289307,
          6.156822681427002
         ],
         "xaxis": "x",
         "y": [
          0.8031798005104065,
          0.8020443916320801,
          0.8819218277931213,
          0.8606898784637451,
          0.9094362854957581,
          0.9039366245269775,
          0.9121780395507812,
          0.9160236120223999,
          0.9236429333686829,
          0.9273406863212585,
          0.9239668250083923,
          0.9306004643440247
         ],
         "yaxis": "y"
        },
        {
         "hovertemplate": "Country name=Mauritania<br>Life Ladder=%{x}<br>Freedom to make life choices=%{y}<extra></extra>",
         "legendgroup": "Mauritania",
         "marker": {
          "color": "#ab63fa",
          "symbol": "circle"
         },
         "mode": "markers",
         "name": "Mauritania",
         "showlegend": true,
         "type": "scattergl",
         "x": [
          4.149043083190918,
          4.248075008392334,
          4.500431537628174,
          4.7723069190979,
          4.784804344177246,
          4.673203945159912,
          4.199015140533447,
          4.482805252075195,
          3.922664165496826,
          4.47214937210083,
          4.678159713745117,
          4.313615322113037,
          4.152619361877441
         ],
         "xaxis": "x",
         "y": [
          0.5728883743286133,
          0.5932648777961731,
          0.7350711822509766,
          0.6689305901527405,
          0.5669202208518982,
          0.4873727560043335,
          0.6028002500534058,
          0.4683181345462799,
          0.4470865726470947,
          0.4665614664554596,
          0.5274468064308167,
          0.46688854694366455,
          0.6275051832199097
         ],
         "yaxis": "y"
        },
        {
         "hovertemplate": "Country name=Mauritius<br>Life Ladder=%{x}<br>Freedom to make life choices=%{y}<extra></extra>",
         "legendgroup": "Mauritius",
         "marker": {
          "color": "#FFA15A",
          "symbol": "circle"
         },
         "mode": "markers",
         "name": "Mauritius",
         "showlegend": true,
         "type": "scattergl",
         "x": [
          5.4770731925964355,
          5.647779941558838,
          5.610003471374512,
          6.174117565155029,
          5.881740570068359,
          6.2411651611328125,
          6.015300273895264
         ],
         "xaxis": "x",
         "y": [
          0.8481937646865845,
          0.8242303133010864,
          0.819175660610199,
          0.9123075008392334,
          0.8669281005859375,
          0.8931578993797302,
          0.8425980806350708
         ],
         "yaxis": "y"
        },
        {
         "hovertemplate": "Country name=Mexico<br>Life Ladder=%{x}<br>Freedom to make life choices=%{y}<extra></extra>",
         "legendgroup": "Mexico",
         "marker": {
          "color": "#19d3f3",
          "symbol": "circle"
         },
         "mode": "markers",
         "name": "Mexico",
         "showlegend": true,
         "type": "scattergl",
         "x": [
          6.580657958984375,
          6.525378227233887,
          6.829036235809326,
          6.9628190994262695,
          6.802388668060303,
          6.909515380859375,
          7.32018518447876,
          7.442546367645264,
          6.679831027984619,
          6.2362871170043945,
          6.8241729736328125,
          6.410299301147461,
          6.549578666687012,
          6.431945323944092,
          5.964221000671387
         ],
         "xaxis": "x",
         "y": [
          0.8137454986572266,
          0.6704303622245789,
          0.6774773001670837,
          0.6824634075164795,
          0.778120756149292,
          0.831368088722229,
          0.7877683043479919,
          0.7387166619300842,
          0.7791329026222229,
          0.719465970993042,
          0.7516130805015564,
          0.8614051342010498,
          0.8162004947662354,
          0.9033844470977783,
          0.8733469843864441
         ],
         "yaxis": "y"
        },
        {
         "hovertemplate": "Country name=Moldova<br>Life Ladder=%{x}<br>Freedom to make life choices=%{y}<extra></extra>",
         "legendgroup": "Moldova",
         "marker": {
          "color": "#FF6692",
          "symbol": "circle"
         },
         "mode": "markers",
         "name": "Moldova",
         "showlegend": true,
         "type": "scattergl",
         "x": [
          5.102071285247803,
          4.774918079376221,
          5.502756118774414,
          5.5543742179870605,
          5.589736461639404,
          5.792262554168701,
          5.995712757110596,
          5.756059169769287,
          5.91705846786499,
          6.017472267150879,
          5.577784061431885,
          5.325530529022217,
          5.682277202606201,
          5.803450584411621,
          5.811628818511963
         ],
         "xaxis": "x",
         "y": [
          0.554478108882904,
          0.6961949467658997,
          0.6406171321868896,
          0.5508586168289185,
          0.5984848141670227,
          0.6280227899551392,
          0.6024185419082642,
          0.6577342748641968,
          0.6231862306594849,
          0.5952414274215698,
          0.5573694705963135,
          0.5528252124786377,
          0.8238243460655212,
          0.7836645841598511,
          0.8590832352638245
         ],
         "yaxis": "y"
        },
        {
         "hovertemplate": "Country name=Mongolia<br>Life Ladder=%{x}<br>Freedom to make life choices=%{y}<extra></extra>",
         "legendgroup": "Mongolia",
         "marker": {
          "color": "#B6E880",
          "symbol": "circle"
         },
         "mode": "markers",
         "name": "Mongolia",
         "showlegend": true,
         "type": "scattergl",
         "x": [
          4.6090593338012695,
          4.4930100440979,
          4.58552360534668,
          5.0311737060546875,
          4.88515043258667,
          4.912928104400635,
          4.824834823608398,
          4.982719898223877,
          5.056999683380127,
          5.333850383758545,
          5.464622974395752,
          5.562905311584473,
          6.011364936828613
         ],
         "xaxis": "x",
         "y": [
          0.7813326716423035,
          0.4840814173221588,
          0.6309666037559509,
          0.7003456950187683,
          0.6883116960525513,
          0.7480140328407288,
          0.7523541450500488,
          0.6855107545852661,
          0.759740948677063,
          0.674627423286438,
          0.6955468058586121,
          0.7106751799583435,
          0.7184910178184509
         ],
         "yaxis": "y"
        },
        {
         "hovertemplate": "Country name=Montenegro<br>Life Ladder=%{x}<br>Freedom to make life choices=%{y}<extra></extra>",
         "legendgroup": "Montenegro",
         "marker": {
          "color": "#FF97FF",
          "symbol": "circle"
         },
         "mode": "markers",
         "name": "Montenegro",
         "showlegend": true,
         "type": "scattergl",
         "x": [
          5.196315288543701,
          4.801060199737549,
          5.45503044128418,
          5.223116874694824,
          5.218724250793457,
          5.074341773986816,
          5.282720565795898,
          5.1249213218688965,
          5.304066181182861,
          5.614798545837402,
          5.6501898765563965,
          5.3860249519348145,
          5.72216272354126
         ],
         "xaxis": "x",
         "y": [
          0.5120672583580017,
          0.5563655495643616,
          0.5521036982536316,
          0.5460813641548157,
          0.46170637011528015,
          0.5022649765014648,
          0.5026655197143555,
          0.5833173394203186,
          0.5686336755752563,
          0.6259062886238098,
          0.6264312863349915,
          0.6941624879837036,
          0.8018550872802734
         ],
         "yaxis": "y"
        },
        {
         "hovertemplate": "Country name=Morocco<br>Life Ladder=%{x}<br>Freedom to make life choices=%{y}<extra></extra>",
         "legendgroup": "Morocco",
         "marker": {
          "color": "#FECB52",
          "symbol": "circle"
         },
         "mode": "markers",
         "name": "Morocco",
         "showlegend": true,
         "type": "scattergl",
         "x": [
          4.383247375488281,
          5.084972858428955,
          4.969656467437744,
          5.142160415649414,
          5.163156986236572,
          5.386307239532471,
          5.312482833862305,
          4.896791934967041,
          5.056751728057861,
          4.80261754989624
         ],
         "xaxis": "x",
         "y": [
          0.6629003882408142,
          0.5789307355880737,
          0.7567846179008484,
          0.5716299414634705,
          0.7129334211349487,
          0.8165560960769653,
          0.8142580389976501,
          0.7731804251670837,
          0.756747841835022,
          0.8189952373504639
         ],
         "yaxis": "y"
        },
        {
         "hovertemplate": "Country name=Mozambique<br>Life Ladder=%{x}<br>Freedom to make life choices=%{y}<extra></extra>",
         "legendgroup": "Mozambique",
         "marker": {
          "color": "#636efa",
          "symbol": "circle"
         },
         "mode": "markers",
         "name": "Mozambique",
         "showlegend": true,
         "type": "scattergl",
         "x": [
          4.594879627227783,
          4.832634925842285,
          4.65358304977417,
          4.97111177444458,
          4.54976749420166,
          4.279863357543945,
          4.653713703155518,
          4.932132720947266
         ],
         "xaxis": "x",
         "y": [
          0.6841492056846619,
          0.6430618166923523,
          0.5144374966621399,
          0.6392068266868591,
          0.8132292628288269,
          0.8226705193519592,
          0.896621584892273,
          0.8698102235794067
         ],
         "yaxis": "y"
        },
        {
         "hovertemplate": "Country name=Myanmar<br>Life Ladder=%{x}<br>Freedom to make life choices=%{y}<extra></extra>",
         "legendgroup": "Myanmar",
         "marker": {
          "color": "#EF553B",
          "symbol": "circle"
         },
         "mode": "markers",
         "name": "Myanmar",
         "showlegend": true,
         "type": "scattergl",
         "x": [
          4.438939571380615,
          4.175670623779297,
          4.786247253417969,
          4.223846435546875,
          4.623119831085205,
          4.154341697692871,
          4.410633087158203,
          4.434237480163574,
          4.431364059448242
         ],
         "xaxis": "x",
         "y": [
          0.6910942792892456,
          0.7754476070404053,
          null,
          0.8079710602760315,
          0.8774911761283875,
          0.8860118389129639,
          0.9061108231544495,
          0.899064302444458,
          0.8248707056045532
         ],
         "yaxis": "y"
        },
        {
         "hovertemplate": "Country name=Namibia<br>Life Ladder=%{x}<br>Freedom to make life choices=%{y}<extra></extra>",
         "legendgroup": "Namibia",
         "marker": {
          "color": "#00cc96",
          "symbol": "circle"
         },
         "mode": "markers",
         "name": "Namibia",
         "showlegend": true,
         "type": "scattergl",
         "x": [
          4.885587215423584,
          4.573991298675537,
          4.441306114196777,
          4.83408784866333,
          4.4358110427856445,
          4.451010227203369
         ],
         "xaxis": "x",
         "y": [
          0.7810404896736145,
          0.8493549823760986,
          0.8104018568992615,
          0.7539047598838806,
          0.7390345335006714,
          0.6656819581985474
         ],
         "yaxis": "y"
        },
        {
         "hovertemplate": "Country name=Nepal<br>Life Ladder=%{x}<br>Freedom to make life choices=%{y}<extra></extra>",
         "legendgroup": "Nepal",
         "marker": {
          "color": "#ab63fa",
          "symbol": "circle"
         },
         "mode": "markers",
         "name": "Nepal",
         "showlegend": true,
         "type": "scattergl",
         "x": [
          4.56659460067749,
          4.748284339904785,
          4.440526485443115,
          4.916868209838867,
          4.349675178527832,
          3.8094446659088135,
          4.233244895935059,
          4.604576587677002,
          4.975014686584473,
          4.812436580657959,
          5.099539756774902,
          4.736692428588867,
          4.910086631774902,
          5.448724746704102
         ],
         "xaxis": "x",
         "y": [
          0.6892958283424377,
          0.4133208394050598,
          0.6176047921180725,
          0.6161537766456604,
          0.5190626382827759,
          0.5247976779937744,
          0.6377784013748169,
          0.7222657799720764,
          0.7118776440620422,
          0.7634472250938416,
          0.8394884467124939,
          0.8451476097106934,
          0.7700936794281006,
          0.790347695350647
         ],
         "yaxis": "y"
        },
        {
         "hovertemplate": "Country name=Netherlands<br>Life Ladder=%{x}<br>Freedom to make life choices=%{y}<extra></extra>",
         "legendgroup": "Netherlands",
         "marker": {
          "color": "#FFA15A",
          "symbol": "circle"
         },
         "mode": "markers",
         "name": "Netherlands",
         "showlegend": true,
         "type": "scattergl",
         "x": [
          7.463979244232178,
          7.451879501342773,
          7.631011962890625,
          7.501875877380371,
          7.563797950744629,
          7.470715522766113,
          7.406550407409668,
          7.321188449859619,
          7.324437141418457,
          7.540877342224121,
          7.458965301513672,
          7.463097095489502,
          7.425268650054932,
          7.504447937011719
         ],
         "xaxis": "x",
         "y": [
          0.9010077714920044,
          0.8960180878639221,
          0.883287250995636,
          0.9214482307434082,
          0.9254315495491028,
          0.8771186470985413,
          0.9189958572387695,
          0.910179615020752,
          0.9039787650108337,
          0.9073100090026855,
          0.9203197360038757,
          0.9199851751327515,
          0.885592520236969,
          0.9345226287841797
         ],
         "yaxis": "y"
        },
        {
         "hovertemplate": "Country name=New Zealand<br>Life Ladder=%{x}<br>Freedom to make life choices=%{y}<extra></extra>",
         "legendgroup": "New Zealand",
         "marker": {
          "color": "#19d3f3",
          "symbol": "circle"
         },
         "mode": "markers",
         "name": "New Zealand",
         "showlegend": true,
         "type": "scattergl",
         "x": [
          7.305014133453369,
          7.604173183441162,
          7.381170749664307,
          7.223756313323975,
          7.190638065338135,
          7.249629974365234,
          7.280151844024658,
          7.305892467498779,
          7.418120861053467,
          7.2256879806518555,
          7.327182769775391,
          7.370285987854004,
          7.205174446105957,
          7.257381916046143
         ],
         "xaxis": "x",
         "y": [
          0.9320802688598633,
          0.8782188892364502,
          0.8930724859237671,
          0.9177525043487549,
          0.9347687363624573,
          0.901853084564209,
          0.9440004229545593,
          0.9318824410438538,
          0.9417842626571655,
          0.9265760183334351,
          0.9422794580459595,
          0.9493001699447632,
          0.9120423793792725,
          0.9181545972824097
         ],
         "yaxis": "y"
        },
        {
         "hovertemplate": "Country name=Nicaragua<br>Life Ladder=%{x}<br>Freedom to make life choices=%{y}<extra></extra>",
         "legendgroup": "Nicaragua",
         "marker": {
          "color": "#FF6692",
          "symbol": "circle"
         },
         "mode": "markers",
         "name": "Nicaragua",
         "showlegend": true,
         "type": "scattergl",
         "x": [
          4.460158348083496,
          4.944090843200684,
          5.103827476501465,
          5.352804660797119,
          5.686699390411377,
          5.385705471038818,
          5.4480061531066895,
          5.772274971008301,
          6.275266647338867,
          5.924112796783447,
          6.012739658355713,
          6.476356506347656,
          5.818952560424805,
          6.112545013427734
         ],
         "xaxis": "x",
         "y": [
          0.745456337928772,
          0.8355597257614136,
          0.7908310890197754,
          0.7460650205612183,
          0.7917733192443848,
          0.7785910367965698,
          0.850304901599884,
          0.8591490387916565,
          0.8173206448554993,
          0.8092591762542725,
          0.7165342569351196,
          0.9221627712249756,
          0.7970568537712097,
          0.8826784491539001
         ],
         "yaxis": "y"
        },
        {
         "hovertemplate": "Country name=Niger<br>Life Ladder=%{x}<br>Freedom to make life choices=%{y}<extra></extra>",
         "legendgroup": "Niger",
         "marker": {
          "color": "#B6E880",
          "symbol": "circle"
         },
         "mode": "markers",
         "name": "Niger",
         "showlegend": true,
         "type": "scattergl",
         "x": [
          3.7369518280029297,
          4.277402400970459,
          4.235657215118408,
          4.267169952392578,
          4.101016044616699,
          4.5558295249938965,
          3.798088312149048,
          3.71632981300354,
          4.180943489074707,
          3.6714537143707275,
          4.234645843505859,
          4.615673542022705,
          5.164007186889648,
          5.003544330596924
         ],
         "xaxis": "x",
         "y": [
          0.7503363490104675,
          0.584067165851593,
          0.64872807264328,
          0.8800421357154846,
          0.8172197341918945,
          0.779515266418457,
          0.7344309091567993,
          0.8253870606422424,
          0.687634289264679,
          0.7281283140182495,
          0.7019273042678833,
          0.6835575699806213,
          0.7906656265258789,
          0.8313618898391724
         ],
         "yaxis": "y"
        },
        {
         "hovertemplate": "Country name=Nigeria<br>Life Ladder=%{x}<br>Freedom to make life choices=%{y}<extra></extra>",
         "legendgroup": "Nigeria",
         "marker": {
          "color": "#FF97FF",
          "symbol": "circle"
         },
         "mode": "markers",
         "name": "Nigeria",
         "showlegend": true,
         "type": "scattergl",
         "x": [
          4.70974588394165,
          4.8904194831848145,
          4.938560485839844,
          4.980220317840576,
          4.760275840759277,
          5.492954254150391,
          4.817868709564209,
          4.932914733886719,
          5.219567775726318,
          5.321928024291992,
          5.252288341522217,
          4.356419086456299,
          5.50294828414917
         ],
         "xaxis": "x",
         "y": [
          0.6491397619247437,
          0.6350732445716858,
          0.5842215418815613,
          0.5367211103439331,
          0.5653510689735413,
          0.6516888737678528,
          0.6215876936912537,
          0.6804702877998352,
          0.7976905107498169,
          0.8259055614471436,
          0.7898810505867004,
          0.7293669581413269,
          0.713061511516571
         ],
         "yaxis": "y"
        },
        {
         "hovertemplate": "Country name=North Cyprus<br>Life Ladder=%{x}<br>Freedom to make life choices=%{y}<extra></extra>",
         "legendgroup": "North Cyprus",
         "marker": {
          "color": "#FECB52",
          "symbol": "circle"
         },
         "mode": "markers",
         "name": "North Cyprus",
         "showlegend": true,
         "type": "scattergl",
         "x": [
          5.463305473327637,
          5.566802501678467,
          5.7859787940979,
          5.842550277709961,
          5.827127933502197,
          5.60805606842041,
          5.466615200042725
         ],
         "xaxis": "x",
         "y": [
          0.6925676465034485,
          0.7753832936286926,
          0.8296772837638855,
          0.7853528261184692,
          0.7962338328361511,
          0.7970660924911499,
          0.7927346229553223
         ],
         "yaxis": "y"
        },
        {
         "hovertemplate": "Country name=North Macedonia<br>Life Ladder=%{x}<br>Freedom to make life choices=%{y}<extra></extra>",
         "legendgroup": "North Macedonia",
         "marker": {
          "color": "#636efa",
          "symbol": "circle"
         },
         "mode": "markers",
         "name": "North Macedonia",
         "showlegend": true,
         "type": "scattergl",
         "x": [
          4.493598461151123,
          4.4280219078063965,
          4.180202007293701,
          4.89818000793457,
          4.639647483825684,
          5.186190605163574,
          5.203825950622559,
          4.975589752197266,
          5.345746040344238,
          5.2338666915893555,
          5.239834785461426,
          5.0154852867126465,
          5.053664207458496
         ],
         "xaxis": "x",
         "y": [
          0.439399778842926,
          0.5521737337112427,
          0.5131839513778687,
          0.6074632406234741,
          0.6130557060241699,
          0.6409526467323303,
          0.6447408199310303,
          0.660318911075592,
          0.7061793208122253,
          0.7521066069602966,
          0.7448009252548218,
          0.7247104048728943,
          0.7872847318649292
         ],
         "yaxis": "y"
        },
        {
         "hovertemplate": "Country name=Norway<br>Life Ladder=%{x}<br>Freedom to make life choices=%{y}<extra></extra>",
         "legendgroup": "Norway",
         "marker": {
          "color": "#EF553B",
          "symbol": "circle"
         },
         "mode": "markers",
         "name": "Norway",
         "showlegend": true,
         "type": "scattergl",
         "x": [
          7.415682315826416,
          7.632287502288818,
          7.678277015686035,
          7.4444708824157715,
          7.603433609008789,
          7.596331596374512,
          7.578744888305664,
          7.4442620277404785,
          7.442139625549316,
          7.290032386779785
         ],
         "xaxis": "x",
         "y": [
          0.9595327377319336,
          0.9472888708114624,
          0.9465658664703369,
          0.9563161730766296,
          0.9476205110549927,
          0.9543523192405701,
          0.9530168175697327,
          0.9604290127754211,
          0.9540444612503052,
          0.9645611047744751
         ],
         "yaxis": "y"
        },
        {
         "hovertemplate": "Country name=Oman<br>Life Ladder=%{x}<br>Freedom to make life choices=%{y}<extra></extra>",
         "legendgroup": "Oman",
         "marker": {
          "color": "#00cc96",
          "symbol": "circle"
         },
         "mode": "markers",
         "name": "Oman",
         "showlegend": true,
         "type": "scattergl",
         "x": [
          6.852982044219971
         ],
         "xaxis": "x",
         "y": [
          0.9162930250167847
         ],
         "yaxis": "y"
        },
        {
         "hovertemplate": "Country name=Pakistan<br>Life Ladder=%{x}<br>Freedom to make life choices=%{y}<extra></extra>",
         "legendgroup": "Pakistan",
         "marker": {
          "color": "#ab63fa",
          "symbol": "circle"
         },
         "mode": "markers",
         "name": "Pakistan",
         "showlegend": true,
         "type": "scattergl",
         "x": [
          5.2246575355529785,
          5.6714606285095215,
          4.413918972015381,
          5.208146572113037,
          5.7861328125,
          5.267186164855957,
          5.131565093994141,
          5.138082504272461,
          5.435657978057861,
          4.823194980621338,
          5.548508167266846,
          5.830870628356934,
          5.471553802490234,
          4.442717552185059
         ],
         "xaxis": "x",
         "y": [
          0.6299958825111389,
          0.3956422209739685,
          0.33522364497184753,
          0.38769766688346863,
          0.364205926656723,
          0.37582263350486755,
          0.366844117641449,
          0.4479095935821533,
          0.5431385040283203,
          0.5865462422370911,
          0.6341828107833862,
          0.71265709400177,
          0.7725691199302673,
          0.6846755743026733
         ],
         "yaxis": "y"
        },
        {
         "hovertemplate": "Country name=Palestinian Territories<br>Life Ladder=%{x}<br>Freedom to make life choices=%{y}<extra></extra>",
         "legendgroup": "Palestinian Territories",
         "marker": {
          "color": "#FFA15A",
          "symbol": "circle"
         },
         "mode": "markers",
         "name": "Palestinian Territories",
         "showlegend": true,
         "type": "scattergl",
         "x": [
          4.716387748718262,
          4.1510539054870605,
          4.385603427886963,
          4.470191478729248,
          4.702603816986084,
          4.751219749450684,
          4.646608352661133,
          4.844027996063232,
          4.721938133239746,
          4.695239067077637,
          4.906618118286133,
          4.6281328201293945,
          4.553921699523926,
          4.482537269592285
         ],
         "xaxis": "x",
         "y": [
          0.5465064644813538,
          0.3652961552143097,
          0.35775652527809143,
          0.4678119421005249,
          0.5042622685432434,
          0.5218892693519592,
          0.5415828824043274,
          0.4539033770561218,
          0.657049834728241,
          0.5560409426689148,
          0.6076694130897522,
          0.6316112875938416,
          0.6545345187187195,
          0.653488278388977
         ],
         "yaxis": "y"
        },
        {
         "hovertemplate": "Country name=Panama<br>Life Ladder=%{x}<br>Freedom to make life choices=%{y}<extra></extra>",
         "legendgroup": "Panama",
         "marker": {
          "color": "#19d3f3",
          "symbol": "circle"
         },
         "mode": "markers",
         "name": "Panama",
         "showlegend": true,
         "type": "scattergl",
         "x": [
          6.127988338470459,
          6.894139766693115,
          6.930903434753418,
          7.033740043640137,
          7.321467399597168,
          7.248080730438232,
          6.859835624694824,
          6.866480350494385,
          6.631171226501465,
          6.605550289154053,
          6.117638111114502,
          6.5676589012146,
          6.281434059143066,
          6.0859551429748535
         ],
         "xaxis": "x",
         "y": [
          0.8820472359657288,
          0.6402187943458557,
          0.7073845863342285,
          0.7213936448097229,
          0.7545236945152283,
          0.8290128707885742,
          0.7831825017929077,
          0.811337947845459,
          0.8939151167869568,
          0.8466691970825195,
          0.8844797611236572,
          0.8995735049247742,
          0.8614481091499329,
          0.882961094379425
         ],
         "yaxis": "y"
        },
        {
         "hovertemplate": "Country name=Paraguay<br>Life Ladder=%{x}<br>Freedom to make life choices=%{y}<extra></extra>",
         "legendgroup": "Paraguay",
         "marker": {
          "color": "#FF6692",
          "symbol": "circle"
         },
         "mode": "markers",
         "name": "Paraguay",
         "showlegend": true,
         "type": "scattergl",
         "x": [
          4.730082035064697,
          5.272461414337158,
          5.570061683654785,
          5.576147079467773,
          5.841174125671387,
          5.6770806312561035,
          5.820058345794678,
          5.9362406730651855,
          5.1186418533325195,
          5.5597243309021,
          5.801380157470703,
          5.7132954597473145,
          5.652625560760498
         ],
         "xaxis": "x",
         "y": [
          0.6910216808319092,
          0.6989878416061401,
          0.6490687727928162,
          0.7178701758384705,
          0.7262623906135559,
          0.6658642888069153,
          0.748206615447998,
          0.9089058637619019,
          0.7593964338302612,
          0.806124746799469,
          0.8535342812538147,
          0.8911714553833008,
          0.8760526180267334
         ],
         "yaxis": "y"
        },
        {
         "hovertemplate": "Country name=Peru<br>Life Ladder=%{x}<br>Freedom to make life choices=%{y}<extra></extra>",
         "legendgroup": "Peru",
         "marker": {
          "color": "#B6E880",
          "symbol": "circle"
         },
         "mode": "markers",
         "name": "Peru",
         "showlegend": true,
         "type": "scattergl",
         "x": [
          4.810845375061035,
          5.213962078094482,
          5.129230976104736,
          5.5188469886779785,
          5.612785339355469,
          5.892457485198975,
          5.824557304382324,
          5.782557487487793,
          5.86581563949585,
          5.577263355255127,
          5.700628757476807,
          5.710936546325684,
          5.679661273956299,
          5.9993815422058105
         ],
         "xaxis": "x",
         "y": [
          0.667579174041748,
          0.6384965181350708,
          0.6376723647117615,
          0.6383751034736633,
          0.7567064166069031,
          0.7727594971656799,
          0.703000545501709,
          0.7030412554740906,
          0.7223523855209351,
          0.8022690415382385,
          0.8298438787460327,
          0.826552152633667,
          0.8296419978141785,
          0.8148059248924255
         ],
         "yaxis": "y"
        },
        {
         "hovertemplate": "Country name=Philippines<br>Life Ladder=%{x}<br>Freedom to make life choices=%{y}<extra></extra>",
         "legendgroup": "Philippines",
         "marker": {
          "color": "#FF97FF",
          "symbol": "circle"
         },
         "mode": "markers",
         "name": "Philippines",
         "showlegend": true,
         "type": "scattergl",
         "x": [
          4.66994571685791,
          5.073562145233154,
          4.589065074920654,
          4.879910945892334,
          4.941514015197754,
          4.993956565856934,
          5.001965045928955,
          4.976925373077393,
          5.312550067901611,
          5.547489166259766,
          5.430832862854004,
          5.5942702293396,
          5.8691725730896,
          6.267745018005371,
          5.079585075378418
         ],
         "xaxis": "x",
         "y": [
          0.8282731175422668,
          0.8515664339065552,
          0.8608425855636597,
          0.873605489730835,
          0.8933505415916443,
          0.8828374743461609,
          0.9144995808601379,
          0.9074584245681763,
          0.9021857380867004,
          0.9115335941314697,
          0.9075957536697388,
          0.9257031083106995,
          0.9178081750869751,
          0.9095985889434814,
          0.9320417046546936
         ],
         "yaxis": "y"
        },
        {
         "hovertemplate": "Country name=Poland<br>Life Ladder=%{x}<br>Freedom to make life choices=%{y}<extra></extra>",
         "legendgroup": "Poland",
         "marker": {
          "color": "#FECB52",
          "symbol": "circle"
         },
         "mode": "markers",
         "name": "Poland",
         "showlegend": true,
         "type": "scattergl",
         "x": [
          5.587209224700928,
          5.88613748550415,
          5.772027492523193,
          5.887029647827148,
          5.646204948425293,
          5.875931739807129,
          5.746131896972656,
          5.750282287597656,
          6.007021903991699,
          6.162076473236084,
          6.201268196105957,
          6.111485004425049,
          6.242094039916992,
          6.139455318450928
         ],
         "xaxis": "x",
         "y": [
          0.7824731469154358,
          0.7722233533859253,
          0.8206490874290466,
          0.7949004769325256,
          0.868148922920227,
          0.8113017082214355,
          0.7759313583374023,
          0.8753570914268494,
          0.7934621572494507,
          0.8707075119018555,
          0.8308426141738892,
          0.870215117931366,
          0.882885754108429,
          0.7674286961555481
         ],
         "yaxis": "y"
        },
        {
         "hovertemplate": "Country name=Portugal<br>Life Ladder=%{x}<br>Freedom to make life choices=%{y}<extra></extra>",
         "legendgroup": "Portugal",
         "marker": {
          "color": "#636efa",
          "symbol": "circle"
         },
         "mode": "markers",
         "name": "Portugal",
         "showlegend": true,
         "type": "scattergl",
         "x": [
          5.405246257781982,
          5.71696662902832,
          5.0945258140563965,
          5.219997882843018,
          4.993962287902832,
          5.157688140869141,
          5.126911640167236,
          5.08086633682251,
          5.446637153625488,
          5.711499214172363,
          5.919822692871094,
          6.095473289489746,
          5.767792224884033
         ],
         "xaxis": "x",
         "y": [
          0.8820680975914001,
          0.6464641094207764,
          0.7210363745689392,
          0.8750925660133362,
          0.7738214135169983,
          0.7880327701568604,
          0.8468101024627686,
          0.8004403114318848,
          0.8380693197250366,
          0.905065655708313,
          0.8774042129516602,
          0.8823511004447937,
          0.9131307601928711
         ],
         "yaxis": "y"
        },
        {
         "hovertemplate": "Country name=Qatar<br>Life Ladder=%{x}<br>Freedom to make life choices=%{y}<extra></extra>",
         "legendgroup": "Qatar",
         "marker": {
          "color": "#EF553B",
          "symbol": "circle"
         },
         "mode": "markers",
         "name": "Qatar",
         "showlegend": true,
         "type": "scattergl",
         "x": [
          6.4178242683410645,
          6.8496527671813965,
          6.591604232788086,
          6.611298561096191,
          6.3745293617248535
         ],
         "xaxis": "x",
         "y": [
          0.8649919033050537,
          null,
          0.9046874642372131,
          0.9243336319923401,
          null
         ],
         "yaxis": "y"
        },
        {
         "hovertemplate": "Country name=Romania<br>Life Ladder=%{x}<br>Freedom to make life choices=%{y}<extra></extra>",
         "legendgroup": "Romania",
         "marker": {
          "color": "#00cc96",
          "symbol": "circle"
         },
         "mode": "markers",
         "name": "Romania",
         "showlegend": true,
         "type": "scattergl",
         "x": [
          5.048648357391357,
          5.393723964691162,
          5.367565155029297,
          4.909165859222412,
          5.022757530212402,
          5.166874885559082,
          5.081584453582764,
          5.726893424987793,
          5.777491092681885,
          5.968870639801025,
          6.08990478515625,
          6.15087890625,
          6.129942417144775
         ],
         "xaxis": "x",
         "y": [
          0.8001205921173096,
          0.6857477426528931,
          0.6058276295661926,
          0.5655367374420166,
          0.6504021883010864,
          0.6445361375808716,
          0.6545421481132507,
          0.7542355060577393,
          0.7958477139472961,
          0.8217206001281738,
          0.838586688041687,
          0.8451595902442932,
          0.8475431799888611
         ],
         "yaxis": "y"
        },
        {
         "hovertemplate": "Country name=Russia<br>Life Ladder=%{x}<br>Freedom to make life choices=%{y}<extra></extra>",
         "legendgroup": "Russia",
         "marker": {
          "color": "#ab63fa",
          "symbol": "circle"
         },
         "mode": "markers",
         "name": "Russia",
         "showlegend": true,
         "type": "scattergl",
         "x": [
          4.963742733001709,
          5.222867488861084,
          5.618753910064697,
          5.158227920532227,
          5.384773254394531,
          5.388766288757324,
          5.6207356452941895,
          5.537177562713623,
          6.0369768142700195,
          5.995538711547852,
          5.854945659637451,
          5.578742980957031,
          5.513500213623047,
          5.440523624420166,
          5.495288848876953
         ],
         "xaxis": "x",
         "y": [
          0.6433882117271423,
          0.5925697088241577,
          0.6427782773971558,
          0.6171151399612427,
          0.6131590008735657,
          0.625847578048706,
          0.6091041564941406,
          0.6611855626106262,
          0.7443320751190186,
          0.6854547262191772,
          0.7136062979698181,
          0.730874240398407,
          0.7292822003364563,
          0.7147660851478577,
          0.7144664525985718
         ],
         "yaxis": "y"
        },
        {
         "hovertemplate": "Country name=Rwanda<br>Life Ladder=%{x}<br>Freedom to make life choices=%{y}<extra></extra>",
         "legendgroup": "Rwanda",
         "marker": {
          "color": "#FFA15A",
          "symbol": "circle"
         },
         "mode": "markers",
         "name": "Rwanda",
         "showlegend": true,
         "type": "scattergl",
         "x": [
          4.214703559875488,
          4.3629889488220215,
          4.029761791229248,
          4.09743595123291,
          3.333047866821289,
          3.4663877487182617,
          3.5956783294677734,
          3.4831089973449707,
          3.3329899311065674,
          3.1083738803863525,
          3.561046600341797,
          3.2681522369384766
         ],
         "xaxis": "x",
         "y": [
          0.9154808521270752,
          0.7522934675216675,
          0.7655690312385559,
          0.8290361762046814,
          0.8354913592338562,
          0.9042722582817078,
          0.8940252661705017,
          0.9078923463821411,
          0.9107363820075989,
          0.9081148505210876,
          0.9242316484451294,
          0.868999183177948
         ],
         "yaxis": "y"
        },
        {
         "hovertemplate": "Country name=Saudi Arabia<br>Life Ladder=%{x}<br>Freedom to make life choices=%{y}<extra></extra>",
         "legendgroup": "Saudi Arabia",
         "marker": {
          "color": "#19d3f3",
          "symbol": "circle"
         },
         "mode": "markers",
         "name": "Saudi Arabia",
         "showlegend": true,
         "type": "scattergl",
         "x": [
          7.079644203186035,
          7.266694068908691,
          6.811370372772217,
          6.147590160369873,
          6.307098388671875,
          6.699789524078369,
          6.396359443664551,
          6.495132923126221,
          6.278378009796143,
          6.345491886138916,
          6.473921298980713,
          6.29428243637085,
          6.356393337249756,
          6.5612473487854,
          6.559588432312012
         ],
         "xaxis": "x",
         "y": [
          null,
          0.6220701932907104,
          0.5318119525909424,
          0.6394056677818298,
          0.6777772307395935,
          0.603455662727356,
          0.5604553818702698,
          0.661042332649231,
          0.7622516751289368,
          0.8202072381973267,
          0.7742677330970764,
          0.8141421675682068,
          0.8549215197563171,
          0.8910865783691406,
          0.8842201232910156
         ],
         "yaxis": "y"
        },
        {
         "hovertemplate": "Country name=Senegal<br>Life Ladder=%{x}<br>Freedom to make life choices=%{y}<extra></extra>",
         "legendgroup": "Senegal",
         "marker": {
          "color": "#FF6692",
          "symbol": "circle"
         },
         "mode": "markers",
         "name": "Senegal",
         "showlegend": true,
         "type": "scattergl",
         "x": [
          4.417352676391602,
          4.679986953735352,
          4.683499813079834,
          4.335114002227783,
          4.372156143188477,
          3.8342015743255615,
          3.6687369346618652,
          3.647367000579834,
          4.394777297973633,
          4.617000579833984,
          4.594533920288086,
          4.683024883270264,
          4.7693772315979,
          5.488736629486084
         ],
         "xaxis": "x",
         "y": [
          0.7357235550880432,
          0.6980052590370178,
          0.6118761897087097,
          0.5568381547927856,
          0.7772626280784607,
          0.6408903002738953,
          0.6682522892951965,
          0.6355395317077637,
          0.6923531889915466,
          0.7195332646369934,
          0.7437296509742737,
          0.6869370341300964,
          0.6292234659194946,
          0.7588417530059814
         ],
         "yaxis": "y"
        },
        {
         "hovertemplate": "Country name=Serbia<br>Life Ladder=%{x}<br>Freedom to make life choices=%{y}<extra></extra>",
         "legendgroup": "Serbia",
         "marker": {
          "color": "#B6E880",
          "symbol": "circle"
         },
         "mode": "markers",
         "name": "Serbia",
         "showlegend": true,
         "type": "scattergl",
         "x": [
          4.7503838539123535,
          4.380311965942383,
          4.461304187774658,
          4.815186500549316,
          5.154521942138672,
          5.101840496063232,
          5.112728595733643,
          5.317685127258301,
          5.7527546882629395,
          5.122031211853027,
          5.936493396759033,
          6.24140739440918,
          6.04154634475708
         ],
         "xaxis": "x",
         "y": [
          0.45278117060661316,
          0.37288129329681396,
          0.4626472592353821,
          0.4404582977294922,
          0.4605746865272522,
          0.5328397154808044,
          0.5315972566604614,
          0.5458920001983643,
          0.6143708229064941,
          0.6848463416099548,
          0.7398918271064758,
          0.7525045871734619,
          0.8434798717498779
         ],
         "yaxis": "y"
        },
        {
         "hovertemplate": "Country name=Sierra Leone<br>Life Ladder=%{x}<br>Freedom to make life choices=%{y}<extra></extra>",
         "legendgroup": "Sierra Leone",
         "marker": {
          "color": "#FF97FF",
          "symbol": "circle"
         },
         "mode": "markers",
         "name": "Sierra Leone",
         "showlegend": true,
         "type": "scattergl",
         "x": [
          3.6281850337982178,
          3.585127353668213,
          2.997251033782959,
          4.133955955505371,
          4.501643657684326,
          4.514291286468506,
          4.499970436096191,
          4.908617973327637,
          4.732953071594238,
          4.08956241607666,
          4.305683135986328,
          3.4473814964294434
         ],
         "xaxis": "x",
         "y": [
          0.6790010929107666,
          0.7203733921051025,
          0.7163963317871094,
          0.7262688279151917,
          0.7697381377220154,
          0.7195106744766235,
          0.6814976334571838,
          0.6242961287498474,
          0.6812021136283875,
          0.7106135487556458,
          0.7164844870567322,
          0.7177695631980896
         ],
         "yaxis": "y"
        },
        {
         "hovertemplate": "Country name=Singapore<br>Life Ladder=%{x}<br>Freedom to make life choices=%{y}<extra></extra>",
         "legendgroup": "Singapore",
         "marker": {
          "color": "#FECB52",
          "symbol": "circle"
         },
         "mode": "markers",
         "name": "Singapore",
         "showlegend": true,
         "type": "scattergl",
         "x": [
          6.462702751159668,
          6.833754539489746,
          6.641956806182861,
          6.144676685333252,
          6.531401634216309,
          6.561041831970215,
          6.533206939697266,
          7.06236457824707,
          6.619524955749512,
          6.033480644226074,
          6.3784379959106445,
          6.374564170837402,
          6.378359794616699
         ],
         "xaxis": "x",
         "y": [
          0.7568735480308533,
          0.8668922781944275,
          0.6606590151786804,
          0.7763818502426147,
          0.8461846113204956,
          0.8218163251876831,
          0.827102541923523,
          0.8348876237869263,
          0.8868908882141113,
          0.9037356376647949,
          0.9261278510093689,
          0.9160782098770142,
          0.9380417466163635
         ],
         "yaxis": "y"
        },
        {
         "hovertemplate": "Country name=Slovakia<br>Life Ladder=%{x}<br>Freedom to make life choices=%{y}<extra></extra>",
         "legendgroup": "Slovakia",
         "marker": {
          "color": "#636efa",
          "symbol": "circle"
         },
         "mode": "markers",
         "name": "Slovakia",
         "showlegend": true,
         "type": "scattergl",
         "x": [
          5.264676570892334,
          6.052223205566406,
          5.9450483322143555,
          5.911059379577637,
          5.936527252197266,
          6.138873100280762,
          6.162004470825195,
          5.993163108825684,
          6.365509033203125,
          6.235110759735107,
          6.243428707122803,
          6.519098281860352
         ],
         "xaxis": "x",
         "y": [
          0.5424796938896179,
          0.6357576847076416,
          0.7271631360054016,
          0.6200042963027954,
          0.5979357957839966,
          0.6347917318344116,
          0.587157666683197,
          0.7000985145568848,
          0.7142246961593628,
          0.7576340436935425,
          0.7711215615272522,
          0.7618966102600098
         ],
         "yaxis": "y"
        },
        {
         "hovertemplate": "Country name=Slovenia<br>Life Ladder=%{x}<br>Freedom to make life choices=%{y}<extra></extra>",
         "legendgroup": "Slovenia",
         "marker": {
          "color": "#EF553B",
          "symbol": "circle"
         },
         "mode": "markers",
         "name": "Slovenia",
         "showlegend": true,
         "type": "scattergl",
         "x": [
          5.811264514923096,
          5.830160617828369,
          6.082555294036865,
          6.035964012145996,
          6.062891006469727,
          5.974888801574707,
          5.6783952713012695,
          5.740642070770264,
          5.936821460723877,
          6.166837692260742,
          6.249419212341309,
          6.665273666381836,
          6.462076187133789
         ],
         "xaxis": "x",
         "y": [
          0.9358242154121399,
          0.8959566354751587,
          0.89552241563797,
          0.9074409008026123,
          0.9043862819671631,
          0.8900598287582397,
          0.8877477049827576,
          0.8960072994232178,
          0.9035511016845703,
          0.9208626747131348,
          0.9420458674430847,
          0.9454305171966553,
          0.9584425687789917
         ],
         "yaxis": "y"
        },
        {
         "hovertemplate": "Country name=Somalia<br>Life Ladder=%{x}<br>Freedom to make life choices=%{y}<extra></extra>",
         "legendgroup": "Somalia",
         "marker": {
          "color": "#00cc96",
          "symbol": "circle"
         },
         "mode": "markers",
         "name": "Somalia",
         "showlegend": true,
         "type": "scattergl",
         "x": [
          5.52827262878418,
          5.353644847869873,
          4.667941093444824
         ],
         "xaxis": "x",
         "y": [
          0.8738788366317749,
          0.9678692817687988,
          0.9173228144645691
         ],
         "yaxis": "y"
        },
        {
         "hovertemplate": "Country name=Somaliland region<br>Life Ladder=%{x}<br>Freedom to make life choices=%{y}<extra></extra>",
         "legendgroup": "Somaliland region",
         "marker": {
          "color": "#ab63fa",
          "symbol": "circle"
         },
         "mode": "markers",
         "name": "Somaliland region",
         "showlegend": true,
         "type": "scattergl",
         "x": [
          4.991399765014648,
          4.657363414764404,
          4.930571556091309,
          5.057314395904541
         ],
         "xaxis": "x",
         "y": [
          0.7463039755821228,
          0.8201819062232971,
          0.8581044673919678,
          0.7582190036773682
         ],
         "yaxis": "y"
        },
        {
         "hovertemplate": "Country name=South Africa<br>Life Ladder=%{x}<br>Freedom to make life choices=%{y}<extra></extra>",
         "legendgroup": "South Africa",
         "marker": {
          "color": "#FFA15A",
          "symbol": "circle"
         },
         "mode": "markers",
         "name": "South Africa",
         "showlegend": true,
         "type": "scattergl",
         "x": [
          5.083986759185791,
          5.20445442199707,
          5.346306800842285,
          5.218430995941162,
          4.65242862701416,
          4.930511474609375,
          5.133887767791748,
          3.6607272624969482,
          4.828456401824951,
          4.887325763702393,
          4.769739627838135,
          4.513655185699463,
          4.883922100067139,
          5.034863471984863,
          4.946800708770752
         ],
         "xaxis": "x",
         "y": [
          0.6487628817558289,
          0.6899875402450562,
          0.7488464713096619,
          0.7394099831581116,
          0.7389059662818909,
          0.8354480266571045,
          0.5901449918746948,
          0.7141690254211426,
          0.7940309643745422,
          0.8624494075775146,
          0.7741364240646362,
          0.7874279022216797,
          0.7527313232421875,
          0.7383385300636292,
          0.7569462656974792
         ],
         "yaxis": "y"
        },
        {
         "hovertemplate": "Country name=South Korea<br>Life Ladder=%{x}<br>Freedom to make life choices=%{y}<extra></extra>",
         "legendgroup": "South Korea",
         "marker": {
          "color": "#19d3f3",
          "symbol": "circle"
         },
         "mode": "markers",
         "name": "South Korea",
         "showlegend": true,
         "type": "scattergl",
         "x": [
          5.332177639007568,
          5.767275810241699,
          5.38962459564209,
          5.6476898193359375,
          6.116024494171143,
          6.946599006652832,
          6.003286838531494,
          5.958809852600098,
          5.80132532119751,
          5.780211448669434,
          5.970564365386963,
          5.873887062072754,
          5.840231418609619,
          5.9028167724609375,
          5.79269552230835
         ],
         "xaxis": "x",
         "y": [
          0.7152417302131653,
          0.6558279991149902,
          0.5236787796020508,
          0.6001656651496887,
          0.6766529679298401,
          0.682356059551239,
          0.6183980703353882,
          0.6418842673301697,
          0.623193621635437,
          0.6158487796783447,
          0.5909560322761536,
          0.5381137132644653,
          0.6001616716384888,
          0.706032395362854,
          0.711480438709259
         ],
         "yaxis": "y"
        },
        {
         "hovertemplate": "Country name=South Sudan<br>Life Ladder=%{x}<br>Freedom to make life choices=%{y}<extra></extra>",
         "legendgroup": "South Sudan",
         "marker": {
          "color": "#FF6692",
          "symbol": "circle"
         },
         "mode": "markers",
         "name": "South Sudan",
         "showlegend": true,
         "type": "scattergl",
         "x": [
          3.8319923877716064,
          4.070771217346191,
          2.8881123065948486,
          2.816622495651245
         ],
         "xaxis": "x",
         "y": [
          0.5672593116760254,
          0.5116310119628906,
          0.43991902470588684,
          0.4560110867023468
         ],
         "yaxis": "y"
        },
        {
         "hovertemplate": "Country name=Spain<br>Life Ladder=%{x}<br>Freedom to make life choices=%{y}<extra></extra>",
         "legendgroup": "Spain",
         "marker": {
          "color": "#B6E880",
          "symbol": "circle"
         },
         "mode": "markers",
         "name": "Spain",
         "showlegend": true,
         "type": "scattergl",
         "x": [
          7.152785778045654,
          6.994614601135254,
          7.294472694396973,
          6.198601245880127,
          6.188262462615967,
          6.518249034881592,
          6.2906904220581055,
          6.150027275085449,
          6.456477642059326,
          6.3806633949279785,
          6.318612098693848,
          6.230173110961914,
          6.513370990753174,
          6.457449436187744,
          6.502175331115723
         ],
         "xaxis": "x",
         "y": [
          0.9161646962165833,
          0.7820821404457092,
          0.8337860703468323,
          0.748514711856842,
          0.7964955568313599,
          0.8186509013175964,
          0.7545861005783081,
          0.7593564391136169,
          0.7384723424911499,
          0.732000470161438,
          0.7681737542152405,
          0.7555607557296753,
          0.7222506999969482,
          0.7779667377471924,
          0.7832565307617188
         ],
         "yaxis": "y"
        },
        {
         "hovertemplate": "Country name=Sri Lanka<br>Life Ladder=%{x}<br>Freedom to make life choices=%{y}<extra></extra>",
         "legendgroup": "Sri Lanka",
         "marker": {
          "color": "#FF97FF",
          "symbol": "circle"
         },
         "mode": "markers",
         "name": "Sri Lanka",
         "showlegend": true,
         "type": "scattergl",
         "x": [
          4.344610691070557,
          4.4148054122924805,
          4.430846214294434,
          4.212026596069336,
          3.976905107498169,
          4.180569171905518,
          4.224593162536621,
          4.364694118499756,
          4.267932891845703,
          4.611606597900391,
          4.3309454917907715,
          4.435023784637451,
          4.21329927444458
         ],
         "xaxis": "x",
         "y": [
          0.7238476276397705,
          0.7358528971672058,
          0.8338356018066406,
          0.7988712191581726,
          0.738208532333374,
          0.8226372599601746,
          0.8003972172737122,
          0.8340203166007996,
          0.8679364323616028,
          0.9020747542381287,
          0.8270773887634277,
          0.8588736057281494,
          0.8242773413658142
         ],
         "yaxis": "y"
        },
        {
         "hovertemplate": "Country name=Sudan<br>Life Ladder=%{x}<br>Freedom to make life choices=%{y}<extra></extra>",
         "legendgroup": "Sudan",
         "marker": {
          "color": "#FECB52",
          "symbol": "circle"
         },
         "mode": "markers",
         "name": "Sudan",
         "showlegend": true,
         "type": "scattergl",
         "x": [
          4.4549174308776855,
          4.435159683227539,
          4.314456462860107,
          4.550499439239502,
          4.138672828674316
         ],
         "xaxis": "x",
         "y": [
          0.7099786400794983,
          0.6481553316116333,
          0.5825387835502625,
          0.41194790601730347,
          0.3900958001613617
         ],
         "yaxis": "y"
        },
        {
         "hovertemplate": "Country name=Suriname<br>Life Ladder=%{x}<br>Freedom to make life choices=%{y}<extra></extra>",
         "legendgroup": "Suriname",
         "marker": {
          "color": "#636efa",
          "symbol": "circle"
         },
         "mode": "markers",
         "name": "Suriname",
         "showlegend": true,
         "type": "scattergl",
         "x": [
          6.269286632537842
         ],
         "xaxis": "x",
         "y": [
          0.8854884505271912
         ],
         "yaxis": "y"
        },
        {
         "hovertemplate": "Country name=Swaziland<br>Life Ladder=%{x}<br>Freedom to make life choices=%{y}<extra></extra>",
         "legendgroup": "Swaziland",
         "marker": {
          "color": "#EF553B",
          "symbol": "circle"
         },
         "mode": "markers",
         "name": "Swaziland",
         "showlegend": true,
         "type": "scattergl",
         "x": [
          4.867091178894043,
          4.211565017700195,
          4.396114826202393
         ],
         "xaxis": "x",
         "y": [
          0.6071572303771973,
          0.7099736928939819,
          0.5966824293136597
         ],
         "yaxis": "y"
        },
        {
         "hovertemplate": "Country name=Sweden<br>Life Ladder=%{x}<br>Freedom to make life choices=%{y}<extra></extra>",
         "legendgroup": "Sweden",
         "marker": {
          "color": "#00cc96",
          "symbol": "circle"
         },
         "mode": "markers",
         "name": "Sweden",
         "showlegend": true,
         "type": "scattergl",
         "x": [
          7.376315593719482,
          7.241362571716309,
          7.515997409820557,
          7.265977382659912,
          7.496018886566162,
          7.382232189178467,
          7.560147762298584,
          7.4340105056762695,
          7.239147663116455,
          7.288922309875488,
          7.368744373321533,
          7.286804676055908,
          7.374792098999023,
          7.398092746734619,
          7.314341068267822
         ],
         "xaxis": "x",
         "y": [
          0.9643954038619995,
          0.9099618196487427,
          0.9116092920303345,
          0.8640046119689941,
          0.904699981212616,
          0.9411154389381409,
          0.9443821907043457,
          0.9359105229377747,
          0.9452733993530273,
          0.9350720643997192,
          0.9180364012718201,
          0.9345821142196655,
          0.9417246580123901,
          0.9415152072906494,
          0.9511815905570984
         ],
         "yaxis": "y"
        },
        {
         "hovertemplate": "Country name=Switzerland<br>Life Ladder=%{x}<br>Freedom to make life choices=%{y}<extra></extra>",
         "legendgroup": "Switzerland",
         "marker": {
          "color": "#ab63fa",
          "symbol": "circle"
         },
         "mode": "markers",
         "name": "Switzerland",
         "showlegend": true,
         "type": "scattergl",
         "x": [
          7.473252773284912,
          7.5245208740234375,
          7.776208877563477,
          7.492803573608398,
          7.572136878967285,
          7.45851993560791,
          7.473593235015869,
          7.508586883544922,
          7.694221019744873,
          7.508435249328613
         ],
         "xaxis": "x",
         "y": [
          0.9189577102661133,
          0.8912771940231323,
          0.9454280138015747,
          0.9494014382362366,
          0.9278024435043335,
          0.9339470863342285,
          0.9249969124794006,
          0.9264145493507385,
          0.9131667017936707,
          0.917343258857727
         ],
         "yaxis": "y"
        },
        {
         "hovertemplate": "Country name=Syria<br>Life Ladder=%{x}<br>Freedom to make life choices=%{y}<extra></extra>",
         "legendgroup": "Syria",
         "marker": {
          "color": "#FFA15A",
          "symbol": "circle"
         },
         "mode": "markers",
         "name": "Syria",
         "showlegend": true,
         "type": "scattergl",
         "x": [
          5.3233323097229,
          4.978970527648926,
          4.464707851409912,
          4.03788948059082,
          3.1644911766052246,
          2.6875529289245605,
          3.4619128704071045
         ],
         "xaxis": "x",
         "y": [
          0.6607532501220703,
          0.7482587695121765,
          0.6470479965209961,
          0.5304327607154846,
          0.46677061915397644,
          0.4548828899860382,
          0.44827085733413696
         ],
         "yaxis": "y"
        },
        {
         "hovertemplate": "Country name=Taiwan Province of China<br>Life Ladder=%{x}<br>Freedom to make life choices=%{y}<extra></extra>",
         "legendgroup": "Taiwan Province of China",
         "marker": {
          "color": "#19d3f3",
          "symbol": "circle"
         },
         "mode": "markers",
         "name": "Taiwan Province of China",
         "showlegend": true,
         "type": "scattergl",
         "x": [
          6.189050197601318,
          5.547682285308838,
          6.2285308837890625,
          6.308915138244629,
          6.125916957855225,
          6.340344429016113,
          6.363496780395508,
          6.450088024139404,
          6.512850761413574,
          6.359450817108154,
          6.467004776000977,
          6.537089824676514,
          6.751067638397217
         ],
         "xaxis": "x",
         "y": [
          0.6299096345901489,
          0.6417153477668762,
          0.6765872836112976,
          0.7614881992340088,
          0.6981951594352722,
          0.6900708675384521,
          0.692899763584137,
          0.7008104920387268,
          0.7189251780509949,
          0.7596547603607178,
          0.7410327792167664,
          0.8144844770431519,
          0.7988347411155701
         ],
         "yaxis": "y"
        },
        {
         "hovertemplate": "Country name=Tajikistan<br>Life Ladder=%{x}<br>Freedom to make life choices=%{y}<extra></extra>",
         "legendgroup": "Tajikistan",
         "marker": {
          "color": "#FF6692",
          "symbol": "circle"
         },
         "mode": "markers",
         "name": "Tajikistan",
         "showlegend": true,
         "type": "scattergl",
         "x": [
          4.613099098205566,
          4.4316086769104,
          5.063986778259277,
          4.575174808502197,
          4.380636215209961,
          4.26267147064209,
          4.4965715408325195,
          4.966521263122559,
          4.896157741546631,
          5.124210834503174,
          5.1037211418151855,
          5.8292341232299805,
          5.497468948364258,
          5.464015483856201,
          5.373398780822754
         ],
         "xaxis": "x",
         "y": [
          0.701759934425354,
          0.8183550238609314,
          0.8159547448158264,
          0.7437865138053894,
          0.7844958901405334,
          0.7761799693107605,
          0.7490345239639282,
          0.6931197643280029,
          0.852732241153717,
          0.8465421199798584,
          0.7030268907546997,
          0.8320024609565735,
          null,
          null,
          null
         ],
         "yaxis": "y"
        },
        {
         "hovertemplate": "Country name=Tanzania<br>Life Ladder=%{x}<br>Freedom to make life choices=%{y}<extra></extra>",
         "legendgroup": "Tanzania",
         "marker": {
          "color": "#B6E880",
          "symbol": "circle"
         },
         "mode": "markers",
         "name": "Tanzania",
         "showlegend": true,
         "type": "scattergl",
         "x": [
          3.9224841594696045,
          4.3179497718811035,
          4.38474178314209,
          3.40750789642334,
          3.2291290760040283,
          4.073562145233154,
          4.006897449493408,
          3.8523948192596436,
          3.483278512954712,
          3.660597324371338,
          2.9027342796325684,
          3.347121238708496,
          3.44502329826355,
          3.6401548385620117,
          3.785684108734131
         ],
         "xaxis": "x",
         "y": [
          0.7868585586547852,
          0.7158322930335999,
          0.5622117519378662,
          0.6065491437911987,
          0.5971216559410095,
          0.7360303401947021,
          0.5774533152580261,
          0.6541821360588074,
          0.6541250944137573,
          0.7586846947669983,
          0.7754849195480347,
          0.8004955053329468,
          0.8071421384811401,
          0.8501325249671936,
          0.83034348487854
         ],
         "yaxis": "y"
        },
        {
         "hovertemplate": "Country name=Thailand<br>Life Ladder=%{x}<br>Freedom to make life choices=%{y}<extra></extra>",
         "legendgroup": "Thailand",
         "marker": {
          "color": "#FF97FF",
          "symbol": "circle"
         },
         "mode": "markers",
         "name": "Thailand",
         "showlegend": true,
         "type": "scattergl",
         "x": [
          5.885432720184326,
          5.783891201019287,
          5.636471271514893,
          5.475645065307617,
          6.216702938079834,
          6.663609027862549,
          6.300235271453857,
          6.231024742126465,
          6.985463619232178,
          6.201762676239014,
          6.073639869689941,
          5.938895225524902,
          6.011561870574951,
          6.022151470184326,
          5.884544372558594
         ],
         "xaxis": "x",
         "y": [
          0.86319500207901,
          0.8701592683792114,
          0.8678337335586548,
          0.8682237267494202,
          0.8596364259719849,
          0.9268818497657776,
          0.8469328284263611,
          0.7810819745063782,
          0.8998463153839111,
          0.8849165439605713,
          0.9241456985473633,
          0.9228968024253845,
          0.9048282504081726,
          0.8982446193695068,
          0.8404632806777954
         ],
         "yaxis": "y"
        },
        {
         "hovertemplate": "Country name=Togo<br>Life Ladder=%{x}<br>Freedom to make life choices=%{y}<extra></extra>",
         "legendgroup": "Togo",
         "marker": {
          "color": "#FECB52",
          "symbol": "circle"
         },
         "mode": "markers",
         "name": "Togo",
         "showlegend": true,
         "type": "scattergl",
         "x": [
          3.2024292945861816,
          2.8078551292419434,
          2.93622088432312,
          2.838958740234375,
          3.7683019638061523,
          3.8785784244537354,
          4.360805034637451,
          4.022894859313965,
          4.1794939041137695
         ],
         "xaxis": "x",
         "y": [
          0.628228485584259,
          0.2868143916130066,
          0.5840883255004883,
          0.6631932258605957,
          0.7715772390365601,
          0.7302867770195007,
          0.7166944146156311,
          0.6119662523269653,
          0.6174197793006897
         ],
         "yaxis": "y"
        },
        {
         "hovertemplate": "Country name=Trinidad and Tobago<br>Life Ladder=%{x}<br>Freedom to make life choices=%{y}<extra></extra>",
         "legendgroup": "Trinidad and Tobago",
         "marker": {
          "color": "#636efa",
          "symbol": "circle"
         },
         "mode": "markers",
         "name": "Trinidad and Tobago",
         "showlegend": true,
         "type": "scattergl",
         "x": [
          5.832188606262207,
          6.696444034576416,
          6.5187458992004395,
          6.1677069664001465,
          6.191859722137451
         ],
         "xaxis": "x",
         "y": [
          0.8400887250900269,
          0.8381404280662537,
          0.7753918766975403,
          0.8469414710998535,
          0.8591404557228088
         ],
         "yaxis": "y"
        },
        {
         "hovertemplate": "Country name=Tunisia<br>Life Ladder=%{x}<br>Freedom to make life choices=%{y}<extra></extra>",
         "legendgroup": "Tunisia",
         "marker": {
          "color": "#EF553B",
          "symbol": "circle"
         },
         "mode": "markers",
         "name": "Tunisia",
         "showlegend": true,
         "type": "scattergl",
         "x": [
          5.02547025680542,
          5.130520820617676,
          4.876482009887695,
          4.463531017303467,
          5.245604991912842,
          4.763594627380371,
          5.1316118240356445,
          4.521453380584717,
          4.124342918395996,
          4.7411322593688965,
          4.315479755401611,
          4.73081111907959
         ],
         "xaxis": "x",
         "y": [
          0.7814962863922119,
          0.6235928535461426,
          0.603123664855957,
          0.5677372217178345,
          0.5362877249717712,
          0.5889342427253723,
          0.7113733887672424,
          0.6144383549690247,
          0.4779566526412964,
          0.6496800780296326,
          0.659331738948822,
          0.6677581071853638
         ],
         "yaxis": "y"
        },
        {
         "hovertemplate": "Country name=Turkey<br>Life Ladder=%{x}<br>Freedom to make life choices=%{y}<extra></extra>",
         "legendgroup": "Turkey",
         "marker": {
          "color": "#00cc96",
          "symbol": "circle"
         },
         "mode": "markers",
         "name": "Turkey",
         "showlegend": true,
         "type": "scattergl",
         "x": [
          4.718733787536621,
          5.623471736907959,
          5.118231773376465,
          5.212841510772705,
          5.490347385406494,
          5.271944046020508,
          5.309076309204102,
          4.888177394866943,
          5.579794406890869,
          5.51446533203125,
          5.326221942901611,
          5.607262134552002,
          5.185689449310303,
          4.872073650360107,
          4.861554145812988
         ],
         "xaxis": "x",
         "y": [
          0.6231149435043335,
          0.45931151509284973,
          0.41549786925315857,
          0.4558170735836029,
          0.5149203538894653,
          0.44560664892196655,
          0.470903217792511,
          0.5407233834266663,
          0.6491960883140564,
          0.6531967520713806,
          0.644146740436554,
          0.6444342136383057,
          0.5286290645599365,
          0.6310837864875793,
          0.5103858709335327
         ],
         "yaxis": "y"
        },
        {
         "hovertemplate": "Country name=Turkmenistan<br>Life Ladder=%{x}<br>Freedom to make life choices=%{y}<extra></extra>",
         "legendgroup": "Turkmenistan",
         "marker": {
          "color": "#ab63fa",
          "symbol": "circle"
         },
         "mode": "markers",
         "name": "Turkmenistan",
         "showlegend": true,
         "type": "scattergl",
         "x": [
          6.567713260650635,
          5.791754722595215,
          5.463827133178711,
          5.391762733459473,
          5.787379264831543,
          5.791460037231445,
          5.887051582336426,
          5.229148864746094,
          4.620601654052734,
          5.474299907684326
         ],
         "xaxis": "x",
         "y": [
          null,
          null,
          0.7855633497238159,
          0.7045294642448425,
          0.8046780824661255,
          0.7013583779335022,
          0.7485044002532959,
          0.7203992009162903,
          0.8577740788459778,
          0.8915268778800964
         ],
         "yaxis": "y"
        },
        {
         "hovertemplate": "Country name=Uganda<br>Life Ladder=%{x}<br>Freedom to make life choices=%{y}<extra></extra>",
         "legendgroup": "Uganda",
         "marker": {
          "color": "#FFA15A",
          "symbol": "circle"
         },
         "mode": "markers",
         "name": "Uganda",
         "showlegend": true,
         "type": "scattergl",
         "x": [
          3.733583927154541,
          4.455838680267334,
          4.568619251251221,
          4.611985683441162,
          4.192882061004639,
          4.826001167297363,
          4.309237957000732,
          3.7095787525177,
          3.7699191570281982,
          4.237686634063721,
          4.2332611083984375,
          4.000516891479492,
          4.321714878082275,
          4.948051452636719,
          4.640909671783447
         ],
         "xaxis": "x",
         "y": [
          0.7467228174209595,
          0.7079605460166931,
          0.5779337286949158,
          0.7602314949035645,
          0.8006672859191895,
          0.7329739928245544,
          0.6494632363319397,
          0.7630213499069214,
          0.834174394607544,
          0.757835328578949,
          0.7394097447395325,
          0.7723441123962402,
          0.7285127639770508,
          0.7043766379356384,
          0.6874821186065674
         ],
         "yaxis": "y"
        },
        {
         "hovertemplate": "Country name=Ukraine<br>Life Ladder=%{x}<br>Freedom to make life choices=%{y}<extra></extra>",
         "legendgroup": "Ukraine",
         "marker": {
          "color": "#19d3f3",
          "symbol": "circle"
         },
         "mode": "markers",
         "name": "Ukraine",
         "showlegend": true,
         "type": "scattergl",
         "x": [
          4.803954124450684,
          5.252181529998779,
          5.172380447387695,
          5.165639400482178,
          5.05756139755249,
          5.083132743835449,
          5.030342102050781,
          4.7108025550842285,
          4.297329902648926,
          3.964542865753174,
          4.028690338134766,
          4.3110671043396,
          4.661909103393555,
          4.7017621994018555,
          5.2696757316589355
         ],
         "xaxis": "x",
         "y": [
          0.6238141059875488,
          0.49392247200012207,
          0.4866269826889038,
          0.4603484869003296,
          0.4838331937789917,
          0.5786693096160889,
          0.5636497735977173,
          0.5687156915664673,
          0.5332674980163574,
          0.43059203028678894,
          0.5025418996810913,
          0.5988755226135254,
          0.6630550622940063,
          0.7153117656707764,
          0.7842734456062317
         ],
         "yaxis": "y"
        },
        {
         "hovertemplate": "Country name=United Arab Emirates<br>Life Ladder=%{x}<br>Freedom to make life choices=%{y}<extra></extra>",
         "legendgroup": "United Arab Emirates",
         "marker": {
          "color": "#FF6692",
          "symbol": "circle"
         },
         "mode": "markers",
         "name": "United Arab Emirates",
         "showlegend": true,
         "type": "scattergl",
         "x": [
          6.734221935272217,
          6.866062641143799,
          7.0974555015563965,
          7.118701457977295,
          7.217766761779785,
          6.620951175689697,
          6.539854526519775,
          6.568397521972656,
          6.8309502601623535,
          7.039419651031494,
          6.603743553161621,
          6.710782527923584,
          6.458392143249512
         ],
         "xaxis": "x",
         "y": [
          0.8975570201873779,
          0.8488218784332275,
          0.8777507543563843,
          0.889463484287262,
          0.9197925925254822,
          0.9359788298606873,
          null,
          0.9150362014770508,
          0.949119508266449,
          0.9620166420936584,
          0.9436643719673157,
          0.9114195108413696,
          0.942161500453949
         ],
         "yaxis": "y"
        },
        {
         "hovertemplate": "Country name=United Kingdom<br>Life Ladder=%{x}<br>Freedom to make life choices=%{y}<extra></extra>",
         "legendgroup": "United Kingdom",
         "marker": {
          "color": "#B6E880",
          "symbol": "circle"
         },
         "mode": "markers",
         "name": "United Kingdom",
         "showlegend": true,
         "type": "scattergl",
         "x": [
          6.983556747436523,
          6.801930904388428,
          6.98646354675293,
          6.9065470695495605,
          7.029364109039307,
          6.869248867034912,
          6.880784034729004,
          6.918055057525635,
          6.758147716522217,
          6.515445232391357,
          6.824283599853516,
          7.103273391723633,
          7.233445167541504,
          7.157151222229004,
          6.798177242279053
         ],
         "xaxis": "x",
         "y": [
          0.922354519367218,
          0.8383316397666931,
          0.7591441869735718,
          0.8162288069725037,
          0.841306746006012,
          0.899774432182312,
          0.8889704942703247,
          0.9052780270576477,
          0.8570396900177002,
          0.8329260945320129,
          0.8211921453475952,
          0.8127332925796509,
          0.8375083804130554,
          0.8540395498275757,
          0.8846240043640137
         ],
         "yaxis": "y"
        },
        {
         "hovertemplate": "Country name=United States<br>Life Ladder=%{x}<br>Freedom to make life choices=%{y}<extra></extra>",
         "legendgroup": "United States",
         "marker": {
          "color": "#FF97FF",
          "symbol": "circle"
         },
         "mode": "markers",
         "name": "United States",
         "showlegend": true,
         "type": "scattergl",
         "x": [
          7.181793689727783,
          7.512687683105469,
          7.280385971069336,
          7.158032417297363,
          7.163616180419922,
          7.115138530731201,
          7.026226997375488,
          7.2492852210998535,
          7.151114463806152,
          6.863946914672852,
          6.803599834442139,
          6.991759300231934,
          6.882684707641602,
          6.943701267242432,
          7.028088092803955
         ],
         "xaxis": "x",
         "y": [
          0.911496102809906,
          0.8719037771224976,
          0.8779562711715698,
          0.8306838274002075,
          0.8280443549156189,
          0.8632023930549622,
          0.8226622939109802,
          0.7922556400299072,
          0.8660768866539001,
          0.8487534523010254,
          0.7578930854797363,
          0.8684967160224915,
          0.8246066570281982,
          0.8361390233039856,
          0.8504472970962524
         ],
         "yaxis": "y"
        },
        {
         "hovertemplate": "Country name=Uruguay<br>Life Ladder=%{x}<br>Freedom to make life choices=%{y}<extra></extra>",
         "legendgroup": "Uruguay",
         "marker": {
          "color": "#FECB52",
          "symbol": "circle"
         },
         "mode": "markers",
         "name": "Uruguay",
         "showlegend": true,
         "type": "scattergl",
         "x": [
          5.785868167877197,
          5.69394588470459,
          5.663869857788086,
          6.296222686767578,
          6.062010765075684,
          6.554047107696533,
          6.449728488922119,
          6.444464683532715,
          6.56144380569458,
          6.628080368041992,
          6.171485424041748,
          6.336009979248047,
          6.3717145919799805,
          6.600337028503418,
          6.309681415557861
         ],
         "xaxis": "x",
         "y": [
          0.8065792322158813,
          0.7862486243247986,
          0.8079302310943604,
          0.8250494599342346,
          0.8322413563728333,
          0.8514415621757507,
          0.8705900311470032,
          0.8882780075073242,
          0.9043328762054443,
          0.9168796539306641,
          0.886371910572052,
          0.8978516459465027,
          0.8762109279632568,
          0.9026787877082825,
          0.9077619314193726
         ],
         "yaxis": "y"
        },
        {
         "hovertemplate": "Country name=Uzbekistan<br>Life Ladder=%{x}<br>Freedom to make life choices=%{y}<extra></extra>",
         "legendgroup": "Uzbekistan",
         "marker": {
          "color": "#636efa",
          "symbol": "circle"
         },
         "mode": "markers",
         "name": "Uzbekistan",
         "showlegend": true,
         "type": "scattergl",
         "x": [
          5.2323222160339355,
          5.311368465423584,
          5.260720729827881,
          5.09534215927124,
          5.738744258880615,
          6.019331932067871,
          5.939986228942871,
          6.049212455749512,
          5.97236442565918,
          5.892539024353027,
          6.42144775390625,
          6.205460071563721,
          6.154049396514893
         ],
         "xaxis": "x",
         "y": [
          0.7843011617660522,
          0.831268846988678,
          null,
          null,
          0.9341326951980591,
          0.9135501384735107,
          0.9495399594306946,
          0.9544811844825745,
          0.9799371361732483,
          0.9838030338287354,
          0.985177755355835,
          0.969897985458374,
          0.9702945351600647
         ],
         "yaxis": "y"
        },
        {
         "hovertemplate": "Country name=Venezuela<br>Life Ladder=%{x}<br>Freedom to make life choices=%{y}<extra></extra>",
         "legendgroup": "Venezuela",
         "marker": {
          "color": "#EF553B",
          "symbol": "circle"
         },
         "mode": "markers",
         "name": "Venezuela",
         "showlegend": true,
         "type": "scattergl",
         "x": [
          7.169620990753174,
          6.525146007537842,
          6.2577714920043945,
          7.188803195953369,
          7.47845458984375,
          6.579789161682129,
          7.066577434539795,
          6.552796363830566,
          6.136096477508545,
          5.568800449371338,
          4.041114807128906,
          5.070750713348389,
          5.0056633949279785,
          5.080803394317627,
          4.573829650878906
         ],
         "xaxis": "x",
         "y": [
          0.8381980061531067,
          0.7982808351516724,
          0.6784005165100098,
          0.6768856644630432,
          0.7682569622993469,
          0.7663350105285645,
          0.8041085600852966,
          0.6419652104377747,
          0.5699619054794312,
          0.5121593475341797,
          0.4576015770435333,
          0.6355050206184387,
          0.610855221748352,
          0.6255261898040771,
          0.6118146181106567
         ],
         "yaxis": "y"
        },
        {
         "hovertemplate": "Country name=Vietnam<br>Life Ladder=%{x}<br>Freedom to make life choices=%{y}<extra></extra>",
         "legendgroup": "Vietnam",
         "marker": {
          "color": "#00cc96",
          "symbol": "circle"
         },
         "mode": "markers",
         "name": "Vietnam",
         "showlegend": true,
         "type": "scattergl",
         "x": [
          5.293659687042236,
          5.421687602996826,
          5.4804253578186035,
          5.304264545440674,
          5.295780658721924,
          5.7673444747924805,
          5.53456974029541,
          5.022698879241943,
          5.084923267364502,
          5.076315402984619,
          5.062267303466797,
          5.175278663635254,
          5.295547008514404,
          5.467451095581055
         ],
         "xaxis": "x",
         "y": [
          0.8857921361923218,
          0.9178359508514404,
          0.8886246681213379,
          0.8341338634490967,
          0.8314944505691528,
          0.8184043765068054,
          0.8560534715652466,
          0.9196074604988098,
          null,
          null,
          0.8943511247634888,
          null,
          0.9092597961425781,
          0.9524691700935364
         ],
         "yaxis": "y"
        },
        {
         "hovertemplate": "Country name=Yemen<br>Life Ladder=%{x}<br>Freedom to make life choices=%{y}<extra></extra>",
         "legendgroup": "Yemen",
         "marker": {
          "color": "#ab63fa",
          "symbol": "circle"
         },
         "mode": "markers",
         "name": "Yemen",
         "showlegend": true,
         "type": "scattergl",
         "x": [
          4.477132797241211,
          4.809258937835693,
          4.35031270980835,
          3.74625563621521,
          4.060600757598877,
          4.217678546905518,
          3.9679579734802246,
          2.9826738834381104,
          3.8256309032440186,
          3.2535600662231445,
          3.057513952255249,
          4.19691276550293
         ],
         "xaxis": "x",
         "y": [
          0.6726853251457214,
          0.6442286968231201,
          0.6592839956283569,
          0.6382105946540833,
          0.705815315246582,
          0.5425474643707275,
          0.6639087200164795,
          0.6099807620048523,
          0.5329640507698059,
          0.5951907634735107,
          0.5527260899543762,
          0.6513082385063171
         ],
         "yaxis": "y"
        },
        {
         "hovertemplate": "Country name=Zambia<br>Life Ladder=%{x}<br>Freedom to make life choices=%{y}<extra></extra>",
         "legendgroup": "Zambia",
         "marker": {
          "color": "#FFA15A",
          "symbol": "circle"
         },
         "mode": "markers",
         "name": "Zambia",
         "showlegend": true,
         "type": "scattergl",
         "x": [
          4.8244547843933105,
          3.998293161392212,
          4.7302632331848145,
          5.2603607177734375,
          4.9991135597229,
          5.0133748054504395,
          5.243995666503906,
          4.345837116241455,
          4.843164443969727,
          4.347543716430664,
          3.9327774047851562,
          4.041488170623779,
          3.3067965507507324,
          4.837992191314697
         ],
         "xaxis": "x",
         "y": [
          0.7209715247154236,
          0.6820050477981567,
          0.7169937491416931,
          0.6961830258369446,
          0.6628500819206238,
          0.787760317325592,
          0.7699123620986938,
          0.8118249177932739,
          0.7586536407470703,
          0.8115745186805725,
          0.8231685757637024,
          0.7906259298324585,
          0.8110398054122925,
          0.7504224181175232
         ],
         "yaxis": "y"
        },
        {
         "hovertemplate": "Country name=Zimbabwe<br>Life Ladder=%{x}<br>Freedom to make life choices=%{y}<extra></extra>",
         "legendgroup": "Zimbabwe",
         "marker": {
          "color": "#19d3f3",
          "symbol": "circle"
         },
         "mode": "markers",
         "name": "Zimbabwe",
         "showlegend": true,
         "type": "scattergl",
         "x": [
          3.826268434524536,
          3.2802467346191406,
          3.1742637157440186,
          4.055914402008057,
          4.681569576263428,
          4.845641613006592,
          4.9551005363464355,
          4.690187931060791,
          4.184450626373291,
          3.7031912803649902,
          3.7354001998901367,
          3.6383001804351807,
          3.6164798736572266,
          2.6935231685638428,
          3.159802198410034
         ],
         "xaxis": "x",
         "y": [
          0.4311104118824005,
          0.45595723390579224,
          0.3435560464859009,
          0.4110891819000244,
          0.6647182106971741,
          0.6329779624938965,
          0.46953117847442627,
          0.5758842825889587,
          0.6420338153839111,
          0.6671932935714722,
          0.7329714894294739,
          0.7528260946273804,
          0.762674868106842,
          0.63190758228302,
          0.6433029770851135
         ],
         "yaxis": "y"
        }
       ],
       "layout": {
        "legend": {
         "title": {
          "text": "Country name"
         },
         "tracegroupgap": 0
        },
        "margin": {
         "t": 60
        },
        "template": {
         "data": {
          "bar": [
           {
            "error_x": {
             "color": "#2a3f5f"
            },
            "error_y": {
             "color": "#2a3f5f"
            },
            "marker": {
             "line": {
              "color": "#E5ECF6",
              "width": 0.5
             }
            },
            "type": "bar"
           }
          ],
          "barpolar": [
           {
            "marker": {
             "line": {
              "color": "#E5ECF6",
              "width": 0.5
             }
            },
            "type": "barpolar"
           }
          ],
          "carpet": [
           {
            "aaxis": {
             "endlinecolor": "#2a3f5f",
             "gridcolor": "white",
             "linecolor": "white",
             "minorgridcolor": "white",
             "startlinecolor": "#2a3f5f"
            },
            "baxis": {
             "endlinecolor": "#2a3f5f",
             "gridcolor": "white",
             "linecolor": "white",
             "minorgridcolor": "white",
             "startlinecolor": "#2a3f5f"
            },
            "type": "carpet"
           }
          ],
          "choropleth": [
           {
            "colorbar": {
             "outlinewidth": 0,
             "ticks": ""
            },
            "type": "choropleth"
           }
          ],
          "contour": [
           {
            "colorbar": {
             "outlinewidth": 0,
             "ticks": ""
            },
            "colorscale": [
             [
              0,
              "#0d0887"
             ],
             [
              0.1111111111111111,
              "#46039f"
             ],
             [
              0.2222222222222222,
              "#7201a8"
             ],
             [
              0.3333333333333333,
              "#9c179e"
             ],
             [
              0.4444444444444444,
              "#bd3786"
             ],
             [
              0.5555555555555556,
              "#d8576b"
             ],
             [
              0.6666666666666666,
              "#ed7953"
             ],
             [
              0.7777777777777778,
              "#fb9f3a"
             ],
             [
              0.8888888888888888,
              "#fdca26"
             ],
             [
              1,
              "#f0f921"
             ]
            ],
            "type": "contour"
           }
          ],
          "contourcarpet": [
           {
            "colorbar": {
             "outlinewidth": 0,
             "ticks": ""
            },
            "type": "contourcarpet"
           }
          ],
          "heatmap": [
           {
            "colorbar": {
             "outlinewidth": 0,
             "ticks": ""
            },
            "colorscale": [
             [
              0,
              "#0d0887"
             ],
             [
              0.1111111111111111,
              "#46039f"
             ],
             [
              0.2222222222222222,
              "#7201a8"
             ],
             [
              0.3333333333333333,
              "#9c179e"
             ],
             [
              0.4444444444444444,
              "#bd3786"
             ],
             [
              0.5555555555555556,
              "#d8576b"
             ],
             [
              0.6666666666666666,
              "#ed7953"
             ],
             [
              0.7777777777777778,
              "#fb9f3a"
             ],
             [
              0.8888888888888888,
              "#fdca26"
             ],
             [
              1,
              "#f0f921"
             ]
            ],
            "type": "heatmap"
           }
          ],
          "heatmapgl": [
           {
            "colorbar": {
             "outlinewidth": 0,
             "ticks": ""
            },
            "colorscale": [
             [
              0,
              "#0d0887"
             ],
             [
              0.1111111111111111,
              "#46039f"
             ],
             [
              0.2222222222222222,
              "#7201a8"
             ],
             [
              0.3333333333333333,
              "#9c179e"
             ],
             [
              0.4444444444444444,
              "#bd3786"
             ],
             [
              0.5555555555555556,
              "#d8576b"
             ],
             [
              0.6666666666666666,
              "#ed7953"
             ],
             [
              0.7777777777777778,
              "#fb9f3a"
             ],
             [
              0.8888888888888888,
              "#fdca26"
             ],
             [
              1,
              "#f0f921"
             ]
            ],
            "type": "heatmapgl"
           }
          ],
          "histogram": [
           {
            "marker": {
             "colorbar": {
              "outlinewidth": 0,
              "ticks": ""
             }
            },
            "type": "histogram"
           }
          ],
          "histogram2d": [
           {
            "colorbar": {
             "outlinewidth": 0,
             "ticks": ""
            },
            "colorscale": [
             [
              0,
              "#0d0887"
             ],
             [
              0.1111111111111111,
              "#46039f"
             ],
             [
              0.2222222222222222,
              "#7201a8"
             ],
             [
              0.3333333333333333,
              "#9c179e"
             ],
             [
              0.4444444444444444,
              "#bd3786"
             ],
             [
              0.5555555555555556,
              "#d8576b"
             ],
             [
              0.6666666666666666,
              "#ed7953"
             ],
             [
              0.7777777777777778,
              "#fb9f3a"
             ],
             [
              0.8888888888888888,
              "#fdca26"
             ],
             [
              1,
              "#f0f921"
             ]
            ],
            "type": "histogram2d"
           }
          ],
          "histogram2dcontour": [
           {
            "colorbar": {
             "outlinewidth": 0,
             "ticks": ""
            },
            "colorscale": [
             [
              0,
              "#0d0887"
             ],
             [
              0.1111111111111111,
              "#46039f"
             ],
             [
              0.2222222222222222,
              "#7201a8"
             ],
             [
              0.3333333333333333,
              "#9c179e"
             ],
             [
              0.4444444444444444,
              "#bd3786"
             ],
             [
              0.5555555555555556,
              "#d8576b"
             ],
             [
              0.6666666666666666,
              "#ed7953"
             ],
             [
              0.7777777777777778,
              "#fb9f3a"
             ],
             [
              0.8888888888888888,
              "#fdca26"
             ],
             [
              1,
              "#f0f921"
             ]
            ],
            "type": "histogram2dcontour"
           }
          ],
          "mesh3d": [
           {
            "colorbar": {
             "outlinewidth": 0,
             "ticks": ""
            },
            "type": "mesh3d"
           }
          ],
          "parcoords": [
           {
            "line": {
             "colorbar": {
              "outlinewidth": 0,
              "ticks": ""
             }
            },
            "type": "parcoords"
           }
          ],
          "pie": [
           {
            "automargin": true,
            "type": "pie"
           }
          ],
          "scatter": [
           {
            "marker": {
             "colorbar": {
              "outlinewidth": 0,
              "ticks": ""
             }
            },
            "type": "scatter"
           }
          ],
          "scatter3d": [
           {
            "line": {
             "colorbar": {
              "outlinewidth": 0,
              "ticks": ""
             }
            },
            "marker": {
             "colorbar": {
              "outlinewidth": 0,
              "ticks": ""
             }
            },
            "type": "scatter3d"
           }
          ],
          "scattercarpet": [
           {
            "marker": {
             "colorbar": {
              "outlinewidth": 0,
              "ticks": ""
             }
            },
            "type": "scattercarpet"
           }
          ],
          "scattergeo": [
           {
            "marker": {
             "colorbar": {
              "outlinewidth": 0,
              "ticks": ""
             }
            },
            "type": "scattergeo"
           }
          ],
          "scattergl": [
           {
            "marker": {
             "colorbar": {
              "outlinewidth": 0,
              "ticks": ""
             }
            },
            "type": "scattergl"
           }
          ],
          "scattermapbox": [
           {
            "marker": {
             "colorbar": {
              "outlinewidth": 0,
              "ticks": ""
             }
            },
            "type": "scattermapbox"
           }
          ],
          "scatterpolar": [
           {
            "marker": {
             "colorbar": {
              "outlinewidth": 0,
              "ticks": ""
             }
            },
            "type": "scatterpolar"
           }
          ],
          "scatterpolargl": [
           {
            "marker": {
             "colorbar": {
              "outlinewidth": 0,
              "ticks": ""
             }
            },
            "type": "scatterpolargl"
           }
          ],
          "scatterternary": [
           {
            "marker": {
             "colorbar": {
              "outlinewidth": 0,
              "ticks": ""
             }
            },
            "type": "scatterternary"
           }
          ],
          "surface": [
           {
            "colorbar": {
             "outlinewidth": 0,
             "ticks": ""
            },
            "colorscale": [
             [
              0,
              "#0d0887"
             ],
             [
              0.1111111111111111,
              "#46039f"
             ],
             [
              0.2222222222222222,
              "#7201a8"
             ],
             [
              0.3333333333333333,
              "#9c179e"
             ],
             [
              0.4444444444444444,
              "#bd3786"
             ],
             [
              0.5555555555555556,
              "#d8576b"
             ],
             [
              0.6666666666666666,
              "#ed7953"
             ],
             [
              0.7777777777777778,
              "#fb9f3a"
             ],
             [
              0.8888888888888888,
              "#fdca26"
             ],
             [
              1,
              "#f0f921"
             ]
            ],
            "type": "surface"
           }
          ],
          "table": [
           {
            "cells": {
             "fill": {
              "color": "#EBF0F8"
             },
             "line": {
              "color": "white"
             }
            },
            "header": {
             "fill": {
              "color": "#C8D4E3"
             },
             "line": {
              "color": "white"
             }
            },
            "type": "table"
           }
          ]
         },
         "layout": {
          "annotationdefaults": {
           "arrowcolor": "#2a3f5f",
           "arrowhead": 0,
           "arrowwidth": 1
          },
          "autotypenumbers": "strict",
          "coloraxis": {
           "colorbar": {
            "outlinewidth": 0,
            "ticks": ""
           }
          },
          "colorscale": {
           "diverging": [
            [
             0,
             "#8e0152"
            ],
            [
             0.1,
             "#c51b7d"
            ],
            [
             0.2,
             "#de77ae"
            ],
            [
             0.3,
             "#f1b6da"
            ],
            [
             0.4,
             "#fde0ef"
            ],
            [
             0.5,
             "#f7f7f7"
            ],
            [
             0.6,
             "#e6f5d0"
            ],
            [
             0.7,
             "#b8e186"
            ],
            [
             0.8,
             "#7fbc41"
            ],
            [
             0.9,
             "#4d9221"
            ],
            [
             1,
             "#276419"
            ]
           ],
           "sequential": [
            [
             0,
             "#0d0887"
            ],
            [
             0.1111111111111111,
             "#46039f"
            ],
            [
             0.2222222222222222,
             "#7201a8"
            ],
            [
             0.3333333333333333,
             "#9c179e"
            ],
            [
             0.4444444444444444,
             "#bd3786"
            ],
            [
             0.5555555555555556,
             "#d8576b"
            ],
            [
             0.6666666666666666,
             "#ed7953"
            ],
            [
             0.7777777777777778,
             "#fb9f3a"
            ],
            [
             0.8888888888888888,
             "#fdca26"
            ],
            [
             1,
             "#f0f921"
            ]
           ],
           "sequentialminus": [
            [
             0,
             "#0d0887"
            ],
            [
             0.1111111111111111,
             "#46039f"
            ],
            [
             0.2222222222222222,
             "#7201a8"
            ],
            [
             0.3333333333333333,
             "#9c179e"
            ],
            [
             0.4444444444444444,
             "#bd3786"
            ],
            [
             0.5555555555555556,
             "#d8576b"
            ],
            [
             0.6666666666666666,
             "#ed7953"
            ],
            [
             0.7777777777777778,
             "#fb9f3a"
            ],
            [
             0.8888888888888888,
             "#fdca26"
            ],
            [
             1,
             "#f0f921"
            ]
           ]
          },
          "colorway": [
           "#636efa",
           "#EF553B",
           "#00cc96",
           "#ab63fa",
           "#FFA15A",
           "#19d3f3",
           "#FF6692",
           "#B6E880",
           "#FF97FF",
           "#FECB52"
          ],
          "font": {
           "color": "#2a3f5f"
          },
          "geo": {
           "bgcolor": "white",
           "lakecolor": "white",
           "landcolor": "#E5ECF6",
           "showlakes": true,
           "showland": true,
           "subunitcolor": "white"
          },
          "hoverlabel": {
           "align": "left"
          },
          "hovermode": "closest",
          "mapbox": {
           "style": "light"
          },
          "paper_bgcolor": "white",
          "plot_bgcolor": "#E5ECF6",
          "polar": {
           "angularaxis": {
            "gridcolor": "white",
            "linecolor": "white",
            "ticks": ""
           },
           "bgcolor": "#E5ECF6",
           "radialaxis": {
            "gridcolor": "white",
            "linecolor": "white",
            "ticks": ""
           }
          },
          "scene": {
           "xaxis": {
            "backgroundcolor": "#E5ECF6",
            "gridcolor": "white",
            "gridwidth": 2,
            "linecolor": "white",
            "showbackground": true,
            "ticks": "",
            "zerolinecolor": "white"
           },
           "yaxis": {
            "backgroundcolor": "#E5ECF6",
            "gridcolor": "white",
            "gridwidth": 2,
            "linecolor": "white",
            "showbackground": true,
            "ticks": "",
            "zerolinecolor": "white"
           },
           "zaxis": {
            "backgroundcolor": "#E5ECF6",
            "gridcolor": "white",
            "gridwidth": 2,
            "linecolor": "white",
            "showbackground": true,
            "ticks": "",
            "zerolinecolor": "white"
           }
          },
          "shapedefaults": {
           "line": {
            "color": "#2a3f5f"
           }
          },
          "ternary": {
           "aaxis": {
            "gridcolor": "white",
            "linecolor": "white",
            "ticks": ""
           },
           "baxis": {
            "gridcolor": "white",
            "linecolor": "white",
            "ticks": ""
           },
           "bgcolor": "#E5ECF6",
           "caxis": {
            "gridcolor": "white",
            "linecolor": "white",
            "ticks": ""
           }
          },
          "title": {
           "x": 0.05
          },
          "xaxis": {
           "automargin": true,
           "gridcolor": "white",
           "linecolor": "white",
           "ticks": "",
           "title": {
            "standoff": 15
           },
           "zerolinecolor": "white",
           "zerolinewidth": 2
          },
          "yaxis": {
           "automargin": true,
           "gridcolor": "white",
           "linecolor": "white",
           "ticks": "",
           "title": {
            "standoff": 15
           },
           "zerolinecolor": "white",
           "zerolinewidth": 2
          }
         }
        },
        "xaxis": {
         "anchor": "y",
         "domain": [
          0,
          1
         ],
         "title": {
          "text": "Life Ladder"
         }
        },
        "yaxis": {
         "anchor": "x",
         "domain": [
          0,
          1
         ],
         "title": {
          "text": "Freedom to make life choices"
         }
        }
       }
      },
      "text/html": [
       "<div>                            <div id=\"fe251f77-7886-40fc-b8fd-e6d30b34479e\" class=\"plotly-graph-div\" style=\"height:525px; width:100%;\"></div>            <script type=\"text/javascript\">                require([\"plotly\"], function(Plotly) {                    window.PLOTLYENV=window.PLOTLYENV || {};                                    if (document.getElementById(\"fe251f77-7886-40fc-b8fd-e6d30b34479e\")) {                    Plotly.newPlot(                        \"fe251f77-7886-40fc-b8fd-e6d30b34479e\",                        [{\"hovertemplate\": \"Country name=Afghanistan<br>Life Ladder=%{x}<br>Freedom to make life choices=%{y}<extra></extra>\", \"legendgroup\": \"Afghanistan\", \"marker\": {\"color\": \"#636efa\", \"symbol\": \"circle\"}, \"mode\": \"markers\", \"name\": \"Afghanistan\", \"showlegend\": true, \"type\": \"scattergl\", \"x\": [3.7235898971557617, 4.401778221130371, 4.758380889892578, 3.831719160079956, 3.782937526702881, 3.5721004009246826, 3.1308956146240234, 3.9828546047210693, 4.220168590545654, 2.6617181301116943, 2.694303274154663, 2.375091791152954], \"xaxis\": \"x\", \"y\": [0.7181143164634705, 0.6788963675498962, 0.6001272201538086, 0.4959014058113098, 0.5309350490570068, 0.5779553651809692, 0.5085140466690063, 0.3889275789260864, 0.5225661993026733, 0.4270108640193939, 0.37353554368019104, 0.3936561644077301], \"yaxis\": \"y\"}, {\"hovertemplate\": \"Country name=Albania<br>Life Ladder=%{x}<br>Freedom to make life choices=%{y}<extra></extra>\", \"legendgroup\": \"Albania\", \"marker\": {\"color\": \"#EF553B\", \"symbol\": \"circle\"}, \"mode\": \"markers\", \"name\": \"Albania\", \"showlegend\": true, \"type\": \"scattergl\", \"x\": [4.634251594543457, 5.485469818115234, 5.268936634063721, 5.867421627044678, 5.510124206542969, 4.550647735595703, 4.81376314163208, 4.6066508293151855, 4.511100769042969, 4.639548301696777, 5.0044026374816895, 4.9953179359436035, 5.364909648895264], \"xaxis\": \"x\", \"y\": [0.5286047458648682, 0.5252232551574707, 0.5689584016799927, 0.4874962568283081, 0.6015121340751648, 0.6318302750587463, 0.7346484065055847, 0.7038506865501404, 0.7298189401626587, 0.7496110200881958, 0.8242123126983643, 0.777351438999176, 0.7536710500717163], \"yaxis\": \"y\"}, {\"hovertemplate\": \"Country name=Algeria<br>Life Ladder=%{x}<br>Freedom to make life choices=%{y}<extra></extra>\", \"legendgroup\": \"Algeria\", \"marker\": {\"color\": \"#00cc96\", \"symbol\": \"circle\"}, \"mode\": \"markers\", \"name\": \"Algeria\", \"showlegend\": true, \"type\": \"scattergl\", \"x\": [5.463566780090332, 5.31719446182251, 5.60459566116333, 6.354898452758789, 5.340853691101074, 5.248912334442139, 5.043086051940918, 4.744627475738525], \"xaxis\": \"x\", \"y\": [0.5926958322525024, 0.5295612812042236, 0.5866634845733643, null, null, 0.4366704821586609, 0.5833805799484253, 0.3850834369659424], \"yaxis\": \"y\"}, {\"hovertemplate\": \"Country name=Angola<br>Life Ladder=%{x}<br>Freedom to make life choices=%{y}<extra></extra>\", \"legendgroup\": \"Angola\", \"marker\": {\"color\": \"#ab63fa\", \"symbol\": \"circle\"}, \"mode\": \"markers\", \"name\": \"Angola\", \"showlegend\": true, \"type\": \"scattergl\", \"x\": [5.589000701904297, 4.360249996185303, 3.9371068477630615, 3.7948379516601562], \"xaxis\": \"x\", \"y\": [0.5837017893791199, 0.4560285806655884, 0.4095548689365387, 0.3745415508747101], \"yaxis\": \"y\"}, {\"hovertemplate\": \"Country name=Argentina<br>Life Ladder=%{x}<br>Freedom to make life choices=%{y}<extra></extra>\", \"legendgroup\": \"Argentina\", \"marker\": {\"color\": \"#FFA15A\", \"symbol\": \"circle\"}, \"mode\": \"markers\", \"name\": \"Argentina\", \"showlegend\": true, \"type\": \"scattergl\", \"x\": [6.312925338745117, 6.073158264160156, 5.961034297943115, 6.42413330078125, 6.441067218780518, 6.775805473327637, 6.468387126922607, 6.5822601318359375, 6.671114444732666, 6.6971306800842285, 6.427221298217773, 6.039330005645752, 5.792796611785889, 6.0855607986450195, 5.900567054748535], \"xaxis\": \"x\", \"y\": [0.7330036759376526, 0.6528326272964478, 0.6782221794128418, 0.6366464495658875, 0.7302581667900085, 0.8158020377159119, 0.7474983930587769, 0.7372503876686096, 0.7450577616691589, 0.8812236785888672, 0.8477022051811218, 0.8319661617279053, 0.8458946943283081, 0.8170526027679443, 0.8233916163444519], \"yaxis\": \"y\"}, {\"hovertemplate\": \"Country name=Armenia<br>Life Ladder=%{x}<br>Freedom to make life choices=%{y}<extra></extra>\", \"legendgroup\": \"Armenia\", \"marker\": {\"color\": \"#19d3f3\", \"symbol\": \"circle\"}, \"mode\": \"markers\", \"name\": \"Armenia\", \"showlegend\": true, \"type\": \"scattergl\", \"x\": [4.289310932159424, 4.8815155029296875, 4.65197229385376, 4.177581787109375, 4.36781120300293, 4.260491371154785, 4.319711685180664, 4.277191162109375, 4.453083038330078, 4.3483195304870605, 4.325471878051758, 4.287736415863037, 5.062448501586914, 5.488086700439453], \"xaxis\": \"x\", \"y\": [0.5201978087425232, 0.6054107546806335, 0.4621565639972687, 0.4414127469062805, 0.45925670862197876, 0.4645247161388397, 0.5018637776374817, 0.5040818452835083, 0.5064871311187744, 0.5510266423225403, 0.6109869480133057, 0.6136970520019531, 0.8076436519622803, 0.8443241119384766], \"yaxis\": \"y\"}, {\"hovertemplate\": \"Country name=Australia<br>Life Ladder=%{x}<br>Freedom to make life choices=%{y}<extra></extra>\", \"legendgroup\": \"Australia\", \"marker\": {\"color\": \"#FF6692\", \"symbol\": \"circle\"}, \"mode\": \"markers\", \"name\": \"Australia\", \"showlegend\": true, \"type\": \"scattergl\", \"x\": [7.340688228607178, 7.285390853881836, 7.253757476806641, 7.450047016143799, 7.405616283416748, 7.19558572769165, 7.364169120788574, 7.28855037689209, 7.309060573577881, 7.250080108642578, 7.25703763961792, 7.176993370056152, 7.233994960784912, 7.1373677253723145], \"xaxis\": \"x\", \"y\": [0.9349732995033264, 0.8906819820404053, 0.9157333374023438, 0.932058572769165, 0.944586455821991, 0.9351462721824646, 0.9333791732788086, 0.9229322671890259, 0.9218710064888, 0.9223157167434692, 0.9105501770973206, 0.9160281419754028, 0.9175369143486023, 0.9052829742431641], \"yaxis\": \"y\"}, {\"hovertemplate\": \"Country name=Austria<br>Life Ladder=%{x}<br>Freedom to make life choices=%{y}<extra></extra>\", \"legendgroup\": \"Austria\", \"marker\": {\"color\": \"#B6E880\", \"symbol\": \"circle\"}, \"mode\": \"markers\", \"name\": \"Austria\", \"showlegend\": true, \"type\": \"scattergl\", \"x\": [7.122211456298828, 7.1809539794921875, 7.30267858505249, 7.470512866973877, 7.400688648223877, 7.498802661895752, 6.949999809265137, 7.076447010040283, 7.04807186126709, 7.293727874755859, 7.396001815795898, 7.195361137390137, 7.213489055633545], \"xaxis\": \"x\", \"y\": [0.9413823485374451, 0.8790692687034607, 0.8959797620773315, 0.9393556118011475, 0.9197039008140564, 0.9217344522476196, 0.8850268721580505, 0.9003051519393921, 0.88851398229599, 0.890030562877655, 0.9041119813919067, 0.9034276604652405, 0.9119098782539368], \"yaxis\": \"y\"}, {\"hovertemplate\": \"Country name=Azerbaijan<br>Life Ladder=%{x}<br>Freedom to make life choices=%{y}<extra></extra>\", \"legendgroup\": \"Azerbaijan\", \"marker\": {\"color\": \"#FF97FF\", \"symbol\": \"circle\"}, \"mode\": \"markers\", \"name\": \"Azerbaijan\", \"showlegend\": true, \"type\": \"scattergl\", \"x\": [4.727870941162109, 4.568159580230713, 4.8171892166137695, 4.57372522354126, 4.218610763549805, 4.680469512939453, 4.91077184677124, 5.481178283691406, 5.251530170440674, 5.146774768829346, 5.303894996643066, 5.152279376983643, 5.167995452880859, 5.173389434814453], \"xaxis\": \"x\", \"y\": [0.7715281844139099, 0.5220463275909424, 0.6010432839393616, 0.4981383979320526, 0.5010710954666138, 0.5374842882156372, 0.5988590717315674, 0.6719569563865662, 0.732772946357727, 0.7642894983291626, 0.7125731706619263, 0.7310304641723633, 0.772449254989624, 0.8542485237121582], \"yaxis\": \"y\"}, {\"hovertemplate\": \"Country name=Bahrain<br>Life Ladder=%{x}<br>Freedom to make life choices=%{y}<extra></extra>\", \"legendgroup\": \"Bahrain\", \"marker\": {\"color\": \"#FECB52\", \"symbol\": \"circle\"}, \"mode\": \"markers\", \"name\": \"Bahrain\", \"showlegend\": true, \"type\": \"scattergl\", \"x\": [5.700523376464844, 5.936869144439697, 4.823976039886475, 5.027186870574951, 6.689711093902588, 6.165133953094482, 6.007375240325928, 6.169673442840576, 6.227320671081543, 7.098012447357178, 6.173175811767578], \"xaxis\": \"x\", \"y\": [0.8959314227104187, 0.8620029091835022, 0.8698703646659851, 0.6818228960037231, 0.809205949306488, null, 0.8495211601257324, 0.8886910676956177, 0.9058585166931152, 0.9065355062484741, 0.9452325701713562], \"yaxis\": \"y\"}, {\"hovertemplate\": \"Country name=Bangladesh<br>Life Ladder=%{x}<br>Freedom to make life choices=%{y}<extra></extra>\", \"legendgroup\": \"Bangladesh\", \"marker\": {\"color\": \"#636efa\", \"symbol\": \"circle\"}, \"mode\": \"markers\", \"name\": \"Bangladesh\", \"showlegend\": true, \"type\": \"scattergl\", \"x\": [4.318909168243408, 4.6073222160339355, 5.052278518676758, 5.082851409912109, 4.858481407165527, 4.985649108886719, 4.7244439125061035, 4.660161018371582, 4.635564804077148, 4.633473873138428, 4.556140899658203, 4.3097710609436035, 4.4992170333862305, 5.1142168045043945, 5.27998685836792], \"xaxis\": \"x\", \"y\": [0.6116642355918884, 0.6045383214950562, 0.6060121655464172, 0.6309310793876648, 0.6590056419372559, 0.8379953503608704, 0.6676822900772095, 0.7415180206298828, 0.7355128526687622, 0.8147962689399719, 0.8747004866600037, 0.8962171673774719, 0.9014708399772644, 0.9019366502761841, 0.7774671912193298], \"yaxis\": \"y\"}, {\"hovertemplate\": \"Country name=Belarus<br>Life Ladder=%{x}<br>Freedom to make life choices=%{y}<extra></extra>\", \"legendgroup\": \"Belarus\", \"marker\": {\"color\": \"#EF553B\", \"symbol\": \"circle\"}, \"mode\": \"markers\", \"name\": \"Belarus\", \"showlegend\": true, \"type\": \"scattergl\", \"x\": [5.657649993896484, 5.616976261138916, 5.463332176208496, 5.564131259918213, 5.525923252105713, 5.225307941436768, 5.7490434646606445, 5.876466274261475, 5.812400817871094, 5.718907833099365, 5.177899360656738, 5.552915096282959, 5.23376989364624, 5.821453094482422], \"xaxis\": \"x\", \"y\": [0.7070804834365845, 0.6672995090484619, 0.6399238705635071, 0.679292619228363, 0.7000644207000732, 0.6560108661651611, 0.6452488303184509, 0.7234312891960144, 0.6471845507621765, 0.6227534413337708, 0.6582288146018982, 0.6209792494773865, 0.6436023712158203, 0.656933605670929], \"yaxis\": \"y\"}, {\"hovertemplate\": \"Country name=Belgium<br>Life Ladder=%{x}<br>Freedom to make life choices=%{y}<extra></extra>\", \"legendgroup\": \"Belgium\", \"marker\": {\"color\": \"#00cc96\", \"symbol\": \"circle\"}, \"mode\": \"markers\", \"name\": \"Belgium\", \"showlegend\": true, \"type\": \"scattergl\", \"x\": [7.2622904777526855, 7.218839645385742, 7.116590976715088, 6.853514194488525, 7.111363887786865, 6.935122013092041, 7.103661060333252, 6.8553290367126465, 6.904219150543213, 6.948936462402344, 6.928347587585449, 6.892171859741211, 6.7721381187438965, 6.838760852813721], \"xaxis\": \"x\", \"y\": [0.9238430261611938, 0.9008703827857971, 0.8870267271995544, 0.8069302439689636, 0.8801535964012146, 0.8552666306495667, 0.8907110691070557, 0.8609535098075867, 0.8694749474525452, 0.865759015083313, 0.8568019866943359, 0.8083866238594055, 0.7762036323547363, 0.7669178247451782], \"yaxis\": \"y\"}, {\"hovertemplate\": \"Country name=Belize<br>Life Ladder=%{x}<br>Freedom to make life choices=%{y}<extra></extra>\", \"legendgroup\": \"Belize\", \"marker\": {\"color\": \"#ab63fa\", \"symbol\": \"circle\"}, \"mode\": \"markers\", \"name\": \"Belize\", \"showlegend\": true, \"type\": \"scattergl\", \"x\": [6.450644493103027, 5.955646514892578], \"xaxis\": \"x\", \"y\": [0.7053059339523315, 0.8735690712928772], \"yaxis\": \"y\"}, {\"hovertemplate\": \"Country name=Benin<br>Life Ladder=%{x}<br>Freedom to make life choices=%{y}<extra></extra>\", \"legendgroup\": \"Benin\", \"marker\": {\"color\": \"#FFA15A\", \"symbol\": \"circle\"}, \"mode\": \"markers\", \"name\": \"Benin\", \"showlegend\": true, \"type\": \"scattergl\", \"x\": [3.329801559448242, 3.6671395301818848, 3.870279550552368, 3.1934688091278076, 3.479412794113159, 3.347419261932373, 3.624664306640625, 4.007357597351074, 4.853180885314941, 5.819827079772949, 4.97636079788208, 4.407745838165283], \"xaxis\": \"x\", \"y\": [0.5800693035125732, 0.7094769477844238, 0.7729187607765198, 0.7689710855484009, 0.7832404971122742, 0.7755457758903503, 0.7333835959434509, 0.779795229434967, 0.7268082499504089, 0.7132640480995178, 0.770359992980957, 0.7831146717071533], \"yaxis\": \"y\"}, {\"hovertemplate\": \"Country name=Bhutan<br>Life Ladder=%{x}<br>Freedom to make life choices=%{y}<extra></extra>\", \"legendgroup\": \"Bhutan\", \"marker\": {\"color\": \"#19d3f3\", \"symbol\": \"circle\"}, \"mode\": \"markers\", \"name\": \"Bhutan\", \"showlegend\": true, \"type\": \"scattergl\", \"x\": [5.569091796875, 4.938578128814697, 5.082128524780273], \"xaxis\": \"x\", \"y\": [0.8102014660835266, 0.8342224955558777, 0.8301015496253967], \"yaxis\": \"y\"}, {\"hovertemplate\": \"Country name=Bolivia<br>Life Ladder=%{x}<br>Freedom to make life choices=%{y}<extra></extra>\", \"legendgroup\": \"Bolivia\", \"marker\": {\"color\": \"#FF6692\", \"symbol\": \"circle\"}, \"mode\": \"markers\", \"name\": \"Bolivia\", \"showlegend\": true, \"type\": \"scattergl\", \"x\": [5.37398624420166, 5.628419399261475, 5.297872543334961, 6.0855793952941895, 5.780620098114014, 5.778874397277832, 6.018894672393799, 5.767428874969482, 5.864798545837402, 5.834329128265381, 5.769723415374756, 5.650552749633789, 5.91573429107666, 5.6742706298828125, 5.559258937835693], \"xaxis\": \"x\", \"y\": [0.7701347470283508, 0.7799352407455444, 0.7256197333335876, 0.7789385914802551, 0.7033410668373108, 0.7816737294197083, 0.8623796701431274, 0.8459316492080688, 0.8810588717460632, 0.8836250901222229, 0.8817487359046936, 0.8839049339294434, 0.8632468581199646, 0.8813109397888184, 0.8770319223403931], \"yaxis\": \"y\"}, {\"hovertemplate\": \"Country name=Bosnia and Herzegovina<br>Life Ladder=%{x}<br>Freedom to make life choices=%{y}<extra></extra>\", \"legendgroup\": \"Bosnia and Herzegovina\", \"marker\": {\"color\": \"#B6E880\", \"symbol\": \"circle\"}, \"mode\": \"markers\", \"name\": \"Bosnia and Herzegovina\", \"showlegend\": true, \"type\": \"scattergl\", \"x\": [4.899806976318359, 4.96347713470459, 4.668517589569092, 4.994670867919922, 4.773144721984863, 5.123664379119873, 5.2489542961120605, 5.117177963256836, 5.180865287780762, 5.089902400970459, 5.887401103973389, 6.015522480010986, 5.5158162117004395], \"xaxis\": \"x\", \"y\": [0.34156566858291626, 0.25753381848335266, 0.36496689915657043, 0.33331209421157837, 0.41978931427001953, 0.390341579914093, 0.4119373857975006, 0.630698025226593, 0.6334537267684937, 0.5637986660003662, 0.6588464379310608, 0.7215632200241089, 0.740250825881958], \"yaxis\": \"y\"}, {\"hovertemplate\": \"Country name=Botswana<br>Life Ladder=%{x}<br>Freedom to make life choices=%{y}<extra></extra>\", \"legendgroup\": \"Botswana\", \"marker\": {\"color\": \"#FF97FF\", \"symbol\": \"circle\"}, \"mode\": \"markers\", \"name\": \"Botswana\", \"showlegend\": true, \"type\": \"scattergl\", \"x\": [4.7393670082092285, 5.451147079467773, 3.5530202388763428, 3.519921064376831, 4.835938930511475, 4.128298759460449, 4.0311970710754395, 3.761964797973633, 3.498936653137207, 3.5048811435699463, 3.4613656997680664, 3.4710848331451416], \"xaxis\": \"x\", \"y\": [0.8237746357917786, 0.857776403427124, 0.826219379901886, 0.812514066696167, 0.7994102239608765, 0.7673574090003967, 0.79137122631073, 0.8571689128875732, 0.8516948819160461, 0.8173080086708069, 0.817621111869812, 0.8325426578521729], \"yaxis\": \"y\"}, {\"hovertemplate\": \"Country name=Brazil<br>Life Ladder=%{x}<br>Freedom to make life choices=%{y}<extra></extra>\", \"legendgroup\": \"Brazil\", \"marker\": {\"color\": \"#FECB52\", \"symbol\": \"circle\"}, \"mode\": \"markers\", \"name\": \"Brazil\", \"showlegend\": true, \"type\": \"scattergl\", \"x\": [6.636771202087402, 6.320672988891602, 6.69142484664917, 7.000831604003906, 6.837331295013428, 7.037816524505615, 6.660003662109375, 7.14028263092041, 6.980998992919922, 6.546896934509277, 6.374817371368408, 6.3329291343688965, 6.190921783447266, 6.451148986816406, 6.109717845916748], \"xaxis\": \"x\", \"y\": [0.8821861147880554, 0.7766448259353638, 0.7819311022758484, 0.7667160630226135, 0.8059492707252502, 0.8336557745933533, 0.8486063480377197, 0.7848149538040161, 0.7138143181800842, 0.7989352941513062, 0.8065715432167053, 0.7647925615310669, 0.7506090402603149, 0.830206036567688, 0.7862350940704346], \"yaxis\": \"y\"}, {\"hovertemplate\": \"Country name=Bulgaria<br>Life Ladder=%{x}<br>Freedom to make life choices=%{y}<extra></extra>\", \"legendgroup\": \"Bulgaria\", \"marker\": {\"color\": \"#636efa\", \"symbol\": \"circle\"}, \"mode\": \"markers\", \"name\": \"Bulgaria\", \"showlegend\": true, \"type\": \"scattergl\", \"x\": [3.8437979221343994, 3.912276268005371, 3.875382423400879, 4.222297191619873, 3.993020534515381, 4.438439846038818, 4.865401268005371, 4.837560653686523, 5.096901893615723, 5.098813533782959, 5.108438014984131, 5.597723007202148], \"xaxis\": \"x\", \"y\": [0.565786600112915, 0.5445364117622375, 0.6635279059410095, 0.6412564516067505, 0.603213369846344, 0.5755959153175354, 0.6368178129196167, 0.7002655267715454, 0.6890470385551453, 0.7243359088897705, 0.8219298720359802, 0.8182247877120972], \"yaxis\": \"y\"}, {\"hovertemplate\": \"Country name=Burkina Faso<br>Life Ladder=%{x}<br>Freedom to make life choices=%{y}<extra></extra>\", \"legendgroup\": \"Burkina Faso\", \"marker\": {\"color\": \"#EF553B\", \"symbol\": \"circle\"}, \"mode\": \"markers\", \"name\": \"Burkina Faso\", \"showlegend\": true, \"type\": \"scattergl\", \"x\": [3.8014907836914062, 4.017130374908447, 3.8464388847351074, 4.035560607910156, 4.785367488861084, 3.955008029937744, 3.3259496688842773, 3.4813477993011475, 4.4189300537109375, 4.205634593963623, 4.646891117095947, 4.927236080169678, 4.7408928871154785], \"xaxis\": \"x\", \"y\": [0.5883380174636841, 0.582292377948761, 0.6120641827583313, 0.586580753326416, 0.7245684862136841, 0.6218487024307251, 0.7412574291229248, 0.7099645137786865, 0.659102737903595, 0.6446815133094788, 0.6137747168540955, 0.7207434773445129, 0.6775468587875366], \"yaxis\": \"y\"}, {\"hovertemplate\": \"Country name=Burundi<br>Life Ladder=%{x}<br>Freedom to make life choices=%{y}<extra></extra>\", \"legendgroup\": \"Burundi\", \"marker\": {\"color\": \"#00cc96\", \"symbol\": \"circle\"}, \"mode\": \"markers\", \"name\": \"Burundi\", \"showlegend\": true, \"type\": \"scattergl\", \"x\": [3.563227653503418, 3.7916808128356934, 3.7058942317962646, 2.9045350551605225, 3.775283098220825], \"xaxis\": \"x\", \"y\": [0.2600693106651306, 0.42735591530799866, 0.4898630380630493, 0.43138498067855835, 0.6463986039161682], \"yaxis\": \"y\"}, {\"hovertemplate\": \"Country name=Cambodia<br>Life Ladder=%{x}<br>Freedom to make life choices=%{y}<extra></extra>\", \"legendgroup\": \"Cambodia\", \"marker\": {\"color\": \"#ab63fa\", \"symbol\": \"circle\"}, \"mode\": \"markers\", \"name\": \"Cambodia\", \"showlegend\": true, \"type\": \"scattergl\", \"x\": [3.568744659423828, 4.155971050262451, 4.462163925170898, 4.110625743865967, 4.1410722732543945, 4.161225318908691, 3.8987069129943848, 3.674466848373413, 3.883305549621582, 4.162164688110352, 4.461259365081787, 4.585842132568359, 5.121837615966797, 4.998284816741943, 4.3769850730896], \"xaxis\": \"x\", \"y\": [null, 0.8186995387077332, 0.9141729474067688, 0.9372333288192749, 0.9401311874389648, 0.9274623990058899, 0.9555957913398743, 0.9405929446220398, 0.937544584274292, 0.9563198089599609, 0.9578214883804321, 0.9637746810913086, 0.9583048224449158, 0.9567992091178894, 0.9630754590034485], \"yaxis\": \"y\"}, {\"hovertemplate\": \"Country name=Cameroon<br>Life Ladder=%{x}<br>Freedom to make life choices=%{y}<extra></extra>\", \"legendgroup\": \"Cameroon\", \"marker\": {\"color\": \"#FFA15A\", \"symbol\": \"circle\"}, \"mode\": \"markers\", \"name\": \"Cameroon\", \"showlegend\": true, \"type\": \"scattergl\", \"x\": [3.851072072982788, 4.349939346313477, 4.291800498962402, 4.741408348083496, 4.554256916046143, 4.433885097503662, 4.24463415145874, 4.271038055419922, 4.24044132232666, 5.037964820861816, 4.816232204437256, 5.074051380157471, 5.25073766708374, 4.936737537384033, 5.241077899932861], \"xaxis\": \"x\", \"y\": [0.6534226536750793, 0.6438839435577393, 0.58025723695755, 0.698030412197113, 0.7922201752662659, 0.8166937828063965, 0.7660642266273499, 0.7940759658813477, 0.7946455478668213, 0.7914285659790039, 0.7125070095062256, 0.7669450044631958, 0.8163049817085266, 0.7115002870559692, 0.6745091676712036], \"yaxis\": \"y\"}, {\"hovertemplate\": \"Country name=Canada<br>Life Ladder=%{x}<br>Freedom to make life choices=%{y}<extra></extra>\", \"legendgroup\": \"Canada\", \"marker\": {\"color\": \"#19d3f3\", \"symbol\": \"circle\"}, \"mode\": \"markers\", \"name\": \"Canada\", \"showlegend\": true, \"type\": \"scattergl\", \"x\": [7.41804838180542, 7.481752872467041, 7.4856038093566895, 7.487824440002441, 7.650346279144287, 7.426053524017334, 7.415144443511963, 7.593793869018555, 7.304257869720459, 7.4127726554870605, 7.244845867156982, 7.414868354797363, 7.175496578216553, 7.109076499938965, 7.024904727935791], \"xaxis\": \"x\", \"y\": [0.9573062658309937, 0.9303413033485413, 0.9263149499893188, 0.9150578379631042, 0.933948814868927, 0.9509252905845642, 0.9179611206054688, 0.9160138964653015, 0.9388976097106934, 0.9314689636230469, 0.9124239087104797, 0.9451450109481812, 0.9457828998565674, 0.9115256071090698, 0.8868921995162964], \"yaxis\": \"y\"}, {\"hovertemplate\": \"Country name=Central African Republic<br>Life Ladder=%{x}<br>Freedom to make life choices=%{y}<extra></extra>\", \"legendgroup\": \"Central African Republic\", \"marker\": {\"color\": \"#FF6692\", \"symbol\": \"circle\"}, \"mode\": \"markers\", \"name\": \"Central African Republic\", \"showlegend\": true, \"type\": \"scattergl\", \"x\": [4.160129547119141, 3.567892551422119, 3.677826404571533, 2.693061113357544, 3.4758620262145996], \"xaxis\": \"x\", \"y\": [0.6628710031509399, 0.6899508833885193, 0.7800177931785583, 0.6240565180778503, 0.6452523469924927], \"yaxis\": \"y\"}, {\"hovertemplate\": \"Country name=Chad<br>Life Ladder=%{x}<br>Freedom to make life choices=%{y}<extra></extra>\", \"legendgroup\": \"Chad\", \"marker\": {\"color\": \"#B6E880\", \"symbol\": \"circle\"}, \"mode\": \"markers\", \"name\": \"Chad\", \"showlegend\": true, \"type\": \"scattergl\", \"x\": [3.434800624847412, 4.141326904296875, 4.632468223571777, 3.6394450664520264, 3.742871046066284, 4.393482208251953, 4.032974720001221, 3.5076630115509033, 3.4601829051971436, 4.3226752281188965, 4.029350280761719, 4.558937072753906, 4.486325263977051, 4.250799179077148], \"xaxis\": \"x\", \"y\": [0.30613189935684204, 0.29461178183555603, 0.5266103744506836, 0.4013702869415283, 0.5046125650405884, 0.5402679443359375, 0.5629081130027771, 0.4882103502750397, 0.5667953491210938, 0.4743608832359314, 0.52522212266922, 0.6148496866226196, 0.6503545641899109, 0.5372456908226013], \"yaxis\": \"y\"}, {\"hovertemplate\": \"Country name=Chile<br>Life Ladder=%{x}<br>Freedom to make life choices=%{y}<extra></extra>\", \"legendgroup\": \"Chile\", \"marker\": {\"color\": \"#FF97FF\", \"symbol\": \"circle\"}, \"mode\": \"markers\", \"name\": \"Chile\", \"showlegend\": true, \"type\": \"scattergl\", \"x\": [6.062851905822754, 5.697929859161377, 5.789438724517822, 6.493686199188232, 6.635655879974365, 6.526334762573242, 6.599128723144531, 6.740153789520264, 6.84423828125, 6.532749652862549, 6.579056262969971, 6.320119380950928, 6.436220645904541, 5.9422502517700195, 6.1506428718566895], \"xaxis\": \"x\", \"y\": [0.7442919015884399, 0.6619051098823547, 0.6402016878128052, 0.7466140389442444, 0.7863674759864807, 0.7007341384887695, 0.7336109280586243, 0.7368873357772827, 0.7333263754844666, 0.7688814401626587, 0.6522897481918335, 0.7901164889335632, 0.7885303497314453, 0.659176766872406, 0.7813835740089417], \"yaxis\": \"y\"}, {\"hovertemplate\": \"Country name=China<br>Life Ladder=%{x}<br>Freedom to make life choices=%{y}<extra></extra>\", \"legendgroup\": \"China\", \"marker\": {\"color\": \"#FECB52\", \"symbol\": \"circle\"}, \"mode\": \"markers\", \"name\": \"China\", \"showlegend\": true, \"type\": \"scattergl\", \"x\": [4.560495376586914, 4.8628621101379395, 4.84629487991333, 4.4543609619140625, 4.652736663818359, 5.03720760345459, 5.094917297363281, 5.241090297698975, 5.195619106292725, 5.303877830505371, 5.324955940246582, 5.099061489105225, 5.131433963775635, 5.144120216369629, 5.771064758300781], \"xaxis\": \"x\", \"y\": [null, null, 0.8530720472335815, 0.7711432576179504, 0.8047935962677002, 0.8241623640060425, 0.808255136013031, 0.8047239184379578, null, null, null, 0.877617597579956, 0.8953776955604553, 0.9273562431335449, 0.8911229968070984], \"yaxis\": \"y\"}, {\"hovertemplate\": \"Country name=Colombia<br>Life Ladder=%{x}<br>Freedom to make life choices=%{y}<extra></extra>\", \"legendgroup\": \"Colombia\", \"marker\": {\"color\": \"#636efa\", \"symbol\": \"circle\"}, \"mode\": \"markers\", \"name\": \"Colombia\", \"showlegend\": true, \"type\": \"scattergl\", \"x\": [6.024942874908447, 6.138411521911621, 6.168395042419434, 6.271604537963867, 6.408113479614258, 6.463952541351318, 6.374879837036133, 6.606550693511963, 6.448789119720459, 6.387571811676025, 6.233715057373047, 6.157341957092285, 5.9835124015808105, 6.350297927856445, 5.709175109863281], \"xaxis\": \"x\", \"y\": [0.8046618103981018, 0.7858659625053406, 0.7950838208198547, 0.7571007013320923, 0.8161211013793945, 0.8109074234962463, 0.8278681039810181, 0.8411731719970703, 0.8011914491653442, 0.7908979654312134, 0.8349661231040955, 0.8375546336174011, 0.8507657647132874, 0.8215007185935974, 0.8401861190795898], \"yaxis\": \"y\"}, {\"hovertemplate\": \"Country name=Comoros<br>Life Ladder=%{x}<br>Freedom to make life choices=%{y}<extra></extra>\", \"legendgroup\": \"Comoros\", \"marker\": {\"color\": \"#EF553B\", \"symbol\": \"circle\"}, \"mode\": \"markers\", \"name\": \"Comoros\", \"showlegend\": true, \"type\": \"scattergl\", \"x\": [3.476027250289917, 3.8121910095214844, 3.8384859561920166, 3.9556403160095215, 3.9728195667266846, 4.608616352081299], \"xaxis\": \"x\", \"y\": [0.5078452825546265, 0.5286752581596375, 0.49967387318611145, 0.5340409278869629, 0.5601823329925537, 0.5382615327835083], \"yaxis\": \"y\"}, {\"hovertemplate\": \"Country name=Congo (Brazzaville)<br>Life Ladder=%{x}<br>Freedom to make life choices=%{y}<extra></extra>\", \"legendgroup\": \"Congo (Brazzaville)\", \"marker\": {\"color\": \"#00cc96\", \"symbol\": \"circle\"}, \"mode\": \"markers\", \"name\": \"Congo (Brazzaville)\", \"showlegend\": true, \"type\": \"scattergl\", \"x\": [3.8197922706604004, 4.509824275970459, 3.919341802597046, 3.9549505710601807, 4.0560126304626465, 4.690830230712891, 4.11949348449707, 4.883991241455078, 5.4902143478393555, 5.21262264251709], \"xaxis\": \"x\", \"y\": [0.525746762752533, 0.7448071837425232, 0.7725107669830322, 0.7258156538009644, 0.6616381406784058, 0.8501724600791931, 0.7859065532684326, 0.7777834534645081, 0.6987000703811646, 0.6864519715309143], \"yaxis\": \"y\"}, {\"hovertemplate\": \"Country name=Congo (Kinshasa)<br>Life Ladder=%{x}<br>Freedom to make life choices=%{y}<extra></extra>\", \"legendgroup\": \"Congo (Kinshasa)\", \"marker\": {\"color\": \"#ab63fa\", \"symbol\": \"circle\"}, \"mode\": \"markers\", \"name\": \"Congo (Kinshasa)\", \"showlegend\": true, \"type\": \"scattergl\", \"x\": [3.9838485717773438, 4.516963958740234, 4.639227390289307, 4.497477054595947, 4.414299964904785, 3.9027416706085205, 4.52193546295166, 4.311033248901367], \"xaxis\": \"x\", \"y\": [0.5564875602722168, 0.6311085820198059, 0.5572862029075623, 0.4803941547870636, 0.5560992956161499, 0.5737637877464294, 0.6373667120933533, 0.704239547252655], \"yaxis\": \"y\"}, {\"hovertemplate\": \"Country name=Costa Rica<br>Life Ladder=%{x}<br>Freedom to make life choices=%{y}<extra></extra>\", \"legendgroup\": \"Costa Rica\", \"marker\": {\"color\": \"#FFA15A\", \"symbol\": \"circle\"}, \"mode\": \"markers\", \"name\": \"Costa Rica\", \"showlegend\": true, \"type\": \"scattergl\", \"x\": [7.082465171813965, 7.432132244110107, 6.850679874420166, 7.614928722381592, 7.271053791046143, 7.228888511657715, 7.272250175476074, 7.158000469207764, 7.247086048126221, 6.854004383087158, 7.135617733001709, 7.225181579589844, 7.1410746574401855, 6.997618675231934], \"xaxis\": \"x\", \"y\": [0.8824198842048645, 0.9227356910705566, 0.9120059609413147, 0.8860610723495483, 0.8810296058654785, 0.926105797290802, 0.9289140701293945, 0.8978793025016785, 0.92670738697052, 0.9069256782531738, 0.8729719519615173, 0.9356184601783752, 0.9418883323669434, 0.9268301129341125], \"yaxis\": \"y\"}, {\"hovertemplate\": \"Country name=Croatia<br>Life Ladder=%{x}<br>Freedom to make life choices=%{y}<extra></extra>\", \"legendgroup\": \"Croatia\", \"marker\": {\"color\": \"#19d3f3\", \"symbol\": \"circle\"}, \"mode\": \"markers\", \"name\": \"Croatia\", \"showlegend\": true, \"type\": \"scattergl\", \"x\": [5.8209075927734375, 5.433319568634033, 5.595575332641602, 5.385372638702393, 6.027634620666504, 5.885462760925293, 5.380692481994629, 5.205438137054443, 5.41687536239624, 5.343165874481201, 5.536271095275879, 5.625743865966797, 6.507992267608643], \"xaxis\": \"x\", \"y\": [0.6622057557106018, 0.5492583513259888, 0.5643726587295532, 0.5169324278831482, 0.5419097542762756, 0.626699686050415, 0.5188780426979065, 0.6935230493545532, 0.671970546245575, 0.7158222794532776, 0.6908556222915649, 0.7393006086349487, 0.8366576433181763], \"yaxis\": \"y\"}, {\"hovertemplate\": \"Country name=Cuba<br>Life Ladder=%{x}<br>Freedom to make life choices=%{y}<extra></extra>\", \"legendgroup\": \"Cuba\", \"marker\": {\"color\": \"#FF6692\", \"symbol\": \"circle\"}, \"mode\": \"markers\", \"name\": \"Cuba\", \"showlegend\": true, \"type\": \"scattergl\", \"x\": [5.417868614196777], \"xaxis\": \"x\", \"y\": [0.28145793080329895], \"yaxis\": \"y\"}, {\"hovertemplate\": \"Country name=Cyprus<br>Life Ladder=%{x}<br>Freedom to make life choices=%{y}<extra></extra>\", \"legendgroup\": \"Cyprus\", \"marker\": {\"color\": \"#B6E880\", \"symbol\": \"circle\"}, \"mode\": \"markers\", \"name\": \"Cyprus\", \"showlegend\": true, \"type\": \"scattergl\", \"x\": [6.2379584312438965, 6.83347749710083, 6.3865461349487305, 6.689608573913574, 6.180507183074951, 5.438952445983887, 5.627123832702637, 5.43916130065918, 5.794618606567383, 6.062051296234131, 6.276443004608154, 6.1368327140808105, 6.259810447692871], \"xaxis\": \"x\", \"y\": [0.8361011743545532, 0.7745906710624695, 0.7553628087043762, 0.7454688549041748, 0.7246295809745789, 0.6562679409980774, 0.7150656580924988, 0.6280348300933838, 0.7562209963798523, 0.8116706609725952, 0.7942150235176086, 0.7400580048561096, 0.7627823352813721], \"yaxis\": \"y\"}, {\"hovertemplate\": \"Country name=Czech Republic<br>Life Ladder=%{x}<br>Freedom to make life choices=%{y}<extra></extra>\", \"legendgroup\": \"Czech Republic\", \"marker\": {\"color\": \"#FF97FF\", \"symbol\": \"circle\"}, \"mode\": \"markers\", \"name\": \"Czech Republic\", \"showlegend\": true, \"type\": \"scattergl\", \"x\": [6.43925666809082, 6.500194072723389, 6.249617576599121, 6.331490993499756, 6.334149360656738, 6.69765567779541, 6.483729839324951, 6.608017444610596, 6.735627174377441, 6.789567947387695, 7.034165382385254, 6.897091388702393], \"xaxis\": \"x\", \"y\": [0.8652349710464478, 0.7989493608474731, 0.7791122198104858, 0.7871800065040588, 0.7398087382316589, 0.7259456515312195, 0.8004209995269775, 0.8084841966629028, 0.850328266620636, 0.8317855000495911, 0.7901324033737183, 0.9064220190048218], \"yaxis\": \"y\"}, {\"hovertemplate\": \"Country name=Denmark<br>Life Ladder=%{x}<br>Freedom to make life choices=%{y}<extra></extra>\", \"legendgroup\": \"Denmark\", \"marker\": {\"color\": \"#FECB52\", \"symbol\": \"circle\"}, \"mode\": \"markers\", \"name\": \"Denmark\", \"showlegend\": true, \"type\": \"scattergl\", \"x\": [8.01893424987793, 7.834233283996582, 7.970891952514648, 7.683358669281006, 7.770515441894531, 7.78823184967041, 7.519909381866455, 7.588606834411621, 7.507559299468994, 7.514424800872803, 7.5577826499938965, 7.59370231628418, 7.648785591125488, 7.693003177642822, 7.514631271362305], \"xaxis\": \"x\", \"y\": [0.9711350202560425, 0.9320862293243408, 0.9697883725166321, 0.9493355751037598, 0.9436308145523071, 0.9347601532936096, 0.9326279163360596, 0.920254647731781, 0.9415722489356995, 0.9414364099502563, 0.9482305645942688, 0.9554163217544556, 0.935437798500061, 0.963318407535553, 0.9379318356513977], \"yaxis\": \"y\"}, {\"hovertemplate\": \"Country name=Djibouti<br>Life Ladder=%{x}<br>Freedom to make life choices=%{y}<extra></extra>\", \"legendgroup\": \"Djibouti\", \"marker\": {\"color\": \"#636efa\", \"symbol\": \"circle\"}, \"mode\": \"markers\", \"name\": \"Djibouti\", \"showlegend\": true, \"type\": \"scattergl\", \"x\": [5.0093302726745605, 4.905925273895264, 5.005810737609863, 4.3691935539245605], \"xaxis\": \"x\", \"y\": [0.7734566926956177, 0.6493160128593445, 0.7637303471565247, 0.7464394569396973], \"yaxis\": \"y\"}, {\"hovertemplate\": \"Country name=Dominican Republic<br>Life Ladder=%{x}<br>Freedom to make life choices=%{y}<extra></extra>\", \"legendgroup\": \"Dominican Republic\", \"marker\": {\"color\": \"#EF553B\", \"symbol\": \"circle\"}, \"mode\": \"markers\", \"name\": \"Dominican Republic\", \"showlegend\": true, \"type\": \"scattergl\", \"x\": [5.087967872619629, 5.081305980682373, 4.842305660247803, 5.431613922119141, 4.735021114349365, 5.396535396575928, 4.7533111572265625, 5.015515327453613, 5.387331962585449, 5.061862468719482, 5.238698482513428, 5.605202674865723, 5.433215618133545, 6.004237174987793, 5.168409824371338], \"xaxis\": \"x\", \"y\": [0.8582414388656616, 0.8862466812133789, 0.8481166362762451, 0.8629794716835022, 0.8239028453826904, 0.8479753136634827, 0.8401293754577637, 0.8885660767555237, 0.9045743942260742, 0.8560253381729126, 0.8727124333381653, 0.8553590178489685, 0.8666415810585022, 0.8774062395095825, 0.8346429467201233], \"yaxis\": \"y\"}, {\"hovertemplate\": \"Country name=Ecuador<br>Life Ladder=%{x}<br>Freedom to make life choices=%{y}<extra></extra>\", \"legendgroup\": \"Ecuador\", \"marker\": {\"color\": \"#00cc96\", \"symbol\": \"circle\"}, \"mode\": \"markers\", \"name\": \"Ecuador\", \"showlegend\": true, \"type\": \"scattergl\", \"x\": [5.024191379547119, 4.995875358581543, 5.296513080596924, 6.021803379058838, 5.8380513191223145, 5.795088291168213, 5.960716247558594, 6.0192060470581055, 5.945851802825928, 5.964075088500977, 6.1154375076293945, 5.8395185470581055, 6.128010272979736, 5.809131145477295, 5.354461669921875], \"xaxis\": \"x\", \"y\": [0.6710749864578247, 0.6698433756828308, 0.6403172612190247, 0.7368808388710022, 0.7230790853500366, 0.7883056998252869, 0.8252751231193542, 0.7867981195449829, 0.7191048264503479, 0.8008704781532288, 0.846336305141449, 0.8791281580924988, 0.8693637251853943, 0.8295736908912659, 0.8285115361213684], \"yaxis\": \"y\"}, {\"hovertemplate\": \"Country name=Egypt<br>Life Ladder=%{x}<br>Freedom to make life choices=%{y}<extra></extra>\", \"legendgroup\": \"Egypt\", \"marker\": {\"color\": \"#ab63fa\", \"symbol\": \"circle\"}, \"mode\": \"markers\", \"name\": \"Egypt\", \"showlegend\": true, \"type\": \"scattergl\", \"x\": [5.167754173278809, 5.540510654449463, 4.631741046905518, 5.066164493560791, 4.66891622543335, 4.174158573150635, 4.204156875610352, 3.5585203170776367, 4.885072708129883, 4.762538433074951, 4.556740760803223, 3.9293441772460938, 4.00545072555542, 4.327831745147705, 4.4723968505859375], \"xaxis\": \"x\", \"y\": [0.8173620104789734, 0.6090768575668335, null, 0.6110825538635254, 0.48627904057502747, 0.5895377993583679, 0.4515433609485626, 0.4737745523452759, 0.5779379606246948, 0.6592614650726318, 0.6558452248573303, 0.5925047993659973, 0.6816544532775879, 0.7739510536193848, 0.7695503234863281], \"yaxis\": \"y\"}, {\"hovertemplate\": \"Country name=El Salvador<br>Life Ladder=%{x}<br>Freedom to make life choices=%{y}<extra></extra>\", \"legendgroup\": \"El Salvador\", \"marker\": {\"color\": \"#FFA15A\", \"symbol\": \"circle\"}, \"mode\": \"markers\", \"name\": \"El Salvador\", \"showlegend\": true, \"type\": \"scattergl\", \"x\": [5.700929641723633, 5.295535087585449, 5.191493988037109, 6.839087009429932, 6.739911079406738, 4.741294860839844, 5.934371471405029, 6.325063228607178, 5.856523513793945, 6.018496036529541, 6.139824867248535, 6.33931827545166, 6.241199493408203, 6.45482063293457, 5.4619269371032715], \"xaxis\": \"x\", \"y\": [0.6829895377159119, 0.6389368176460266, 0.635648250579834, 0.670932412147522, 0.6693378686904907, 0.7472463846206665, 0.6827448010444641, 0.7155704498291016, 0.7780146598815918, 0.7333559393882751, 0.7998470067977905, 0.7578273415565491, 0.863334596157074, 0.8773906826972961, 0.9239448308944702], \"yaxis\": \"y\"}, {\"hovertemplate\": \"Country name=Estonia<br>Life Ladder=%{x}<br>Freedom to make life choices=%{y}<extra></extra>\", \"legendgroup\": \"Estonia\", \"marker\": {\"color\": \"#19d3f3\", \"symbol\": \"circle\"}, \"mode\": \"markers\", \"name\": \"Estonia\", \"showlegend\": true, \"type\": \"scattergl\", \"x\": [5.371054649353027, 5.3320441246032715, 5.451937675476074, 5.1377387046813965, 5.486819744110107, 5.363927841186523, 5.367445945739746, 5.55598258972168, 5.628908634185791, 5.649675369262695, 5.938395977020264, 6.091302394866943, 6.034641265869141, 6.452563762664795], \"xaxis\": \"x\", \"y\": [0.7485763430595398, 0.7121208906173706, 0.6423251032829285, 0.6107093095779419, 0.7352253794670105, 0.6968257427215576, 0.7535586953163147, 0.773327112197876, 0.8146923780441284, 0.8427706956863403, 0.8617492318153381, 0.8856183886528015, 0.8865043520927429, 0.9542005658149719], \"yaxis\": \"y\"}, {\"hovertemplate\": \"Country name=Ethiopia<br>Life Ladder=%{x}<br>Freedom to make life choices=%{y}<extra></extra>\", \"legendgroup\": \"Ethiopia\", \"marker\": {\"color\": \"#FF6692\", \"symbol\": \"circle\"}, \"mode\": \"markers\", \"name\": \"Ethiopia\", \"showlegend\": true, \"type\": \"scattergl\", \"x\": [4.561168670654297, 4.444827079772949, 4.506646633148193, 4.573154926300049, 4.297848701477051, 4.1803154945373535, 4.379262447357178, 4.099555015563965, 4.549219608306885], \"xaxis\": \"x\", \"y\": [0.7763082385063171, 0.7067962288856506, 0.693558931350708, 0.8026425838470459, 0.7443076968193054, 0.7171012163162231, 0.7403430938720703, 0.7535155415534973, 0.768694281578064], \"yaxis\": \"y\"}, {\"hovertemplate\": \"Country name=Finland<br>Life Ladder=%{x}<br>Freedom to make life choices=%{y}<extra></extra>\", \"legendgroup\": \"Finland\", \"marker\": {\"color\": \"#B6E880\", \"symbol\": \"circle\"}, \"mode\": \"markers\", \"name\": \"Finland\", \"showlegend\": true, \"type\": \"scattergl\", \"x\": [7.672449111938477, 7.670626640319824, 7.393264293670654, 7.354225158691406, 7.4202094078063965, 7.44463586807251, 7.384571075439453, 7.447925567626953, 7.659843444824219, 7.788251876831055, 7.858107089996338, 7.78034782409668, 7.889349937438965], \"xaxis\": \"x\", \"y\": [0.9685804843902588, 0.9341789484024048, 0.9160091280937195, 0.9364483952522278, 0.9209681153297424, 0.9186253547668457, 0.9330439567565918, 0.9298619031906128, 0.9483721852302551, 0.9621989727020264, 0.9378073811531067, 0.947616696357727, 0.9624236822128296], \"yaxis\": \"y\"}, {\"hovertemplate\": \"Country name=France<br>Life Ladder=%{x}<br>Freedom to make life choices=%{y}<extra></extra>\", \"legendgroup\": \"France\", \"marker\": {\"color\": \"#FF97FF\", \"symbol\": \"circle\"}, \"mode\": \"markers\", \"name\": \"France\", \"showlegend\": true, \"type\": \"scattergl\", \"x\": [7.093392848968506, 6.582700252532959, 7.0080647468566895, 6.283498287200928, 6.797901153564453, 6.9591851234436035, 6.649365425109863, 6.667121410369873, 6.466867923736572, 6.3576250076293945, 6.475208759307861, 6.635222434997559, 6.665903568267822, 6.6896443367004395, 6.714111804962158], \"xaxis\": \"x\", \"y\": [0.8948192596435547, 0.7891207337379456, 0.8333271145820618, 0.7982131838798523, 0.8497021794319153, 0.9033666253089905, 0.8413203358650208, 0.8777957558631897, 0.8034741878509521, 0.8170362114906311, 0.7867804765701294, 0.8338901400566101, 0.8163772225379944, 0.8272408246994019, 0.8233863115310669], \"yaxis\": \"y\"}, {\"hovertemplate\": \"Country name=Gabon<br>Life Ladder=%{x}<br>Freedom to make life choices=%{y}<extra></extra>\", \"legendgroup\": \"Gabon\", \"marker\": {\"color\": \"#FECB52\", \"symbol\": \"circle\"}, \"mode\": \"markers\", \"name\": \"Gabon\", \"showlegend\": true, \"type\": \"scattergl\", \"x\": [4.255400657653809, 3.9720592498779297, 3.8002870082855225, 3.9180731773376465, 4.661012649536133, 4.831764221191406, 4.782382965087891, 4.783009052276611, 4.914393424987793], \"xaxis\": \"x\", \"y\": [0.7718719244003296, 0.5659658312797546, 0.6824901103973389, 0.60661381483078, 0.6713007092475891, 0.6989423632621765, 0.6523595452308655, 0.7191354036331177, 0.736349880695343], \"yaxis\": \"y\"}, {\"hovertemplate\": \"Country name=Gambia<br>Life Ladder=%{x}<br>Freedom to make life choices=%{y}<extra></extra>\", \"legendgroup\": \"Gambia\", \"marker\": {\"color\": \"#636efa\", \"symbol\": \"circle\"}, \"mode\": \"markers\", \"name\": \"Gambia\", \"showlegend\": true, \"type\": \"scattergl\", \"x\": [4.117938995361328, 4.9220991134643555, 5.1636271476745605], \"xaxis\": \"x\", \"y\": [0.8123258352279663, 0.71872878074646, 0.6765952706336975], \"yaxis\": \"y\"}, {\"hovertemplate\": \"Country name=Georgia<br>Life Ladder=%{x}<br>Freedom to make life choices=%{y}<extra></extra>\", \"legendgroup\": \"Georgia\", \"marker\": {\"color\": \"#EF553B\", \"symbol\": \"circle\"}, \"mode\": \"markers\", \"name\": \"Georgia\", \"showlegend\": true, \"type\": \"scattergl\", \"x\": [3.6751084327697754, 3.7071945667266846, 4.156090259552002, 3.8006391525268555, 4.101837158203125, 4.203030586242676, 4.254445552825928, 4.348920822143555, 4.287508010864258, 4.121940612792969, 4.448386192321777, 4.450774669647217, 4.659097194671631, 4.891835689544678, 5.123143196105957], \"xaxis\": \"x\", \"y\": [0.5525926351547241, 0.4637225270271301, 0.6139973998069763, 0.49531400203704834, 0.5578579306602478, 0.6324645280838013, 0.6587240099906921, 0.7221276164054871, 0.7197811603546143, 0.6399449706077576, 0.6064683794975281, 0.820908784866333, 0.775144100189209, 0.8105341196060181, 0.7643523812294006], \"yaxis\": \"y\"}, {\"hovertemplate\": \"Country name=Germany<br>Life Ladder=%{x}<br>Freedom to make life choices=%{y}<extra></extra>\", \"legendgroup\": \"Germany\", \"marker\": {\"color\": \"#00cc96\", \"symbol\": \"circle\"}, \"mode\": \"markers\", \"name\": \"Germany\", \"showlegend\": true, \"type\": \"scattergl\", \"x\": [6.619549751281738, 6.4168195724487305, 6.521790027618408, 6.641493320465088, 6.724531173706055, 6.621312141418457, 6.702362060546875, 6.96512508392334, 6.9842143058776855, 7.037137508392334, 6.873763084411621, 7.074324607849121, 7.118364334106445, 7.035472393035889, 7.3118977546691895], \"xaxis\": \"x\", \"y\": [0.8466237783432007, 0.8008782267570496, 0.7655569911003113, 0.843784511089325, 0.8426564335823059, 0.9062932729721069, 0.9044404625892639, 0.8943129777908325, 0.8986834287643433, 0.8894288539886475, 0.8705150485038757, 0.8407278656959534, 0.8768875002861023, 0.884751558303833, 0.8643560409545898], \"yaxis\": \"y\"}, {\"hovertemplate\": \"Country name=Ghana<br>Life Ladder=%{x}<br>Freedom to make life choices=%{y}<extra></extra>\", \"legendgroup\": \"Ghana\", \"marker\": {\"color\": \"#ab63fa\", \"symbol\": \"circle\"}, \"mode\": \"markers\", \"name\": \"Ghana\", \"showlegend\": true, \"type\": \"scattergl\", \"x\": [4.535019874572754, 5.220148086547852, 4.965134620666504, 4.197695732116699, 4.6062517166137695, 5.608199596405029, 5.057261943817139, 4.965053081512451, 3.860351085662842, 3.9859161376953125, 4.514411449432373, 5.481310844421387, 5.003693103790283, 4.9668097496032715, 5.319483280181885], \"xaxis\": \"x\", \"y\": [0.8492833971977234, 0.8911532759666443, 0.838006317615509, 0.7574777603149414, 0.8911299109458923, 0.8518961668014526, 0.6794184446334839, 0.7937937378883362, 0.6769160628318787, 0.8520161509513855, 0.7511683702468872, 0.7830463647842407, 0.8166804909706116, 0.7874477505683899, 0.8237200379371643], \"yaxis\": \"y\"}, {\"hovertemplate\": \"Country name=Greece<br>Life Ladder=%{x}<br>Freedom to make life choices=%{y}<extra></extra>\", \"legendgroup\": \"Greece\", \"marker\": {\"color\": \"#FFA15A\", \"symbol\": \"circle\"}, \"mode\": \"markers\", \"name\": \"Greece\", \"showlegend\": true, \"type\": \"scattergl\", \"x\": [6.006309986114502, 6.646961212158203, 6.038574695587158, 5.8395586013793945, 5.372039794921875, 5.096354007720947, 4.720251083374023, 4.756237030029297, 5.622519016265869, 5.302619457244873, 5.1482415199279785, 5.409289360046387, 5.952157497406006, 5.787615776062012], \"xaxis\": \"x\", \"y\": [0.7341718077659607, 0.5753088593482971, 0.44310784339904785, 0.4841109812259674, 0.5281259417533875, 0.3726104199886322, 0.4259665310382843, 0.3691563308238983, 0.5317363142967224, 0.4816168546676636, 0.4383000135421753, 0.5644556879997253, 0.6135841012001038, 0.5646136403083801], \"yaxis\": \"y\"}, {\"hovertemplate\": \"Country name=Guatemala<br>Life Ladder=%{x}<br>Freedom to make life choices=%{y}<extra></extra>\", \"legendgroup\": \"Guatemala\", \"marker\": {\"color\": \"#19d3f3\", \"symbol\": \"circle\"}, \"mode\": \"markers\", \"name\": \"Guatemala\", \"showlegend\": true, \"type\": \"scattergl\", \"x\": [5.901429176330566, 6.329581260681152, 6.414494514465332, 6.451916217803955, 6.289748668670654, 5.743353843688965, 5.855717182159424, 5.9846014976501465, 6.5360307693481445, 6.464986801147461, 6.358916282653809, 6.325118541717529, 6.626591682434082, 6.2621750831604], \"xaxis\": \"x\", \"y\": [0.6633816957473755, 0.6275869607925415, 0.6301517486572266, 0.6434787511825562, 0.6958629488945007, 0.7629631161689758, 0.8654720187187195, 0.8840050101280212, 0.843398928642273, 0.8686397671699524, 0.8626757264137268, 0.9145216941833496, 0.9095380306243896, 0.9006763100624084], \"yaxis\": \"y\"}, {\"hovertemplate\": \"Country name=Guinea<br>Life Ladder=%{x}<br>Freedom to make life choices=%{y}<extra></extra>\", \"legendgroup\": \"Guinea\", \"marker\": {\"color\": \"#FF6692\", \"symbol\": \"circle\"}, \"mode\": \"markers\", \"name\": \"Guinea\", \"showlegend\": true, \"type\": \"scattergl\", \"x\": [4.044569492340088, 3.651554822921753, 3.9017930030822754, 3.412482500076294, 3.5046935081481934, 3.6028547286987305, 4.873722553253174, 5.252226829528809, 4.767684459686279], \"xaxis\": \"x\", \"y\": [0.7968302369117737, 0.6461878418922424, 0.6927366256713867, 0.6835575699806213, 0.6659530401229858, 0.725685179233551, 0.7382128238677979, 0.7311572432518005, 0.691399097442627], \"yaxis\": \"y\"}, {\"hovertemplate\": \"Country name=Guyana<br>Life Ladder=%{x}<br>Freedom to make life choices=%{y}<extra></extra>\", \"legendgroup\": \"Guyana\", \"marker\": {\"color\": \"#B6E880\", \"symbol\": \"circle\"}, \"mode\": \"markers\", \"name\": \"Guyana\", \"showlegend\": true, \"type\": \"scattergl\", \"x\": [5.992826461791992], \"xaxis\": \"x\", \"y\": [0.6940056681632996], \"yaxis\": \"y\"}, {\"hovertemplate\": \"Country name=Haiti<br>Life Ladder=%{x}<br>Freedom to make life choices=%{y}<extra></extra>\", \"legendgroup\": \"Haiti\", \"marker\": {\"color\": \"#FF97FF\", \"symbol\": \"circle\"}, \"mode\": \"markers\", \"name\": \"Haiti\", \"showlegend\": true, \"type\": \"scattergl\", \"x\": [3.7541561126708984, 3.8463292121887207, 3.7659988403320312, 4.844573974609375, 4.413475036621094, 4.621962070465088, 3.8887784481048584, 3.5697624683380127, 3.3523001670837402, 3.8238656520843506, 3.6149280071258545], \"xaxis\": \"x\", \"y\": [0.4494747221469879, 0.4649706482887268, 0.3729413151741028, 0.4125877916812897, 0.4824858605861664, 0.6104100346565247, 0.5088054537773132, 0.39829549193382263, 0.3035404086112976, 0.48442915081977844, 0.5914683938026428], \"yaxis\": \"y\"}, {\"hovertemplate\": \"Country name=Honduras<br>Life Ladder=%{x}<br>Freedom to make life choices=%{y}<extra></extra>\", \"legendgroup\": \"Honduras\", \"marker\": {\"color\": \"#FECB52\", \"symbol\": \"circle\"}, \"mode\": \"markers\", \"name\": \"Honduras\", \"showlegend\": true, \"type\": \"scattergl\", \"x\": [5.396519660949707, 5.097154140472412, 5.420331001281738, 6.033189296722412, 5.86613130569458, 4.961031436920166, 4.602218151092529, 4.713358402252197, 5.055726051330566, 4.8454365730285645, 5.6481547355651855, 6.019985675811768, 5.908423900604248, 5.930051326751709], \"xaxis\": \"x\", \"y\": [0.6502535939216614, 0.6756309866905212, 0.686880886554718, 0.6612027883529663, 0.6455284953117371, 0.7833690643310547, 0.7004520893096924, 0.6984003782272339, 0.6959825754165649, 0.5340576767921448, 0.850046694278717, 0.8983774185180664, 0.8721616864204407, 0.8461900353431702], \"yaxis\": \"y\"}, {\"hovertemplate\": \"Country name=Hong Kong S.A.R. of China<br>Life Ladder=%{x}<br>Freedom to make life choices=%{y}<extra></extra>\", \"legendgroup\": \"Hong Kong S.A.R. of China\", \"marker\": {\"color\": \"#636efa\", \"symbol\": \"circle\"}, \"mode\": \"markers\", \"name\": \"Hong Kong S.A.R. of China\", \"showlegend\": true, \"type\": \"scattergl\", \"x\": [5.5111870765686035, 5.137261867523193, 5.397055625915527, 5.642834663391113, 5.474010944366455, 5.4837646484375, 5.458050727844238, 5.498420715332031, 5.3624749183654785, 5.6593170166015625, 5.295341491699219], \"xaxis\": \"x\", \"y\": [0.9098200798034668, 0.9222112894058228, 0.918026328086853, 0.8904176950454712, 0.8943301439285278, 0.8797524571418762, 0.8430823683738708, 0.7997434139251709, 0.8306572437286377, 0.7268521785736084, 0.7054522633552551], \"yaxis\": \"y\"}, {\"hovertemplate\": \"Country name=Hungary<br>Life Ladder=%{x}<br>Freedom to make life choices=%{y}<extra></extra>\", \"legendgroup\": \"Hungary\", \"marker\": {\"color\": \"#EF553B\", \"symbol\": \"circle\"}, \"mode\": \"markers\", \"name\": \"Hungary\", \"showlegend\": true, \"type\": \"scattergl\", \"x\": [5.193933486938477, 4.953917026519775, 4.8946003913879395, 4.725132465362549, 4.9176025390625, 4.683358192443848, 4.914466857910156, 5.180563449859619, 5.344383239746094, 5.448901653289795, 6.065038681030273, 5.9357709884643555, 6.000259876251221, 6.038049697875977], \"xaxis\": \"x\", \"y\": [0.6968744993209839, 0.5384981036186218, 0.4643731117248535, 0.5138353705406189, 0.6311001181602478, 0.5692315101623535, 0.6737282872200012, 0.49447470903396606, 0.5577213764190674, 0.5539517402648926, 0.6611659526824951, 0.6926270723342896, 0.798041045665741, 0.7709680795669556], \"yaxis\": \"y\"}, {\"hovertemplate\": \"Country name=Iceland<br>Life Ladder=%{x}<br>Freedom to make life choices=%{y}<extra></extra>\", \"legendgroup\": \"Iceland\", \"marker\": {\"color\": \"#00cc96\", \"symbol\": \"circle\"}, \"mode\": \"markers\", \"name\": \"Iceland\", \"showlegend\": true, \"type\": \"scattergl\", \"x\": [6.888284206390381, 7.590660095214844, 7.501394271850586, 7.49807071685791, 7.510034561157227, 7.4762139320373535, 7.532504558563232, 7.575489521026611], \"xaxis\": \"x\", \"y\": [0.8851961493492126, 0.9046545028686523, 0.923207700252533, 0.9404851198196411, 0.9516095519065857, 0.9387832880020142, 0.9594700932502747, 0.9486271739006042], \"yaxis\": \"y\"}, {\"hovertemplate\": \"Country name=India<br>Life Ladder=%{x}<br>Freedom to make life choices=%{y}<extra></extra>\", \"legendgroup\": \"India\", \"marker\": {\"color\": \"#ab63fa\", \"symbol\": \"circle\"}, \"mode\": \"markers\", \"name\": \"India\", \"showlegend\": true, \"type\": \"scattergl\", \"x\": [5.348258972167969, 5.026793479919434, 5.1458330154418945, 4.521517753601074, 4.989277362823486, 4.634871482849121, 4.720146656036377, 4.427788734436035, 4.424379348754883, 4.342079162597656, 4.179177284240723, 4.046111106872559, 3.818068742752075, 3.248769760131836, 4.225281238555908], \"xaxis\": \"x\", \"y\": [0.7737370729446411, 0.7288926243782043, 0.7558396458625793, 0.6786436438560486, 0.7830603718757629, 0.8375516533851624, 0.6093201041221619, 0.7401766180992126, 0.8093829154968262, 0.7772252559661865, 0.8200687766075134, 0.8858504295349121, 0.8904433846473694, 0.8755403161048889, 0.9063913226127625], \"yaxis\": \"y\"}, {\"hovertemplate\": \"Country name=Indonesia<br>Life Ladder=%{x}<br>Freedom to make life choices=%{y}<extra></extra>\", \"legendgroup\": \"Indonesia\", \"marker\": {\"color\": \"#FFA15A\", \"symbol\": \"circle\"}, \"mode\": \"markers\", \"name\": \"Indonesia\", \"showlegend\": true, \"type\": \"scattergl\", \"x\": [4.9469780921936035, 5.1012139320373535, 4.815309524536133, 5.472361087799072, 5.45729923248291, 5.172608375549316, 5.36777400970459, 5.292237758636475, 5.597375392913818, 5.042799949645996, 5.136325359344482, 5.0984015464782715, 5.340295791625977, 5.346512794494629], \"xaxis\": \"x\", \"y\": [0.713171124458313, 0.603260338306427, 0.5956333875656128, 0.7837928533554077, 0.6996575593948364, 0.8782871961593628, 0.7703193426132202, 0.7806907892227173, 0.7194132804870605, 0.7794183492660522, 0.8299416303634644, 0.8650262951850891, 0.8793743848800659, 0.8658591508865356], \"yaxis\": \"y\"}, {\"hovertemplate\": \"Country name=Iran<br>Life Ladder=%{x}<br>Freedom to make life choices=%{y}<extra></extra>\", \"legendgroup\": \"Iran\", \"marker\": {\"color\": \"#19d3f3\", \"symbol\": \"circle\"}, \"mode\": \"markers\", \"name\": \"Iran\", \"showlegend\": true, \"type\": \"scattergl\", \"x\": [5.30819034576416, 5.336371421813965, 5.128988265991211, 4.767507076263428, 4.6089277267456055, 5.1395792961120605, 4.682224273681641, 4.749955654144287, 4.652730941772461, 4.716783046722412, 4.278117656707764, 5.00614595413208, 4.864528179168701], \"xaxis\": \"x\", \"y\": [0.6511676907539368, 0.5326198935508728, 0.6012220978736877, 0.7975736856460571, 0.7644184231758118, 0.7302147150039673, 0.7668229937553406, 0.7803832292556763, 0.773303747177124, 0.7306351661682129, 0.6033198833465576, 0.6232820749282837, 0.5995944738388062], \"yaxis\": \"y\"}, {\"hovertemplate\": \"Country name=Iraq<br>Life Ladder=%{x}<br>Freedom to make life choices=%{y}<extra></extra>\", \"legendgroup\": \"Iraq\", \"marker\": {\"color\": \"#FF6692\", \"symbol\": \"circle\"}, \"mode\": \"markers\", \"name\": \"Iraq\", \"showlegend\": true, \"type\": \"scattergl\", \"x\": [4.589844703674316, 4.7753167152404785, 5.065462112426758, 4.725366115570068, 4.65950870513916, 4.725017070770264, 4.541502475738525, 4.493377208709717, 4.412537097930908, 4.462399005889893, 4.8864006996154785, 4.785165309906006], \"xaxis\": \"x\", \"y\": [0.3857693672180176, 0.43146762251853943, 0.41906410455703735, 0.3474140465259552, 0.31456461548805237, null, 0.6460065841674805, 0.5994599461555481, 0.6661601662635803, 0.6277220249176025, 0.5978227853775024, 0.7002145648002625], \"yaxis\": \"y\"}, {\"hovertemplate\": \"Country name=Ireland<br>Life Ladder=%{x}<br>Freedom to make life choices=%{y}<extra></extra>\", \"legendgroup\": \"Ireland\", \"marker\": {\"color\": \"#B6E880\", \"symbol\": \"circle\"}, \"mode\": \"markers\", \"name\": \"Ireland\", \"showlegend\": true, \"type\": \"scattergl\", \"x\": [7.144246578216553, 7.568029880523682, 7.0459113121032715, 7.257389545440674, 7.006904125213623, 6.9646453857421875, 6.760085105895996, 7.018379211425781, 6.830125331878662, 7.040731430053711, 7.060155391693115, 6.962335586547852, 7.254841327667236, 7.03493070602417], \"xaxis\": \"x\", \"y\": [0.943274736404419, 0.8941087126731873, 0.8347296714782715, 0.8560295701026917, 0.9520343542098999, 0.9021945595741272, 0.8837720155715942, 0.9216295480728149, 0.89227694272995, 0.8745891451835632, 0.9053411483764648, 0.8614715933799744, 0.8924586772918701, 0.8820982575416565], \"yaxis\": \"y\"}, {\"hovertemplate\": \"Country name=Israel<br>Life Ladder=%{x}<br>Freedom to make life choices=%{y}<extra></extra>\", \"legendgroup\": \"Israel\", \"marker\": {\"color\": \"#FF97FF\", \"symbol\": \"circle\"}, \"mode\": \"markers\", \"name\": \"Israel\", \"showlegend\": true, \"type\": \"scattergl\", \"x\": [7.173417091369629, 6.8411149978637695, 7.261261463165283, 7.3529791831970215, 7.358916282653809, 7.43314790725708, 7.110854625701904, 7.320563316345215, 7.400570392608643, 7.079411029815674, 7.159010887145996, 7.33103609085083, 6.927178859710693, 7.331779956817627, 7.194928169250488], \"xaxis\": \"x\", \"y\": [0.8166528344154358, 0.6828640699386597, 0.662969172000885, 0.5925297737121582, 0.5614778995513916, 0.7222692370414734, 0.681439220905304, 0.7390016317367554, 0.7069746255874634, 0.7527839541435242, 0.7722973227500916, 0.7680763006210327, 0.7246623039245605, 0.8344919085502625, 0.831315815448761], \"yaxis\": \"y\"}, {\"hovertemplate\": \"Country name=Italy<br>Life Ladder=%{x}<br>Freedom to make life choices=%{y}<extra></extra>\", \"legendgroup\": \"Italy\", \"marker\": {\"color\": \"#FECB52\", \"symbol\": \"circle\"}, \"mode\": \"markers\", \"name\": \"Italy\", \"showlegend\": true, \"type\": \"scattergl\", \"x\": [6.85378360748291, 6.5744123458862305, 6.779774188995361, 6.333800315856934, 6.354238033294678, 6.05708646774292, 5.839313983917236, 6.009373664855957, 6.026585102081299, 5.847683906555176, 5.954524040222168, 6.1988701820373535, 6.516526699066162, 6.4454169273376465, 6.488356113433838], \"xaxis\": \"x\", \"y\": [0.8021949529647827, 0.6842970252037048, 0.5430768728256226, 0.7005504965782166, 0.7377389073371887, 0.56773841381073, 0.5700949430465698, 0.4991687536239624, 0.6235312223434448, 0.5747657418251038, 0.623741626739502, 0.6328432559967041, 0.650009274482727, 0.7094788551330566, 0.7181554436683655], \"yaxis\": \"y\"}, {\"hovertemplate\": \"Country name=Ivory Coast<br>Life Ladder=%{x}<br>Freedom to make life choices=%{y}<extra></extra>\", \"legendgroup\": \"Ivory Coast\", \"marker\": {\"color\": \"#636efa\", \"symbol\": \"circle\"}, \"mode\": \"markers\", \"name\": \"Ivory Coast\", \"showlegend\": true, \"type\": \"scattergl\", \"x\": [4.197181701660156, 3.739365577697754, 3.570368528366089, 4.445038795471191, 4.542545795440674, 5.0377349853515625, 5.268374919891357, 5.392012119293213, 5.256503582000732], \"xaxis\": \"x\", \"y\": [0.7598621845245361, 0.7391932606697083, 0.7807731032371521, 0.799745500087738, 0.7687893509864807, 0.7320979237556458, 0.7125900387763977, 0.7357119917869568, 0.7699980139732361], \"yaxis\": \"y\"}, {\"hovertemplate\": \"Country name=Jamaica<br>Life Ladder=%{x}<br>Freedom to make life choices=%{y}<extra></extra>\", \"legendgroup\": \"Jamaica\", \"marker\": {\"color\": \"#EF553B\", \"symbol\": \"circle\"}, \"mode\": \"markers\", \"name\": \"Jamaica\", \"showlegend\": true, \"type\": \"scattergl\", \"x\": [6.207881927490234, 5.374446392059326, 5.708886623382568, 5.3105387687683105, 5.889759063720703, 6.309238910675049], \"xaxis\": \"x\", \"y\": [0.7382360696792603, 0.7956135272979736, 0.7931949496269226, 0.8089731335639954, 0.8606763482093811, 0.8906708359718323], \"yaxis\": \"y\"}, {\"hovertemplate\": \"Country name=Japan<br>Life Ladder=%{x}<br>Freedom to make life choices=%{y}<extra></extra>\", \"legendgroup\": \"Japan\", \"marker\": {\"color\": \"#00cc96\", \"symbol\": \"circle\"}, \"mode\": \"markers\", \"name\": \"Japan\", \"showlegend\": true, \"type\": \"scattergl\", \"x\": [6.515817165374756, 6.2381978034973145, 5.910679340362549, 5.844999313354492, 6.056752681732178, 6.26279354095459, 5.968216419219971, 5.959361553192139, 5.92262077331543, 5.8796844482421875, 5.95465087890625, 5.9106764793396, 5.793575286865234, 5.908039093017578, 6.1179633140563965], \"xaxis\": \"x\", \"y\": [0.8677792549133301, 0.7960541248321533, 0.772070050239563, 0.7298880219459534, 0.7717223763465881, 0.8143964409828186, 0.7528315186500549, 0.8214165568351746, 0.8380517363548279, 0.8316941857337952, 0.8360646367073059, 0.8493965864181519, 0.7734721302986145, 0.8064715266227722, 0.806036114692688], \"yaxis\": \"y\"}, {\"hovertemplate\": \"Country name=Jordan<br>Life Ladder=%{x}<br>Freedom to make life choices=%{y}<extra></extra>\", \"legendgroup\": \"Jordan\", \"marker\": {\"color\": \"#ab63fa\", \"symbol\": \"circle\"}, \"mode\": \"markers\", \"name\": \"Jordan\", \"showlegend\": true, \"type\": \"scattergl\", \"x\": [6.2946600914001465, 5.598057270050049, 4.930058002471924, 5.99985933303833, 5.569942474365234, 5.539327621459961, 5.131996154785156, 5.171952724456787, 5.333021640777588, 5.404593467712402, 5.271284580230713, 4.808082580566406, 4.6389336585998535, 4.452548027038574, 4.093991756439209], \"xaxis\": \"x\", \"y\": [null, 0.6460791230201721, null, 0.7709536552429199, 0.7880731225013733, 0.7595645189285278, 0.6931421160697937, 0.6922270059585571, 0.7287431955337524, 0.7665170431137085, 0.771350622177124, 0.7662624716758728, 0.7624202966690063, 0.7257558107376099, 0.7785334587097168], \"yaxis\": \"y\"}, {\"hovertemplate\": \"Country name=Kazakhstan<br>Life Ladder=%{x}<br>Freedom to make life choices=%{y}<extra></extra>\", \"legendgroup\": \"Kazakhstan\", \"marker\": {\"color\": \"#FFA15A\", \"symbol\": \"circle\"}, \"mode\": \"markers\", \"name\": \"Kazakhstan\", \"showlegend\": true, \"type\": \"scattergl\", \"x\": [5.475948333740234, 5.71855354309082, 5.886419773101807, 5.38256311416626, 5.514286518096924, 5.735662937164307, 5.759469509124756, 5.835483074188232, 5.970097541809082, 5.949995040893555, 5.5335516929626465, 5.882351398468018, 6.007636070251465, 6.272268295288086, 6.168269157409668], \"xaxis\": \"x\", \"y\": [0.7305459380149841, 0.8062996864318848, 0.7265836596488953, 0.8564482927322388, 0.7848518490791321, 0.8778880834579468, 0.8398323059082031, 0.7815910577774048, 0.7994629740715027, 0.7401328086853027, 0.7828055620193481, 0.7452439665794373, 0.8401829600334167, 0.8523874282836914, 0.8721001148223877], \"yaxis\": \"y\"}, {\"hovertemplate\": \"Country name=Kenya<br>Life Ladder=%{x}<br>Freedom to make life choices=%{y}<extra></extra>\", \"legendgroup\": \"Kenya\", \"marker\": {\"color\": \"#19d3f3\", \"symbol\": \"circle\"}, \"mode\": \"markers\", \"name\": \"Kenya\", \"showlegend\": true, \"type\": \"scattergl\", \"x\": [4.223234176635742, 4.575657844543457, 4.015274524688721, 4.270434856414795, 4.255859375, 4.405310153961182, 4.547335147857666, 3.7953832149505615, 4.9045796394348145, 4.3576178550720215, 4.396127700805664, 4.475654125213623, 4.655702590942383, 4.618850231170654, 4.546584129333496], \"xaxis\": \"x\", \"y\": [0.6158861517906189, 0.7498422861099243, 0.6202957630157471, 0.5835947394371033, 0.6354572176933289, 0.7086591720581055, 0.6276541948318481, 0.7083322405815125, 0.819018542766571, 0.7929903268814087, 0.7485082745552063, 0.8533943891525269, 0.821412980556488, 0.8177574872970581, 0.7020344734191895], \"yaxis\": \"y\"}, {\"hovertemplate\": \"Country name=Kosovo<br>Life Ladder=%{x}<br>Freedom to make life choices=%{y}<extra></extra>\", \"legendgroup\": \"Kosovo\", \"marker\": {\"color\": \"#FF6692\", \"symbol\": \"circle\"}, \"mode\": \"markers\", \"name\": \"Kosovo\", \"showlegend\": true, \"type\": \"scattergl\", \"x\": [5.103906154632568, 5.521659851074219, 5.891432762145996, 5.176601409912109, 4.859501838684082, 5.639588356018066, 6.125758171081543, 5.000375270843506, 5.077460765838623, 5.7594122886657715, 6.149199962615967, 6.3918256759643555, 6.425144195556641, 6.294414043426514], \"xaxis\": \"x\", \"y\": [0.3813638389110565, null, 0.506415069103241, 0.45144379138946533, 0.5889787673950195, 0.6357933878898621, 0.568463146686554, 0.4413912296295166, 0.5610482692718506, 0.8273985981941223, 0.8576767444610596, 0.8897370100021362, 0.8411896228790283, 0.8798375725746155], \"yaxis\": \"y\"}, {\"hovertemplate\": \"Country name=Kuwait<br>Life Ladder=%{x}<br>Freedom to make life choices=%{y}<extra></extra>\", \"legendgroup\": \"Kuwait\", \"marker\": {\"color\": \"#B6E880\", \"symbol\": \"circle\"}, \"mode\": \"markers\", \"name\": \"Kuwait\", \"showlegend\": true, \"type\": \"scattergl\", \"x\": [6.075547218322754, 6.5852460861206055, 6.798151016235352, 6.377699375152588, 6.221094608306885, 6.4800310134887695, 6.18013858795166, 6.146031856536865, 5.947194576263428, 6.093905448913574, 6.106119632720947], \"xaxis\": \"x\", \"y\": [0.769072413444519, 0.8187810182571411, 0.7030197381973267, 0.768603503704071, 0.9340495467185974, 0.7505248785018921, null, 0.821662425994873, 0.8409671783447266, 0.8841816186904907, 0.8672738075256348], \"yaxis\": \"y\"}, {\"hovertemplate\": \"Country name=Kyrgyzstan<br>Life Ladder=%{x}<br>Freedom to make life choices=%{y}<extra></extra>\", \"legendgroup\": \"Kyrgyzstan\", \"marker\": {\"color\": \"#FF97FF\", \"symbol\": \"circle\"}, \"mode\": \"markers\", \"name\": \"Kyrgyzstan\", \"showlegend\": true, \"type\": \"scattergl\", \"x\": [4.641398906707764, 4.697761535644531, 4.736588001251221, 5.069053649902344, 4.996410846710205, 4.921049118041992, 5.207785606384277, 5.402426719665527, 5.252192974090576, 4.905375957489014, 4.856534004211426, 5.6295366287231445, 5.2973833084106445, 5.685220718383789, 6.24958610534668], \"xaxis\": \"x\", \"y\": [0.6775716543197632, 0.6835231184959412, 0.7190293669700623, 0.698919951915741, 0.7200511693954468, 0.7478084564208984, 0.7027316689491272, 0.7550366520881653, 0.7362900972366333, 0.8131758570671082, 0.8139392137527466, 0.8593897819519043, 0.9449476599693298, 0.9204362630844116, 0.9348853230476379], \"yaxis\": \"y\"}, {\"hovertemplate\": \"Country name=Laos<br>Life Ladder=%{x}<br>Freedom to make life choices=%{y}<extra></extra>\", \"legendgroup\": \"Laos\", \"marker\": {\"color\": \"#FECB52\", \"symbol\": \"circle\"}, \"mode\": \"markers\", \"name\": \"Laos\", \"showlegend\": true, \"type\": \"scattergl\", \"x\": [5.076225757598877, 5.363854885101318, 5.044098854064941, 4.703749656677246, 4.876084804534912, 4.623140811920166, 4.859402179718018, 5.1968560218811035, 5.284390926361084], \"xaxis\": \"x\", \"y\": [0.9250821471214294, 0.866524875164032, 0.8862138986587524, 0.8816338181495667, null, 0.8910007476806641, 0.9066609740257263, 0.9061534404754639, 0.9150282144546509], \"yaxis\": \"y\"}, {\"hovertemplate\": \"Country name=Latvia<br>Life Ladder=%{x}<br>Freedom to make life choices=%{y}<extra></extra>\", \"legendgroup\": \"Latvia\", \"marker\": {\"color\": \"#636efa\", \"symbol\": \"circle\"}, \"mode\": \"markers\", \"name\": \"Latvia\", \"showlegend\": true, \"type\": \"scattergl\", \"x\": [4.709502220153809, 4.666971683502197, 5.1453752517700195, 4.668910503387451, 4.966811656951904, 5.125025272369385, 5.069770336151123, 5.7291154861450195, 5.8805975914001465, 5.940446376800537, 5.977817535400391, 5.901154041290283, 5.969753742218018, 6.229008674621582], \"xaxis\": \"x\", \"y\": [0.6408071517944336, 0.70017409324646, 0.6301114559173584, 0.4370645582675934, 0.5644644498825073, 0.5638117790222168, 0.6305075287818909, 0.6706531643867493, 0.6563931703567505, 0.685299277305603, 0.6995201110839844, 0.608207643032074, 0.6979351043701172, 0.8201116919517517], \"yaxis\": \"y\"}, {\"hovertemplate\": \"Country name=Lebanon<br>Life Ladder=%{x}<br>Freedom to make life choices=%{y}<extra></extra>\", \"legendgroup\": \"Lebanon\", \"marker\": {\"color\": \"#EF553B\", \"symbol\": \"circle\"}, \"mode\": \"markers\", \"name\": \"Lebanon\", \"showlegend\": true, \"type\": \"scattergl\", \"x\": [5.491245269775391, 4.653103828430176, 4.594851016998291, 5.20599889755249, 5.031899452209473, 5.1875715255737305, 4.572566986083984, 4.983288764953613, 5.233025550842285, 5.171971321105957, 5.270723819732666, 5.153989791870117, 5.167186737060547, 4.024219512939453], \"xaxis\": \"x\", \"y\": [0.7032058238983154, 0.6701935529708862, 0.5240625143051147, 0.6647338271141052, 0.6776387095451355, 0.6571060419082642, 0.6206271648406982, 0.6548683047294617, 0.6572079658508301, 0.5967497825622559, 0.6573574542999268, 0.6045541763305664, 0.6070306897163391, 0.44700148701667786], \"yaxis\": \"y\"}, {\"hovertemplate\": \"Country name=Lesotho<br>Life Ladder=%{x}<br>Freedom to make life choices=%{y}<extra></extra>\", \"legendgroup\": \"Lesotho\", \"marker\": {\"color\": \"#00cc96\", \"symbol\": \"circle\"}, \"mode\": \"markers\", \"name\": \"Lesotho\", \"showlegend\": true, \"type\": \"scattergl\", \"x\": [4.897514820098877, 3.8082048892974854, 3.7953007221221924, 3.5117805004119873], \"xaxis\": \"x\", \"y\": [0.6182597279548645, 0.7294898629188538, 0.7565051913261414, 0.7163135409355164], \"yaxis\": \"y\"}, {\"hovertemplate\": \"Country name=Liberia<br>Life Ladder=%{x}<br>Freedom to make life choices=%{y}<extra></extra>\", \"legendgroup\": \"Liberia\", \"marker\": {\"color\": \"#ab63fa\", \"symbol\": \"circle\"}, \"mode\": \"markers\", \"name\": \"Liberia\", \"showlegend\": true, \"type\": \"scattergl\", \"x\": [3.7014012336730957, 4.221354007720947, 4.196063041687012, 4.5714192390441895, 2.7015912532806396, 3.3546760082244873, 4.424490928649902, 4.134852886199951, 5.121460914611816], \"xaxis\": \"x\", \"y\": [0.790374219417572, 0.7240827679634094, 0.8190053701400757, 0.5904508829116821, 0.6714308857917786, 0.7634760141372681, 0.7333899140357971, 0.7657695412635803, 0.7058745622634888], \"yaxis\": \"y\"}, {\"hovertemplate\": \"Country name=Libya<br>Life Ladder=%{x}<br>Freedom to make life choices=%{y}<extra></extra>\", \"legendgroup\": \"Libya\", \"marker\": {\"color\": \"#FFA15A\", \"symbol\": \"circle\"}, \"mode\": \"markers\", \"name\": \"Libya\", \"showlegend\": true, \"type\": \"scattergl\", \"x\": [5.754394054412842, 5.6154046058654785, 5.4335832595825195, 5.646852493286133, 5.4939775466918945, 5.330222129821777], \"xaxis\": \"x\", \"y\": [0.7115188837051392, 0.7745449542999268, 0.8223848342895508, 0.7786958813667297, 0.7805585265159607, 0.7619643211364746], \"yaxis\": \"y\"}, {\"hovertemplate\": \"Country name=Lithuania<br>Life Ladder=%{x}<br>Freedom to make life choices=%{y}<extra></extra>\", \"legendgroup\": \"Lithuania\", \"marker\": {\"color\": \"#19d3f3\", \"symbol\": \"circle\"}, \"mode\": \"markers\", \"name\": \"Lithuania\", \"showlegend\": true, \"type\": \"scattergl\", \"x\": [5.954442977905273, 5.808284759521484, 5.55392599105835, 5.466920852661133, 5.06582498550415, 5.432437419891357, 5.7710371017456055, 5.595689296722412, 6.125723838806152, 5.71137809753418, 5.8655524253845215, 6.272940635681152, 6.3088788986206055, 6.064097881317139, 6.391378879547119], \"xaxis\": \"x\", \"y\": [0.5672546029090881, 0.5896623134613037, 0.6210600733757019, 0.49595579504966736, 0.5193522572517395, 0.5657972693443298, 0.5030271410942078, 0.5558152794837952, 0.5079472064971924, 0.641470193862915, 0.6142393350601196, 0.7493073344230652, 0.6989451050758362, 0.7802664637565613, 0.8240605592727661], \"yaxis\": \"y\"}, {\"hovertemplate\": \"Country name=Luxembourg<br>Life Ladder=%{x}<br>Freedom to make life choices=%{y}<extra></extra>\", \"legendgroup\": \"Luxembourg\", \"marker\": {\"color\": \"#FF6692\", \"symbol\": \"circle\"}, \"mode\": \"markers\", \"name\": \"Luxembourg\", \"showlegend\": true, \"type\": \"scattergl\", \"x\": [6.957920074462891, 7.097251892089844, 7.101400375366211, 6.964097023010254, 7.130809307098389, 6.891127109527588, 6.701571464538574, 6.96734094619751, 7.061380863189697, 7.242630958557129, 7.40401554107666], \"xaxis\": \"x\", \"y\": [0.9391016960144043, 0.9083030819892883, 0.961830735206604, 0.9165209531784058, 0.7896554470062256, 0.9379876852035522, 0.9322564005851746, 0.882365345954895, 0.9028217196464539, 0.8839298486709595, 0.930321216583252], \"yaxis\": \"y\"}, {\"hovertemplate\": \"Country name=Madagascar<br>Life Ladder=%{x}<br>Freedom to make life choices=%{y}<extra></extra>\", \"legendgroup\": \"Madagascar\", \"marker\": {\"color\": \"#B6E880\", \"symbol\": \"circle\"}, \"mode\": \"markers\", \"name\": \"Madagascar\", \"showlegend\": true, \"type\": \"scattergl\", \"x\": [3.9797513484954834, 4.640079021453857, 4.381415367126465, 3.550609588623047, 3.8156070709228516, 3.6756269931793213, 3.5925140380859375, 3.6630859375, 4.078620433807373, 4.070586681365967, 4.33908748626709], \"xaxis\": \"x\", \"y\": [null, 0.33243611454963684, 0.545555591583252, 0.48700788617134094, 0.47955039143562317, 0.5288050174713135, 0.5447536110877991, 0.5696454048156738, 0.5703479051589966, 0.551473081111908, 0.5495352149009705], \"yaxis\": \"y\"}, {\"hovertemplate\": \"Country name=Malawi<br>Life Ladder=%{x}<br>Freedom to make life choices=%{y}<extra></extra>\", \"legendgroup\": \"Malawi\", \"marker\": {\"color\": \"#FF97FF\", \"symbol\": \"circle\"}, \"mode\": \"markers\", \"name\": \"Malawi\", \"showlegend\": true, \"type\": \"scattergl\", \"x\": [3.8298680782318115, 4.891036510467529, 5.148239612579346, 3.9460625648498535, 4.279269695281982, 4.035084247589111, 4.563080310821533, 3.867638349533081, 3.4764926433563232, 3.416862964630127, 3.3346335887908936, 3.869123697280884], \"xaxis\": \"x\", \"y\": [0.7671416401863098, 0.9099938273429871, 0.8791612386703491, 0.7334638237953186, 0.6373627185821533, 0.7519952654838562, 0.7857667207717896, 0.8013907074928284, 0.8098841309547424, 0.8479207754135132, 0.7989151477813721, 0.7648642063140869], \"yaxis\": \"y\"}, {\"hovertemplate\": \"Country name=Malaysia<br>Life Ladder=%{x}<br>Freedom to make life choices=%{y}<extra></extra>\", \"legendgroup\": \"Malaysia\", \"marker\": {\"color\": \"#FECB52\", \"symbol\": \"circle\"}, \"mode\": \"markers\", \"name\": \"Malaysia\", \"showlegend\": true, \"type\": \"scattergl\", \"x\": [6.011716842651367, 6.2389044761657715, 5.806781768798828, 5.384701728820801, 5.580281734466553, 5.786367416381836, 5.914283752441406, 5.770199775695801, 5.962921619415283, 6.3221211433410645, 5.338817596435547, 5.427954196929932], \"xaxis\": \"x\", \"y\": [0.8367657661437988, 0.8436276316642761, 0.7795659899711609, 0.8743197917938232, 0.7691906690597534, 0.840359091758728, 0.848071813583374, 0.7913104295730591, 0.808384358882904, 0.6745944619178772, 0.8745482563972473, 0.9157786965370178], \"yaxis\": \"y\"}, {\"hovertemplate\": \"Country name=Maldives<br>Life Ladder=%{x}<br>Freedom to make life choices=%{y}<extra></extra>\", \"legendgroup\": \"Maldives\", \"marker\": {\"color\": \"#636efa\", \"symbol\": \"circle\"}, \"mode\": \"markers\", \"name\": \"Maldives\", \"showlegend\": true, \"type\": \"scattergl\", \"x\": [5.197574615478516], \"xaxis\": \"x\", \"y\": [0.8547592759132385], \"yaxis\": \"y\"}, {\"hovertemplate\": \"Country name=Mali<br>Life Ladder=%{x}<br>Freedom to make life choices=%{y}<extra></extra>\", \"legendgroup\": \"Mali\", \"marker\": {\"color\": \"#EF553B\", \"symbol\": \"circle\"}, \"mode\": \"markers\", \"name\": \"Mali\", \"showlegend\": true, \"type\": \"scattergl\", \"x\": [4.014075756072998, 4.114664077758789, 3.9765985012054443, 3.7623050212860107, 4.66683292388916, 4.313016891479492, 3.6762771606445312, 3.9747142791748047, 4.582098484039307, 4.016027927398682, 4.74185037612915, 4.415729522705078, 4.987991809844971], \"xaxis\": \"x\", \"y\": [0.5550756454467773, 0.4948400557041168, 0.6338159441947937, 0.749049723148346, 0.8228476047515869, 0.7042192816734314, 0.664711058139801, 0.6515138745307922, 0.6337535381317139, 0.6960073709487915, 0.7532133460044861, 0.7372045516967773, 0.6704050898551941], \"yaxis\": \"y\"}, {\"hovertemplate\": \"Country name=Malta<br>Life Ladder=%{x}<br>Freedom to make life choices=%{y}<extra></extra>\", \"legendgroup\": \"Malta\", \"marker\": {\"color\": \"#00cc96\", \"symbol\": \"circle\"}, \"mode\": \"markers\", \"name\": \"Malta\", \"showlegend\": true, \"type\": \"scattergl\", \"x\": [6.327639579772949, 5.773874759674072, 6.154718399047852, 5.96287202835083, 6.379924774169922, 6.452117919921875, 6.613394260406494, 6.590842247009277, 6.675665855407715, 6.909710884094238, 6.732977390289307, 6.156822681427002], \"xaxis\": \"x\", \"y\": [0.8031798005104065, 0.8020443916320801, 0.8819218277931213, 0.8606898784637451, 0.9094362854957581, 0.9039366245269775, 0.9121780395507812, 0.9160236120223999, 0.9236429333686829, 0.9273406863212585, 0.9239668250083923, 0.9306004643440247], \"yaxis\": \"y\"}, {\"hovertemplate\": \"Country name=Mauritania<br>Life Ladder=%{x}<br>Freedom to make life choices=%{y}<extra></extra>\", \"legendgroup\": \"Mauritania\", \"marker\": {\"color\": \"#ab63fa\", \"symbol\": \"circle\"}, \"mode\": \"markers\", \"name\": \"Mauritania\", \"showlegend\": true, \"type\": \"scattergl\", \"x\": [4.149043083190918, 4.248075008392334, 4.500431537628174, 4.7723069190979, 4.784804344177246, 4.673203945159912, 4.199015140533447, 4.482805252075195, 3.922664165496826, 4.47214937210083, 4.678159713745117, 4.313615322113037, 4.152619361877441], \"xaxis\": \"x\", \"y\": [0.5728883743286133, 0.5932648777961731, 0.7350711822509766, 0.6689305901527405, 0.5669202208518982, 0.4873727560043335, 0.6028002500534058, 0.4683181345462799, 0.4470865726470947, 0.4665614664554596, 0.5274468064308167, 0.46688854694366455, 0.6275051832199097], \"yaxis\": \"y\"}, {\"hovertemplate\": \"Country name=Mauritius<br>Life Ladder=%{x}<br>Freedom to make life choices=%{y}<extra></extra>\", \"legendgroup\": \"Mauritius\", \"marker\": {\"color\": \"#FFA15A\", \"symbol\": \"circle\"}, \"mode\": \"markers\", \"name\": \"Mauritius\", \"showlegend\": true, \"type\": \"scattergl\", \"x\": [5.4770731925964355, 5.647779941558838, 5.610003471374512, 6.174117565155029, 5.881740570068359, 6.2411651611328125, 6.015300273895264], \"xaxis\": \"x\", \"y\": [0.8481937646865845, 0.8242303133010864, 0.819175660610199, 0.9123075008392334, 0.8669281005859375, 0.8931578993797302, 0.8425980806350708], \"yaxis\": \"y\"}, {\"hovertemplate\": \"Country name=Mexico<br>Life Ladder=%{x}<br>Freedom to make life choices=%{y}<extra></extra>\", \"legendgroup\": \"Mexico\", \"marker\": {\"color\": \"#19d3f3\", \"symbol\": \"circle\"}, \"mode\": \"markers\", \"name\": \"Mexico\", \"showlegend\": true, \"type\": \"scattergl\", \"x\": [6.580657958984375, 6.525378227233887, 6.829036235809326, 6.9628190994262695, 6.802388668060303, 6.909515380859375, 7.32018518447876, 7.442546367645264, 6.679831027984619, 6.2362871170043945, 6.8241729736328125, 6.410299301147461, 6.549578666687012, 6.431945323944092, 5.964221000671387], \"xaxis\": \"x\", \"y\": [0.8137454986572266, 0.6704303622245789, 0.6774773001670837, 0.6824634075164795, 0.778120756149292, 0.831368088722229, 0.7877683043479919, 0.7387166619300842, 0.7791329026222229, 0.719465970993042, 0.7516130805015564, 0.8614051342010498, 0.8162004947662354, 0.9033844470977783, 0.8733469843864441], \"yaxis\": \"y\"}, {\"hovertemplate\": \"Country name=Moldova<br>Life Ladder=%{x}<br>Freedom to make life choices=%{y}<extra></extra>\", \"legendgroup\": \"Moldova\", \"marker\": {\"color\": \"#FF6692\", \"symbol\": \"circle\"}, \"mode\": \"markers\", \"name\": \"Moldova\", \"showlegend\": true, \"type\": \"scattergl\", \"x\": [5.102071285247803, 4.774918079376221, 5.502756118774414, 5.5543742179870605, 5.589736461639404, 5.792262554168701, 5.995712757110596, 5.756059169769287, 5.91705846786499, 6.017472267150879, 5.577784061431885, 5.325530529022217, 5.682277202606201, 5.803450584411621, 5.811628818511963], \"xaxis\": \"x\", \"y\": [0.554478108882904, 0.6961949467658997, 0.6406171321868896, 0.5508586168289185, 0.5984848141670227, 0.6280227899551392, 0.6024185419082642, 0.6577342748641968, 0.6231862306594849, 0.5952414274215698, 0.5573694705963135, 0.5528252124786377, 0.8238243460655212, 0.7836645841598511, 0.8590832352638245], \"yaxis\": \"y\"}, {\"hovertemplate\": \"Country name=Mongolia<br>Life Ladder=%{x}<br>Freedom to make life choices=%{y}<extra></extra>\", \"legendgroup\": \"Mongolia\", \"marker\": {\"color\": \"#B6E880\", \"symbol\": \"circle\"}, \"mode\": \"markers\", \"name\": \"Mongolia\", \"showlegend\": true, \"type\": \"scattergl\", \"x\": [4.6090593338012695, 4.4930100440979, 4.58552360534668, 5.0311737060546875, 4.88515043258667, 4.912928104400635, 4.824834823608398, 4.982719898223877, 5.056999683380127, 5.333850383758545, 5.464622974395752, 5.562905311584473, 6.011364936828613], \"xaxis\": \"x\", \"y\": [0.7813326716423035, 0.4840814173221588, 0.6309666037559509, 0.7003456950187683, 0.6883116960525513, 0.7480140328407288, 0.7523541450500488, 0.6855107545852661, 0.759740948677063, 0.674627423286438, 0.6955468058586121, 0.7106751799583435, 0.7184910178184509], \"yaxis\": \"y\"}, {\"hovertemplate\": \"Country name=Montenegro<br>Life Ladder=%{x}<br>Freedom to make life choices=%{y}<extra></extra>\", \"legendgroup\": \"Montenegro\", \"marker\": {\"color\": \"#FF97FF\", \"symbol\": \"circle\"}, \"mode\": \"markers\", \"name\": \"Montenegro\", \"showlegend\": true, \"type\": \"scattergl\", \"x\": [5.196315288543701, 4.801060199737549, 5.45503044128418, 5.223116874694824, 5.218724250793457, 5.074341773986816, 5.282720565795898, 5.1249213218688965, 5.304066181182861, 5.614798545837402, 5.6501898765563965, 5.3860249519348145, 5.72216272354126], \"xaxis\": \"x\", \"y\": [0.5120672583580017, 0.5563655495643616, 0.5521036982536316, 0.5460813641548157, 0.46170637011528015, 0.5022649765014648, 0.5026655197143555, 0.5833173394203186, 0.5686336755752563, 0.6259062886238098, 0.6264312863349915, 0.6941624879837036, 0.8018550872802734], \"yaxis\": \"y\"}, {\"hovertemplate\": \"Country name=Morocco<br>Life Ladder=%{x}<br>Freedom to make life choices=%{y}<extra></extra>\", \"legendgroup\": \"Morocco\", \"marker\": {\"color\": \"#FECB52\", \"symbol\": \"circle\"}, \"mode\": \"markers\", \"name\": \"Morocco\", \"showlegend\": true, \"type\": \"scattergl\", \"x\": [4.383247375488281, 5.084972858428955, 4.969656467437744, 5.142160415649414, 5.163156986236572, 5.386307239532471, 5.312482833862305, 4.896791934967041, 5.056751728057861, 4.80261754989624], \"xaxis\": \"x\", \"y\": [0.6629003882408142, 0.5789307355880737, 0.7567846179008484, 0.5716299414634705, 0.7129334211349487, 0.8165560960769653, 0.8142580389976501, 0.7731804251670837, 0.756747841835022, 0.8189952373504639], \"yaxis\": \"y\"}, {\"hovertemplate\": \"Country name=Mozambique<br>Life Ladder=%{x}<br>Freedom to make life choices=%{y}<extra></extra>\", \"legendgroup\": \"Mozambique\", \"marker\": {\"color\": \"#636efa\", \"symbol\": \"circle\"}, \"mode\": \"markers\", \"name\": \"Mozambique\", \"showlegend\": true, \"type\": \"scattergl\", \"x\": [4.594879627227783, 4.832634925842285, 4.65358304977417, 4.97111177444458, 4.54976749420166, 4.279863357543945, 4.653713703155518, 4.932132720947266], \"xaxis\": \"x\", \"y\": [0.6841492056846619, 0.6430618166923523, 0.5144374966621399, 0.6392068266868591, 0.8132292628288269, 0.8226705193519592, 0.896621584892273, 0.8698102235794067], \"yaxis\": \"y\"}, {\"hovertemplate\": \"Country name=Myanmar<br>Life Ladder=%{x}<br>Freedom to make life choices=%{y}<extra></extra>\", \"legendgroup\": \"Myanmar\", \"marker\": {\"color\": \"#EF553B\", \"symbol\": \"circle\"}, \"mode\": \"markers\", \"name\": \"Myanmar\", \"showlegend\": true, \"type\": \"scattergl\", \"x\": [4.438939571380615, 4.175670623779297, 4.786247253417969, 4.223846435546875, 4.623119831085205, 4.154341697692871, 4.410633087158203, 4.434237480163574, 4.431364059448242], \"xaxis\": \"x\", \"y\": [0.6910942792892456, 0.7754476070404053, null, 0.8079710602760315, 0.8774911761283875, 0.8860118389129639, 0.9061108231544495, 0.899064302444458, 0.8248707056045532], \"yaxis\": \"y\"}, {\"hovertemplate\": \"Country name=Namibia<br>Life Ladder=%{x}<br>Freedom to make life choices=%{y}<extra></extra>\", \"legendgroup\": \"Namibia\", \"marker\": {\"color\": \"#00cc96\", \"symbol\": \"circle\"}, \"mode\": \"markers\", \"name\": \"Namibia\", \"showlegend\": true, \"type\": \"scattergl\", \"x\": [4.885587215423584, 4.573991298675537, 4.441306114196777, 4.83408784866333, 4.4358110427856445, 4.451010227203369], \"xaxis\": \"x\", \"y\": [0.7810404896736145, 0.8493549823760986, 0.8104018568992615, 0.7539047598838806, 0.7390345335006714, 0.6656819581985474], \"yaxis\": \"y\"}, {\"hovertemplate\": \"Country name=Nepal<br>Life Ladder=%{x}<br>Freedom to make life choices=%{y}<extra></extra>\", \"legendgroup\": \"Nepal\", \"marker\": {\"color\": \"#ab63fa\", \"symbol\": \"circle\"}, \"mode\": \"markers\", \"name\": \"Nepal\", \"showlegend\": true, \"type\": \"scattergl\", \"x\": [4.56659460067749, 4.748284339904785, 4.440526485443115, 4.916868209838867, 4.349675178527832, 3.8094446659088135, 4.233244895935059, 4.604576587677002, 4.975014686584473, 4.812436580657959, 5.099539756774902, 4.736692428588867, 4.910086631774902, 5.448724746704102], \"xaxis\": \"x\", \"y\": [0.6892958283424377, 0.4133208394050598, 0.6176047921180725, 0.6161537766456604, 0.5190626382827759, 0.5247976779937744, 0.6377784013748169, 0.7222657799720764, 0.7118776440620422, 0.7634472250938416, 0.8394884467124939, 0.8451476097106934, 0.7700936794281006, 0.790347695350647], \"yaxis\": \"y\"}, {\"hovertemplate\": \"Country name=Netherlands<br>Life Ladder=%{x}<br>Freedom to make life choices=%{y}<extra></extra>\", \"legendgroup\": \"Netherlands\", \"marker\": {\"color\": \"#FFA15A\", \"symbol\": \"circle\"}, \"mode\": \"markers\", \"name\": \"Netherlands\", \"showlegend\": true, \"type\": \"scattergl\", \"x\": [7.463979244232178, 7.451879501342773, 7.631011962890625, 7.501875877380371, 7.563797950744629, 7.470715522766113, 7.406550407409668, 7.321188449859619, 7.324437141418457, 7.540877342224121, 7.458965301513672, 7.463097095489502, 7.425268650054932, 7.504447937011719], \"xaxis\": \"x\", \"y\": [0.9010077714920044, 0.8960180878639221, 0.883287250995636, 0.9214482307434082, 0.9254315495491028, 0.8771186470985413, 0.9189958572387695, 0.910179615020752, 0.9039787650108337, 0.9073100090026855, 0.9203197360038757, 0.9199851751327515, 0.885592520236969, 0.9345226287841797], \"yaxis\": \"y\"}, {\"hovertemplate\": \"Country name=New Zealand<br>Life Ladder=%{x}<br>Freedom to make life choices=%{y}<extra></extra>\", \"legendgroup\": \"New Zealand\", \"marker\": {\"color\": \"#19d3f3\", \"symbol\": \"circle\"}, \"mode\": \"markers\", \"name\": \"New Zealand\", \"showlegend\": true, \"type\": \"scattergl\", \"x\": [7.305014133453369, 7.604173183441162, 7.381170749664307, 7.223756313323975, 7.190638065338135, 7.249629974365234, 7.280151844024658, 7.305892467498779, 7.418120861053467, 7.2256879806518555, 7.327182769775391, 7.370285987854004, 7.205174446105957, 7.257381916046143], \"xaxis\": \"x\", \"y\": [0.9320802688598633, 0.8782188892364502, 0.8930724859237671, 0.9177525043487549, 0.9347687363624573, 0.901853084564209, 0.9440004229545593, 0.9318824410438538, 0.9417842626571655, 0.9265760183334351, 0.9422794580459595, 0.9493001699447632, 0.9120423793792725, 0.9181545972824097], \"yaxis\": \"y\"}, {\"hovertemplate\": \"Country name=Nicaragua<br>Life Ladder=%{x}<br>Freedom to make life choices=%{y}<extra></extra>\", \"legendgroup\": \"Nicaragua\", \"marker\": {\"color\": \"#FF6692\", \"symbol\": \"circle\"}, \"mode\": \"markers\", \"name\": \"Nicaragua\", \"showlegend\": true, \"type\": \"scattergl\", \"x\": [4.460158348083496, 4.944090843200684, 5.103827476501465, 5.352804660797119, 5.686699390411377, 5.385705471038818, 5.4480061531066895, 5.772274971008301, 6.275266647338867, 5.924112796783447, 6.012739658355713, 6.476356506347656, 5.818952560424805, 6.112545013427734], \"xaxis\": \"x\", \"y\": [0.745456337928772, 0.8355597257614136, 0.7908310890197754, 0.7460650205612183, 0.7917733192443848, 0.7785910367965698, 0.850304901599884, 0.8591490387916565, 0.8173206448554993, 0.8092591762542725, 0.7165342569351196, 0.9221627712249756, 0.7970568537712097, 0.8826784491539001], \"yaxis\": \"y\"}, {\"hovertemplate\": \"Country name=Niger<br>Life Ladder=%{x}<br>Freedom to make life choices=%{y}<extra></extra>\", \"legendgroup\": \"Niger\", \"marker\": {\"color\": \"#B6E880\", \"symbol\": \"circle\"}, \"mode\": \"markers\", \"name\": \"Niger\", \"showlegend\": true, \"type\": \"scattergl\", \"x\": [3.7369518280029297, 4.277402400970459, 4.235657215118408, 4.267169952392578, 4.101016044616699, 4.5558295249938965, 3.798088312149048, 3.71632981300354, 4.180943489074707, 3.6714537143707275, 4.234645843505859, 4.615673542022705, 5.164007186889648, 5.003544330596924], \"xaxis\": \"x\", \"y\": [0.7503363490104675, 0.584067165851593, 0.64872807264328, 0.8800421357154846, 0.8172197341918945, 0.779515266418457, 0.7344309091567993, 0.8253870606422424, 0.687634289264679, 0.7281283140182495, 0.7019273042678833, 0.6835575699806213, 0.7906656265258789, 0.8313618898391724], \"yaxis\": \"y\"}, {\"hovertemplate\": \"Country name=Nigeria<br>Life Ladder=%{x}<br>Freedom to make life choices=%{y}<extra></extra>\", \"legendgroup\": \"Nigeria\", \"marker\": {\"color\": \"#FF97FF\", \"symbol\": \"circle\"}, \"mode\": \"markers\", \"name\": \"Nigeria\", \"showlegend\": true, \"type\": \"scattergl\", \"x\": [4.70974588394165, 4.8904194831848145, 4.938560485839844, 4.980220317840576, 4.760275840759277, 5.492954254150391, 4.817868709564209, 4.932914733886719, 5.219567775726318, 5.321928024291992, 5.252288341522217, 4.356419086456299, 5.50294828414917], \"xaxis\": \"x\", \"y\": [0.6491397619247437, 0.6350732445716858, 0.5842215418815613, 0.5367211103439331, 0.5653510689735413, 0.6516888737678528, 0.6215876936912537, 0.6804702877998352, 0.7976905107498169, 0.8259055614471436, 0.7898810505867004, 0.7293669581413269, 0.713061511516571], \"yaxis\": \"y\"}, {\"hovertemplate\": \"Country name=North Cyprus<br>Life Ladder=%{x}<br>Freedom to make life choices=%{y}<extra></extra>\", \"legendgroup\": \"North Cyprus\", \"marker\": {\"color\": \"#FECB52\", \"symbol\": \"circle\"}, \"mode\": \"markers\", \"name\": \"North Cyprus\", \"showlegend\": true, \"type\": \"scattergl\", \"x\": [5.463305473327637, 5.566802501678467, 5.7859787940979, 5.842550277709961, 5.827127933502197, 5.60805606842041, 5.466615200042725], \"xaxis\": \"x\", \"y\": [0.6925676465034485, 0.7753832936286926, 0.8296772837638855, 0.7853528261184692, 0.7962338328361511, 0.7970660924911499, 0.7927346229553223], \"yaxis\": \"y\"}, {\"hovertemplate\": \"Country name=North Macedonia<br>Life Ladder=%{x}<br>Freedom to make life choices=%{y}<extra></extra>\", \"legendgroup\": \"North Macedonia\", \"marker\": {\"color\": \"#636efa\", \"symbol\": \"circle\"}, \"mode\": \"markers\", \"name\": \"North Macedonia\", \"showlegend\": true, \"type\": \"scattergl\", \"x\": [4.493598461151123, 4.4280219078063965, 4.180202007293701, 4.89818000793457, 4.639647483825684, 5.186190605163574, 5.203825950622559, 4.975589752197266, 5.345746040344238, 5.2338666915893555, 5.239834785461426, 5.0154852867126465, 5.053664207458496], \"xaxis\": \"x\", \"y\": [0.439399778842926, 0.5521737337112427, 0.5131839513778687, 0.6074632406234741, 0.6130557060241699, 0.6409526467323303, 0.6447408199310303, 0.660318911075592, 0.7061793208122253, 0.7521066069602966, 0.7448009252548218, 0.7247104048728943, 0.7872847318649292], \"yaxis\": \"y\"}, {\"hovertemplate\": \"Country name=Norway<br>Life Ladder=%{x}<br>Freedom to make life choices=%{y}<extra></extra>\", \"legendgroup\": \"Norway\", \"marker\": {\"color\": \"#EF553B\", \"symbol\": \"circle\"}, \"mode\": \"markers\", \"name\": \"Norway\", \"showlegend\": true, \"type\": \"scattergl\", \"x\": [7.415682315826416, 7.632287502288818, 7.678277015686035, 7.4444708824157715, 7.603433609008789, 7.596331596374512, 7.578744888305664, 7.4442620277404785, 7.442139625549316, 7.290032386779785], \"xaxis\": \"x\", \"y\": [0.9595327377319336, 0.9472888708114624, 0.9465658664703369, 0.9563161730766296, 0.9476205110549927, 0.9543523192405701, 0.9530168175697327, 0.9604290127754211, 0.9540444612503052, 0.9645611047744751], \"yaxis\": \"y\"}, {\"hovertemplate\": \"Country name=Oman<br>Life Ladder=%{x}<br>Freedom to make life choices=%{y}<extra></extra>\", \"legendgroup\": \"Oman\", \"marker\": {\"color\": \"#00cc96\", \"symbol\": \"circle\"}, \"mode\": \"markers\", \"name\": \"Oman\", \"showlegend\": true, \"type\": \"scattergl\", \"x\": [6.852982044219971], \"xaxis\": \"x\", \"y\": [0.9162930250167847], \"yaxis\": \"y\"}, {\"hovertemplate\": \"Country name=Pakistan<br>Life Ladder=%{x}<br>Freedom to make life choices=%{y}<extra></extra>\", \"legendgroup\": \"Pakistan\", \"marker\": {\"color\": \"#ab63fa\", \"symbol\": \"circle\"}, \"mode\": \"markers\", \"name\": \"Pakistan\", \"showlegend\": true, \"type\": \"scattergl\", \"x\": [5.2246575355529785, 5.6714606285095215, 4.413918972015381, 5.208146572113037, 5.7861328125, 5.267186164855957, 5.131565093994141, 5.138082504272461, 5.435657978057861, 4.823194980621338, 5.548508167266846, 5.830870628356934, 5.471553802490234, 4.442717552185059], \"xaxis\": \"x\", \"y\": [0.6299958825111389, 0.3956422209739685, 0.33522364497184753, 0.38769766688346863, 0.364205926656723, 0.37582263350486755, 0.366844117641449, 0.4479095935821533, 0.5431385040283203, 0.5865462422370911, 0.6341828107833862, 0.71265709400177, 0.7725691199302673, 0.6846755743026733], \"yaxis\": \"y\"}, {\"hovertemplate\": \"Country name=Palestinian Territories<br>Life Ladder=%{x}<br>Freedom to make life choices=%{y}<extra></extra>\", \"legendgroup\": \"Palestinian Territories\", \"marker\": {\"color\": \"#FFA15A\", \"symbol\": \"circle\"}, \"mode\": \"markers\", \"name\": \"Palestinian Territories\", \"showlegend\": true, \"type\": \"scattergl\", \"x\": [4.716387748718262, 4.1510539054870605, 4.385603427886963, 4.470191478729248, 4.702603816986084, 4.751219749450684, 4.646608352661133, 4.844027996063232, 4.721938133239746, 4.695239067077637, 4.906618118286133, 4.6281328201293945, 4.553921699523926, 4.482537269592285], \"xaxis\": \"x\", \"y\": [0.5465064644813538, 0.3652961552143097, 0.35775652527809143, 0.4678119421005249, 0.5042622685432434, 0.5218892693519592, 0.5415828824043274, 0.4539033770561218, 0.657049834728241, 0.5560409426689148, 0.6076694130897522, 0.6316112875938416, 0.6545345187187195, 0.653488278388977], \"yaxis\": \"y\"}, {\"hovertemplate\": \"Country name=Panama<br>Life Ladder=%{x}<br>Freedom to make life choices=%{y}<extra></extra>\", \"legendgroup\": \"Panama\", \"marker\": {\"color\": \"#19d3f3\", \"symbol\": \"circle\"}, \"mode\": \"markers\", \"name\": \"Panama\", \"showlegend\": true, \"type\": \"scattergl\", \"x\": [6.127988338470459, 6.894139766693115, 6.930903434753418, 7.033740043640137, 7.321467399597168, 7.248080730438232, 6.859835624694824, 6.866480350494385, 6.631171226501465, 6.605550289154053, 6.117638111114502, 6.5676589012146, 6.281434059143066, 6.0859551429748535], \"xaxis\": \"x\", \"y\": [0.8820472359657288, 0.6402187943458557, 0.7073845863342285, 0.7213936448097229, 0.7545236945152283, 0.8290128707885742, 0.7831825017929077, 0.811337947845459, 0.8939151167869568, 0.8466691970825195, 0.8844797611236572, 0.8995735049247742, 0.8614481091499329, 0.882961094379425], \"yaxis\": \"y\"}, {\"hovertemplate\": \"Country name=Paraguay<br>Life Ladder=%{x}<br>Freedom to make life choices=%{y}<extra></extra>\", \"legendgroup\": \"Paraguay\", \"marker\": {\"color\": \"#FF6692\", \"symbol\": \"circle\"}, \"mode\": \"markers\", \"name\": \"Paraguay\", \"showlegend\": true, \"type\": \"scattergl\", \"x\": [4.730082035064697, 5.272461414337158, 5.570061683654785, 5.576147079467773, 5.841174125671387, 5.6770806312561035, 5.820058345794678, 5.9362406730651855, 5.1186418533325195, 5.5597243309021, 5.801380157470703, 5.7132954597473145, 5.652625560760498], \"xaxis\": \"x\", \"y\": [0.6910216808319092, 0.6989878416061401, 0.6490687727928162, 0.7178701758384705, 0.7262623906135559, 0.6658642888069153, 0.748206615447998, 0.9089058637619019, 0.7593964338302612, 0.806124746799469, 0.8535342812538147, 0.8911714553833008, 0.8760526180267334], \"yaxis\": \"y\"}, {\"hovertemplate\": \"Country name=Peru<br>Life Ladder=%{x}<br>Freedom to make life choices=%{y}<extra></extra>\", \"legendgroup\": \"Peru\", \"marker\": {\"color\": \"#B6E880\", \"symbol\": \"circle\"}, \"mode\": \"markers\", \"name\": \"Peru\", \"showlegend\": true, \"type\": \"scattergl\", \"x\": [4.810845375061035, 5.213962078094482, 5.129230976104736, 5.5188469886779785, 5.612785339355469, 5.892457485198975, 5.824557304382324, 5.782557487487793, 5.86581563949585, 5.577263355255127, 5.700628757476807, 5.710936546325684, 5.679661273956299, 5.9993815422058105], \"xaxis\": \"x\", \"y\": [0.667579174041748, 0.6384965181350708, 0.6376723647117615, 0.6383751034736633, 0.7567064166069031, 0.7727594971656799, 0.703000545501709, 0.7030412554740906, 0.7223523855209351, 0.8022690415382385, 0.8298438787460327, 0.826552152633667, 0.8296419978141785, 0.8148059248924255], \"yaxis\": \"y\"}, {\"hovertemplate\": \"Country name=Philippines<br>Life Ladder=%{x}<br>Freedom to make life choices=%{y}<extra></extra>\", \"legendgroup\": \"Philippines\", \"marker\": {\"color\": \"#FF97FF\", \"symbol\": \"circle\"}, \"mode\": \"markers\", \"name\": \"Philippines\", \"showlegend\": true, \"type\": \"scattergl\", \"x\": [4.66994571685791, 5.073562145233154, 4.589065074920654, 4.879910945892334, 4.941514015197754, 4.993956565856934, 5.001965045928955, 4.976925373077393, 5.312550067901611, 5.547489166259766, 5.430832862854004, 5.5942702293396, 5.8691725730896, 6.267745018005371, 5.079585075378418], \"xaxis\": \"x\", \"y\": [0.8282731175422668, 0.8515664339065552, 0.8608425855636597, 0.873605489730835, 0.8933505415916443, 0.8828374743461609, 0.9144995808601379, 0.9074584245681763, 0.9021857380867004, 0.9115335941314697, 0.9075957536697388, 0.9257031083106995, 0.9178081750869751, 0.9095985889434814, 0.9320417046546936], \"yaxis\": \"y\"}, {\"hovertemplate\": \"Country name=Poland<br>Life Ladder=%{x}<br>Freedom to make life choices=%{y}<extra></extra>\", \"legendgroup\": \"Poland\", \"marker\": {\"color\": \"#FECB52\", \"symbol\": \"circle\"}, \"mode\": \"markers\", \"name\": \"Poland\", \"showlegend\": true, \"type\": \"scattergl\", \"x\": [5.587209224700928, 5.88613748550415, 5.772027492523193, 5.887029647827148, 5.646204948425293, 5.875931739807129, 5.746131896972656, 5.750282287597656, 6.007021903991699, 6.162076473236084, 6.201268196105957, 6.111485004425049, 6.242094039916992, 6.139455318450928], \"xaxis\": \"x\", \"y\": [0.7824731469154358, 0.7722233533859253, 0.8206490874290466, 0.7949004769325256, 0.868148922920227, 0.8113017082214355, 0.7759313583374023, 0.8753570914268494, 0.7934621572494507, 0.8707075119018555, 0.8308426141738892, 0.870215117931366, 0.882885754108429, 0.7674286961555481], \"yaxis\": \"y\"}, {\"hovertemplate\": \"Country name=Portugal<br>Life Ladder=%{x}<br>Freedom to make life choices=%{y}<extra></extra>\", \"legendgroup\": \"Portugal\", \"marker\": {\"color\": \"#636efa\", \"symbol\": \"circle\"}, \"mode\": \"markers\", \"name\": \"Portugal\", \"showlegend\": true, \"type\": \"scattergl\", \"x\": [5.405246257781982, 5.71696662902832, 5.0945258140563965, 5.219997882843018, 4.993962287902832, 5.157688140869141, 5.126911640167236, 5.08086633682251, 5.446637153625488, 5.711499214172363, 5.919822692871094, 6.095473289489746, 5.767792224884033], \"xaxis\": \"x\", \"y\": [0.8820680975914001, 0.6464641094207764, 0.7210363745689392, 0.8750925660133362, 0.7738214135169983, 0.7880327701568604, 0.8468101024627686, 0.8004403114318848, 0.8380693197250366, 0.905065655708313, 0.8774042129516602, 0.8823511004447937, 0.9131307601928711], \"yaxis\": \"y\"}, {\"hovertemplate\": \"Country name=Qatar<br>Life Ladder=%{x}<br>Freedom to make life choices=%{y}<extra></extra>\", \"legendgroup\": \"Qatar\", \"marker\": {\"color\": \"#EF553B\", \"symbol\": \"circle\"}, \"mode\": \"markers\", \"name\": \"Qatar\", \"showlegend\": true, \"type\": \"scattergl\", \"x\": [6.4178242683410645, 6.8496527671813965, 6.591604232788086, 6.611298561096191, 6.3745293617248535], \"xaxis\": \"x\", \"y\": [0.8649919033050537, null, 0.9046874642372131, 0.9243336319923401, null], \"yaxis\": \"y\"}, {\"hovertemplate\": \"Country name=Romania<br>Life Ladder=%{x}<br>Freedom to make life choices=%{y}<extra></extra>\", \"legendgroup\": \"Romania\", \"marker\": {\"color\": \"#00cc96\", \"symbol\": \"circle\"}, \"mode\": \"markers\", \"name\": \"Romania\", \"showlegend\": true, \"type\": \"scattergl\", \"x\": [5.048648357391357, 5.393723964691162, 5.367565155029297, 4.909165859222412, 5.022757530212402, 5.166874885559082, 5.081584453582764, 5.726893424987793, 5.777491092681885, 5.968870639801025, 6.08990478515625, 6.15087890625, 6.129942417144775], \"xaxis\": \"x\", \"y\": [0.8001205921173096, 0.6857477426528931, 0.6058276295661926, 0.5655367374420166, 0.6504021883010864, 0.6445361375808716, 0.6545421481132507, 0.7542355060577393, 0.7958477139472961, 0.8217206001281738, 0.838586688041687, 0.8451595902442932, 0.8475431799888611], \"yaxis\": \"y\"}, {\"hovertemplate\": \"Country name=Russia<br>Life Ladder=%{x}<br>Freedom to make life choices=%{y}<extra></extra>\", \"legendgroup\": \"Russia\", \"marker\": {\"color\": \"#ab63fa\", \"symbol\": \"circle\"}, \"mode\": \"markers\", \"name\": \"Russia\", \"showlegend\": true, \"type\": \"scattergl\", \"x\": [4.963742733001709, 5.222867488861084, 5.618753910064697, 5.158227920532227, 5.384773254394531, 5.388766288757324, 5.6207356452941895, 5.537177562713623, 6.0369768142700195, 5.995538711547852, 5.854945659637451, 5.578742980957031, 5.513500213623047, 5.440523624420166, 5.495288848876953], \"xaxis\": \"x\", \"y\": [0.6433882117271423, 0.5925697088241577, 0.6427782773971558, 0.6171151399612427, 0.6131590008735657, 0.625847578048706, 0.6091041564941406, 0.6611855626106262, 0.7443320751190186, 0.6854547262191772, 0.7136062979698181, 0.730874240398407, 0.7292822003364563, 0.7147660851478577, 0.7144664525985718], \"yaxis\": \"y\"}, {\"hovertemplate\": \"Country name=Rwanda<br>Life Ladder=%{x}<br>Freedom to make life choices=%{y}<extra></extra>\", \"legendgroup\": \"Rwanda\", \"marker\": {\"color\": \"#FFA15A\", \"symbol\": \"circle\"}, \"mode\": \"markers\", \"name\": \"Rwanda\", \"showlegend\": true, \"type\": \"scattergl\", \"x\": [4.214703559875488, 4.3629889488220215, 4.029761791229248, 4.09743595123291, 3.333047866821289, 3.4663877487182617, 3.5956783294677734, 3.4831089973449707, 3.3329899311065674, 3.1083738803863525, 3.561046600341797, 3.2681522369384766], \"xaxis\": \"x\", \"y\": [0.9154808521270752, 0.7522934675216675, 0.7655690312385559, 0.8290361762046814, 0.8354913592338562, 0.9042722582817078, 0.8940252661705017, 0.9078923463821411, 0.9107363820075989, 0.9081148505210876, 0.9242316484451294, 0.868999183177948], \"yaxis\": \"y\"}, {\"hovertemplate\": \"Country name=Saudi Arabia<br>Life Ladder=%{x}<br>Freedom to make life choices=%{y}<extra></extra>\", \"legendgroup\": \"Saudi Arabia\", \"marker\": {\"color\": \"#19d3f3\", \"symbol\": \"circle\"}, \"mode\": \"markers\", \"name\": \"Saudi Arabia\", \"showlegend\": true, \"type\": \"scattergl\", \"x\": [7.079644203186035, 7.266694068908691, 6.811370372772217, 6.147590160369873, 6.307098388671875, 6.699789524078369, 6.396359443664551, 6.495132923126221, 6.278378009796143, 6.345491886138916, 6.473921298980713, 6.29428243637085, 6.356393337249756, 6.5612473487854, 6.559588432312012], \"xaxis\": \"x\", \"y\": [null, 0.6220701932907104, 0.5318119525909424, 0.6394056677818298, 0.6777772307395935, 0.603455662727356, 0.5604553818702698, 0.661042332649231, 0.7622516751289368, 0.8202072381973267, 0.7742677330970764, 0.8141421675682068, 0.8549215197563171, 0.8910865783691406, 0.8842201232910156], \"yaxis\": \"y\"}, {\"hovertemplate\": \"Country name=Senegal<br>Life Ladder=%{x}<br>Freedom to make life choices=%{y}<extra></extra>\", \"legendgroup\": \"Senegal\", \"marker\": {\"color\": \"#FF6692\", \"symbol\": \"circle\"}, \"mode\": \"markers\", \"name\": \"Senegal\", \"showlegend\": true, \"type\": \"scattergl\", \"x\": [4.417352676391602, 4.679986953735352, 4.683499813079834, 4.335114002227783, 4.372156143188477, 3.8342015743255615, 3.6687369346618652, 3.647367000579834, 4.394777297973633, 4.617000579833984, 4.594533920288086, 4.683024883270264, 4.7693772315979, 5.488736629486084], \"xaxis\": \"x\", \"y\": [0.7357235550880432, 0.6980052590370178, 0.6118761897087097, 0.5568381547927856, 0.7772626280784607, 0.6408903002738953, 0.6682522892951965, 0.6355395317077637, 0.6923531889915466, 0.7195332646369934, 0.7437296509742737, 0.6869370341300964, 0.6292234659194946, 0.7588417530059814], \"yaxis\": \"y\"}, {\"hovertemplate\": \"Country name=Serbia<br>Life Ladder=%{x}<br>Freedom to make life choices=%{y}<extra></extra>\", \"legendgroup\": \"Serbia\", \"marker\": {\"color\": \"#B6E880\", \"symbol\": \"circle\"}, \"mode\": \"markers\", \"name\": \"Serbia\", \"showlegend\": true, \"type\": \"scattergl\", \"x\": [4.7503838539123535, 4.380311965942383, 4.461304187774658, 4.815186500549316, 5.154521942138672, 5.101840496063232, 5.112728595733643, 5.317685127258301, 5.7527546882629395, 5.122031211853027, 5.936493396759033, 6.24140739440918, 6.04154634475708], \"xaxis\": \"x\", \"y\": [0.45278117060661316, 0.37288129329681396, 0.4626472592353821, 0.4404582977294922, 0.4605746865272522, 0.5328397154808044, 0.5315972566604614, 0.5458920001983643, 0.6143708229064941, 0.6848463416099548, 0.7398918271064758, 0.7525045871734619, 0.8434798717498779], \"yaxis\": \"y\"}, {\"hovertemplate\": \"Country name=Sierra Leone<br>Life Ladder=%{x}<br>Freedom to make life choices=%{y}<extra></extra>\", \"legendgroup\": \"Sierra Leone\", \"marker\": {\"color\": \"#FF97FF\", \"symbol\": \"circle\"}, \"mode\": \"markers\", \"name\": \"Sierra Leone\", \"showlegend\": true, \"type\": \"scattergl\", \"x\": [3.6281850337982178, 3.585127353668213, 2.997251033782959, 4.133955955505371, 4.501643657684326, 4.514291286468506, 4.499970436096191, 4.908617973327637, 4.732953071594238, 4.08956241607666, 4.305683135986328, 3.4473814964294434], \"xaxis\": \"x\", \"y\": [0.6790010929107666, 0.7203733921051025, 0.7163963317871094, 0.7262688279151917, 0.7697381377220154, 0.7195106744766235, 0.6814976334571838, 0.6242961287498474, 0.6812021136283875, 0.7106135487556458, 0.7164844870567322, 0.7177695631980896], \"yaxis\": \"y\"}, {\"hovertemplate\": \"Country name=Singapore<br>Life Ladder=%{x}<br>Freedom to make life choices=%{y}<extra></extra>\", \"legendgroup\": \"Singapore\", \"marker\": {\"color\": \"#FECB52\", \"symbol\": \"circle\"}, \"mode\": \"markers\", \"name\": \"Singapore\", \"showlegend\": true, \"type\": \"scattergl\", \"x\": [6.462702751159668, 6.833754539489746, 6.641956806182861, 6.144676685333252, 6.531401634216309, 6.561041831970215, 6.533206939697266, 7.06236457824707, 6.619524955749512, 6.033480644226074, 6.3784379959106445, 6.374564170837402, 6.378359794616699], \"xaxis\": \"x\", \"y\": [0.7568735480308533, 0.8668922781944275, 0.6606590151786804, 0.7763818502426147, 0.8461846113204956, 0.8218163251876831, 0.827102541923523, 0.8348876237869263, 0.8868908882141113, 0.9037356376647949, 0.9261278510093689, 0.9160782098770142, 0.9380417466163635], \"yaxis\": \"y\"}, {\"hovertemplate\": \"Country name=Slovakia<br>Life Ladder=%{x}<br>Freedom to make life choices=%{y}<extra></extra>\", \"legendgroup\": \"Slovakia\", \"marker\": {\"color\": \"#636efa\", \"symbol\": \"circle\"}, \"mode\": \"markers\", \"name\": \"Slovakia\", \"showlegend\": true, \"type\": \"scattergl\", \"x\": [5.264676570892334, 6.052223205566406, 5.9450483322143555, 5.911059379577637, 5.936527252197266, 6.138873100280762, 6.162004470825195, 5.993163108825684, 6.365509033203125, 6.235110759735107, 6.243428707122803, 6.519098281860352], \"xaxis\": \"x\", \"y\": [0.5424796938896179, 0.6357576847076416, 0.7271631360054016, 0.6200042963027954, 0.5979357957839966, 0.6347917318344116, 0.587157666683197, 0.7000985145568848, 0.7142246961593628, 0.7576340436935425, 0.7711215615272522, 0.7618966102600098], \"yaxis\": \"y\"}, {\"hovertemplate\": \"Country name=Slovenia<br>Life Ladder=%{x}<br>Freedom to make life choices=%{y}<extra></extra>\", \"legendgroup\": \"Slovenia\", \"marker\": {\"color\": \"#EF553B\", \"symbol\": \"circle\"}, \"mode\": \"markers\", \"name\": \"Slovenia\", \"showlegend\": true, \"type\": \"scattergl\", \"x\": [5.811264514923096, 5.830160617828369, 6.082555294036865, 6.035964012145996, 6.062891006469727, 5.974888801574707, 5.6783952713012695, 5.740642070770264, 5.936821460723877, 6.166837692260742, 6.249419212341309, 6.665273666381836, 6.462076187133789], \"xaxis\": \"x\", \"y\": [0.9358242154121399, 0.8959566354751587, 0.89552241563797, 0.9074409008026123, 0.9043862819671631, 0.8900598287582397, 0.8877477049827576, 0.8960072994232178, 0.9035511016845703, 0.9208626747131348, 0.9420458674430847, 0.9454305171966553, 0.9584425687789917], \"yaxis\": \"y\"}, {\"hovertemplate\": \"Country name=Somalia<br>Life Ladder=%{x}<br>Freedom to make life choices=%{y}<extra></extra>\", \"legendgroup\": \"Somalia\", \"marker\": {\"color\": \"#00cc96\", \"symbol\": \"circle\"}, \"mode\": \"markers\", \"name\": \"Somalia\", \"showlegend\": true, \"type\": \"scattergl\", \"x\": [5.52827262878418, 5.353644847869873, 4.667941093444824], \"xaxis\": \"x\", \"y\": [0.8738788366317749, 0.9678692817687988, 0.9173228144645691], \"yaxis\": \"y\"}, {\"hovertemplate\": \"Country name=Somaliland region<br>Life Ladder=%{x}<br>Freedom to make life choices=%{y}<extra></extra>\", \"legendgroup\": \"Somaliland region\", \"marker\": {\"color\": \"#ab63fa\", \"symbol\": \"circle\"}, \"mode\": \"markers\", \"name\": \"Somaliland region\", \"showlegend\": true, \"type\": \"scattergl\", \"x\": [4.991399765014648, 4.657363414764404, 4.930571556091309, 5.057314395904541], \"xaxis\": \"x\", \"y\": [0.7463039755821228, 0.8201819062232971, 0.8581044673919678, 0.7582190036773682], \"yaxis\": \"y\"}, {\"hovertemplate\": \"Country name=South Africa<br>Life Ladder=%{x}<br>Freedom to make life choices=%{y}<extra></extra>\", \"legendgroup\": \"South Africa\", \"marker\": {\"color\": \"#FFA15A\", \"symbol\": \"circle\"}, \"mode\": \"markers\", \"name\": \"South Africa\", \"showlegend\": true, \"type\": \"scattergl\", \"x\": [5.083986759185791, 5.20445442199707, 5.346306800842285, 5.218430995941162, 4.65242862701416, 4.930511474609375, 5.133887767791748, 3.6607272624969482, 4.828456401824951, 4.887325763702393, 4.769739627838135, 4.513655185699463, 4.883922100067139, 5.034863471984863, 4.946800708770752], \"xaxis\": \"x\", \"y\": [0.6487628817558289, 0.6899875402450562, 0.7488464713096619, 0.7394099831581116, 0.7389059662818909, 0.8354480266571045, 0.5901449918746948, 0.7141690254211426, 0.7940309643745422, 0.8624494075775146, 0.7741364240646362, 0.7874279022216797, 0.7527313232421875, 0.7383385300636292, 0.7569462656974792], \"yaxis\": \"y\"}, {\"hovertemplate\": \"Country name=South Korea<br>Life Ladder=%{x}<br>Freedom to make life choices=%{y}<extra></extra>\", \"legendgroup\": \"South Korea\", \"marker\": {\"color\": \"#19d3f3\", \"symbol\": \"circle\"}, \"mode\": \"markers\", \"name\": \"South Korea\", \"showlegend\": true, \"type\": \"scattergl\", \"x\": [5.332177639007568, 5.767275810241699, 5.38962459564209, 5.6476898193359375, 6.116024494171143, 6.946599006652832, 6.003286838531494, 5.958809852600098, 5.80132532119751, 5.780211448669434, 5.970564365386963, 5.873887062072754, 5.840231418609619, 5.9028167724609375, 5.79269552230835], \"xaxis\": \"x\", \"y\": [0.7152417302131653, 0.6558279991149902, 0.5236787796020508, 0.6001656651496887, 0.6766529679298401, 0.682356059551239, 0.6183980703353882, 0.6418842673301697, 0.623193621635437, 0.6158487796783447, 0.5909560322761536, 0.5381137132644653, 0.6001616716384888, 0.706032395362854, 0.711480438709259], \"yaxis\": \"y\"}, {\"hovertemplate\": \"Country name=South Sudan<br>Life Ladder=%{x}<br>Freedom to make life choices=%{y}<extra></extra>\", \"legendgroup\": \"South Sudan\", \"marker\": {\"color\": \"#FF6692\", \"symbol\": \"circle\"}, \"mode\": \"markers\", \"name\": \"South Sudan\", \"showlegend\": true, \"type\": \"scattergl\", \"x\": [3.8319923877716064, 4.070771217346191, 2.8881123065948486, 2.816622495651245], \"xaxis\": \"x\", \"y\": [0.5672593116760254, 0.5116310119628906, 0.43991902470588684, 0.4560110867023468], \"yaxis\": \"y\"}, {\"hovertemplate\": \"Country name=Spain<br>Life Ladder=%{x}<br>Freedom to make life choices=%{y}<extra></extra>\", \"legendgroup\": \"Spain\", \"marker\": {\"color\": \"#B6E880\", \"symbol\": \"circle\"}, \"mode\": \"markers\", \"name\": \"Spain\", \"showlegend\": true, \"type\": \"scattergl\", \"x\": [7.152785778045654, 6.994614601135254, 7.294472694396973, 6.198601245880127, 6.188262462615967, 6.518249034881592, 6.2906904220581055, 6.150027275085449, 6.456477642059326, 6.3806633949279785, 6.318612098693848, 6.230173110961914, 6.513370990753174, 6.457449436187744, 6.502175331115723], \"xaxis\": \"x\", \"y\": [0.9161646962165833, 0.7820821404457092, 0.8337860703468323, 0.748514711856842, 0.7964955568313599, 0.8186509013175964, 0.7545861005783081, 0.7593564391136169, 0.7384723424911499, 0.732000470161438, 0.7681737542152405, 0.7555607557296753, 0.7222506999969482, 0.7779667377471924, 0.7832565307617188], \"yaxis\": \"y\"}, {\"hovertemplate\": \"Country name=Sri Lanka<br>Life Ladder=%{x}<br>Freedom to make life choices=%{y}<extra></extra>\", \"legendgroup\": \"Sri Lanka\", \"marker\": {\"color\": \"#FF97FF\", \"symbol\": \"circle\"}, \"mode\": \"markers\", \"name\": \"Sri Lanka\", \"showlegend\": true, \"type\": \"scattergl\", \"x\": [4.344610691070557, 4.4148054122924805, 4.430846214294434, 4.212026596069336, 3.976905107498169, 4.180569171905518, 4.224593162536621, 4.364694118499756, 4.267932891845703, 4.611606597900391, 4.3309454917907715, 4.435023784637451, 4.21329927444458], \"xaxis\": \"x\", \"y\": [0.7238476276397705, 0.7358528971672058, 0.8338356018066406, 0.7988712191581726, 0.738208532333374, 0.8226372599601746, 0.8003972172737122, 0.8340203166007996, 0.8679364323616028, 0.9020747542381287, 0.8270773887634277, 0.8588736057281494, 0.8242773413658142], \"yaxis\": \"y\"}, {\"hovertemplate\": \"Country name=Sudan<br>Life Ladder=%{x}<br>Freedom to make life choices=%{y}<extra></extra>\", \"legendgroup\": \"Sudan\", \"marker\": {\"color\": \"#FECB52\", \"symbol\": \"circle\"}, \"mode\": \"markers\", \"name\": \"Sudan\", \"showlegend\": true, \"type\": \"scattergl\", \"x\": [4.4549174308776855, 4.435159683227539, 4.314456462860107, 4.550499439239502, 4.138672828674316], \"xaxis\": \"x\", \"y\": [0.7099786400794983, 0.6481553316116333, 0.5825387835502625, 0.41194790601730347, 0.3900958001613617], \"yaxis\": \"y\"}, {\"hovertemplate\": \"Country name=Suriname<br>Life Ladder=%{x}<br>Freedom to make life choices=%{y}<extra></extra>\", \"legendgroup\": \"Suriname\", \"marker\": {\"color\": \"#636efa\", \"symbol\": \"circle\"}, \"mode\": \"markers\", \"name\": \"Suriname\", \"showlegend\": true, \"type\": \"scattergl\", \"x\": [6.269286632537842], \"xaxis\": \"x\", \"y\": [0.8854884505271912], \"yaxis\": \"y\"}, {\"hovertemplate\": \"Country name=Swaziland<br>Life Ladder=%{x}<br>Freedom to make life choices=%{y}<extra></extra>\", \"legendgroup\": \"Swaziland\", \"marker\": {\"color\": \"#EF553B\", \"symbol\": \"circle\"}, \"mode\": \"markers\", \"name\": \"Swaziland\", \"showlegend\": true, \"type\": \"scattergl\", \"x\": [4.867091178894043, 4.211565017700195, 4.396114826202393], \"xaxis\": \"x\", \"y\": [0.6071572303771973, 0.7099736928939819, 0.5966824293136597], \"yaxis\": \"y\"}, {\"hovertemplate\": \"Country name=Sweden<br>Life Ladder=%{x}<br>Freedom to make life choices=%{y}<extra></extra>\", \"legendgroup\": \"Sweden\", \"marker\": {\"color\": \"#00cc96\", \"symbol\": \"circle\"}, \"mode\": \"markers\", \"name\": \"Sweden\", \"showlegend\": true, \"type\": \"scattergl\", \"x\": [7.376315593719482, 7.241362571716309, 7.515997409820557, 7.265977382659912, 7.496018886566162, 7.382232189178467, 7.560147762298584, 7.4340105056762695, 7.239147663116455, 7.288922309875488, 7.368744373321533, 7.286804676055908, 7.374792098999023, 7.398092746734619, 7.314341068267822], \"xaxis\": \"x\", \"y\": [0.9643954038619995, 0.9099618196487427, 0.9116092920303345, 0.8640046119689941, 0.904699981212616, 0.9411154389381409, 0.9443821907043457, 0.9359105229377747, 0.9452733993530273, 0.9350720643997192, 0.9180364012718201, 0.9345821142196655, 0.9417246580123901, 0.9415152072906494, 0.9511815905570984], \"yaxis\": \"y\"}, {\"hovertemplate\": \"Country name=Switzerland<br>Life Ladder=%{x}<br>Freedom to make life choices=%{y}<extra></extra>\", \"legendgroup\": \"Switzerland\", \"marker\": {\"color\": \"#ab63fa\", \"symbol\": \"circle\"}, \"mode\": \"markers\", \"name\": \"Switzerland\", \"showlegend\": true, \"type\": \"scattergl\", \"x\": [7.473252773284912, 7.5245208740234375, 7.776208877563477, 7.492803573608398, 7.572136878967285, 7.45851993560791, 7.473593235015869, 7.508586883544922, 7.694221019744873, 7.508435249328613], \"xaxis\": \"x\", \"y\": [0.9189577102661133, 0.8912771940231323, 0.9454280138015747, 0.9494014382362366, 0.9278024435043335, 0.9339470863342285, 0.9249969124794006, 0.9264145493507385, 0.9131667017936707, 0.917343258857727], \"yaxis\": \"y\"}, {\"hovertemplate\": \"Country name=Syria<br>Life Ladder=%{x}<br>Freedom to make life choices=%{y}<extra></extra>\", \"legendgroup\": \"Syria\", \"marker\": {\"color\": \"#FFA15A\", \"symbol\": \"circle\"}, \"mode\": \"markers\", \"name\": \"Syria\", \"showlegend\": true, \"type\": \"scattergl\", \"x\": [5.3233323097229, 4.978970527648926, 4.464707851409912, 4.03788948059082, 3.1644911766052246, 2.6875529289245605, 3.4619128704071045], \"xaxis\": \"x\", \"y\": [0.6607532501220703, 0.7482587695121765, 0.6470479965209961, 0.5304327607154846, 0.46677061915397644, 0.4548828899860382, 0.44827085733413696], \"yaxis\": \"y\"}, {\"hovertemplate\": \"Country name=Taiwan Province of China<br>Life Ladder=%{x}<br>Freedom to make life choices=%{y}<extra></extra>\", \"legendgroup\": \"Taiwan Province of China\", \"marker\": {\"color\": \"#19d3f3\", \"symbol\": \"circle\"}, \"mode\": \"markers\", \"name\": \"Taiwan Province of China\", \"showlegend\": true, \"type\": \"scattergl\", \"x\": [6.189050197601318, 5.547682285308838, 6.2285308837890625, 6.308915138244629, 6.125916957855225, 6.340344429016113, 6.363496780395508, 6.450088024139404, 6.512850761413574, 6.359450817108154, 6.467004776000977, 6.537089824676514, 6.751067638397217], \"xaxis\": \"x\", \"y\": [0.6299096345901489, 0.6417153477668762, 0.6765872836112976, 0.7614881992340088, 0.6981951594352722, 0.6900708675384521, 0.692899763584137, 0.7008104920387268, 0.7189251780509949, 0.7596547603607178, 0.7410327792167664, 0.8144844770431519, 0.7988347411155701], \"yaxis\": \"y\"}, {\"hovertemplate\": \"Country name=Tajikistan<br>Life Ladder=%{x}<br>Freedom to make life choices=%{y}<extra></extra>\", \"legendgroup\": \"Tajikistan\", \"marker\": {\"color\": \"#FF6692\", \"symbol\": \"circle\"}, \"mode\": \"markers\", \"name\": \"Tajikistan\", \"showlegend\": true, \"type\": \"scattergl\", \"x\": [4.613099098205566, 4.4316086769104, 5.063986778259277, 4.575174808502197, 4.380636215209961, 4.26267147064209, 4.4965715408325195, 4.966521263122559, 4.896157741546631, 5.124210834503174, 5.1037211418151855, 5.8292341232299805, 5.497468948364258, 5.464015483856201, 5.373398780822754], \"xaxis\": \"x\", \"y\": [0.701759934425354, 0.8183550238609314, 0.8159547448158264, 0.7437865138053894, 0.7844958901405334, 0.7761799693107605, 0.7490345239639282, 0.6931197643280029, 0.852732241153717, 0.8465421199798584, 0.7030268907546997, 0.8320024609565735, null, null, null], \"yaxis\": \"y\"}, {\"hovertemplate\": \"Country name=Tanzania<br>Life Ladder=%{x}<br>Freedom to make life choices=%{y}<extra></extra>\", \"legendgroup\": \"Tanzania\", \"marker\": {\"color\": \"#B6E880\", \"symbol\": \"circle\"}, \"mode\": \"markers\", \"name\": \"Tanzania\", \"showlegend\": true, \"type\": \"scattergl\", \"x\": [3.9224841594696045, 4.3179497718811035, 4.38474178314209, 3.40750789642334, 3.2291290760040283, 4.073562145233154, 4.006897449493408, 3.8523948192596436, 3.483278512954712, 3.660597324371338, 2.9027342796325684, 3.347121238708496, 3.44502329826355, 3.6401548385620117, 3.785684108734131], \"xaxis\": \"x\", \"y\": [0.7868585586547852, 0.7158322930335999, 0.5622117519378662, 0.6065491437911987, 0.5971216559410095, 0.7360303401947021, 0.5774533152580261, 0.6541821360588074, 0.6541250944137573, 0.7586846947669983, 0.7754849195480347, 0.8004955053329468, 0.8071421384811401, 0.8501325249671936, 0.83034348487854], \"yaxis\": \"y\"}, {\"hovertemplate\": \"Country name=Thailand<br>Life Ladder=%{x}<br>Freedom to make life choices=%{y}<extra></extra>\", \"legendgroup\": \"Thailand\", \"marker\": {\"color\": \"#FF97FF\", \"symbol\": \"circle\"}, \"mode\": \"markers\", \"name\": \"Thailand\", \"showlegend\": true, \"type\": \"scattergl\", \"x\": [5.885432720184326, 5.783891201019287, 5.636471271514893, 5.475645065307617, 6.216702938079834, 6.663609027862549, 6.300235271453857, 6.231024742126465, 6.985463619232178, 6.201762676239014, 6.073639869689941, 5.938895225524902, 6.011561870574951, 6.022151470184326, 5.884544372558594], \"xaxis\": \"x\", \"y\": [0.86319500207901, 0.8701592683792114, 0.8678337335586548, 0.8682237267494202, 0.8596364259719849, 0.9268818497657776, 0.8469328284263611, 0.7810819745063782, 0.8998463153839111, 0.8849165439605713, 0.9241456985473633, 0.9228968024253845, 0.9048282504081726, 0.8982446193695068, 0.8404632806777954], \"yaxis\": \"y\"}, {\"hovertemplate\": \"Country name=Togo<br>Life Ladder=%{x}<br>Freedom to make life choices=%{y}<extra></extra>\", \"legendgroup\": \"Togo\", \"marker\": {\"color\": \"#FECB52\", \"symbol\": \"circle\"}, \"mode\": \"markers\", \"name\": \"Togo\", \"showlegend\": true, \"type\": \"scattergl\", \"x\": [3.2024292945861816, 2.8078551292419434, 2.93622088432312, 2.838958740234375, 3.7683019638061523, 3.8785784244537354, 4.360805034637451, 4.022894859313965, 4.1794939041137695], \"xaxis\": \"x\", \"y\": [0.628228485584259, 0.2868143916130066, 0.5840883255004883, 0.6631932258605957, 0.7715772390365601, 0.7302867770195007, 0.7166944146156311, 0.6119662523269653, 0.6174197793006897], \"yaxis\": \"y\"}, {\"hovertemplate\": \"Country name=Trinidad and Tobago<br>Life Ladder=%{x}<br>Freedom to make life choices=%{y}<extra></extra>\", \"legendgroup\": \"Trinidad and Tobago\", \"marker\": {\"color\": \"#636efa\", \"symbol\": \"circle\"}, \"mode\": \"markers\", \"name\": \"Trinidad and Tobago\", \"showlegend\": true, \"type\": \"scattergl\", \"x\": [5.832188606262207, 6.696444034576416, 6.5187458992004395, 6.1677069664001465, 6.191859722137451], \"xaxis\": \"x\", \"y\": [0.8400887250900269, 0.8381404280662537, 0.7753918766975403, 0.8469414710998535, 0.8591404557228088], \"yaxis\": \"y\"}, {\"hovertemplate\": \"Country name=Tunisia<br>Life Ladder=%{x}<br>Freedom to make life choices=%{y}<extra></extra>\", \"legendgroup\": \"Tunisia\", \"marker\": {\"color\": \"#EF553B\", \"symbol\": \"circle\"}, \"mode\": \"markers\", \"name\": \"Tunisia\", \"showlegend\": true, \"type\": \"scattergl\", \"x\": [5.02547025680542, 5.130520820617676, 4.876482009887695, 4.463531017303467, 5.245604991912842, 4.763594627380371, 5.1316118240356445, 4.521453380584717, 4.124342918395996, 4.7411322593688965, 4.315479755401611, 4.73081111907959], \"xaxis\": \"x\", \"y\": [0.7814962863922119, 0.6235928535461426, 0.603123664855957, 0.5677372217178345, 0.5362877249717712, 0.5889342427253723, 0.7113733887672424, 0.6144383549690247, 0.4779566526412964, 0.6496800780296326, 0.659331738948822, 0.6677581071853638], \"yaxis\": \"y\"}, {\"hovertemplate\": \"Country name=Turkey<br>Life Ladder=%{x}<br>Freedom to make life choices=%{y}<extra></extra>\", \"legendgroup\": \"Turkey\", \"marker\": {\"color\": \"#00cc96\", \"symbol\": \"circle\"}, \"mode\": \"markers\", \"name\": \"Turkey\", \"showlegend\": true, \"type\": \"scattergl\", \"x\": [4.718733787536621, 5.623471736907959, 5.118231773376465, 5.212841510772705, 5.490347385406494, 5.271944046020508, 5.309076309204102, 4.888177394866943, 5.579794406890869, 5.51446533203125, 5.326221942901611, 5.607262134552002, 5.185689449310303, 4.872073650360107, 4.861554145812988], \"xaxis\": \"x\", \"y\": [0.6231149435043335, 0.45931151509284973, 0.41549786925315857, 0.4558170735836029, 0.5149203538894653, 0.44560664892196655, 0.470903217792511, 0.5407233834266663, 0.6491960883140564, 0.6531967520713806, 0.644146740436554, 0.6444342136383057, 0.5286290645599365, 0.6310837864875793, 0.5103858709335327], \"yaxis\": \"y\"}, {\"hovertemplate\": \"Country name=Turkmenistan<br>Life Ladder=%{x}<br>Freedom to make life choices=%{y}<extra></extra>\", \"legendgroup\": \"Turkmenistan\", \"marker\": {\"color\": \"#ab63fa\", \"symbol\": \"circle\"}, \"mode\": \"markers\", \"name\": \"Turkmenistan\", \"showlegend\": true, \"type\": \"scattergl\", \"x\": [6.567713260650635, 5.791754722595215, 5.463827133178711, 5.391762733459473, 5.787379264831543, 5.791460037231445, 5.887051582336426, 5.229148864746094, 4.620601654052734, 5.474299907684326], \"xaxis\": \"x\", \"y\": [null, null, 0.7855633497238159, 0.7045294642448425, 0.8046780824661255, 0.7013583779335022, 0.7485044002532959, 0.7203992009162903, 0.8577740788459778, 0.8915268778800964], \"yaxis\": \"y\"}, {\"hovertemplate\": \"Country name=Uganda<br>Life Ladder=%{x}<br>Freedom to make life choices=%{y}<extra></extra>\", \"legendgroup\": \"Uganda\", \"marker\": {\"color\": \"#FFA15A\", \"symbol\": \"circle\"}, \"mode\": \"markers\", \"name\": \"Uganda\", \"showlegend\": true, \"type\": \"scattergl\", \"x\": [3.733583927154541, 4.455838680267334, 4.568619251251221, 4.611985683441162, 4.192882061004639, 4.826001167297363, 4.309237957000732, 3.7095787525177, 3.7699191570281982, 4.237686634063721, 4.2332611083984375, 4.000516891479492, 4.321714878082275, 4.948051452636719, 4.640909671783447], \"xaxis\": \"x\", \"y\": [0.7467228174209595, 0.7079605460166931, 0.5779337286949158, 0.7602314949035645, 0.8006672859191895, 0.7329739928245544, 0.6494632363319397, 0.7630213499069214, 0.834174394607544, 0.757835328578949, 0.7394097447395325, 0.7723441123962402, 0.7285127639770508, 0.7043766379356384, 0.6874821186065674], \"yaxis\": \"y\"}, {\"hovertemplate\": \"Country name=Ukraine<br>Life Ladder=%{x}<br>Freedom to make life choices=%{y}<extra></extra>\", \"legendgroup\": \"Ukraine\", \"marker\": {\"color\": \"#19d3f3\", \"symbol\": \"circle\"}, \"mode\": \"markers\", \"name\": \"Ukraine\", \"showlegend\": true, \"type\": \"scattergl\", \"x\": [4.803954124450684, 5.252181529998779, 5.172380447387695, 5.165639400482178, 5.05756139755249, 5.083132743835449, 5.030342102050781, 4.7108025550842285, 4.297329902648926, 3.964542865753174, 4.028690338134766, 4.3110671043396, 4.661909103393555, 4.7017621994018555, 5.2696757316589355], \"xaxis\": \"x\", \"y\": [0.6238141059875488, 0.49392247200012207, 0.4866269826889038, 0.4603484869003296, 0.4838331937789917, 0.5786693096160889, 0.5636497735977173, 0.5687156915664673, 0.5332674980163574, 0.43059203028678894, 0.5025418996810913, 0.5988755226135254, 0.6630550622940063, 0.7153117656707764, 0.7842734456062317], \"yaxis\": \"y\"}, {\"hovertemplate\": \"Country name=United Arab Emirates<br>Life Ladder=%{x}<br>Freedom to make life choices=%{y}<extra></extra>\", \"legendgroup\": \"United Arab Emirates\", \"marker\": {\"color\": \"#FF6692\", \"symbol\": \"circle\"}, \"mode\": \"markers\", \"name\": \"United Arab Emirates\", \"showlegend\": true, \"type\": \"scattergl\", \"x\": [6.734221935272217, 6.866062641143799, 7.0974555015563965, 7.118701457977295, 7.217766761779785, 6.620951175689697, 6.539854526519775, 6.568397521972656, 6.8309502601623535, 7.039419651031494, 6.603743553161621, 6.710782527923584, 6.458392143249512], \"xaxis\": \"x\", \"y\": [0.8975570201873779, 0.8488218784332275, 0.8777507543563843, 0.889463484287262, 0.9197925925254822, 0.9359788298606873, null, 0.9150362014770508, 0.949119508266449, 0.9620166420936584, 0.9436643719673157, 0.9114195108413696, 0.942161500453949], \"yaxis\": \"y\"}, {\"hovertemplate\": \"Country name=United Kingdom<br>Life Ladder=%{x}<br>Freedom to make life choices=%{y}<extra></extra>\", \"legendgroup\": \"United Kingdom\", \"marker\": {\"color\": \"#B6E880\", \"symbol\": \"circle\"}, \"mode\": \"markers\", \"name\": \"United Kingdom\", \"showlegend\": true, \"type\": \"scattergl\", \"x\": [6.983556747436523, 6.801930904388428, 6.98646354675293, 6.9065470695495605, 7.029364109039307, 6.869248867034912, 6.880784034729004, 6.918055057525635, 6.758147716522217, 6.515445232391357, 6.824283599853516, 7.103273391723633, 7.233445167541504, 7.157151222229004, 6.798177242279053], \"xaxis\": \"x\", \"y\": [0.922354519367218, 0.8383316397666931, 0.7591441869735718, 0.8162288069725037, 0.841306746006012, 0.899774432182312, 0.8889704942703247, 0.9052780270576477, 0.8570396900177002, 0.8329260945320129, 0.8211921453475952, 0.8127332925796509, 0.8375083804130554, 0.8540395498275757, 0.8846240043640137], \"yaxis\": \"y\"}, {\"hovertemplate\": \"Country name=United States<br>Life Ladder=%{x}<br>Freedom to make life choices=%{y}<extra></extra>\", \"legendgroup\": \"United States\", \"marker\": {\"color\": \"#FF97FF\", \"symbol\": \"circle\"}, \"mode\": \"markers\", \"name\": \"United States\", \"showlegend\": true, \"type\": \"scattergl\", \"x\": [7.181793689727783, 7.512687683105469, 7.280385971069336, 7.158032417297363, 7.163616180419922, 7.115138530731201, 7.026226997375488, 7.2492852210998535, 7.151114463806152, 6.863946914672852, 6.803599834442139, 6.991759300231934, 6.882684707641602, 6.943701267242432, 7.028088092803955], \"xaxis\": \"x\", \"y\": [0.911496102809906, 0.8719037771224976, 0.8779562711715698, 0.8306838274002075, 0.8280443549156189, 0.8632023930549622, 0.8226622939109802, 0.7922556400299072, 0.8660768866539001, 0.8487534523010254, 0.7578930854797363, 0.8684967160224915, 0.8246066570281982, 0.8361390233039856, 0.8504472970962524], \"yaxis\": \"y\"}, {\"hovertemplate\": \"Country name=Uruguay<br>Life Ladder=%{x}<br>Freedom to make life choices=%{y}<extra></extra>\", \"legendgroup\": \"Uruguay\", \"marker\": {\"color\": \"#FECB52\", \"symbol\": \"circle\"}, \"mode\": \"markers\", \"name\": \"Uruguay\", \"showlegend\": true, \"type\": \"scattergl\", \"x\": [5.785868167877197, 5.69394588470459, 5.663869857788086, 6.296222686767578, 6.062010765075684, 6.554047107696533, 6.449728488922119, 6.444464683532715, 6.56144380569458, 6.628080368041992, 6.171485424041748, 6.336009979248047, 6.3717145919799805, 6.600337028503418, 6.309681415557861], \"xaxis\": \"x\", \"y\": [0.8065792322158813, 0.7862486243247986, 0.8079302310943604, 0.8250494599342346, 0.8322413563728333, 0.8514415621757507, 0.8705900311470032, 0.8882780075073242, 0.9043328762054443, 0.9168796539306641, 0.886371910572052, 0.8978516459465027, 0.8762109279632568, 0.9026787877082825, 0.9077619314193726], \"yaxis\": \"y\"}, {\"hovertemplate\": \"Country name=Uzbekistan<br>Life Ladder=%{x}<br>Freedom to make life choices=%{y}<extra></extra>\", \"legendgroup\": \"Uzbekistan\", \"marker\": {\"color\": \"#636efa\", \"symbol\": \"circle\"}, \"mode\": \"markers\", \"name\": \"Uzbekistan\", \"showlegend\": true, \"type\": \"scattergl\", \"x\": [5.2323222160339355, 5.311368465423584, 5.260720729827881, 5.09534215927124, 5.738744258880615, 6.019331932067871, 5.939986228942871, 6.049212455749512, 5.97236442565918, 5.892539024353027, 6.42144775390625, 6.205460071563721, 6.154049396514893], \"xaxis\": \"x\", \"y\": [0.7843011617660522, 0.831268846988678, null, null, 0.9341326951980591, 0.9135501384735107, 0.9495399594306946, 0.9544811844825745, 0.9799371361732483, 0.9838030338287354, 0.985177755355835, 0.969897985458374, 0.9702945351600647], \"yaxis\": \"y\"}, {\"hovertemplate\": \"Country name=Venezuela<br>Life Ladder=%{x}<br>Freedom to make life choices=%{y}<extra></extra>\", \"legendgroup\": \"Venezuela\", \"marker\": {\"color\": \"#EF553B\", \"symbol\": \"circle\"}, \"mode\": \"markers\", \"name\": \"Venezuela\", \"showlegend\": true, \"type\": \"scattergl\", \"x\": [7.169620990753174, 6.525146007537842, 6.2577714920043945, 7.188803195953369, 7.47845458984375, 6.579789161682129, 7.066577434539795, 6.552796363830566, 6.136096477508545, 5.568800449371338, 4.041114807128906, 5.070750713348389, 5.0056633949279785, 5.080803394317627, 4.573829650878906], \"xaxis\": \"x\", \"y\": [0.8381980061531067, 0.7982808351516724, 0.6784005165100098, 0.6768856644630432, 0.7682569622993469, 0.7663350105285645, 0.8041085600852966, 0.6419652104377747, 0.5699619054794312, 0.5121593475341797, 0.4576015770435333, 0.6355050206184387, 0.610855221748352, 0.6255261898040771, 0.6118146181106567], \"yaxis\": \"y\"}, {\"hovertemplate\": \"Country name=Vietnam<br>Life Ladder=%{x}<br>Freedom to make life choices=%{y}<extra></extra>\", \"legendgroup\": \"Vietnam\", \"marker\": {\"color\": \"#00cc96\", \"symbol\": \"circle\"}, \"mode\": \"markers\", \"name\": \"Vietnam\", \"showlegend\": true, \"type\": \"scattergl\", \"x\": [5.293659687042236, 5.421687602996826, 5.4804253578186035, 5.304264545440674, 5.295780658721924, 5.7673444747924805, 5.53456974029541, 5.022698879241943, 5.084923267364502, 5.076315402984619, 5.062267303466797, 5.175278663635254, 5.295547008514404, 5.467451095581055], \"xaxis\": \"x\", \"y\": [0.8857921361923218, 0.9178359508514404, 0.8886246681213379, 0.8341338634490967, 0.8314944505691528, 0.8184043765068054, 0.8560534715652466, 0.9196074604988098, null, null, 0.8943511247634888, null, 0.9092597961425781, 0.9524691700935364], \"yaxis\": \"y\"}, {\"hovertemplate\": \"Country name=Yemen<br>Life Ladder=%{x}<br>Freedom to make life choices=%{y}<extra></extra>\", \"legendgroup\": \"Yemen\", \"marker\": {\"color\": \"#ab63fa\", \"symbol\": \"circle\"}, \"mode\": \"markers\", \"name\": \"Yemen\", \"showlegend\": true, \"type\": \"scattergl\", \"x\": [4.477132797241211, 4.809258937835693, 4.35031270980835, 3.74625563621521, 4.060600757598877, 4.217678546905518, 3.9679579734802246, 2.9826738834381104, 3.8256309032440186, 3.2535600662231445, 3.057513952255249, 4.19691276550293], \"xaxis\": \"x\", \"y\": [0.6726853251457214, 0.6442286968231201, 0.6592839956283569, 0.6382105946540833, 0.705815315246582, 0.5425474643707275, 0.6639087200164795, 0.6099807620048523, 0.5329640507698059, 0.5951907634735107, 0.5527260899543762, 0.6513082385063171], \"yaxis\": \"y\"}, {\"hovertemplate\": \"Country name=Zambia<br>Life Ladder=%{x}<br>Freedom to make life choices=%{y}<extra></extra>\", \"legendgroup\": \"Zambia\", \"marker\": {\"color\": \"#FFA15A\", \"symbol\": \"circle\"}, \"mode\": \"markers\", \"name\": \"Zambia\", \"showlegend\": true, \"type\": \"scattergl\", \"x\": [4.8244547843933105, 3.998293161392212, 4.7302632331848145, 5.2603607177734375, 4.9991135597229, 5.0133748054504395, 5.243995666503906, 4.345837116241455, 4.843164443969727, 4.347543716430664, 3.9327774047851562, 4.041488170623779, 3.3067965507507324, 4.837992191314697], \"xaxis\": \"x\", \"y\": [0.7209715247154236, 0.6820050477981567, 0.7169937491416931, 0.6961830258369446, 0.6628500819206238, 0.787760317325592, 0.7699123620986938, 0.8118249177932739, 0.7586536407470703, 0.8115745186805725, 0.8231685757637024, 0.7906259298324585, 0.8110398054122925, 0.7504224181175232], \"yaxis\": \"y\"}, {\"hovertemplate\": \"Country name=Zimbabwe<br>Life Ladder=%{x}<br>Freedom to make life choices=%{y}<extra></extra>\", \"legendgroup\": \"Zimbabwe\", \"marker\": {\"color\": \"#19d3f3\", \"symbol\": \"circle\"}, \"mode\": \"markers\", \"name\": \"Zimbabwe\", \"showlegend\": true, \"type\": \"scattergl\", \"x\": [3.826268434524536, 3.2802467346191406, 3.1742637157440186, 4.055914402008057, 4.681569576263428, 4.845641613006592, 4.9551005363464355, 4.690187931060791, 4.184450626373291, 3.7031912803649902, 3.7354001998901367, 3.6383001804351807, 3.6164798736572266, 2.6935231685638428, 3.159802198410034], \"xaxis\": \"x\", \"y\": [0.4311104118824005, 0.45595723390579224, 0.3435560464859009, 0.4110891819000244, 0.6647182106971741, 0.6329779624938965, 0.46953117847442627, 0.5758842825889587, 0.6420338153839111, 0.6671932935714722, 0.7329714894294739, 0.7528260946273804, 0.762674868106842, 0.63190758228302, 0.6433029770851135], \"yaxis\": \"y\"}],                        {\"legend\": {\"title\": {\"text\": \"Country name\"}, \"tracegroupgap\": 0}, \"margin\": {\"t\": 60}, \"template\": {\"data\": {\"bar\": [{\"error_x\": {\"color\": \"#2a3f5f\"}, \"error_y\": {\"color\": \"#2a3f5f\"}, \"marker\": {\"line\": {\"color\": \"#E5ECF6\", \"width\": 0.5}}, \"type\": \"bar\"}], \"barpolar\": [{\"marker\": {\"line\": {\"color\": \"#E5ECF6\", \"width\": 0.5}}, \"type\": \"barpolar\"}], \"carpet\": [{\"aaxis\": {\"endlinecolor\": \"#2a3f5f\", \"gridcolor\": \"white\", \"linecolor\": \"white\", \"minorgridcolor\": \"white\", \"startlinecolor\": \"#2a3f5f\"}, \"baxis\": {\"endlinecolor\": \"#2a3f5f\", \"gridcolor\": \"white\", \"linecolor\": \"white\", \"minorgridcolor\": \"white\", \"startlinecolor\": \"#2a3f5f\"}, \"type\": \"carpet\"}], \"choropleth\": [{\"colorbar\": {\"outlinewidth\": 0, \"ticks\": \"\"}, \"type\": \"choropleth\"}], \"contour\": [{\"colorbar\": {\"outlinewidth\": 0, \"ticks\": \"\"}, \"colorscale\": [[0.0, \"#0d0887\"], [0.1111111111111111, \"#46039f\"], [0.2222222222222222, \"#7201a8\"], [0.3333333333333333, \"#9c179e\"], [0.4444444444444444, \"#bd3786\"], [0.5555555555555556, \"#d8576b\"], [0.6666666666666666, \"#ed7953\"], [0.7777777777777778, \"#fb9f3a\"], [0.8888888888888888, \"#fdca26\"], [1.0, \"#f0f921\"]], \"type\": \"contour\"}], \"contourcarpet\": [{\"colorbar\": {\"outlinewidth\": 0, \"ticks\": \"\"}, \"type\": \"contourcarpet\"}], \"heatmap\": [{\"colorbar\": {\"outlinewidth\": 0, \"ticks\": \"\"}, \"colorscale\": [[0.0, \"#0d0887\"], [0.1111111111111111, \"#46039f\"], [0.2222222222222222, \"#7201a8\"], [0.3333333333333333, \"#9c179e\"], [0.4444444444444444, \"#bd3786\"], [0.5555555555555556, \"#d8576b\"], [0.6666666666666666, \"#ed7953\"], [0.7777777777777778, \"#fb9f3a\"], [0.8888888888888888, \"#fdca26\"], [1.0, \"#f0f921\"]], \"type\": \"heatmap\"}], \"heatmapgl\": [{\"colorbar\": {\"outlinewidth\": 0, \"ticks\": \"\"}, \"colorscale\": [[0.0, \"#0d0887\"], [0.1111111111111111, \"#46039f\"], [0.2222222222222222, \"#7201a8\"], [0.3333333333333333, \"#9c179e\"], [0.4444444444444444, \"#bd3786\"], [0.5555555555555556, \"#d8576b\"], [0.6666666666666666, \"#ed7953\"], [0.7777777777777778, \"#fb9f3a\"], [0.8888888888888888, \"#fdca26\"], [1.0, \"#f0f921\"]], \"type\": \"heatmapgl\"}], \"histogram\": [{\"marker\": {\"colorbar\": {\"outlinewidth\": 0, \"ticks\": \"\"}}, \"type\": \"histogram\"}], \"histogram2d\": [{\"colorbar\": {\"outlinewidth\": 0, \"ticks\": \"\"}, \"colorscale\": [[0.0, \"#0d0887\"], [0.1111111111111111, \"#46039f\"], [0.2222222222222222, \"#7201a8\"], [0.3333333333333333, \"#9c179e\"], [0.4444444444444444, \"#bd3786\"], [0.5555555555555556, \"#d8576b\"], [0.6666666666666666, \"#ed7953\"], [0.7777777777777778, \"#fb9f3a\"], [0.8888888888888888, \"#fdca26\"], [1.0, \"#f0f921\"]], \"type\": \"histogram2d\"}], \"histogram2dcontour\": [{\"colorbar\": {\"outlinewidth\": 0, \"ticks\": \"\"}, \"colorscale\": [[0.0, \"#0d0887\"], [0.1111111111111111, \"#46039f\"], [0.2222222222222222, \"#7201a8\"], [0.3333333333333333, \"#9c179e\"], [0.4444444444444444, \"#bd3786\"], [0.5555555555555556, \"#d8576b\"], [0.6666666666666666, \"#ed7953\"], [0.7777777777777778, \"#fb9f3a\"], [0.8888888888888888, \"#fdca26\"], [1.0, \"#f0f921\"]], \"type\": \"histogram2dcontour\"}], \"mesh3d\": [{\"colorbar\": {\"outlinewidth\": 0, \"ticks\": \"\"}, \"type\": \"mesh3d\"}], \"parcoords\": [{\"line\": {\"colorbar\": {\"outlinewidth\": 0, \"ticks\": \"\"}}, \"type\": \"parcoords\"}], \"pie\": [{\"automargin\": true, \"type\": \"pie\"}], \"scatter\": [{\"marker\": {\"colorbar\": {\"outlinewidth\": 0, \"ticks\": \"\"}}, \"type\": \"scatter\"}], \"scatter3d\": [{\"line\": {\"colorbar\": {\"outlinewidth\": 0, \"ticks\": \"\"}}, \"marker\": {\"colorbar\": {\"outlinewidth\": 0, \"ticks\": \"\"}}, \"type\": \"scatter3d\"}], \"scattercarpet\": [{\"marker\": {\"colorbar\": {\"outlinewidth\": 0, \"ticks\": \"\"}}, \"type\": \"scattercarpet\"}], \"scattergeo\": [{\"marker\": {\"colorbar\": {\"outlinewidth\": 0, \"ticks\": \"\"}}, \"type\": \"scattergeo\"}], \"scattergl\": [{\"marker\": {\"colorbar\": {\"outlinewidth\": 0, \"ticks\": \"\"}}, \"type\": \"scattergl\"}], \"scattermapbox\": [{\"marker\": {\"colorbar\": {\"outlinewidth\": 0, \"ticks\": \"\"}}, \"type\": \"scattermapbox\"}], \"scatterpolar\": [{\"marker\": {\"colorbar\": {\"outlinewidth\": 0, \"ticks\": \"\"}}, \"type\": \"scatterpolar\"}], \"scatterpolargl\": [{\"marker\": {\"colorbar\": {\"outlinewidth\": 0, \"ticks\": \"\"}}, \"type\": \"scatterpolargl\"}], \"scatterternary\": [{\"marker\": {\"colorbar\": {\"outlinewidth\": 0, \"ticks\": \"\"}}, \"type\": \"scatterternary\"}], \"surface\": [{\"colorbar\": {\"outlinewidth\": 0, \"ticks\": \"\"}, \"colorscale\": [[0.0, \"#0d0887\"], [0.1111111111111111, \"#46039f\"], [0.2222222222222222, \"#7201a8\"], [0.3333333333333333, \"#9c179e\"], [0.4444444444444444, \"#bd3786\"], [0.5555555555555556, \"#d8576b\"], [0.6666666666666666, \"#ed7953\"], [0.7777777777777778, \"#fb9f3a\"], [0.8888888888888888, \"#fdca26\"], [1.0, \"#f0f921\"]], \"type\": \"surface\"}], \"table\": [{\"cells\": {\"fill\": {\"color\": \"#EBF0F8\"}, \"line\": {\"color\": \"white\"}}, \"header\": {\"fill\": {\"color\": \"#C8D4E3\"}, \"line\": {\"color\": \"white\"}}, \"type\": \"table\"}]}, \"layout\": {\"annotationdefaults\": {\"arrowcolor\": \"#2a3f5f\", \"arrowhead\": 0, \"arrowwidth\": 1}, \"autotypenumbers\": \"strict\", \"coloraxis\": {\"colorbar\": {\"outlinewidth\": 0, \"ticks\": \"\"}}, \"colorscale\": {\"diverging\": [[0, \"#8e0152\"], [0.1, \"#c51b7d\"], [0.2, \"#de77ae\"], [0.3, \"#f1b6da\"], [0.4, \"#fde0ef\"], [0.5, \"#f7f7f7\"], [0.6, \"#e6f5d0\"], [0.7, \"#b8e186\"], [0.8, \"#7fbc41\"], [0.9, \"#4d9221\"], [1, \"#276419\"]], \"sequential\": [[0.0, \"#0d0887\"], [0.1111111111111111, \"#46039f\"], [0.2222222222222222, \"#7201a8\"], [0.3333333333333333, \"#9c179e\"], [0.4444444444444444, \"#bd3786\"], [0.5555555555555556, \"#d8576b\"], [0.6666666666666666, \"#ed7953\"], [0.7777777777777778, \"#fb9f3a\"], [0.8888888888888888, \"#fdca26\"], [1.0, \"#f0f921\"]], \"sequentialminus\": [[0.0, \"#0d0887\"], [0.1111111111111111, \"#46039f\"], [0.2222222222222222, \"#7201a8\"], [0.3333333333333333, \"#9c179e\"], [0.4444444444444444, \"#bd3786\"], [0.5555555555555556, \"#d8576b\"], [0.6666666666666666, \"#ed7953\"], [0.7777777777777778, \"#fb9f3a\"], [0.8888888888888888, \"#fdca26\"], [1.0, \"#f0f921\"]]}, \"colorway\": [\"#636efa\", \"#EF553B\", \"#00cc96\", \"#ab63fa\", \"#FFA15A\", \"#19d3f3\", \"#FF6692\", \"#B6E880\", \"#FF97FF\", \"#FECB52\"], \"font\": {\"color\": \"#2a3f5f\"}, \"geo\": {\"bgcolor\": \"white\", \"lakecolor\": \"white\", \"landcolor\": \"#E5ECF6\", \"showlakes\": true, \"showland\": true, \"subunitcolor\": \"white\"}, \"hoverlabel\": {\"align\": \"left\"}, \"hovermode\": \"closest\", \"mapbox\": {\"style\": \"light\"}, \"paper_bgcolor\": \"white\", \"plot_bgcolor\": \"#E5ECF6\", \"polar\": {\"angularaxis\": {\"gridcolor\": \"white\", \"linecolor\": \"white\", \"ticks\": \"\"}, \"bgcolor\": \"#E5ECF6\", \"radialaxis\": {\"gridcolor\": \"white\", \"linecolor\": \"white\", \"ticks\": \"\"}}, \"scene\": {\"xaxis\": {\"backgroundcolor\": \"#E5ECF6\", \"gridcolor\": \"white\", \"gridwidth\": 2, \"linecolor\": \"white\", \"showbackground\": true, \"ticks\": \"\", \"zerolinecolor\": \"white\"}, \"yaxis\": {\"backgroundcolor\": \"#E5ECF6\", \"gridcolor\": \"white\", \"gridwidth\": 2, \"linecolor\": \"white\", \"showbackground\": true, \"ticks\": \"\", \"zerolinecolor\": \"white\"}, \"zaxis\": {\"backgroundcolor\": \"#E5ECF6\", \"gridcolor\": \"white\", \"gridwidth\": 2, \"linecolor\": \"white\", \"showbackground\": true, \"ticks\": \"\", \"zerolinecolor\": \"white\"}}, \"shapedefaults\": {\"line\": {\"color\": \"#2a3f5f\"}}, \"ternary\": {\"aaxis\": {\"gridcolor\": \"white\", \"linecolor\": \"white\", \"ticks\": \"\"}, \"baxis\": {\"gridcolor\": \"white\", \"linecolor\": \"white\", \"ticks\": \"\"}, \"bgcolor\": \"#E5ECF6\", \"caxis\": {\"gridcolor\": \"white\", \"linecolor\": \"white\", \"ticks\": \"\"}}, \"title\": {\"x\": 0.05}, \"xaxis\": {\"automargin\": true, \"gridcolor\": \"white\", \"linecolor\": \"white\", \"ticks\": \"\", \"title\": {\"standoff\": 15}, \"zerolinecolor\": \"white\", \"zerolinewidth\": 2}, \"yaxis\": {\"automargin\": true, \"gridcolor\": \"white\", \"linecolor\": \"white\", \"ticks\": \"\", \"title\": {\"standoff\": 15}, \"zerolinecolor\": \"white\", \"zerolinewidth\": 2}}}, \"xaxis\": {\"anchor\": \"y\", \"domain\": [0.0, 1.0], \"title\": {\"text\": \"Life Ladder\"}}, \"yaxis\": {\"anchor\": \"x\", \"domain\": [0.0, 1.0], \"title\": {\"text\": \"Freedom to make life choices\"}}},                        {\"responsive\": true}                    ).then(function(){\n",
       "                            \n",
       "var gd = document.getElementById('fe251f77-7886-40fc-b8fd-e6d30b34479e');\n",
       "var x = new MutationObserver(function (mutations, observer) {{\n",
       "        var display = window.getComputedStyle(gd).display;\n",
       "        if (!display || display === 'none') {{\n",
       "            console.log([gd, 'removed!']);\n",
       "            Plotly.purge(gd);\n",
       "            observer.disconnect();\n",
       "        }}\n",
       "}});\n",
       "\n",
       "// Listen for the removal of the full notebook cells\n",
       "var notebookContainer = gd.closest('#notebook-container');\n",
       "if (notebookContainer) {{\n",
       "    x.observe(notebookContainer, {childList: true});\n",
       "}}\n",
       "\n",
       "// Listen for the clearing of the current output cell\n",
       "var outputEl = gd.closest('.output');\n",
       "if (outputEl) {{\n",
       "    x.observe(outputEl, {childList: true});\n",
       "}}\n",
       "\n",
       "                        })                };                });            </script>        </div>"
      ]
     },
     "metadata": {},
     "output_type": "display_data"
    }
   ],
   "source": [
    "fig2= px.scatter(df, x='Life Ladder', y='Freedom to make life choices',color='Country name')\n",
    "fig2.show()"
   ]
  },
  {
   "cell_type": "code",
   "execution_count": 162,
   "metadata": {},
   "outputs": [],
   "source": [
    "pio.write_html(fig2,\"freedom_correlation.html\", full_html=False)"
   ]
  },
  {
   "cell_type": "code",
   "execution_count": 117,
   "metadata": {},
   "outputs": [],
   "source": [
    "average_happiness=[5.418,5.419,5.458,5.497,5.424,5.444,5.395,5.389,5.404,5.399,5.460,5.499,5.571,5.841]"
   ]
  },
  {
   "cell_type": "code",
   "execution_count": 76,
   "metadata": {},
   "outputs": [
    {
     "data": {
      "text/plain": [
       "array(['Afghanistan', 'Albania', 'Algeria', 'Angola', 'Argentina',\n",
       "       'Armenia', 'Australia', 'Austria', 'Azerbaijan', 'Bahrain',\n",
       "       'Bangladesh', 'Belarus', 'Belgium', 'Belize', 'Benin', 'Bhutan',\n",
       "       'Bolivia', 'Bosnia and Herzegovina', 'Botswana', 'Brazil',\n",
       "       'Bulgaria', 'Burkina Faso', 'Burundi', 'Cambodia', 'Cameroon',\n",
       "       'Canada', 'Central African Republic', 'Chad', 'Chile', 'China',\n",
       "       'Colombia', 'Comoros', 'Congo (Brazzaville)', 'Congo (Kinshasa)',\n",
       "       'Costa Rica', 'Croatia', 'Cuba', 'Cyprus', 'Czech Republic',\n",
       "       'Denmark', 'Djibouti', 'Dominican Republic', 'Ecuador', 'Egypt',\n",
       "       'El Salvador', 'Estonia', 'Ethiopia', 'Finland', 'France', 'Gabon',\n",
       "       'Gambia', 'Georgia', 'Germany', 'Ghana', 'Greece', 'Guatemala',\n",
       "       'Guinea', 'Guyana', 'Haiti', 'Honduras',\n",
       "       'Hong Kong S.A.R. of China', 'Hungary', 'Iceland', 'India',\n",
       "       'Indonesia', 'Iran', 'Iraq', 'Ireland', 'Israel', 'Italy',\n",
       "       'Ivory Coast', 'Jamaica', 'Japan', 'Jordan', 'Kazakhstan', 'Kenya',\n",
       "       'Kosovo', 'Kuwait', 'Kyrgyzstan', 'Laos', 'Latvia', 'Lebanon',\n",
       "       'Lesotho', 'Liberia', 'Libya', 'Lithuania', 'Luxembourg',\n",
       "       'Madagascar', 'Malawi', 'Malaysia', 'Maldives', 'Mali', 'Malta',\n",
       "       'Mauritania', 'Mauritius', 'Mexico', 'Moldova', 'Mongolia',\n",
       "       'Montenegro', 'Morocco', 'Mozambique', 'Myanmar', 'Namibia',\n",
       "       'Nepal', 'Netherlands', 'New Zealand', 'Nicaragua', 'Niger',\n",
       "       'Nigeria', 'North Cyprus', 'North Macedonia', 'Norway', 'Oman',\n",
       "       'Pakistan', 'Palestinian Territories', 'Panama', 'Paraguay',\n",
       "       'Peru', 'Philippines', 'Poland', 'Portugal', 'Qatar', 'Romania',\n",
       "       'Russia', 'Rwanda', 'Saudi Arabia', 'Senegal', 'Serbia',\n",
       "       'Sierra Leone', 'Singapore', 'Slovakia', 'Slovenia', 'Somalia',\n",
       "       'Somaliland region', 'South Africa', 'South Korea', 'South Sudan',\n",
       "       'Spain', 'Sri Lanka', 'Sudan', 'Suriname', 'Swaziland', 'Sweden',\n",
       "       'Switzerland', 'Syria', 'Taiwan Province of China', 'Tajikistan',\n",
       "       'Tanzania', 'Thailand', 'Togo', 'Trinidad and Tobago', 'Tunisia',\n",
       "       'Turkey', 'Turkmenistan', 'Uganda', 'Ukraine',\n",
       "       'United Arab Emirates', 'United Kingdom', 'United States',\n",
       "       'Uruguay', 'Uzbekistan', 'Venezuela', 'Vietnam', 'Yemen', 'Zambia',\n",
       "       'Zimbabwe'], dtype=object)"
      ]
     },
     "execution_count": 76,
     "metadata": {},
     "output_type": "execute_result"
    }
   ],
   "source": [
    "df['Country name'].unique()"
   ]
  },
  {
   "cell_type": "code",
   "execution_count": 119,
   "metadata": {},
   "outputs": [
    {
     "data": {
      "application/vnd.plotly.v1+json": {
       "config": {
        "plotlyServerURL": "https://plot.ly"
       },
       "data": [
        {
         "hovertemplate": "x=%{x}<br>y=%{y}<extra></extra>",
         "legendgroup": "",
         "line": {
          "color": "#636efa",
          "dash": "solid"
         },
         "mode": "lines",
         "name": "",
         "orientation": "v",
         "showlegend": false,
         "type": "scatter",
         "x": [
          2007,
          2008,
          2009,
          2010,
          2011,
          2012,
          2013,
          2014,
          2015,
          2016,
          2017,
          2018,
          2019,
          2020
         ],
         "xaxis": "x",
         "y": [
          5.418,
          5.419,
          5.458,
          5.497,
          5.424,
          5.444,
          5.395,
          5.389,
          5.404,
          5.399,
          5.46,
          5.499,
          5.571,
          5.841
         ],
         "yaxis": "y"
        }
       ],
       "layout": {
        "legend": {
         "tracegroupgap": 0
        },
        "margin": {
         "t": 60
        },
        "template": {
         "data": {
          "bar": [
           {
            "error_x": {
             "color": "#2a3f5f"
            },
            "error_y": {
             "color": "#2a3f5f"
            },
            "marker": {
             "line": {
              "color": "#E5ECF6",
              "width": 0.5
             }
            },
            "type": "bar"
           }
          ],
          "barpolar": [
           {
            "marker": {
             "line": {
              "color": "#E5ECF6",
              "width": 0.5
             }
            },
            "type": "barpolar"
           }
          ],
          "carpet": [
           {
            "aaxis": {
             "endlinecolor": "#2a3f5f",
             "gridcolor": "white",
             "linecolor": "white",
             "minorgridcolor": "white",
             "startlinecolor": "#2a3f5f"
            },
            "baxis": {
             "endlinecolor": "#2a3f5f",
             "gridcolor": "white",
             "linecolor": "white",
             "minorgridcolor": "white",
             "startlinecolor": "#2a3f5f"
            },
            "type": "carpet"
           }
          ],
          "choropleth": [
           {
            "colorbar": {
             "outlinewidth": 0,
             "ticks": ""
            },
            "type": "choropleth"
           }
          ],
          "contour": [
           {
            "colorbar": {
             "outlinewidth": 0,
             "ticks": ""
            },
            "colorscale": [
             [
              0,
              "#0d0887"
             ],
             [
              0.1111111111111111,
              "#46039f"
             ],
             [
              0.2222222222222222,
              "#7201a8"
             ],
             [
              0.3333333333333333,
              "#9c179e"
             ],
             [
              0.4444444444444444,
              "#bd3786"
             ],
             [
              0.5555555555555556,
              "#d8576b"
             ],
             [
              0.6666666666666666,
              "#ed7953"
             ],
             [
              0.7777777777777778,
              "#fb9f3a"
             ],
             [
              0.8888888888888888,
              "#fdca26"
             ],
             [
              1,
              "#f0f921"
             ]
            ],
            "type": "contour"
           }
          ],
          "contourcarpet": [
           {
            "colorbar": {
             "outlinewidth": 0,
             "ticks": ""
            },
            "type": "contourcarpet"
           }
          ],
          "heatmap": [
           {
            "colorbar": {
             "outlinewidth": 0,
             "ticks": ""
            },
            "colorscale": [
             [
              0,
              "#0d0887"
             ],
             [
              0.1111111111111111,
              "#46039f"
             ],
             [
              0.2222222222222222,
              "#7201a8"
             ],
             [
              0.3333333333333333,
              "#9c179e"
             ],
             [
              0.4444444444444444,
              "#bd3786"
             ],
             [
              0.5555555555555556,
              "#d8576b"
             ],
             [
              0.6666666666666666,
              "#ed7953"
             ],
             [
              0.7777777777777778,
              "#fb9f3a"
             ],
             [
              0.8888888888888888,
              "#fdca26"
             ],
             [
              1,
              "#f0f921"
             ]
            ],
            "type": "heatmap"
           }
          ],
          "heatmapgl": [
           {
            "colorbar": {
             "outlinewidth": 0,
             "ticks": ""
            },
            "colorscale": [
             [
              0,
              "#0d0887"
             ],
             [
              0.1111111111111111,
              "#46039f"
             ],
             [
              0.2222222222222222,
              "#7201a8"
             ],
             [
              0.3333333333333333,
              "#9c179e"
             ],
             [
              0.4444444444444444,
              "#bd3786"
             ],
             [
              0.5555555555555556,
              "#d8576b"
             ],
             [
              0.6666666666666666,
              "#ed7953"
             ],
             [
              0.7777777777777778,
              "#fb9f3a"
             ],
             [
              0.8888888888888888,
              "#fdca26"
             ],
             [
              1,
              "#f0f921"
             ]
            ],
            "type": "heatmapgl"
           }
          ],
          "histogram": [
           {
            "marker": {
             "colorbar": {
              "outlinewidth": 0,
              "ticks": ""
             }
            },
            "type": "histogram"
           }
          ],
          "histogram2d": [
           {
            "colorbar": {
             "outlinewidth": 0,
             "ticks": ""
            },
            "colorscale": [
             [
              0,
              "#0d0887"
             ],
             [
              0.1111111111111111,
              "#46039f"
             ],
             [
              0.2222222222222222,
              "#7201a8"
             ],
             [
              0.3333333333333333,
              "#9c179e"
             ],
             [
              0.4444444444444444,
              "#bd3786"
             ],
             [
              0.5555555555555556,
              "#d8576b"
             ],
             [
              0.6666666666666666,
              "#ed7953"
             ],
             [
              0.7777777777777778,
              "#fb9f3a"
             ],
             [
              0.8888888888888888,
              "#fdca26"
             ],
             [
              1,
              "#f0f921"
             ]
            ],
            "type": "histogram2d"
           }
          ],
          "histogram2dcontour": [
           {
            "colorbar": {
             "outlinewidth": 0,
             "ticks": ""
            },
            "colorscale": [
             [
              0,
              "#0d0887"
             ],
             [
              0.1111111111111111,
              "#46039f"
             ],
             [
              0.2222222222222222,
              "#7201a8"
             ],
             [
              0.3333333333333333,
              "#9c179e"
             ],
             [
              0.4444444444444444,
              "#bd3786"
             ],
             [
              0.5555555555555556,
              "#d8576b"
             ],
             [
              0.6666666666666666,
              "#ed7953"
             ],
             [
              0.7777777777777778,
              "#fb9f3a"
             ],
             [
              0.8888888888888888,
              "#fdca26"
             ],
             [
              1,
              "#f0f921"
             ]
            ],
            "type": "histogram2dcontour"
           }
          ],
          "mesh3d": [
           {
            "colorbar": {
             "outlinewidth": 0,
             "ticks": ""
            },
            "type": "mesh3d"
           }
          ],
          "parcoords": [
           {
            "line": {
             "colorbar": {
              "outlinewidth": 0,
              "ticks": ""
             }
            },
            "type": "parcoords"
           }
          ],
          "pie": [
           {
            "automargin": true,
            "type": "pie"
           }
          ],
          "scatter": [
           {
            "marker": {
             "colorbar": {
              "outlinewidth": 0,
              "ticks": ""
             }
            },
            "type": "scatter"
           }
          ],
          "scatter3d": [
           {
            "line": {
             "colorbar": {
              "outlinewidth": 0,
              "ticks": ""
             }
            },
            "marker": {
             "colorbar": {
              "outlinewidth": 0,
              "ticks": ""
             }
            },
            "type": "scatter3d"
           }
          ],
          "scattercarpet": [
           {
            "marker": {
             "colorbar": {
              "outlinewidth": 0,
              "ticks": ""
             }
            },
            "type": "scattercarpet"
           }
          ],
          "scattergeo": [
           {
            "marker": {
             "colorbar": {
              "outlinewidth": 0,
              "ticks": ""
             }
            },
            "type": "scattergeo"
           }
          ],
          "scattergl": [
           {
            "marker": {
             "colorbar": {
              "outlinewidth": 0,
              "ticks": ""
             }
            },
            "type": "scattergl"
           }
          ],
          "scattermapbox": [
           {
            "marker": {
             "colorbar": {
              "outlinewidth": 0,
              "ticks": ""
             }
            },
            "type": "scattermapbox"
           }
          ],
          "scatterpolar": [
           {
            "marker": {
             "colorbar": {
              "outlinewidth": 0,
              "ticks": ""
             }
            },
            "type": "scatterpolar"
           }
          ],
          "scatterpolargl": [
           {
            "marker": {
             "colorbar": {
              "outlinewidth": 0,
              "ticks": ""
             }
            },
            "type": "scatterpolargl"
           }
          ],
          "scatterternary": [
           {
            "marker": {
             "colorbar": {
              "outlinewidth": 0,
              "ticks": ""
             }
            },
            "type": "scatterternary"
           }
          ],
          "surface": [
           {
            "colorbar": {
             "outlinewidth": 0,
             "ticks": ""
            },
            "colorscale": [
             [
              0,
              "#0d0887"
             ],
             [
              0.1111111111111111,
              "#46039f"
             ],
             [
              0.2222222222222222,
              "#7201a8"
             ],
             [
              0.3333333333333333,
              "#9c179e"
             ],
             [
              0.4444444444444444,
              "#bd3786"
             ],
             [
              0.5555555555555556,
              "#d8576b"
             ],
             [
              0.6666666666666666,
              "#ed7953"
             ],
             [
              0.7777777777777778,
              "#fb9f3a"
             ],
             [
              0.8888888888888888,
              "#fdca26"
             ],
             [
              1,
              "#f0f921"
             ]
            ],
            "type": "surface"
           }
          ],
          "table": [
           {
            "cells": {
             "fill": {
              "color": "#EBF0F8"
             },
             "line": {
              "color": "white"
             }
            },
            "header": {
             "fill": {
              "color": "#C8D4E3"
             },
             "line": {
              "color": "white"
             }
            },
            "type": "table"
           }
          ]
         },
         "layout": {
          "annotationdefaults": {
           "arrowcolor": "#2a3f5f",
           "arrowhead": 0,
           "arrowwidth": 1
          },
          "autotypenumbers": "strict",
          "coloraxis": {
           "colorbar": {
            "outlinewidth": 0,
            "ticks": ""
           }
          },
          "colorscale": {
           "diverging": [
            [
             0,
             "#8e0152"
            ],
            [
             0.1,
             "#c51b7d"
            ],
            [
             0.2,
             "#de77ae"
            ],
            [
             0.3,
             "#f1b6da"
            ],
            [
             0.4,
             "#fde0ef"
            ],
            [
             0.5,
             "#f7f7f7"
            ],
            [
             0.6,
             "#e6f5d0"
            ],
            [
             0.7,
             "#b8e186"
            ],
            [
             0.8,
             "#7fbc41"
            ],
            [
             0.9,
             "#4d9221"
            ],
            [
             1,
             "#276419"
            ]
           ],
           "sequential": [
            [
             0,
             "#0d0887"
            ],
            [
             0.1111111111111111,
             "#46039f"
            ],
            [
             0.2222222222222222,
             "#7201a8"
            ],
            [
             0.3333333333333333,
             "#9c179e"
            ],
            [
             0.4444444444444444,
             "#bd3786"
            ],
            [
             0.5555555555555556,
             "#d8576b"
            ],
            [
             0.6666666666666666,
             "#ed7953"
            ],
            [
             0.7777777777777778,
             "#fb9f3a"
            ],
            [
             0.8888888888888888,
             "#fdca26"
            ],
            [
             1,
             "#f0f921"
            ]
           ],
           "sequentialminus": [
            [
             0,
             "#0d0887"
            ],
            [
             0.1111111111111111,
             "#46039f"
            ],
            [
             0.2222222222222222,
             "#7201a8"
            ],
            [
             0.3333333333333333,
             "#9c179e"
            ],
            [
             0.4444444444444444,
             "#bd3786"
            ],
            [
             0.5555555555555556,
             "#d8576b"
            ],
            [
             0.6666666666666666,
             "#ed7953"
            ],
            [
             0.7777777777777778,
             "#fb9f3a"
            ],
            [
             0.8888888888888888,
             "#fdca26"
            ],
            [
             1,
             "#f0f921"
            ]
           ]
          },
          "colorway": [
           "#636efa",
           "#EF553B",
           "#00cc96",
           "#ab63fa",
           "#FFA15A",
           "#19d3f3",
           "#FF6692",
           "#B6E880",
           "#FF97FF",
           "#FECB52"
          ],
          "font": {
           "color": "#2a3f5f"
          },
          "geo": {
           "bgcolor": "white",
           "lakecolor": "white",
           "landcolor": "#E5ECF6",
           "showlakes": true,
           "showland": true,
           "subunitcolor": "white"
          },
          "hoverlabel": {
           "align": "left"
          },
          "hovermode": "closest",
          "mapbox": {
           "style": "light"
          },
          "paper_bgcolor": "white",
          "plot_bgcolor": "#E5ECF6",
          "polar": {
           "angularaxis": {
            "gridcolor": "white",
            "linecolor": "white",
            "ticks": ""
           },
           "bgcolor": "#E5ECF6",
           "radialaxis": {
            "gridcolor": "white",
            "linecolor": "white",
            "ticks": ""
           }
          },
          "scene": {
           "xaxis": {
            "backgroundcolor": "#E5ECF6",
            "gridcolor": "white",
            "gridwidth": 2,
            "linecolor": "white",
            "showbackground": true,
            "ticks": "",
            "zerolinecolor": "white"
           },
           "yaxis": {
            "backgroundcolor": "#E5ECF6",
            "gridcolor": "white",
            "gridwidth": 2,
            "linecolor": "white",
            "showbackground": true,
            "ticks": "",
            "zerolinecolor": "white"
           },
           "zaxis": {
            "backgroundcolor": "#E5ECF6",
            "gridcolor": "white",
            "gridwidth": 2,
            "linecolor": "white",
            "showbackground": true,
            "ticks": "",
            "zerolinecolor": "white"
           }
          },
          "shapedefaults": {
           "line": {
            "color": "#2a3f5f"
           }
          },
          "ternary": {
           "aaxis": {
            "gridcolor": "white",
            "linecolor": "white",
            "ticks": ""
           },
           "baxis": {
            "gridcolor": "white",
            "linecolor": "white",
            "ticks": ""
           },
           "bgcolor": "#E5ECF6",
           "caxis": {
            "gridcolor": "white",
            "linecolor": "white",
            "ticks": ""
           }
          },
          "title": {
           "x": 0.05
          },
          "xaxis": {
           "automargin": true,
           "gridcolor": "white",
           "linecolor": "white",
           "ticks": "",
           "title": {
            "standoff": 15
           },
           "zerolinecolor": "white",
           "zerolinewidth": 2
          },
          "yaxis": {
           "automargin": true,
           "gridcolor": "white",
           "linecolor": "white",
           "ticks": "",
           "title": {
            "standoff": 15
           },
           "zerolinecolor": "white",
           "zerolinewidth": 2
          }
         }
        },
        "xaxis": {
         "anchor": "y",
         "domain": [
          0,
          1
         ],
         "title": {
          "text": "x"
         }
        },
        "yaxis": {
         "anchor": "x",
         "domain": [
          0,
          1
         ],
         "title": {
          "text": "y"
         }
        }
       }
      },
      "text/html": [
       "<div>                            <div id=\"c7fec98f-5132-4116-b512-1f4a99be7211\" class=\"plotly-graph-div\" style=\"height:525px; width:100%;\"></div>            <script type=\"text/javascript\">                require([\"plotly\"], function(Plotly) {                    window.PLOTLYENV=window.PLOTLYENV || {};                                    if (document.getElementById(\"c7fec98f-5132-4116-b512-1f4a99be7211\")) {                    Plotly.newPlot(                        \"c7fec98f-5132-4116-b512-1f4a99be7211\",                        [{\"hovertemplate\": \"x=%{x}<br>y=%{y}<extra></extra>\", \"legendgroup\": \"\", \"line\": {\"color\": \"#636efa\", \"dash\": \"solid\"}, \"mode\": \"lines\", \"name\": \"\", \"orientation\": \"v\", \"showlegend\": false, \"type\": \"scatter\", \"x\": [2007, 2008, 2009, 2010, 2011, 2012, 2013, 2014, 2015, 2016, 2017, 2018, 2019, 2020], \"xaxis\": \"x\", \"y\": [5.418, 5.419, 5.458, 5.497, 5.424, 5.444, 5.395, 5.389, 5.404, 5.399, 5.46, 5.499, 5.571, 5.841], \"yaxis\": \"y\"}],                        {\"legend\": {\"tracegroupgap\": 0}, \"margin\": {\"t\": 60}, \"template\": {\"data\": {\"bar\": [{\"error_x\": {\"color\": \"#2a3f5f\"}, \"error_y\": {\"color\": \"#2a3f5f\"}, \"marker\": {\"line\": {\"color\": \"#E5ECF6\", \"width\": 0.5}}, \"type\": \"bar\"}], \"barpolar\": [{\"marker\": {\"line\": {\"color\": \"#E5ECF6\", \"width\": 0.5}}, \"type\": \"barpolar\"}], \"carpet\": [{\"aaxis\": {\"endlinecolor\": \"#2a3f5f\", \"gridcolor\": \"white\", \"linecolor\": \"white\", \"minorgridcolor\": \"white\", \"startlinecolor\": \"#2a3f5f\"}, \"baxis\": {\"endlinecolor\": \"#2a3f5f\", \"gridcolor\": \"white\", \"linecolor\": \"white\", \"minorgridcolor\": \"white\", \"startlinecolor\": \"#2a3f5f\"}, \"type\": \"carpet\"}], \"choropleth\": [{\"colorbar\": {\"outlinewidth\": 0, \"ticks\": \"\"}, \"type\": \"choropleth\"}], \"contour\": [{\"colorbar\": {\"outlinewidth\": 0, \"ticks\": \"\"}, \"colorscale\": [[0.0, \"#0d0887\"], [0.1111111111111111, \"#46039f\"], [0.2222222222222222, \"#7201a8\"], [0.3333333333333333, \"#9c179e\"], [0.4444444444444444, \"#bd3786\"], [0.5555555555555556, \"#d8576b\"], [0.6666666666666666, \"#ed7953\"], [0.7777777777777778, \"#fb9f3a\"], [0.8888888888888888, \"#fdca26\"], [1.0, \"#f0f921\"]], \"type\": \"contour\"}], \"contourcarpet\": [{\"colorbar\": {\"outlinewidth\": 0, \"ticks\": \"\"}, \"type\": \"contourcarpet\"}], \"heatmap\": [{\"colorbar\": {\"outlinewidth\": 0, \"ticks\": \"\"}, \"colorscale\": [[0.0, \"#0d0887\"], [0.1111111111111111, \"#46039f\"], [0.2222222222222222, \"#7201a8\"], [0.3333333333333333, \"#9c179e\"], [0.4444444444444444, \"#bd3786\"], [0.5555555555555556, \"#d8576b\"], [0.6666666666666666, \"#ed7953\"], [0.7777777777777778, \"#fb9f3a\"], [0.8888888888888888, \"#fdca26\"], [1.0, \"#f0f921\"]], \"type\": \"heatmap\"}], \"heatmapgl\": [{\"colorbar\": {\"outlinewidth\": 0, \"ticks\": \"\"}, \"colorscale\": [[0.0, \"#0d0887\"], [0.1111111111111111, \"#46039f\"], [0.2222222222222222, \"#7201a8\"], [0.3333333333333333, \"#9c179e\"], [0.4444444444444444, \"#bd3786\"], [0.5555555555555556, \"#d8576b\"], [0.6666666666666666, \"#ed7953\"], [0.7777777777777778, \"#fb9f3a\"], [0.8888888888888888, \"#fdca26\"], [1.0, \"#f0f921\"]], \"type\": \"heatmapgl\"}], \"histogram\": [{\"marker\": {\"colorbar\": {\"outlinewidth\": 0, \"ticks\": \"\"}}, \"type\": \"histogram\"}], \"histogram2d\": [{\"colorbar\": {\"outlinewidth\": 0, \"ticks\": \"\"}, \"colorscale\": [[0.0, \"#0d0887\"], [0.1111111111111111, \"#46039f\"], [0.2222222222222222, \"#7201a8\"], [0.3333333333333333, \"#9c179e\"], [0.4444444444444444, \"#bd3786\"], [0.5555555555555556, \"#d8576b\"], [0.6666666666666666, \"#ed7953\"], [0.7777777777777778, \"#fb9f3a\"], [0.8888888888888888, \"#fdca26\"], [1.0, \"#f0f921\"]], \"type\": \"histogram2d\"}], \"histogram2dcontour\": [{\"colorbar\": {\"outlinewidth\": 0, \"ticks\": \"\"}, \"colorscale\": [[0.0, \"#0d0887\"], [0.1111111111111111, \"#46039f\"], [0.2222222222222222, \"#7201a8\"], [0.3333333333333333, \"#9c179e\"], [0.4444444444444444, \"#bd3786\"], [0.5555555555555556, \"#d8576b\"], [0.6666666666666666, \"#ed7953\"], [0.7777777777777778, \"#fb9f3a\"], [0.8888888888888888, \"#fdca26\"], [1.0, \"#f0f921\"]], \"type\": \"histogram2dcontour\"}], \"mesh3d\": [{\"colorbar\": {\"outlinewidth\": 0, \"ticks\": \"\"}, \"type\": \"mesh3d\"}], \"parcoords\": [{\"line\": {\"colorbar\": {\"outlinewidth\": 0, \"ticks\": \"\"}}, \"type\": \"parcoords\"}], \"pie\": [{\"automargin\": true, \"type\": \"pie\"}], \"scatter\": [{\"marker\": {\"colorbar\": {\"outlinewidth\": 0, \"ticks\": \"\"}}, \"type\": \"scatter\"}], \"scatter3d\": [{\"line\": {\"colorbar\": {\"outlinewidth\": 0, \"ticks\": \"\"}}, \"marker\": {\"colorbar\": {\"outlinewidth\": 0, \"ticks\": \"\"}}, \"type\": \"scatter3d\"}], \"scattercarpet\": [{\"marker\": {\"colorbar\": {\"outlinewidth\": 0, \"ticks\": \"\"}}, \"type\": \"scattercarpet\"}], \"scattergeo\": [{\"marker\": {\"colorbar\": {\"outlinewidth\": 0, \"ticks\": \"\"}}, \"type\": \"scattergeo\"}], \"scattergl\": [{\"marker\": {\"colorbar\": {\"outlinewidth\": 0, \"ticks\": \"\"}}, \"type\": \"scattergl\"}], \"scattermapbox\": [{\"marker\": {\"colorbar\": {\"outlinewidth\": 0, \"ticks\": \"\"}}, \"type\": \"scattermapbox\"}], \"scatterpolar\": [{\"marker\": {\"colorbar\": {\"outlinewidth\": 0, \"ticks\": \"\"}}, \"type\": \"scatterpolar\"}], \"scatterpolargl\": [{\"marker\": {\"colorbar\": {\"outlinewidth\": 0, \"ticks\": \"\"}}, \"type\": \"scatterpolargl\"}], \"scatterternary\": [{\"marker\": {\"colorbar\": {\"outlinewidth\": 0, \"ticks\": \"\"}}, \"type\": \"scatterternary\"}], \"surface\": [{\"colorbar\": {\"outlinewidth\": 0, \"ticks\": \"\"}, \"colorscale\": [[0.0, \"#0d0887\"], [0.1111111111111111, \"#46039f\"], [0.2222222222222222, \"#7201a8\"], [0.3333333333333333, \"#9c179e\"], [0.4444444444444444, \"#bd3786\"], [0.5555555555555556, \"#d8576b\"], [0.6666666666666666, \"#ed7953\"], [0.7777777777777778, \"#fb9f3a\"], [0.8888888888888888, \"#fdca26\"], [1.0, \"#f0f921\"]], \"type\": \"surface\"}], \"table\": [{\"cells\": {\"fill\": {\"color\": \"#EBF0F8\"}, \"line\": {\"color\": \"white\"}}, \"header\": {\"fill\": {\"color\": \"#C8D4E3\"}, \"line\": {\"color\": \"white\"}}, \"type\": \"table\"}]}, \"layout\": {\"annotationdefaults\": {\"arrowcolor\": \"#2a3f5f\", \"arrowhead\": 0, \"arrowwidth\": 1}, \"autotypenumbers\": \"strict\", \"coloraxis\": {\"colorbar\": {\"outlinewidth\": 0, \"ticks\": \"\"}}, \"colorscale\": {\"diverging\": [[0, \"#8e0152\"], [0.1, \"#c51b7d\"], [0.2, \"#de77ae\"], [0.3, \"#f1b6da\"], [0.4, \"#fde0ef\"], [0.5, \"#f7f7f7\"], [0.6, \"#e6f5d0\"], [0.7, \"#b8e186\"], [0.8, \"#7fbc41\"], [0.9, \"#4d9221\"], [1, \"#276419\"]], \"sequential\": [[0.0, \"#0d0887\"], [0.1111111111111111, \"#46039f\"], [0.2222222222222222, \"#7201a8\"], [0.3333333333333333, \"#9c179e\"], [0.4444444444444444, \"#bd3786\"], [0.5555555555555556, \"#d8576b\"], [0.6666666666666666, \"#ed7953\"], [0.7777777777777778, \"#fb9f3a\"], [0.8888888888888888, \"#fdca26\"], [1.0, \"#f0f921\"]], \"sequentialminus\": [[0.0, \"#0d0887\"], [0.1111111111111111, \"#46039f\"], [0.2222222222222222, \"#7201a8\"], [0.3333333333333333, \"#9c179e\"], [0.4444444444444444, \"#bd3786\"], [0.5555555555555556, \"#d8576b\"], [0.6666666666666666, \"#ed7953\"], [0.7777777777777778, \"#fb9f3a\"], [0.8888888888888888, \"#fdca26\"], [1.0, \"#f0f921\"]]}, \"colorway\": [\"#636efa\", \"#EF553B\", \"#00cc96\", \"#ab63fa\", \"#FFA15A\", \"#19d3f3\", \"#FF6692\", \"#B6E880\", \"#FF97FF\", \"#FECB52\"], \"font\": {\"color\": \"#2a3f5f\"}, \"geo\": {\"bgcolor\": \"white\", \"lakecolor\": \"white\", \"landcolor\": \"#E5ECF6\", \"showlakes\": true, \"showland\": true, \"subunitcolor\": \"white\"}, \"hoverlabel\": {\"align\": \"left\"}, \"hovermode\": \"closest\", \"mapbox\": {\"style\": \"light\"}, \"paper_bgcolor\": \"white\", \"plot_bgcolor\": \"#E5ECF6\", \"polar\": {\"angularaxis\": {\"gridcolor\": \"white\", \"linecolor\": \"white\", \"ticks\": \"\"}, \"bgcolor\": \"#E5ECF6\", \"radialaxis\": {\"gridcolor\": \"white\", \"linecolor\": \"white\", \"ticks\": \"\"}}, \"scene\": {\"xaxis\": {\"backgroundcolor\": \"#E5ECF6\", \"gridcolor\": \"white\", \"gridwidth\": 2, \"linecolor\": \"white\", \"showbackground\": true, \"ticks\": \"\", \"zerolinecolor\": \"white\"}, \"yaxis\": {\"backgroundcolor\": \"#E5ECF6\", \"gridcolor\": \"white\", \"gridwidth\": 2, \"linecolor\": \"white\", \"showbackground\": true, \"ticks\": \"\", \"zerolinecolor\": \"white\"}, \"zaxis\": {\"backgroundcolor\": \"#E5ECF6\", \"gridcolor\": \"white\", \"gridwidth\": 2, \"linecolor\": \"white\", \"showbackground\": true, \"ticks\": \"\", \"zerolinecolor\": \"white\"}}, \"shapedefaults\": {\"line\": {\"color\": \"#2a3f5f\"}}, \"ternary\": {\"aaxis\": {\"gridcolor\": \"white\", \"linecolor\": \"white\", \"ticks\": \"\"}, \"baxis\": {\"gridcolor\": \"white\", \"linecolor\": \"white\", \"ticks\": \"\"}, \"bgcolor\": \"#E5ECF6\", \"caxis\": {\"gridcolor\": \"white\", \"linecolor\": \"white\", \"ticks\": \"\"}}, \"title\": {\"x\": 0.05}, \"xaxis\": {\"automargin\": true, \"gridcolor\": \"white\", \"linecolor\": \"white\", \"ticks\": \"\", \"title\": {\"standoff\": 15}, \"zerolinecolor\": \"white\", \"zerolinewidth\": 2}, \"yaxis\": {\"automargin\": true, \"gridcolor\": \"white\", \"linecolor\": \"white\", \"ticks\": \"\", \"title\": {\"standoff\": 15}, \"zerolinecolor\": \"white\", \"zerolinewidth\": 2}}}, \"xaxis\": {\"anchor\": \"y\", \"domain\": [0.0, 1.0], \"title\": {\"text\": \"x\"}}, \"yaxis\": {\"anchor\": \"x\", \"domain\": [0.0, 1.0], \"title\": {\"text\": \"y\"}}},                        {\"responsive\": true}                    ).then(function(){\n",
       "                            \n",
       "var gd = document.getElementById('c7fec98f-5132-4116-b512-1f4a99be7211');\n",
       "var x = new MutationObserver(function (mutations, observer) {{\n",
       "        var display = window.getComputedStyle(gd).display;\n",
       "        if (!display || display === 'none') {{\n",
       "            console.log([gd, 'removed!']);\n",
       "            Plotly.purge(gd);\n",
       "            observer.disconnect();\n",
       "        }}\n",
       "}});\n",
       "\n",
       "// Listen for the removal of the full notebook cells\n",
       "var notebookContainer = gd.closest('#notebook-container');\n",
       "if (notebookContainer) {{\n",
       "    x.observe(notebookContainer, {childList: true});\n",
       "}}\n",
       "\n",
       "// Listen for the clearing of the current output cell\n",
       "var outputEl = gd.closest('.output');\n",
       "if (outputEl) {{\n",
       "    x.observe(outputEl, {childList: true});\n",
       "}}\n",
       "\n",
       "                        })                };                });            </script>        </div>"
      ]
     },
     "metadata": {},
     "output_type": "display_data"
    }
   ],
   "source": [
    "px.line(x=[2007,2008,2009,2010,2011,2012,2013,2014,2015,2016,2017,2018,2019,2020], y=average_happiness)"
   ]
  }
 ],
 "metadata": {
  "kernelspec": {
   "display_name": "Python 3",
   "language": "python",
   "name": "python3"
  },
  "language_info": {
   "codemirror_mode": {
    "name": "ipython",
    "version": 3
   },
   "file_extension": ".py",
   "mimetype": "text/x-python",
   "name": "python",
   "nbconvert_exporter": "python",
   "pygments_lexer": "ipython3",
   "version": "3.8.5"
  }
 },
 "nbformat": 4,
 "nbformat_minor": 4
}
